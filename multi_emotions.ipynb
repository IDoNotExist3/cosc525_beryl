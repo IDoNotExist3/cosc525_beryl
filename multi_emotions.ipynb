{
 "cells": [
  {
   "cell_type": "markdown",
   "metadata": {},
   "source": [
    "Packages, setup, and helper functions"
   ]
  },
  {
   "cell_type": "code",
   "execution_count": 1,
   "metadata": {},
   "outputs": [],
   "source": [
    "import os \n",
    "import time\n",
    "import copy\n",
    "import h5py\n",
    "import glob\n",
    "import scipy\n",
    "import random\n",
    "import itertools\n",
    "import numpy as np\n",
    "import pandas as pd\n",
    "from tqdm import tqdm\n",
    "from numpy.random import Generator, PCG64DXSM\n",
    "import matplotlib.pyplot as plt\n",
    "from PIL import Image, ImageOps\n",
    "from scipy import ndimage\n",
    "import math\n",
    "import itertools\n",
    "import torch\n",
    "import torchvision as tv\n",
    "import torchvision.transforms as transforms\n",
    "from torch.utils.data import Dataset, DataLoader, random_split, Subset\n",
    "#import tensorflow as tf\n",
    "import torch.nn as nn\n",
    "import torch.nn.functional as F\n",
    "import torch.optim as optim\n",
    "from skimage import io, transform\n",
    "import pylab as pl\n",
    "from IPython import display\n",
    "from copy import deepcopy\n",
    "import optuna\n",
    "\n",
    "# Using PCG64 as random generator\n",
    "# Place seed [optional] for troubleshooting\n",
    "rng = Generator(PCG64DXSM(seed=21))\n",
    "\n",
    "# matplotlib general set up\n",
    "%matplotlib inline\n",
    "plt.rcParams['image.interpolation'] = 'nearest'\n",
    "plt.rcParams['image.cmap'] = 'gray'\n"
   ]
  },
  {
   "cell_type": "markdown",
   "metadata": {},
   "source": [
    "Dataset Preprocessing"
   ]
  },
  {
   "cell_type": "code",
   "execution_count": 2,
   "metadata": {},
   "outputs": [],
   "source": [
    "class FaceDataset(Dataset):\n",
    "    \"\"\"Emotions with Two Classes dataset.\"\"\"\n",
    "\n",
    "    def __init__(self, data, targets, classes, transform=None):\n",
    "        \"\"\"\n",
    "        Arguments:\n",
    "            data (numpy array): CIFAR10 Dataset in numpy array\n",
    "            targets (numpy array): Labels for samples in data\n",
    "            keep_classes (numpy array): Index of classes to keep. This array is of length 2.\n",
    "            classes: Two strings with the names of classes in keep_classes.\n",
    "            transform (callable, optional): Optional transforms to be applied\n",
    "                on a samples. This is applied during sampling (i.e., __getitem__())\n",
    "        \"\"\"\n",
    "        self.filter_dataset(data, targets, [0, 1])\n",
    "        # self.data = data\n",
    "        # self.targets = targets\n",
    "        self.transform = transform\n",
    "        self.classes = classes\n",
    "\n",
    "\n",
    "    def __len__(self):\n",
    "        \"\"\"\n",
    "        Get the number of samples in dataset\n",
    "        \"\"\"\n",
    "        return self.targets.shape[1]\n",
    "\n",
    "\n",
    "    def __getitem__(self, idx):\n",
    "        \"\"\"\n",
    "        Get a sample from the dataset\n",
    "        \"\"\"\n",
    "        if torch.is_tensor(idx):\n",
    "            idx = idx.tolist()\n",
    "\n",
    "        image = self.data[idx,...]\n",
    "        target = self.targets[:, idx]\n",
    "        sample = {'image': image, 'target': target}\n",
    "        print(type(sample['image']))\n",
    "        print(type(sample['target']))\n",
    "        if self.transform:\n",
    "            sample = self.transform(sample)\n",
    "        return sample\n",
    "    \n",
    "    \n",
    "    def get_classes(self):\n",
    "        \"\"\"\n",
    "        Returns string names for classes stored in this class.\n",
    "        \"\"\"\n",
    "        return self.classes\n",
    "    \n",
    "    \n",
    "    def class_to_idx(self, class_str):\n",
    "        \"\"\"\n",
    "        Returns the index of the input class name.\n",
    "        \"\"\"\n",
    "        try:\n",
    "            index = self.classes.index(class_str)\n",
    "        except ValueError:\n",
    "            print(f\"'{class_str}' is not in the list.\")\n",
    "            print(f\"Your options are: <<{self.classes}>>.\")\n",
    "        return index\n",
    "    \n",
    "\n",
    "    def show_image(self, sample_idx, cmap):\n",
    "        \"\"\"\n",
    "        Displays image at position sample_idx and its label.\n",
    "        \"\"\"\n",
    "        \n",
    "        image = self.data[sample_idx,...]\n",
    "        label = self.targets[:, sample_idx]\n",
    "        pl.cla()\n",
    "        pl.imshow(image, cmap=cmap)\n",
    "        pl.text(image.shape[1]*0.7, image.shape[0]*0.8, str(np.squeeze(label)), c='r')\n",
    "        display.clear_output(wait=True)\n",
    "        display.display(pl.gcf())\n",
    "\n",
    "\n",
    "    def filter_dataset(self, data, targets, keepLabels):\n",
    "        \"\"\"\n",
    "            Generate a new list of images and binary targets from original dataset.\n",
    "        \"\"\"\n",
    "    \n",
    "        # Throw error if keepLabels is not length 2\n",
    "        assert len(keepLabels) == 2\n",
    "\n",
    "        #ensure keepLabels and targets are numpy arrays\n",
    "        keepLabels = np.array(keepLabels)\n",
    "        targets = np.array(targets)\n",
    "\n",
    "        # Get indexes of desired classes samples\n",
    "        mask_idx = np.where(np.isin(targets, keepLabels))[0]\n",
    "        print(mask_idx)\n",
    "        \n",
    "        # how many samples for keep classes do we have\n",
    "        m = mask_idx.size\n",
    "        print(f\"M is {m}\")\n",
    "    \n",
    "        #empty list of tensors\n",
    "        self.data = np.ndarray(np.concatenate(([m], data.shape[1:])))\n",
    "        self.targets = np.ndarray([1, m])\n",
    "        print(mask_idx.shape)\n",
    "        print(type(mask_idx))\n",
    "        print(f\"Shapes of data and targets: {self.data.shape}/{self.targets.shape}\")\n",
    "        for i in range(mask_idx.size):\n",
    "\n",
    "            # save new image\n",
    "            self.data[i,...] = np.copy(data[mask_idx[i],...])\n",
    "\n",
    "            #create correct target\n",
    "            if (targets[:,mask_idx[i]] == keepLabels[0]):\n",
    "                self.targets[:,i] = 0\n",
    "            else:\n",
    "                self.targets[:,i] = 1"
   ]
  },
  {
   "cell_type": "code",
   "execution_count": 87,
   "metadata": {},
   "outputs": [],
   "source": [
    "data_path = \"./data\"\n",
    "\n",
    "trans = transforms.Compose([\n",
    "  transforms.Resize([64,64]),  \n",
    "  transforms.Grayscale(),\n",
    "  transforms.RandomHorizontalFlip(),\n",
    "  transforms.RandomRotation(10),\n",
    "  transforms.ToTensor(),\n",
    "  transforms.Normalize((0.5,), (0.5,))])\n",
    "batch_size = 16"
   ]
  },
  {
   "cell_type": "code",
   "execution_count": 88,
   "metadata": {},
   "outputs": [
    {
     "name": "stdout",
     "output_type": "stream",
     "text": [
      "<class 'torchvision.datasets.folder.ImageFolder'>\n",
      "94 218\n",
      "['anger', 'fear', 'happiness', 'sadness', 'surprise']\n",
      "5\n"
     ]
    }
   ],
   "source": [
    "data = tv.datasets.ImageFolder(root=data_path, transform=trans)\n",
    "print(type(data))\n",
    "\n",
    "\n",
    "\n",
    "splits = random_split(data, [0.3, 0.7])\n",
    "\n",
    "print(len(splits[0]), len(splits[1]))\n",
    "print(data.classes)\n",
    "print(len(data.classes))\n"
   ]
  },
  {
   "cell_type": "code",
   "execution_count": 89,
   "metadata": {},
   "outputs": [
    {
     "name": "stdout",
     "output_type": "stream",
     "text": [
      "<class 'torch.utils.data.dataset.Subset'>\n",
      "<class 'tuple'>\n",
      "<class 'torch.Tensor'>\n",
      "<class 'int'>\n"
     ]
    },
    {
     "data": {
      "image/png": "[encoded data removed]",
      "text/plain": [
       "<Figure size 640x480 with 1 Axes>"
      ]
     },
     "metadata": {},
     "output_type": "display_data"
    }
   ],
   "source": [
    "print(type(splits[0]))\n",
    "print(type(data[0]))\n",
    "print(type(data[0][0]))\n",
    "print(type(data[0][1]))\n",
    "# arr = np.ndarray(data[0][0])#This is your tensor\n",
    "arr_ = np.squeeze(data[0][0]) # you can give axis attribute if you wanna squeeze in specific dimension\n",
    "plt.imshow(arr_)\n",
    "plt.show()"
   ]
  },
  {
   "cell_type": "code",
   "execution_count": 90,
   "metadata": {},
   "outputs": [
    {
     "name": "stdout",
     "output_type": "stream",
     "text": [
      "218\n",
      "<torch.utils.data.dataset.Subset object at 0x7f517b2b25d0>\n",
      "(tensor([[[-1.0000, -1.0000, -1.0000,  ...,  0.9922, -1.0000, -1.0000],\n",
      "         [-1.0000,  0.9922,  0.9922,  ...,  0.9922,  0.9922, -1.0000],\n",
      "         [ 0.9922,  0.9922,  0.9922,  ...,  0.9922,  0.9922, -1.0000],\n",
      "         ...,\n",
      "         [-1.0000,  0.9922,  0.9922,  ...,  0.9922,  0.9922,  0.9922],\n",
      "         [-1.0000,  0.9922,  0.9922,  ...,  0.9922,  0.9922, -1.0000],\n",
      "         [-1.0000, -1.0000,  0.9922,  ..., -1.0000, -1.0000, -1.0000]]]), 3)\n"
     ]
    }
   ],
   "source": [
    "# Define a batch size\n",
    "batch_size = 1\n",
    "\n",
    "# Create iterators for dataset\n",
    "train_loader = torch.utils.data.DataLoader(dataset=splits[1], shuffle=True, num_workers=0,\n",
    "                                           batch_size=batch_size, drop_last=True)\n",
    "val_loader = torch.utils.data.DataLoader(dataset=splits[0], shuffle=True, num_workers=0,\n",
    "                                           batch_size=1, drop_last=True)\n",
    "print(len(train_loader))\n",
    "print(train_loader.dataset)\n",
    "print(train_loader.dataset[2])\n",
    "# print(train_loader.clas)\n"
   ]
  },
  {
   "cell_type": "markdown",
   "metadata": {},
   "source": [
    "Convolutional Network Without Dropout"
   ]
  },
  {
   "cell_type": "code",
   "execution_count": 91,
   "metadata": {},
   "outputs": [
    {
     "name": "stdout",
     "output_type": "stream",
     "text": [
      "ConvNetWithoutDropout(\n",
      "  (conv1): Conv2d(1, 6, kernel_size=(3, 3), stride=(1, 1), padding=(1, 1))\n",
      "  (conv2): Conv2d(6, 16, kernel_size=(3, 3), stride=(1, 1), padding=(1, 1))\n",
      "  (fc1): Linear(in_features=4096, out_features=128, bias=True)\n",
      "  (fc2): Linear(in_features=128, out_features=64, bias=True)\n",
      "  (fc3): Linear(in_features=64, out_features=5, bias=True)\n",
      ")\n"
     ]
    }
   ],
   "source": [
    "class ConvNetWithoutDropout(nn.Module):\n",
    "\n",
    "  # define network layers\n",
    "  def __init__(self, class_len):\n",
    "    super().__init__()\n",
    "    # 1 input image channel, 6 output channels, 5x5 square convolution\n",
    "    # kernel\n",
    "    self.conv1 = nn.Conv2d(1, 6, 3, padding=1)\n",
    "    self.conv2 = nn.Conv2d(6, 16, 3, padding=1)\n",
    "    # an affine operation: y = Wx + b\n",
    "    self.fc1 = nn.Linear(4096, 128)  # 5*5 from image dimension\n",
    "    self.fc2 = nn.Linear(128, 64)\n",
    "    self.fc3 = nn.Linear(64, class_len)\n",
    "\n",
    "\n",
    "  # define forward pass\n",
    "  def forward(self, x):\n",
    "    # Max pooling over a (2, 2) window\n",
    "    x = F.max_pool2d(F.relu(self.conv1(x)), (2, 2))\n",
    "    # If the size is a square, you can specify with a single number\n",
    "    x = F.max_pool2d(F.relu(self.conv2(x)), 2)\n",
    "    x = torch.flatten(x, 1) # flatten all dimensions except the batch dimension\n",
    "    x = F.relu(self.fc1(x))\n",
    "    x = F.relu(self.fc2(x))\n",
    "    x = self.fc3(x)\n",
    "    return x\n",
    "\n",
    "#################################################\n",
    "## Create network\n",
    "model = ConvNetWithoutDropout(len(data.classes))\n",
    "#Print model architecture\n",
    "print(model)"
   ]
  },
  {
   "cell_type": "code",
   "execution_count": 92,
   "metadata": {},
   "outputs": [
    {
     "name": "stderr",
     "output_type": "stream",
     "text": [
      "/tmp/ipykernel_3111/1099974826.py:5: UserWarning: nn.init.xavier_uniform is now deprecated in favor of nn.init.xavier_uniform_.\n",
      "  torch.nn.init.xavier_uniform(m.weight)\n"
     ]
    },
    {
     "data": {
      "text/plain": [
       "ConvNetWithoutDropout(\n",
       "  (conv1): Conv2d(1, 6, kernel_size=(3, 3), stride=(1, 1), padding=(1, 1))\n",
       "  (conv2): Conv2d(6, 16, kernel_size=(3, 3), stride=(1, 1), padding=(1, 1))\n",
       "  (fc1): Linear(in_features=4096, out_features=128, bias=True)\n",
       "  (fc2): Linear(in_features=128, out_features=64, bias=True)\n",
       "  (fc3): Linear(in_features=64, out_features=5, bias=True)\n",
       ")"
      ]
     },
     "execution_count": 92,
     "metadata": {},
     "output_type": "execute_result"
    }
   ],
   "source": [
    "#################################################\n",
    "# Weight initialization\n",
    "def init_weights(m):\n",
    "    if isinstance(m, nn.Linear):\n",
    "        torch.nn.init.xavier_uniform(m.weight)\n",
    "        m.bias.data.fill_(0.00)\n",
    "\n",
    "\n",
    "# Initialize model weights and biases\n",
    "model.apply(init_weights)"
   ]
  },
  {
   "cell_type": "code",
   "execution_count": 93,
   "metadata": {},
   "outputs": [],
   "source": [
    "# Functions to train and troubleshoot the model\n",
    "\n",
    "def get_accuracy(net, data_loader):\n",
    "  \"\"\"It iterates over `data_loader` to calculate accuracy\"\"\"\n",
    "  total_correct = 0.0\n",
    "  total_samples = 0.0\n",
    "  with torch.no_grad():\n",
    "    for i_batch, sample_batched in enumerate(data_loader):\n",
    "      # data and labels\n",
    "      inputs, labels = sample_batched[0], sample_batched[1]\n",
    "      \n",
    "      labels = np.array(labels)\n",
    "      outputs = net(inputs.float())\n",
    "      predictions = np.array(torch.argmax(outputs.round(), dim=1))\n",
    "      # print(labels.shape)\n",
    "      # print(predictions.shape)\n",
    "      # calculate the accuracy for this batch\n",
    "      total_correct += (predictions == labels).astype(float).sum().item()\n",
    "      total_samples += predictions.shape[0]\n",
    "  # calculate the accuracy\n",
    "  return total_correct / total_samples\n",
    "\n",
    "def get_val_loss(net, criterion, data_loader):\n",
    "  \"\"\"It iterates over `data_loader` to calculate the overall loss\"\"\"\n",
    "  testing_loss = []\n",
    "  with torch.no_grad():\n",
    "    for i_batch, sample_batched in enumerate(data_loader):\n",
    "      # data and labels\n",
    "      inputs, labels = sample_batched[0], sample_batched[1]\n",
    "\n",
    "     # inputs, labels = inputs.to(device), labels.to(device)\n",
    "      outputs = net(inputs.float())\n",
    "      # calculate the loss for this batch\n",
    "      loss = criterion(outputs, labels)\n",
    "      # add the loss of this batch to the list\n",
    "      testing_loss.append(loss.item())\n",
    "  # calculate the average loss\n",
    "  return sum(testing_loss) / len(testing_loss)"
   ]
  },
  {
   "cell_type": "code",
   "execution_count": 94,
   "metadata": {},
   "outputs": [],
   "source": [
    "def train_model(train_loader, val_loader, model, criterion, optimizer, start_epoch=0, start_tr_loss=None, start_val_loss=None, \n",
    "                Num_Epochs=100, checkpoint_interval=50, run_name=\"default\", save=False):\n",
    "  \"\"\"\n",
    "  This routine receives a model architecture, a dataset with corresponding labels and other configurations for supervised training of model.\n",
    "\n",
    "  Parameters:\n",
    "    train_loader -- iterable object with data samples created using torch.utils.data.DataLoader.\n",
    "    val_loader -- iterable object with validation samples created using torch.utils.data.DataLoader.\n",
    "    model -- Valid Pytorch nn.Module network\n",
    "    criterion -- Loss function from PyTorch nn library\n",
    "    optimizer -- Optimization technique from PyTorch optim library\n",
    "    Num_epochs -- Number of times to go through the train_loader samples\n",
    "    start_epoch -- when resuming a previous run, this is the last epoch number performed.\n",
    "    start_tr_loss -- when resuming previous run, it add the loss history to current train run\n",
    "    start_val_loss -- same as with start_tr_loss but for validation set\n",
    "    checkpoint_interval -- After how many epochs to save and printout network progress.\n",
    "    run_name -- Prefix string used for checkpoint filename\n",
    "    save -- when True it will save checkpoints \n",
    "  \n",
    "  Returns:\n",
    "    model -- final model with its parameters\n",
    "    training_loss -- List with training loss for each epoch \n",
    "    val_loss -- List with validation loss for each epoch\n",
    "  \"\"\"\n",
    "\n",
    "  if(start_tr_loss):\n",
    "    training_loss, val_loss = start_tr_loss, start_val_loss\n",
    "  else:\n",
    "    training_loss, val_loss = [], []\n",
    "  running_loss = []\n",
    "  i = 0\n",
    "  for epoch in range(start_epoch, Num_Epochs):\n",
    "    for i_batch, sample_batched in enumerate(train_loader):\n",
    "\n",
    "      # data and labels\n",
    "      inputs, labels = sample_batched[0], sample_batched[1]\n",
    "\n",
    "      # resets all gradients for this mini-batch\n",
    "      optimizer.zero_grad()\n",
    "      # forward pass\n",
    "      # outputs = torch.softmax(model(inputs.float()), dim=1)\n",
    "      outputs = model(inputs.float())\n",
    "      # print(outputs)\n",
    "      # outputs = torch.softmax(outputs, dim=1)\n",
    "      # print(outputs)\n",
    "      # print(f\"Outputs shape are {outputs.shape}\")\n",
    "      # print(f\"Second shape is {torch.reshape(labels.float(), outputs.shape).shape}\")\n",
    "      # print(f\"Third shape is {labels.shape}\")\n",
    "      # print(labels)\n",
    "      # print(outputs)\n",
    "      loss = criterion(outputs, labels) # loss = criterion(outputs, torch.reshape(labels.float(), outputs.shape))\n",
    "\n",
    "      # backward pass\n",
    "      loss.backward()\n",
    "\n",
    "      # update parameters\n",
    "      optimizer.step()\n",
    "\n",
    "      # Save current loss for plots\n",
    "      running_loss.append(loss.item())\n",
    "      i += 1\n",
    "\n",
    "    #track progress\n",
    "    avg_train_loss = sum(running_loss) / len(running_loss)\n",
    "    avg_val_loss = get_val_loss(model, criterion, val_loader)\n",
    "\n",
    "    # clear the list\n",
    "    running_loss.clear()\n",
    "\n",
    "    #store loss\n",
    "    training_loss.append(avg_train_loss)\n",
    "    val_loss.append(avg_val_loss)\n",
    "\n",
    "    #print loss per epoch\n",
    "    if((epoch+1)%checkpoint_interval==0):\n",
    "      if(save):\n",
    "        torch.save({\n",
    "          'epoch': epoch,\n",
    "          'model_state_dict': model.state_dict(),\n",
    "          'optimizer_state_dict': optimizer.state_dict(),\n",
    "          'training_loss': training_loss,\n",
    "          'validation_loss': val_loss,\n",
    "        }, f'{run_name}_checkpoint_{epoch+1}.pt')\n",
    "      print(f\"[E={epoch:2d}] [it={i:5d}] Train Loss: {avg_train_loss:.3f}, Test Loss: {avg_val_loss:.3f}\")\n",
    "\n",
    "  #return model and losses from training\n",
    "  return model, training_loss, val_loss\n"
   ]
  },
  {
   "cell_type": "code",
   "execution_count": 70,
   "metadata": {},
   "outputs": [
    {
     "name": "stderr",
     "output_type": "stream",
     "text": [
      "/tmp/ipykernel_3111/1099974826.py:5: UserWarning: nn.init.xavier_uniform is now deprecated in favor of nn.init.xavier_uniform_.\n",
      "  torch.nn.init.xavier_uniform(m.weight)\n"
     ]
    },
    {
     "name": "stdout",
     "output_type": "stream",
     "text": [
      "[E= 9] [it= 2070] Train Loss: 1.354, Test Loss: 1.448\n",
      "[E=19] [it= 4140] Train Loss: 1.288, Test Loss: 1.577\n",
      "[E=29] [it= 6210] Train Loss: 1.209, Test Loss: 1.380\n",
      "[E=39] [it= 8280] Train Loss: 1.162, Test Loss: 1.394\n",
      "Accuracy: Train: 0.565 | Val: 0.344\n"
     ]
    },
    {
     "data": {
      "image/png": "[encoded data removed]",
      "text/plain": [
       "<Figure size 640x480 with 1 Axes>"
      ]
     },
     "metadata": {},
     "output_type": "display_data"
    }
   ],
   "source": [
    "run_name = \"sgd\"\n",
    "# How many epochs before saving progress\n",
    "checkpoint_interval = 10\n",
    "# Learning rate\n",
    "learning_rate = 0.005\n",
    "# L2 Normalization lambda\n",
    "weight_decay = 0.01\n",
    "# Momentum\n",
    "momentum = 0.9\n",
    "# Nesterov?\n",
    "nesterov = False\n",
    "\n",
    "# With a batch size of 64, need 198 epochs to get to 2,000 iterations\n",
    "Num_Epochs = 40\n",
    "# Num_Epochs = 40\n",
    "\n",
    "\n",
    "#################################################\n",
    "# Create network architecture\n",
    "model = ConvNetWithoutDropout(len(data.classes))\n",
    "\n",
    "# Initialize model weights\n",
    "model.apply(init_weights)\n",
    "\n",
    "## Loss, and optimizer\n",
    "criterion = nn.CrossEntropyLoss()\n",
    "# criterion = nn.CrossEntropyLoss()\n",
    "optimizer = optim.SGD(model.parameters(), lr=learning_rate, weight_decay=weight_decay, momentum=momentum, nesterov=nesterov)\n",
    "\n",
    "\n",
    "#################################################\n",
    "# Train model\n",
    "\n",
    "model_final, trainloss, valloss = train_model(train_loader=train_loader, val_loader=val_loader, model=model, save=False,\n",
    "                                           criterion=criterion, optimizer=optimizer, Num_Epochs=Num_Epochs, checkpoint_interval=checkpoint_interval, run_name=run_name)\n",
    "\n",
    "tr_acc = get_accuracy(net=model_final, data_loader=train_loader)\n",
    "val_acc = get_accuracy(net=model_final, data_loader=val_loader)\n",
    "print(f\"Accuracy: Train: {tr_acc:.3f} | Val: {val_acc:0.3f}\" )\n",
    "\n",
    "plt.figure()\n",
    "plt.plot(trainloss, '-b')\n",
    "plt.plot(valloss, '-r')\n",
    "plt.ioff()\n",
    "plt.ylabel('Loss')\n",
    "plt.xlabel(\"Epoch\")\n",
    "plt.legend([\"Training\", \"Validation\"])\n",
    "plt.title(f\"4 Layer Model\")\n",
    "plt.show()"
   ]
  },
  {
   "cell_type": "markdown",
   "metadata": {},
   "source": [
    "Regularization Testing"
   ]
  },
  {
   "cell_type": "code",
   "execution_count": 71,
   "metadata": {},
   "outputs": [
    {
     "name": "stderr",
     "output_type": "stream",
     "text": [
      "/tmp/ipykernel_3111/1099974826.py:5: UserWarning: nn.init.xavier_uniform is now deprecated in favor of nn.init.xavier_uniform_.\n",
      "  torch.nn.init.xavier_uniform(m.weight)\n"
     ]
    },
    {
     "name": "stdout",
     "output_type": "stream",
     "text": [
      "[E= 9] [it= 2070] Train Loss: 1.093, Test Loss: 1.314\n",
      "[E=19] [it= 4140] Train Loss: 0.685, Test Loss: 1.741\n",
      "[E=29] [it= 6210] Train Loss: 0.438, Test Loss: 2.429\n",
      "[E=39] [it= 8280] Train Loss: 0.218, Test Loss: 3.608\n",
      "Accuracy: Train: 0.889 | Val: 0.356\n",
      "[E= 9] [it= 2070] Train Loss: 1.097, Test Loss: 1.350\n",
      "[E=19] [it= 4140] Train Loss: 0.766, Test Loss: 1.796\n",
      "[E=29] [it= 6210] Train Loss: 0.351, Test Loss: 2.266\n",
      "[E=39] [it= 8280] Train Loss: 0.115, Test Loss: 2.756\n",
      "Accuracy: Train: 0.981 | Val: 0.467\n",
      "[E= 9] [it= 2070] Train Loss: 1.176, Test Loss: 1.376\n",
      "[E=19] [it= 4140] Train Loss: 0.858, Test Loss: 1.563\n",
      "[E=29] [it= 6210] Train Loss: 0.587, Test Loss: 1.623\n",
      "[E=39] [it= 8280] Train Loss: 0.328, Test Loss: 2.106\n",
      "Accuracy: Train: 0.899 | Val: 0.411\n",
      "[E= 9] [it= 2070] Train Loss: 1.315, Test Loss: 1.372\n",
      "[E=19] [it= 4140] Train Loss: 1.277, Test Loss: 1.385\n",
      "[E=29] [it= 6210] Train Loss: 1.260, Test Loss: 1.400\n",
      "[E=39] [it= 8280] Train Loss: 1.272, Test Loss: 1.353\n",
      "Accuracy: Train: 0.386 | Val: 0.389\n"
     ]
    }
   ],
   "source": [
    "# Run name\n",
    "run_name = \"sgd_w_mom\"\n",
    "\n",
    "##############################################\n",
    "# Hyperparameters and training configuration\n",
    "\n",
    "# How many epochs before saving progress\n",
    "checkpoint_interval = 10\n",
    "# Learning rate\n",
    "learning_rate = 0.0005\n",
    "# L2 Normalization lambda\n",
    "weight_decays = [0, 0.001, 0.01, 0.1]\n",
    "# Momentum\n",
    "momentum = 0.9\n",
    "# Nesterov?\n",
    "nesterov = False\n",
    "#Number of epochs\n",
    "Num_Epochs = 40\n",
    "\n",
    "\n",
    "# Define layer sizes\n",
    "#layer_size = [input_size, 2*input_size, input_size, input_size//2, 1]\n",
    "trainlosses = []\n",
    "vallosses = []\n",
    "for weight_decay in weight_decays:\n",
    "    #################################################\n",
    "    # Create network architecture\n",
    "    model = ConvNetWithoutDropout(len(data.classes))\n",
    "\n",
    "    # Initialize model weights\n",
    "    model.apply(init_weights)\n",
    "\n",
    "    ## Loss, and optimizer\n",
    "    criterion = nn.CrossEntropyLoss()\n",
    "    optimizer = optim.SGD(model.parameters(), lr=learning_rate, weight_decay=weight_decay, momentum=momentum, nesterov=nesterov)\n",
    "\n",
    "\n",
    "    #################################################\n",
    "    # Train model\n",
    "    model_final, trainloss, valloss = train_model(train_loader=train_loader, val_loader=val_loader, model=model, save=False,\n",
    "                                            criterion=criterion, optimizer=optimizer, Num_Epochs=Num_Epochs, checkpoint_interval=checkpoint_interval, run_name=run_name)\n",
    "\n",
    "    # Output model performance\n",
    "    tr_acc = get_accuracy(net=model_final, data_loader=train_loader)\n",
    "    val_acc = get_accuracy(net=model_final, data_loader=val_loader)\n",
    "    print(f\"Accuracy: Train: {tr_acc:.3f} | Val: {val_acc:0.3f}\" )\n",
    "    trainlosses.append(trainloss)\n",
    "    vallosses.append(valloss)\n",
    "    "
   ]
  },
  {
   "cell_type": "code",
   "execution_count": 72,
   "metadata": {},
   "outputs": [
    {
     "name": "stderr",
     "output_type": "stream",
     "text": [
      "/tmp/ipykernel_3111/1423120969.py:9: UserWarning: Legend does not support handles for str instances.\n",
      "A proxy artist may be used instead.\n",
      "See: https://matplotlib.org/stable/users/explain/axes/legend_guide.html#controlling-the-legend-entries\n",
      "  plt.legend(\"Training\", \"Validation\")\n"
     ]
    },
    {
     "data": {
      "image/png": "[encoded data removed]",
      "text/plain": [
       "<Figure size 640x480 with 1 Axes>"
      ]
     },
     "metadata": {},
     "output_type": "display_data"
    },
    {
     "data": {
      "image/png": "[encoded data removed]",
      "text/plain": [
       "<Figure size 640x480 with 1 Axes>"
      ]
     },
     "metadata": {},
     "output_type": "display_data"
    },
    {
     "data": {
      "image/png": "[encoded data removed]",
      "text/plain": [
       "<Figure size 640x480 with 1 Axes>"
      ]
     },
     "metadata": {},
     "output_type": "display_data"
    },
    {
     "data": {
      "image/png": "[encoded data removed]",
      "text/plain": [
       "<Figure size 640x480 with 1 Axes>"
      ]
     },
     "metadata": {},
     "output_type": "display_data"
    }
   ],
   "source": [
    "for trainloss, valloss, decay in zip(trainlosses, vallosses, weight_decays):\n",
    "# Plot training and validation loss\n",
    "    plt.figure()\n",
    "    plt.plot(trainloss, '-b')\n",
    "    plt.plot(valloss, '-r')\n",
    "    plt.ioff()\n",
    "    plt.ylabel('Loss')\n",
    "    plt.xlabel(\"Epoch\")\n",
    "    plt.legend(\"Training\", \"Validation\")\n",
    "    plt.title(f\"Weight decay of {decay}\")\n",
    "    plt.show()"
   ]
  },
  {
   "cell_type": "markdown",
   "metadata": {},
   "source": [
    "Optimization"
   ]
  },
  {
   "cell_type": "markdown",
   "metadata": {},
   "source": [
    "SGD with momentum"
   ]
  },
  {
   "cell_type": "code",
   "execution_count": 73,
   "metadata": {},
   "outputs": [
    {
     "name": "stderr",
     "output_type": "stream",
     "text": [
      "/tmp/ipykernel_3111/1099974826.py:5: UserWarning: nn.init.xavier_uniform is now deprecated in favor of nn.init.xavier_uniform_.\n",
      "  torch.nn.init.xavier_uniform(m.weight)\n"
     ]
    },
    {
     "name": "stdout",
     "output_type": "stream",
     "text": [
      "[E= 9] [it= 2070] Train Loss: 1.295, Test Loss: 1.367\n",
      "[E=19] [it= 4140] Train Loss: 1.173, Test Loss: 1.345\n",
      "[E=29] [it= 6210] Train Loss: 1.191, Test Loss: 1.394\n",
      "[E=39] [it= 8280] Train Loss: 0.983, Test Loss: 1.415\n",
      "Accuracy: Train: 0.662 | Val: 0.433\n"
     ]
    }
   ],
   "source": [
    "# How many epochs before saving progress\n",
    "checkpoint_interval = 10\n",
    "# Learning rate\n",
    "learning_rate = 0.005\n",
    "# L2 Normalization lambda\n",
    "weight_decay = 0.01\n",
    "# Momentum\n",
    "momentum = 0.9\n",
    "# Nesterov?\n",
    "nesterov = False\n",
    "\n",
    "# With a batch size of 64, need 198 epochs to get to 2,000 iterations\n",
    "Num_Epochs = 40\n",
    "\n",
    "\n",
    "#################################################\n",
    "# Create network architecture\n",
    "model = ConvNetWithoutDropout(len(data.classes))\n",
    "\n",
    "# Initialize model weights\n",
    "model.apply(init_weights)\n",
    "\n",
    "## Loss, and optimizer\n",
    "criterion = nn.CrossEntropyLoss()\n",
    "optimizer = optim.SGD(model.parameters(), lr=learning_rate, weight_decay=weight_decay, momentum=momentum, nesterov=nesterov)\n",
    "\n",
    "\n",
    "#################################################\n",
    "# Train model\n",
    "\n",
    "model_final, trainloss, valloss = train_model(train_loader=train_loader, val_loader=val_loader, model=model, save=False,\n",
    "                                           criterion=criterion, optimizer=optimizer, Num_Epochs=Num_Epochs, checkpoint_interval=checkpoint_interval, run_name=run_name)\n",
    "\n",
    "tr_acc = get_accuracy(net=model_final, data_loader=train_loader)\n",
    "val_acc = get_accuracy(net=model_final, data_loader=val_loader)\n",
    "print(f\"Accuracy: Train: {tr_acc:.3f} | Val: {val_acc:0.3f}\" )"
   ]
  },
  {
   "cell_type": "code",
   "execution_count": 74,
   "metadata": {},
   "outputs": [
    {
     "data": {
      "image/png": "[encoded data removed]",
      "text/plain": [
       "<Figure size 640x480 with 1 Axes>"
      ]
     },
     "metadata": {},
     "output_type": "display_data"
    }
   ],
   "source": [
    "plt.figure()\n",
    "plt.plot(trainloss, '-b')\n",
    "plt.plot(valloss, '-r')\n",
    "plt.ioff()\n",
    "plt.ylabel('Loss')\n",
    "plt.xlabel(\"Epoch\")\n",
    "plt.legend([\"Training\", \"Validation\"])\n",
    "plt.title(f\"SGD w/ Momentum\")\n",
    "plt.show()"
   ]
  },
  {
   "cell_type": "markdown",
   "metadata": {},
   "source": [
    "Nesterov"
   ]
  },
  {
   "cell_type": "code",
   "execution_count": 75,
   "metadata": {},
   "outputs": [],
   "source": [
    "nesterov = True"
   ]
  },
  {
   "cell_type": "code",
   "execution_count": 76,
   "metadata": {},
   "outputs": [
    {
     "name": "stderr",
     "output_type": "stream",
     "text": [
      "/tmp/ipykernel_3111/1099974826.py:5: UserWarning: nn.init.xavier_uniform is now deprecated in favor of nn.init.xavier_uniform_.\n",
      "  torch.nn.init.xavier_uniform(m.weight)\n"
     ]
    },
    {
     "name": "stdout",
     "output_type": "stream",
     "text": [
      "[E= 9] [it= 2070] Train Loss: 1.264, Test Loss: 1.399\n",
      "[E=19] [it= 4140] Train Loss: 1.291, Test Loss: 1.427\n",
      "[E=29] [it= 6210] Train Loss: 1.123, Test Loss: 1.479\n",
      "[E=39] [it= 8280] Train Loss: 1.175, Test Loss: 1.653\n",
      "Accuracy: Train: 0.522 | Val: 0.411\n"
     ]
    }
   ],
   "source": [
    "\n",
    "#################################################\n",
    "# Create network architecture\n",
    "model = ConvNetWithoutDropout(len(data.classes))\n",
    "\n",
    "# Initialize model weights\n",
    "model.apply(init_weights)\n",
    "\n",
    "## Loss, and optimizer\n",
    "criterion = nn.CrossEntropyLoss()\n",
    "optimizer = optim.SGD(model.parameters(), lr=learning_rate, weight_decay=weight_decay, momentum=momentum, nesterov=nesterov)\n",
    "\n",
    "\n",
    "#################################################\n",
    "# Train model\n",
    "\n",
    "model_final, trainloss, valloss = train_model(train_loader=train_loader, val_loader=val_loader, model=model, save=False,\n",
    "                                           criterion=criterion, optimizer=optimizer, Num_Epochs=Num_Epochs, checkpoint_interval=checkpoint_interval, run_name=run_name)\n",
    "tr_acc = get_accuracy(net=model_final, data_loader=train_loader)\n",
    "val_acc = get_accuracy(net=model_final, data_loader=val_loader)\n",
    "print(f\"Accuracy: Train: {tr_acc:.3f} | Val: {val_acc:0.3f}\" )"
   ]
  },
  {
   "cell_type": "code",
   "execution_count": 77,
   "metadata": {},
   "outputs": [
    {
     "data": {
      "image/png": "[encoded data removed]",
      "text/plain": [
       "<Figure size 640x480 with 1 Axes>"
      ]
     },
     "metadata": {},
     "output_type": "display_data"
    }
   ],
   "source": [
    "plt.figure()\n",
    "plt.plot(trainloss, '-b')\n",
    "plt.plot(valloss, '-r')\n",
    "plt.ioff()\n",
    "plt.ylabel('Loss')\n",
    "plt.xlabel(\"Epoch\")\n",
    "plt.legend([\"Training\", \"Validation\"])\n",
    "plt.title(f\"Nesterov\")\n",
    "plt.show()"
   ]
  },
  {
   "cell_type": "markdown",
   "metadata": {},
   "source": [
    "ADAM"
   ]
  },
  {
   "cell_type": "code",
   "execution_count": 78,
   "metadata": {},
   "outputs": [],
   "source": [
    "betas = (0.0583756, 0.0003968)\n",
    "# How many epochs before saving progress\n",
    "checkpoint_interval = 10\n",
    "# Learning rate\n",
    "learning_rate = 0.04325696\n",
    "# L2 Normalization lambda\n",
    "weight_decay = 0.03090098\n",
    "# Momentum\n",
    "momentum = 0.9\n",
    "# Nesterov?\n",
    "nesterov = False\n",
    "\n",
    "train_loader = torch.utils.data.DataLoader(dataset=splits[1], shuffle=True, num_workers=0,\n",
    "                                           batch_size=2, drop_last=True)\n",
    "val_loader = torch.utils.data.DataLoader(dataset=splits[0], shuffle=True, num_workers=0,\n",
    "                                           batch_size=1, drop_last=True)"
   ]
  },
  {
   "cell_type": "code",
   "execution_count": 79,
   "metadata": {},
   "outputs": [
    {
     "name": "stderr",
     "output_type": "stream",
     "text": [
      "/tmp/ipykernel_3111/1099974826.py:5: UserWarning: nn.init.xavier_uniform is now deprecated in favor of nn.init.xavier_uniform_.\n",
      "  torch.nn.init.xavier_uniform(m.weight)\n"
     ]
    },
    {
     "name": "stdout",
     "output_type": "stream",
     "text": [
      "[E= 9] [it= 1030] Train Loss: 12.746, Test Loss: 4.618\n",
      "[E=19] [it= 2060] Train Loss: 11.254, Test Loss: 1.620\n",
      "[E=29] [it= 3090] Train Loss: 4.797, Test Loss: 1.599\n",
      "[E=39] [it= 4120] Train Loss: 12.233, Test Loss: 4.675\n",
      "Accuracy: Train: 0.379 | Val: 0.356\n"
     ]
    }
   ],
   "source": [
    "\n",
    "#################################################\n",
    "# Create network architecture\n",
    "model = ConvNetWithoutDropout(len(data.classes))\n",
    "\n",
    "# Initialize model weights\n",
    "model.apply(init_weights)\n",
    "\n",
    "## Loss, and optimizer\n",
    "criterion = nn.CrossEntropyLoss()\n",
    "optimizer = optim.Adam(model.parameters(), lr=learning_rate, weight_decay=weight_decay, betas=betas)\n",
    "\n",
    "\n",
    "#################################################\n",
    "# Train model\n",
    "\n",
    "model_final, trainloss, valloss = train_model(train_loader=train_loader, val_loader=val_loader, model=model, save=False,\n",
    "                                           criterion=criterion, optimizer=optimizer, Num_Epochs=Num_Epochs, checkpoint_interval=checkpoint_interval, run_name=run_name)\n",
    "tr_acc = get_accuracy(net=model_final, data_loader=train_loader)\n",
    "val_acc = get_accuracy(net=model_final, data_loader=val_loader)\n",
    "print(f\"Accuracy: Train: {tr_acc:.3f} | Val: {val_acc:0.3f}\" )"
   ]
  },
  {
   "cell_type": "code",
   "execution_count": 80,
   "metadata": {},
   "outputs": [
    {
     "data": {
      "image/png": "[encoded data removed]",
      "text/plain": [
       "<Figure size 640x480 with 1 Axes>"
      ]
     },
     "metadata": {},
     "output_type": "display_data"
    }
   ],
   "source": [
    "plt.figure()\n",
    "plt.plot(trainloss, '-b')\n",
    "plt.plot(valloss, '-r')\n",
    "plt.ioff()\n",
    "plt.ylabel('Loss')\n",
    "plt.xlabel(\"Epoch\")\n",
    "plt.legend([\"Training\", \"Validation\"])\n",
    "plt.title(f\"ADAM\")\n",
    "plt.show()"
   ]
  },
  {
   "cell_type": "markdown",
   "metadata": {},
   "source": [
    "NADAM"
   ]
  },
  {
   "cell_type": "code",
   "execution_count": 81,
   "metadata": {},
   "outputs": [
    {
     "name": "stderr",
     "output_type": "stream",
     "text": [
      "/tmp/ipykernel_3111/1099974826.py:5: UserWarning: nn.init.xavier_uniform is now deprecated in favor of nn.init.xavier_uniform_.\n",
      "  torch.nn.init.xavier_uniform(m.weight)\n"
     ]
    },
    {
     "name": "stdout",
     "output_type": "stream",
     "text": [
      "[E= 9] [it= 1030] Train Loss: 5.144, Test Loss: 5.451\n",
      "[E=19] [it= 2060] Train Loss: 6.662, Test Loss: 1.987\n",
      "[E=29] [it= 3090] Train Loss: 4.659, Test Loss: 79.020\n",
      "[E=39] [it= 4120] Train Loss: 6.331, Test Loss: 1.629\n",
      "Accuracy: Train: 0.374 | Val: 0.356\n"
     ]
    }
   ],
   "source": [
    "\n",
    "#################################################\n",
    "# Create network architecture\n",
    "model = ConvNetWithoutDropout(len(data.classes))\n",
    "\n",
    "# Initialize model weights\n",
    "model.apply(init_weights)\n",
    "\n",
    "## Loss, and optimizer\n",
    "criterion = nn.CrossEntropyLoss()\n",
    "optimizer = optim.NAdam(model.parameters(), lr=learning_rate, weight_decay=weight_decay, betas=betas)\n",
    "\n",
    "\n",
    "#################################################\n",
    "# Train model\n",
    "\n",
    "model_final, trainloss, valloss = train_model(train_loader=train_loader, val_loader=val_loader, model=model, save=False,\n",
    "                                           criterion=criterion, optimizer=optimizer, Num_Epochs=Num_Epochs, checkpoint_interval=checkpoint_interval, run_name=run_name)\n",
    "tr_acc = get_accuracy(net=model_final, data_loader=train_loader)\n",
    "val_acc = get_accuracy(net=model_final, data_loader=val_loader)\n",
    "print(f\"Accuracy: Train: {tr_acc:.3f} | Val: {val_acc:0.3f}\" )"
   ]
  },
  {
   "cell_type": "code",
   "execution_count": 82,
   "metadata": {},
   "outputs": [
    {
     "data": {
      "image/png": "[encoded data removed]",
      "text/plain": [
       "<Figure size 640x480 with 1 Axes>"
      ]
     },
     "metadata": {},
     "output_type": "display_data"
    }
   ],
   "source": [
    "plt.figure()\n",
    "plt.plot(trainloss, '-b')\n",
    "plt.plot(valloss, '-r')\n",
    "plt.ioff()\n",
    "plt.ylabel('Loss')\n",
    "plt.xlabel(\"Epoch\")\n",
    "plt.legend([\"Training\", \"Validation\"])\n",
    "plt.title(f\"NADAM\")\n",
    "plt.show()"
   ]
  },
  {
   "cell_type": "markdown",
   "metadata": {},
   "source": [
    "Convolutional Nettwork with Dropout Masks"
   ]
  },
  {
   "cell_type": "code",
   "execution_count": 83,
   "metadata": {},
   "outputs": [
    {
     "name": "stdout",
     "output_type": "stream",
     "text": [
      "ConvNetWithoutDropout(\n",
      "  (conv1): Conv2d(1, 6, kernel_size=(3, 3), stride=(1, 1), padding=(1, 1))\n",
      "  (conv2): Conv2d(6, 16, kernel_size=(3, 3), stride=(1, 1), padding=(1, 1))\n",
      "  (fc1): Linear(in_features=4096, out_features=128, bias=True)\n",
      "  (fc2): Linear(in_features=128, out_features=64, bias=True)\n",
      "  (fc3): Linear(in_features=64, out_features=6, bias=True)\n",
      ")\n"
     ]
    }
   ],
   "source": [
    "class ConvNetWithDropout(nn.Module):\n",
    "\n",
    "  # define network layers\n",
    "  def __init__(self, data_len):\n",
    "    super().__init__()\n",
    "    # 1 input image channel, 6 output channels, 5x5 square convolution\n",
    "    # kernel\n",
    "    self.conv1 = nn.Conv2d(1, 6, 3, padding=1)\n",
    "    self.conv2 = nn.Conv2d(6, 16, 3, padding=1)\n",
    "    # an affine operation: y = Wx + b\n",
    "    self.fc1 = nn.Linear(4096, 128)  # 5*5 from image dimension\n",
    "    self.fc2 = nn.Linear(128, 64)\n",
    "    self.fc3 = nn.Linear(64, data_len)\n",
    "\n",
    "    self.dc2 = nn.Dropout(0.5)\n",
    "    self.dc3 = nn.Dropout(0.5)\n",
    "\n",
    "\n",
    "  # define forward pass\n",
    "  def forward(self, x):\n",
    "    # Max pooling over a (2, 2) window\n",
    "    x = F.max_pool2d(F.relu(self.conv1(x)), (2, 2))\n",
    "    # If the size is a square, you can specify with a single number\n",
    "    x = F.max_pool2d(F.relu(self.conv2(x)), 2)\n",
    "    x = torch.flatten(x, 1) # flatten all dimensions except the batch dimension\n",
    "    x = self.dc2(F.relu(self.fc1(x)))\n",
    "    x = self.dc3(F.relu(self.fc2(x)))\n",
    "    x = self.fc3(x)\n",
    "    return x\n",
    "\n",
    "#################################################\n",
    "## Create network\n",
    "model = ConvNetWithoutDropout(len(data.classes))\n",
    "#Print model architecture\n",
    "print(model)"
   ]
  },
  {
   "cell_type": "code",
   "execution_count": 84,
   "metadata": {},
   "outputs": [
    {
     "name": "stderr",
     "output_type": "stream",
     "text": [
      "/tmp/ipykernel_3111/1099974826.py:5: UserWarning: nn.init.xavier_uniform is now deprecated in favor of nn.init.xavier_uniform_.\n",
      "  torch.nn.init.xavier_uniform(m.weight)\n"
     ]
    },
    {
     "name": "stdout",
     "output_type": "stream",
     "text": [
      "[E= 9] [it= 1030] Train Loss: 1.319, Test Loss: 1.470\n",
      "[E=19] [it= 2060] Train Loss: 1.401, Test Loss: 1.445\n",
      "[E=29] [it= 3090] Train Loss: 1.395, Test Loss: 1.430\n",
      "[E=39] [it= 4120] Train Loss: 1.408, Test Loss: 1.448\n",
      "Accuracy: Train: 0.354 | Val: 0.356\n"
     ]
    },
    {
     "data": {
      "image/png": "[encoded data removed]",
      "text/plain": [
       "<Figure size 640x480 with 1 Axes>"
      ]
     },
     "metadata": {},
     "output_type": "display_data"
    }
   ],
   "source": [
    "run_name = \"sgd\"\n",
    "# How many epochs before saving progress\n",
    "checkpoint_interval = 10\n",
    "# Learning rate\n",
    "learning_rate = 0.005\n",
    "# L2 Normalization lambda\n",
    "weight_decay = 0.01\n",
    "# Momentum\n",
    "momentum = 0.9\n",
    "# Nesterov?\n",
    "nesterov = False\n",
    "\n",
    "# With a batch size of 64, need 198 epochs to get to 2,000 iterations\n",
    "Num_Epochs = 40\n",
    "\n",
    "\n",
    "#################################################\n",
    "# Create network architecture\n",
    "model = ConvNetWithDropout(len(data.classes))\n",
    "\n",
    "# Initialize model weights\n",
    "model.apply(init_weights)\n",
    "\n",
    "## Loss, and optimizer\n",
    "criterion = nn.CrossEntropyLoss()\n",
    "optimizer = optim.SGD(model.parameters(), lr=learning_rate, weight_decay=weight_decay, momentum=momentum, nesterov=nesterov)\n",
    "\n",
    "\n",
    "#################################################\n",
    "# Train model\n",
    "\n",
    "model_final, trainloss, valloss = train_model(train_loader=train_loader, val_loader=val_loader, model=model, save=False,\n",
    "                                           criterion=criterion, optimizer=optimizer, Num_Epochs=Num_Epochs, checkpoint_interval=checkpoint_interval, run_name=run_name)\n",
    "\n",
    "tr_acc = get_accuracy(net=model_final, data_loader=train_loader)\n",
    "val_acc = get_accuracy(net=model_final, data_loader=val_loader)\n",
    "print(f\"Accuracy: Train: {tr_acc:.3f} | Val: {val_acc:0.3f}\" )\n",
    "\n",
    "plt.figure()\n",
    "plt.plot(trainloss, '-b')\n",
    "plt.plot(valloss, '-r')\n",
    "plt.ioff()\n",
    "plt.ylabel('Loss')\n",
    "plt.xlabel(\"Epoch\")\n",
    "plt.legend([\"Training\", \"Validation\"])\n",
    "plt.title(f\"Convolutional Model w/ Dropout\")\n",
    "plt.show()"
   ]
  },
  {
   "cell_type": "code",
   "execution_count": 85,
   "metadata": {},
   "outputs": [
    {
     "name": "stderr",
     "output_type": "stream",
     "text": [
      "[I 2024-05-05 17:33:02,399] A new study created in memory with name: SGD-Binary-Art\n",
      "/tmp/ipykernel_3111/1099974826.py:5: UserWarning: nn.init.xavier_uniform is now deprecated in favor of nn.init.xavier_uniform_.\n",
      "  torch.nn.init.xavier_uniform(m.weight)\n"
     ]
    },
    {
     "name": "stdout",
     "output_type": "stream",
     "text": [
      "[E= 9] [it= 2070] Train Loss: 1.233, Test Loss: 1.351\n",
      "[E=19] [it= 4140] Train Loss: 1.142, Test Loss: 1.291\n"
     ]
    },
    {
     "name": "stderr",
     "output_type": "stream",
     "text": [
      "[I 2024-05-05 17:34:13,046] Trial 0 finished with value: 0.43333333333333335 and parameters: {'lr': 5.454215249453866e-05, 'L2': 8.357654902965982e-05, 'batch_size': 1, 'nesterov': True}. Best is trial 0 with value: 0.43333333333333335.\n"
     ]
    },
    {
     "name": "stdout",
     "output_type": "stream",
     "text": [
      "Accuracy: Train: 0.469 | Val: 0.433\n",
      "[E= 9] [it=  510] Train Loss: 1.192, Test Loss: 1.548\n",
      "[E=19] [it= 1020] Train Loss: 0.907, Test Loss: 1.526\n"
     ]
    },
    {
     "name": "stderr",
     "output_type": "stream",
     "text": [
      "[I 2024-05-05 17:35:10,126] Trial 1 finished with value: 0.4444444444444444 and parameters: {'lr': 0.0011981718758060573, 'L2': 1.3332532939287023e-05, 'batch_size': 4, 'nesterov': False}. Best is trial 1 with value: 0.4444444444444444.\n"
     ]
    },
    {
     "name": "stdout",
     "output_type": "stream",
     "text": [
      "Accuracy: Train: 0.623 | Val: 0.444\n",
      "[E= 9] [it=  250] Train Loss: 1.241, Test Loss: 1.360\n",
      "[E=19] [it=  500] Train Loss: 1.104, Test Loss: 1.397\n"
     ]
    },
    {
     "name": "stderr",
     "output_type": "stream",
     "text": [
      "[I 2024-05-05 17:36:02,923] Trial 2 finished with value: 0.4222222222222222 and parameters: {'lr': 0.0008982301869161233, 'L2': 0.0011830362587213973, 'batch_size': 8, 'nesterov': False}. Best is trial 1 with value: 0.4444444444444444.\n"
     ]
    },
    {
     "name": "stdout",
     "output_type": "stream",
     "text": [
      "Accuracy: Train: 0.465 | Val: 0.422\n",
      "[E= 9] [it=  250] Train Loss: 1.207, Test Loss: 1.468\n",
      "[E=19] [it=  500] Train Loss: 1.172, Test Loss: 1.377\n"
     ]
    },
    {
     "name": "stderr",
     "output_type": "stream",
     "text": [
      "[I 2024-05-05 17:36:56,753] Trial 3 finished with value: 0.35555555555555557 and parameters: {'lr': 0.034546881208723526, 'L2': 0.0072298853045590665, 'batch_size': 8, 'nesterov': False}. Best is trial 1 with value: 0.4444444444444444.\n"
     ]
    },
    {
     "name": "stdout",
     "output_type": "stream",
     "text": [
      "Accuracy: Train: 0.500 | Val: 0.356\n",
      "[E= 9] [it= 2070] Train Loss: 1.197, Test Loss: 1.302\n",
      "[E=19] [it= 4140] Train Loss: 0.981, Test Loss: 1.442\n"
     ]
    },
    {
     "name": "stderr",
     "output_type": "stream",
     "text": [
      "[I 2024-05-05 17:38:07,807] Trial 4 finished with value: 0.43333333333333335 and parameters: {'lr': 0.00029901984755149733, 'L2': 0.0017148316151448866, 'batch_size': 1, 'nesterov': True}. Best is trial 1 with value: 0.4444444444444444.\n"
     ]
    },
    {
     "name": "stdout",
     "output_type": "stream",
     "text": [
      "Accuracy: Train: 0.575 | Val: 0.433\n",
      "[E= 9] [it=  510] Train Loss: 1.276, Test Loss: 1.397\n",
      "[E=19] [it= 1020] Train Loss: 1.207, Test Loss: 1.330\n"
     ]
    },
    {
     "name": "stderr",
     "output_type": "stream",
     "text": [
      "[I 2024-05-05 17:39:05,151] Trial 5 finished with value: 0.3333333333333333 and parameters: {'lr': 0.0002789491493558213, 'L2': 0.047147801852236326, 'batch_size': 4, 'nesterov': True}. Best is trial 1 with value: 0.4444444444444444.\n"
     ]
    },
    {
     "name": "stdout",
     "output_type": "stream",
     "text": [
      "Accuracy: Train: 0.466 | Val: 0.333\n",
      "[E= 9] [it= 1030] Train Loss: 1.424, Test Loss: 1.483\n",
      "[E=19] [it= 2060] Train Loss: 1.406, Test Loss: 1.507\n"
     ]
    },
    {
     "name": "stderr",
     "output_type": "stream",
     "text": [
      "[I 2024-05-05 17:40:08,996] Trial 6 finished with value: 0.35555555555555557 and parameters: {'lr': 0.016657844516024613, 'L2': 0.019170605236957808, 'batch_size': 2, 'nesterov': False}. Best is trial 1 with value: 0.4444444444444444.\n"
     ]
    },
    {
     "name": "stdout",
     "output_type": "stream",
     "text": [
      "Accuracy: Train: 0.374 | Val: 0.356\n",
      "[E= 9] [it=  510] Train Loss: 1.299, Test Loss: 1.397\n",
      "[E=19] [it= 1020] Train Loss: 1.234, Test Loss: 1.360\n"
     ]
    },
    {
     "name": "stderr",
     "output_type": "stream",
     "text": [
      "[I 2024-05-05 17:41:06,687] Trial 7 finished with value: 0.37777777777777777 and parameters: {'lr': 0.0002917182222136787, 'L2': 0.01558193172154682, 'batch_size': 4, 'nesterov': True}. Best is trial 1 with value: 0.4444444444444444.\n"
     ]
    },
    {
     "name": "stdout",
     "output_type": "stream",
     "text": [
      "Accuracy: Train: 0.456 | Val: 0.378\n",
      "[E= 9] [it=  510] Train Loss: 1.370, Test Loss: 1.460\n",
      "[E=19] [it= 1020] Train Loss: 1.290, Test Loss: 1.382\n"
     ]
    },
    {
     "name": "stderr",
     "output_type": "stream",
     "text": [
      "[I 2024-05-05 17:42:04,212] Trial 8 finished with value: 0.4444444444444444 and parameters: {'lr': 5.1669879543377064e-05, 'L2': 0.00015165144248073048, 'batch_size': 4, 'nesterov': True}. Best is trial 1 with value: 0.4444444444444444.\n"
     ]
    },
    {
     "name": "stdout",
     "output_type": "stream",
     "text": [
      "Accuracy: Train: 0.431 | Val: 0.444\n",
      "[E= 9] [it=  510] Train Loss: 1.517, Test Loss: 1.579\n",
      "[E=19] [it= 1020] Train Loss: 1.411, Test Loss: 1.491\n"
     ]
    },
    {
     "name": "stderr",
     "output_type": "stream",
     "text": [
      "[I 2024-05-05 17:43:01,833] Trial 9 finished with value: 0.35555555555555557 and parameters: {'lr': 3.435083549032662e-05, 'L2': 2.883053297205321e-05, 'batch_size': 4, 'nesterov': False}. Best is trial 1 with value: 0.4444444444444444.\n"
     ]
    },
    {
     "name": "stdout",
     "output_type": "stream",
     "text": [
      "Accuracy: Train: 0.377 | Val: 0.356\n",
      "[E= 9] [it= 1030] Train Loss: 1.110, Test Loss: 1.498\n",
      "[E=19] [it= 2060] Train Loss: 0.713, Test Loss: 1.486\n"
     ]
    },
    {
     "name": "stderr",
     "output_type": "stream",
     "text": [
      "[I 2024-05-05 17:44:05,496] Trial 10 finished with value: 0.35555555555555557 and parameters: {'lr': 0.006040818877098795, 'L2': 1.2402473021638801e-05, 'batch_size': 2, 'nesterov': False}. Best is trial 1 with value: 0.4444444444444444.\n"
     ]
    },
    {
     "name": "stdout",
     "output_type": "stream",
     "text": [
      "Accuracy: Train: 0.738 | Val: 0.356\n",
      "[E= 9] [it=  510] Train Loss: 1.663, Test Loss: 1.691\n",
      "[E=19] [it= 1020] Train Loss: 1.543, Test Loss: 1.607\n"
     ]
    },
    {
     "name": "stderr",
     "output_type": "stream",
     "text": [
      "[I 2024-05-05 17:45:03,158] Trial 11 finished with value: 0.2111111111111111 and parameters: {'lr': 1.3612687779124605e-05, 'L2': 0.00013388675526179736, 'batch_size': 4, 'nesterov': True}. Best is trial 1 with value: 0.4444444444444444.\n"
     ]
    },
    {
     "name": "stdout",
     "output_type": "stream",
     "text": [
      "Accuracy: Train: 0.240 | Val: 0.211\n",
      "[E= 9] [it=  510] Train Loss: 1.009, Test Loss: 1.363\n",
      "[E=19] [it= 1020] Train Loss: 0.428, Test Loss: 2.132\n"
     ]
    },
    {
     "name": "stderr",
     "output_type": "stream",
     "text": [
      "[I 2024-05-05 17:46:00,643] Trial 12 finished with value: 0.4 and parameters: {'lr': 0.003039954821181471, 'L2': 0.00015820170217097069, 'batch_size': 4, 'nesterov': True}. Best is trial 1 with value: 0.4444444444444444.\n"
     ]
    },
    {
     "name": "stdout",
     "output_type": "stream",
     "text": [
      "Accuracy: Train: 0.824 | Val: 0.400\n",
      "[E= 9] [it=  510] Train Loss: 1.136, Test Loss: 1.371\n",
      "[E=19] [it= 1020] Train Loss: 0.896, Test Loss: 1.542\n"
     ]
    },
    {
     "name": "stderr",
     "output_type": "stream",
     "text": [
      "[I 2024-05-05 17:46:58,376] Trial 13 finished with value: 0.4222222222222222 and parameters: {'lr': 0.0016976546517262347, 'L2': 1.0042209263842857e-05, 'batch_size': 4, 'nesterov': False}. Best is trial 1 with value: 0.4444444444444444.\n"
     ]
    },
    {
     "name": "stdout",
     "output_type": "stream",
     "text": [
      "Accuracy: Train: 0.676 | Val: 0.422\n",
      "[E= 9] [it=  510] Train Loss: 1.308, Test Loss: 1.410\n",
      "[E=19] [it= 1020] Train Loss: 1.236, Test Loss: 1.357\n"
     ]
    },
    {
     "name": "stderr",
     "output_type": "stream",
     "text": [
      "[I 2024-05-05 17:47:57,431] Trial 14 finished with value: 0.37777777777777777 and parameters: {'lr': 0.00010311680708969589, 'L2': 0.0002963492276475983, 'batch_size': 4, 'nesterov': False}. Best is trial 1 with value: 0.4444444444444444.\n"
     ]
    },
    {
     "name": "stdout",
     "output_type": "stream",
     "text": [
      "Accuracy: Train: 0.426 | Val: 0.378\n",
      "[E= 9] [it=  510] Train Loss: 1.416, Test Loss: 1.438\n",
      "[E=19] [it= 1020] Train Loss: 1.409, Test Loss: 1.459\n"
     ]
    },
    {
     "name": "stderr",
     "output_type": "stream",
     "text": [
      "[I 2024-05-05 17:48:55,336] Trial 15 finished with value: 0.35555555555555557 and parameters: {'lr': 0.09611322121805227, 'L2': 3.9678419033569076e-05, 'batch_size': 4, 'nesterov': True}. Best is trial 1 with value: 0.4444444444444444.\n"
     ]
    },
    {
     "name": "stdout",
     "output_type": "stream",
     "text": [
      "Accuracy: Train: 0.377 | Val: 0.356\n",
      "[E= 9] [it=  250] Train Loss: 1.219, Test Loss: 1.335\n",
      "[E=19] [it=  500] Train Loss: 1.150, Test Loss: 1.311\n"
     ]
    },
    {
     "name": "stderr",
     "output_type": "stream",
     "text": [
      "[I 2024-05-05 17:49:48,375] Trial 16 finished with value: 0.3888888888888889 and parameters: {'lr': 0.0006859386276236372, 'L2': 0.000509017069676915, 'batch_size': 8, 'nesterov': False}. Best is trial 1 with value: 0.4444444444444444.\n"
     ]
    },
    {
     "name": "stdout",
     "output_type": "stream",
     "text": [
      "Accuracy: Train: 0.500 | Val: 0.389\n",
      "[E= 9] [it= 1030] Train Loss: 1.552, Test Loss: 1.587\n",
      "[E=19] [it= 2060] Train Loss: 1.396, Test Loss: 1.470\n"
     ]
    },
    {
     "name": "stderr",
     "output_type": "stream",
     "text": [
      "[I 2024-05-05 17:50:52,475] Trial 17 finished with value: 0.35555555555555557 and parameters: {'lr': 1.547296038962565e-05, 'L2': 3.138019064148077e-05, 'batch_size': 2, 'nesterov': True}. Best is trial 1 with value: 0.4444444444444444.\n"
     ]
    },
    {
     "name": "stdout",
     "output_type": "stream",
     "text": [
      "Accuracy: Train: 0.379 | Val: 0.356\n",
      "[E= 9] [it= 2070] Train Loss: 1.288, Test Loss: 1.548\n",
      "[E=19] [it= 4140] Train Loss: 1.272, Test Loss: 1.582\n"
     ]
    },
    {
     "name": "stderr",
     "output_type": "stream",
     "text": [
      "[I 2024-05-05 17:52:03,498] Trial 18 finished with value: 0.32222222222222224 and parameters: {'lr': 0.006973959087241461, 'L2': 0.002288729272803842, 'batch_size': 1, 'nesterov': True}. Best is trial 1 with value: 0.4444444444444444.\n"
     ]
    },
    {
     "name": "stdout",
     "output_type": "stream",
     "text": [
      "Accuracy: Train: 0.367 | Val: 0.322\n",
      "[E= 9] [it=  510] Train Loss: 1.530, Test Loss: 1.573\n",
      "[E=19] [it= 1020] Train Loss: 1.369, Test Loss: 1.428\n"
     ]
    },
    {
     "name": "stderr",
     "output_type": "stream",
     "text": [
      "[I 2024-05-05 17:53:02,015] Trial 19 finished with value: 0.25555555555555554 and parameters: {'lr': 4.750933172097923e-05, 'L2': 6.947643991366285e-05, 'batch_size': 4, 'nesterov': False}. Best is trial 1 with value: 0.4444444444444444.\n"
     ]
    },
    {
     "name": "stdout",
     "output_type": "stream",
     "text": [
      "Accuracy: Train: 0.338 | Val: 0.256\n",
      "[E= 9] [it=  510] Train Loss: 1.289, Test Loss: 1.405\n",
      "[E=19] [it= 1020] Train Loss: 1.227, Test Loss: 1.366\n"
     ]
    },
    {
     "name": "stderr",
     "output_type": "stream",
     "text": [
      "[I 2024-05-05 17:53:59,922] Trial 20 finished with value: 0.4777777777777778 and parameters: {'lr': 0.00011830023031143946, 'L2': 0.00039111741507697617, 'batch_size': 4, 'nesterov': True}. Best is trial 20 with value: 0.4777777777777778.\n"
     ]
    },
    {
     "name": "stdout",
     "output_type": "stream",
     "text": [
      "Accuracy: Train: 0.422 | Val: 0.478\n",
      "[E= 9] [it=  510] Train Loss: 1.280, Test Loss: 1.407\n",
      "[E=19] [it= 1020] Train Loss: 1.213, Test Loss: 1.392\n"
     ]
    },
    {
     "name": "stderr",
     "output_type": "stream",
     "text": [
      "[I 2024-05-05 17:54:57,695] Trial 21 finished with value: 0.4 and parameters: {'lr': 0.00012521436134281568, 'L2': 0.00046332094652905937, 'batch_size': 4, 'nesterov': True}. Best is trial 20 with value: 0.4777777777777778.\n"
     ]
    },
    {
     "name": "stdout",
     "output_type": "stream",
     "text": [
      "Accuracy: Train: 0.441 | Val: 0.400\n",
      "[E= 9] [it=  510] Train Loss: 1.275, Test Loss: 1.415\n",
      "[E=19] [it= 1020] Train Loss: 1.174, Test Loss: 1.375\n"
     ]
    },
    {
     "name": "stderr",
     "output_type": "stream",
     "text": [
      "[I 2024-05-05 17:55:55,591] Trial 22 finished with value: 0.3888888888888889 and parameters: {'lr': 0.00017716653827808606, 'L2': 0.004162248798121162, 'batch_size': 4, 'nesterov': True}. Best is trial 20 with value: 0.4777777777777778.\n"
     ]
    },
    {
     "name": "stdout",
     "output_type": "stream",
     "text": [
      "Accuracy: Train: 0.495 | Val: 0.389\n",
      "[E= 9] [it=  510] Train Loss: 1.160, Test Loss: 1.465\n",
      "[E=19] [it= 1020] Train Loss: 0.967, Test Loss: 1.419\n"
     ]
    },
    {
     "name": "stderr",
     "output_type": "stream",
     "text": [
      "[I 2024-05-05 17:56:53,310] Trial 23 finished with value: 0.4222222222222222 and parameters: {'lr': 0.0006484795167067853, 'L2': 0.00028030790614986173, 'batch_size': 4, 'nesterov': True}. Best is trial 20 with value: 0.4777777777777778.\n"
     ]
    },
    {
     "name": "stdout",
     "output_type": "stream",
     "text": [
      "Accuracy: Train: 0.706 | Val: 0.422\n",
      "[E= 9] [it=  510] Train Loss: 1.481, Test Loss: 1.504\n",
      "[E=19] [it= 1020] Train Loss: 1.368, Test Loss: 1.438\n"
     ]
    },
    {
     "name": "stderr",
     "output_type": "stream",
     "text": [
      "[I 2024-05-05 17:57:50,973] Trial 24 finished with value: 0.36666666666666664 and parameters: {'lr': 3.2674469276497774e-05, 'L2': 2.1157846628660872e-05, 'batch_size': 4, 'nesterov': True}. Best is trial 20 with value: 0.4777777777777778.\n"
     ]
    },
    {
     "name": "stdout",
     "output_type": "stream",
     "text": [
      "Accuracy: Train: 0.368 | Val: 0.367\n",
      "[E= 9] [it=  510] Train Loss: 1.137, Test Loss: 1.349\n",
      "[E=19] [it= 1020] Train Loss: 0.691, Test Loss: 1.636\n"
     ]
    },
    {
     "name": "stderr",
     "output_type": "stream",
     "text": [
      "[I 2024-05-05 17:58:48,878] Trial 25 finished with value: 0.4777777777777778 and parameters: {'lr': 0.001993987362750642, 'L2': 0.0008204570222854077, 'batch_size': 4, 'nesterov': True}. Best is trial 20 with value: 0.4777777777777778.\n"
     ]
    },
    {
     "name": "stdout",
     "output_type": "stream",
     "text": [
      "Accuracy: Train: 0.750 | Val: 0.478\n",
      "[E= 9] [it=  250] Train Loss: 1.168, Test Loss: 1.409\n",
      "[E=19] [it=  500] Train Loss: 0.862, Test Loss: 1.769\n"
     ]
    },
    {
     "name": "stderr",
     "output_type": "stream",
     "text": [
      "[I 2024-05-05 17:59:41,978] Trial 26 finished with value: 0.4444444444444444 and parameters: {'lr': 0.0030341335118176413, 'L2': 0.0007938594183036543, 'batch_size': 8, 'nesterov': False}. Best is trial 20 with value: 0.4777777777777778.\n"
     ]
    },
    {
     "name": "stdout",
     "output_type": "stream",
     "text": [
      "Accuracy: Train: 0.605 | Val: 0.444\n",
      "[E= 9] [it= 2070] Train Loss: 1.057, Test Loss: 1.540\n",
      "[E=19] [it= 4140] Train Loss: 0.715, Test Loss: 1.676\n"
     ]
    },
    {
     "name": "stderr",
     "output_type": "stream",
     "text": [
      "[I 2024-05-05 18:00:53,610] Trial 27 finished with value: 0.4222222222222222 and parameters: {'lr': 0.0019611377882604235, 'L2': 0.003616568314946156, 'batch_size': 1, 'nesterov': True}. Best is trial 20 with value: 0.4777777777777778.\n"
     ]
    },
    {
     "name": "stdout",
     "output_type": "stream",
     "text": [
      "Accuracy: Train: 0.700 | Val: 0.422\n",
      "[E= 9] [it= 1030] Train Loss: 1.230, Test Loss: 1.360\n",
      "[E=19] [it= 2060] Train Loss: 1.157, Test Loss: 1.365\n"
     ]
    },
    {
     "name": "stderr",
     "output_type": "stream",
     "text": [
      "[I 2024-05-05 18:01:58,137] Trial 28 finished with value: 0.4444444444444444 and parameters: {'lr': 0.0004836749891509752, 'L2': 0.07973184595491628, 'batch_size': 2, 'nesterov': False}. Best is trial 20 with value: 0.4777777777777778.\n"
     ]
    },
    {
     "name": "stdout",
     "output_type": "stream",
     "text": [
      "Accuracy: Train: 0.451 | Val: 0.444\n",
      "[E= 9] [it= 2070] Train Loss: 1.401, Test Loss: 1.421\n",
      "[E=19] [it= 4140] Train Loss: 1.391, Test Loss: 1.430\n"
     ]
    },
    {
     "name": "stderr",
     "output_type": "stream",
     "text": [
      "[I 2024-05-05 18:03:09,533] Trial 29 finished with value: 0.35555555555555557 and parameters: {'lr': 0.008887452836062947, 'L2': 6.49934131786811e-05, 'batch_size': 1, 'nesterov': True}. Best is trial 20 with value: 0.4777777777777778.\n"
     ]
    },
    {
     "name": "stdout",
     "output_type": "stream",
     "text": [
      "Accuracy: Train: 0.377 | Val: 0.356\n",
      "[E= 9] [it=  510] Train Loss: 1.190, Test Loss: 1.428\n",
      "[E=19] [it= 1020] Train Loss: 0.925, Test Loss: 1.445\n"
     ]
    },
    {
     "name": "stderr",
     "output_type": "stream",
     "text": [
      "[I 2024-05-05 18:04:07,634] Trial 30 finished with value: 0.45555555555555555 and parameters: {'lr': 0.001314397287007079, 'L2': 0.000795717090047066, 'batch_size': 4, 'nesterov': True}. Best is trial 20 with value: 0.4777777777777778.\n"
     ]
    },
    {
     "name": "stdout",
     "output_type": "stream",
     "text": [
      "Accuracy: Train: 0.598 | Val: 0.456\n",
      "[E= 9] [it=  510] Train Loss: 1.051, Test Loss: 1.347\n",
      "[E=19] [it= 1020] Train Loss: 0.654, Test Loss: 1.931\n"
     ]
    },
    {
     "name": "stderr",
     "output_type": "stream",
     "text": [
      "[I 2024-05-05 18:05:04,911] Trial 31 finished with value: 0.37777777777777777 and parameters: {'lr': 0.002842636370409724, 'L2': 0.0007564807709110293, 'batch_size': 4, 'nesterov': True}. Best is trial 20 with value: 0.4777777777777778.\n"
     ]
    },
    {
     "name": "stdout",
     "output_type": "stream",
     "text": [
      "Accuracy: Train: 0.740 | Val: 0.378\n",
      "[E= 9] [it=  510] Train Loss: 1.124, Test Loss: 1.458\n",
      "[E=19] [it= 1020] Train Loss: 0.846, Test Loss: 1.593\n"
     ]
    },
    {
     "name": "stderr",
     "output_type": "stream",
     "text": [
      "[I 2024-05-05 18:06:02,569] Trial 32 finished with value: 0.43333333333333335 and parameters: {'lr': 0.0012546001804950213, 'L2': 0.001459000371011054, 'batch_size': 4, 'nesterov': True}. Best is trial 20 with value: 0.4777777777777778.\n"
     ]
    },
    {
     "name": "stdout",
     "output_type": "stream",
     "text": [
      "Accuracy: Train: 0.676 | Val: 0.433\n",
      "[E= 9] [it=  510] Train Loss: 1.181, Test Loss: 1.351\n",
      "[E=19] [it= 1020] Train Loss: 0.930, Test Loss: 1.473\n"
     ]
    },
    {
     "name": "stderr",
     "output_type": "stream",
     "text": [
      "[I 2024-05-05 18:07:00,232] Trial 33 finished with value: 0.4888888888888889 and parameters: {'lr': 0.0010594596585298975, 'L2': 0.00027906132902396524, 'batch_size': 4, 'nesterov': True}. Best is trial 33 with value: 0.4888888888888889.\n"
     ]
    },
    {
     "name": "stdout",
     "output_type": "stream",
     "text": [
      "Accuracy: Train: 0.544 | Val: 0.489\n",
      "[E= 9] [it=  510] Train Loss: 1.198, Test Loss: 1.313\n",
      "[E=19] [it= 1020] Train Loss: 0.999, Test Loss: 1.321\n"
     ]
    },
    {
     "name": "stderr",
     "output_type": "stream",
     "text": [
      "[I 2024-05-05 18:07:57,827] Trial 34 finished with value: 0.43333333333333335 and parameters: {'lr': 0.0004498047991381692, 'L2': 0.00027749998512996643, 'batch_size': 4, 'nesterov': True}. Best is trial 33 with value: 0.4888888888888889.\n"
     ]
    },
    {
     "name": "stdout",
     "output_type": "stream",
     "text": [
      "Accuracy: Train: 0.608 | Val: 0.433\n",
      "[E= 9] [it=  250] Train Loss: 1.281, Test Loss: 1.337\n",
      "[E=19] [it=  500] Train Loss: 1.119, Test Loss: 1.304\n"
     ]
    },
    {
     "name": "stderr",
     "output_type": "stream",
     "text": [
      "[I 2024-05-05 18:08:50,726] Trial 35 finished with value: 0.4222222222222222 and parameters: {'lr': 0.0010892176006742707, 'L2': 0.0005083354066303829, 'batch_size': 8, 'nesterov': True}. Best is trial 33 with value: 0.4888888888888889.\n"
     ]
    },
    {
     "name": "stdout",
     "output_type": "stream",
     "text": [
      "Accuracy: Train: 0.500 | Val: 0.422\n",
      "[E= 9] [it=  510] Train Loss: 1.147, Test Loss: 1.327\n",
      "[E=19] [it= 1020] Train Loss: 0.706, Test Loss: 1.531\n"
     ]
    },
    {
     "name": "stderr",
     "output_type": "stream",
     "text": [
      "[I 2024-05-05 18:09:47,655] Trial 36 finished with value: 0.34444444444444444 and parameters: {'lr': 0.004791963317812742, 'L2': 0.0010711541446421175, 'batch_size': 4, 'nesterov': True}. Best is trial 33 with value: 0.4888888888888889.\n"
     ]
    },
    {
     "name": "stdout",
     "output_type": "stream",
     "text": [
      "Accuracy: Train: 0.760 | Val: 0.344\n",
      "[E= 9] [it=  510] Train Loss: 1.079, Test Loss: 1.528\n",
      "[E=19] [it= 1020] Train Loss: 0.901, Test Loss: 1.566\n"
     ]
    },
    {
     "name": "stderr",
     "output_type": "stream",
     "text": [
      "[I 2024-05-05 18:10:43,956] Trial 37 finished with value: 0.34444444444444444 and parameters: {'lr': 0.011637196084047294, 'L2': 0.002563544519615686, 'batch_size': 4, 'nesterov': True}. Best is trial 33 with value: 0.4888888888888889.\n"
     ]
    },
    {
     "name": "stdout",
     "output_type": "stream",
     "text": [
      "Accuracy: Train: 0.627 | Val: 0.344\n",
      "[E= 9] [it= 2070] Train Loss: 1.175, Test Loss: 1.384\n",
      "[E=19] [it= 4140] Train Loss: 1.026, Test Loss: 1.448\n"
     ]
    },
    {
     "name": "stderr",
     "output_type": "stream",
     "text": [
      "[I 2024-05-05 18:11:53,225] Trial 38 finished with value: 0.4444444444444444 and parameters: {'lr': 0.00017463116875406122, 'L2': 0.008096272263725635, 'batch_size': 1, 'nesterov': True}. Best is trial 33 with value: 0.4888888888888889.\n"
     ]
    },
    {
     "name": "stdout",
     "output_type": "stream",
     "text": [
      "Accuracy: Train: 0.527 | Val: 0.444\n",
      "[E= 9] [it=  510] Train Loss: 1.393, Test Loss: 1.431\n",
      "[E=19] [it= 1020] Train Loss: 1.395, Test Loss: 1.463\n"
     ]
    },
    {
     "name": "stderr",
     "output_type": "stream",
     "text": [
      "[I 2024-05-05 18:12:49,384] Trial 39 finished with value: 0.35555555555555557 and parameters: {'lr': 0.02935322310634825, 'L2': 0.0003939931693143584, 'batch_size': 4, 'nesterov': True}. Best is trial 33 with value: 0.4888888888888889.\n"
     ]
    },
    {
     "name": "stdout",
     "output_type": "stream",
     "text": [
      "Accuracy: Train: 0.382 | Val: 0.356\n",
      "[E= 9] [it=  250] Train Loss: 1.222, Test Loss: 1.332\n",
      "[E=19] [it=  500] Train Loss: 1.008, Test Loss: 1.358\n"
     ]
    },
    {
     "name": "stderr",
     "output_type": "stream",
     "text": [
      "[I 2024-05-05 18:13:41,898] Trial 40 finished with value: 0.4222222222222222 and parameters: {'lr': 0.0009004024258679635, 'L2': 0.00019362222334931345, 'batch_size': 8, 'nesterov': True}. Best is trial 33 with value: 0.4888888888888889.\n"
     ]
    },
    {
     "name": "stdout",
     "output_type": "stream",
     "text": [
      "Accuracy: Train: 0.535 | Val: 0.422\n",
      "[E= 9] [it=  510] Train Loss: 1.041, Test Loss: 1.558\n",
      "[E=19] [it= 1020] Train Loss: 0.713, Test Loss: 1.471\n"
     ]
    },
    {
     "name": "stderr",
     "output_type": "stream",
     "text": [
      "[I 2024-05-05 18:14:38,088] Trial 41 finished with value: 0.5 and parameters: {'lr': 0.0019185987031918226, 'L2': 9.901068135370631e-05, 'batch_size': 4, 'nesterov': False}. Best is trial 41 with value: 0.5.\n"
     ]
    },
    {
     "name": "stdout",
     "output_type": "stream",
     "text": [
      "Accuracy: Train: 0.735 | Val: 0.500\n",
      "[E= 9] [it=  510] Train Loss: 1.089, Test Loss: 1.408\n",
      "[E=19] [it= 1020] Train Loss: 0.659, Test Loss: 1.683\n"
     ]
    },
    {
     "name": "stderr",
     "output_type": "stream",
     "text": [
      "[I 2024-05-05 18:15:33,431] Trial 42 finished with value: 0.4666666666666667 and parameters: {'lr': 0.0017458751889483544, 'L2': 9.300710665261129e-05, 'batch_size': 4, 'nesterov': False}. Best is trial 41 with value: 0.5.\n"
     ]
    },
    {
     "name": "stdout",
     "output_type": "stream",
     "text": [
      "Accuracy: Train: 0.662 | Val: 0.467\n",
      "[E= 9] [it=  510] Train Loss: 1.049, Test Loss: 1.676\n",
      "[E=19] [it= 1020] Train Loss: 0.576, Test Loss: 2.090\n"
     ]
    },
    {
     "name": "stderr",
     "output_type": "stream",
     "text": [
      "[I 2024-05-05 18:16:30,537] Trial 43 finished with value: 0.4777777777777778 and parameters: {'lr': 0.004614562607134944, 'L2': 9.028993995118851e-05, 'batch_size': 4, 'nesterov': False}. Best is trial 41 with value: 0.5.\n"
     ]
    },
    {
     "name": "stdout",
     "output_type": "stream",
     "text": [
      "Accuracy: Train: 0.789 | Val: 0.478\n",
      "[E= 9] [it=  510] Train Loss: 1.279, Test Loss: 1.373\n",
      "[E=19] [it= 1020] Train Loss: 0.831, Test Loss: 1.365\n"
     ]
    },
    {
     "name": "stderr",
     "output_type": "stream",
     "text": [
      "[I 2024-05-05 18:17:27,616] Trial 44 finished with value: 0.4 and parameters: {'lr': 0.004382109223365877, 'L2': 4.849681620915446e-05, 'batch_size': 4, 'nesterov': False}. Best is trial 41 with value: 0.5.\n"
     ]
    },
    {
     "name": "stdout",
     "output_type": "stream",
     "text": [
      "Accuracy: Train: 0.637 | Val: 0.400\n",
      "[E= 9] [it= 1030] Train Loss: 1.352, Test Loss: 1.504\n",
      "[E=19] [it= 2060] Train Loss: 1.379, Test Loss: 1.414\n"
     ]
    },
    {
     "name": "stderr",
     "output_type": "stream",
     "text": [
      "[I 2024-05-05 18:18:31,502] Trial 45 finished with value: 0.35555555555555557 and parameters: {'lr': 0.014103185396791142, 'L2': 0.00010011548255165235, 'batch_size': 2, 'nesterov': False}. Best is trial 41 with value: 0.5.\n"
     ]
    },
    {
     "name": "stdout",
     "output_type": "stream",
     "text": [
      "Accuracy: Train: 0.379 | Val: 0.356\n",
      "[E= 9] [it=  510] Train Loss: 1.102, Test Loss: 1.362\n",
      "[E=19] [it= 1020] Train Loss: 0.595, Test Loss: 1.739\n"
     ]
    },
    {
     "name": "stderr",
     "output_type": "stream",
     "text": [
      "[I 2024-05-05 18:19:29,688] Trial 46 finished with value: 0.43333333333333335 and parameters: {'lr': 0.0025588016162348274, 'L2': 0.0002107726382413078, 'batch_size': 4, 'nesterov': False}. Best is trial 41 with value: 0.5.\n"
     ]
    },
    {
     "name": "stdout",
     "output_type": "stream",
     "text": [
      "Accuracy: Train: 0.784 | Val: 0.433\n",
      "[E= 9] [it=  510] Train Loss: 1.207, Test Loss: 1.356\n",
      "[E=19] [it= 1020] Train Loss: 1.027, Test Loss: 1.372\n"
     ]
    },
    {
     "name": "stderr",
     "output_type": "stream",
     "text": [
      "[I 2024-05-05 18:20:27,061] Trial 47 finished with value: 0.4111111111111111 and parameters: {'lr': 0.0003900697863826583, 'L2': 0.00011228163116136231, 'batch_size': 4, 'nesterov': False}. Best is trial 41 with value: 0.5.\n"
     ]
    },
    {
     "name": "stdout",
     "output_type": "stream",
     "text": [
      "Accuracy: Train: 0.500 | Val: 0.411\n",
      "[E= 9] [it=  510] Train Loss: 1.265, Test Loss: 1.459\n",
      "[E=19] [it= 1020] Train Loss: 1.073, Test Loss: 1.501\n"
     ]
    },
    {
     "name": "stderr",
     "output_type": "stream",
     "text": [
      "[I 2024-05-05 18:21:24,721] Trial 48 finished with value: 0.43333333333333335 and parameters: {'lr': 0.02120644002781443, 'L2': 5.5792276806867565e-05, 'batch_size': 4, 'nesterov': False}. Best is trial 41 with value: 0.5.\n"
     ]
    },
    {
     "name": "stdout",
     "output_type": "stream",
     "text": [
      "Accuracy: Train: 0.632 | Val: 0.433\n",
      "[E= 9] [it=  510] Train Loss: 1.041, Test Loss: 1.482\n",
      "[E=19] [it= 1020] Train Loss: 0.548, Test Loss: 1.667\n"
     ]
    },
    {
     "name": "stderr",
     "output_type": "stream",
     "text": [
      "[I 2024-05-05 18:22:22,711] Trial 49 finished with value: 0.45555555555555555 and parameters: {'lr': 0.004131502455786573, 'L2': 1.9858868557713828e-05, 'batch_size': 4, 'nesterov': False}. Best is trial 41 with value: 0.5.\n"
     ]
    },
    {
     "name": "stdout",
     "output_type": "stream",
     "text": [
      "Accuracy: Train: 0.873 | Val: 0.456\n",
      "[E= 9] [it= 1030] Train Loss: 1.174, Test Loss: 1.338\n",
      "[E=19] [it= 2060] Train Loss: 0.893, Test Loss: 1.605\n"
     ]
    },
    {
     "name": "stderr",
     "output_type": "stream",
     "text": [
      "[I 2024-05-05 18:23:26,900] Trial 50 finished with value: 0.45555555555555555 and parameters: {'lr': 0.0007440988799460238, 'L2': 0.00019298801160217707, 'batch_size': 2, 'nesterov': False}. Best is trial 41 with value: 0.5.\n"
     ]
    },
    {
     "name": "stdout",
     "output_type": "stream",
     "text": [
      "Accuracy: Train: 0.607 | Val: 0.456\n",
      "[E= 9] [it=  510] Train Loss: 1.253, Test Loss: 1.393\n",
      "[E=19] [it= 1020] Train Loss: 0.934, Test Loss: 1.664\n"
     ]
    },
    {
     "name": "stderr",
     "output_type": "stream",
     "text": [
      "[I 2024-05-05 18:24:24,326] Trial 51 finished with value: 0.3333333333333333 and parameters: {'lr': 0.001907674286857019, 'L2': 8.794360815111499e-05, 'batch_size': 4, 'nesterov': False}. Best is trial 41 with value: 0.5.\n"
     ]
    },
    {
     "name": "stdout",
     "output_type": "stream",
     "text": [
      "Accuracy: Train: 0.480 | Val: 0.333\n",
      "[E= 9] [it=  510] Train Loss: 1.092, Test Loss: 1.357\n",
      "[E=19] [it= 1020] Train Loss: 0.961, Test Loss: 1.444\n"
     ]
    },
    {
     "name": "stderr",
     "output_type": "stream",
     "text": [
      "[I 2024-05-05 18:25:21,470] Trial 52 finished with value: 0.35555555555555557 and parameters: {'lr': 0.0015787072452223979, 'L2': 0.00013117878903943142, 'batch_size': 4, 'nesterov': False}. Best is trial 41 with value: 0.5.\n"
     ]
    },
    {
     "name": "stdout",
     "output_type": "stream",
     "text": [
      "Accuracy: Train: 0.662 | Val: 0.356\n",
      "[E= 9] [it=  510] Train Loss: 1.159, Test Loss: 1.327\n",
      "[E=19] [it= 1020] Train Loss: 0.861, Test Loss: 1.513\n"
     ]
    },
    {
     "name": "stderr",
     "output_type": "stream",
     "text": [
      "[I 2024-05-05 18:26:18,832] Trial 53 finished with value: 0.34444444444444444 and parameters: {'lr': 0.006706260523675069, 'L2': 0.00032536851597211386, 'batch_size': 4, 'nesterov': False}. Best is trial 41 with value: 0.5.\n"
     ]
    },
    {
     "name": "stdout",
     "output_type": "stream",
     "text": [
      "Accuracy: Train: 0.647 | Val: 0.344\n",
      "[E= 9] [it=  510] Train Loss: 1.144, Test Loss: 1.500\n",
      "[E=19] [it= 1020] Train Loss: 0.911, Test Loss: 1.620\n"
     ]
    },
    {
     "name": "stderr",
     "output_type": "stream",
     "text": [
      "[I 2024-05-05 18:27:16,313] Trial 54 finished with value: 0.4444444444444444 and parameters: {'lr': 0.002117888413394298, 'L2': 8.587101121492475e-05, 'batch_size': 4, 'nesterov': False}. Best is trial 41 with value: 0.5.\n"
     ]
    },
    {
     "name": "stdout",
     "output_type": "stream",
     "text": [
      "Accuracy: Train: 0.701 | Val: 0.444\n",
      "[E= 9] [it=  510] Train Loss: 1.055, Test Loss: 1.324\n",
      "[E=19] [it= 1020] Train Loss: 0.631, Test Loss: 1.839\n"
     ]
    },
    {
     "name": "stderr",
     "output_type": "stream",
     "text": [
      "[I 2024-05-05 18:28:13,946] Trial 55 finished with value: 0.36666666666666664 and parameters: {'lr': 0.0036641757716687623, 'L2': 0.0005668427970965998, 'batch_size': 4, 'nesterov': False}. Best is trial 41 with value: 0.5.\n"
     ]
    },
    {
     "name": "stdout",
     "output_type": "stream",
     "text": [
      "Accuracy: Train: 0.824 | Val: 0.367\n",
      "[E= 9] [it=  510] Train Loss: 1.258, Test Loss: 1.387\n",
      "[E=19] [it= 1020] Train Loss: 1.154, Test Loss: 1.422\n"
     ]
    },
    {
     "name": "stderr",
     "output_type": "stream",
     "text": [
      "[I 2024-05-05 18:29:11,353] Trial 56 finished with value: 0.35555555555555557 and parameters: {'lr': 0.0002687378263041062, 'L2': 0.00022657763589014606, 'batch_size': 4, 'nesterov': False}. Best is trial 41 with value: 0.5.\n"
     ]
    },
    {
     "name": "stdout",
     "output_type": "stream",
     "text": [
      "Accuracy: Train: 0.559 | Val: 0.356\n",
      "[E= 9] [it=  510] Train Loss: 1.230, Test Loss: 1.364\n",
      "[E=19] [it= 1020] Train Loss: 1.076, Test Loss: 1.469\n"
     ]
    },
    {
     "name": "stderr",
     "output_type": "stream",
     "text": [
      "[I 2024-05-05 18:30:08,629] Trial 57 finished with value: 0.3888888888888889 and parameters: {'lr': 0.0006054691641397612, 'L2': 0.00013399553210462025, 'batch_size': 4, 'nesterov': False}. Best is trial 41 with value: 0.5.\n"
     ]
    },
    {
     "name": "stdout",
     "output_type": "stream",
     "text": [
      "Accuracy: Train: 0.554 | Val: 0.389\n",
      "[E= 9] [it=  250] Train Loss: 1.221, Test Loss: 1.370\n",
      "[E=19] [it=  500] Train Loss: 1.068, Test Loss: 1.296\n"
     ]
    },
    {
     "name": "stderr",
     "output_type": "stream",
     "text": [
      "[I 2024-05-05 18:31:01,708] Trial 58 finished with value: 0.4888888888888889 and parameters: {'lr': 0.0010185215716841888, 'L2': 3.703730566591527e-05, 'batch_size': 8, 'nesterov': True}. Best is trial 41 with value: 0.5.\n"
     ]
    },
    {
     "name": "stdout",
     "output_type": "stream",
     "text": [
      "Accuracy: Train: 0.515 | Val: 0.489\n",
      "[E= 9] [it=  250] Train Loss: 1.385, Test Loss: 1.449\n",
      "[E=19] [it=  500] Train Loss: 1.396, Test Loss: 1.416\n"
     ]
    },
    {
     "name": "stderr",
     "output_type": "stream",
     "text": [
      "[I 2024-05-05 18:31:54,524] Trial 59 finished with value: 0.35555555555555557 and parameters: {'lr': 0.06644745406821555, 'L2': 4.114780886736092e-05, 'batch_size': 8, 'nesterov': True}. Best is trial 41 with value: 0.5.\n"
     ]
    },
    {
     "name": "stdout",
     "output_type": "stream",
     "text": [
      "Accuracy: Train: 0.370 | Val: 0.356\n",
      "[E= 9] [it=  250] Train Loss: 1.210, Test Loss: 1.372\n",
      "[E=19] [it=  500] Train Loss: 1.062, Test Loss: 1.379\n"
     ]
    },
    {
     "name": "stderr",
     "output_type": "stream",
     "text": [
      "[I 2024-05-05 18:32:46,882] Trial 60 finished with value: 0.3888888888888889 and parameters: {'lr': 0.0008332797116784172, 'L2': 2.511678445802412e-05, 'batch_size': 8, 'nesterov': True}. Best is trial 41 with value: 0.5.\n"
     ]
    },
    {
     "name": "stdout",
     "output_type": "stream",
     "text": [
      "Accuracy: Train: 0.480 | Val: 0.389\n",
      "[E= 9] [it=  250] Train Loss: 1.213, Test Loss: 1.359\n",
      "[E=19] [it=  500] Train Loss: 1.010, Test Loss: 1.333\n"
     ]
    },
    {
     "name": "stderr",
     "output_type": "stream",
     "text": [
      "[I 2024-05-05 18:33:39,645] Trial 61 finished with value: 0.43333333333333335 and parameters: {'lr': 0.0013410163120339976, 'L2': 6.90551346832462e-05, 'batch_size': 8, 'nesterov': True}. Best is trial 41 with value: 0.5.\n"
     ]
    },
    {
     "name": "stdout",
     "output_type": "stream",
     "text": [
      "Accuracy: Train: 0.550 | Val: 0.433\n",
      "[E= 9] [it=  250] Train Loss: 1.135, Test Loss: 1.358\n",
      "[E=19] [it=  500] Train Loss: 0.850, Test Loss: 1.654\n"
     ]
    },
    {
     "name": "stderr",
     "output_type": "stream",
     "text": [
      "[I 2024-05-05 18:34:32,079] Trial 62 finished with value: 0.36666666666666664 and parameters: {'lr': 0.0023574406545146588, 'L2': 3.9911768412181776e-05, 'batch_size': 8, 'nesterov': True}. Best is trial 41 with value: 0.5.\n"
     ]
    },
    {
     "name": "stdout",
     "output_type": "stream",
     "text": [
      "Accuracy: Train: 0.750 | Val: 0.367\n",
      "[E= 9] [it= 2070] Train Loss: 1.225, Test Loss: 1.371\n",
      "[E=19] [it= 4140] Train Loss: 1.388, Test Loss: 1.464\n"
     ]
    },
    {
     "name": "stderr",
     "output_type": "stream",
     "text": [
      "[I 2024-05-05 18:35:42,894] Trial 63 finished with value: 0.35555555555555557 and parameters: {'lr': 0.008857196027630751, 'L2': 1.8123053319272943e-05, 'batch_size': 1, 'nesterov': True}. Best is trial 41 with value: 0.5.\n"
     ]
    },
    {
     "name": "stdout",
     "output_type": "stream",
     "text": [
      "Accuracy: Train: 0.377 | Val: 0.356\n",
      "[E= 9] [it=  510] Train Loss: 1.076, Test Loss: 1.475\n",
      "[E=19] [it= 1020] Train Loss: 0.830, Test Loss: 1.500\n"
     ]
    },
    {
     "name": "stderr",
     "output_type": "stream",
     "text": [
      "[I 2024-05-05 18:36:40,013] Trial 64 finished with value: 0.4666666666666667 and parameters: {'lr': 0.0009878457409788338, 'L2': 0.00015466720868329866, 'batch_size': 4, 'nesterov': True}. Best is trial 41 with value: 0.5.\n"
     ]
    },
    {
     "name": "stdout",
     "output_type": "stream",
     "text": [
      "Accuracy: Train: 0.672 | Val: 0.467\n",
      "[E= 9] [it=  510] Train Loss: 1.213, Test Loss: 1.336\n",
      "[E=19] [it= 1020] Train Loss: 0.816, Test Loss: 1.385\n"
     ]
    },
    {
     "name": "stderr",
     "output_type": "stream",
     "text": [
      "[I 2024-05-05 18:37:37,472] Trial 65 finished with value: 0.45555555555555555 and parameters: {'lr': 0.005696987534645963, 'L2': 0.0006943191913386215, 'batch_size': 4, 'nesterov': False}. Best is trial 41 with value: 0.5.\n"
     ]
    },
    {
     "name": "stdout",
     "output_type": "stream",
     "text": [
      "Accuracy: Train: 0.716 | Val: 0.456\n",
      "[E= 9] [it=  250] Train Loss: 1.109, Test Loss: 1.335\n",
      "[E=19] [it=  500] Train Loss: 0.767, Test Loss: 1.518\n"
     ]
    },
    {
     "name": "stderr",
     "output_type": "stream",
     "text": [
      "[I 2024-05-05 18:38:30,954] Trial 66 finished with value: 0.4222222222222222 and parameters: {'lr': 0.001658714379248058, 'L2': 3.318963982205901e-05, 'batch_size': 8, 'nesterov': True}. Best is trial 41 with value: 0.5.\n"
     ]
    },
    {
     "name": "stdout",
     "output_type": "stream",
     "text": [
      "Accuracy: Train: 0.710 | Val: 0.422\n",
      "[E= 9] [it=  510] Train Loss: 1.304, Test Loss: 1.435\n",
      "[E=19] [it= 1020] Train Loss: 1.241, Test Loss: 1.385\n"
     ]
    },
    {
     "name": "stderr",
     "output_type": "stream",
     "text": [
      "[I 2024-05-05 18:39:28,192] Trial 67 finished with value: 0.36666666666666664 and parameters: {'lr': 8.260726617941224e-05, 'L2': 0.0014372758943264545, 'batch_size': 4, 'nesterov': True}. Best is trial 41 with value: 0.5.\n"
     ]
    },
    {
     "name": "stdout",
     "output_type": "stream",
     "text": [
      "Accuracy: Train: 0.392 | Val: 0.367\n",
      "[E= 9] [it= 1030] Train Loss: 1.247, Test Loss: 1.384\n",
      "[E=19] [it= 2060] Train Loss: 1.043, Test Loss: 1.422\n"
     ]
    },
    {
     "name": "stderr",
     "output_type": "stream",
     "text": [
      "[I 2024-05-05 18:40:32,087] Trial 68 finished with value: 0.4666666666666667 and parameters: {'lr': 0.00033443699910617997, 'L2': 0.0003803457042920595, 'batch_size': 2, 'nesterov': False}. Best is trial 41 with value: 0.5.\n"
     ]
    },
    {
     "name": "stdout",
     "output_type": "stream",
     "text": [
      "Accuracy: Train: 0.539 | Val: 0.467\n",
      "[E= 9] [it=  510] Train Loss: 1.205, Test Loss: 1.475\n",
      "[E=19] [it= 1020] Train Loss: 0.969, Test Loss: 1.516\n"
     ]
    },
    {
     "name": "stderr",
     "output_type": "stream",
     "text": [
      "[I 2024-05-05 18:41:29,322] Trial 69 finished with value: 0.37777777777777777 and parameters: {'lr': 0.0005678176200576054, 'L2': 1.2252852927599668e-05, 'batch_size': 4, 'nesterov': True}. Best is trial 41 with value: 0.5.\n"
     ]
    },
    {
     "name": "stdout",
     "output_type": "stream",
     "text": [
      "Accuracy: Train: 0.608 | Val: 0.378\n",
      "[E= 9] [it=  510] Train Loss: 0.967, Test Loss: 1.632\n",
      "[E=19] [it= 1020] Train Loss: 0.495, Test Loss: 1.617\n"
     ]
    },
    {
     "name": "stderr",
     "output_type": "stream",
     "text": [
      "[I 2024-05-05 18:42:26,950] Trial 70 finished with value: 0.5 and parameters: {'lr': 0.0031947665133633444, 'L2': 5.359990690990662e-05, 'batch_size': 4, 'nesterov': True}. Best is trial 41 with value: 0.5.\n"
     ]
    },
    {
     "name": "stdout",
     "output_type": "stream",
     "text": [
      "Accuracy: Train: 0.833 | Val: 0.500\n",
      "[E= 9] [it=  510] Train Loss: 1.101, Test Loss: 1.332\n",
      "[E=19] [it= 1020] Train Loss: 0.700, Test Loss: 1.446\n"
     ]
    },
    {
     "name": "stderr",
     "output_type": "stream",
     "text": [
      "[I 2024-05-05 18:43:24,186] Trial 71 finished with value: 0.45555555555555555 and parameters: {'lr': 0.0031682154828382406, 'L2': 7.558145105896436e-05, 'batch_size': 4, 'nesterov': True}. Best is trial 41 with value: 0.5.\n"
     ]
    },
    {
     "name": "stdout",
     "output_type": "stream",
     "text": [
      "Accuracy: Train: 0.809 | Val: 0.456\n",
      "[E= 9] [it=  510] Train Loss: 0.959, Test Loss: 1.549\n",
      "[E=19] [it= 1020] Train Loss: 0.607, Test Loss: 1.756\n"
     ]
    },
    {
     "name": "stderr",
     "output_type": "stream",
     "text": [
      "[I 2024-05-05 18:44:21,016] Trial 72 finished with value: 0.4777777777777778 and parameters: {'lr': 0.002295066878980944, 'L2': 5.9440074371823214e-05, 'batch_size': 4, 'nesterov': True}. Best is trial 41 with value: 0.5.\n"
     ]
    },
    {
     "name": "stdout",
     "output_type": "stream",
     "text": [
      "Accuracy: Train: 0.775 | Val: 0.478\n",
      "[E= 9] [it=  510] Train Loss: 1.049, Test Loss: 1.287\n",
      "[E=19] [it= 1020] Train Loss: 0.545, Test Loss: 2.282\n"
     ]
    },
    {
     "name": "stderr",
     "output_type": "stream",
     "text": [
      "[I 2024-05-05 18:45:18,404] Trial 73 finished with value: 0.4222222222222222 and parameters: {'lr': 0.0034416518270203975, 'L2': 5.628857369482917e-05, 'batch_size': 4, 'nesterov': True}. Best is trial 41 with value: 0.5.\n"
     ]
    },
    {
     "name": "stdout",
     "output_type": "stream",
     "text": [
      "Accuracy: Train: 0.735 | Val: 0.422\n",
      "[E= 9] [it=  510] Train Loss: 1.112, Test Loss: 1.332\n",
      "[E=19] [it= 1020] Train Loss: 0.827, Test Loss: 1.607\n"
     ]
    },
    {
     "name": "stderr",
     "output_type": "stream",
     "text": [
      "[I 2024-05-05 18:46:15,608] Trial 74 finished with value: 0.4444444444444444 and parameters: {'lr': 0.0013321022018992692, 'L2': 2.6389483066023974e-05, 'batch_size': 4, 'nesterov': True}. Best is trial 41 with value: 0.5.\n"
     ]
    },
    {
     "name": "stdout",
     "output_type": "stream",
     "text": [
      "Accuracy: Train: 0.672 | Val: 0.444\n",
      "[E= 9] [it=  510] Train Loss: 1.082, Test Loss: 1.333\n",
      "[E=19] [it= 1020] Train Loss: 0.612, Test Loss: 1.914\n"
     ]
    },
    {
     "name": "stderr",
     "output_type": "stream",
     "text": [
      "[I 2024-05-05 18:47:12,882] Trial 75 finished with value: 0.4111111111111111 and parameters: {'lr': 0.004749817612211552, 'L2': 4.427243551428182e-05, 'batch_size': 4, 'nesterov': True}. Best is trial 41 with value: 0.5.\n"
     ]
    },
    {
     "name": "stdout",
     "output_type": "stream",
     "text": [
      "Accuracy: Train: 0.804 | Val: 0.411\n",
      "[E= 9] [it=  250] Train Loss: 1.122, Test Loss: 1.431\n",
      "[E=19] [it=  500] Train Loss: 0.815, Test Loss: 1.494\n"
     ]
    },
    {
     "name": "stderr",
     "output_type": "stream",
     "text": [
      "[I 2024-05-05 18:48:05,318] Trial 76 finished with value: 0.43333333333333335 and parameters: {'lr': 0.0023909695965611483, 'L2': 0.0002516685235242735, 'batch_size': 8, 'nesterov': True}. Best is trial 41 with value: 0.5.\n"
     ]
    },
    {
     "name": "stdout",
     "output_type": "stream",
     "text": [
      "Accuracy: Train: 0.745 | Val: 0.433\n",
      "[E= 9] [it= 2070] Train Loss: 1.024, Test Loss: 1.374\n",
      "[E=19] [it= 4140] Train Loss: 0.641, Test Loss: 2.344\n"
     ]
    },
    {
     "name": "stderr",
     "output_type": "stream",
     "text": [
      "[I 2024-05-05 18:49:16,123] Trial 77 finished with value: 0.3333333333333333 and parameters: {'lr': 0.0011091729903771781, 'L2': 0.00011075650605776372, 'batch_size': 1, 'nesterov': True}. Best is trial 41 with value: 0.5.\n"
     ]
    },
    {
     "name": "stdout",
     "output_type": "stream",
     "text": [
      "Accuracy: Train: 0.715 | Val: 0.333\n",
      "[E= 9] [it=  510] Train Loss: 1.472, Test Loss: 1.550\n",
      "[E=19] [it= 1020] Train Loss: 1.376, Test Loss: 1.480\n"
     ]
    },
    {
     "name": "stderr",
     "output_type": "stream",
     "text": [
      "[I 2024-05-05 18:50:13,506] Trial 78 finished with value: 0.35555555555555557 and parameters: {'lr': 2.2143277671654253e-05, 'L2': 1.5644848811952377e-05, 'batch_size': 4, 'nesterov': True}. Best is trial 41 with value: 0.5.\n"
     ]
    },
    {
     "name": "stdout",
     "output_type": "stream",
     "text": [
      "Accuracy: Train: 0.382 | Val: 0.356\n",
      "[E= 9] [it=  510] Train Loss: 0.928, Test Loss: 1.323\n",
      "[E=19] [it= 1020] Train Loss: 0.610, Test Loss: 1.886\n"
     ]
    },
    {
     "name": "stderr",
     "output_type": "stream",
     "text": [
      "[I 2024-05-05 18:51:10,801] Trial 79 finished with value: 0.37777777777777777 and parameters: {'lr': 0.009264697276357554, 'L2': 0.00018208669213780522, 'batch_size': 4, 'nesterov': True}. Best is trial 41 with value: 0.5.\n"
     ]
    },
    {
     "name": "stdout",
     "output_type": "stream",
     "text": [
      "Accuracy: Train: 0.686 | Val: 0.378\n",
      "[E= 9] [it=  510] Train Loss: 1.266, Test Loss: 1.375\n",
      "[E=19] [it= 1020] Train Loss: 1.193, Test Loss: 1.353\n"
     ]
    },
    {
     "name": "stderr",
     "output_type": "stream",
     "text": [
      "[I 2024-05-05 18:52:08,162] Trial 80 finished with value: 0.4444444444444444 and parameters: {'lr': 0.00022011761245244873, 'L2': 5.460496222255105e-05, 'batch_size': 4, 'nesterov': True}. Best is trial 41 with value: 0.5.\n"
     ]
    },
    {
     "name": "stdout",
     "output_type": "stream",
     "text": [
      "Accuracy: Train: 0.446 | Val: 0.444\n",
      "[E= 9] [it=  510] Train Loss: 1.088, Test Loss: 1.438\n",
      "[E=19] [it= 1020] Train Loss: 0.805, Test Loss: 1.517\n"
     ]
    },
    {
     "name": "stderr",
     "output_type": "stream",
     "text": [
      "[I 2024-05-05 18:53:05,553] Trial 81 finished with value: 0.4666666666666667 and parameters: {'lr': 0.0015411005341586014, 'L2': 3.180206216991144e-05, 'batch_size': 4, 'nesterov': True}. Best is trial 41 with value: 0.5.\n"
     ]
    },
    {
     "name": "stdout",
     "output_type": "stream",
     "text": [
      "Accuracy: Train: 0.735 | Val: 0.467\n",
      "[E= 9] [it=  510] Train Loss: 1.119, Test Loss: 1.332\n",
      "[E=19] [it= 1020] Train Loss: 0.741, Test Loss: 1.522\n"
     ]
    },
    {
     "name": "stderr",
     "output_type": "stream",
     "text": [
      "[I 2024-05-05 18:54:02,793] Trial 82 finished with value: 0.4444444444444444 and parameters: {'lr': 0.001967504136065539, 'L2': 7.85888992456147e-05, 'batch_size': 4, 'nesterov': True}. Best is trial 41 with value: 0.5.\n"
     ]
    },
    {
     "name": "stdout",
     "output_type": "stream",
     "text": [
      "Accuracy: Train: 0.696 | Val: 0.444\n",
      "[E= 9] [it=  510] Train Loss: 1.079, Test Loss: 1.462\n",
      "[E=19] [it= 1020] Train Loss: 0.738, Test Loss: 1.872\n"
     ]
    },
    {
     "name": "stderr",
     "output_type": "stream",
     "text": [
      "[I 2024-05-05 18:54:59,739] Trial 83 finished with value: 0.4111111111111111 and parameters: {'lr': 0.0027115594344210457, 'L2': 0.00010501081489950546, 'batch_size': 4, 'nesterov': False}. Best is trial 41 with value: 0.5.\n"
     ]
    },
    {
     "name": "stdout",
     "output_type": "stream",
     "text": [
      "Accuracy: Train: 0.745 | Val: 0.411\n",
      "[E= 9] [it=  510] Train Loss: 1.151, Test Loss: 1.327\n",
      "[E=19] [it= 1020] Train Loss: 0.913, Test Loss: 1.483\n"
     ]
    },
    {
     "name": "stderr",
     "output_type": "stream",
     "text": [
      "[I 2024-05-05 18:55:56,725] Trial 84 finished with value: 0.4222222222222222 and parameters: {'lr': 0.0008294572113228069, 'L2': 0.0009780633828151601, 'batch_size': 4, 'nesterov': True}. Best is trial 41 with value: 0.5.\n"
     ]
    },
    {
     "name": "stdout",
     "output_type": "stream",
     "text": [
      "Accuracy: Train: 0.627 | Val: 0.422\n",
      "[E= 9] [it=  510] Train Loss: 1.211, Test Loss: 1.438\n",
      "[E=19] [it= 1020] Train Loss: 1.074, Test Loss: 1.483\n"
     ]
    },
    {
     "name": "stderr",
     "output_type": "stream",
     "text": [
      "[I 2024-05-05 18:56:53,773] Trial 85 finished with value: 0.45555555555555555 and parameters: {'lr': 0.0036772527261874025, 'L2': 0.024110647386331396, 'batch_size': 4, 'nesterov': False}. Best is trial 41 with value: 0.5.\n"
     ]
    },
    {
     "name": "stdout",
     "output_type": "stream",
     "text": [
      "Accuracy: Train: 0.569 | Val: 0.456\n",
      "[E= 9] [it= 1030] Train Loss: 1.121, Test Loss: 1.382\n",
      "[E=19] [it= 2060] Train Loss: 0.878, Test Loss: 1.815\n"
     ]
    },
    {
     "name": "stderr",
     "output_type": "stream",
     "text": [
      "[I 2024-05-05 18:57:57,501] Trial 86 finished with value: 0.35555555555555557 and parameters: {'lr': 0.005166855254405608, 'L2': 0.0003516901731150571, 'batch_size': 2, 'nesterov': True}. Best is trial 41 with value: 0.5.\n"
     ]
    },
    {
     "name": "stdout",
     "output_type": "stream",
     "text": [
      "Accuracy: Train: 0.680 | Val: 0.356\n",
      "[E= 9] [it=  510] Train Loss: 1.197, Test Loss: 1.332\n",
      "[E=19] [it= 1020] Train Loss: 1.050, Test Loss: 1.329\n"
     ]
    },
    {
     "name": "stderr",
     "output_type": "stream",
     "text": [
      "[I 2024-05-05 18:58:54,684] Trial 87 finished with value: 0.4444444444444444 and parameters: {'lr': 0.0004808195647236919, 'L2': 6.044273870916917e-05, 'batch_size': 4, 'nesterov': False}. Best is trial 41 with value: 0.5.\n"
     ]
    },
    {
     "name": "stdout",
     "output_type": "stream",
     "text": [
      "Accuracy: Train: 0.593 | Val: 0.444\n",
      "[E= 9] [it=  510] Train Loss: 1.159, Test Loss: 1.426\n",
      "[E=19] [it= 1020] Train Loss: 0.908, Test Loss: 1.696\n"
     ]
    },
    {
     "name": "stderr",
     "output_type": "stream",
     "text": [
      "[I 2024-05-05 18:59:52,628] Trial 88 finished with value: 0.4222222222222222 and parameters: {'lr': 0.0010890231485381834, 'L2': 0.0006064189037319562, 'batch_size': 4, 'nesterov': True}. Best is trial 41 with value: 0.5.\n"
     ]
    },
    {
     "name": "stdout",
     "output_type": "stream",
     "text": [
      "Accuracy: Train: 0.583 | Val: 0.422\n",
      "[E= 9] [it= 2070] Train Loss: 1.093, Test Loss: 1.538\n",
      "[E=19] [it= 4140] Train Loss: 0.813, Test Loss: 1.754\n"
     ]
    },
    {
     "name": "stderr",
     "output_type": "stream",
     "text": [
      "[I 2024-05-05 19:01:03,019] Trial 89 finished with value: 0.4444444444444444 and parameters: {'lr': 0.0017221785952979418, 'L2': 0.00043491092540115425, 'batch_size': 1, 'nesterov': False}. Best is trial 41 with value: 0.5.\n"
     ]
    },
    {
     "name": "stdout",
     "output_type": "stream",
     "text": [
      "Accuracy: Train: 0.638 | Val: 0.444\n",
      "[E= 9] [it=  510] Train Loss: 1.649, Test Loss: 1.675\n",
      "[E=19] [it= 1020] Train Loss: 1.546, Test Loss: 1.583\n"
     ]
    },
    {
     "name": "stderr",
     "output_type": "stream",
     "text": [
      "[I 2024-05-05 19:02:00,371] Trial 90 finished with value: 0.34444444444444444 and parameters: {'lr': 1.0705457306830294e-05, 'L2': 0.00011938579106786885, 'batch_size': 4, 'nesterov': True}. Best is trial 41 with value: 0.5.\n"
     ]
    },
    {
     "name": "stdout",
     "output_type": "stream",
     "text": [
      "Accuracy: Train: 0.353 | Val: 0.344\n",
      "[E= 9] [it=  510] Train Loss: 1.161, Test Loss: 1.371\n",
      "[E=19] [it= 1020] Train Loss: 0.866, Test Loss: 1.640\n"
     ]
    },
    {
     "name": "stderr",
     "output_type": "stream",
     "text": [
      "[I 2024-05-05 19:02:58,253] Trial 91 finished with value: 0.45555555555555555 and parameters: {'lr': 0.0009957602375481277, 'L2': 0.0001577389038761398, 'batch_size': 4, 'nesterov': True}. Best is trial 41 with value: 0.5.\n"
     ]
    },
    {
     "name": "stdout",
     "output_type": "stream",
     "text": [
      "Accuracy: Train: 0.569 | Val: 0.456\n",
      "[E= 9] [it=  510] Train Loss: 1.133, Test Loss: 1.421\n",
      "[E=19] [it= 1020] Train Loss: 0.815, Test Loss: 1.376\n"
     ]
    },
    {
     "name": "stderr",
     "output_type": "stream",
     "text": [
      "[I 2024-05-05 19:03:55,566] Trial 92 finished with value: 0.45555555555555555 and parameters: {'lr': 0.0028019853081782072, 'L2': 9.21846565224886e-05, 'batch_size': 4, 'nesterov': True}. Best is trial 41 with value: 0.5.\n"
     ]
    },
    {
     "name": "stdout",
     "output_type": "stream",
     "text": [
      "Accuracy: Train: 0.765 | Val: 0.456\n",
      "[E= 9] [it=  510] Train Loss: 1.052, Test Loss: 1.320\n",
      "[E=19] [it= 1020] Train Loss: 0.634, Test Loss: 1.725\n"
     ]
    },
    {
     "name": "stderr",
     "output_type": "stream",
     "text": [
      "[I 2024-05-05 19:04:53,029] Trial 93 finished with value: 0.4666666666666667 and parameters: {'lr': 0.0021860213154098447, 'L2': 0.00015030510840895569, 'batch_size': 4, 'nesterov': True}. Best is trial 41 with value: 0.5.\n"
     ]
    },
    {
     "name": "stdout",
     "output_type": "stream",
     "text": [
      "Accuracy: Train: 0.775 | Val: 0.467\n",
      "[E= 9] [it=  510] Train Loss: 1.295, Test Loss: 1.407\n",
      "[E=19] [it= 1020] Train Loss: 1.240, Test Loss: 1.366\n"
     ]
    },
    {
     "name": "stderr",
     "output_type": "stream",
     "text": [
      "[I 2024-05-05 19:05:50,057] Trial 94 finished with value: 0.3333333333333333 and parameters: {'lr': 8.073108921991265e-05, 'L2': 0.0002533685795917536, 'batch_size': 4, 'nesterov': True}. Best is trial 41 with value: 0.5.\n"
     ]
    },
    {
     "name": "stdout",
     "output_type": "stream",
     "text": [
      "Accuracy: Train: 0.436 | Val: 0.333\n",
      "[E= 9] [it=  250] Train Loss: 1.140, Test Loss: 1.328\n",
      "[E=19] [it=  500] Train Loss: 0.890, Test Loss: 1.593\n"
     ]
    },
    {
     "name": "stderr",
     "output_type": "stream",
     "text": [
      "[I 2024-05-05 19:06:42,942] Trial 95 finished with value: 0.45555555555555555 and parameters: {'lr': 0.0014491543906674455, 'L2': 0.00017848828469156015, 'batch_size': 8, 'nesterov': True}. Best is trial 41 with value: 0.5.\n"
     ]
    },
    {
     "name": "stdout",
     "output_type": "stream",
     "text": [
      "Accuracy: Train: 0.665 | Val: 0.456\n",
      "[E= 9] [it=  510] Train Loss: 1.156, Test Loss: 1.461\n",
      "[E=19] [it= 1020] Train Loss: 0.661, Test Loss: 2.561\n"
     ]
    },
    {
     "name": "stderr",
     "output_type": "stream",
     "text": [
      "[I 2024-05-05 19:07:41,059] Trial 96 finished with value: 0.4 and parameters: {'lr': 0.004197453035665678, 'L2': 3.5567318328984984e-05, 'batch_size': 4, 'nesterov': False}. Best is trial 41 with value: 0.5.\n"
     ]
    },
    {
     "name": "stdout",
     "output_type": "stream",
     "text": [
      "Accuracy: Train: 0.755 | Val: 0.400\n",
      "[E= 9] [it=  510] Train Loss: 1.183, Test Loss: 1.408\n",
      "[E=19] [it= 1020] Train Loss: 0.973, Test Loss: 1.412\n"
     ]
    },
    {
     "name": "stderr",
     "output_type": "stream",
     "text": [
      "[I 2024-05-05 19:08:37,959] Trial 97 finished with value: 0.4222222222222222 and parameters: {'lr': 0.0006167137994485095, 'L2': 5.043654977710725e-05, 'batch_size': 4, 'nesterov': True}. Best is trial 41 with value: 0.5.\n"
     ]
    },
    {
     "name": "stdout",
     "output_type": "stream",
     "text": [
      "Accuracy: Train: 0.657 | Val: 0.422\n",
      "[E= 9] [it=  510] Train Loss: 0.853, Test Loss: 1.677\n",
      "[E=19] [it= 1020] Train Loss: 0.601, Test Loss: 2.130\n"
     ]
    },
    {
     "name": "stderr",
     "output_type": "stream",
     "text": [
      "[I 2024-05-05 19:09:35,738] Trial 98 finished with value: 0.45555555555555555 and parameters: {'lr': 0.006593021069142759, 'L2': 0.000134632394337747, 'batch_size': 4, 'nesterov': True}. Best is trial 41 with value: 0.5.\n"
     ]
    },
    {
     "name": "stdout",
     "output_type": "stream",
     "text": [
      "Accuracy: Train: 0.882 | Val: 0.456\n",
      "[E= 9] [it=  510] Train Loss: 1.494, Test Loss: 1.546\n"
     ]
    },
    {
     "name": "stderr",
     "output_type": "stream",
     "text": [
      "[W 2024-05-05 19:10:26,353] Trial 99 failed with parameters: {'lr': 3.705259616371238e-05, 'L2': 6.900763354709171e-05, 'batch_size': 4, 'nesterov': False} because of the following error: KeyboardInterrupt().\n",
      "Traceback (most recent call last):\n",
      "  File \"/home/exi/programs/lib/python3.11/site-packages/optuna/study/_optimize.py\", line 196, in _run_trial\n",
      "    value_or_values = func(trial)\n",
      "                      ^^^^^^^^^^^\n",
      "  File \"/tmp/ipykernel_3111/1430703154.py\", line 47, in objective_SGD\n",
      "    model_final, trainloss, valloss = train_model(train_loader=train_loader, val_loader=val_loader, model=model,\n",
      "                                      ^^^^^^^^^^^^^^^^^^^^^^^^^^^^^^^^^^^^^^^^^^^^^^^^^^^^^^^^^^^^^^^^^^^^^^^^^^\n",
      "  File \"/tmp/ipykernel_3111/387759429.py\", line 33, in train_model\n",
      "    for i_batch, sample_batched in enumerate(train_loader):\n",
      "  File \"/home/exi/programs/lib/python3.11/site-packages/torch/utils/data/dataloader.py\", line 631, in __next__\n",
      "    data = self._next_data()\n",
      "           ^^^^^^^^^^^^^^^^^\n",
      "  File \"/home/exi/programs/lib/python3.11/site-packages/torch/utils/data/dataloader.py\", line 675, in _next_data\n",
      "    data = self._dataset_fetcher.fetch(index)  # may raise StopIteration\n",
      "           ^^^^^^^^^^^^^^^^^^^^^^^^^^^^^^^^^^\n",
      "  File \"/home/exi/programs/lib/python3.11/site-packages/torch/utils/data/_utils/fetch.py\", line 49, in fetch\n",
      "    data = self.dataset.__getitems__(possibly_batched_index)\n",
      "           ^^^^^^^^^^^^^^^^^^^^^^^^^^^^^^^^^^^^^^^^^^^^^^^^^\n",
      "  File \"/home/exi/programs/lib/python3.11/site-packages/torch/utils/data/dataset.py\", line 399, in __getitems__\n",
      "    return [self.dataset[self.indices[idx]] for idx in indices]\n",
      "           ^^^^^^^^^^^^^^^^^^^^^^^^^^^^^^^^^^^^^^^^^^^^^^^^^^^^\n",
      "  File \"/home/exi/programs/lib/python3.11/site-packages/torch/utils/data/dataset.py\", line 399, in <listcomp>\n",
      "    return [self.dataset[self.indices[idx]] for idx in indices]\n",
      "            ~~~~~~~~~~~~^^^^^^^^^^^^^^^^^^^\n",
      "  File \"/home/exi/programs/lib/python3.11/site-packages/torchvision/datasets/folder.py\", line 231, in __getitem__\n",
      "    sample = self.transform(sample)\n",
      "             ^^^^^^^^^^^^^^^^^^^^^^\n",
      "  File \"/home/exi/programs/lib/python3.11/site-packages/torchvision/transforms/transforms.py\", line 95, in __call__\n",
      "    img = t(img)\n",
      "          ^^^^^^\n",
      "  File \"/home/exi/programs/lib/python3.11/site-packages/torch/nn/modules/module.py\", line 1511, in _wrapped_call_impl\n",
      "    return self._call_impl(*args, **kwargs)\n",
      "           ^^^^^^^^^^^^^^^^^^^^^^^^^^^^^^^^\n",
      "  File \"/home/exi/programs/lib/python3.11/site-packages/torch/nn/modules/module.py\", line 1520, in _call_impl\n",
      "    return forward_call(*args, **kwargs)\n",
      "           ^^^^^^^^^^^^^^^^^^^^^^^^^^^^^\n",
      "  File \"/home/exi/programs/lib/python3.11/site-packages/torchvision/transforms/transforms.py\", line 354, in forward\n",
      "    return F.resize(img, self.size, self.interpolation, self.max_size, self.antialias)\n",
      "           ^^^^^^^^^^^^^^^^^^^^^^^^^^^^^^^^^^^^^^^^^^^^^^^^^^^^^^^^^^^^^^^^^^^^^^^^^^^\n",
      "  File \"/home/exi/programs/lib/python3.11/site-packages/torchvision/transforms/functional.py\", line 467, in resize\n",
      "    return F_pil.resize(img, size=output_size, interpolation=pil_interpolation)\n",
      "           ^^^^^^^^^^^^^^^^^^^^^^^^^^^^^^^^^^^^^^^^^^^^^^^^^^^^^^^^^^^^^^^^^^^^\n",
      "  File \"/home/exi/programs/lib/python3.11/site-packages/torchvision/transforms/_functional_pil.py\", line 250, in resize\n",
      "    return img.resize(tuple(size[::-1]), interpolation)\n",
      "           ^^^^^^^^^^^^^^^^^^^^^^^^^^^^^^^^^^^^^^^^^^^^\n",
      "  File \"/home/exi/programs/lib/python3.11/site-packages/PIL/Image.py\", line 2174, in resize\n",
      "    return self._new(self.im.resize(size, resample, box))\n",
      "                     ^^^^^^^^^^^^^^^^^^^^^^^^^^^^^^^^^^^\n",
      "KeyboardInterrupt\n",
      "[W 2024-05-05 19:10:26,355] Trial 99 failed with value None.\n"
     ]
    },
    {
     "ename": "KeyboardInterrupt",
     "evalue": "",
     "output_type": "error",
     "traceback": [
      "\u001b[0;31m---------------------------------------------------------------------------\u001b[0m",
      "\u001b[0;31mKeyboardInterrupt\u001b[0m                         Traceback (most recent call last)",
      "\u001b[1;32m/home/exi/uni/2024/525/project/multi_emotions.ipynb Cell 36\u001b[0m line \u001b[0;36m6\n\u001b[1;32m     <a href='vscode-notebook-cell:/home/exi/uni/2024/525/project/multi_emotions.ipynb#X46sZmlsZQ%3D%3D?line=59'>60</a>\u001b[0m     \u001b[39mreturn\u001b[39;00m val_acc\n\u001b[1;32m     <a href='vscode-notebook-cell:/home/exi/uni/2024/525/project/multi_emotions.ipynb#X46sZmlsZQ%3D%3D?line=61'>62</a>\u001b[0m study \u001b[39m=\u001b[39m optuna\u001b[39m.\u001b[39mcreate_study(direction\u001b[39m=\u001b[39m\u001b[39m\"\u001b[39m\u001b[39mmaximize\u001b[39m\u001b[39m\"\u001b[39m, study_name\u001b[39m=\u001b[39m\u001b[39m\"\u001b[39m\u001b[39mSGD-Binary-Art\u001b[39m\u001b[39m\"\u001b[39m)\n\u001b[0;32m---> <a href='vscode-notebook-cell:/home/exi/uni/2024/525/project/multi_emotions.ipynb#X46sZmlsZQ%3D%3D?line=62'>63</a>\u001b[0m study\u001b[39m.\u001b[39;49moptimize(objective_SGD, n_trials\u001b[39m=\u001b[39;49m\u001b[39m100\u001b[39;49m)\n\u001b[1;32m     <a href='vscode-notebook-cell:/home/exi/uni/2024/525/project/multi_emotions.ipynb#X46sZmlsZQ%3D%3D?line=64'>65</a>\u001b[0m \u001b[39mprint\u001b[39m(\u001b[39m\"\u001b[39m\u001b[39mBest trial:\u001b[39m\u001b[39m\"\u001b[39m)\n\u001b[1;32m     <a href='vscode-notebook-cell:/home/exi/uni/2024/525/project/multi_emotions.ipynb#X46sZmlsZQ%3D%3D?line=65'>66</a>\u001b[0m trial \u001b[39m=\u001b[39m study\u001b[39m.\u001b[39mbest_trial\n",
      "File \u001b[0;32m~/programs/lib/python3.11/site-packages/optuna/study/study.py:451\u001b[0m, in \u001b[0;36mStudy.optimize\u001b[0;34m(self, func, n_trials, timeout, n_jobs, catch, callbacks, gc_after_trial, show_progress_bar)\u001b[0m\n\u001b[1;32m    348\u001b[0m \u001b[39mdef\u001b[39;00m \u001b[39moptimize\u001b[39m(\n\u001b[1;32m    349\u001b[0m     \u001b[39mself\u001b[39m,\n\u001b[1;32m    350\u001b[0m     func: ObjectiveFuncType,\n\u001b[0;32m   (...)\u001b[0m\n\u001b[1;32m    357\u001b[0m     show_progress_bar: \u001b[39mbool\u001b[39m \u001b[39m=\u001b[39m \u001b[39mFalse\u001b[39;00m,\n\u001b[1;32m    358\u001b[0m ) \u001b[39m-\u001b[39m\u001b[39m>\u001b[39m \u001b[39mNone\u001b[39;00m:\n\u001b[1;32m    359\u001b[0m \u001b[39m    \u001b[39m\u001b[39m\"\"\"Optimize an objective function.\u001b[39;00m\n\u001b[1;32m    360\u001b[0m \n\u001b[1;32m    361\u001b[0m \u001b[39m    Optimization is done by choosing a suitable set of hyperparameter values from a given\u001b[39;00m\n\u001b[0;32m   (...)\u001b[0m\n\u001b[1;32m    449\u001b[0m \u001b[39m            If nested invocation of this method occurs.\u001b[39;00m\n\u001b[1;32m    450\u001b[0m \u001b[39m    \"\"\"\u001b[39;00m\n\u001b[0;32m--> 451\u001b[0m     _optimize(\n\u001b[1;32m    452\u001b[0m         study\u001b[39m=\u001b[39;49m\u001b[39mself\u001b[39;49m,\n\u001b[1;32m    453\u001b[0m         func\u001b[39m=\u001b[39;49mfunc,\n\u001b[1;32m    454\u001b[0m         n_trials\u001b[39m=\u001b[39;49mn_trials,\n\u001b[1;32m    455\u001b[0m         timeout\u001b[39m=\u001b[39;49mtimeout,\n\u001b[1;32m    456\u001b[0m         n_jobs\u001b[39m=\u001b[39;49mn_jobs,\n\u001b[1;32m    457\u001b[0m         catch\u001b[39m=\u001b[39;49m\u001b[39mtuple\u001b[39;49m(catch) \u001b[39mif\u001b[39;49;00m \u001b[39misinstance\u001b[39;49m(catch, Iterable) \u001b[39melse\u001b[39;49;00m (catch,),\n\u001b[1;32m    458\u001b[0m         callbacks\u001b[39m=\u001b[39;49mcallbacks,\n\u001b[1;32m    459\u001b[0m         gc_after_trial\u001b[39m=\u001b[39;49mgc_after_trial,\n\u001b[1;32m    460\u001b[0m         show_progress_bar\u001b[39m=\u001b[39;49mshow_progress_bar,\n\u001b[1;32m    461\u001b[0m     )\n",
      "File \u001b[0;32m~/programs/lib/python3.11/site-packages/optuna/study/_optimize.py:62\u001b[0m, in \u001b[0;36m_optimize\u001b[0;34m(study, func, n_trials, timeout, n_jobs, catch, callbacks, gc_after_trial, show_progress_bar)\u001b[0m\n\u001b[1;32m     60\u001b[0m \u001b[39mtry\u001b[39;00m:\n\u001b[1;32m     61\u001b[0m     \u001b[39mif\u001b[39;00m n_jobs \u001b[39m==\u001b[39m \u001b[39m1\u001b[39m:\n\u001b[0;32m---> 62\u001b[0m         _optimize_sequential(\n\u001b[1;32m     63\u001b[0m             study,\n\u001b[1;32m     64\u001b[0m             func,\n\u001b[1;32m     65\u001b[0m             n_trials,\n\u001b[1;32m     66\u001b[0m             timeout,\n\u001b[1;32m     67\u001b[0m             catch,\n\u001b[1;32m     68\u001b[0m             callbacks,\n\u001b[1;32m     69\u001b[0m             gc_after_trial,\n\u001b[1;32m     70\u001b[0m             reseed_sampler_rng\u001b[39m=\u001b[39;49m\u001b[39mFalse\u001b[39;49;00m,\n\u001b[1;32m     71\u001b[0m             time_start\u001b[39m=\u001b[39;49m\u001b[39mNone\u001b[39;49;00m,\n\u001b[1;32m     72\u001b[0m             progress_bar\u001b[39m=\u001b[39;49mprogress_bar,\n\u001b[1;32m     73\u001b[0m         )\n\u001b[1;32m     74\u001b[0m     \u001b[39melse\u001b[39;00m:\n\u001b[1;32m     75\u001b[0m         \u001b[39mif\u001b[39;00m n_jobs \u001b[39m==\u001b[39m \u001b[39m-\u001b[39m\u001b[39m1\u001b[39m:\n",
      "File \u001b[0;32m~/programs/lib/python3.11/site-packages/optuna/study/_optimize.py:159\u001b[0m, in \u001b[0;36m_optimize_sequential\u001b[0;34m(study, func, n_trials, timeout, catch, callbacks, gc_after_trial, reseed_sampler_rng, time_start, progress_bar)\u001b[0m\n\u001b[1;32m    156\u001b[0m         \u001b[39mbreak\u001b[39;00m\n\u001b[1;32m    158\u001b[0m \u001b[39mtry\u001b[39;00m:\n\u001b[0;32m--> 159\u001b[0m     frozen_trial \u001b[39m=\u001b[39m _run_trial(study, func, catch)\n\u001b[1;32m    160\u001b[0m \u001b[39mfinally\u001b[39;00m:\n\u001b[1;32m    161\u001b[0m     \u001b[39m# The following line mitigates memory problems that can be occurred in some\u001b[39;00m\n\u001b[1;32m    162\u001b[0m     \u001b[39m# environments (e.g., services that use computing containers such as GitHub Actions).\u001b[39;00m\n\u001b[1;32m    163\u001b[0m     \u001b[39m# Please refer to the following PR for further details:\u001b[39;00m\n\u001b[1;32m    164\u001b[0m     \u001b[39m# https://github.com/optuna/optuna/pull/325.\u001b[39;00m\n\u001b[1;32m    165\u001b[0m     \u001b[39mif\u001b[39;00m gc_after_trial:\n",
      "File \u001b[0;32m~/programs/lib/python3.11/site-packages/optuna/study/_optimize.py:247\u001b[0m, in \u001b[0;36m_run_trial\u001b[0;34m(study, func, catch)\u001b[0m\n\u001b[1;32m    240\u001b[0m         \u001b[39massert\u001b[39;00m \u001b[39mFalse\u001b[39;00m, \u001b[39m\"\u001b[39m\u001b[39mShould not reach.\u001b[39m\u001b[39m\"\u001b[39m\n\u001b[1;32m    242\u001b[0m \u001b[39mif\u001b[39;00m (\n\u001b[1;32m    243\u001b[0m     frozen_trial\u001b[39m.\u001b[39mstate \u001b[39m==\u001b[39m TrialState\u001b[39m.\u001b[39mFAIL\n\u001b[1;32m    244\u001b[0m     \u001b[39mand\u001b[39;00m func_err \u001b[39mis\u001b[39;00m \u001b[39mnot\u001b[39;00m \u001b[39mNone\u001b[39;00m\n\u001b[1;32m    245\u001b[0m     \u001b[39mand\u001b[39;00m \u001b[39mnot\u001b[39;00m \u001b[39misinstance\u001b[39m(func_err, catch)\n\u001b[1;32m    246\u001b[0m ):\n\u001b[0;32m--> 247\u001b[0m     \u001b[39mraise\u001b[39;00m func_err\n\u001b[1;32m    248\u001b[0m \u001b[39mreturn\u001b[39;00m frozen_trial\n",
      "File \u001b[0;32m~/programs/lib/python3.11/site-packages/optuna/study/_optimize.py:196\u001b[0m, in \u001b[0;36m_run_trial\u001b[0;34m(study, func, catch)\u001b[0m\n\u001b[1;32m    194\u001b[0m \u001b[39mwith\u001b[39;00m get_heartbeat_thread(trial\u001b[39m.\u001b[39m_trial_id, study\u001b[39m.\u001b[39m_storage):\n\u001b[1;32m    195\u001b[0m     \u001b[39mtry\u001b[39;00m:\n\u001b[0;32m--> 196\u001b[0m         value_or_values \u001b[39m=\u001b[39m func(trial)\n\u001b[1;32m    197\u001b[0m     \u001b[39mexcept\u001b[39;00m exceptions\u001b[39m.\u001b[39mTrialPruned \u001b[39mas\u001b[39;00m e:\n\u001b[1;32m    198\u001b[0m         \u001b[39m# TODO(mamu): Handle multi-objective cases.\u001b[39;00m\n\u001b[1;32m    199\u001b[0m         state \u001b[39m=\u001b[39m TrialState\u001b[39m.\u001b[39mPRUNED\n",
      "\u001b[1;32m/home/exi/uni/2024/525/project/multi_emotions.ipynb Cell 36\u001b[0m line \u001b[0;36m4\n\u001b[1;32m     <a href='vscode-notebook-cell:/home/exi/uni/2024/525/project/multi_emotions.ipynb#X46sZmlsZQ%3D%3D?line=40'>41</a>\u001b[0m optimizer \u001b[39m=\u001b[39m optim\u001b[39m.\u001b[39mSGD(model\u001b[39m.\u001b[39mparameters(), lr\u001b[39m=\u001b[39mlr, weight_decay\u001b[39m=\u001b[39mweight_decay, momentum\u001b[39m=\u001b[39mmomentum, nesterov\u001b[39m=\u001b[39mnesterov)\n\u001b[1;32m     <a href='vscode-notebook-cell:/home/exi/uni/2024/525/project/multi_emotions.ipynb#X46sZmlsZQ%3D%3D?line=41'>42</a>\u001b[0m \u001b[39m# optimizer = optim.Adam(model.parameters(), lr=learning_rate, weight_decay=weight_decay, betas=adam_betas)\u001b[39;00m\n\u001b[1;32m     <a href='vscode-notebook-cell:/home/exi/uni/2024/525/project/multi_emotions.ipynb#X46sZmlsZQ%3D%3D?line=42'>43</a>\u001b[0m \n\u001b[1;32m     <a href='vscode-notebook-cell:/home/exi/uni/2024/525/project/multi_emotions.ipynb#X46sZmlsZQ%3D%3D?line=43'>44</a>\u001b[0m \n\u001b[1;32m     <a href='vscode-notebook-cell:/home/exi/uni/2024/525/project/multi_emotions.ipynb#X46sZmlsZQ%3D%3D?line=44'>45</a>\u001b[0m \u001b[39m#################################################\u001b[39;00m\n\u001b[1;32m     <a href='vscode-notebook-cell:/home/exi/uni/2024/525/project/multi_emotions.ipynb#X46sZmlsZQ%3D%3D?line=45'>46</a>\u001b[0m \u001b[39m# Train model\u001b[39;00m\n\u001b[0;32m---> <a href='vscode-notebook-cell:/home/exi/uni/2024/525/project/multi_emotions.ipynb#X46sZmlsZQ%3D%3D?line=46'>47</a>\u001b[0m model_final, trainloss, valloss \u001b[39m=\u001b[39m train_model(train_loader\u001b[39m=\u001b[39;49mtrain_loader, val_loader\u001b[39m=\u001b[39;49mval_loader, model\u001b[39m=\u001b[39;49mmodel,\n\u001b[1;32m     <a href='vscode-notebook-cell:/home/exi/uni/2024/525/project/multi_emotions.ipynb#X46sZmlsZQ%3D%3D?line=47'>48</a>\u001b[0m                                         criterion\u001b[39m=\u001b[39;49mcriterion, optimizer\u001b[39m=\u001b[39;49moptimizer, Num_Epochs\u001b[39m=\u001b[39;49mNum_Epochs, checkpoint_interval\u001b[39m=\u001b[39;49mcheckpoint_interval, run_name\u001b[39m=\u001b[39;49mrun_name)\n\u001b[1;32m     <a href='vscode-notebook-cell:/home/exi/uni/2024/525/project/multi_emotions.ipynb#X46sZmlsZQ%3D%3D?line=49'>50</a>\u001b[0m \u001b[39m# Output model performance\u001b[39;00m\n\u001b[1;32m     <a href='vscode-notebook-cell:/home/exi/uni/2024/525/project/multi_emotions.ipynb#X46sZmlsZQ%3D%3D?line=50'>51</a>\u001b[0m \u001b[39m#tr_acc = get_accuracy(net=model_final, data_loader=train_loader)\u001b[39;00m\n\u001b[1;32m     <a href='vscode-notebook-cell:/home/exi/uni/2024/525/project/multi_emotions.ipynb#X46sZmlsZQ%3D%3D?line=52'>53</a>\u001b[0m tr_acc \u001b[39m=\u001b[39m get_accuracy(net\u001b[39m=\u001b[39mmodel_final, data_loader\u001b[39m=\u001b[39mtrain_loader)\n",
      "\u001b[1;32m/home/exi/uni/2024/525/project/multi_emotions.ipynb Cell 36\u001b[0m line \u001b[0;36m3\n\u001b[1;32m     <a href='vscode-notebook-cell:/home/exi/uni/2024/525/project/multi_emotions.ipynb#X46sZmlsZQ%3D%3D?line=30'>31</a>\u001b[0m i \u001b[39m=\u001b[39m \u001b[39m0\u001b[39m\n\u001b[1;32m     <a href='vscode-notebook-cell:/home/exi/uni/2024/525/project/multi_emotions.ipynb#X46sZmlsZQ%3D%3D?line=31'>32</a>\u001b[0m \u001b[39mfor\u001b[39;00m epoch \u001b[39min\u001b[39;00m \u001b[39mrange\u001b[39m(start_epoch, Num_Epochs):\n\u001b[0;32m---> <a href='vscode-notebook-cell:/home/exi/uni/2024/525/project/multi_emotions.ipynb#X46sZmlsZQ%3D%3D?line=32'>33</a>\u001b[0m   \u001b[39mfor\u001b[39;49;00m i_batch, sample_batched \u001b[39min\u001b[39;49;00m \u001b[39menumerate\u001b[39;49m(train_loader):\n\u001b[1;32m     <a href='vscode-notebook-cell:/home/exi/uni/2024/525/project/multi_emotions.ipynb#X46sZmlsZQ%3D%3D?line=33'>34</a>\u001b[0m \n\u001b[1;32m     <a href='vscode-notebook-cell:/home/exi/uni/2024/525/project/multi_emotions.ipynb#X46sZmlsZQ%3D%3D?line=34'>35</a>\u001b[0m     \u001b[39m# data and labels\u001b[39;49;00m\n\u001b[1;32m     <a href='vscode-notebook-cell:/home/exi/uni/2024/525/project/multi_emotions.ipynb#X46sZmlsZQ%3D%3D?line=35'>36</a>\u001b[0m     inputs, labels \u001b[39m=\u001b[39;49m sample_batched[\u001b[39m0\u001b[39;49m], sample_batched[\u001b[39m1\u001b[39;49m]\n\u001b[1;32m     <a href='vscode-notebook-cell:/home/exi/uni/2024/525/project/multi_emotions.ipynb#X46sZmlsZQ%3D%3D?line=37'>38</a>\u001b[0m     \u001b[39m# resets all gradients for this mini-batch\u001b[39;49;00m\n",
      "File \u001b[0;32m~/programs/lib/python3.11/site-packages/torch/utils/data/dataloader.py:631\u001b[0m, in \u001b[0;36m_BaseDataLoaderIter.__next__\u001b[0;34m(self)\u001b[0m\n\u001b[1;32m    628\u001b[0m \u001b[39mif\u001b[39;00m \u001b[39mself\u001b[39m\u001b[39m.\u001b[39m_sampler_iter \u001b[39mis\u001b[39;00m \u001b[39mNone\u001b[39;00m:\n\u001b[1;32m    629\u001b[0m     \u001b[39m# TODO(https://github.com/pytorch/pytorch/issues/76750)\u001b[39;00m\n\u001b[1;32m    630\u001b[0m     \u001b[39mself\u001b[39m\u001b[39m.\u001b[39m_reset()  \u001b[39m# type: ignore[call-arg]\u001b[39;00m\n\u001b[0;32m--> 631\u001b[0m data \u001b[39m=\u001b[39m \u001b[39mself\u001b[39;49m\u001b[39m.\u001b[39;49m_next_data()\n\u001b[1;32m    632\u001b[0m \u001b[39mself\u001b[39m\u001b[39m.\u001b[39m_num_yielded \u001b[39m+\u001b[39m\u001b[39m=\u001b[39m \u001b[39m1\u001b[39m\n\u001b[1;32m    633\u001b[0m \u001b[39mif\u001b[39;00m \u001b[39mself\u001b[39m\u001b[39m.\u001b[39m_dataset_kind \u001b[39m==\u001b[39m _DatasetKind\u001b[39m.\u001b[39mIterable \u001b[39mand\u001b[39;00m \\\n\u001b[1;32m    634\u001b[0m         \u001b[39mself\u001b[39m\u001b[39m.\u001b[39m_IterableDataset_len_called \u001b[39mis\u001b[39;00m \u001b[39mnot\u001b[39;00m \u001b[39mNone\u001b[39;00m \u001b[39mand\u001b[39;00m \\\n\u001b[1;32m    635\u001b[0m         \u001b[39mself\u001b[39m\u001b[39m.\u001b[39m_num_yielded \u001b[39m>\u001b[39m \u001b[39mself\u001b[39m\u001b[39m.\u001b[39m_IterableDataset_len_called:\n",
      "File \u001b[0;32m~/programs/lib/python3.11/site-packages/torch/utils/data/dataloader.py:675\u001b[0m, in \u001b[0;36m_SingleProcessDataLoaderIter._next_data\u001b[0;34m(self)\u001b[0m\n\u001b[1;32m    673\u001b[0m \u001b[39mdef\u001b[39;00m \u001b[39m_next_data\u001b[39m(\u001b[39mself\u001b[39m):\n\u001b[1;32m    674\u001b[0m     index \u001b[39m=\u001b[39m \u001b[39mself\u001b[39m\u001b[39m.\u001b[39m_next_index()  \u001b[39m# may raise StopIteration\u001b[39;00m\n\u001b[0;32m--> 675\u001b[0m     data \u001b[39m=\u001b[39m \u001b[39mself\u001b[39;49m\u001b[39m.\u001b[39;49m_dataset_fetcher\u001b[39m.\u001b[39;49mfetch(index)  \u001b[39m# may raise StopIteration\u001b[39;00m\n\u001b[1;32m    676\u001b[0m     \u001b[39mif\u001b[39;00m \u001b[39mself\u001b[39m\u001b[39m.\u001b[39m_pin_memory:\n\u001b[1;32m    677\u001b[0m         data \u001b[39m=\u001b[39m _utils\u001b[39m.\u001b[39mpin_memory\u001b[39m.\u001b[39mpin_memory(data, \u001b[39mself\u001b[39m\u001b[39m.\u001b[39m_pin_memory_device)\n",
      "File \u001b[0;32m~/programs/lib/python3.11/site-packages/torch/utils/data/_utils/fetch.py:49\u001b[0m, in \u001b[0;36m_MapDatasetFetcher.fetch\u001b[0;34m(self, possibly_batched_index)\u001b[0m\n\u001b[1;32m     47\u001b[0m \u001b[39mif\u001b[39;00m \u001b[39mself\u001b[39m\u001b[39m.\u001b[39mauto_collation:\n\u001b[1;32m     48\u001b[0m     \u001b[39mif\u001b[39;00m \u001b[39mhasattr\u001b[39m(\u001b[39mself\u001b[39m\u001b[39m.\u001b[39mdataset, \u001b[39m\"\u001b[39m\u001b[39m__getitems__\u001b[39m\u001b[39m\"\u001b[39m) \u001b[39mand\u001b[39;00m \u001b[39mself\u001b[39m\u001b[39m.\u001b[39mdataset\u001b[39m.\u001b[39m__getitems__:\n\u001b[0;32m---> 49\u001b[0m         data \u001b[39m=\u001b[39m \u001b[39mself\u001b[39;49m\u001b[39m.\u001b[39;49mdataset\u001b[39m.\u001b[39;49m__getitems__(possibly_batched_index)\n\u001b[1;32m     50\u001b[0m     \u001b[39melse\u001b[39;00m:\n\u001b[1;32m     51\u001b[0m         data \u001b[39m=\u001b[39m [\u001b[39mself\u001b[39m\u001b[39m.\u001b[39mdataset[idx] \u001b[39mfor\u001b[39;00m idx \u001b[39min\u001b[39;00m possibly_batched_index]\n",
      "File \u001b[0;32m~/programs/lib/python3.11/site-packages/torch/utils/data/dataset.py:399\u001b[0m, in \u001b[0;36mSubset.__getitems__\u001b[0;34m(self, indices)\u001b[0m\n\u001b[1;32m    397\u001b[0m     \u001b[39mreturn\u001b[39;00m \u001b[39mself\u001b[39m\u001b[39m.\u001b[39mdataset\u001b[39m.\u001b[39m__getitems__([\u001b[39mself\u001b[39m\u001b[39m.\u001b[39mindices[idx] \u001b[39mfor\u001b[39;00m idx \u001b[39min\u001b[39;00m indices])  \u001b[39m# type: ignore[attr-defined]\u001b[39;00m\n\u001b[1;32m    398\u001b[0m \u001b[39melse\u001b[39;00m:\n\u001b[0;32m--> 399\u001b[0m     \u001b[39mreturn\u001b[39;00m [\u001b[39mself\u001b[39;49m\u001b[39m.\u001b[39;49mdataset[\u001b[39mself\u001b[39;49m\u001b[39m.\u001b[39;49mindices[idx]] \u001b[39mfor\u001b[39;49;00m idx \u001b[39min\u001b[39;49;00m indices]\n",
      "File \u001b[0;32m~/programs/lib/python3.11/site-packages/torch/utils/data/dataset.py:399\u001b[0m, in \u001b[0;36m<listcomp>\u001b[0;34m(.0)\u001b[0m\n\u001b[1;32m    397\u001b[0m     \u001b[39mreturn\u001b[39;00m \u001b[39mself\u001b[39m\u001b[39m.\u001b[39mdataset\u001b[39m.\u001b[39m__getitems__([\u001b[39mself\u001b[39m\u001b[39m.\u001b[39mindices[idx] \u001b[39mfor\u001b[39;00m idx \u001b[39min\u001b[39;00m indices])  \u001b[39m# type: ignore[attr-defined]\u001b[39;00m\n\u001b[1;32m    398\u001b[0m \u001b[39melse\u001b[39;00m:\n\u001b[0;32m--> 399\u001b[0m     \u001b[39mreturn\u001b[39;00m [\u001b[39mself\u001b[39;49m\u001b[39m.\u001b[39;49mdataset[\u001b[39mself\u001b[39;49m\u001b[39m.\u001b[39;49mindices[idx]] \u001b[39mfor\u001b[39;00m idx \u001b[39min\u001b[39;00m indices]\n",
      "File \u001b[0;32m~/programs/lib/python3.11/site-packages/torchvision/datasets/folder.py:231\u001b[0m, in \u001b[0;36mDatasetFolder.__getitem__\u001b[0;34m(self, index)\u001b[0m\n\u001b[1;32m    229\u001b[0m sample \u001b[39m=\u001b[39m \u001b[39mself\u001b[39m\u001b[39m.\u001b[39mloader(path)\n\u001b[1;32m    230\u001b[0m \u001b[39mif\u001b[39;00m \u001b[39mself\u001b[39m\u001b[39m.\u001b[39mtransform \u001b[39mis\u001b[39;00m \u001b[39mnot\u001b[39;00m \u001b[39mNone\u001b[39;00m:\n\u001b[0;32m--> 231\u001b[0m     sample \u001b[39m=\u001b[39m \u001b[39mself\u001b[39;49m\u001b[39m.\u001b[39;49mtransform(sample)\n\u001b[1;32m    232\u001b[0m \u001b[39mif\u001b[39;00m \u001b[39mself\u001b[39m\u001b[39m.\u001b[39mtarget_transform \u001b[39mis\u001b[39;00m \u001b[39mnot\u001b[39;00m \u001b[39mNone\u001b[39;00m:\n\u001b[1;32m    233\u001b[0m     target \u001b[39m=\u001b[39m \u001b[39mself\u001b[39m\u001b[39m.\u001b[39mtarget_transform(target)\n",
      "File \u001b[0;32m~/programs/lib/python3.11/site-packages/torchvision/transforms/transforms.py:95\u001b[0m, in \u001b[0;36mCompose.__call__\u001b[0;34m(self, img)\u001b[0m\n\u001b[1;32m     93\u001b[0m \u001b[39mdef\u001b[39;00m \u001b[39m__call__\u001b[39m(\u001b[39mself\u001b[39m, img):\n\u001b[1;32m     94\u001b[0m     \u001b[39mfor\u001b[39;00m t \u001b[39min\u001b[39;00m \u001b[39mself\u001b[39m\u001b[39m.\u001b[39mtransforms:\n\u001b[0;32m---> 95\u001b[0m         img \u001b[39m=\u001b[39m t(img)\n\u001b[1;32m     96\u001b[0m     \u001b[39mreturn\u001b[39;00m img\n",
      "File \u001b[0;32m~/programs/lib/python3.11/site-packages/torch/nn/modules/module.py:1511\u001b[0m, in \u001b[0;36mModule._wrapped_call_impl\u001b[0;34m(self, *args, **kwargs)\u001b[0m\n\u001b[1;32m   1509\u001b[0m     \u001b[39mreturn\u001b[39;00m \u001b[39mself\u001b[39m\u001b[39m.\u001b[39m_compiled_call_impl(\u001b[39m*\u001b[39margs, \u001b[39m*\u001b[39m\u001b[39m*\u001b[39mkwargs)  \u001b[39m# type: ignore[misc]\u001b[39;00m\n\u001b[1;32m   1510\u001b[0m \u001b[39melse\u001b[39;00m:\n\u001b[0;32m-> 1511\u001b[0m     \u001b[39mreturn\u001b[39;00m \u001b[39mself\u001b[39;49m\u001b[39m.\u001b[39;49m_call_impl(\u001b[39m*\u001b[39;49margs, \u001b[39m*\u001b[39;49m\u001b[39m*\u001b[39;49mkwargs)\n",
      "File \u001b[0;32m~/programs/lib/python3.11/site-packages/torch/nn/modules/module.py:1520\u001b[0m, in \u001b[0;36mModule._call_impl\u001b[0;34m(self, *args, **kwargs)\u001b[0m\n\u001b[1;32m   1515\u001b[0m \u001b[39m# If we don't have any hooks, we want to skip the rest of the logic in\u001b[39;00m\n\u001b[1;32m   1516\u001b[0m \u001b[39m# this function, and just call forward.\u001b[39;00m\n\u001b[1;32m   1517\u001b[0m \u001b[39mif\u001b[39;00m \u001b[39mnot\u001b[39;00m (\u001b[39mself\u001b[39m\u001b[39m.\u001b[39m_backward_hooks \u001b[39mor\u001b[39;00m \u001b[39mself\u001b[39m\u001b[39m.\u001b[39m_backward_pre_hooks \u001b[39mor\u001b[39;00m \u001b[39mself\u001b[39m\u001b[39m.\u001b[39m_forward_hooks \u001b[39mor\u001b[39;00m \u001b[39mself\u001b[39m\u001b[39m.\u001b[39m_forward_pre_hooks\n\u001b[1;32m   1518\u001b[0m         \u001b[39mor\u001b[39;00m _global_backward_pre_hooks \u001b[39mor\u001b[39;00m _global_backward_hooks\n\u001b[1;32m   1519\u001b[0m         \u001b[39mor\u001b[39;00m _global_forward_hooks \u001b[39mor\u001b[39;00m _global_forward_pre_hooks):\n\u001b[0;32m-> 1520\u001b[0m     \u001b[39mreturn\u001b[39;00m forward_call(\u001b[39m*\u001b[39;49margs, \u001b[39m*\u001b[39;49m\u001b[39m*\u001b[39;49mkwargs)\n\u001b[1;32m   1522\u001b[0m \u001b[39mtry\u001b[39;00m:\n\u001b[1;32m   1523\u001b[0m     result \u001b[39m=\u001b[39m \u001b[39mNone\u001b[39;00m\n",
      "File \u001b[0;32m~/programs/lib/python3.11/site-packages/torchvision/transforms/transforms.py:354\u001b[0m, in \u001b[0;36mResize.forward\u001b[0;34m(self, img)\u001b[0m\n\u001b[1;32m    346\u001b[0m \u001b[39mdef\u001b[39;00m \u001b[39mforward\u001b[39m(\u001b[39mself\u001b[39m, img):\n\u001b[1;32m    347\u001b[0m \u001b[39m    \u001b[39m\u001b[39m\"\"\"\u001b[39;00m\n\u001b[1;32m    348\u001b[0m \u001b[39m    Args:\u001b[39;00m\n\u001b[1;32m    349\u001b[0m \u001b[39m        img (PIL Image or Tensor): Image to be scaled.\u001b[39;00m\n\u001b[0;32m   (...)\u001b[0m\n\u001b[1;32m    352\u001b[0m \u001b[39m        PIL Image or Tensor: Rescaled image.\u001b[39;00m\n\u001b[1;32m    353\u001b[0m \u001b[39m    \"\"\"\u001b[39;00m\n\u001b[0;32m--> 354\u001b[0m     \u001b[39mreturn\u001b[39;00m F\u001b[39m.\u001b[39;49mresize(img, \u001b[39mself\u001b[39;49m\u001b[39m.\u001b[39;49msize, \u001b[39mself\u001b[39;49m\u001b[39m.\u001b[39;49minterpolation, \u001b[39mself\u001b[39;49m\u001b[39m.\u001b[39;49mmax_size, \u001b[39mself\u001b[39;49m\u001b[39m.\u001b[39;49mantialias)\n",
      "File \u001b[0;32m~/programs/lib/python3.11/site-packages/torchvision/transforms/functional.py:467\u001b[0m, in \u001b[0;36mresize\u001b[0;34m(img, size, interpolation, max_size, antialias)\u001b[0m\n\u001b[1;32m    465\u001b[0m         warnings\u001b[39m.\u001b[39mwarn(\u001b[39m\"\u001b[39m\u001b[39mAnti-alias option is always applied for PIL Image input. Argument antialias is ignored.\u001b[39m\u001b[39m\"\u001b[39m)\n\u001b[1;32m    466\u001b[0m     pil_interpolation \u001b[39m=\u001b[39m pil_modes_mapping[interpolation]\n\u001b[0;32m--> 467\u001b[0m     \u001b[39mreturn\u001b[39;00m F_pil\u001b[39m.\u001b[39;49mresize(img, size\u001b[39m=\u001b[39;49moutput_size, interpolation\u001b[39m=\u001b[39;49mpil_interpolation)\n\u001b[1;32m    469\u001b[0m \u001b[39mreturn\u001b[39;00m F_t\u001b[39m.\u001b[39mresize(img, size\u001b[39m=\u001b[39moutput_size, interpolation\u001b[39m=\u001b[39minterpolation\u001b[39m.\u001b[39mvalue, antialias\u001b[39m=\u001b[39mantialias)\n",
      "File \u001b[0;32m~/programs/lib/python3.11/site-packages/torchvision/transforms/_functional_pil.py:250\u001b[0m, in \u001b[0;36mresize\u001b[0;34m(img, size, interpolation)\u001b[0m\n\u001b[1;32m    247\u001b[0m \u001b[39mif\u001b[39;00m \u001b[39mnot\u001b[39;00m (\u001b[39misinstance\u001b[39m(size, \u001b[39mlist\u001b[39m) \u001b[39mand\u001b[39;00m \u001b[39mlen\u001b[39m(size) \u001b[39m==\u001b[39m \u001b[39m2\u001b[39m):\n\u001b[1;32m    248\u001b[0m     \u001b[39mraise\u001b[39;00m \u001b[39mTypeError\u001b[39;00m(\u001b[39mf\u001b[39m\u001b[39m\"\u001b[39m\u001b[39mGot inappropriate size arg: \u001b[39m\u001b[39m{\u001b[39;00msize\u001b[39m}\u001b[39;00m\u001b[39m\"\u001b[39m)\n\u001b[0;32m--> 250\u001b[0m \u001b[39mreturn\u001b[39;00m img\u001b[39m.\u001b[39;49mresize(\u001b[39mtuple\u001b[39;49m(size[::\u001b[39m-\u001b[39;49m\u001b[39m1\u001b[39;49m]), interpolation)\n",
      "File \u001b[0;32m~/programs/lib/python3.11/site-packages/PIL/Image.py:2174\u001b[0m, in \u001b[0;36mImage.resize\u001b[0;34m(self, size, resample, box, reducing_gap)\u001b[0m\n\u001b[1;32m   2166\u001b[0m             \u001b[39mself\u001b[39m \u001b[39m=\u001b[39m Image\u001b[39m.\u001b[39mreduce(\u001b[39mself\u001b[39m, factor, box\u001b[39m=\u001b[39mreduce_box)\n\u001b[1;32m   2167\u001b[0m         box \u001b[39m=\u001b[39m (\n\u001b[1;32m   2168\u001b[0m             (box[\u001b[39m0\u001b[39m] \u001b[39m-\u001b[39m reduce_box[\u001b[39m0\u001b[39m]) \u001b[39m/\u001b[39m factor_x,\n\u001b[1;32m   2169\u001b[0m             (box[\u001b[39m1\u001b[39m] \u001b[39m-\u001b[39m reduce_box[\u001b[39m1\u001b[39m]) \u001b[39m/\u001b[39m factor_y,\n\u001b[1;32m   2170\u001b[0m             (box[\u001b[39m2\u001b[39m] \u001b[39m-\u001b[39m reduce_box[\u001b[39m0\u001b[39m]) \u001b[39m/\u001b[39m factor_x,\n\u001b[1;32m   2171\u001b[0m             (box[\u001b[39m3\u001b[39m] \u001b[39m-\u001b[39m reduce_box[\u001b[39m1\u001b[39m]) \u001b[39m/\u001b[39m factor_y,\n\u001b[1;32m   2172\u001b[0m         )\n\u001b[0;32m-> 2174\u001b[0m \u001b[39mreturn\u001b[39;00m \u001b[39mself\u001b[39m\u001b[39m.\u001b[39m_new(\u001b[39mself\u001b[39;49m\u001b[39m.\u001b[39;49mim\u001b[39m.\u001b[39;49mresize(size, resample, box))\n",
      "\u001b[0;31mKeyboardInterrupt\u001b[0m: "
     ]
    }
   ],
   "source": [
    "def objective_SGD(trial):\n",
    "\n",
    "    # Trial configuration\n",
    "    # Name for run\n",
    "    run_name = \"Optuna-Test\"\n",
    "    # How many epochs before saving progress\n",
    "    checkpoint_interval = 10\n",
    "    #Number of epochs\n",
    "    Num_Epochs = 20\n",
    "    ## Loss\n",
    "    criterion = nn.CrossEntropyLoss()\n",
    "\n",
    "    ##############################################\n",
    "    # Hyperparameters search spaces\n",
    "    # Learning rate\n",
    "    lr = trial.suggest_float(\"lr\", 1e-5, 1e-1, log=True)\n",
    "    # L2 Normalization lambda\n",
    "    weight_decay = trial.suggest_float(\"L2\", 1e-5, 1e-1, log=True)\n",
    "    # Batch size\n",
    "    batch_size = trial.suggest_categorical(\"batch_size\", [1, 2, 4, 8])\n",
    "    momentum = 0.9\n",
    "    nesterov = trial.suggest_categorical(\"nesterov\", [True, False])\n",
    "    \n",
    "\n",
    "    #################################################\n",
    "    # Generate data loader based on new batch size\n",
    "    train_loader = torch.utils.data.DataLoader(dataset=splits[1], shuffle=True, num_workers=0,\n",
    "                                           batch_size=batch_size, drop_last=True)\n",
    "    val_loader = torch.utils.data.DataLoader(dataset=splits[0], shuffle=True, num_workers=0,\n",
    "                                           batch_size=1, drop_last=True)\n",
    "\n",
    "    #################################################\n",
    "    # Create network architecture\n",
    "\n",
    "    model = ConvNetWithoutDropout(len(data.classes))\n",
    "\n",
    "    # Initialize model weights\n",
    "    model.apply(init_weights)\n",
    "\n",
    "    ## Optimizer\n",
    "    optimizer = optim.SGD(model.parameters(), lr=lr, weight_decay=weight_decay, momentum=momentum, nesterov=nesterov)\n",
    "    # optimizer = optim.Adam(model.parameters(), lr=learning_rate, weight_decay=weight_decay, betas=adam_betas)\n",
    "\n",
    "    \n",
    "    #################################################\n",
    "    # Train model\n",
    "    model_final, trainloss, valloss = train_model(train_loader=train_loader, val_loader=val_loader, model=model,\n",
    "                                            criterion=criterion, optimizer=optimizer, Num_Epochs=Num_Epochs, checkpoint_interval=checkpoint_interval, run_name=run_name)\n",
    "\n",
    "    # Output model performance\n",
    "    #tr_acc = get_accuracy(net=model_final, data_loader=train_loader)\n",
    "    \n",
    "    tr_acc = get_accuracy(net=model_final, data_loader=train_loader)\n",
    "    val_acc = get_accuracy(net=model_final, data_loader=val_loader)\n",
    "    print(f\"Accuracy: Train: {tr_acc:.3f} | Val: {val_acc:0.3f}\" )\n",
    "    if(val_acc > 0.7):\n",
    "        torch.save(model, \"networks/SGD/net_\" + str(trial.number))\n",
    "    \n",
    "    # The objective function needs to return the metric to minimize or maximize\n",
    "    return val_acc\n",
    "\n",
    "study = optuna.create_study(direction=\"maximize\", study_name=\"SGD-Binary-Art\")\n",
    "study.optimize(objective_SGD, n_trials=100)\n",
    "\n",
    "print(\"Best trial:\")\n",
    "trial = study.best_trial\n",
    "print(f\" Value: {trial.value}\")\n",
    "print(\" Params: \")\n",
    "for key, value in trial.params.items():\n",
    "    print(f\"    {key}: {value}\")"
   ]
  },
  {
   "cell_type": "markdown",
   "metadata": {},
   "source": [
    "Hyperparameter Tuning"
   ]
  },
  {
   "cell_type": "code",
   "execution_count": 95,
   "metadata": {},
   "outputs": [
    {
     "name": "stderr",
     "output_type": "stream",
     "text": [
      "[I 2024-05-05 19:19:41,971] A new study created in memory with name: Adam-binary-art\n",
      "/tmp/ipykernel_3111/1099974826.py:5: UserWarning: nn.init.xavier_uniform is now deprecated in favor of nn.init.xavier_uniform_.\n",
      "  torch.nn.init.xavier_uniform(m.weight)\n"
     ]
    },
    {
     "name": "stdout",
     "output_type": "stream",
     "text": [
      "[E= 9] [it=  270] Train Loss: 0.759, Test Loss: 1.380\n",
      "[E=19] [it=  540] Train Loss: 0.334, Test Loss: 2.092\n"
     ]
    },
    {
     "name": "stderr",
     "output_type": "stream",
     "text": [
      "[I 2024-05-05 19:20:38,486] Trial 0 finished with value: 0.35106382978723405 and parameters: {'lr': 0.002888440347749566, 'L2': 0.0005656873474004796, 'batch_size': 8, 'beta1': 0.09687367926871895, 'beta2': 7.397212683770287e-05}. Best is trial 0 with value: 0.35106382978723405.\n"
     ]
    },
    {
     "name": "stdout",
     "output_type": "stream",
     "text": [
      "Accuracy: Train: 0.847 | Val: 0.351\n",
      "[E= 9] [it= 2180] Train Loss: 1.511, Test Loss: 1.465\n",
      "[E=19] [it= 4360] Train Loss: 1.515, Test Loss: 1.470\n"
     ]
    },
    {
     "name": "stderr",
     "output_type": "stream",
     "text": [
      "[I 2024-05-05 19:22:18,909] Trial 1 finished with value: 0.18085106382978725 and parameters: {'lr': 0.03616045152537427, 'L2': 3.590316988978558e-05, 'batch_size': 1, 'beta1': 0.12330707464589503, 'beta2': 0.0008086647171934351}. Best is trial 0 with value: 0.35106382978723405.\n"
     ]
    },
    {
     "name": "stdout",
     "output_type": "stream",
     "text": [
      "Accuracy: Train: 0.174 | Val: 0.181\n",
      "[E= 9] [it= 1090] Train Loss: 1.094, Test Loss: 1.298\n",
      "[E=19] [it= 2180] Train Loss: 0.696, Test Loss: 1.332\n"
     ]
    },
    {
     "name": "stderr",
     "output_type": "stream",
     "text": [
      "[I 2024-05-05 19:23:32,137] Trial 2 finished with value: 0.4787234042553192 and parameters: {'lr': 0.00038144327703229725, 'L2': 0.00458326058734543, 'batch_size': 2, 'beta1': 0.10721050911436544, 'beta2': 2.1854127577705786e-05}. Best is trial 2 with value: 0.4787234042553192.\n"
     ]
    },
    {
     "name": "stdout",
     "output_type": "stream",
     "text": [
      "Accuracy: Train: 0.771 | Val: 0.479\n",
      "[E= 9] [it= 2180] Train Loss: 1.240, Test Loss: 1.380\n",
      "[E=19] [it= 4360] Train Loss: 0.892, Test Loss: 1.635\n"
     ]
    },
    {
     "name": "stderr",
     "output_type": "stream",
     "text": [
      "[I 2024-05-05 19:25:22,616] Trial 3 finished with value: 0.4574468085106383 and parameters: {'lr': 0.0033516950269992067, 'L2': 0.0010503533425585306, 'batch_size': 1, 'beta1': 0.09556043187536456, 'beta2': 1.3880238088519961e-05}. Best is trial 2 with value: 0.4787234042553192.\n"
     ]
    },
    {
     "name": "stdout",
     "output_type": "stream",
     "text": [
      "Accuracy: Train: 0.633 | Val: 0.457\n",
      "[E= 9] [it=  270] Train Loss: 1.088, Test Loss: 1.408\n",
      "[E=19] [it=  540] Train Loss: 0.495, Test Loss: 1.672\n"
     ]
    },
    {
     "name": "stderr",
     "output_type": "stream",
     "text": [
      "[I 2024-05-05 19:26:19,904] Trial 4 finished with value: 0.4574468085106383 and parameters: {'lr': 0.0007035203528754268, 'L2': 0.0006449790575958856, 'batch_size': 8, 'beta1': 0.13073906865745116, 'beta2': 1.3956288736349815e-05}. Best is trial 2 with value: 0.4787234042553192.\n"
     ]
    },
    {
     "name": "stdout",
     "output_type": "stream",
     "text": [
      "Accuracy: Train: 0.782 | Val: 0.457\n",
      "[E= 9] [it= 2180] Train Loss: 1.333, Test Loss: 1.379\n",
      "[E=19] [it= 4360] Train Loss: 1.310, Test Loss: 1.386\n"
     ]
    },
    {
     "name": "stderr",
     "output_type": "stream",
     "text": [
      "[I 2024-05-05 19:28:01,315] Trial 5 finished with value: 0.39361702127659576 and parameters: {'lr': 0.0002792186515609843, 'L2': 0.03297451873134099, 'batch_size': 1, 'beta1': 0.09681176001610854, 'beta2': 3.630296440086681e-05}. Best is trial 2 with value: 0.4787234042553192.\n"
     ]
    },
    {
     "name": "stdout",
     "output_type": "stream",
     "text": [
      "Accuracy: Train: 0.399 | Val: 0.394\n",
      "[E= 9] [it= 2180] Train Loss: 1.079, Test Loss: 1.311\n",
      "[E=19] [it= 4360] Train Loss: 0.677, Test Loss: 1.497\n"
     ]
    },
    {
     "name": "stderr",
     "output_type": "stream",
     "text": [
      "[I 2024-05-05 19:29:23,518] Trial 6 finished with value: 0.5 and parameters: {'lr': 9.1660432482135e-05, 'L2': 0.0002075566623547137, 'batch_size': 1, 'beta1': 0.10244871611382811, 'beta2': 9.521936229968457e-05}. Best is trial 6 with value: 0.5.\n"
     ]
    },
    {
     "name": "stdout",
     "output_type": "stream",
     "text": [
      "Accuracy: Train: 0.784 | Val: 0.500\n",
      "[E= 9] [it=  270] Train Loss: 1.470, Test Loss: 1.469\n",
      "[E=19] [it=  540] Train Loss: 1.411, Test Loss: 1.426\n"
     ]
    },
    {
     "name": "stderr",
     "output_type": "stream",
     "text": [
      "[I 2024-05-05 19:30:20,015] Trial 7 finished with value: 0.39361702127659576 and parameters: {'lr': 1.1299318684693221e-05, 'L2': 0.001787272257728832, 'batch_size': 8, 'beta1': 0.10211137121637695, 'beta2': 0.0001338730083239311}. Best is trial 6 with value: 0.5.\n"
     ]
    },
    {
     "name": "stdout",
     "output_type": "stream",
     "text": [
      "Accuracy: Train: 0.366 | Val: 0.394\n",
      "[E= 9] [it=  270] Train Loss: 0.945, Test Loss: 1.279\n",
      "[E=19] [it=  540] Train Loss: 0.490, Test Loss: 1.667\n"
     ]
    },
    {
     "name": "stderr",
     "output_type": "stream",
     "text": [
      "[I 2024-05-05 19:31:15,769] Trial 8 finished with value: 0.5212765957446809 and parameters: {'lr': 0.0008825539076811141, 'L2': 0.0005191598559406911, 'batch_size': 8, 'beta1': 0.10806902254818046, 'beta2': 0.0007633751362958403}. Best is trial 8 with value: 0.5212765957446809.\n"
     ]
    },
    {
     "name": "stdout",
     "output_type": "stream",
     "text": [
      "Accuracy: Train: 0.852 | Val: 0.521\n",
      "[E= 9] [it=  540] Train Loss: 1.274, Test Loss: 1.390\n",
      "[E=19] [it= 1080] Train Loss: 1.092, Test Loss: 1.383\n"
     ]
    },
    {
     "name": "stderr",
     "output_type": "stream",
     "text": [
      "[I 2024-05-05 19:32:16,433] Trial 9 finished with value: 0.4148936170212766 and parameters: {'lr': 0.00013891369893768337, 'L2': 1.698400471900744e-05, 'batch_size': 4, 'beta1': 0.07268307555499441, 'beta2': 0.0006184520625268585}. Best is trial 8 with value: 0.5212765957446809.\n"
     ]
    },
    {
     "name": "stdout",
     "output_type": "stream",
     "text": [
      "Accuracy: Train: 0.542 | Val: 0.415\n",
      "[E= 9] [it= 1090] Train Loss: 1.545, Test Loss: 1.547\n",
      "[E=19] [it= 2180] Train Loss: 1.531, Test Loss: 1.533\n"
     ]
    },
    {
     "name": "stderr",
     "output_type": "stream",
     "text": [
      "[I 2024-05-05 19:33:27,105] Trial 10 finished with value: 0.2127659574468085 and parameters: {'lr': 0.09255260076335016, 'L2': 0.06472810588031785, 'batch_size': 2, 'beta1': 0.05286395757749991, 'beta2': 0.00029368084011743763}. Best is trial 8 with value: 0.5212765957446809.\n"
     ]
    },
    {
     "name": "stdout",
     "output_type": "stream",
     "text": [
      "Accuracy: Train: 0.275 | Val: 0.213\n",
      "[E= 9] [it=  540] Train Loss: 1.335, Test Loss: 1.404\n",
      "[E=19] [it= 1080] Train Loss: 1.251, Test Loss: 1.413\n"
     ]
    },
    {
     "name": "stderr",
     "output_type": "stream",
     "text": [
      "[I 2024-05-05 19:34:28,594] Trial 11 finished with value: 0.40425531914893614 and parameters: {'lr': 3.627168315209237e-05, 'L2': 0.00012080623481892561, 'batch_size': 4, 'beta1': 0.07600374260968913, 'beta2': 0.00016273963575808074}. Best is trial 8 with value: 0.5212765957446809.\n"
     ]
    },
    {
     "name": "stdout",
     "output_type": "stream",
     "text": [
      "Accuracy: Train: 0.426 | Val: 0.404\n",
      "[E= 9] [it=  270] Train Loss: 1.320, Test Loss: 1.411\n",
      "[E=19] [it=  540] Train Loss: 1.212, Test Loss: 1.364\n"
     ]
    },
    {
     "name": "stderr",
     "output_type": "stream",
     "text": [
      "[I 2024-05-05 19:35:24,769] Trial 12 finished with value: 0.4574468085106383 and parameters: {'lr': 5.9333179523746586e-05, 'L2': 0.00014881013272589915, 'batch_size': 8, 'beta1': 0.14376267742043947, 'beta2': 5.63815278236139e-05}. Best is trial 8 with value: 0.5212765957446809.\n"
     ]
    },
    {
     "name": "stdout",
     "output_type": "stream",
     "text": [
      "Accuracy: Train: 0.514 | Val: 0.457\n",
      "[E= 9] [it= 2180] Train Loss: 1.272, Test Loss: 1.595\n",
      "[E=19] [it= 4360] Train Loss: 0.862, Test Loss: 2.134\n"
     ]
    },
    {
     "name": "stderr",
     "output_type": "stream",
     "text": [
      "[I 2024-05-05 19:37:06,308] Trial 13 finished with value: 0.39361702127659576 and parameters: {'lr': 0.003449955427452648, 'L2': 0.0001778838175905079, 'batch_size': 1, 'beta1': 0.07856260463055517, 'beta2': 0.00020646693482088532}. Best is trial 8 with value: 0.5212765957446809.\n"
     ]
    },
    {
     "name": "stdout",
     "output_type": "stream",
     "text": [
      "Accuracy: Train: 0.688 | Val: 0.394\n",
      "[E= 9] [it= 2180] Train Loss: 1.363, Test Loss: 1.516\n",
      "[E=19] [it= 4360] Train Loss: 0.931, Test Loss: 1.535\n"
     ]
    },
    {
     "name": "stderr",
     "output_type": "stream",
     "text": [
      "[I 2024-05-05 19:38:52,011] Trial 14 finished with value: 0.35106382978723405 and parameters: {'lr': 0.0013285265136039138, 'L2': 0.006979408152477385, 'batch_size': 1, 'beta1': 0.11727410384647924, 'beta2': 0.000384382831414477}. Best is trial 8 with value: 0.5212765957446809.\n"
     ]
    },
    {
     "name": "stdout",
     "output_type": "stream",
     "text": [
      "Accuracy: Train: 0.651 | Val: 0.351\n",
      "[E= 9] [it=  270] Train Loss: 1.504, Test Loss: 1.465\n",
      "[E=19] [it=  540] Train Loss: 1.500, Test Loss: 1.458\n"
     ]
    },
    {
     "name": "stderr",
     "output_type": "stream",
     "text": [
      "[I 2024-05-05 19:39:48,330] Trial 15 finished with value: 0.40425531914893614 and parameters: {'lr': 0.01244397698555714, 'L2': 4.2520741824411096e-05, 'batch_size': 8, 'beta1': 0.062316260933112724, 'beta2': 9.528362158455546e-05}. Best is trial 8 with value: 0.5212765957446809.\n"
     ]
    },
    {
     "name": "stdout",
     "output_type": "stream",
     "text": [
      "Accuracy: Train: 0.329 | Val: 0.404\n",
      "[E= 9] [it= 1090] Train Loss: 1.171, Test Loss: 1.349\n",
      "[E=19] [it= 2180] Train Loss: 0.896, Test Loss: 1.340\n"
     ]
    },
    {
     "name": "stderr",
     "output_type": "stream",
     "text": [
      "[I 2024-05-05 19:40:57,870] Trial 16 finished with value: 0.44680851063829785 and parameters: {'lr': 7.431153658654087e-05, 'L2': 0.00028873793642543514, 'batch_size': 2, 'beta1': 0.08760549503895265, 'beta2': 3.919924274472179e-05}. Best is trial 8 with value: 0.5212765957446809.\n"
     ]
    },
    {
     "name": "stdout",
     "output_type": "stream",
     "text": [
      "Accuracy: Train: 0.560 | Val: 0.447\n",
      "[E= 9] [it=  540] Train Loss: 1.427, Test Loss: 1.451\n",
      "[E=19] [it= 1080] Train Loss: 1.339, Test Loss: 1.413\n"
     ]
    },
    {
     "name": "stderr",
     "output_type": "stream",
     "text": [
      "[I 2024-05-05 19:41:58,897] Trial 17 finished with value: 0.32978723404255317 and parameters: {'lr': 1.396122086397442e-05, 'L2': 0.0024982575668991906, 'batch_size': 4, 'beta1': 0.14845678673457588, 'beta2': 0.0004319341418953063}. Best is trial 8 with value: 0.5212765957446809.\n"
     ]
    },
    {
     "name": "stdout",
     "output_type": "stream",
     "text": [
      "Accuracy: Train: 0.407 | Val: 0.330\n",
      "[E= 9] [it= 2180] Train Loss: 1.120, Test Loss: 1.306\n",
      "[E=19] [it= 4360] Train Loss: 0.550, Test Loss: 1.631\n"
     ]
    },
    {
     "name": "stderr",
     "output_type": "stream",
     "text": [
      "[I 2024-05-05 19:43:27,418] Trial 18 finished with value: 0.44680851063829785 and parameters: {'lr': 0.00022610720992879068, 'L2': 5.346927174855383e-05, 'batch_size': 1, 'beta1': 0.11340976125627414, 'beta2': 0.0009736656934348364}. Best is trial 8 with value: 0.5212765957446809.\n"
     ]
    },
    {
     "name": "stdout",
     "output_type": "stream",
     "text": [
      "Accuracy: Train: 0.826 | Val: 0.447\n",
      "[E= 9] [it=  270] Train Loss: 1.001, Test Loss: 1.395\n",
      "[E=19] [it=  540] Train Loss: 0.497, Test Loss: 1.828\n"
     ]
    },
    {
     "name": "stderr",
     "output_type": "stream",
     "text": [
      "[I 2024-05-05 19:44:23,916] Trial 19 finished with value: 0.4787234042553192 and parameters: {'lr': 0.0009434393452648608, 'L2': 1.1491047499545603e-05, 'batch_size': 8, 'beta1': 0.08485130139112224, 'beta2': 0.0001180950979380908}. Best is trial 8 with value: 0.5212765957446809.\n"
     ]
    },
    {
     "name": "stdout",
     "output_type": "stream",
     "text": [
      "Accuracy: Train: 0.856 | Val: 0.479\n",
      "[E= 9] [it=  270] Train Loss: 1.368, Test Loss: 1.460\n",
      "[E=19] [it=  540] Train Loss: 1.381, Test Loss: 1.471\n"
     ]
    },
    {
     "name": "stderr",
     "output_type": "stream",
     "text": [
      "[I 2024-05-05 19:45:19,873] Trial 20 finished with value: 0.32978723404255317 and parameters: {'lr': 0.009943102521775639, 'L2': 0.006831451178625235, 'batch_size': 8, 'beta1': 0.06780260484352617, 'beta2': 0.0002384685904730007}. Best is trial 8 with value: 0.5212765957446809.\n"
     ]
    },
    {
     "name": "stdout",
     "output_type": "stream",
     "text": [
      "Accuracy: Train: 0.384 | Val: 0.330\n",
      "[E= 9] [it= 1090] Train Loss: 1.300, Test Loss: 1.369\n",
      "[E=19] [it= 2180] Train Loss: 1.048, Test Loss: 1.326\n"
     ]
    },
    {
     "name": "stderr",
     "output_type": "stream",
     "text": [
      "[I 2024-05-05 19:46:35,093] Trial 21 finished with value: 0.425531914893617 and parameters: {'lr': 0.0003095643058890875, 'L2': 0.005388306369957519, 'batch_size': 2, 'beta1': 0.10841015400535775, 'beta2': 2.4395749003520718e-05}. Best is trial 8 with value: 0.5212765957446809.\n"
     ]
    },
    {
     "name": "stdout",
     "output_type": "stream",
     "text": [
      "Accuracy: Train: 0.505 | Val: 0.426\n",
      "[E= 9] [it= 1090] Train Loss: 1.229, Test Loss: 1.326\n",
      "[E=19] [it= 2180] Train Loss: 0.972, Test Loss: 1.401\n"
     ]
    },
    {
     "name": "stderr",
     "output_type": "stream",
     "text": [
      "[I 2024-05-05 19:47:58,445] Trial 22 finished with value: 0.5106382978723404 and parameters: {'lr': 0.0006535643636949545, 'L2': 0.01635741186326495, 'batch_size': 2, 'beta1': 0.1294176568924645, 'beta2': 1.0182979609343442e-05}. Best is trial 8 with value: 0.5212765957446809.\n"
     ]
    },
    {
     "name": "stdout",
     "output_type": "stream",
     "text": [
      "Accuracy: Train: 0.702 | Val: 0.511\n",
      "[E= 9] [it= 1090] Train Loss: 1.379, Test Loss: 1.411\n",
      "[E=19] [it= 2180] Train Loss: 1.224, Test Loss: 1.464\n"
     ]
    },
    {
     "name": "stderr",
     "output_type": "stream",
     "text": [
      "[I 2024-05-05 19:49:24,145] Trial 23 finished with value: 0.4148936170212766 and parameters: {'lr': 0.00178302261919711, 'L2': 0.01716038139927569, 'batch_size': 2, 'beta1': 0.13252190714942946, 'beta2': 5.0517247162379414e-05}. Best is trial 8 with value: 0.5212765957446809.\n"
     ]
    },
    {
     "name": "stdout",
     "output_type": "stream",
     "text": [
      "Accuracy: Train: 0.450 | Val: 0.415\n",
      "[E= 9] [it= 1090] Train Loss: 0.914, Test Loss: 1.296\n",
      "[E=19] [it= 2180] Train Loss: 0.229, Test Loss: 2.084\n"
     ]
    },
    {
     "name": "stderr",
     "output_type": "stream",
     "text": [
      "[I 2024-05-05 19:50:39,343] Trial 24 finished with value: 0.5 and parameters: {'lr': 0.0005403358996307519, 'L2': 0.0003857806476899089, 'batch_size': 2, 'beta1': 0.12590861425499844, 'beta2': 1.0174820803997422e-05}. Best is trial 8 with value: 0.5212765957446809.\n"
     ]
    },
    {
     "name": "stdout",
     "output_type": "stream",
     "text": [
      "Accuracy: Train: 0.931 | Val: 0.500\n",
      "[E= 9] [it= 1090] Train Loss: 1.180, Test Loss: 1.309\n",
      "[E=19] [it= 2180] Train Loss: 0.837, Test Loss: 1.392\n"
     ]
    },
    {
     "name": "stderr",
     "output_type": "stream",
     "text": [
      "[I 2024-05-05 19:51:49,872] Trial 25 finished with value: 0.46808510638297873 and parameters: {'lr': 0.00014726123223894591, 'L2': 0.0012343354726506927, 'batch_size': 2, 'beta1': 0.0874293746269399, 'beta2': 0.0005092058493215205}. Best is trial 8 with value: 0.5212765957446809.\n"
     ]
    },
    {
     "name": "stdout",
     "output_type": "stream",
     "text": [
      "Accuracy: Train: 0.670 | Val: 0.468\n",
      "[E= 9] [it= 2180] Train Loss: 1.336, Test Loss: 1.377\n",
      "[E=19] [it= 4360] Train Loss: 1.239, Test Loss: 1.357\n"
     ]
    },
    {
     "name": "stderr",
     "output_type": "stream",
     "text": [
      "[I 2024-05-05 19:53:10,996] Trial 26 finished with value: 0.4148936170212766 and parameters: {'lr': 2.6343301899353432e-05, 'L2': 0.02618869474413936, 'batch_size': 1, 'beta1': 0.1187304401393605, 'beta2': 7.627080086981963e-05}. Best is trial 8 with value: 0.5212765957446809.\n"
     ]
    },
    {
     "name": "stdout",
     "output_type": "stream",
     "text": [
      "Accuracy: Train: 0.486 | Val: 0.415\n",
      "[E= 9] [it=  540] Train Loss: 1.326, Test Loss: 1.444\n",
      "[E=19] [it= 1080] Train Loss: 1.001, Test Loss: 1.383\n"
     ]
    },
    {
     "name": "stderr",
     "output_type": "stream",
     "text": [
      "[I 2024-05-05 19:54:13,012] Trial 27 finished with value: 0.46808510638297873 and parameters: {'lr': 0.006852236586468457, 'L2': 8.625552650049391e-05, 'batch_size': 4, 'beta1': 0.13658560133952788, 'beta2': 2.7533893763236464e-05}. Best is trial 8 with value: 0.5212765957446809.\n"
     ]
    },
    {
     "name": "stdout",
     "output_type": "stream",
     "text": [
      "Accuracy: Train: 0.593 | Val: 0.468\n",
      "[E= 9] [it=  270] Train Loss: 1.271, Test Loss: 1.343\n",
      "[E=19] [it=  540] Train Loss: 1.106, Test Loss: 1.344\n"
     ]
    },
    {
     "name": "stderr",
     "output_type": "stream",
     "text": [
      "[I 2024-05-05 19:55:10,189] Trial 28 finished with value: 0.4148936170212766 and parameters: {'lr': 0.0001046064411686251, 'L2': 0.002798399802551736, 'batch_size': 8, 'beta1': 0.10488342214751524, 'beta2': 0.00031935763117271743}. Best is trial 8 with value: 0.5212765957446809.\n"
     ]
    },
    {
     "name": "stdout",
     "output_type": "stream",
     "text": [
      "Accuracy: Train: 0.532 | Val: 0.415\n"
     ]
    },
    {
     "name": "stderr",
     "output_type": "stream",
     "text": [
      "[W 2024-05-05 19:55:28,408] Trial 29 failed with parameters: {'lr': 0.0019648098729326308, 'L2': 0.00045647574627906103, 'batch_size': 1, 'beta1': 0.09328727726311917, 'beta2': 8.032550960156639e-05} because of the following error: KeyboardInterrupt().\n",
      "Traceback (most recent call last):\n",
      "  File \"/home/exi/programs/lib/python3.11/site-packages/optuna/study/_optimize.py\", line 196, in _run_trial\n",
      "    value_or_values = func(trial)\n",
      "                      ^^^^^^^^^^^\n",
      "  File \"/tmp/ipykernel_3111/2148559932.py\", line 44, in objective\n",
      "    model_final, trainloss, valloss = train_model(train_loader=train_loader, val_loader=val_loader, model=model,\n",
      "                                      ^^^^^^^^^^^^^^^^^^^^^^^^^^^^^^^^^^^^^^^^^^^^^^^^^^^^^^^^^^^^^^^^^^^^^^^^^^\n",
      "  File \"/tmp/ipykernel_3111/387759429.py\", line 54, in train_model\n",
      "    loss.backward()\n",
      "  File \"/home/exi/programs/lib/python3.11/site-packages/torch/_tensor.py\", line 522, in backward\n",
      "    torch.autograd.backward(\n",
      "  File \"/home/exi/programs/lib/python3.11/site-packages/torch/autograd/__init__.py\", line 266, in backward\n",
      "    Variable._execution_engine.run_backward(  # Calls into the C++ engine to run the backward pass\n",
      "KeyboardInterrupt\n",
      "[W 2024-05-05 19:55:28,410] Trial 29 failed with value None.\n"
     ]
    },
    {
     "ename": "KeyboardInterrupt",
     "evalue": "",
     "output_type": "error",
     "traceback": [
      "\u001b[0;31m---------------------------------------------------------------------------\u001b[0m",
      "\u001b[0;31mKeyboardInterrupt\u001b[0m                         Traceback (most recent call last)",
      "\u001b[1;32m/home/exi/uni/2024/525/project/multi_emotions.ipynb Cell 38\u001b[0m line \u001b[0;36m6\n\u001b[1;32m     <a href='vscode-notebook-cell:/home/exi/uni/2024/525/project/multi_emotions.ipynb#X51sZmlsZQ%3D%3D?line=56'>57</a>\u001b[0m     \u001b[39mreturn\u001b[39;00m val_acc\n\u001b[1;32m     <a href='vscode-notebook-cell:/home/exi/uni/2024/525/project/multi_emotions.ipynb#X51sZmlsZQ%3D%3D?line=58'>59</a>\u001b[0m study \u001b[39m=\u001b[39m optuna\u001b[39m.\u001b[39mcreate_study(direction\u001b[39m=\u001b[39m\u001b[39m\"\u001b[39m\u001b[39mmaximize\u001b[39m\u001b[39m\"\u001b[39m, study_name\u001b[39m=\u001b[39m\u001b[39m\"\u001b[39m\u001b[39mAdam-binary-art\u001b[39m\u001b[39m\"\u001b[39m)\n\u001b[0;32m---> <a href='vscode-notebook-cell:/home/exi/uni/2024/525/project/multi_emotions.ipynb#X51sZmlsZQ%3D%3D?line=59'>60</a>\u001b[0m study\u001b[39m.\u001b[39;49moptimize(objective, n_trials\u001b[39m=\u001b[39;49m\u001b[39m100\u001b[39;49m)\n\u001b[1;32m     <a href='vscode-notebook-cell:/home/exi/uni/2024/525/project/multi_emotions.ipynb#X51sZmlsZQ%3D%3D?line=61'>62</a>\u001b[0m \u001b[39mprint\u001b[39m(\u001b[39m\"\u001b[39m\u001b[39mBest trial:\u001b[39m\u001b[39m\"\u001b[39m)\n\u001b[1;32m     <a href='vscode-notebook-cell:/home/exi/uni/2024/525/project/multi_emotions.ipynb#X51sZmlsZQ%3D%3D?line=62'>63</a>\u001b[0m trial \u001b[39m=\u001b[39m study\u001b[39m.\u001b[39mbest_trial\n",
      "File \u001b[0;32m~/programs/lib/python3.11/site-packages/optuna/study/study.py:451\u001b[0m, in \u001b[0;36mStudy.optimize\u001b[0;34m(self, func, n_trials, timeout, n_jobs, catch, callbacks, gc_after_trial, show_progress_bar)\u001b[0m\n\u001b[1;32m    348\u001b[0m \u001b[39mdef\u001b[39;00m \u001b[39moptimize\u001b[39m(\n\u001b[1;32m    349\u001b[0m     \u001b[39mself\u001b[39m,\n\u001b[1;32m    350\u001b[0m     func: ObjectiveFuncType,\n\u001b[0;32m   (...)\u001b[0m\n\u001b[1;32m    357\u001b[0m     show_progress_bar: \u001b[39mbool\u001b[39m \u001b[39m=\u001b[39m \u001b[39mFalse\u001b[39;00m,\n\u001b[1;32m    358\u001b[0m ) \u001b[39m-\u001b[39m\u001b[39m>\u001b[39m \u001b[39mNone\u001b[39;00m:\n\u001b[1;32m    359\u001b[0m \u001b[39m    \u001b[39m\u001b[39m\"\"\"Optimize an objective function.\u001b[39;00m\n\u001b[1;32m    360\u001b[0m \n\u001b[1;32m    361\u001b[0m \u001b[39m    Optimization is done by choosing a suitable set of hyperparameter values from a given\u001b[39;00m\n\u001b[0;32m   (...)\u001b[0m\n\u001b[1;32m    449\u001b[0m \u001b[39m            If nested invocation of this method occurs.\u001b[39;00m\n\u001b[1;32m    450\u001b[0m \u001b[39m    \"\"\"\u001b[39;00m\n\u001b[0;32m--> 451\u001b[0m     _optimize(\n\u001b[1;32m    452\u001b[0m         study\u001b[39m=\u001b[39;49m\u001b[39mself\u001b[39;49m,\n\u001b[1;32m    453\u001b[0m         func\u001b[39m=\u001b[39;49mfunc,\n\u001b[1;32m    454\u001b[0m         n_trials\u001b[39m=\u001b[39;49mn_trials,\n\u001b[1;32m    455\u001b[0m         timeout\u001b[39m=\u001b[39;49mtimeout,\n\u001b[1;32m    456\u001b[0m         n_jobs\u001b[39m=\u001b[39;49mn_jobs,\n\u001b[1;32m    457\u001b[0m         catch\u001b[39m=\u001b[39;49m\u001b[39mtuple\u001b[39;49m(catch) \u001b[39mif\u001b[39;49;00m \u001b[39misinstance\u001b[39;49m(catch, Iterable) \u001b[39melse\u001b[39;49;00m (catch,),\n\u001b[1;32m    458\u001b[0m         callbacks\u001b[39m=\u001b[39;49mcallbacks,\n\u001b[1;32m    459\u001b[0m         gc_after_trial\u001b[39m=\u001b[39;49mgc_after_trial,\n\u001b[1;32m    460\u001b[0m         show_progress_bar\u001b[39m=\u001b[39;49mshow_progress_bar,\n\u001b[1;32m    461\u001b[0m     )\n",
      "File \u001b[0;32m~/programs/lib/python3.11/site-packages/optuna/study/_optimize.py:62\u001b[0m, in \u001b[0;36m_optimize\u001b[0;34m(study, func, n_trials, timeout, n_jobs, catch, callbacks, gc_after_trial, show_progress_bar)\u001b[0m\n\u001b[1;32m     60\u001b[0m \u001b[39mtry\u001b[39;00m:\n\u001b[1;32m     61\u001b[0m     \u001b[39mif\u001b[39;00m n_jobs \u001b[39m==\u001b[39m \u001b[39m1\u001b[39m:\n\u001b[0;32m---> 62\u001b[0m         _optimize_sequential(\n\u001b[1;32m     63\u001b[0m             study,\n\u001b[1;32m     64\u001b[0m             func,\n\u001b[1;32m     65\u001b[0m             n_trials,\n\u001b[1;32m     66\u001b[0m             timeout,\n\u001b[1;32m     67\u001b[0m             catch,\n\u001b[1;32m     68\u001b[0m             callbacks,\n\u001b[1;32m     69\u001b[0m             gc_after_trial,\n\u001b[1;32m     70\u001b[0m             reseed_sampler_rng\u001b[39m=\u001b[39;49m\u001b[39mFalse\u001b[39;49;00m,\n\u001b[1;32m     71\u001b[0m             time_start\u001b[39m=\u001b[39;49m\u001b[39mNone\u001b[39;49;00m,\n\u001b[1;32m     72\u001b[0m             progress_bar\u001b[39m=\u001b[39;49mprogress_bar,\n\u001b[1;32m     73\u001b[0m         )\n\u001b[1;32m     74\u001b[0m     \u001b[39melse\u001b[39;00m:\n\u001b[1;32m     75\u001b[0m         \u001b[39mif\u001b[39;00m n_jobs \u001b[39m==\u001b[39m \u001b[39m-\u001b[39m\u001b[39m1\u001b[39m:\n",
      "File \u001b[0;32m~/programs/lib/python3.11/site-packages/optuna/study/_optimize.py:159\u001b[0m, in \u001b[0;36m_optimize_sequential\u001b[0;34m(study, func, n_trials, timeout, catch, callbacks, gc_after_trial, reseed_sampler_rng, time_start, progress_bar)\u001b[0m\n\u001b[1;32m    156\u001b[0m         \u001b[39mbreak\u001b[39;00m\n\u001b[1;32m    158\u001b[0m \u001b[39mtry\u001b[39;00m:\n\u001b[0;32m--> 159\u001b[0m     frozen_trial \u001b[39m=\u001b[39m _run_trial(study, func, catch)\n\u001b[1;32m    160\u001b[0m \u001b[39mfinally\u001b[39;00m:\n\u001b[1;32m    161\u001b[0m     \u001b[39m# The following line mitigates memory problems that can be occurred in some\u001b[39;00m\n\u001b[1;32m    162\u001b[0m     \u001b[39m# environments (e.g., services that use computing containers such as GitHub Actions).\u001b[39;00m\n\u001b[1;32m    163\u001b[0m     \u001b[39m# Please refer to the following PR for further details:\u001b[39;00m\n\u001b[1;32m    164\u001b[0m     \u001b[39m# https://github.com/optuna/optuna/pull/325.\u001b[39;00m\n\u001b[1;32m    165\u001b[0m     \u001b[39mif\u001b[39;00m gc_after_trial:\n",
      "File \u001b[0;32m~/programs/lib/python3.11/site-packages/optuna/study/_optimize.py:247\u001b[0m, in \u001b[0;36m_run_trial\u001b[0;34m(study, func, catch)\u001b[0m\n\u001b[1;32m    240\u001b[0m         \u001b[39massert\u001b[39;00m \u001b[39mFalse\u001b[39;00m, \u001b[39m\"\u001b[39m\u001b[39mShould not reach.\u001b[39m\u001b[39m\"\u001b[39m\n\u001b[1;32m    242\u001b[0m \u001b[39mif\u001b[39;00m (\n\u001b[1;32m    243\u001b[0m     frozen_trial\u001b[39m.\u001b[39mstate \u001b[39m==\u001b[39m TrialState\u001b[39m.\u001b[39mFAIL\n\u001b[1;32m    244\u001b[0m     \u001b[39mand\u001b[39;00m func_err \u001b[39mis\u001b[39;00m \u001b[39mnot\u001b[39;00m \u001b[39mNone\u001b[39;00m\n\u001b[1;32m    245\u001b[0m     \u001b[39mand\u001b[39;00m \u001b[39mnot\u001b[39;00m \u001b[39misinstance\u001b[39m(func_err, catch)\n\u001b[1;32m    246\u001b[0m ):\n\u001b[0;32m--> 247\u001b[0m     \u001b[39mraise\u001b[39;00m func_err\n\u001b[1;32m    248\u001b[0m \u001b[39mreturn\u001b[39;00m frozen_trial\n",
      "File \u001b[0;32m~/programs/lib/python3.11/site-packages/optuna/study/_optimize.py:196\u001b[0m, in \u001b[0;36m_run_trial\u001b[0;34m(study, func, catch)\u001b[0m\n\u001b[1;32m    194\u001b[0m \u001b[39mwith\u001b[39;00m get_heartbeat_thread(trial\u001b[39m.\u001b[39m_trial_id, study\u001b[39m.\u001b[39m_storage):\n\u001b[1;32m    195\u001b[0m     \u001b[39mtry\u001b[39;00m:\n\u001b[0;32m--> 196\u001b[0m         value_or_values \u001b[39m=\u001b[39m func(trial)\n\u001b[1;32m    197\u001b[0m     \u001b[39mexcept\u001b[39;00m exceptions\u001b[39m.\u001b[39mTrialPruned \u001b[39mas\u001b[39;00m e:\n\u001b[1;32m    198\u001b[0m         \u001b[39m# TODO(mamu): Handle multi-objective cases.\u001b[39;00m\n\u001b[1;32m    199\u001b[0m         state \u001b[39m=\u001b[39m TrialState\u001b[39m.\u001b[39mPRUNED\n",
      "\u001b[1;32m/home/exi/uni/2024/525/project/multi_emotions.ipynb Cell 38\u001b[0m line \u001b[0;36m4\n\u001b[1;32m     <a href='vscode-notebook-cell:/home/exi/uni/2024/525/project/multi_emotions.ipynb#X51sZmlsZQ%3D%3D?line=38'>39</a>\u001b[0m optimizer \u001b[39m=\u001b[39m optim\u001b[39m.\u001b[39mAdam(model\u001b[39m.\u001b[39mparameters(), lr\u001b[39m=\u001b[39mlr, weight_decay\u001b[39m=\u001b[39mweight_decay, betas\u001b[39m=\u001b[39madam_betas)\n\u001b[1;32m     <a href='vscode-notebook-cell:/home/exi/uni/2024/525/project/multi_emotions.ipynb#X51sZmlsZQ%3D%3D?line=41'>42</a>\u001b[0m \u001b[39m#################################################\u001b[39;00m\n\u001b[1;32m     <a href='vscode-notebook-cell:/home/exi/uni/2024/525/project/multi_emotions.ipynb#X51sZmlsZQ%3D%3D?line=42'>43</a>\u001b[0m \u001b[39m# Train model\u001b[39;00m\n\u001b[0;32m---> <a href='vscode-notebook-cell:/home/exi/uni/2024/525/project/multi_emotions.ipynb#X51sZmlsZQ%3D%3D?line=43'>44</a>\u001b[0m model_final, trainloss, valloss \u001b[39m=\u001b[39m train_model(train_loader\u001b[39m=\u001b[39;49mtrain_loader, val_loader\u001b[39m=\u001b[39;49mval_loader, model\u001b[39m=\u001b[39;49mmodel,\n\u001b[1;32m     <a href='vscode-notebook-cell:/home/exi/uni/2024/525/project/multi_emotions.ipynb#X51sZmlsZQ%3D%3D?line=44'>45</a>\u001b[0m                                         criterion\u001b[39m=\u001b[39;49mcriterion, optimizer\u001b[39m=\u001b[39;49moptimizer, Num_Epochs\u001b[39m=\u001b[39;49mNum_Epochs, checkpoint_interval\u001b[39m=\u001b[39;49mcheckpoint_interval, run_name\u001b[39m=\u001b[39;49mrun_name)\n\u001b[1;32m     <a href='vscode-notebook-cell:/home/exi/uni/2024/525/project/multi_emotions.ipynb#X51sZmlsZQ%3D%3D?line=46'>47</a>\u001b[0m \u001b[39m# Output model performance\u001b[39;00m\n\u001b[1;32m     <a href='vscode-notebook-cell:/home/exi/uni/2024/525/project/multi_emotions.ipynb#X51sZmlsZQ%3D%3D?line=47'>48</a>\u001b[0m \u001b[39m#tr_acc = get_accuracy(net=model_final, data_loader=train_loader)\u001b[39;00m\n\u001b[1;32m     <a href='vscode-notebook-cell:/home/exi/uni/2024/525/project/multi_emotions.ipynb#X51sZmlsZQ%3D%3D?line=49'>50</a>\u001b[0m tr_acc \u001b[39m=\u001b[39m get_accuracy(net\u001b[39m=\u001b[39mmodel_final, data_loader\u001b[39m=\u001b[39mtrain_loader)\n",
      "\u001b[1;32m/home/exi/uni/2024/525/project/multi_emotions.ipynb Cell 38\u001b[0m line \u001b[0;36m5\n\u001b[1;32m     <a href='vscode-notebook-cell:/home/exi/uni/2024/525/project/multi_emotions.ipynb#X51sZmlsZQ%3D%3D?line=50'>51</a>\u001b[0m loss \u001b[39m=\u001b[39m criterion(outputs, labels) \u001b[39m# loss = criterion(outputs, torch.reshape(labels.float(), outputs.shape))\u001b[39;00m\n\u001b[1;32m     <a href='vscode-notebook-cell:/home/exi/uni/2024/525/project/multi_emotions.ipynb#X51sZmlsZQ%3D%3D?line=52'>53</a>\u001b[0m \u001b[39m# backward pass\u001b[39;00m\n\u001b[0;32m---> <a href='vscode-notebook-cell:/home/exi/uni/2024/525/project/multi_emotions.ipynb#X51sZmlsZQ%3D%3D?line=53'>54</a>\u001b[0m loss\u001b[39m.\u001b[39;49mbackward()\n\u001b[1;32m     <a href='vscode-notebook-cell:/home/exi/uni/2024/525/project/multi_emotions.ipynb#X51sZmlsZQ%3D%3D?line=55'>56</a>\u001b[0m \u001b[39m# update parameters\u001b[39;00m\n\u001b[1;32m     <a href='vscode-notebook-cell:/home/exi/uni/2024/525/project/multi_emotions.ipynb#X51sZmlsZQ%3D%3D?line=56'>57</a>\u001b[0m optimizer\u001b[39m.\u001b[39mstep()\n",
      "File \u001b[0;32m~/programs/lib/python3.11/site-packages/torch/_tensor.py:522\u001b[0m, in \u001b[0;36mTensor.backward\u001b[0;34m(self, gradient, retain_graph, create_graph, inputs)\u001b[0m\n\u001b[1;32m    512\u001b[0m \u001b[39mif\u001b[39;00m has_torch_function_unary(\u001b[39mself\u001b[39m):\n\u001b[1;32m    513\u001b[0m     \u001b[39mreturn\u001b[39;00m handle_torch_function(\n\u001b[1;32m    514\u001b[0m         Tensor\u001b[39m.\u001b[39mbackward,\n\u001b[1;32m    515\u001b[0m         (\u001b[39mself\u001b[39m,),\n\u001b[0;32m   (...)\u001b[0m\n\u001b[1;32m    520\u001b[0m         inputs\u001b[39m=\u001b[39minputs,\n\u001b[1;32m    521\u001b[0m     )\n\u001b[0;32m--> 522\u001b[0m torch\u001b[39m.\u001b[39;49mautograd\u001b[39m.\u001b[39;49mbackward(\n\u001b[1;32m    523\u001b[0m     \u001b[39mself\u001b[39;49m, gradient, retain_graph, create_graph, inputs\u001b[39m=\u001b[39;49minputs\n\u001b[1;32m    524\u001b[0m )\n",
      "File \u001b[0;32m~/programs/lib/python3.11/site-packages/torch/autograd/__init__.py:266\u001b[0m, in \u001b[0;36mbackward\u001b[0;34m(tensors, grad_tensors, retain_graph, create_graph, grad_variables, inputs)\u001b[0m\n\u001b[1;32m    261\u001b[0m     retain_graph \u001b[39m=\u001b[39m create_graph\n\u001b[1;32m    263\u001b[0m \u001b[39m# The reason we repeat the same comment below is that\u001b[39;00m\n\u001b[1;32m    264\u001b[0m \u001b[39m# some Python versions print out the first line of a multi-line function\u001b[39;00m\n\u001b[1;32m    265\u001b[0m \u001b[39m# calls in the traceback and some print out the last line\u001b[39;00m\n\u001b[0;32m--> 266\u001b[0m Variable\u001b[39m.\u001b[39;49m_execution_engine\u001b[39m.\u001b[39;49mrun_backward(  \u001b[39m# Calls into the C++ engine to run the backward pass\u001b[39;49;00m\n\u001b[1;32m    267\u001b[0m     tensors,\n\u001b[1;32m    268\u001b[0m     grad_tensors_,\n\u001b[1;32m    269\u001b[0m     retain_graph,\n\u001b[1;32m    270\u001b[0m     create_graph,\n\u001b[1;32m    271\u001b[0m     inputs,\n\u001b[1;32m    272\u001b[0m     allow_unreachable\u001b[39m=\u001b[39;49m\u001b[39mTrue\u001b[39;49;00m,\n\u001b[1;32m    273\u001b[0m     accumulate_grad\u001b[39m=\u001b[39;49m\u001b[39mTrue\u001b[39;49;00m,\n\u001b[1;32m    274\u001b[0m )\n",
      "\u001b[0;31mKeyboardInterrupt\u001b[0m: "
     ]
    }
   ],
   "source": [
    "def objective(trial):\n",
    "\n",
    "    # Trial configuration\n",
    "    # Name for run\n",
    "    run_name = \"Optuna-Test\"\n",
    "    # How many epochs before saving progress\n",
    "    checkpoint_interval = 10\n",
    "    #Number of epochs\n",
    "    Num_Epochs = 20\n",
    "    ## Loss\n",
    "    criterion = nn.CrossEntropyLoss()\n",
    "\n",
    "    ##############################################\n",
    "    # Hyperparameters search spaces\n",
    "    # Learning rate\n",
    "    lr = trial.suggest_float(\"lr\", 1e-5, 1e-1, log=True)\n",
    "    # L2 Normalization lambda\n",
    "    weight_decay = trial.suggest_float(\"L2\", 1e-5, 1e-1, log=True)\n",
    "    # Batch size\n",
    "    batch_size = trial.suggest_categorical(\"batch_size\", [1, 2, 4, 8])\n",
    "    # Adam beta values\n",
    "    adam_betas = (1.0-trial.suggest_float(\"beta1\", 0.05, 0.15, log=True), 1.0-trial.suggest_float(\"beta2\", 1e-5, 1e-3, log=True))\n",
    "\n",
    "    #################################################\n",
    "    # Generate data loader based on new batch size\n",
    "    train_loader = torch.utils.data.DataLoader(dataset=splits[1], shuffle=True, num_workers=0,\n",
    "                                           batch_size=batch_size, drop_last=True)\n",
    "    val_loader = torch.utils.data.DataLoader(dataset=splits[0], shuffle=True, num_workers=0,\n",
    "                                           batch_size=1, drop_last=True)\n",
    "\n",
    "    #################################################\n",
    "    # Create network architecture\n",
    "    model = ConvNetWithoutDropout(len(data.classes))\n",
    "\n",
    "    # Initialize model weights\n",
    "    model.apply(init_weights)\n",
    "\n",
    "    ## Optimizer\n",
    "    optimizer = optim.Adam(model.parameters(), lr=lr, weight_decay=weight_decay, betas=adam_betas)\n",
    "\n",
    "    \n",
    "    #################################################\n",
    "    # Train model\n",
    "    model_final, trainloss, valloss = train_model(train_loader=train_loader, val_loader=val_loader, model=model,\n",
    "                                            criterion=criterion, optimizer=optimizer, Num_Epochs=Num_Epochs, checkpoint_interval=checkpoint_interval, run_name=run_name)\n",
    "\n",
    "    # Output model performance\n",
    "    #tr_acc = get_accuracy(net=model_final, data_loader=train_loader)\n",
    "    \n",
    "    tr_acc = get_accuracy(net=model_final, data_loader=train_loader)\n",
    "    val_acc = get_accuracy(net=model_final, data_loader=val_loader)\n",
    "    print(f\"Accuracy: Train: {tr_acc:.3f} | Val: {val_acc:0.3f}\" )\n",
    "    #print(f\"{run_name}: Accuracy: Train: {tr_acc:.3f} | Val: {val_acc:0.3f}\" )\n",
    "    # if(val_acc > 0.7):\n",
    "    torch.save(model.state_dict(), \"networks/ADAM/net_\" + str(trial.number))\n",
    "    # The objective function needs to return the metric to minimize or maximize\n",
    "    return val_acc\n",
    "\n",
    "study = optuna.create_study(direction=\"maximize\", study_name=\"Adam-binary-art\")\n",
    "study.optimize(objective, n_trials=100)\n",
    "\n",
    "print(\"Best trial:\")\n",
    "trial = study.best_trial\n",
    "print(f\" Value: {trial.value}\")\n",
    "print(\" Params: \")\n",
    "for key, value in trial.params.items():\n",
    "    print(f\"    {key}: {value}\")"
   ]
  },
  {
   "cell_type": "code",
   "execution_count": null,
   "metadata": {},
   "outputs": [
    {
     "name": "stderr",
     "output_type": "stream",
     "text": [
      "[I 2024-05-05 14:06:49,682] A new study created in memory with name: Adam-binary-art\n",
      "/tmp/ipykernel_3111/1099974826.py:5: UserWarning: nn.init.xavier_uniform is now deprecated in favor of nn.init.xavier_uniform_.\n",
      "  torch.nn.init.xavier_uniform(m.weight)\n"
     ]
    },
    {
     "name": "stdout",
     "output_type": "stream",
     "text": [
      "[E= 9] [it=  330] Train Loss: 0.497, Test Loss: 0.586\n",
      "[E=19] [it=  660] Train Loss: 0.359, Test Loss: 0.563\n"
     ]
    },
    {
     "name": "stderr",
     "output_type": "stream",
     "text": [
      "[I 2024-05-05 14:07:30,473] Trial 0 finished with value: 0.7894736842105263 and parameters: {'num_epochs': 20, 'lr': 0.00018006317482176525, 'L2': 0.00019121815481265426, 'beta1': 0.05668264529856508, 'beta2': 0.0005930307769982909}. Best is trial 0 with value: 0.7894736842105263.\n"
     ]
    },
    {
     "name": "stdout",
     "output_type": "stream",
     "text": [
      "Accuracy: Train: 0.848 | Val: 0.789\n",
      "[E= 9] [it=  330] Train Loss: 0.463, Test Loss: 0.541\n",
      "[E=19] [it=  660] Train Loss: 0.271, Test Loss: 0.576\n",
      "[E=29] [it=  990] Train Loss: 0.220, Test Loss: 0.608\n"
     ]
    },
    {
     "name": "stderr",
     "output_type": "stream",
     "text": [
      "[I 2024-05-05 14:08:31,549] Trial 1 finished with value: 0.7543859649122807 and parameters: {'num_epochs': 30, 'lr': 0.00015188084163670997, 'L2': 0.00015245940967931263, 'beta1': 0.05795910728694925, 'beta2': 0.0005820471971844855}. Best is trial 0 with value: 0.7894736842105263.\n"
     ]
    },
    {
     "name": "stdout",
     "output_type": "stream",
     "text": [
      "Accuracy: Train: 0.947 | Val: 0.754\n",
      "[E= 9] [it=  330] Train Loss: 0.433, Test Loss: 0.563\n",
      "[E=19] [it=  660] Train Loss: 0.216, Test Loss: 0.658\n",
      "[E=29] [it=  990] Train Loss: 0.077, Test Loss: 0.902\n"
     ]
    },
    {
     "name": "stderr",
     "output_type": "stream",
     "text": [
      "[I 2024-05-05 14:09:32,284] Trial 2 finished with value: 0.7368421052631579 and parameters: {'num_epochs': 30, 'lr': 0.0002283336723665318, 'L2': 0.00017368621282538445, 'beta1': 0.057782230044275684, 'beta2': 0.0005973335927426176}. Best is trial 0 with value: 0.7894736842105263.\n"
     ]
    },
    {
     "name": "stdout",
     "output_type": "stream",
     "text": [
      "Accuracy: Train: 0.924 | Val: 0.737\n",
      "[E= 9] [it=  330] Train Loss: 0.494, Test Loss: 0.610\n",
      "[E=19] [it=  660] Train Loss: 0.288, Test Loss: 0.605\n"
     ]
    },
    {
     "name": "stderr",
     "output_type": "stream",
     "text": [
      "[I 2024-05-05 14:10:13,317] Trial 3 finished with value: 0.7719298245614035 and parameters: {'num_epochs': 20, 'lr': 0.00021417898089431953, 'L2': 0.00019658496123404532, 'beta1': 0.052169916013081595, 'beta2': 0.0005812816369199639}. Best is trial 0 with value: 0.7894736842105263.\n"
     ]
    },
    {
     "name": "stdout",
     "output_type": "stream",
     "text": [
      "Accuracy: Train: 0.841 | Val: 0.772\n",
      "[E= 9] [it=  330] Train Loss: 0.442, Test Loss: 0.551\n",
      "[E=19] [it=  660] Train Loss: 0.270, Test Loss: 0.686\n"
     ]
    },
    {
     "name": "stderr",
     "output_type": "stream",
     "text": [
      "[I 2024-05-05 14:10:54,324] Trial 4 finished with value: 0.7368421052631579 and parameters: {'num_epochs': 20, 'lr': 0.0002478020265764691, 'L2': 0.0001902812213958752, 'beta1': 0.05844515852798684, 'beta2': 0.0006145368280944292}. Best is trial 0 with value: 0.7894736842105263.\n"
     ]
    },
    {
     "name": "stdout",
     "output_type": "stream",
     "text": [
      "Accuracy: Train: 0.917 | Val: 0.737\n",
      "[E= 9] [it=  330] Train Loss: 0.472, Test Loss: 0.518\n",
      "[E=19] [it=  660] Train Loss: 0.280, Test Loss: 0.584\n"
     ]
    },
    {
     "name": "stderr",
     "output_type": "stream",
     "text": [
      "[I 2024-05-05 14:11:35,554] Trial 5 finished with value: 0.7017543859649122 and parameters: {'num_epochs': 20, 'lr': 0.00023517187639012969, 'L2': 0.00015710080314654056, 'beta1': 0.05838130913965327, 'beta2': 0.0006340121798150715}. Best is trial 0 with value: 0.7894736842105263.\n"
     ]
    },
    {
     "name": "stdout",
     "output_type": "stream",
     "text": [
      "Accuracy: Train: 0.871 | Val: 0.702\n",
      "[E= 9] [it=  330] Train Loss: 0.440, Test Loss: 0.587\n",
      "[E=19] [it=  660] Train Loss: 0.228, Test Loss: 0.745\n"
     ]
    },
    {
     "name": "stderr",
     "output_type": "stream",
     "text": [
      "[I 2024-05-05 14:12:16,546] Trial 6 finished with value: 0.6666666666666666 and parameters: {'num_epochs': 20, 'lr': 0.00015575798342989928, 'L2': 0.00017828627346219884, 'beta1': 0.05509562508199009, 'beta2': 0.0006074888728152549}. Best is trial 0 with value: 0.7894736842105263.\n"
     ]
    },
    {
     "name": "stdout",
     "output_type": "stream",
     "text": [
      "Accuracy: Train: 0.932 | Val: 0.667\n",
      "[E= 9] [it=  330] Train Loss: 0.507, Test Loss: 0.571\n",
      "[E=19] [it=  660] Train Loss: 0.319, Test Loss: 0.573\n",
      "[E=29] [it=  990] Train Loss: 0.169, Test Loss: 0.653\n"
     ]
    },
    {
     "name": "stderr",
     "output_type": "stream",
     "text": [
      "[I 2024-05-05 14:13:17,112] Trial 7 finished with value: 0.7368421052631579 and parameters: {'num_epochs': 30, 'lr': 0.0001533263947034424, 'L2': 0.0001580267599693558, 'beta1': 0.054506158657949694, 'beta2': 0.00055196148769128}. Best is trial 0 with value: 0.7894736842105263.\n"
     ]
    },
    {
     "name": "stdout",
     "output_type": "stream",
     "text": [
      "Accuracy: Train: 0.917 | Val: 0.737\n",
      "[E= 9] [it=  330] Train Loss: 0.453, Test Loss: 0.591\n",
      "[E=19] [it=  660] Train Loss: 0.257, Test Loss: 0.625\n",
      "[E=29] [it=  990] Train Loss: 0.139, Test Loss: 0.698\n"
     ]
    },
    {
     "name": "stderr",
     "output_type": "stream",
     "text": [
      "[I 2024-05-05 14:14:17,704] Trial 8 finished with value: 0.6666666666666666 and parameters: {'num_epochs': 30, 'lr': 0.00024228668075198427, 'L2': 0.00019414115193067276, 'beta1': 0.05712693995661408, 'beta2': 0.0006402692630346688}. Best is trial 0 with value: 0.7894736842105263.\n"
     ]
    },
    {
     "name": "stdout",
     "output_type": "stream",
     "text": [
      "Accuracy: Train: 0.970 | Val: 0.667\n",
      "[E= 9] [it=  330] Train Loss: 0.403, Test Loss: 0.539\n",
      "[E=19] [it=  660] Train Loss: 0.276, Test Loss: 0.618\n"
     ]
    },
    {
     "name": "stderr",
     "output_type": "stream",
     "text": [
      "[I 2024-05-05 14:14:58,564] Trial 9 finished with value: 0.631578947368421 and parameters: {'num_epochs': 20, 'lr': 0.00022950369955971554, 'L2': 0.00019136245746237846, 'beta1': 0.05717354088241318, 'beta2': 0.0005726262191137112}. Best is trial 0 with value: 0.7894736842105263.\n"
     ]
    },
    {
     "name": "stdout",
     "output_type": "stream",
     "text": [
      "Accuracy: Train: 0.864 | Val: 0.632\n",
      "[E= 9] [it=  330] Train Loss: 0.474, Test Loss: 0.567\n",
      "[E=19] [it=  660] Train Loss: 0.324, Test Loss: 0.583\n"
     ]
    },
    {
     "name": "stderr",
     "output_type": "stream",
     "text": [
      "[I 2024-05-05 14:15:39,401] Trial 10 finished with value: 0.7192982456140351 and parameters: {'num_epochs': 20, 'lr': 0.00018130567625164026, 'L2': 0.00017987932111240544, 'beta1': 0.05994642523201281, 'beta2': 0.0005595333376869349}. Best is trial 0 with value: 0.7894736842105263.\n"
     ]
    },
    {
     "name": "stdout",
     "output_type": "stream",
     "text": [
      "Accuracy: Train: 0.924 | Val: 0.719\n",
      "[E= 9] [it=  330] Train Loss: 0.442, Test Loss: 0.576\n",
      "[E=19] [it=  660] Train Loss: 0.251, Test Loss: 0.565\n"
     ]
    },
    {
     "name": "stderr",
     "output_type": "stream",
     "text": [
      "[I 2024-05-05 14:16:20,488] Trial 11 finished with value: 0.7719298245614035 and parameters: {'num_epochs': 20, 'lr': 0.00019840068015270998, 'L2': 0.00019590696507600672, 'beta1': 0.050141769689053546, 'beta2': 0.0005874992884294538}. Best is trial 0 with value: 0.7894736842105263.\n"
     ]
    },
    {
     "name": "stdout",
     "output_type": "stream",
     "text": [
      "Accuracy: Train: 0.886 | Val: 0.772\n",
      "[E= 9] [it=  330] Train Loss: 0.476, Test Loss: 0.556\n",
      "[E=19] [it=  660] Train Loss: 0.311, Test Loss: 0.610\n"
     ]
    },
    {
     "name": "stderr",
     "output_type": "stream",
     "text": [
      "[I 2024-05-05 14:17:01,340] Trial 12 finished with value: 0.7017543859649122 and parameters: {'num_epochs': 20, 'lr': 0.00020607000587090325, 'L2': 0.00019937156924258333, 'beta1': 0.051517412400930475, 'beta2': 0.000571323441317616}. Best is trial 0 with value: 0.7894736842105263.\n"
     ]
    },
    {
     "name": "stdout",
     "output_type": "stream",
     "text": [
      "Accuracy: Train: 0.894 | Val: 0.702\n",
      "[E= 9] [it=  330] Train Loss: 0.447, Test Loss: 0.525\n",
      "[E=19] [it=  660] Train Loss: 0.305, Test Loss: 0.523\n"
     ]
    },
    {
     "name": "stderr",
     "output_type": "stream",
     "text": [
      "[I 2024-05-05 14:17:42,574] Trial 13 finished with value: 0.7368421052631579 and parameters: {'num_epochs': 20, 'lr': 0.0001765907644677394, 'L2': 0.0001847985712110612, 'beta1': 0.053536655284336335, 'beta2': 0.0006172301069974704}. Best is trial 0 with value: 0.7894736842105263.\n"
     ]
    },
    {
     "name": "stdout",
     "output_type": "stream",
     "text": [
      "Accuracy: Train: 0.856 | Val: 0.737\n",
      "[E= 9] [it=  330] Train Loss: 0.453, Test Loss: 0.555\n",
      "[E=19] [it=  660] Train Loss: 0.337, Test Loss: 0.590\n"
     ]
    },
    {
     "name": "stderr",
     "output_type": "stream",
     "text": [
      "[I 2024-05-05 14:18:23,373] Trial 14 finished with value: 0.7192982456140351 and parameters: {'num_epochs': 20, 'lr': 0.00021078197300286803, 'L2': 0.00016899442361264464, 'beta1': 0.05259494468221379, 'beta2': 0.0006016611855315709}. Best is trial 0 with value: 0.7894736842105263.\n"
     ]
    },
    {
     "name": "stdout",
     "output_type": "stream",
     "text": [
      "Accuracy: Train: 0.773 | Val: 0.719\n",
      "[E= 9] [it=  330] Train Loss: 0.554, Test Loss: 0.650\n",
      "[E=19] [it=  660] Train Loss: 0.328, Test Loss: 0.538\n"
     ]
    },
    {
     "name": "stderr",
     "output_type": "stream",
     "text": [
      "[I 2024-05-05 14:19:04,524] Trial 15 finished with value: 0.7017543859649122 and parameters: {'num_epochs': 20, 'lr': 0.0001867282845016833, 'L2': 0.00018601668734783506, 'beta1': 0.05565764474158238, 'beta2': 0.0005907261777926789}. Best is trial 0 with value: 0.7894736842105263.\n"
     ]
    },
    {
     "name": "stdout",
     "output_type": "stream",
     "text": [
      "Accuracy: Train: 0.841 | Val: 0.702\n",
      "[E= 9] [it=  330] Train Loss: 0.514, Test Loss: 0.539\n",
      "[E=19] [it=  660] Train Loss: 0.358, Test Loss: 0.589\n"
     ]
    },
    {
     "name": "stderr",
     "output_type": "stream",
     "text": [
      "[I 2024-05-05 14:19:45,751] Trial 16 finished with value: 0.6842105263157895 and parameters: {'num_epochs': 20, 'lr': 0.00021773018203538684, 'L2': 0.00019862848620566924, 'beta1': 0.05619430197708513, 'beta2': 0.0005725802273547922}. Best is trial 0 with value: 0.7894736842105263.\n"
     ]
    },
    {
     "name": "stdout",
     "output_type": "stream",
     "text": [
      "Accuracy: Train: 0.871 | Val: 0.684\n",
      "[E= 9] [it=  330] Train Loss: 0.365, Test Loss: 0.592\n",
      "[E=19] [it=  660] Train Loss: 0.195, Test Loss: 0.620\n"
     ]
    },
    {
     "name": "stderr",
     "output_type": "stream",
     "text": [
      "[I 2024-05-05 14:20:26,820] Trial 17 finished with value: 0.7368421052631579 and parameters: {'num_epochs': 20, 'lr': 0.00016926130452411087, 'L2': 0.00018494008905520115, 'beta1': 0.05364757020521702, 'beta2': 0.0005829014047667215}. Best is trial 0 with value: 0.7894736842105263.\n"
     ]
    },
    {
     "name": "stdout",
     "output_type": "stream",
     "text": [
      "Accuracy: Train: 0.917 | Val: 0.737\n",
      "[E= 9] [it=  330] Train Loss: 0.433, Test Loss: 0.595\n",
      "[E=19] [it=  660] Train Loss: 0.273, Test Loss: 0.633\n",
      "[E=29] [it=  990] Train Loss: 0.130, Test Loss: 0.883\n"
     ]
    },
    {
     "name": "stderr",
     "output_type": "stream",
     "text": [
      "[I 2024-05-05 14:21:27,722] Trial 18 finished with value: 0.631578947368421 and parameters: {'num_epochs': 30, 'lr': 0.00019812824335047218, 'L2': 0.0001887958332747828, 'beta1': 0.051709375887600925, 'beta2': 0.0006254860367270289}. Best is trial 0 with value: 0.7894736842105263.\n"
     ]
    },
    {
     "name": "stdout",
     "output_type": "stream",
     "text": [
      "Accuracy: Train: 0.970 | Val: 0.632\n",
      "[E= 9] [it=  330] Train Loss: 0.429, Test Loss: 0.543\n",
      "[E=19] [it=  660] Train Loss: 0.291, Test Loss: 0.659\n"
     ]
    },
    {
     "name": "stderr",
     "output_type": "stream",
     "text": [
      "[I 2024-05-05 14:22:08,876] Trial 19 finished with value: 0.7017543859649122 and parameters: {'num_epochs': 20, 'lr': 0.00018978022968495635, 'L2': 0.00016935676357223727, 'beta1': 0.050213827697443786, 'beta2': 0.0005616878104202262}. Best is trial 0 with value: 0.7894736842105263.\n"
     ]
    },
    {
     "name": "stdout",
     "output_type": "stream",
     "text": [
      "Accuracy: Train: 0.864 | Val: 0.702\n",
      "[E= 9] [it=  330] Train Loss: 0.571, Test Loss: 0.614\n",
      "[E=19] [it=  660] Train Loss: 0.386, Test Loss: 0.609\n"
     ]
    },
    {
     "name": "stderr",
     "output_type": "stream",
     "text": [
      "[I 2024-05-05 14:22:50,032] Trial 20 finished with value: 0.6666666666666666 and parameters: {'num_epochs': 20, 'lr': 0.00016774278871468153, 'L2': 0.0001814874669165953, 'beta1': 0.05403606442885145, 'beta2': 0.00059671472757146}. Best is trial 0 with value: 0.7894736842105263.\n"
     ]
    },
    {
     "name": "stdout",
     "output_type": "stream",
     "text": [
      "Accuracy: Train: 0.773 | Val: 0.667\n",
      "[E= 9] [it=  330] Train Loss: 0.418, Test Loss: 0.478\n",
      "[E=19] [it=  660] Train Loss: 0.343, Test Loss: 0.806\n"
     ]
    },
    {
     "name": "stderr",
     "output_type": "stream",
     "text": [
      "[I 2024-05-05 14:23:30,998] Trial 21 finished with value: 0.7017543859649122 and parameters: {'num_epochs': 20, 'lr': 0.00019911819865520784, 'L2': 0.00019494798511297497, 'beta1': 0.05009923169263812, 'beta2': 0.0005838079387354931}. Best is trial 0 with value: 0.7894736842105263.\n"
     ]
    },
    {
     "name": "stdout",
     "output_type": "stream",
     "text": [
      "Accuracy: Train: 0.811 | Val: 0.702\n",
      "[E= 9] [it=  330] Train Loss: 0.429, Test Loss: 0.545\n",
      "[E=19] [it=  660] Train Loss: 0.271, Test Loss: 0.730\n"
     ]
    },
    {
     "name": "stderr",
     "output_type": "stream",
     "text": [
      "[I 2024-05-05 14:24:12,011] Trial 22 finished with value: 0.7192982456140351 and parameters: {'num_epochs': 20, 'lr': 0.00022125823101825685, 'L2': 0.0001948812818358569, 'beta1': 0.05120105198977221, 'beta2': 0.0005872976796096824}. Best is trial 0 with value: 0.7894736842105263.\n"
     ]
    },
    {
     "name": "stdout",
     "output_type": "stream",
     "text": [
      "Accuracy: Train: 0.917 | Val: 0.719\n",
      "[E= 9] [it=  330] Train Loss: 0.401, Test Loss: 0.492\n",
      "[E=19] [it=  660] Train Loss: 0.218, Test Loss: 0.598\n"
     ]
    },
    {
     "name": "stderr",
     "output_type": "stream",
     "text": [
      "[I 2024-05-05 14:24:53,001] Trial 23 finished with value: 0.7543859649122807 and parameters: {'num_epochs': 20, 'lr': 0.00019300816541509175, 'L2': 0.00019916764026416573, 'beta1': 0.05073079621712746, 'beta2': 0.000605396489594083}. Best is trial 0 with value: 0.7894736842105263.\n"
     ]
    },
    {
     "name": "stdout",
     "output_type": "stream",
     "text": [
      "Accuracy: Train: 0.917 | Val: 0.754\n",
      "[E= 9] [it=  330] Train Loss: 0.463, Test Loss: 0.910\n",
      "[E=19] [it=  660] Train Loss: 0.282, Test Loss: 0.608\n"
     ]
    },
    {
     "name": "stderr",
     "output_type": "stream",
     "text": [
      "[I 2024-05-05 14:25:34,591] Trial 24 finished with value: 0.7017543859649122 and parameters: {'num_epochs': 20, 'lr': 0.0002069698729683712, 'L2': 0.00019421497088335484, 'beta1': 0.05252100043116525, 'beta2': 0.0005771546313979815}. Best is trial 0 with value: 0.7894736842105263.\n"
     ]
    },
    {
     "name": "stdout",
     "output_type": "stream",
     "text": [
      "Accuracy: Train: 0.841 | Val: 0.702\n",
      "[E= 9] [it=  330] Train Loss: 0.451, Test Loss: 0.525\n",
      "[E=19] [it=  660] Train Loss: 0.236, Test Loss: 0.560\n"
     ]
    },
    {
     "name": "stderr",
     "output_type": "stream",
     "text": [
      "[I 2024-05-05 14:26:15,966] Trial 25 finished with value: 0.7719298245614035 and parameters: {'num_epochs': 20, 'lr': 0.00021501354720701325, 'L2': 0.00018914993396052857, 'beta1': 0.05250103470571707, 'beta2': 0.0005916601818293762}. Best is trial 0 with value: 0.7894736842105263.\n"
     ]
    },
    {
     "name": "stdout",
     "output_type": "stream",
     "text": [
      "Accuracy: Train: 0.902 | Val: 0.772\n",
      "[E= 9] [it=  330] Train Loss: 0.470, Test Loss: 0.531\n",
      "[E=19] [it=  660] Train Loss: 0.329, Test Loss: 0.593\n",
      "[E=29] [it=  990] Train Loss: 0.268, Test Loss: 0.587\n"
     ]
    },
    {
     "name": "stderr",
     "output_type": "stream",
     "text": [
      "[I 2024-05-05 14:27:16,732] Trial 26 finished with value: 0.6491228070175439 and parameters: {'num_epochs': 30, 'lr': 0.00017850267893977555, 'L2': 0.0001961505641514128, 'beta1': 0.05619838594159692, 'beta2': 0.0005660211886027324}. Best is trial 0 with value: 0.7894736842105263.\n"
     ]
    },
    {
     "name": "stdout",
     "output_type": "stream",
     "text": [
      "Accuracy: Train: 0.886 | Val: 0.649\n",
      "[E= 9] [it=  330] Train Loss: 0.504, Test Loss: 0.568\n",
      "[E=19] [it=  660] Train Loss: 0.278, Test Loss: 0.618\n"
     ]
    },
    {
     "name": "stderr",
     "output_type": "stream",
     "text": [
      "[I 2024-05-05 14:27:57,867] Trial 27 finished with value: 0.6842105263157895 and parameters: {'num_epochs': 20, 'lr': 0.00016816805431484706, 'L2': 0.00019184660128478029, 'beta1': 0.05196411122742943, 'beta2': 0.000613426492002172}. Best is trial 0 with value: 0.7894736842105263.\n"
     ]
    },
    {
     "name": "stdout",
     "output_type": "stream",
     "text": [
      "Accuracy: Train: 0.902 | Val: 0.684\n",
      "[E= 9] [it=  330] Train Loss: 0.527, Test Loss: 0.560\n",
      "[E=19] [it=  660] Train Loss: 0.351, Test Loss: 0.577\n"
     ]
    },
    {
     "name": "stderr",
     "output_type": "stream",
     "text": [
      "[I 2024-05-05 14:28:38,983] Trial 28 finished with value: 0.7192982456140351 and parameters: {'num_epochs': 20, 'lr': 0.0002047348895792817, 'L2': 0.00018710237492996611, 'beta1': 0.0506711172488435, 'beta2': 0.0005928717996384983}. Best is trial 0 with value: 0.7894736842105263.\n"
     ]
    },
    {
     "name": "stdout",
     "output_type": "stream",
     "text": [
      "Accuracy: Train: 0.864 | Val: 0.719\n",
      "[E= 9] [it=  330] Train Loss: 0.459, Test Loss: 0.564\n",
      "[E=19] [it=  660] Train Loss: 0.301, Test Loss: 0.571\n",
      "[E=29] [it=  990] Train Loss: 0.204, Test Loss: 0.616\n"
     ]
    },
    {
     "name": "stderr",
     "output_type": "stream",
     "text": [
      "[I 2024-05-05 14:29:40,284] Trial 29 finished with value: 0.7368421052631579 and parameters: {'num_epochs': 30, 'lr': 0.00019488849019174304, 'L2': 0.00018367093741682633, 'beta1': 0.053267536719409245, 'beta2': 0.0005779472000141938}. Best is trial 0 with value: 0.7894736842105263.\n"
     ]
    },
    {
     "name": "stdout",
     "output_type": "stream",
     "text": [
      "Accuracy: Train: 0.939 | Val: 0.737\n",
      "[E= 9] [it=  330] Train Loss: 0.434, Test Loss: 0.542\n",
      "[E=19] [it=  660] Train Loss: 0.333, Test Loss: 0.590\n"
     ]
    },
    {
     "name": "stderr",
     "output_type": "stream",
     "text": [
      "[I 2024-05-05 14:30:21,607] Trial 30 finished with value: 0.7368421052631579 and parameters: {'num_epochs': 20, 'lr': 0.00018486308810407556, 'L2': 0.00017673734847101097, 'beta1': 0.05510904363511924, 'beta2': 0.0005790320221852416}. Best is trial 0 with value: 0.7894736842105263.\n"
     ]
    },
    {
     "name": "stdout",
     "output_type": "stream",
     "text": [
      "Accuracy: Train: 0.841 | Val: 0.737\n",
      "[E= 9] [it=  330] Train Loss: 0.517, Test Loss: 0.625\n",
      "[E=19] [it=  660] Train Loss: 0.416, Test Loss: 0.535\n"
     ]
    },
    {
     "name": "stderr",
     "output_type": "stream",
     "text": [
      "[I 2024-05-05 14:31:01,145] Trial 31 finished with value: 0.7368421052631579 and parameters: {'num_epochs': 20, 'lr': 0.0002158213847997217, 'L2': 0.00018969729397766446, 'beta1': 0.052525356711308056, 'beta2': 0.0005879251118855036}. Best is trial 0 with value: 0.7894736842105263.\n"
     ]
    },
    {
     "name": "stdout",
     "output_type": "stream",
     "text": [
      "Accuracy: Train: 0.826 | Val: 0.737\n",
      "[E= 9] [it=  330] Train Loss: 0.473, Test Loss: 0.553\n",
      "[E=19] [it=  660] Train Loss: 0.335, Test Loss: 0.606\n"
     ]
    },
    {
     "name": "stderr",
     "output_type": "stream",
     "text": [
      "[I 2024-05-05 14:31:40,523] Trial 32 finished with value: 0.6666666666666666 and parameters: {'num_epochs': 20, 'lr': 0.0002226382860030928, 'L2': 0.00019670117073703679, 'beta1': 0.050935167795657446, 'beta2': 0.000597104976867692}. Best is trial 0 with value: 0.7894736842105263.\n"
     ]
    },
    {
     "name": "stdout",
     "output_type": "stream",
     "text": [
      "Accuracy: Train: 0.871 | Val: 0.667\n",
      "[E= 9] [it=  330] Train Loss: 0.494, Test Loss: 0.568\n",
      "[E=19] [it=  660] Train Loss: 0.321, Test Loss: 0.632\n"
     ]
    },
    {
     "name": "stderr",
     "output_type": "stream",
     "text": [
      "[I 2024-05-05 14:32:19,843] Trial 33 finished with value: 0.6491228070175439 and parameters: {'num_epochs': 20, 'lr': 0.00021252304644963117, 'L2': 0.00019219897050895538, 'beta1': 0.05286658783430193, 'beta2': 0.0005920450275188904}. Best is trial 0 with value: 0.7894736842105263.\n"
     ]
    },
    {
     "name": "stdout",
     "output_type": "stream",
     "text": [
      "Accuracy: Train: 0.894 | Val: 0.649\n",
      "[E= 9] [it=  330] Train Loss: 0.381, Test Loss: 0.552\n",
      "[E=19] [it=  660] Train Loss: 0.211, Test Loss: 0.555\n"
     ]
    },
    {
     "name": "stderr",
     "output_type": "stream",
     "text": [
      "[I 2024-05-05 14:32:59,303] Trial 34 finished with value: 0.7192982456140351 and parameters: {'num_epochs': 20, 'lr': 0.0002263578340954376, 'L2': 0.00017378223916748238, 'beta1': 0.051706479689282575, 'beta2': 0.0006018989551756351}. Best is trial 0 with value: 0.7894736842105263.\n"
     ]
    },
    {
     "name": "stdout",
     "output_type": "stream",
     "text": [
      "Accuracy: Train: 0.947 | Val: 0.719\n",
      "[E= 9] [it=  330] Train Loss: 0.427, Test Loss: 0.550\n",
      "[E=19] [it=  660] Train Loss: 0.269, Test Loss: 0.640\n"
     ]
    },
    {
     "name": "stderr",
     "output_type": "stream",
     "text": [
      "[I 2024-05-05 14:33:38,522] Trial 35 finished with value: 0.6491228070175439 and parameters: {'num_epochs': 20, 'lr': 0.00023741644125146636, 'L2': 0.00018799463115750717, 'beta1': 0.05938113415121398, 'beta2': 0.0005840488294342568}. Best is trial 0 with value: 0.7894736842105263.\n"
     ]
    },
    {
     "name": "stdout",
     "output_type": "stream",
     "text": [
      "Accuracy: Train: 0.924 | Val: 0.649\n",
      "[E= 9] [it=  330] Train Loss: 0.403, Test Loss: 0.590\n",
      "[E=19] [it=  660] Train Loss: 0.242, Test Loss: 0.632\n",
      "[E=29] [it=  990] Train Loss: 0.117, Test Loss: 0.783\n"
     ]
    },
    {
     "name": "stderr",
     "output_type": "stream",
     "text": [
      "[I 2024-05-05 14:34:36,836] Trial 36 finished with value: 0.7017543859649122 and parameters: {'num_epochs': 30, 'lr': 0.00020478609784521542, 'L2': 0.00015083894911556428, 'beta1': 0.05787801558424516, 'beta2': 0.000608147125114663}. Best is trial 0 with value: 0.7894736842105263.\n"
     ]
    },
    {
     "name": "stdout",
     "output_type": "stream",
     "text": [
      "Accuracy: Train: 0.909 | Val: 0.702\n",
      "[E= 9] [it=  330] Train Loss: 0.446, Test Loss: 0.529\n",
      "[E=19] [it=  660] Train Loss: 0.288, Test Loss: 0.524\n"
     ]
    },
    {
     "name": "stderr",
     "output_type": "stream",
     "text": [
      "[I 2024-05-05 14:35:16,728] Trial 37 finished with value: 0.7543859649122807 and parameters: {'num_epochs': 20, 'lr': 0.00023238621851739052, 'L2': 0.0001818689696002214, 'beta1': 0.05453046977645551, 'beta2': 0.0006486560833447009}. Best is trial 0 with value: 0.7894736842105263.\n"
     ]
    },
    {
     "name": "stdout",
     "output_type": "stream",
     "text": [
      "Accuracy: Train: 0.879 | Val: 0.754\n",
      "[E= 9] [it=  330] Train Loss: 0.415, Test Loss: 0.560\n",
      "[E=19] [it=  660] Train Loss: 0.238, Test Loss: 0.561\n"
     ]
    },
    {
     "name": "stderr",
     "output_type": "stream",
     "text": [
      "[I 2024-05-05 14:35:55,915] Trial 38 finished with value: 0.7017543859649122 and parameters: {'num_epochs': 20, 'lr': 0.00016104518404275121, 'L2': 0.00019217183551476739, 'beta1': 0.05681054897662449, 'beta2': 0.0005946277094034267}. Best is trial 0 with value: 0.7894736842105263.\n"
     ]
    },
    {
     "name": "stdout",
     "output_type": "stream",
     "text": [
      "Accuracy: Train: 0.932 | Val: 0.702\n",
      "[E= 9] [it=  330] Train Loss: 0.420, Test Loss: 0.542\n",
      "[E=19] [it=  660] Train Loss: 0.246, Test Loss: 0.588\n",
      "[E=29] [it=  990] Train Loss: 0.109, Test Loss: 0.772\n"
     ]
    },
    {
     "name": "stderr",
     "output_type": "stream",
     "text": [
      "[I 2024-05-05 14:36:53,880] Trial 39 finished with value: 0.7192982456140351 and parameters: {'num_epochs': 30, 'lr': 0.0002116015244738982, 'L2': 0.0001606694376638377, 'beta1': 0.05882275031049634, 'beta2': 0.0005674559871753816}. Best is trial 0 with value: 0.7894736842105263.\n"
     ]
    },
    {
     "name": "stdout",
     "output_type": "stream",
     "text": [
      "Accuracy: Train: 0.977 | Val: 0.719\n",
      "[E= 9] [it=  330] Train Loss: 0.485, Test Loss: 0.575\n",
      "[E=19] [it=  660] Train Loss: 0.328, Test Loss: 0.576\n"
     ]
    },
    {
     "name": "stderr",
     "output_type": "stream",
     "text": [
      "[I 2024-05-05 14:37:33,220] Trial 40 finished with value: 0.7543859649122807 and parameters: {'num_epochs': 20, 'lr': 0.00017417510516764542, 'L2': 0.0001973784102970445, 'beta1': 0.05444761699782029, 'beta2': 0.0006023881864224157}. Best is trial 0 with value: 0.7894736842105263.\n"
     ]
    },
    {
     "name": "stdout",
     "output_type": "stream",
     "text": [
      "Accuracy: Train: 0.856 | Val: 0.754\n",
      "[E= 9] [it=  330] Train Loss: 0.482, Test Loss: 0.514\n",
      "[E=19] [it=  660] Train Loss: 0.241, Test Loss: 0.575\n",
      "[E=29] [it=  990] Train Loss: 0.121, Test Loss: 0.636\n"
     ]
    },
    {
     "name": "stderr",
     "output_type": "stream",
     "text": [
      "[I 2024-05-05 14:38:30,954] Trial 41 finished with value: 0.7017543859649122 and parameters: {'num_epochs': 30, 'lr': 0.00015406064976638287, 'L2': 0.00016194073662449955, 'beta1': 0.058123184149552344, 'beta2': 0.0005806140930291298}. Best is trial 0 with value: 0.7894736842105263.\n"
     ]
    },
    {
     "name": "stdout",
     "output_type": "stream",
     "text": [
      "Accuracy: Train: 0.955 | Val: 0.702\n",
      "[E= 9] [it=  330] Train Loss: 0.505, Test Loss: 0.536\n",
      "[E=19] [it=  660] Train Loss: 0.344, Test Loss: 0.549\n",
      "[E=29] [it=  990] Train Loss: 0.260, Test Loss: 0.642\n"
     ]
    },
    {
     "name": "stderr",
     "output_type": "stream",
     "text": [
      "[I 2024-05-05 14:39:28,769] Trial 42 finished with value: 0.7719298245614035 and parameters: {'num_epochs': 30, 'lr': 0.00015922718670361046, 'L2': 0.0001517538334487478, 'beta1': 0.05657401554776784, 'beta2': 0.0005871734064633635}. Best is trial 0 with value: 0.7894736842105263.\n"
     ]
    },
    {
     "name": "stdout",
     "output_type": "stream",
     "text": [
      "Accuracy: Train: 0.864 | Val: 0.772\n",
      "[E= 9] [it=  330] Train Loss: 0.520, Test Loss: 0.545\n",
      "[E=19] [it=  660] Train Loss: 0.321, Test Loss: 0.612\n",
      "[E=29] [it=  990] Train Loss: 0.133, Test Loss: 0.808\n"
     ]
    },
    {
     "name": "stderr",
     "output_type": "stream",
     "text": [
      "[I 2024-05-05 14:40:26,264] Trial 43 finished with value: 0.7719298245614035 and parameters: {'num_epochs': 30, 'lr': 0.000248691261817313, 'L2': 0.0001693837801406289, 'beta1': 0.057128676918272496, 'beta2': 0.0005879742279402116}. Best is trial 0 with value: 0.7894736842105263.\n"
     ]
    },
    {
     "name": "stdout",
     "output_type": "stream",
     "text": [
      "Accuracy: Train: 0.977 | Val: 0.772\n",
      "[E= 9] [it=  330] Train Loss: 0.508, Test Loss: 0.548\n",
      "[E=19] [it=  660] Train Loss: 0.400, Test Loss: 0.534\n",
      "[E=29] [it=  990] Train Loss: 0.265, Test Loss: 0.541\n"
     ]
    },
    {
     "name": "stderr",
     "output_type": "stream",
     "text": [
      "[I 2024-05-05 14:41:24,627] Trial 44 finished with value: 0.7543859649122807 and parameters: {'num_epochs': 30, 'lr': 0.00015947214453694835, 'L2': 0.0001899679780437268, 'beta1': 0.05566126932977042, 'beta2': 0.0005873531365037184}. Best is trial 0 with value: 0.7894736842105263.\n"
     ]
    },
    {
     "name": "stdout",
     "output_type": "stream",
     "text": [
      "Accuracy: Train: 0.856 | Val: 0.754\n",
      "[E= 9] [it=  330] Train Loss: 0.576, Test Loss: 0.554\n",
      "[E=19] [it=  660] Train Loss: 0.536, Test Loss: 0.519\n",
      "[E=29] [it=  990] Train Loss: 0.280, Test Loss: 0.573\n"
     ]
    },
    {
     "name": "stderr",
     "output_type": "stream",
     "text": [
      "[I 2024-05-05 14:42:22,988] Trial 45 finished with value: 0.6491228070175439 and parameters: {'num_epochs': 30, 'lr': 0.0001513497895339799, 'L2': 0.00015524734562808473, 'beta1': 0.056543622901187265, 'beta2': 0.000575210358818797}. Best is trial 0 with value: 0.7894736842105263.\n"
     ]
    },
    {
     "name": "stdout",
     "output_type": "stream",
     "text": [
      "Accuracy: Train: 0.848 | Val: 0.649\n",
      "[E= 9] [it=  330] Train Loss: 0.439, Test Loss: 0.520\n",
      "[E=19] [it=  660] Train Loss: 0.293, Test Loss: 0.528\n",
      "[E=29] [it=  990] Train Loss: 0.210, Test Loss: 0.771\n"
     ]
    },
    {
     "name": "stderr",
     "output_type": "stream",
     "text": [
      "[I 2024-05-05 14:43:21,228] Trial 46 finished with value: 0.7368421052631579 and parameters: {'num_epochs': 30, 'lr': 0.0001836724766950734, 'L2': 0.000166181586332225, 'beta1': 0.05205155994889715, 'beta2': 0.0006109399198569497}. Best is trial 0 with value: 0.7894736842105263.\n"
     ]
    },
    {
     "name": "stdout",
     "output_type": "stream",
     "text": [
      "Accuracy: Train: 0.947 | Val: 0.737\n",
      "[E= 9] [it=  330] Train Loss: 0.485, Test Loss: 0.530\n",
      "[E=19] [it=  660] Train Loss: 0.315, Test Loss: 0.549\n"
     ]
    },
    {
     "name": "stderr",
     "output_type": "stream",
     "text": [
      "[I 2024-05-05 14:44:00,417] Trial 47 finished with value: 0.7368421052631579 and parameters: {'num_epochs': 20, 'lr': 0.00016204123295312454, 'L2': 0.0001931528573822517, 'beta1': 0.05612920932958106, 'beta2': 0.000618568855339334}. Best is trial 0 with value: 0.7894736842105263.\n"
     ]
    },
    {
     "name": "stdout",
     "output_type": "stream",
     "text": [
      "Accuracy: Train: 0.902 | Val: 0.737\n",
      "[E= 9] [it=  330] Train Loss: 0.526, Test Loss: 0.577\n",
      "[E=19] [it=  660] Train Loss: 0.323, Test Loss: 0.642\n"
     ]
    },
    {
     "name": "stderr",
     "output_type": "stream",
     "text": [
      "[I 2024-05-05 14:44:39,866] Trial 48 finished with value: 0.7017543859649122 and parameters: {'num_epochs': 20, 'lr': 0.00017345405429568023, 'L2': 0.00017731030879314017, 'beta1': 0.05564290646841461, 'beta2': 0.0005993577128579224}. Best is trial 0 with value: 0.7894736842105263.\n"
     ]
    },
    {
     "name": "stdout",
     "output_type": "stream",
     "text": [
      "Accuracy: Train: 0.886 | Val: 0.702\n",
      "[E= 9] [it=  330] Train Loss: 0.451, Test Loss: 0.583\n",
      "[E=19] [it=  660] Train Loss: 0.297, Test Loss: 0.592\n"
     ]
    },
    {
     "name": "stderr",
     "output_type": "stream",
     "text": [
      "[I 2024-05-05 14:45:19,651] Trial 49 finished with value: 0.7017543859649122 and parameters: {'num_epochs': 20, 'lr': 0.0002161563811600233, 'L2': 0.00019977159715293, 'beta1': 0.05738302948743552, 'beta2': 0.000569061819288935}. Best is trial 0 with value: 0.7894736842105263.\n"
     ]
    },
    {
     "name": "stdout",
     "output_type": "stream",
     "text": [
      "Accuracy: Train: 0.871 | Val: 0.702\n",
      "[E= 9] [it=  330] Train Loss: 0.447, Test Loss: 0.572\n",
      "[E=19] [it=  660] Train Loss: 0.287, Test Loss: 0.594\n",
      "[E=29] [it=  990] Train Loss: 0.201, Test Loss: 0.845\n"
     ]
    },
    {
     "name": "stderr",
     "output_type": "stream",
     "text": [
      "[I 2024-05-05 14:46:18,733] Trial 50 finished with value: 0.7017543859649122 and parameters: {'num_epochs': 30, 'lr': 0.00020207893299084955, 'L2': 0.00015389846591503853, 'beta1': 0.053153989189685266, 'beta2': 0.0005900879304181633}. Best is trial 0 with value: 0.7894736842105263.\n"
     ]
    },
    {
     "name": "stdout",
     "output_type": "stream",
     "text": [
      "Accuracy: Train: 0.932 | Val: 0.702\n",
      "[E= 9] [it=  330] Train Loss: 0.497, Test Loss: 0.625\n",
      "[E=19] [it=  660] Train Loss: 0.276, Test Loss: 0.590\n",
      "[E=29] [it=  990] Train Loss: 0.140, Test Loss: 0.732\n"
     ]
    },
    {
     "name": "stderr",
     "output_type": "stream",
     "text": [
      "[I 2024-05-05 14:47:16,932] Trial 51 finished with value: 0.7192982456140351 and parameters: {'num_epochs': 30, 'lr': 0.00019354282488148964, 'L2': 0.00017138261810705619, 'beta1': 0.057528641078753745, 'beta2': 0.0005847448178157512}. Best is trial 0 with value: 0.7894736842105263.\n"
     ]
    },
    {
     "name": "stdout",
     "output_type": "stream",
     "text": [
      "Accuracy: Train: 0.962 | Val: 0.719\n",
      "[E= 9] [it=  330] Train Loss: 0.541, Test Loss: 0.542\n",
      "[E=19] [it=  660] Train Loss: 0.297, Test Loss: 0.639\n",
      "[E=29] [it=  990] Train Loss: 0.130, Test Loss: 0.731\n"
     ]
    },
    {
     "name": "stderr",
     "output_type": "stream",
     "text": [
      "[I 2024-05-05 14:48:15,254] Trial 52 finished with value: 0.7192982456140351 and parameters: {'num_epochs': 30, 'lr': 0.0002477869870926975, 'L2': 0.00016387897920600304, 'beta1': 0.0568361253426312, 'beta2': 0.0005922502842592314}. Best is trial 0 with value: 0.7894736842105263.\n"
     ]
    },
    {
     "name": "stdout",
     "output_type": "stream",
     "text": [
      "Accuracy: Train: 0.848 | Val: 0.719\n",
      "[E= 9] [it=  330] Train Loss: 0.533, Test Loss: 0.592\n",
      "[E=19] [it=  660] Train Loss: 0.372, Test Loss: 0.559\n",
      "[E=29] [it=  990] Train Loss: 0.190, Test Loss: 0.670\n"
     ]
    },
    {
     "name": "stderr",
     "output_type": "stream",
     "text": [
      "[I 2024-05-05 14:49:13,298] Trial 53 finished with value: 0.6842105263157895 and parameters: {'num_epochs': 30, 'lr': 0.00024302088784108092, 'L2': 0.00015689725361135655, 'beta1': 0.05849464096846378, 'beta2': 0.0005744178456507482}. Best is trial 0 with value: 0.7894736842105263.\n"
     ]
    },
    {
     "name": "stdout",
     "output_type": "stream",
     "text": [
      "Accuracy: Train: 0.909 | Val: 0.684\n",
      "[E= 9] [it=  330] Train Loss: 0.514, Test Loss: 0.538\n",
      "[E=19] [it=  660] Train Loss: 0.396, Test Loss: 0.506\n",
      "[E=29] [it=  990] Train Loss: 0.244, Test Loss: 0.580\n"
     ]
    },
    {
     "name": "stderr",
     "output_type": "stream",
     "text": [
      "[I 2024-05-05 14:50:11,253] Trial 54 finished with value: 0.7719298245614035 and parameters: {'num_epochs': 30, 'lr': 0.00018764260424549768, 'L2': 0.0001798534803711801, 'beta1': 0.05527202827421687, 'beta2': 0.0005822327979034428}. Best is trial 0 with value: 0.7894736842105263.\n"
     ]
    },
    {
     "name": "stdout",
     "output_type": "stream",
     "text": [
      "Accuracy: Train: 0.879 | Val: 0.772\n",
      "[E= 9] [it=  330] Train Loss: 0.515, Test Loss: 0.539\n",
      "[E=19] [it=  660] Train Loss: 0.295, Test Loss: 0.539\n"
     ]
    },
    {
     "name": "stderr",
     "output_type": "stream",
     "text": [
      "[I 2024-05-05 14:50:51,238] Trial 55 finished with value: 0.7192982456140351 and parameters: {'num_epochs': 20, 'lr': 0.00023825727260734085, 'L2': 0.00019731169487992173, 'beta1': 0.051214678264419, 'beta2': 0.0005868180634515099}. Best is trial 0 with value: 0.7894736842105263.\n"
     ]
    },
    {
     "name": "stdout",
     "output_type": "stream",
     "text": [
      "Accuracy: Train: 0.795 | Val: 0.719\n",
      "[E= 9] [it=  330] Train Loss: 0.433, Test Loss: 0.560\n",
      "[E=19] [it=  660] Train Loss: 0.271, Test Loss: 0.576\n",
      "[E=29] [it=  990] Train Loss: 0.160, Test Loss: 0.742\n"
     ]
    },
    {
     "name": "stderr",
     "output_type": "stream",
     "text": [
      "[I 2024-05-05 14:51:49,188] Trial 56 finished with value: 0.7192982456140351 and parameters: {'num_epochs': 30, 'lr': 0.0002246710808819345, 'L2': 0.0001669813662604145, 'beta1': 0.05038111245772936, 'beta2': 0.0005964546431371192}. Best is trial 0 with value: 0.7894736842105263.\n"
     ]
    },
    {
     "name": "stdout",
     "output_type": "stream",
     "text": [
      "Accuracy: Train: 0.894 | Val: 0.719\n",
      "[E= 9] [it=  330] Train Loss: 0.435, Test Loss: 0.651\n",
      "[E=19] [it=  660] Train Loss: 0.248, Test Loss: 0.590\n"
     ]
    },
    {
     "name": "stderr",
     "output_type": "stream",
     "text": [
      "[I 2024-05-05 14:52:28,629] Trial 57 finished with value: 0.7719298245614035 and parameters: {'num_epochs': 20, 'lr': 0.00023233130643714772, 'L2': 0.00018639705323848741, 'beta1': 0.05698799507304856, 'beta2': 0.0005559996520153036}. Best is trial 0 with value: 0.7894736842105263.\n"
     ]
    },
    {
     "name": "stdout",
     "output_type": "stream",
     "text": [
      "Accuracy: Train: 0.924 | Val: 0.772\n",
      "[E= 9] [it=  330] Train Loss: 0.484, Test Loss: 0.607\n",
      "[E=19] [it=  660] Train Loss: 0.343, Test Loss: 0.561\n"
     ]
    },
    {
     "name": "stderr",
     "output_type": "stream",
     "text": [
      "[I 2024-05-05 14:53:07,830] Trial 58 finished with value: 0.7368421052631579 and parameters: {'num_epochs': 20, 'lr': 0.00018097049696463004, 'L2': 0.00015905821641080305, 'beta1': 0.056415229663056635, 'beta2': 0.0005889920222456474}. Best is trial 0 with value: 0.7894736842105263.\n"
     ]
    },
    {
     "name": "stdout",
     "output_type": "stream",
     "text": [
      "Accuracy: Train: 0.864 | Val: 0.737\n",
      "[E= 9] [it=  330] Train Loss: 0.433, Test Loss: 0.587\n",
      "[E=19] [it=  660] Train Loss: 0.389, Test Loss: 0.626\n",
      "[E=29] [it=  990] Train Loss: 0.193, Test Loss: 0.853\n"
     ]
    },
    {
     "name": "stderr",
     "output_type": "stream",
     "text": [
      "[I 2024-05-05 14:54:06,025] Trial 59 finished with value: 0.7192982456140351 and parameters: {'num_epochs': 30, 'lr': 0.00021904012559866218, 'L2': 0.00019559977360567268, 'beta1': 0.05398336638720963, 'beta2': 0.000599047340053972}. Best is trial 0 with value: 0.7894736842105263.\n"
     ]
    },
    {
     "name": "stdout",
     "output_type": "stream",
     "text": [
      "Accuracy: Train: 0.932 | Val: 0.719\n",
      "[E= 9] [it=  330] Train Loss: 0.434, Test Loss: 0.842\n",
      "[E=19] [it=  660] Train Loss: 0.381, Test Loss: 0.566\n"
     ]
    },
    {
     "name": "stderr",
     "output_type": "stream",
     "text": [
      "[I 2024-05-05 14:54:45,229] Trial 60 finished with value: 0.6666666666666666 and parameters: {'num_epochs': 20, 'lr': 0.00019838789517448018, 'L2': 0.00019054332899288997, 'beta1': 0.05592499653111227, 'beta2': 0.0006049433173358326}. Best is trial 0 with value: 0.7894736842105263.\n"
     ]
    },
    {
     "name": "stdout",
     "output_type": "stream",
     "text": [
      "Accuracy: Train: 0.803 | Val: 0.667\n",
      "[E= 9] [it=  330] Train Loss: 0.497, Test Loss: 0.647\n",
      "[E=19] [it=  660] Train Loss: 0.331, Test Loss: 0.623\n",
      "[E=29] [it=  990] Train Loss: 0.197, Test Loss: 0.787\n"
     ]
    },
    {
     "name": "stderr",
     "output_type": "stream",
     "text": [
      "[I 2024-05-05 14:55:43,165] Trial 61 finished with value: 0.7017543859649122 and parameters: {'num_epochs': 30, 'lr': 0.00018702017924569943, 'L2': 0.00018446001081534984, 'beta1': 0.05490036400678395, 'beta2': 0.0005795002037353655}. Best is trial 0 with value: 0.7894736842105263.\n"
     ]
    },
    {
     "name": "stdout",
     "output_type": "stream",
     "text": [
      "Accuracy: Train: 0.773 | Val: 0.702\n",
      "[E= 9] [it=  330] Train Loss: 0.566, Test Loss: 0.696\n",
      "[E=19] [it=  660] Train Loss: 0.345, Test Loss: 0.544\n",
      "[E=29] [it=  990] Train Loss: 0.213, Test Loss: 0.591\n"
     ]
    },
    {
     "name": "stderr",
     "output_type": "stream",
     "text": [
      "[I 2024-05-05 14:56:41,483] Trial 62 finished with value: 0.7543859649122807 and parameters: {'num_epochs': 30, 'lr': 0.00019212817738825113, 'L2': 0.00017982501008052473, 'beta1': 0.055245071773964406, 'beta2': 0.0005838148128492046}. Best is trial 0 with value: 0.7894736842105263.\n"
     ]
    },
    {
     "name": "stdout",
     "output_type": "stream",
     "text": [
      "Accuracy: Train: 0.924 | Val: 0.754\n",
      "[E= 9] [it=  330] Train Loss: 0.471, Test Loss: 0.546\n",
      "[E=19] [it=  660] Train Loss: 0.288, Test Loss: 0.532\n",
      "[E=29] [it=  990] Train Loss: 0.155, Test Loss: 0.513\n"
     ]
    },
    {
     "name": "stderr",
     "output_type": "stream",
     "text": [
      "[I 2024-05-05 14:57:39,756] Trial 63 finished with value: 0.7719298245614035 and parameters: {'num_epochs': 30, 'lr': 0.00018883065469606946, 'L2': 0.0001716164746596689, 'beta1': 0.05756932580768944, 'beta2': 0.0005807268133715261}. Best is trial 0 with value: 0.7894736842105263.\n"
     ]
    },
    {
     "name": "stdout",
     "output_type": "stream",
     "text": [
      "Accuracy: Train: 0.939 | Val: 0.772\n",
      "[E= 9] [it=  330] Train Loss: 0.399, Test Loss: 0.616\n",
      "[E=19] [it=  660] Train Loss: 0.191, Test Loss: 0.657\n",
      "[E=29] [it=  990] Train Loss: 0.099, Test Loss: 0.963\n"
     ]
    },
    {
     "name": "stderr",
     "output_type": "stream",
     "text": [
      "[I 2024-05-05 14:58:37,817] Trial 64 finished with value: 0.7017543859649122 and parameters: {'num_epochs': 30, 'lr': 0.00020772334375431306, 'L2': 0.00018244635721021286, 'beta1': 0.05539120462042679, 'beta2': 0.0005940345573698457}. Best is trial 0 with value: 0.7894736842105263.\n"
     ]
    },
    {
     "name": "stdout",
     "output_type": "stream",
     "text": [
      "Accuracy: Train: 0.992 | Val: 0.702\n",
      "[E= 9] [it=  330] Train Loss: 0.487, Test Loss: 0.530\n",
      "[E=19] [it=  660] Train Loss: 0.253, Test Loss: 0.558\n",
      "[E=29] [it=  990] Train Loss: 0.121, Test Loss: 0.852\n"
     ]
    },
    {
     "name": "stderr",
     "output_type": "stream",
     "text": [
      "[I 2024-05-05 14:59:36,124] Trial 65 finished with value: 0.6491228070175439 and parameters: {'num_epochs': 30, 'lr': 0.00016581074364638602, 'L2': 0.00019368657451897497, 'beta1': 0.0521517528516556, 'beta2': 0.0005853983356539314}. Best is trial 0 with value: 0.7894736842105263.\n"
     ]
    },
    {
     "name": "stdout",
     "output_type": "stream",
     "text": [
      "Accuracy: Train: 0.947 | Val: 0.649\n",
      "[E= 9] [it=  330] Train Loss: 0.370, Test Loss: 0.575\n",
      "[E=19] [it=  660] Train Loss: 0.178, Test Loss: 0.678\n"
     ]
    },
    {
     "name": "stderr",
     "output_type": "stream",
     "text": [
      "[I 2024-05-05 15:00:15,675] Trial 66 finished with value: 0.7017543859649122 and parameters: {'num_epochs': 20, 'lr': 0.00020033105759234397, 'L2': 0.00018809580843203604, 'beta1': 0.0565357854188512, 'beta2': 0.0005709412953191211}. Best is trial 0 with value: 0.7894736842105263.\n"
     ]
    },
    {
     "name": "stdout",
     "output_type": "stream",
     "text": [
      "Accuracy: Train: 0.924 | Val: 0.702\n",
      "[E= 9] [it=  330] Train Loss: 0.432, Test Loss: 0.600\n",
      "[E=19] [it=  660] Train Loss: 0.240, Test Loss: 0.595\n"
     ]
    },
    {
     "name": "stderr",
     "output_type": "stream",
     "text": [
      "[I 2024-05-05 15:00:54,860] Trial 67 finished with value: 0.7192982456140351 and parameters: {'num_epochs': 20, 'lr': 0.0001774296836926123, 'L2': 0.0001748723557024776, 'beta1': 0.05485721236015931, 'beta2': 0.0005758711133709001}. Best is trial 0 with value: 0.7894736842105263.\n"
     ]
    },
    {
     "name": "stdout",
     "output_type": "stream",
     "text": [
      "Accuracy: Train: 0.909 | Val: 0.719\n",
      "[E= 9] [it=  330] Train Loss: 0.426, Test Loss: 0.574\n",
      "[E=19] [it=  660] Train Loss: 0.269, Test Loss: 0.608\n",
      "[E=29] [it=  990] Train Loss: 0.173, Test Loss: 0.803\n"
     ]
    },
    {
     "name": "stderr",
     "output_type": "stream",
     "text": [
      "[I 2024-05-05 15:01:53,394] Trial 68 finished with value: 0.6666666666666666 and parameters: {'num_epochs': 30, 'lr': 0.00019610126512536525, 'L2': 0.00019854413680801014, 'beta1': 0.05718568126624365, 'beta2': 0.0005814661521130509}. Best is trial 0 with value: 0.7894736842105263.\n"
     ]
    },
    {
     "name": "stdout",
     "output_type": "stream",
     "text": [
      "Accuracy: Train: 0.848 | Val: 0.667\n",
      "[E= 9] [it=  330] Train Loss: 0.459, Test Loss: 0.544\n",
      "[E=19] [it=  660] Train Loss: 0.353, Test Loss: 0.557\n"
     ]
    },
    {
     "name": "stderr",
     "output_type": "stream",
     "text": [
      "[I 2024-05-05 15:02:32,801] Trial 69 finished with value: 0.7543859649122807 and parameters: {'num_epochs': 20, 'lr': 0.00019065129491121325, 'L2': 0.00019478318938327606, 'beta1': 0.053703643267094356, 'beta2': 0.0005637131079403335}. Best is trial 0 with value: 0.7894736842105263.\n"
     ]
    },
    {
     "name": "stdout",
     "output_type": "stream",
     "text": [
      "Accuracy: Train: 0.879 | Val: 0.754\n",
      "[E= 9] [it=  330] Train Loss: 0.456, Test Loss: 0.533\n",
      "[E=19] [it=  660] Train Loss: 0.324, Test Loss: 0.574\n"
     ]
    },
    {
     "name": "stderr",
     "output_type": "stream",
     "text": [
      "[I 2024-05-05 15:03:12,493] Trial 70 finished with value: 0.7543859649122807 and parameters: {'num_epochs': 20, 'lr': 0.00020862792851914302, 'L2': 0.00017965370013799591, 'beta1': 0.05120254621877453, 'beta2': 0.00059018426210288}. Best is trial 0 with value: 0.7894736842105263.\n"
     ]
    },
    {
     "name": "stdout",
     "output_type": "stream",
     "text": [
      "Accuracy: Train: 0.826 | Val: 0.754\n",
      "[E= 9] [it=  330] Train Loss: 0.505, Test Loss: 0.543\n",
      "[E=19] [it=  660] Train Loss: 0.212, Test Loss: 0.578\n"
     ]
    },
    {
     "name": "stderr",
     "output_type": "stream",
     "text": [
      "[I 2024-05-05 15:03:51,990] Trial 71 finished with value: 0.7192982456140351 and parameters: {'num_epochs': 20, 'lr': 0.0002308792274709318, 'L2': 0.0001907677972822552, 'beta1': 0.0568473326924804, 'beta2': 0.0006331588496029393}. Best is trial 0 with value: 0.7894736842105263.\n"
     ]
    },
    {
     "name": "stdout",
     "output_type": "stream",
     "text": [
      "Accuracy: Train: 0.947 | Val: 0.719\n",
      "[E= 9] [it=  330] Train Loss: 0.485, Test Loss: 0.566\n",
      "[E=19] [it=  660] Train Loss: 0.291, Test Loss: 0.744\n"
     ]
    },
    {
     "name": "stderr",
     "output_type": "stream",
     "text": [
      "[I 2024-05-05 15:04:31,273] Trial 72 finished with value: 0.7017543859649122 and parameters: {'num_epochs': 20, 'lr': 0.00024377825770845543, 'L2': 0.0001856450853822611, 'beta1': 0.05717498228845398, 'beta2': 0.0005531739503535136}. Best is trial 0 with value: 0.7894736842105263.\n"
     ]
    },
    {
     "name": "stdout",
     "output_type": "stream",
     "text": [
      "Accuracy: Train: 0.871 | Val: 0.702\n",
      "[E= 9] [it=  330] Train Loss: 0.532, Test Loss: 0.622\n",
      "[E=19] [it=  660] Train Loss: 0.314, Test Loss: 0.479\n"
     ]
    },
    {
     "name": "stderr",
     "output_type": "stream",
     "text": [
      "[I 2024-05-05 15:05:10,634] Trial 73 finished with value: 0.7368421052631579 and parameters: {'num_epochs': 20, 'lr': 0.00022834366739902116, 'L2': 0.00018835949546503746, 'beta1': 0.055933600305593155, 'beta2': 0.0005942316107179905}. Best is trial 0 with value: 0.7894736842105263.\n"
     ]
    },
    {
     "name": "stdout",
     "output_type": "stream",
     "text": [
      "Accuracy: Train: 0.886 | Val: 0.737\n",
      "[E= 9] [it=  330] Train Loss: 0.454, Test Loss: 0.530\n",
      "[E=19] [it=  660] Train Loss: 0.312, Test Loss: 0.615\n"
     ]
    },
    {
     "name": "stderr",
     "output_type": "stream",
     "text": [
      "[I 2024-05-05 15:05:49,891] Trial 74 finished with value: 0.6842105263157895 and parameters: {'num_epochs': 20, 'lr': 0.00024702072342397586, 'L2': 0.00018582788969322023, 'beta1': 0.058271480037508774, 'beta2': 0.000590617226625741}. Best is trial 0 with value: 0.7894736842105263.\n"
     ]
    },
    {
     "name": "stdout",
     "output_type": "stream",
     "text": [
      "Accuracy: Train: 0.894 | Val: 0.684\n",
      "[E= 9] [it=  330] Train Loss: 0.433, Test Loss: 0.547\n",
      "[E=19] [it=  660] Train Loss: 0.381, Test Loss: 0.656\n"
     ]
    },
    {
     "name": "stderr",
     "output_type": "stream",
     "text": [
      "[I 2024-05-05 15:06:29,404] Trial 75 finished with value: 0.7192982456140351 and parameters: {'num_epochs': 20, 'lr': 0.0002346261445713801, 'L2': 0.00018312976680753986, 'beta1': 0.05000308637356156, 'beta2': 0.000554166559876995}. Best is trial 0 with value: 0.7894736842105263.\n"
     ]
    },
    {
     "name": "stdout",
     "output_type": "stream",
     "text": [
      "Accuracy: Train: 0.879 | Val: 0.719\n",
      "[E= 9] [it=  330] Train Loss: 0.440, Test Loss: 0.536\n",
      "[E=19] [it=  660] Train Loss: 0.270, Test Loss: 0.628\n"
     ]
    },
    {
     "name": "stderr",
     "output_type": "stream",
     "text": [
      "[I 2024-05-05 15:07:10,768] Trial 76 finished with value: 0.7192982456140351 and parameters: {'num_epochs': 20, 'lr': 0.00020212147800908778, 'L2': 0.00019293971393651618, 'beta1': 0.05769827799031019, 'beta2': 0.0005583209910131415}. Best is trial 0 with value: 0.7894736842105263.\n"
     ]
    },
    {
     "name": "stdout",
     "output_type": "stream",
     "text": [
      "Accuracy: Train: 0.879 | Val: 0.719\n",
      "[E= 9] [it=  330] Train Loss: 0.474, Test Loss: 0.669\n",
      "[E=19] [it=  660] Train Loss: 0.281, Test Loss: 0.611\n",
      "[E=29] [it=  990] Train Loss: 0.200, Test Loss: 0.690\n"
     ]
    },
    {
     "name": "stderr",
     "output_type": "stream",
     "text": [
      "[I 2024-05-05 15:08:11,291] Trial 77 finished with value: 0.6842105263157895 and parameters: {'num_epochs': 30, 'lr': 0.00023793090805482488, 'L2': 0.0001896205788342708, 'beta1': 0.05435004306255984, 'beta2': 0.0005824506403786542}. Best is trial 0 with value: 0.7894736842105263.\n"
     ]
    },
    {
     "name": "stdout",
     "output_type": "stream",
     "text": [
      "Accuracy: Train: 0.939 | Val: 0.684\n",
      "[E= 9] [it=  330] Train Loss: 0.363, Test Loss: 0.526\n",
      "[E=19] [it=  660] Train Loss: 0.146, Test Loss: 0.686\n"
     ]
    },
    {
     "name": "stderr",
     "output_type": "stream",
     "text": [
      "[I 2024-05-05 15:08:52,541] Trial 78 finished with value: 0.7543859649122807 and parameters: {'num_epochs': 20, 'lr': 0.00021360251233101197, 'L2': 0.00018670926950254912, 'beta1': 0.05683271601730959, 'beta2': 0.000600396668137194}. Best is trial 0 with value: 0.7894736842105263.\n"
     ]
    },
    {
     "name": "stdout",
     "output_type": "stream",
     "text": [
      "Accuracy: Train: 0.894 | Val: 0.754\n",
      "[E= 9] [it=  330] Train Loss: 0.487, Test Loss: 0.548\n",
      "[E=19] [it=  660] Train Loss: 0.351, Test Loss: 0.520\n"
     ]
    },
    {
     "name": "stderr",
     "output_type": "stream",
     "text": [
      "[I 2024-05-05 15:09:33,523] Trial 79 finished with value: 0.7719298245614035 and parameters: {'num_epochs': 20, 'lr': 0.00017199003926473958, 'L2': 0.00017880528146943, 'beta1': 0.05296318073041393, 'beta2': 0.0005866800347803744}. Best is trial 0 with value: 0.7894736842105263.\n"
     ]
    },
    {
     "name": "stdout",
     "output_type": "stream",
     "text": [
      "Accuracy: Train: 0.848 | Val: 0.772\n",
      "[E= 9] [it=  330] Train Loss: 0.477, Test Loss: 0.573\n",
      "[E=19] [it=  660] Train Loss: 0.296, Test Loss: 0.519\n",
      "[E=29] [it=  990] Train Loss: 0.178, Test Loss: 0.593\n"
     ]
    },
    {
     "name": "stderr",
     "output_type": "stream",
     "text": [
      "[I 2024-05-05 15:10:44,780] Trial 80 finished with value: 0.6842105263157895 and parameters: {'num_epochs': 30, 'lr': 0.0002231702311289095, 'L2': 0.00019162843935344932, 'beta1': 0.05038007655976849, 'beta2': 0.0005962633766746134}. Best is trial 0 with value: 0.7894736842105263.\n"
     ]
    },
    {
     "name": "stdout",
     "output_type": "stream",
     "text": [
      "Accuracy: Train: 0.970 | Val: 0.684\n",
      "[E= 9] [it=  330] Train Loss: 0.478, Test Loss: 0.552\n",
      "[E=19] [it=  660] Train Loss: 0.346, Test Loss: 0.609\n",
      "[E=29] [it=  990] Train Loss: 0.233, Test Loss: 0.617\n"
     ]
    },
    {
     "name": "stderr",
     "output_type": "stream",
     "text": [
      "[I 2024-05-05 15:11:51,804] Trial 81 finished with value: 0.7017543859649122 and parameters: {'num_epochs': 30, 'lr': 0.00018813411110106136, 'L2': 0.0001715001326763805, 'beta1': 0.0575001352031252, 'beta2': 0.0005820228470799786}. Best is trial 0 with value: 0.7894736842105263.\n"
     ]
    },
    {
     "name": "stdout",
     "output_type": "stream",
     "text": [
      "Accuracy: Train: 0.841 | Val: 0.702\n",
      "[E= 9] [it=  330] Train Loss: 0.552, Test Loss: 0.599\n",
      "[E=19] [it=  660] Train Loss: 0.371, Test Loss: 0.555\n",
      "[E=29] [it=  990] Train Loss: 0.277, Test Loss: 0.666\n"
     ]
    },
    {
     "name": "stderr",
     "output_type": "stream",
     "text": [
      "[I 2024-05-05 15:12:52,466] Trial 82 finished with value: 0.6491228070175439 and parameters: {'num_epochs': 30, 'lr': 0.00018095321748303606, 'L2': 0.000170330756705747, 'beta1': 0.057971564496345794, 'beta2': 0.0005727896040673381}. Best is trial 0 with value: 0.7894736842105263.\n"
     ]
    },
    {
     "name": "stdout",
     "output_type": "stream",
     "text": [
      "Accuracy: Train: 0.818 | Val: 0.649\n",
      "[E= 9] [it=  330] Train Loss: 0.471, Test Loss: 0.588\n",
      "[E=19] [it=  660] Train Loss: 0.380, Test Loss: 0.569\n",
      "[E=29] [it=  990] Train Loss: 0.253, Test Loss: 0.614\n"
     ]
    },
    {
     "name": "stderr",
     "output_type": "stream",
     "text": [
      "[I 2024-05-05 15:14:04,930] Trial 83 finished with value: 0.6842105263157895 and parameters: {'num_epochs': 30, 'lr': 0.00018305198276722992, 'L2': 0.00017523579563861693, 'beta1': 0.05909205681341111, 'beta2': 0.0005500881399657998}. Best is trial 0 with value: 0.7894736842105263.\n"
     ]
    },
    {
     "name": "stdout",
     "output_type": "stream",
     "text": [
      "Accuracy: Train: 0.879 | Val: 0.684\n",
      "[E= 9] [it=  330] Train Loss: 0.495, Test Loss: 0.602\n",
      "[E=19] [it=  660] Train Loss: 0.369, Test Loss: 0.568\n",
      "[E=29] [it=  990] Train Loss: 0.218, Test Loss: 0.614\n"
     ]
    },
    {
     "name": "stderr",
     "output_type": "stream",
     "text": [
      "[I 2024-05-05 15:15:16,820] Trial 84 finished with value: 0.7192982456140351 and parameters: {'num_epochs': 30, 'lr': 0.00019613905693157346, 'L2': 0.00017257115884582866, 'beta1': 0.057082605959733045, 'beta2': 0.0005769950557212189}. Best is trial 0 with value: 0.7894736842105263.\n"
     ]
    },
    {
     "name": "stdout",
     "output_type": "stream",
     "text": [
      "Accuracy: Train: 0.917 | Val: 0.719\n",
      "[E= 9] [it=  330] Train Loss: 0.428, Test Loss: 0.546\n",
      "[E=19] [it=  660] Train Loss: 0.248, Test Loss: 0.621\n",
      "[E=29] [it=  990] Train Loss: 0.079, Test Loss: 0.755\n"
     ]
    },
    {
     "name": "stderr",
     "output_type": "stream",
     "text": [
      "[I 2024-05-05 15:16:19,169] Trial 85 finished with value: 0.7368421052631579 and parameters: {'num_epochs': 30, 'lr': 0.00021948195216882292, 'L2': 0.0001979064166032622, 'beta1': 0.05633143755372277, 'beta2': 0.0005782555098457947}. Best is trial 0 with value: 0.7894736842105263.\n"
     ]
    },
    {
     "name": "stdout",
     "output_type": "stream",
     "text": [
      "Accuracy: Train: 0.970 | Val: 0.737\n",
      "[E= 9] [it=  330] Train Loss: 0.502, Test Loss: 0.656\n",
      "[E=19] [it=  660] Train Loss: 0.349, Test Loss: 0.521\n",
      "[E=29] [it=  990] Train Loss: 0.201, Test Loss: 0.605\n"
     ]
    },
    {
     "name": "stderr",
     "output_type": "stream",
     "text": [
      "[I 2024-05-05 15:17:22,251] Trial 86 finished with value: 0.7719298245614035 and parameters: {'num_epochs': 30, 'lr': 0.0001579246835100479, 'L2': 0.00016703369363198692, 'beta1': 0.05231011368874575, 'beta2': 0.0005885338179259724}. Best is trial 0 with value: 0.7894736842105263.\n"
     ]
    },
    {
     "name": "stdout",
     "output_type": "stream",
     "text": [
      "Accuracy: Train: 0.939 | Val: 0.772\n",
      "[E= 9] [it=  330] Train Loss: 0.488, Test Loss: 0.743\n",
      "[E=19] [it=  660] Train Loss: 0.301, Test Loss: 0.534\n"
     ]
    },
    {
     "name": "stderr",
     "output_type": "stream",
     "text": [
      "[I 2024-05-05 15:18:06,921] Trial 87 finished with value: 0.7543859649122807 and parameters: {'num_epochs': 20, 'lr': 0.00018494726546161534, 'L2': 0.000195797538650671, 'beta1': 0.05771856396418071, 'beta2': 0.0005921507856326485}. Best is trial 0 with value: 0.7894736842105263.\n"
     ]
    },
    {
     "name": "stdout",
     "output_type": "stream",
     "text": [
      "Accuracy: Train: 0.856 | Val: 0.754\n",
      "[E= 9] [it=  330] Train Loss: 0.406, Test Loss: 0.548\n",
      "[E=19] [it=  660] Train Loss: 0.283, Test Loss: 0.621\n"
     ]
    },
    {
     "name": "stderr",
     "output_type": "stream",
     "text": [
      "[I 2024-05-05 15:18:52,157] Trial 88 finished with value: 0.7192982456140351 and parameters: {'num_epochs': 20, 'lr': 0.00024111894886152607, 'L2': 0.00018134799384046579, 'beta1': 0.05158079315904182, 'beta2': 0.0005851958717452202}. Best is trial 0 with value: 0.7894736842105263.\n"
     ]
    },
    {
     "name": "stdout",
     "output_type": "stream",
     "text": [
      "Accuracy: Train: 0.780 | Val: 0.719\n",
      "[E= 9] [it=  330] Train Loss: 0.502, Test Loss: 0.542\n",
      "[E=19] [it=  660] Train Loss: 0.341, Test Loss: 0.538\n",
      "[E=29] [it=  990] Train Loss: 0.205, Test Loss: 0.603\n"
     ]
    },
    {
     "name": "stderr",
     "output_type": "stream",
     "text": [
      "[I 2024-05-05 15:19:57,889] Trial 89 finished with value: 0.7719298245614035 and parameters: {'num_epochs': 30, 'lr': 0.00018912744385795837, 'L2': 0.0001775269730385266, 'beta1': 0.05668001072608126, 'beta2': 0.0005568445656111261}. Best is trial 0 with value: 0.7894736842105263.\n"
     ]
    },
    {
     "name": "stdout",
     "output_type": "stream",
     "text": [
      "Accuracy: Train: 0.970 | Val: 0.772\n",
      "[E= 9] [it=  330] Train Loss: 0.457, Test Loss: 0.535\n",
      "[E=19] [it=  660] Train Loss: 0.293, Test Loss: 0.567\n"
     ]
    },
    {
     "name": "stderr",
     "output_type": "stream",
     "text": [
      "[I 2024-05-05 15:20:39,900] Trial 90 finished with value: 0.6842105263157895 and parameters: {'num_epochs': 20, 'lr': 0.00016459717986852252, 'L2': 0.00016904362921648977, 'beta1': 0.055993417926015476, 'beta2': 0.0005807473459946972}. Best is trial 0 with value: 0.7894736842105263.\n"
     ]
    },
    {
     "name": "stdout",
     "output_type": "stream",
     "text": [
      "Accuracy: Train: 0.841 | Val: 0.684\n",
      "[E= 9] [it=  330] Train Loss: 0.425, Test Loss: 0.583\n",
      "[E=19] [it=  660] Train Loss: 0.277, Test Loss: 0.569\n"
     ]
    },
    {
     "name": "stderr",
     "output_type": "stream",
     "text": [
      "[I 2024-05-05 15:21:21,047] Trial 91 finished with value: 0.7368421052631579 and parameters: {'num_epochs': 20, 'lr': 0.00017050708670689142, 'L2': 0.00017593642557321845, 'beta1': 0.05287054841062749, 'beta2': 0.0005869730397902585}. Best is trial 0 with value: 0.7894736842105263.\n"
     ]
    },
    {
     "name": "stdout",
     "output_type": "stream",
     "text": [
      "Accuracy: Train: 0.917 | Val: 0.737\n",
      "[E= 9] [it=  330] Train Loss: 0.469, Test Loss: 0.600\n",
      "[E=19] [it=  660] Train Loss: 0.338, Test Loss: 0.513\n"
     ]
    },
    {
     "name": "stderr",
     "output_type": "stream",
     "text": [
      "[I 2024-05-05 15:22:03,304] Trial 92 finished with value: 0.7368421052631579 and parameters: {'num_epochs': 20, 'lr': 0.00017414033234883848, 'L2': 0.00017826411336711856, 'beta1': 0.05281902854312698, 'beta2': 0.0005855542520343833}. Best is trial 0 with value: 0.7894736842105263.\n"
     ]
    },
    {
     "name": "stdout",
     "output_type": "stream",
     "text": [
      "Accuracy: Train: 0.864 | Val: 0.737\n",
      "[E= 9] [it=  330] Train Loss: 0.438, Test Loss: 0.543\n",
      "[E=19] [it=  660] Train Loss: 0.314, Test Loss: 0.567\n"
     ]
    },
    {
     "name": "stderr",
     "output_type": "stream",
     "text": [
      "[I 2024-05-05 15:22:52,404] Trial 93 finished with value: 0.7719298245614035 and parameters: {'num_epochs': 20, 'lr': 0.00017157819972472808, 'L2': 0.0001515459720994021, 'beta1': 0.05182477129544231, 'beta2': 0.000588713139100579}. Best is trial 0 with value: 0.7894736842105263.\n"
     ]
    },
    {
     "name": "stdout",
     "output_type": "stream",
     "text": [
      "Accuracy: Train: 0.886 | Val: 0.772\n",
      "[E= 9] [it=  330] Train Loss: 0.528, Test Loss: 0.669\n",
      "[E=19] [it=  660] Train Loss: 0.366, Test Loss: 0.501\n"
     ]
    },
    {
     "name": "stderr",
     "output_type": "stream",
     "text": [
      "[I 2024-05-05 15:23:35,314] Trial 94 finished with value: 0.7017543859649122 and parameters: {'num_epochs': 20, 'lr': 0.00018047921826739943, 'L2': 0.00017335940062181398, 'beta1': 0.053342493454004575, 'beta2': 0.0005945092097160445}. Best is trial 0 with value: 0.7894736842105263.\n"
     ]
    },
    {
     "name": "stdout",
     "output_type": "stream",
     "text": [
      "Accuracy: Train: 0.848 | Val: 0.702\n",
      "[E= 9] [it=  330] Train Loss: 0.468, Test Loss: 0.569\n",
      "[E=19] [it=  660] Train Loss: 0.307, Test Loss: 0.541\n"
     ]
    },
    {
     "name": "stderr",
     "output_type": "stream",
     "text": [
      "[I 2024-05-05 15:24:22,638] Trial 95 finished with value: 0.7543859649122807 and parameters: {'num_epochs': 20, 'lr': 0.0002494837703937886, 'L2': 0.00018719902537849705, 'beta1': 0.055631175660913516, 'beta2': 0.0005796388215472777}. Best is trial 0 with value: 0.7894736842105263.\n"
     ]
    },
    {
     "name": "stdout",
     "output_type": "stream",
     "text": [
      "Accuracy: Train: 0.871 | Val: 0.754\n",
      "[E= 9] [it=  330] Train Loss: 0.432, Test Loss: 0.546\n",
      "[E=19] [it=  660] Train Loss: 0.230, Test Loss: 0.649\n",
      "[E=29] [it=  990] Train Loss: 0.136, Test Loss: 0.531\n"
     ]
    },
    {
     "name": "stderr",
     "output_type": "stream",
     "text": [
      "[I 2024-05-05 15:25:27,380] Trial 96 finished with value: 0.7894736842105263 and parameters: {'num_epochs': 30, 'lr': 0.00017645725541211952, 'L2': 0.0001806417333990036, 'beta1': 0.05235184034390449, 'beta2': 0.0005915540956087114}. Best is trial 0 with value: 0.7894736842105263.\n"
     ]
    },
    {
     "name": "stdout",
     "output_type": "stream",
     "text": [
      "Accuracy: Train: 0.939 | Val: 0.789\n",
      "[E= 9] [it=  330] Train Loss: 0.443, Test Loss: 0.554\n",
      "[E=19] [it=  660] Train Loss: 0.247, Test Loss: 0.519\n",
      "[E=29] [it=  990] Train Loss: 0.139, Test Loss: 0.734\n"
     ]
    },
    {
     "name": "stderr",
     "output_type": "stream",
     "text": [
      "[I 2024-05-05 15:26:28,407] Trial 97 finished with value: 0.7543859649122807 and parameters: {'num_epochs': 30, 'lr': 0.00019075587207048332, 'L2': 0.00019659346916411146, 'beta1': 0.05143745940527455, 'beta2': 0.000604447036829886}. Best is trial 0 with value: 0.7894736842105263.\n"
     ]
    },
    {
     "name": "stdout",
     "output_type": "stream",
     "text": [
      "Accuracy: Train: 0.977 | Val: 0.754\n",
      "[E= 9] [it=  330] Train Loss: 0.450, Test Loss: 0.516\n",
      "[E=19] [it=  660] Train Loss: 0.311, Test Loss: 0.547\n",
      "[E=29] [it=  990] Train Loss: 0.175, Test Loss: 0.578\n"
     ]
    },
    {
     "name": "stderr",
     "output_type": "stream",
     "text": [
      "[I 2024-05-05 15:27:31,005] Trial 98 finished with value: 0.7543859649122807 and parameters: {'num_epochs': 30, 'lr': 0.00017610105751747056, 'L2': 0.0001837872983938581, 'beta1': 0.05095249400931923, 'beta2': 0.0005960395802771172}. Best is trial 0 with value: 0.7894736842105263.\n"
     ]
    },
    {
     "name": "stdout",
     "output_type": "stream",
     "text": [
      "Accuracy: Train: 0.955 | Val: 0.754\n",
      "[E= 9] [it=  330] Train Loss: 0.431, Test Loss: 0.518\n",
      "[E=19] [it=  660] Train Loss: 0.276, Test Loss: 0.552\n",
      "[E=29] [it=  990] Train Loss: 0.137, Test Loss: 0.583\n"
     ]
    },
    {
     "name": "stderr",
     "output_type": "stream",
     "text": [
      "[I 2024-05-05 15:28:32,885] Trial 99 finished with value: 0.7192982456140351 and parameters: {'num_epochs': 30, 'lr': 0.00020438096995341047, 'L2': 0.00018090401972569562, 'beta1': 0.057329805639027405, 'beta2': 0.0005911327069662672}. Best is trial 0 with value: 0.7894736842105263.\n"
     ]
    },
    {
     "name": "stdout",
     "output_type": "stream",
     "text": [
      "Accuracy: Train: 0.947 | Val: 0.719\n",
      "Best trial:\n",
      " Value: 0.7894736842105263\n",
      " Params: \n",
      "    num_epochs: 20\n",
      "    lr: 0.00018006317482176525\n",
      "    L2: 0.00019121815481265426\n",
      "    beta1: 0.05668264529856508\n",
      "    beta2: 0.0005930307769982909\n"
     ]
    }
   ],
   "source": [
    "def objective(trial):\n",
    "\n",
    "    # Trial configuration\n",
    "    # Name for run\n",
    "    run_name = \"Optuna-Test\"\n",
    "    # How many epochs before saving progress\n",
    "    checkpoint_interval = 10\n",
    "    #Number of epochs\n",
    "    Num_Epochs = trial.suggest_categorical(\"num_epochs\", [20, 30])\n",
    "    ## Loss\n",
    "    criterion = nn.CrossEntropyLoss()\n",
    "\n",
    "    ##############################################\n",
    "    # Hyperparameters search spaces\n",
    "    # Learning rate\n",
    "    lr = trial.suggest_float(\"lr\", 0.00015, 0.00025)\n",
    "    # L2 Normalization lambda\n",
    "    weight_decay = trial.suggest_float(\"L2\", 0.00015, 0.0002)\n",
    "    # Batch size\n",
    "    batch_size = 4\n",
    "    # Adam beta values\n",
    "    adam_betas = (1.0-trial.suggest_float(\"beta1\", 0.05, 0.06), 1.0-trial.suggest_float(\"beta2\", 0.00055, 0.00065, log=True))\n",
    "\n",
    "    #################################################\n",
    "    # Generate data loader based on new batch size\n",
    "    train_loader = torch.utils.data.DataLoader(dataset=splits[1], shuffle=True, num_workers=0,\n",
    "                                           batch_size=batch_size, drop_last=True)\n",
    "    val_loader = torch.utils.data.DataLoader(dataset=splits[0], shuffle=True, num_workers=0,\n",
    "                                           batch_size=1, drop_last=True)\n",
    "\n",
    "    #################################################\n",
    "    # Create network architecture\n",
    "    model = ConvNetWithoutDropout(len(data.classes))\n",
    "\n",
    "    # Initialize model weights\n",
    "    model.apply(init_weights)\n",
    "\n",
    "    ## Optimizer\n",
    "    optimizer = optim.Adam(model.parameters(), lr=lr, weight_decay=weight_decay, betas=adam_betas)\n",
    "\n",
    "    \n",
    "    #################################################\n",
    "    # Train model\n",
    "    model_final, trainloss, valloss = train_model(train_loader=train_loader, val_loader=val_loader, model=model,\n",
    "                                            criterion=criterion, optimizer=optimizer, Num_Epochs=Num_Epochs, checkpoint_interval=checkpoint_interval, run_name=run_name)\n",
    "\n",
    "    # Output model performance\n",
    "    #tr_acc = get_accuracy(net=model_final, data_loader=train_loader)\n",
    "    \n",
    "    tr_acc = get_accuracy(net=model_final, data_loader=train_loader)\n",
    "    val_acc = get_accuracy(net=model_final, data_loader=val_loader)\n",
    "    print(f\"Accuracy: Train: {tr_acc:.3f} | Val: {val_acc:0.3f}\" )\n",
    "    #print(f\"{run_name}: Accuracy: Train: {tr_acc:.3f} | Val: {val_acc:0.3f}\" )\n",
    "    if(val_acc > 0.7):\n",
    "        torch.save(model, \"networks/ADAM_picked/net_\" + str(trial.number))\n",
    "    # The objective function needs to return the metric to minimize or maximize\n",
    "    return val_acc\n",
    "\n",
    "study = optuna.create_study(direction=\"maximize\", study_name=\"Adam-binary-art\")\n",
    "study.optimize(objective, n_trials=100)\n",
    "\n",
    "print(\"Best trial:\")\n",
    "trial = study.best_trial\n",
    "print(f\" Value: {trial.value}\")\n",
    "print(\" Params: \")\n",
    "for key, value in trial.params.items():\n",
    "    print(f\"    {key}: {value}\")"
   ]
  },
  {
   "cell_type": "code",
   "execution_count": 105,
   "metadata": {},
   "outputs": [],
   "source": [
    "def get_accuracy_print(net, data_loader):\n",
    "  \"\"\"It iterates over `data_loader` to calculate accuracy\"\"\"\n",
    "  total_correct = 0.0\n",
    "  total_samples = 0.0\n",
    "  arts = [\"anger\", \"fear\", \"happiness\", \"sadness\", \"surprise\"]\n",
    "  final_predictions = []\n",
    "  # final_labels = []\n",
    "  with torch.no_grad():\n",
    "    for i_batch, sample_batched in enumerate(data_loader):\n",
    "      # data and labels\n",
    "      inputs, labels = sample_batched[0], sample_batched[1]\n",
    "      \n",
    "      labels = np.array(labels)\n",
    "      outputs = net(inputs.float())\n",
    "      predictions = np.array(torch.argmax(outputs.round(), dim=1))\n",
    "      for i in range(len(predictions)):\n",
    "        final_predictions.append((arts[predictions[i]], arts[labels[i]]))\n",
    "      # final_labels.append(labels)\n",
    "      # print(\"Labels vs predictions\")\n",
    "      # print(labels)\n",
    "      # print(predictions)\n",
    "      # print(labels.shape)\n",
    "      # print(predictions.shape)\n",
    "      # calculate the accuracy for this batch\n",
    "      total_correct += (predictions == labels).astype(float).sum().item()\n",
    "      total_samples += predictions.shape[0]\n",
    "  # calculate the accuracy\n",
    "  print(\"Labels vs predictions\")\n",
    "  print(final_predictions)\n",
    "  return total_correct / total_samples"
   ]
  },
  {
   "cell_type": "code",
   "execution_count": 109,
   "metadata": {},
   "outputs": [
    {
     "name": "stdout",
     "output_type": "stream",
     "text": [
      "Labels vs predictions\n",
      "[('anger', 'anger'), ('sadness', 'sadness'), ('happiness', 'sadness'), ('fear', 'fear'), ('anger', 'anger'), ('surprise', 'surprise'), ('surprise', 'surprise'), ('happiness', 'happiness'), ('happiness', 'happiness'), ('anger', 'sadness'), ('happiness', 'happiness'), ('anger', 'sadness'), ('happiness', 'happiness'), ('happiness', 'happiness'), ('sadness', 'sadness'), ('happiness', 'happiness'), ('happiness', 'sadness'), ('happiness', 'happiness'), ('happiness', 'happiness'), ('happiness', 'happiness'), ('happiness', 'happiness'), ('happiness', 'sadness'), ('anger', 'anger'), ('happiness', 'happiness'), ('happiness', 'fear'), ('anger', 'anger'), ('sadness', 'sadness'), ('anger', 'anger'), ('happiness', 'happiness'), ('happiness', 'happiness'), ('happiness', 'happiness'), ('surprise', 'surprise'), ('surprise', 'surprise'), ('happiness', 'happiness'), ('happiness', 'anger'), ('fear', 'surprise'), ('anger', 'anger'), ('sadness', 'sadness'), ('happiness', 'sadness'), ('happiness', 'happiness'), ('happiness', 'happiness'), ('happiness', 'surprise'), ('happiness', 'sadness'), ('sadness', 'sadness'), ('anger', 'anger'), ('surprise', 'happiness'), ('happiness', 'happiness'), ('sadness', 'sadness'), ('sadness', 'sadness'), ('anger', 'anger'), ('anger', 'anger'), ('anger', 'anger'), ('fear', 'fear'), ('anger', 'anger'), ('happiness', 'happiness'), ('happiness', 'happiness'), ('sadness', 'sadness'), ('surprise', 'surprise'), ('happiness', 'happiness'), ('anger', 'sadness'), ('happiness', 'happiness'), ('sadness', 'sadness'), ('surprise', 'surprise'), ('happiness', 'anger'), ('happiness', 'happiness'), ('happiness', 'fear'), ('happiness', 'happiness'), ('fear', 'fear'), ('anger', 'anger'), ('anger', 'sadness'), ('surprise', 'surprise'), ('anger', 'sadness'), ('anger', 'anger'), ('anger', 'anger'), ('anger', 'sadness'), ('happiness', 'happiness'), ('surprise', 'surprise'), ('happiness', 'happiness'), ('surprise', 'surprise'), ('anger', 'anger'), ('sadness', 'sadness'), ('anger', 'anger'), ('sadness', 'anger'), ('happiness', 'surprise'), ('surprise', 'surprise'), ('fear', 'sadness'), ('happiness', 'happiness'), ('happiness', 'anger'), ('sadness', 'sadness'), ('sadness', 'sadness'), ('happiness', 'happiness'), ('anger', 'happiness'), ('sadness', 'sadness'), ('happiness', 'happiness'), ('fear', 'sadness'), ('happiness', 'surprise'), ('surprise', 'sadness'), ('happiness', 'happiness'), ('anger', 'happiness'), ('happiness', 'happiness'), ('anger', 'anger'), ('happiness', 'happiness'), ('anger', 'happiness'), ('happiness', 'happiness'), ('surprise', 'sadness'), ('happiness', 'happiness'), ('happiness', 'sadness'), ('happiness', 'surprise'), ('happiness', 'anger'), ('happiness', 'happiness'), ('anger', 'happiness'), ('happiness', 'happiness'), ('happiness', 'surprise'), ('happiness', 'happiness'), ('anger', 'sadness'), ('happiness', 'surprise'), ('surprise', 'surprise'), ('happiness', 'happiness'), ('sadness', 'sadness'), ('anger', 'sadness'), ('fear', 'fear'), ('sadness', 'sadness'), ('sadness', 'sadness'), ('sadness', 'sadness'), ('anger', 'anger'), ('sadness', 'anger'), ('happiness', 'happiness'), ('surprise', 'surprise'), ('fear', 'fear'), ('anger', 'anger'), ('happiness', 'sadness'), ('happiness', 'anger'), ('happiness', 'happiness'), ('happiness', 'happiness'), ('sadness', 'sadness'), ('surprise', 'surprise'), ('sadness', 'sadness'), ('happiness', 'happiness'), ('happiness', 'sadness'), ('surprise', 'surprise'), ('surprise', 'surprise'), ('sadness', 'anger'), ('anger', 'sadness'), ('sadness', 'sadness'), ('surprise', 'surprise'), ('anger', 'anger'), ('anger', 'happiness'), ('happiness', 'happiness'), ('surprise', 'surprise'), ('anger', 'anger'), ('happiness', 'fear'), ('anger', 'sadness'), ('fear', 'sadness'), ('anger', 'anger'), ('anger', 'sadness'), ('anger', 'anger'), ('happiness', 'happiness'), ('happiness', 'happiness'), ('happiness', 'happiness'), ('happiness', 'happiness'), ('happiness', 'happiness'), ('sadness', 'sadness'), ('fear', 'surprise'), ('happiness', 'happiness'), ('fear', 'fear'), ('surprise', 'surprise'), ('happiness', 'happiness'), ('sadness', 'anger'), ('happiness', 'happiness'), ('surprise', 'surprise'), ('anger', 'anger'), ('happiness', 'happiness'), ('happiness', 'happiness'), ('happiness', 'happiness'), ('sadness', 'sadness'), ('happiness', 'happiness'), ('happiness', 'sadness'), ('anger', 'anger'), ('happiness', 'happiness'), ('happiness', 'sadness'), ('anger', 'anger'), ('sadness', 'anger'), ('anger', 'happiness'), ('fear', 'surprise'), ('sadness', 'sadness'), ('surprise', 'surprise'), ('happiness', 'happiness'), ('happiness', 'fear'), ('surprise', 'surprise'), ('happiness', 'happiness'), ('anger', 'anger'), ('happiness', 'happiness'), ('surprise', 'surprise'), ('sadness', 'sadness'), ('sadness', 'sadness'), ('happiness', 'happiness'), ('anger', 'anger'), ('happiness', 'happiness'), ('sadness', 'sadness'), ('happiness', 'surprise'), ('happiness', 'fear'), ('happiness', 'sadness'), ('happiness', 'happiness'), ('happiness', 'sadness'), ('happiness', 'sadness'), ('happiness', 'happiness'), ('happiness', 'happiness'), ('sadness', 'sadness'), ('happiness', 'happiness'), ('sadness', 'fear'), ('sadness', 'surprise'), ('happiness', 'happiness'), ('sadness', 'sadness'), ('surprise', 'surprise'), ('happiness', 'happiness'), ('happiness', 'happiness'), ('anger', 'anger'), ('happiness', 'happiness'), ('anger', 'anger'), ('anger', 'anger'), ('sadness', 'sadness'), ('sadness', 'sadness'), ('surprise', 'surprise'), ('surprise', 'surprise'), ('happiness', 'happiness'), ('anger', 'anger'), ('sadness', 'sadness'), ('sadness', 'sadness'), ('happiness', 'happiness'), ('happiness', 'happiness'), ('happiness', 'happiness'), ('sadness', 'sadness'), ('sadness', 'sadness'), ('sadness', 'sadness'), ('fear', 'fear'), ('happiness', 'happiness'), ('happiness', 'happiness'), ('happiness', 'happiness'), ('surprise', 'happiness'), ('happiness', 'happiness'), ('happiness', 'sadness'), ('sadness', 'sadness'), ('happiness', 'happiness'), ('anger', 'anger'), ('anger', 'anger'), ('anger', 'sadness'), ('surprise', 'surprise'), ('sadness', 'anger'), ('anger', 'anger'), ('happiness', 'happiness'), ('sadness', 'sadness'), ('happiness', 'surprise'), ('anger', 'anger'), ('happiness', 'happiness'), ('happiness', 'happiness'), ('happiness', 'happiness'), ('happiness', 'happiness'), ('happiness', 'anger'), ('happiness', 'surprise'), ('sadness', 'anger'), ('happiness', 'happiness'), ('happiness', 'happiness'), ('happiness', 'happiness'), ('anger', 'anger'), ('surprise', 'surprise'), ('anger', 'anger'), ('happiness', 'surprise'), ('fear', 'fear'), ('fear', 'happiness'), ('surprise', 'surprise'), ('happiness', 'happiness'), ('sadness', 'sadness'), ('happiness', 'happiness'), ('surprise', 'surprise'), ('sadness', 'sadness'), ('happiness', 'happiness'), ('sadness', 'sadness'), ('happiness', 'surprise'), ('happiness', 'happiness'), ('fear', 'fear'), ('sadness', 'sadness'), ('sadness', 'sadness'), ('sadness', 'sadness'), ('surprise', 'surprise'), ('happiness', 'happiness'), ('surprise', 'surprise'), ('anger', 'happiness'), ('happiness', 'happiness'), ('fear', 'fear'), ('fear', 'fear'), ('sadness', 'sadness'), ('happiness', 'happiness'), ('happiness', 'surprise'), ('happiness', 'sadness'), ('happiness', 'anger'), ('surprise', 'surprise'), ('happiness', 'happiness'), ('happiness', 'happiness'), ('happiness', 'happiness'), ('surprise', 'surprise'), ('happiness', 'sadness'), ('sadness', 'sadness'), ('happiness', 'happiness'), ('happiness', 'happiness'), ('happiness', 'happiness'), ('sadness', 'sadness'), ('happiness', 'anger'), ('fear', 'fear'), ('happiness', 'happiness'), ('sadness', 'sadness'), ('happiness', 'anger'), ('happiness', 'anger')]\n",
      "Accuracy: Val: 0.737\n"
     ]
    }
   ],
   "source": [
    "model_test = ConvNetWithoutDropout(len(data.classes))\n",
    "model_test.load_state_dict(torch.load(\"networks/ADAM/net_8\"))\n",
    "model_test.eval()\n",
    "trans_test = transforms.Compose([\n",
    "  transforms.Resize([64,64]),  \n",
    "  transforms.Grayscale(),\n",
    "  transforms.ToTensor(),\n",
    "  transforms.Normalize((0.5,), (0.5,))])\n",
    "data_test = tv.datasets.ImageFolder(root=\"./testing\", transform=trans_test)\n",
    "splits_test = random_split(data, [1.0, 0.0])\n",
    "\n",
    "# train_loader = torch.utils.data.DataLoader(dataset=splits[1], shuffle=True, num_workers=0,\n",
    "#                                            batch_size=batch_size, drop_last=True)\n",
    "val_loader = torch.utils.data.DataLoader(dataset=splits_test[0], shuffle=True, num_workers=0,\n",
    "                                        batch_size=1, drop_last=False)\n",
    "\n",
    "# tr_acc = get_accuracy_print(net=model_test, data_loader=train_loader)\n",
    "val_acc = get_accuracy_print(net=model_test, data_loader=val_loader)\n",
    "print(f\"Accuracy: Val: {val_acc:0.3f}\" )\n",
    "# print(f\"Accuracy: Train: {tr_acc:.3f} | Val: {val_acc:0.3f}\" )\n",
    "\n"
   ]
  }
 ],
 "metadata": {
  "coursera": {
   "course_slug": "neural-networks-deep-learning",
   "graded_item_id": "TSPse",
   "launcher_item_id": "24mxX"
  },
  "kernelspec": {
   "display_name": "Python 3 (ipykernel)",
   "language": "python",
   "name": "python3"
  },
  "language_info": {
   "codemirror_mode": {
    "name": "ipython",
    "version": 3
   },
   "file_extension": ".py",
   "mimetype": "text/x-python",
   "name": "python",
   "nbconvert_exporter": "python",
   "pygments_lexer": "ipython3",
   "version": "3.11.4"
  }
 },
 "nbformat": 4,
 "nbformat_minor": 2
}
