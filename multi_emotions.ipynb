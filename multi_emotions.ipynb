{
 "cells": [
  {
   "cell_type": "markdown",
   "metadata": {},
   "source": [
    "Packages, setup, and helper functions"
   ]
  },
  {
   "cell_type": "code",
   "execution_count": 1,
   "metadata": {},
   "outputs": [],
   "source": [
    "import os \n",
    "import time\n",
    "import copy\n",
    "import h5py\n",
    "import glob\n",
    "import scipy\n",
    "import random\n",
    "import itertools\n",
    "import numpy as np\n",
    "import pandas as pd\n",
    "from tqdm import tqdm\n",
    "from numpy.random import Generator, PCG64DXSM\n",
    "import matplotlib.pyplot as plt\n",
    "from PIL import Image, ImageOps\n",
    "from scipy import ndimage\n",
    "import math\n",
    "import itertools\n",
    "import torch\n",
    "import torchvision as tv\n",
    "import torchvision.transforms as transforms\n",
    "from torch.utils.data import Dataset, DataLoader, random_split, Subset\n",
    "#import tensorflow as tf\n",
    "import torch.nn as nn\n",
    "import torch.nn.functional as F\n",
    "import torch.optim as optim\n",
    "from skimage import io, transform\n",
    "import pylab as pl\n",
    "from IPython import display\n",
    "from copy import deepcopy\n",
    "import optuna\n",
    "\n",
    "# Using PCG64 as random generator\n",
    "# Place seed [optional] for troubleshooting\n",
    "rng = Generator(PCG64DXSM(seed=21))\n",
    "\n",
    "# matplotlib general set up\n",
    "%matplotlib inline\n",
    "plt.rcParams['image.interpolation'] = 'nearest'\n",
    "plt.rcParams['image.cmap'] = 'gray'\n"
   ]
  },
  {
   "cell_type": "markdown",
   "metadata": {},
   "source": [
    "Dataset Preprocessing"
   ]
  },
  {
   "cell_type": "code",
   "execution_count": 2,
   "metadata": {},
   "outputs": [],
   "source": [
    "class FaceDataset(Dataset):\n",
    "    \"\"\"Emotions with Two Classes dataset.\"\"\"\n",
    "\n",
    "    def __init__(self, data, targets, classes, transform=None):\n",
    "        \"\"\"\n",
    "        Arguments:\n",
    "            data (numpy array): CIFAR10 Dataset in numpy array\n",
    "            targets (numpy array): Labels for samples in data\n",
    "            keep_classes (numpy array): Index of classes to keep. This array is of length 2.\n",
    "            classes: Two strings with the names of classes in keep_classes.\n",
    "            transform (callable, optional): Optional transforms to be applied\n",
    "                on a samples. This is applied during sampling (i.e., __getitem__())\n",
    "        \"\"\"\n",
    "        self.filter_dataset(data, targets, [0, 1])\n",
    "        # self.data = data\n",
    "        # self.targets = targets\n",
    "        self.transform = transform\n",
    "        self.classes = classes\n",
    "\n",
    "\n",
    "    def __len__(self):\n",
    "        \"\"\"\n",
    "        Get the number of samples in dataset\n",
    "        \"\"\"\n",
    "        return self.targets.shape[1]\n",
    "\n",
    "\n",
    "    def __getitem__(self, idx):\n",
    "        \"\"\"\n",
    "        Get a sample from the dataset\n",
    "        \"\"\"\n",
    "        if torch.is_tensor(idx):\n",
    "            idx = idx.tolist()\n",
    "\n",
    "        image = self.data[idx,...]\n",
    "        target = self.targets[:, idx]\n",
    "        sample = {'image': image, 'target': target}\n",
    "        print(type(sample['image']))\n",
    "        print(type(sample['target']))\n",
    "        if self.transform:\n",
    "            sample = self.transform(sample)\n",
    "        return sample\n",
    "    \n",
    "    \n",
    "    def get_classes(self):\n",
    "        \"\"\"\n",
    "        Returns string names for classes stored in this class.\n",
    "        \"\"\"\n",
    "        return self.classes\n",
    "    \n",
    "    \n",
    "    def class_to_idx(self, class_str):\n",
    "        \"\"\"\n",
    "        Returns the index of the input class name.\n",
    "        \"\"\"\n",
    "        try:\n",
    "            index = self.classes.index(class_str)\n",
    "        except ValueError:\n",
    "            print(f\"'{class_str}' is not in the list.\")\n",
    "            print(f\"Your options are: <<{self.classes}>>.\")\n",
    "        return index\n",
    "    \n",
    "\n",
    "    def show_image(self, sample_idx, cmap):\n",
    "        \"\"\"\n",
    "        Displays image at position sample_idx and its label.\n",
    "        \"\"\"\n",
    "        \n",
    "        image = self.data[sample_idx,...]\n",
    "        label = self.targets[:, sample_idx]\n",
    "        pl.cla()\n",
    "        pl.imshow(image, cmap=cmap)\n",
    "        pl.text(image.shape[1]*0.7, image.shape[0]*0.8, str(np.squeeze(label)), c='r')\n",
    "        display.clear_output(wait=True)\n",
    "        display.display(pl.gcf())\n",
    "\n",
    "\n",
    "    def filter_dataset(self, data, targets, keepLabels):\n",
    "        \"\"\"\n",
    "            Generate a new list of images and binary targets from original dataset.\n",
    "        \"\"\"\n",
    "    \n",
    "        # Throw error if keepLabels is not length 2\n",
    "        assert len(keepLabels) == 2\n",
    "\n",
    "        #ensure keepLabels and targets are numpy arrays\n",
    "        keepLabels = np.array(keepLabels)\n",
    "        targets = np.array(targets)\n",
    "\n",
    "        # Get indexes of desired classes samples\n",
    "        mask_idx = np.where(np.isin(targets, keepLabels))[0]\n",
    "        print(mask_idx)\n",
    "        \n",
    "        # how many samples for keep classes do we have\n",
    "        m = mask_idx.size\n",
    "        print(f\"M is {m}\")\n",
    "    \n",
    "        #empty list of tensors\n",
    "        self.data = np.ndarray(np.concatenate(([m], data.shape[1:])))\n",
    "        self.targets = np.ndarray([1, m])\n",
    "        print(mask_idx.shape)\n",
    "        print(type(mask_idx))\n",
    "        print(f\"Shapes of data and targets: {self.data.shape}/{self.targets.shape}\")\n",
    "        for i in range(mask_idx.size):\n",
    "\n",
    "            # save new image\n",
    "            self.data[i,...] = np.copy(data[mask_idx[i],...])\n",
    "\n",
    "            #create correct target\n",
    "            if (targets[:,mask_idx[i]] == keepLabels[0]):\n",
    "                self.targets[:,i] = 0\n",
    "            else:\n",
    "                self.targets[:,i] = 1"
   ]
  },
  {
   "cell_type": "code",
   "execution_count": 3,
   "metadata": {},
   "outputs": [],
   "source": [
    "data_path = \"./data\"\n",
    "\n",
    "trans = transforms.Compose([\n",
    "  transforms.Resize([64,64]),  \n",
    "  transforms.Grayscale(),\n",
    "  transforms.RandomHorizontalFlip(),\n",
    "  transforms.RandomRotation(10),\n",
    "  transforms.ToTensor(),\n",
    "  transforms.Normalize((0.5,), (0.5,))])\n",
    "batch_size = 16"
   ]
  },
  {
   "cell_type": "code",
   "execution_count": 4,
   "metadata": {},
   "outputs": [
    {
     "name": "stdout",
     "output_type": "stream",
     "text": [
      "<class 'torchvision.datasets.folder.ImageFolder'>\n",
      "94 218\n",
      "['anger', 'fear', 'happiness', 'sadness', 'surprise']\n",
      "5\n"
     ]
    }
   ],
   "source": [
    "data = tv.datasets.ImageFolder(root=data_path, transform=trans)\n",
    "print(type(data))\n",
    "\n",
    "\n",
    "\n",
    "splits = random_split(data, [0.3, 0.7])\n",
    "\n",
    "print(len(splits[0]), len(splits[1]))\n",
    "print(data.classes)\n",
    "print(len(data.classes))\n"
   ]
  },
  {
   "cell_type": "code",
   "execution_count": 5,
   "metadata": {},
   "outputs": [
    {
     "name": "stdout",
     "output_type": "stream",
     "text": [
      "<class 'torch.utils.data.dataset.Subset'>\n",
      "<class 'tuple'>\n",
      "<class 'torch.Tensor'>\n",
      "<class 'int'>\n"
     ]
    },
    {
     "data": {
      "image/png": "[encoded data removed]",
      "text/plain": [
       "<Figure size 640x480 with 1 Axes>"
      ]
     },
     "metadata": {},
     "output_type": "display_data"
    }
   ],
   "source": [
    "print(type(splits[0]))\n",
    "print(type(data[0]))\n",
    "print(type(data[0][0]))\n",
    "print(type(data[0][1]))\n",
    "# arr = np.ndarray(data[0][0])#This is your tensor\n",
    "arr_ = np.squeeze(data[0][0]) # you can give axis attribute if you wanna squeeze in specific dimension\n",
    "plt.imshow(arr_)\n",
    "plt.show()"
   ]
  },
  {
   "cell_type": "code",
   "execution_count": 6,
   "metadata": {},
   "outputs": [
    {
     "name": "stdout",
     "output_type": "stream",
     "text": [
      "218\n",
      "<torch.utils.data.dataset.Subset object at 0x7f28c0497010>\n",
      "(tensor([[[-1.0000, -1.0000, -1.0000,  ...,  0.9608,  0.9373, -1.0000],\n",
      "         [ 0.9843,  0.9843,  0.9843,  ...,  0.9608,  0.9529, -1.0000],\n",
      "         [ 0.9843,  0.9843,  0.9843,  ...,  0.8902,  0.8510, -1.0000],\n",
      "         ...,\n",
      "         [-1.0000,  0.9529,  0.9529,  ...,  0.9843,  0.9843,  0.9843],\n",
      "         [-1.0000,  0.9529,  0.9137,  ...,  0.9843,  0.9843,  0.9843],\n",
      "         [-1.0000,  0.8745,  0.7647,  ..., -1.0000, -1.0000, -1.0000]]]), 0)\n"
     ]
    }
   ],
   "source": [
    "# Define a batch size\n",
    "batch_size = 1\n",
    "\n",
    "# Create iterators for dataset\n",
    "train_loader = torch.utils.data.DataLoader(dataset=splits[1], shuffle=True, num_workers=0,\n",
    "                                           batch_size=batch_size, drop_last=True)\n",
    "val_loader = torch.utils.data.DataLoader(dataset=splits[0], shuffle=True, num_workers=0,\n",
    "                                           batch_size=1, drop_last=True)\n",
    "print(len(train_loader))\n",
    "print(train_loader.dataset)\n",
    "print(train_loader.dataset[2])\n",
    "# print(train_loader.clas)\n"
   ]
  },
  {
   "cell_type": "markdown",
   "metadata": {},
   "source": [
    "Convolutional Network Without Dropout"
   ]
  },
  {
   "cell_type": "code",
   "execution_count": 11,
   "metadata": {},
   "outputs": [
    {
     "name": "stdout",
     "output_type": "stream",
     "text": [
      "ConvNetWithoutDropout(\n",
      "  (conv1): Conv2d(1, 6, kernel_size=(3, 3), stride=(1, 1), padding=(1, 1))\n",
      "  (conv2): Conv2d(6, 16, kernel_size=(3, 3), stride=(1, 1), padding=(1, 1))\n",
      "  (fc1): Linear(in_features=4096, out_features=128, bias=True)\n",
      "  (fc2): Linear(in_features=128, out_features=64, bias=True)\n",
      "  (fc3): Linear(in_features=64, out_features=5, bias=True)\n",
      ")\n"
     ]
    }
   ],
   "source": [
    "class ConvNetWithoutDropout(nn.Module):\n",
    "\n",
    "  # define network layers\n",
    "  def __init__(self, class_len):\n",
    "    super().__init__()\n",
    "    # 1 input image channel, 6 output channels, 5x5 square convolution\n",
    "    # kernel\n",
    "    self.conv1 = nn.Conv2d(1, 6, 3, padding=1)\n",
    "    self.conv2 = nn.Conv2d(6, 16, 3, padding=1)\n",
    "    # an affine operation: y = Wx + b\n",
    "    self.fc1 = nn.Linear(4096, 128)  # 5*5 from image dimension\n",
    "    self.fc2 = nn.Linear(128, 64)\n",
    "    self.fc3 = nn.Linear(64, class_len)\n",
    "\n",
    "\n",
    "  # define forward pass\n",
    "  def forward(self, x):\n",
    "    # Max pooling over a (2, 2) window\n",
    "    x = F.max_pool2d(F.relu(self.conv1(x)), (2, 2))\n",
    "    # If the size is a square, you can specify with a single number\n",
    "    x = F.max_pool2d(F.relu(self.conv2(x)), 2)\n",
    "    x = torch.flatten(x, 1) # flatten all dimensions except the batch dimension\n",
    "    x = F.relu(self.fc1(x))\n",
    "    x = F.relu(self.fc2(x))\n",
    "    x = self.fc3(x)\n",
    "    return x\n",
    "\n",
    "#################################################\n",
    "## Create network\n",
    "model = ConvNetWithoutDropout(len(data.classes))\n",
    "#Print model architecture\n",
    "print(model)"
   ]
  },
  {
   "cell_type": "code",
   "execution_count": 8,
   "metadata": {},
   "outputs": [
    {
     "name": "stderr",
     "output_type": "stream",
     "text": [
      "/tmp/ipykernel_5357/1099974826.py:5: UserWarning: nn.init.xavier_uniform is now deprecated in favor of nn.init.xavier_uniform_.\n",
      "  torch.nn.init.xavier_uniform(m.weight)\n"
     ]
    },
    {
     "data": {
      "text/plain": [
       "ConvNetWithoutDropout(\n",
       "  (conv1): Conv2d(1, 6, kernel_size=(3, 3), stride=(1, 1), padding=(1, 1))\n",
       "  (conv2): Conv2d(6, 16, kernel_size=(3, 3), stride=(1, 1), padding=(1, 1))\n",
       "  (fc1): Linear(in_features=4096, out_features=128, bias=True)\n",
       "  (fc2): Linear(in_features=128, out_features=64, bias=True)\n",
       "  (fc3): Linear(in_features=64, out_features=5, bias=True)\n",
       ")"
      ]
     },
     "execution_count": 8,
     "metadata": {},
     "output_type": "execute_result"
    }
   ],
   "source": [
    "#################################################\n",
    "# Weight initialization\n",
    "def init_weights(m):\n",
    "    if isinstance(m, nn.Linear):\n",
    "        torch.nn.init.xavier_uniform(m.weight)\n",
    "        m.bias.data.fill_(0.00)\n",
    "\n",
    "\n",
    "# Initialize model weights and biases\n",
    "model.apply(init_weights)"
   ]
  },
  {
   "cell_type": "code",
   "execution_count": 9,
   "metadata": {},
   "outputs": [],
   "source": [
    "# Functions to train and troubleshoot the model\n",
    "\n",
    "def get_accuracy(net, data_loader):\n",
    "  \"\"\"It iterates over `data_loader` to calculate accuracy\"\"\"\n",
    "  total_correct = 0.0\n",
    "  total_samples = 0.0\n",
    "  with torch.no_grad():\n",
    "    for i_batch, sample_batched in enumerate(data_loader):\n",
    "      # data and labels\n",
    "      inputs, labels = sample_batched[0], sample_batched[1]\n",
    "      \n",
    "      labels = np.array(labels)\n",
    "      outputs = net(inputs.float())\n",
    "      predictions = np.array(torch.argmax(outputs.round(), dim=1))\n",
    "      # print(labels.shape)\n",
    "      # print(predictions.shape)\n",
    "      # calculate the accuracy for this batch\n",
    "      total_correct += (predictions == labels).astype(float).sum().item()\n",
    "      total_samples += predictions.shape[0]\n",
    "  # calculate the accuracy\n",
    "  return total_correct / total_samples\n",
    "\n",
    "def get_val_loss(net, criterion, data_loader):\n",
    "  \"\"\"It iterates over `data_loader` to calculate the overall loss\"\"\"\n",
    "  testing_loss = []\n",
    "  with torch.no_grad():\n",
    "    for i_batch, sample_batched in enumerate(data_loader):\n",
    "      # data and labels\n",
    "      inputs, labels = sample_batched[0], sample_batched[1]\n",
    "\n",
    "     # inputs, labels = inputs.to(device), labels.to(device)\n",
    "      outputs = net(inputs.float())\n",
    "      # calculate the loss for this batch\n",
    "      loss = criterion(outputs, labels)\n",
    "      # add the loss of this batch to the list\n",
    "      testing_loss.append(loss.item())\n",
    "  # calculate the average loss\n",
    "  return sum(testing_loss) / len(testing_loss)"
   ]
  },
  {
   "cell_type": "code",
   "execution_count": 10,
   "metadata": {},
   "outputs": [],
   "source": [
    "def train_model(train_loader, val_loader, model, criterion, optimizer, start_epoch=0, start_tr_loss=None, start_val_loss=None, \n",
    "                Num_Epochs=100, checkpoint_interval=50, run_name=\"default\", save=False):\n",
    "  \"\"\"\n",
    "  This routine receives a model architecture, a dataset with corresponding labels and other configurations for supervised training of model.\n",
    "\n",
    "  Parameters:\n",
    "    train_loader -- iterable object with data samples created using torch.utils.data.DataLoader.\n",
    "    val_loader -- iterable object with validation samples created using torch.utils.data.DataLoader.\n",
    "    model -- Valid Pytorch nn.Module network\n",
    "    criterion -- Loss function from PyTorch nn library\n",
    "    optimizer -- Optimization technique from PyTorch optim library\n",
    "    Num_epochs -- Number of times to go through the train_loader samples\n",
    "    start_epoch -- when resuming a previous run, this is the last epoch number performed.\n",
    "    start_tr_loss -- when resuming previous run, it add the loss history to current train run\n",
    "    start_val_loss -- same as with start_tr_loss but for validation set\n",
    "    checkpoint_interval -- After how many epochs to save and printout network progress.\n",
    "    run_name -- Prefix string used for checkpoint filename\n",
    "    save -- when True it will save checkpoints \n",
    "  \n",
    "  Returns:\n",
    "    model -- final model with its parameters\n",
    "    training_loss -- List with training loss for each epoch \n",
    "    val_loss -- List with validation loss for each epoch\n",
    "  \"\"\"\n",
    "\n",
    "  if(start_tr_loss):\n",
    "    training_loss, val_loss = start_tr_loss, start_val_loss\n",
    "  else:\n",
    "    training_loss, val_loss = [], []\n",
    "  running_loss = []\n",
    "  i = 0\n",
    "  for epoch in range(start_epoch, Num_Epochs):\n",
    "    for i_batch, sample_batched in enumerate(train_loader):\n",
    "\n",
    "      # data and labels\n",
    "      inputs, labels = sample_batched[0], sample_batched[1]\n",
    "\n",
    "      # resets all gradients for this mini-batch\n",
    "      optimizer.zero_grad()\n",
    "      # forward pass\n",
    "      # outputs = torch.softmax(model(inputs.float()), dim=1)\n",
    "      outputs = model(inputs.float())\n",
    "      # print(outputs)\n",
    "      # outputs = torch.softmax(outputs, dim=1)\n",
    "      # print(outputs)\n",
    "      # print(f\"Outputs shape are {outputs.shape}\")\n",
    "      # print(f\"Second shape is {torch.reshape(labels.float(), outputs.shape).shape}\")\n",
    "      # print(f\"Third shape is {labels.shape}\")\n",
    "      # print(labels)\n",
    "      # print(outputs)\n",
    "      loss = criterion(outputs, labels) # loss = criterion(outputs, torch.reshape(labels.float(), outputs.shape))\n",
    "\n",
    "      # backward pass\n",
    "      loss.backward()\n",
    "\n",
    "      # update parameters\n",
    "      optimizer.step()\n",
    "\n",
    "      # Save current loss for plots\n",
    "      running_loss.append(loss.item())\n",
    "      i += 1\n",
    "\n",
    "    #track progress\n",
    "    avg_train_loss = sum(running_loss) / len(running_loss)\n",
    "    avg_val_loss = get_val_loss(model, criterion, val_loader)\n",
    "\n",
    "    # clear the list\n",
    "    running_loss.clear()\n",
    "\n",
    "    #store loss\n",
    "    training_loss.append(avg_train_loss)\n",
    "    val_loss.append(avg_val_loss)\n",
    "\n",
    "    #print loss per epoch\n",
    "    if((epoch+1)%checkpoint_interval==0):\n",
    "      if(save):\n",
    "        torch.save({\n",
    "          'epoch': epoch,\n",
    "          'model_state_dict': model.state_dict(),\n",
    "          'optimizer_state_dict': optimizer.state_dict(),\n",
    "          'training_loss': training_loss,\n",
    "          'validation_loss': val_loss,\n",
    "        }, f'{run_name}_checkpoint_{epoch+1}.pt')\n",
    "      print(f\"[E={epoch:2d}] [it={i:5d}] Train Loss: {avg_train_loss:.3f}, Test Loss: {avg_val_loss:.3f}\")\n",
    "\n",
    "  #return model and losses from training\n",
    "  return model, training_loss, val_loss\n"
   ]
  },
  {
   "cell_type": "code",
   "execution_count": 12,
   "metadata": {},
   "outputs": [
    {
     "name": "stderr",
     "output_type": "stream",
     "text": [
      "/tmp/ipykernel_4304/1099974826.py:5: UserWarning: nn.init.xavier_uniform is now deprecated in favor of nn.init.xavier_uniform_.\n",
      "  torch.nn.init.xavier_uniform(m.weight)\n"
     ]
    },
    {
     "ename": "KeyboardInterrupt",
     "evalue": "",
     "output_type": "error",
     "traceback": [
      "\u001b[0;31m---------------------------------------------------------------------------\u001b[0m",
      "\u001b[0;31mKeyboardInterrupt\u001b[0m                         Traceback (most recent call last)",
      "\u001b[1;32m/home/exi/uni/2024/525/project/multi_emotions.ipynb Cell 14\u001b[0m line \u001b[0;36m3\n\u001b[1;32m     <a href='vscode-notebook-cell:/home/exi/uni/2024/525/project/multi_emotions.ipynb#X16sZmlsZQ%3D%3D?line=27'>28</a>\u001b[0m optimizer \u001b[39m=\u001b[39m optim\u001b[39m.\u001b[39mSGD(model\u001b[39m.\u001b[39mparameters(), lr\u001b[39m=\u001b[39mlearning_rate, weight_decay\u001b[39m=\u001b[39mweight_decay, momentum\u001b[39m=\u001b[39mmomentum, nesterov\u001b[39m=\u001b[39mnesterov)\n\u001b[1;32m     <a href='vscode-notebook-cell:/home/exi/uni/2024/525/project/multi_emotions.ipynb#X16sZmlsZQ%3D%3D?line=30'>31</a>\u001b[0m \u001b[39m#################################################\u001b[39;00m\n\u001b[1;32m     <a href='vscode-notebook-cell:/home/exi/uni/2024/525/project/multi_emotions.ipynb#X16sZmlsZQ%3D%3D?line=31'>32</a>\u001b[0m \u001b[39m# Train model\u001b[39;00m\n\u001b[0;32m---> <a href='vscode-notebook-cell:/home/exi/uni/2024/525/project/multi_emotions.ipynb#X16sZmlsZQ%3D%3D?line=33'>34</a>\u001b[0m model_final, trainloss, valloss \u001b[39m=\u001b[39m train_model(train_loader\u001b[39m=\u001b[39;49mtrain_loader, val_loader\u001b[39m=\u001b[39;49mval_loader, model\u001b[39m=\u001b[39;49mmodel, save\u001b[39m=\u001b[39;49m\u001b[39mFalse\u001b[39;49;00m,\n\u001b[1;32m     <a href='vscode-notebook-cell:/home/exi/uni/2024/525/project/multi_emotions.ipynb#X16sZmlsZQ%3D%3D?line=34'>35</a>\u001b[0m                                            criterion\u001b[39m=\u001b[39;49mcriterion, optimizer\u001b[39m=\u001b[39;49moptimizer, Num_Epochs\u001b[39m=\u001b[39;49mNum_Epochs, checkpoint_interval\u001b[39m=\u001b[39;49mcheckpoint_interval, run_name\u001b[39m=\u001b[39;49mrun_name)\n\u001b[1;32m     <a href='vscode-notebook-cell:/home/exi/uni/2024/525/project/multi_emotions.ipynb#X16sZmlsZQ%3D%3D?line=36'>37</a>\u001b[0m tr_acc \u001b[39m=\u001b[39m get_accuracy(net\u001b[39m=\u001b[39mmodel_final, data_loader\u001b[39m=\u001b[39mtrain_loader)\n\u001b[1;32m     <a href='vscode-notebook-cell:/home/exi/uni/2024/525/project/multi_emotions.ipynb#X16sZmlsZQ%3D%3D?line=37'>38</a>\u001b[0m val_acc \u001b[39m=\u001b[39m get_accuracy(net\u001b[39m=\u001b[39mmodel_final, data_loader\u001b[39m=\u001b[39mval_loader)\n",
      "\u001b[1;32m/home/exi/uni/2024/525/project/multi_emotions.ipynb Cell 14\u001b[0m line \u001b[0;36m6\n\u001b[1;32m     <a href='vscode-notebook-cell:/home/exi/uni/2024/525/project/multi_emotions.ipynb#X16sZmlsZQ%3D%3D?line=62'>63</a>\u001b[0m \u001b[39m#track progress\u001b[39;00m\n\u001b[1;32m     <a href='vscode-notebook-cell:/home/exi/uni/2024/525/project/multi_emotions.ipynb#X16sZmlsZQ%3D%3D?line=63'>64</a>\u001b[0m avg_train_loss \u001b[39m=\u001b[39m \u001b[39msum\u001b[39m(running_loss) \u001b[39m/\u001b[39m \u001b[39mlen\u001b[39m(running_loss)\n\u001b[0;32m---> <a href='vscode-notebook-cell:/home/exi/uni/2024/525/project/multi_emotions.ipynb#X16sZmlsZQ%3D%3D?line=64'>65</a>\u001b[0m avg_val_loss \u001b[39m=\u001b[39m get_val_loss(model, criterion, val_loader)\n\u001b[1;32m     <a href='vscode-notebook-cell:/home/exi/uni/2024/525/project/multi_emotions.ipynb#X16sZmlsZQ%3D%3D?line=66'>67</a>\u001b[0m \u001b[39m# clear the list\u001b[39;00m\n\u001b[1;32m     <a href='vscode-notebook-cell:/home/exi/uni/2024/525/project/multi_emotions.ipynb#X16sZmlsZQ%3D%3D?line=67'>68</a>\u001b[0m running_loss\u001b[39m.\u001b[39mclear()\n",
      "\u001b[1;32m/home/exi/uni/2024/525/project/multi_emotions.ipynb Cell 14\u001b[0m line \u001b[0;36m2\n\u001b[1;32m     <a href='vscode-notebook-cell:/home/exi/uni/2024/525/project/multi_emotions.ipynb#X16sZmlsZQ%3D%3D?line=24'>25</a>\u001b[0m testing_loss \u001b[39m=\u001b[39m []\n\u001b[1;32m     <a href='vscode-notebook-cell:/home/exi/uni/2024/525/project/multi_emotions.ipynb#X16sZmlsZQ%3D%3D?line=25'>26</a>\u001b[0m \u001b[39mwith\u001b[39;00m torch\u001b[39m.\u001b[39mno_grad():\n\u001b[0;32m---> <a href='vscode-notebook-cell:/home/exi/uni/2024/525/project/multi_emotions.ipynb#X16sZmlsZQ%3D%3D?line=26'>27</a>\u001b[0m   \u001b[39mfor\u001b[39;49;00m i_batch, sample_batched \u001b[39min\u001b[39;49;00m \u001b[39menumerate\u001b[39;49m(data_loader):\n\u001b[1;32m     <a href='vscode-notebook-cell:/home/exi/uni/2024/525/project/multi_emotions.ipynb#X16sZmlsZQ%3D%3D?line=27'>28</a>\u001b[0m     \u001b[39m# data and labels\u001b[39;49;00m\n\u001b[1;32m     <a href='vscode-notebook-cell:/home/exi/uni/2024/525/project/multi_emotions.ipynb#X16sZmlsZQ%3D%3D?line=28'>29</a>\u001b[0m     inputs, labels \u001b[39m=\u001b[39;49m sample_batched[\u001b[39m0\u001b[39;49m], sample_batched[\u001b[39m1\u001b[39;49m]\n\u001b[1;32m     <a href='vscode-notebook-cell:/home/exi/uni/2024/525/project/multi_emotions.ipynb#X16sZmlsZQ%3D%3D?line=30'>31</a>\u001b[0m    \u001b[39m# inputs, labels = inputs.to(device), labels.to(device)\u001b[39;49;00m\n",
      "File \u001b[0;32m~/programs/lib/python3.11/site-packages/torch/utils/data/dataloader.py:631\u001b[0m, in \u001b[0;36m_BaseDataLoaderIter.__next__\u001b[0;34m(self)\u001b[0m\n\u001b[1;32m    628\u001b[0m \u001b[39mif\u001b[39;00m \u001b[39mself\u001b[39m\u001b[39m.\u001b[39m_sampler_iter \u001b[39mis\u001b[39;00m \u001b[39mNone\u001b[39;00m:\n\u001b[1;32m    629\u001b[0m     \u001b[39m# TODO(https://github.com/pytorch/pytorch/issues/76750)\u001b[39;00m\n\u001b[1;32m    630\u001b[0m     \u001b[39mself\u001b[39m\u001b[39m.\u001b[39m_reset()  \u001b[39m# type: ignore[call-arg]\u001b[39;00m\n\u001b[0;32m--> 631\u001b[0m data \u001b[39m=\u001b[39m \u001b[39mself\u001b[39;49m\u001b[39m.\u001b[39;49m_next_data()\n\u001b[1;32m    632\u001b[0m \u001b[39mself\u001b[39m\u001b[39m.\u001b[39m_num_yielded \u001b[39m+\u001b[39m\u001b[39m=\u001b[39m \u001b[39m1\u001b[39m\n\u001b[1;32m    633\u001b[0m \u001b[39mif\u001b[39;00m \u001b[39mself\u001b[39m\u001b[39m.\u001b[39m_dataset_kind \u001b[39m==\u001b[39m _DatasetKind\u001b[39m.\u001b[39mIterable \u001b[39mand\u001b[39;00m \\\n\u001b[1;32m    634\u001b[0m         \u001b[39mself\u001b[39m\u001b[39m.\u001b[39m_IterableDataset_len_called \u001b[39mis\u001b[39;00m \u001b[39mnot\u001b[39;00m \u001b[39mNone\u001b[39;00m \u001b[39mand\u001b[39;00m \\\n\u001b[1;32m    635\u001b[0m         \u001b[39mself\u001b[39m\u001b[39m.\u001b[39m_num_yielded \u001b[39m>\u001b[39m \u001b[39mself\u001b[39m\u001b[39m.\u001b[39m_IterableDataset_len_called:\n",
      "File \u001b[0;32m~/programs/lib/python3.11/site-packages/torch/utils/data/dataloader.py:675\u001b[0m, in \u001b[0;36m_SingleProcessDataLoaderIter._next_data\u001b[0;34m(self)\u001b[0m\n\u001b[1;32m    673\u001b[0m \u001b[39mdef\u001b[39;00m \u001b[39m_next_data\u001b[39m(\u001b[39mself\u001b[39m):\n\u001b[1;32m    674\u001b[0m     index \u001b[39m=\u001b[39m \u001b[39mself\u001b[39m\u001b[39m.\u001b[39m_next_index()  \u001b[39m# may raise StopIteration\u001b[39;00m\n\u001b[0;32m--> 675\u001b[0m     data \u001b[39m=\u001b[39m \u001b[39mself\u001b[39;49m\u001b[39m.\u001b[39;49m_dataset_fetcher\u001b[39m.\u001b[39;49mfetch(index)  \u001b[39m# may raise StopIteration\u001b[39;00m\n\u001b[1;32m    676\u001b[0m     \u001b[39mif\u001b[39;00m \u001b[39mself\u001b[39m\u001b[39m.\u001b[39m_pin_memory:\n\u001b[1;32m    677\u001b[0m         data \u001b[39m=\u001b[39m _utils\u001b[39m.\u001b[39mpin_memory\u001b[39m.\u001b[39mpin_memory(data, \u001b[39mself\u001b[39m\u001b[39m.\u001b[39m_pin_memory_device)\n",
      "File \u001b[0;32m~/programs/lib/python3.11/site-packages/torch/utils/data/_utils/fetch.py:49\u001b[0m, in \u001b[0;36m_MapDatasetFetcher.fetch\u001b[0;34m(self, possibly_batched_index)\u001b[0m\n\u001b[1;32m     47\u001b[0m \u001b[39mif\u001b[39;00m \u001b[39mself\u001b[39m\u001b[39m.\u001b[39mauto_collation:\n\u001b[1;32m     48\u001b[0m     \u001b[39mif\u001b[39;00m \u001b[39mhasattr\u001b[39m(\u001b[39mself\u001b[39m\u001b[39m.\u001b[39mdataset, \u001b[39m\"\u001b[39m\u001b[39m__getitems__\u001b[39m\u001b[39m\"\u001b[39m) \u001b[39mand\u001b[39;00m \u001b[39mself\u001b[39m\u001b[39m.\u001b[39mdataset\u001b[39m.\u001b[39m__getitems__:\n\u001b[0;32m---> 49\u001b[0m         data \u001b[39m=\u001b[39m \u001b[39mself\u001b[39;49m\u001b[39m.\u001b[39;49mdataset\u001b[39m.\u001b[39;49m__getitems__(possibly_batched_index)\n\u001b[1;32m     50\u001b[0m     \u001b[39melse\u001b[39;00m:\n\u001b[1;32m     51\u001b[0m         data \u001b[39m=\u001b[39m [\u001b[39mself\u001b[39m\u001b[39m.\u001b[39mdataset[idx] \u001b[39mfor\u001b[39;00m idx \u001b[39min\u001b[39;00m possibly_batched_index]\n",
      "File \u001b[0;32m~/programs/lib/python3.11/site-packages/torch/utils/data/dataset.py:399\u001b[0m, in \u001b[0;36mSubset.__getitems__\u001b[0;34m(self, indices)\u001b[0m\n\u001b[1;32m    397\u001b[0m     \u001b[39mreturn\u001b[39;00m \u001b[39mself\u001b[39m\u001b[39m.\u001b[39mdataset\u001b[39m.\u001b[39m__getitems__([\u001b[39mself\u001b[39m\u001b[39m.\u001b[39mindices[idx] \u001b[39mfor\u001b[39;00m idx \u001b[39min\u001b[39;00m indices])  \u001b[39m# type: ignore[attr-defined]\u001b[39;00m\n\u001b[1;32m    398\u001b[0m \u001b[39melse\u001b[39;00m:\n\u001b[0;32m--> 399\u001b[0m     \u001b[39mreturn\u001b[39;00m [\u001b[39mself\u001b[39;49m\u001b[39m.\u001b[39;49mdataset[\u001b[39mself\u001b[39;49m\u001b[39m.\u001b[39;49mindices[idx]] \u001b[39mfor\u001b[39;49;00m idx \u001b[39min\u001b[39;49;00m indices]\n",
      "File \u001b[0;32m~/programs/lib/python3.11/site-packages/torch/utils/data/dataset.py:399\u001b[0m, in \u001b[0;36m<listcomp>\u001b[0;34m(.0)\u001b[0m\n\u001b[1;32m    397\u001b[0m     \u001b[39mreturn\u001b[39;00m \u001b[39mself\u001b[39m\u001b[39m.\u001b[39mdataset\u001b[39m.\u001b[39m__getitems__([\u001b[39mself\u001b[39m\u001b[39m.\u001b[39mindices[idx] \u001b[39mfor\u001b[39;00m idx \u001b[39min\u001b[39;00m indices])  \u001b[39m# type: ignore[attr-defined]\u001b[39;00m\n\u001b[1;32m    398\u001b[0m \u001b[39melse\u001b[39;00m:\n\u001b[0;32m--> 399\u001b[0m     \u001b[39mreturn\u001b[39;00m [\u001b[39mself\u001b[39;49m\u001b[39m.\u001b[39;49mdataset[\u001b[39mself\u001b[39;49m\u001b[39m.\u001b[39;49mindices[idx]] \u001b[39mfor\u001b[39;00m idx \u001b[39min\u001b[39;00m indices]\n",
      "File \u001b[0;32m~/programs/lib/python3.11/site-packages/torchvision/datasets/folder.py:229\u001b[0m, in \u001b[0;36mDatasetFolder.__getitem__\u001b[0;34m(self, index)\u001b[0m\n\u001b[1;32m    221\u001b[0m \u001b[39m\u001b[39m\u001b[39m\"\"\"\u001b[39;00m\n\u001b[1;32m    222\u001b[0m \u001b[39mArgs:\u001b[39;00m\n\u001b[1;32m    223\u001b[0m \u001b[39m    index (int): Index\u001b[39;00m\n\u001b[0;32m   (...)\u001b[0m\n\u001b[1;32m    226\u001b[0m \u001b[39m    tuple: (sample, target) where target is class_index of the target class.\u001b[39;00m\n\u001b[1;32m    227\u001b[0m \u001b[39m\"\"\"\u001b[39;00m\n\u001b[1;32m    228\u001b[0m path, target \u001b[39m=\u001b[39m \u001b[39mself\u001b[39m\u001b[39m.\u001b[39msamples[index]\n\u001b[0;32m--> 229\u001b[0m sample \u001b[39m=\u001b[39m \u001b[39mself\u001b[39;49m\u001b[39m.\u001b[39;49mloader(path)\n\u001b[1;32m    230\u001b[0m \u001b[39mif\u001b[39;00m \u001b[39mself\u001b[39m\u001b[39m.\u001b[39mtransform \u001b[39mis\u001b[39;00m \u001b[39mnot\u001b[39;00m \u001b[39mNone\u001b[39;00m:\n\u001b[1;32m    231\u001b[0m     sample \u001b[39m=\u001b[39m \u001b[39mself\u001b[39m\u001b[39m.\u001b[39mtransform(sample)\n",
      "File \u001b[0;32m~/programs/lib/python3.11/site-packages/torchvision/datasets/folder.py:268\u001b[0m, in \u001b[0;36mdefault_loader\u001b[0;34m(path)\u001b[0m\n\u001b[1;32m    266\u001b[0m     \u001b[39mreturn\u001b[39;00m accimage_loader(path)\n\u001b[1;32m    267\u001b[0m \u001b[39melse\u001b[39;00m:\n\u001b[0;32m--> 268\u001b[0m     \u001b[39mreturn\u001b[39;00m pil_loader(path)\n",
      "File \u001b[0;32m~/programs/lib/python3.11/site-packages/torchvision/datasets/folder.py:248\u001b[0m, in \u001b[0;36mpil_loader\u001b[0;34m(path)\u001b[0m\n\u001b[1;32m    246\u001b[0m \u001b[39mwith\u001b[39;00m \u001b[39mopen\u001b[39m(path, \u001b[39m\"\u001b[39m\u001b[39mrb\u001b[39m\u001b[39m\"\u001b[39m) \u001b[39mas\u001b[39;00m f:\n\u001b[1;32m    247\u001b[0m     img \u001b[39m=\u001b[39m Image\u001b[39m.\u001b[39mopen(f)\n\u001b[0;32m--> 248\u001b[0m     \u001b[39mreturn\u001b[39;00m img\u001b[39m.\u001b[39;49mconvert(\u001b[39m\"\u001b[39;49m\u001b[39mRGB\u001b[39;49m\u001b[39m\"\u001b[39;49m)\n",
      "File \u001b[0;32m~/programs/lib/python3.11/site-packages/PIL/Image.py:911\u001b[0m, in \u001b[0;36mImage.convert\u001b[0;34m(self, mode, matrix, dither, palette, colors)\u001b[0m\n\u001b[1;32m    863\u001b[0m \u001b[39mdef\u001b[39;00m \u001b[39mconvert\u001b[39m(\n\u001b[1;32m    864\u001b[0m     \u001b[39mself\u001b[39m, mode\u001b[39m=\u001b[39m\u001b[39mNone\u001b[39;00m, matrix\u001b[39m=\u001b[39m\u001b[39mNone\u001b[39;00m, dither\u001b[39m=\u001b[39m\u001b[39mNone\u001b[39;00m, palette\u001b[39m=\u001b[39mPalette\u001b[39m.\u001b[39mWEB, colors\u001b[39m=\u001b[39m\u001b[39m256\u001b[39m\n\u001b[1;32m    865\u001b[0m ):\n\u001b[1;32m    866\u001b[0m \u001b[39m    \u001b[39m\u001b[39m\"\"\"\u001b[39;00m\n\u001b[1;32m    867\u001b[0m \u001b[39m    Returns a converted copy of this image. For the \"P\" mode, this\u001b[39;00m\n\u001b[1;32m    868\u001b[0m \u001b[39m    method translates pixels through the palette.  If mode is\u001b[39;00m\n\u001b[0;32m   (...)\u001b[0m\n\u001b[1;32m    908\u001b[0m \u001b[39m    :returns: An :py:class:`~PIL.Image.Image` object.\u001b[39;00m\n\u001b[1;32m    909\u001b[0m \u001b[39m    \"\"\"\u001b[39;00m\n\u001b[0;32m--> 911\u001b[0m     \u001b[39mself\u001b[39;49m\u001b[39m.\u001b[39;49mload()\n\u001b[1;32m    913\u001b[0m     has_transparency \u001b[39m=\u001b[39m \u001b[39mself\u001b[39m\u001b[39m.\u001b[39minfo\u001b[39m.\u001b[39mget(\u001b[39m\"\u001b[39m\u001b[39mtransparency\u001b[39m\u001b[39m\"\u001b[39m) \u001b[39mis\u001b[39;00m \u001b[39mnot\u001b[39;00m \u001b[39mNone\u001b[39;00m\n\u001b[1;32m    914\u001b[0m     \u001b[39mif\u001b[39;00m \u001b[39mnot\u001b[39;00m mode \u001b[39mand\u001b[39;00m \u001b[39mself\u001b[39m\u001b[39m.\u001b[39mmode \u001b[39m==\u001b[39m \u001b[39m\"\u001b[39m\u001b[39mP\u001b[39m\u001b[39m\"\u001b[39m:\n\u001b[1;32m    915\u001b[0m         \u001b[39m# determine default mode\u001b[39;00m\n",
      "File \u001b[0;32m~/programs/lib/python3.11/site-packages/PIL/ImageFile.py:269\u001b[0m, in \u001b[0;36mImageFile.load\u001b[0;34m(self)\u001b[0m\n\u001b[1;32m    266\u001b[0m         \u001b[39mraise\u001b[39;00m \u001b[39mOSError\u001b[39;00m(msg)\n\u001b[1;32m    268\u001b[0m b \u001b[39m=\u001b[39m b \u001b[39m+\u001b[39m s\n\u001b[0;32m--> 269\u001b[0m n, err_code \u001b[39m=\u001b[39m decoder\u001b[39m.\u001b[39;49mdecode(b)\n\u001b[1;32m    270\u001b[0m \u001b[39mif\u001b[39;00m n \u001b[39m<\u001b[39m \u001b[39m0\u001b[39m:\n\u001b[1;32m    271\u001b[0m     \u001b[39mbreak\u001b[39;00m\n",
      "\u001b[0;31mKeyboardInterrupt\u001b[0m: "
     ]
    }
   ],
   "source": [
    "run_name = \"sgd\"\n",
    "# How many epochs before saving progress\n",
    "checkpoint_interval = 10\n",
    "# Learning rate\n",
    "learning_rate = 0.005\n",
    "# L2 Normalization lambda\n",
    "weight_decay = 0.01\n",
    "# Momentum\n",
    "momentum = 0.9\n",
    "# Nesterov?\n",
    "nesterov = False\n",
    "\n",
    "# With a batch size of 64, need 198 epochs to get to 2,000 iterations\n",
    "Num_Epochs = 40\n",
    "# Num_Epochs = 40\n",
    "\n",
    "\n",
    "#################################################\n",
    "# Create network architecture\n",
    "model = ConvNetWithoutDropout(len(data.classes))\n",
    "\n",
    "# Initialize model weights\n",
    "model.apply(init_weights)\n",
    "\n",
    "## Loss, and optimizer\n",
    "criterion = nn.CrossEntropyLoss()\n",
    "# criterion = nn.CrossEntropyLoss()\n",
    "optimizer = optim.SGD(model.parameters(), lr=learning_rate, weight_decay=weight_decay, momentum=momentum, nesterov=nesterov)\n",
    "\n",
    "\n",
    "#################################################\n",
    "# Train model\n",
    "\n",
    "model_final, trainloss, valloss = train_model(train_loader=train_loader, val_loader=val_loader, model=model, save=False,\n",
    "                                           criterion=criterion, optimizer=optimizer, Num_Epochs=Num_Epochs, checkpoint_interval=checkpoint_interval, run_name=run_name)\n",
    "\n",
    "tr_acc = get_accuracy(net=model_final, data_loader=train_loader)\n",
    "val_acc = get_accuracy(net=model_final, data_loader=val_loader)\n",
    "print(f\"Accuracy: Train: {tr_acc:.3f} | Val: {val_acc:0.3f}\" )\n",
    "\n",
    "plt.figure()\n",
    "plt.plot(trainloss, '-b')\n",
    "plt.plot(valloss, '-r')\n",
    "plt.ioff()\n",
    "plt.ylabel('Loss')\n",
    "plt.xlabel(\"Epoch\")\n",
    "plt.legend([\"Training\", \"Validation\"])\n",
    "plt.title(f\"4 Layer Model\")\n",
    "plt.show()"
   ]
  },
  {
   "cell_type": "markdown",
   "metadata": {},
   "source": [
    "Regularization Testing"
   ]
  },
  {
   "cell_type": "code",
   "execution_count": null,
   "metadata": {},
   "outputs": [
    {
     "name": "stderr",
     "output_type": "stream",
     "text": [
      "/tmp/ipykernel_3111/1099974826.py:5: UserWarning: nn.init.xavier_uniform is now deprecated in favor of nn.init.xavier_uniform_.\n",
      "  torch.nn.init.xavier_uniform(m.weight)\n"
     ]
    },
    {
     "name": "stdout",
     "output_type": "stream",
     "text": [
      "[E= 9] [it= 2070] Train Loss: 1.093, Test Loss: 1.314\n",
      "[E=19] [it= 4140] Train Loss: 0.685, Test Loss: 1.741\n",
      "[E=29] [it= 6210] Train Loss: 0.438, Test Loss: 2.429\n",
      "[E=39] [it= 8280] Train Loss: 0.218, Test Loss: 3.608\n",
      "Accuracy: Train: 0.889 | Val: 0.356\n",
      "[E= 9] [it= 2070] Train Loss: 1.097, Test Loss: 1.350\n",
      "[E=19] [it= 4140] Train Loss: 0.766, Test Loss: 1.796\n",
      "[E=29] [it= 6210] Train Loss: 0.351, Test Loss: 2.266\n",
      "[E=39] [it= 8280] Train Loss: 0.115, Test Loss: 2.756\n",
      "Accuracy: Train: 0.981 | Val: 0.467\n",
      "[E= 9] [it= 2070] Train Loss: 1.176, Test Loss: 1.376\n",
      "[E=19] [it= 4140] Train Loss: 0.858, Test Loss: 1.563\n",
      "[E=29] [it= 6210] Train Loss: 0.587, Test Loss: 1.623\n",
      "[E=39] [it= 8280] Train Loss: 0.328, Test Loss: 2.106\n",
      "Accuracy: Train: 0.899 | Val: 0.411\n",
      "[E= 9] [it= 2070] Train Loss: 1.315, Test Loss: 1.372\n",
      "[E=19] [it= 4140] Train Loss: 1.277, Test Loss: 1.385\n",
      "[E=29] [it= 6210] Train Loss: 1.260, Test Loss: 1.400\n",
      "[E=39] [it= 8280] Train Loss: 1.272, Test Loss: 1.353\n",
      "Accuracy: Train: 0.386 | Val: 0.389\n"
     ]
    }
   ],
   "source": [
    "# Run name\n",
    "run_name = \"sgd_w_mom\"\n",
    "\n",
    "##############################################\n",
    "# Hyperparameters and training configuration\n",
    "\n",
    "# How many epochs before saving progress\n",
    "checkpoint_interval = 10\n",
    "# Learning rate\n",
    "learning_rate = 0.0005\n",
    "# L2 Normalization lambda\n",
    "weight_decays = [0, 0.001, 0.01, 0.1]\n",
    "# Momentum\n",
    "momentum = 0.9\n",
    "# Nesterov?\n",
    "nesterov = False\n",
    "#Number of epochs\n",
    "Num_Epochs = 40\n",
    "\n",
    "\n",
    "# Define layer sizes\n",
    "#layer_size = [input_size, 2*input_size, input_size, input_size//2, 1]\n",
    "trainlosses = []\n",
    "vallosses = []\n",
    "for weight_decay in weight_decays:\n",
    "    #################################################\n",
    "    # Create network architecture\n",
    "    model = ConvNetWithoutDropout(len(data.classes))\n",
    "\n",
    "    # Initialize model weights\n",
    "    model.apply(init_weights)\n",
    "\n",
    "    ## Loss, and optimizer\n",
    "    criterion = nn.CrossEntropyLoss()\n",
    "    optimizer = optim.SGD(model.parameters(), lr=learning_rate, weight_decay=weight_decay, momentum=momentum, nesterov=nesterov)\n",
    "\n",
    "\n",
    "    #################################################\n",
    "    # Train model\n",
    "    model_final, trainloss, valloss = train_model(train_loader=train_loader, val_loader=val_loader, model=model, save=False,\n",
    "                                            criterion=criterion, optimizer=optimizer, Num_Epochs=Num_Epochs, checkpoint_interval=checkpoint_interval, run_name=run_name)\n",
    "\n",
    "    # Output model performance\n",
    "    tr_acc = get_accuracy(net=model_final, data_loader=train_loader)\n",
    "    val_acc = get_accuracy(net=model_final, data_loader=val_loader)\n",
    "    print(f\"Accuracy: Train: {tr_acc:.3f} | Val: {val_acc:0.3f}\" )\n",
    "    trainlosses.append(trainloss)\n",
    "    vallosses.append(valloss)\n",
    "    "
   ]
  },
  {
   "cell_type": "code",
   "execution_count": null,
   "metadata": {},
   "outputs": [
    {
     "name": "stderr",
     "output_type": "stream",
     "text": [
      "/tmp/ipykernel_3111/1423120969.py:9: UserWarning: Legend does not support handles for str instances.\n",
      "A proxy artist may be used instead.\n",
      "See: https://matplotlib.org/stable/users/explain/axes/legend_guide.html#controlling-the-legend-entries\n",
      "  plt.legend(\"Training\", \"Validation\")\n"
     ]
    },
    {
     "data": {
      "image/png": "[encoded data removed]",
      "text/plain": [
       "<Figure size 640x480 with 1 Axes>"
      ]
     },
     "metadata": {},
     "output_type": "display_data"
    },
    {
     "data": {
      "image/png": "[encoded data removed]",
      "text/plain": [
       "<Figure size 640x480 with 1 Axes>"
      ]
     },
     "metadata": {},
     "output_type": "display_data"
    },
    {
     "data": {
      "image/png": "[encoded data removed]",
      "text/plain": [
       "<Figure size 640x480 with 1 Axes>"
      ]
     },
     "metadata": {},
     "output_type": "display_data"
    },
    {
     "data": {
      "image/png": "[encoded data removed]",
      "text/plain": [
       "<Figure size 640x480 with 1 Axes>"
      ]
     },
     "metadata": {},
     "output_type": "display_data"
    }
   ],
   "source": [
    "for trainloss, valloss, decay in zip(trainlosses, vallosses, weight_decays):\n",
    "# Plot training and validation loss\n",
    "    plt.figure()\n",
    "    plt.plot(trainloss, '-b')\n",
    "    plt.plot(valloss, '-r')\n",
    "    plt.ioff()\n",
    "    plt.ylabel('Loss')\n",
    "    plt.xlabel(\"Epoch\")\n",
    "    plt.legend(\"Training\", \"Validation\")\n",
    "    plt.title(f\"Weight decay of {decay}\")\n",
    "    plt.show()"
   ]
  },
  {
   "cell_type": "markdown",
   "metadata": {},
   "source": [
    "Optimization"
   ]
  },
  {
   "cell_type": "markdown",
   "metadata": {},
   "source": [
    "SGD with momentum"
   ]
  },
  {
   "cell_type": "code",
   "execution_count": null,
   "metadata": {},
   "outputs": [
    {
     "name": "stderr",
     "output_type": "stream",
     "text": [
      "/tmp/ipykernel_3111/1099974826.py:5: UserWarning: nn.init.xavier_uniform is now deprecated in favor of nn.init.xavier_uniform_.\n",
      "  torch.nn.init.xavier_uniform(m.weight)\n"
     ]
    },
    {
     "name": "stdout",
     "output_type": "stream",
     "text": [
      "[E= 9] [it= 2070] Train Loss: 1.295, Test Loss: 1.367\n",
      "[E=19] [it= 4140] Train Loss: 1.173, Test Loss: 1.345\n",
      "[E=29] [it= 6210] Train Loss: 1.191, Test Loss: 1.394\n",
      "[E=39] [it= 8280] Train Loss: 0.983, Test Loss: 1.415\n",
      "Accuracy: Train: 0.662 | Val: 0.433\n"
     ]
    }
   ],
   "source": [
    "# How many epochs before saving progress\n",
    "checkpoint_interval = 10\n",
    "# Learning rate\n",
    "learning_rate = 0.005\n",
    "# L2 Normalization lambda\n",
    "weight_decay = 0.01\n",
    "# Momentum\n",
    "momentum = 0.9\n",
    "# Nesterov?\n",
    "nesterov = False\n",
    "\n",
    "# With a batch size of 64, need 198 epochs to get to 2,000 iterations\n",
    "Num_Epochs = 40\n",
    "\n",
    "\n",
    "#################################################\n",
    "# Create network architecture\n",
    "model = ConvNetWithoutDropout(len(data.classes))\n",
    "\n",
    "# Initialize model weights\n",
    "model.apply(init_weights)\n",
    "\n",
    "## Loss, and optimizer\n",
    "criterion = nn.CrossEntropyLoss()\n",
    "optimizer = optim.SGD(model.parameters(), lr=learning_rate, weight_decay=weight_decay, momentum=momentum, nesterov=nesterov)\n",
    "\n",
    "\n",
    "#################################################\n",
    "# Train model\n",
    "\n",
    "model_final, trainloss, valloss = train_model(train_loader=train_loader, val_loader=val_loader, model=model, save=False,\n",
    "                                           criterion=criterion, optimizer=optimizer, Num_Epochs=Num_Epochs, checkpoint_interval=checkpoint_interval, run_name=run_name)\n",
    "\n",
    "tr_acc = get_accuracy(net=model_final, data_loader=train_loader)\n",
    "val_acc = get_accuracy(net=model_final, data_loader=val_loader)\n",
    "print(f\"Accuracy: Train: {tr_acc:.3f} | Val: {val_acc:0.3f}\" )"
   ]
  },
  {
   "cell_type": "code",
   "execution_count": null,
   "metadata": {},
   "outputs": [
    {
     "data": {
      "image/png": "[encoded data removed]",
      "text/plain": [
       "<Figure size 640x480 with 1 Axes>"
      ]
     },
     "metadata": {},
     "output_type": "display_data"
    }
   ],
   "source": [
    "plt.figure()\n",
    "plt.plot(trainloss, '-b')\n",
    "plt.plot(valloss, '-r')\n",
    "plt.ioff()\n",
    "plt.ylabel('Loss')\n",
    "plt.xlabel(\"Epoch\")\n",
    "plt.legend([\"Training\", \"Validation\"])\n",
    "plt.title(f\"SGD w/ Momentum\")\n",
    "plt.show()"
   ]
  },
  {
   "cell_type": "markdown",
   "metadata": {},
   "source": [
    "Nesterov"
   ]
  },
  {
   "cell_type": "code",
   "execution_count": null,
   "metadata": {},
   "outputs": [],
   "source": [
    "nesterov = True"
   ]
  },
  {
   "cell_type": "code",
   "execution_count": null,
   "metadata": {},
   "outputs": [
    {
     "name": "stderr",
     "output_type": "stream",
     "text": [
      "/tmp/ipykernel_3111/1099974826.py:5: UserWarning: nn.init.xavier_uniform is now deprecated in favor of nn.init.xavier_uniform_.\n",
      "  torch.nn.init.xavier_uniform(m.weight)\n"
     ]
    },
    {
     "name": "stdout",
     "output_type": "stream",
     "text": [
      "[E= 9] [it= 2070] Train Loss: 1.264, Test Loss: 1.399\n",
      "[E=19] [it= 4140] Train Loss: 1.291, Test Loss: 1.427\n",
      "[E=29] [it= 6210] Train Loss: 1.123, Test Loss: 1.479\n",
      "[E=39] [it= 8280] Train Loss: 1.175, Test Loss: 1.653\n",
      "Accuracy: Train: 0.522 | Val: 0.411\n"
     ]
    }
   ],
   "source": [
    "\n",
    "#################################################\n",
    "# Create network architecture\n",
    "model = ConvNetWithoutDropout(len(data.classes))\n",
    "\n",
    "# Initialize model weights\n",
    "model.apply(init_weights)\n",
    "\n",
    "## Loss, and optimizer\n",
    "criterion = nn.CrossEntropyLoss()\n",
    "optimizer = optim.SGD(model.parameters(), lr=learning_rate, weight_decay=weight_decay, momentum=momentum, nesterov=nesterov)\n",
    "\n",
    "\n",
    "#################################################\n",
    "# Train model\n",
    "\n",
    "model_final, trainloss, valloss = train_model(train_loader=train_loader, val_loader=val_loader, model=model, save=False,\n",
    "                                           criterion=criterion, optimizer=optimizer, Num_Epochs=Num_Epochs, checkpoint_interval=checkpoint_interval, run_name=run_name)\n",
    "tr_acc = get_accuracy(net=model_final, data_loader=train_loader)\n",
    "val_acc = get_accuracy(net=model_final, data_loader=val_loader)\n",
    "print(f\"Accuracy: Train: {tr_acc:.3f} | Val: {val_acc:0.3f}\" )"
   ]
  },
  {
   "cell_type": "code",
   "execution_count": null,
   "metadata": {},
   "outputs": [
    {
     "data": {
      "image/png": "[encoded data removed]",
      "text/plain": [
       "<Figure size 640x480 with 1 Axes>"
      ]
     },
     "metadata": {},
     "output_type": "display_data"
    }
   ],
   "source": [
    "plt.figure()\n",
    "plt.plot(trainloss, '-b')\n",
    "plt.plot(valloss, '-r')\n",
    "plt.ioff()\n",
    "plt.ylabel('Loss')\n",
    "plt.xlabel(\"Epoch\")\n",
    "plt.legend([\"Training\", \"Validation\"])\n",
    "plt.title(f\"Nesterov\")\n",
    "plt.show()"
   ]
  },
  {
   "cell_type": "markdown",
   "metadata": {},
   "source": [
    "ADAM"
   ]
  },
  {
   "cell_type": "code",
   "execution_count": null,
   "metadata": {},
   "outputs": [],
   "source": [
    "betas = (0.0583756, 0.0003968)\n",
    "# How many epochs before saving progress\n",
    "checkpoint_interval = 10\n",
    "# Learning rate\n",
    "learning_rate = 0.04325696\n",
    "# L2 Normalization lambda\n",
    "weight_decay = 0.03090098\n",
    "# Momentum\n",
    "momentum = 0.9\n",
    "# Nesterov?\n",
    "nesterov = False\n",
    "\n",
    "train_loader = torch.utils.data.DataLoader(dataset=splits[1], shuffle=True, num_workers=0,\n",
    "                                           batch_size=2, drop_last=True)\n",
    "val_loader = torch.utils.data.DataLoader(dataset=splits[0], shuffle=True, num_workers=0,\n",
    "                                           batch_size=1, drop_last=True)"
   ]
  },
  {
   "cell_type": "code",
   "execution_count": null,
   "metadata": {},
   "outputs": [
    {
     "name": "stderr",
     "output_type": "stream",
     "text": [
      "/tmp/ipykernel_3111/1099974826.py:5: UserWarning: nn.init.xavier_uniform is now deprecated in favor of nn.init.xavier_uniform_.\n",
      "  torch.nn.init.xavier_uniform(m.weight)\n"
     ]
    },
    {
     "name": "stdout",
     "output_type": "stream",
     "text": [
      "[E= 9] [it= 1030] Train Loss: 12.746, Test Loss: 4.618\n",
      "[E=19] [it= 2060] Train Loss: 11.254, Test Loss: 1.620\n",
      "[E=29] [it= 3090] Train Loss: 4.797, Test Loss: 1.599\n",
      "[E=39] [it= 4120] Train Loss: 12.233, Test Loss: 4.675\n",
      "Accuracy: Train: 0.379 | Val: 0.356\n"
     ]
    }
   ],
   "source": [
    "\n",
    "#################################################\n",
    "# Create network architecture\n",
    "model = ConvNetWithoutDropout(len(data.classes))\n",
    "\n",
    "# Initialize model weights\n",
    "model.apply(init_weights)\n",
    "\n",
    "## Loss, and optimizer\n",
    "criterion = nn.CrossEntropyLoss()\n",
    "optimizer = optim.Adam(model.parameters(), lr=learning_rate, weight_decay=weight_decay, betas=betas)\n",
    "\n",
    "\n",
    "#################################################\n",
    "# Train model\n",
    "\n",
    "model_final, trainloss, valloss = train_model(train_loader=train_loader, val_loader=val_loader, model=model, save=False,\n",
    "                                           criterion=criterion, optimizer=optimizer, Num_Epochs=Num_Epochs, checkpoint_interval=checkpoint_interval, run_name=run_name)\n",
    "tr_acc = get_accuracy(net=model_final, data_loader=train_loader)\n",
    "val_acc = get_accuracy(net=model_final, data_loader=val_loader)\n",
    "print(f\"Accuracy: Train: {tr_acc:.3f} | Val: {val_acc:0.3f}\" )"
   ]
  },
  {
   "cell_type": "code",
   "execution_count": null,
   "metadata": {},
   "outputs": [
    {
     "data": {
      "image/png": "[encoded data removed]",
      "text/plain": [
       "<Figure size 640x480 with 1 Axes>"
      ]
     },
     "metadata": {},
     "output_type": "display_data"
    }
   ],
   "source": [
    "plt.figure()\n",
    "plt.plot(trainloss, '-b')\n",
    "plt.plot(valloss, '-r')\n",
    "plt.ioff()\n",
    "plt.ylabel('Loss')\n",
    "plt.xlabel(\"Epoch\")\n",
    "plt.legend([\"Training\", \"Validation\"])\n",
    "plt.title(f\"ADAM\")\n",
    "plt.show()"
   ]
  },
  {
   "cell_type": "markdown",
   "metadata": {},
   "source": [
    "NADAM"
   ]
  },
  {
   "cell_type": "code",
   "execution_count": null,
   "metadata": {},
   "outputs": [
    {
     "name": "stderr",
     "output_type": "stream",
     "text": [
      "/tmp/ipykernel_3111/1099974826.py:5: UserWarning: nn.init.xavier_uniform is now deprecated in favor of nn.init.xavier_uniform_.\n",
      "  torch.nn.init.xavier_uniform(m.weight)\n"
     ]
    },
    {
     "name": "stdout",
     "output_type": "stream",
     "text": [
      "[E= 9] [it= 1030] Train Loss: 5.144, Test Loss: 5.451\n",
      "[E=19] [it= 2060] Train Loss: 6.662, Test Loss: 1.987\n",
      "[E=29] [it= 3090] Train Loss: 4.659, Test Loss: 79.020\n",
      "[E=39] [it= 4120] Train Loss: 6.331, Test Loss: 1.629\n",
      "Accuracy: Train: 0.374 | Val: 0.356\n"
     ]
    }
   ],
   "source": [
    "\n",
    "#################################################\n",
    "# Create network architecture\n",
    "model = ConvNetWithoutDropout(len(data.classes))\n",
    "\n",
    "# Initialize model weights\n",
    "model.apply(init_weights)\n",
    "\n",
    "## Loss, and optimizer\n",
    "criterion = nn.CrossEntropyLoss()\n",
    "optimizer = optim.NAdam(model.parameters(), lr=learning_rate, weight_decay=weight_decay, betas=betas)\n",
    "\n",
    "\n",
    "#################################################\n",
    "# Train model\n",
    "\n",
    "model_final, trainloss, valloss = train_model(train_loader=train_loader, val_loader=val_loader, model=model, save=False,\n",
    "                                           criterion=criterion, optimizer=optimizer, Num_Epochs=Num_Epochs, checkpoint_interval=checkpoint_interval, run_name=run_name)\n",
    "tr_acc = get_accuracy(net=model_final, data_loader=train_loader)\n",
    "val_acc = get_accuracy(net=model_final, data_loader=val_loader)\n",
    "print(f\"Accuracy: Train: {tr_acc:.3f} | Val: {val_acc:0.3f}\" )"
   ]
  },
  {
   "cell_type": "code",
   "execution_count": null,
   "metadata": {},
   "outputs": [
    {
     "data": {
      "image/png": "[encoded data removed]",
      "text/plain": [
       "<Figure size 640x480 with 1 Axes>"
      ]
     },
     "metadata": {},
     "output_type": "display_data"
    }
   ],
   "source": [
    "plt.figure()\n",
    "plt.plot(trainloss, '-b')\n",
    "plt.plot(valloss, '-r')\n",
    "plt.ioff()\n",
    "plt.ylabel('Loss')\n",
    "plt.xlabel(\"Epoch\")\n",
    "plt.legend([\"Training\", \"Validation\"])\n",
    "plt.title(f\"NADAM\")\n",
    "plt.show()"
   ]
  },
  {
   "cell_type": "markdown",
   "metadata": {},
   "source": [
    "Convolutional Nettwork with Dropout Masks"
   ]
  },
  {
   "cell_type": "code",
   "execution_count": 83,
   "metadata": {},
   "outputs": [
    {
     "name": "stdout",
     "output_type": "stream",
     "text": [
      "ConvNetWithoutDropout(\n",
      "  (conv1): Conv2d(1, 6, kernel_size=(3, 3), stride=(1, 1), padding=(1, 1))\n",
      "  (conv2): Conv2d(6, 16, kernel_size=(3, 3), stride=(1, 1), padding=(1, 1))\n",
      "  (fc1): Linear(in_features=4096, out_features=128, bias=True)\n",
      "  (fc2): Linear(in_features=128, out_features=64, bias=True)\n",
      "  (fc3): Linear(in_features=64, out_features=6, bias=True)\n",
      ")\n"
     ]
    }
   ],
   "source": [
    "class ConvNetWithDropout(nn.Module):\n",
    "\n",
    "  # define network layers\n",
    "  def __init__(self, data_len):\n",
    "    super().__init__()\n",
    "    # 1 input image channel, 6 output channels, 5x5 square convolution\n",
    "    # kernel\n",
    "    self.conv1 = nn.Conv2d(1, 6, 3, padding=1)\n",
    "    self.conv2 = nn.Conv2d(6, 16, 3, padding=1)\n",
    "    # an affine operation: y = Wx + b\n",
    "    self.fc1 = nn.Linear(4096, 128)  # 5*5 from image dimension\n",
    "    self.fc2 = nn.Linear(128, 64)\n",
    "    self.fc3 = nn.Linear(64, data_len)\n",
    "\n",
    "    self.dc2 = nn.Dropout(0.5)\n",
    "    self.dc3 = nn.Dropout(0.5)\n",
    "\n",
    "\n",
    "  # define forward pass\n",
    "  def forward(self, x):\n",
    "    # Max pooling over a (2, 2) window\n",
    "    x = F.max_pool2d(F.relu(self.conv1(x)), (2, 2))\n",
    "    # If the size is a square, you can specify with a single number\n",
    "    x = F.max_pool2d(F.relu(self.conv2(x)), 2)\n",
    "    x = torch.flatten(x, 1) # flatten all dimensions except the batch dimension\n",
    "    x = self.dc2(F.relu(self.fc1(x)))\n",
    "    x = self.dc3(F.relu(self.fc2(x)))\n",
    "    x = self.fc3(x)\n",
    "    return x\n",
    "\n",
    "#################################################\n",
    "## Create network\n",
    "model = ConvNetWithoutDropout(len(data.classes))\n",
    "#Print model architecture\n",
    "print(model)"
   ]
  },
  {
   "cell_type": "code",
   "execution_count": 84,
   "metadata": {},
   "outputs": [
    {
     "name": "stderr",
     "output_type": "stream",
     "text": [
      "/tmp/ipykernel_3111/1099974826.py:5: UserWarning: nn.init.xavier_uniform is now deprecated in favor of nn.init.xavier_uniform_.\n",
      "  torch.nn.init.xavier_uniform(m.weight)\n"
     ]
    },
    {
     "name": "stdout",
     "output_type": "stream",
     "text": [
      "[E= 9] [it= 1030] Train Loss: 1.319, Test Loss: 1.470\n",
      "[E=19] [it= 2060] Train Loss: 1.401, Test Loss: 1.445\n",
      "[E=29] [it= 3090] Train Loss: 1.395, Test Loss: 1.430\n",
      "[E=39] [it= 4120] Train Loss: 1.408, Test Loss: 1.448\n",
      "Accuracy: Train: 0.354 | Val: 0.356\n"
     ]
    },
    {
     "data": {
      "image/png": "[encoded data removed]",
      "text/plain": [
       "<Figure size 640x480 with 1 Axes>"
      ]
     },
     "metadata": {},
     "output_type": "display_data"
    }
   ],
   "source": [
    "run_name = \"sgd\"\n",
    "# How many epochs before saving progress\n",
    "checkpoint_interval = 10\n",
    "# Learning rate\n",
    "learning_rate = 0.005\n",
    "# L2 Normalization lambda\n",
    "weight_decay = 0.01\n",
    "# Momentum\n",
    "momentum = 0.9\n",
    "# Nesterov?\n",
    "nesterov = False\n",
    "\n",
    "# With a batch size of 64, need 198 epochs to get to 2,000 iterations\n",
    "Num_Epochs = 40\n",
    "\n",
    "\n",
    "#################################################\n",
    "# Create network architecture\n",
    "model = ConvNetWithDropout(len(data.classes))\n",
    "\n",
    "# Initialize model weights\n",
    "model.apply(init_weights)\n",
    "\n",
    "## Loss, and optimizer\n",
    "criterion = nn.CrossEntropyLoss()\n",
    "optimizer = optim.SGD(model.parameters(), lr=learning_rate, weight_decay=weight_decay, momentum=momentum, nesterov=nesterov)\n",
    "\n",
    "\n",
    "#################################################\n",
    "# Train model\n",
    "\n",
    "model_final, trainloss, valloss = train_model(train_loader=train_loader, val_loader=val_loader, model=model, save=False,\n",
    "                                           criterion=criterion, optimizer=optimizer, Num_Epochs=Num_Epochs, checkpoint_interval=checkpoint_interval, run_name=run_name)\n",
    "\n",
    "tr_acc = get_accuracy(net=model_final, data_loader=train_loader)\n",
    "val_acc = get_accuracy(net=model_final, data_loader=val_loader)\n",
    "print(f\"Accuracy: Train: {tr_acc:.3f} | Val: {val_acc:0.3f}\" )\n",
    "\n",
    "plt.figure()\n",
    "plt.plot(trainloss, '-b')\n",
    "plt.plot(valloss, '-r')\n",
    "plt.ioff()\n",
    "plt.ylabel('Loss')\n",
    "plt.xlabel(\"Epoch\")\n",
    "plt.legend([\"Training\", \"Validation\"])\n",
    "plt.title(f\"Convolutional Model w/ Dropout\")\n",
    "plt.show()"
   ]
  },
  {
   "cell_type": "code",
   "execution_count": 85,
   "metadata": {},
   "outputs": [
    {
     "name": "stderr",
     "output_type": "stream",
     "text": [
      "[I 2024-05-05 17:33:02,399] A new study created in memory with name: SGD-Binary-Art\n",
      "/tmp/ipykernel_3111/1099974826.py:5: UserWarning: nn.init.xavier_uniform is now deprecated in favor of nn.init.xavier_uniform_.\n",
      "  torch.nn.init.xavier_uniform(m.weight)\n"
     ]
    },
    {
     "name": "stdout",
     "output_type": "stream",
     "text": [
      "[E= 9] [it= 2070] Train Loss: 1.233, Test Loss: 1.351\n",
      "[E=19] [it= 4140] Train Loss: 1.142, Test Loss: 1.291\n"
     ]
    },
    {
     "name": "stderr",
     "output_type": "stream",
     "text": [
      "[I 2024-05-05 17:34:13,046] Trial 0 finished with value: 0.43333333333333335 and parameters: {'lr': 5.454215249453866e-05, 'L2': 8.357654902965982e-05, 'batch_size': 1, 'nesterov': True}. Best is trial 0 with value: 0.43333333333333335.\n"
     ]
    },
    {
     "name": "stdout",
     "output_type": "stream",
     "text": [
      "Accuracy: Train: 0.469 | Val: 0.433\n",
      "[E= 9] [it=  510] Train Loss: 1.192, Test Loss: 1.548\n",
      "[E=19] [it= 1020] Train Loss: 0.907, Test Loss: 1.526\n"
     ]
    },
    {
     "name": "stderr",
     "output_type": "stream",
     "text": [
      "[I 2024-05-05 17:35:10,126] Trial 1 finished with value: 0.4444444444444444 and parameters: {'lr': 0.0011981718758060573, 'L2': 1.3332532939287023e-05, 'batch_size': 4, 'nesterov': False}. Best is trial 1 with value: 0.4444444444444444.\n"
     ]
    },
    {
     "name": "stdout",
     "output_type": "stream",
     "text": [
      "Accuracy: Train: 0.623 | Val: 0.444\n",
      "[E= 9] [it=  250] Train Loss: 1.241, Test Loss: 1.360\n",
      "[E=19] [it=  500] Train Loss: 1.104, Test Loss: 1.397\n"
     ]
    },
    {
     "name": "stderr",
     "output_type": "stream",
     "text": [
      "[I 2024-05-05 17:36:02,923] Trial 2 finished with value: 0.4222222222222222 and parameters: {'lr': 0.0008982301869161233, 'L2': 0.0011830362587213973, 'batch_size': 8, 'nesterov': False}. Best is trial 1 with value: 0.4444444444444444.\n"
     ]
    },
    {
     "name": "stdout",
     "output_type": "stream",
     "text": [
      "Accuracy: Train: 0.465 | Val: 0.422\n",
      "[E= 9] [it=  250] Train Loss: 1.207, Test Loss: 1.468\n",
      "[E=19] [it=  500] Train Loss: 1.172, Test Loss: 1.377\n"
     ]
    },
    {
     "name": "stderr",
     "output_type": "stream",
     "text": [
      "[I 2024-05-05 17:36:56,753] Trial 3 finished with value: 0.35555555555555557 and parameters: {'lr': 0.034546881208723526, 'L2': 0.0072298853045590665, 'batch_size': 8, 'nesterov': False}. Best is trial 1 with value: 0.4444444444444444.\n"
     ]
    },
    {
     "name": "stdout",
     "output_type": "stream",
     "text": [
      "Accuracy: Train: 0.500 | Val: 0.356\n",
      "[E= 9] [it= 2070] Train Loss: 1.197, Test Loss: 1.302\n",
      "[E=19] [it= 4140] Train Loss: 0.981, Test Loss: 1.442\n"
     ]
    },
    {
     "name": "stderr",
     "output_type": "stream",
     "text": [
      "[I 2024-05-05 17:38:07,807] Trial 4 finished with value: 0.43333333333333335 and parameters: {'lr': 0.00029901984755149733, 'L2': 0.0017148316151448866, 'batch_size': 1, 'nesterov': True}. Best is trial 1 with value: 0.4444444444444444.\n"
     ]
    },
    {
     "name": "stdout",
     "output_type": "stream",
     "text": [
      "Accuracy: Train: 0.575 | Val: 0.433\n",
      "[E= 9] [it=  510] Train Loss: 1.276, Test Loss: 1.397\n",
      "[E=19] [it= 1020] Train Loss: 1.207, Test Loss: 1.330\n"
     ]
    },
    {
     "name": "stderr",
     "output_type": "stream",
     "text": [
      "[I 2024-05-05 17:39:05,151] Trial 5 finished with value: 0.3333333333333333 and parameters: {'lr': 0.0002789491493558213, 'L2': 0.047147801852236326, 'batch_size': 4, 'nesterov': True}. Best is trial 1 with value: 0.4444444444444444.\n"
     ]
    },
    {
     "name": "stdout",
     "output_type": "stream",
     "text": [
      "Accuracy: Train: 0.466 | Val: 0.333\n",
      "[E= 9] [it= 1030] Train Loss: 1.424, Test Loss: 1.483\n",
      "[E=19] [it= 2060] Train Loss: 1.406, Test Loss: 1.507\n"
     ]
    },
    {
     "name": "stderr",
     "output_type": "stream",
     "text": [
      "[I 2024-05-05 17:40:08,996] Trial 6 finished with value: 0.35555555555555557 and parameters: {'lr': 0.016657844516024613, 'L2': 0.019170605236957808, 'batch_size': 2, 'nesterov': False}. Best is trial 1 with value: 0.4444444444444444.\n"
     ]
    },
    {
     "name": "stdout",
     "output_type": "stream",
     "text": [
      "Accuracy: Train: 0.374 | Val: 0.356\n",
      "[E= 9] [it=  510] Train Loss: 1.299, Test Loss: 1.397\n",
      "[E=19] [it= 1020] Train Loss: 1.234, Test Loss: 1.360\n"
     ]
    },
    {
     "name": "stderr",
     "output_type": "stream",
     "text": [
      "[I 2024-05-05 17:41:06,687] Trial 7 finished with value: 0.37777777777777777 and parameters: {'lr': 0.0002917182222136787, 'L2': 0.01558193172154682, 'batch_size': 4, 'nesterov': True}. Best is trial 1 with value: 0.4444444444444444.\n"
     ]
    },
    {
     "name": "stdout",
     "output_type": "stream",
     "text": [
      "Accuracy: Train: 0.456 | Val: 0.378\n",
      "[E= 9] [it=  510] Train Loss: 1.370, Test Loss: 1.460\n",
      "[E=19] [it= 1020] Train Loss: 1.290, Test Loss: 1.382\n"
     ]
    },
    {
     "name": "stderr",
     "output_type": "stream",
     "text": [
      "[I 2024-05-05 17:42:04,212] Trial 8 finished with value: 0.4444444444444444 and parameters: {'lr': 5.1669879543377064e-05, 'L2': 0.00015165144248073048, 'batch_size': 4, 'nesterov': True}. Best is trial 1 with value: 0.4444444444444444.\n"
     ]
    },
    {
     "name": "stdout",
     "output_type": "stream",
     "text": [
      "Accuracy: Train: 0.431 | Val: 0.444\n",
      "[E= 9] [it=  510] Train Loss: 1.517, Test Loss: 1.579\n",
      "[E=19] [it= 1020] Train Loss: 1.411, Test Loss: 1.491\n"
     ]
    },
    {
     "name": "stderr",
     "output_type": "stream",
     "text": [
      "[I 2024-05-05 17:43:01,833] Trial 9 finished with value: 0.35555555555555557 and parameters: {'lr': 3.435083549032662e-05, 'L2': 2.883053297205321e-05, 'batch_size': 4, 'nesterov': False}. Best is trial 1 with value: 0.4444444444444444.\n"
     ]
    },
    {
     "name": "stdout",
     "output_type": "stream",
     "text": [
      "Accuracy: Train: 0.377 | Val: 0.356\n",
      "[E= 9] [it= 1030] Train Loss: 1.110, Test Loss: 1.498\n",
      "[E=19] [it= 2060] Train Loss: 0.713, Test Loss: 1.486\n"
     ]
    },
    {
     "name": "stderr",
     "output_type": "stream",
     "text": [
      "[I 2024-05-05 17:44:05,496] Trial 10 finished with value: 0.35555555555555557 and parameters: {'lr': 0.006040818877098795, 'L2': 1.2402473021638801e-05, 'batch_size': 2, 'nesterov': False}. Best is trial 1 with value: 0.4444444444444444.\n"
     ]
    },
    {
     "name": "stdout",
     "output_type": "stream",
     "text": [
      "Accuracy: Train: 0.738 | Val: 0.356\n",
      "[E= 9] [it=  510] Train Loss: 1.663, Test Loss: 1.691\n",
      "[E=19] [it= 1020] Train Loss: 1.543, Test Loss: 1.607\n"
     ]
    },
    {
     "name": "stderr",
     "output_type": "stream",
     "text": [
      "[I 2024-05-05 17:45:03,158] Trial 11 finished with value: 0.2111111111111111 and parameters: {'lr': 1.3612687779124605e-05, 'L2': 0.00013388675526179736, 'batch_size': 4, 'nesterov': True}. Best is trial 1 with value: 0.4444444444444444.\n"
     ]
    },
    {
     "name": "stdout",
     "output_type": "stream",
     "text": [
      "Accuracy: Train: 0.240 | Val: 0.211\n",
      "[E= 9] [it=  510] Train Loss: 1.009, Test Loss: 1.363\n",
      "[E=19] [it= 1020] Train Loss: 0.428, Test Loss: 2.132\n"
     ]
    },
    {
     "name": "stderr",
     "output_type": "stream",
     "text": [
      "[I 2024-05-05 17:46:00,643] Trial 12 finished with value: 0.4 and parameters: {'lr': 0.003039954821181471, 'L2': 0.00015820170217097069, 'batch_size': 4, 'nesterov': True}. Best is trial 1 with value: 0.4444444444444444.\n"
     ]
    },
    {
     "name": "stdout",
     "output_type": "stream",
     "text": [
      "Accuracy: Train: 0.824 | Val: 0.400\n",
      "[E= 9] [it=  510] Train Loss: 1.136, Test Loss: 1.371\n",
      "[E=19] [it= 1020] Train Loss: 0.896, Test Loss: 1.542\n"
     ]
    },
    {
     "name": "stderr",
     "output_type": "stream",
     "text": [
      "[I 2024-05-05 17:46:58,376] Trial 13 finished with value: 0.4222222222222222 and parameters: {'lr': 0.0016976546517262347, 'L2': 1.0042209263842857e-05, 'batch_size': 4, 'nesterov': False}. Best is trial 1 with value: 0.4444444444444444.\n"
     ]
    },
    {
     "name": "stdout",
     "output_type": "stream",
     "text": [
      "Accuracy: Train: 0.676 | Val: 0.422\n",
      "[E= 9] [it=  510] Train Loss: 1.308, Test Loss: 1.410\n",
      "[E=19] [it= 1020] Train Loss: 1.236, Test Loss: 1.357\n"
     ]
    },
    {
     "name": "stderr",
     "output_type": "stream",
     "text": [
      "[I 2024-05-05 17:47:57,431] Trial 14 finished with value: 0.37777777777777777 and parameters: {'lr': 0.00010311680708969589, 'L2': 0.0002963492276475983, 'batch_size': 4, 'nesterov': False}. Best is trial 1 with value: 0.4444444444444444.\n"
     ]
    },
    {
     "name": "stdout",
     "output_type": "stream",
     "text": [
      "Accuracy: Train: 0.426 | Val: 0.378\n",
      "[E= 9] [it=  510] Train Loss: 1.416, Test Loss: 1.438\n",
      "[E=19] [it= 1020] Train Loss: 1.409, Test Loss: 1.459\n"
     ]
    },
    {
     "name": "stderr",
     "output_type": "stream",
     "text": [
      "[I 2024-05-05 17:48:55,336] Trial 15 finished with value: 0.35555555555555557 and parameters: {'lr': 0.09611322121805227, 'L2': 3.9678419033569076e-05, 'batch_size': 4, 'nesterov': True}. Best is trial 1 with value: 0.4444444444444444.\n"
     ]
    },
    {
     "name": "stdout",
     "output_type": "stream",
     "text": [
      "Accuracy: Train: 0.377 | Val: 0.356\n",
      "[E= 9] [it=  250] Train Loss: 1.219, Test Loss: 1.335\n",
      "[E=19] [it=  500] Train Loss: 1.150, Test Loss: 1.311\n"
     ]
    },
    {
     "name": "stderr",
     "output_type": "stream",
     "text": [
      "[I 2024-05-05 17:49:48,375] Trial 16 finished with value: 0.3888888888888889 and parameters: {'lr': 0.0006859386276236372, 'L2': 0.000509017069676915, 'batch_size': 8, 'nesterov': False}. Best is trial 1 with value: 0.4444444444444444.\n"
     ]
    },
    {
     "name": "stdout",
     "output_type": "stream",
     "text": [
      "Accuracy: Train: 0.500 | Val: 0.389\n",
      "[E= 9] [it= 1030] Train Loss: 1.552, Test Loss: 1.587\n",
      "[E=19] [it= 2060] Train Loss: 1.396, Test Loss: 1.470\n"
     ]
    },
    {
     "name": "stderr",
     "output_type": "stream",
     "text": [
      "[I 2024-05-05 17:50:52,475] Trial 17 finished with value: 0.35555555555555557 and parameters: {'lr': 1.547296038962565e-05, 'L2': 3.138019064148077e-05, 'batch_size': 2, 'nesterov': True}. Best is trial 1 with value: 0.4444444444444444.\n"
     ]
    },
    {
     "name": "stdout",
     "output_type": "stream",
     "text": [
      "Accuracy: Train: 0.379 | Val: 0.356\n",
      "[E= 9] [it= 2070] Train Loss: 1.288, Test Loss: 1.548\n",
      "[E=19] [it= 4140] Train Loss: 1.272, Test Loss: 1.582\n"
     ]
    },
    {
     "name": "stderr",
     "output_type": "stream",
     "text": [
      "[I 2024-05-05 17:52:03,498] Trial 18 finished with value: 0.32222222222222224 and parameters: {'lr': 0.006973959087241461, 'L2': 0.002288729272803842, 'batch_size': 1, 'nesterov': True}. Best is trial 1 with value: 0.4444444444444444.\n"
     ]
    },
    {
     "name": "stdout",
     "output_type": "stream",
     "text": [
      "Accuracy: Train: 0.367 | Val: 0.322\n",
      "[E= 9] [it=  510] Train Loss: 1.530, Test Loss: 1.573\n",
      "[E=19] [it= 1020] Train Loss: 1.369, Test Loss: 1.428\n"
     ]
    },
    {
     "name": "stderr",
     "output_type": "stream",
     "text": [
      "[I 2024-05-05 17:53:02,015] Trial 19 finished with value: 0.25555555555555554 and parameters: {'lr': 4.750933172097923e-05, 'L2': 6.947643991366285e-05, 'batch_size': 4, 'nesterov': False}. Best is trial 1 with value: 0.4444444444444444.\n"
     ]
    },
    {
     "name": "stdout",
     "output_type": "stream",
     "text": [
      "Accuracy: Train: 0.338 | Val: 0.256\n",
      "[E= 9] [it=  510] Train Loss: 1.289, Test Loss: 1.405\n",
      "[E=19] [it= 1020] Train Loss: 1.227, Test Loss: 1.366\n"
     ]
    },
    {
     "name": "stderr",
     "output_type": "stream",
     "text": [
      "[I 2024-05-05 17:53:59,922] Trial 20 finished with value: 0.4777777777777778 and parameters: {'lr': 0.00011830023031143946, 'L2': 0.00039111741507697617, 'batch_size': 4, 'nesterov': True}. Best is trial 20 with value: 0.4777777777777778.\n"
     ]
    },
    {
     "name": "stdout",
     "output_type": "stream",
     "text": [
      "Accuracy: Train: 0.422 | Val: 0.478\n",
      "[E= 9] [it=  510] Train Loss: 1.280, Test Loss: 1.407\n",
      "[E=19] [it= 1020] Train Loss: 1.213, Test Loss: 1.392\n"
     ]
    },
    {
     "name": "stderr",
     "output_type": "stream",
     "text": [
      "[I 2024-05-05 17:54:57,695] Trial 21 finished with value: 0.4 and parameters: {'lr': 0.00012521436134281568, 'L2': 0.00046332094652905937, 'batch_size': 4, 'nesterov': True}. Best is trial 20 with value: 0.4777777777777778.\n"
     ]
    },
    {
     "name": "stdout",
     "output_type": "stream",
     "text": [
      "Accuracy: Train: 0.441 | Val: 0.400\n",
      "[E= 9] [it=  510] Train Loss: 1.275, Test Loss: 1.415\n",
      "[E=19] [it= 1020] Train Loss: 1.174, Test Loss: 1.375\n"
     ]
    },
    {
     "name": "stderr",
     "output_type": "stream",
     "text": [
      "[I 2024-05-05 17:55:55,591] Trial 22 finished with value: 0.3888888888888889 and parameters: {'lr': 0.00017716653827808606, 'L2': 0.004162248798121162, 'batch_size': 4, 'nesterov': True}. Best is trial 20 with value: 0.4777777777777778.\n"
     ]
    },
    {
     "name": "stdout",
     "output_type": "stream",
     "text": [
      "Accuracy: Train: 0.495 | Val: 0.389\n",
      "[E= 9] [it=  510] Train Loss: 1.160, Test Loss: 1.465\n",
      "[E=19] [it= 1020] Train Loss: 0.967, Test Loss: 1.419\n"
     ]
    },
    {
     "name": "stderr",
     "output_type": "stream",
     "text": [
      "[I 2024-05-05 17:56:53,310] Trial 23 finished with value: 0.4222222222222222 and parameters: {'lr': 0.0006484795167067853, 'L2': 0.00028030790614986173, 'batch_size': 4, 'nesterov': True}. Best is trial 20 with value: 0.4777777777777778.\n"
     ]
    },
    {
     "name": "stdout",
     "output_type": "stream",
     "text": [
      "Accuracy: Train: 0.706 | Val: 0.422\n",
      "[E= 9] [it=  510] Train Loss: 1.481, Test Loss: 1.504\n",
      "[E=19] [it= 1020] Train Loss: 1.368, Test Loss: 1.438\n"
     ]
    },
    {
     "name": "stderr",
     "output_type": "stream",
     "text": [
      "[I 2024-05-05 17:57:50,973] Trial 24 finished with value: 0.36666666666666664 and parameters: {'lr': 3.2674469276497774e-05, 'L2': 2.1157846628660872e-05, 'batch_size': 4, 'nesterov': True}. Best is trial 20 with value: 0.4777777777777778.\n"
     ]
    },
    {
     "name": "stdout",
     "output_type": "stream",
     "text": [
      "Accuracy: Train: 0.368 | Val: 0.367\n",
      "[E= 9] [it=  510] Train Loss: 1.137, Test Loss: 1.349\n",
      "[E=19] [it= 1020] Train Loss: 0.691, Test Loss: 1.636\n"
     ]
    },
    {
     "name": "stderr",
     "output_type": "stream",
     "text": [
      "[I 2024-05-05 17:58:48,878] Trial 25 finished with value: 0.4777777777777778 and parameters: {'lr': 0.001993987362750642, 'L2': 0.0008204570222854077, 'batch_size': 4, 'nesterov': True}. Best is trial 20 with value: 0.4777777777777778.\n"
     ]
    },
    {
     "name": "stdout",
     "output_type": "stream",
     "text": [
      "Accuracy: Train: 0.750 | Val: 0.478\n",
      "[E= 9] [it=  250] Train Loss: 1.168, Test Loss: 1.409\n",
      "[E=19] [it=  500] Train Loss: 0.862, Test Loss: 1.769\n"
     ]
    },
    {
     "name": "stderr",
     "output_type": "stream",
     "text": [
      "[I 2024-05-05 17:59:41,978] Trial 26 finished with value: 0.4444444444444444 and parameters: {'lr': 0.0030341335118176413, 'L2': 0.0007938594183036543, 'batch_size': 8, 'nesterov': False}. Best is trial 20 with value: 0.4777777777777778.\n"
     ]
    },
    {
     "name": "stdout",
     "output_type": "stream",
     "text": [
      "Accuracy: Train: 0.605 | Val: 0.444\n",
      "[E= 9] [it= 2070] Train Loss: 1.057, Test Loss: 1.540\n",
      "[E=19] [it= 4140] Train Loss: 0.715, Test Loss: 1.676\n"
     ]
    },
    {
     "name": "stderr",
     "output_type": "stream",
     "text": [
      "[I 2024-05-05 18:00:53,610] Trial 27 finished with value: 0.4222222222222222 and parameters: {'lr': 0.0019611377882604235, 'L2': 0.003616568314946156, 'batch_size': 1, 'nesterov': True}. Best is trial 20 with value: 0.4777777777777778.\n"
     ]
    },
    {
     "name": "stdout",
     "output_type": "stream",
     "text": [
      "Accuracy: Train: 0.700 | Val: 0.422\n",
      "[E= 9] [it= 1030] Train Loss: 1.230, Test Loss: 1.360\n",
      "[E=19] [it= 2060] Train Loss: 1.157, Test Loss: 1.365\n"
     ]
    },
    {
     "name": "stderr",
     "output_type": "stream",
     "text": [
      "[I 2024-05-05 18:01:58,137] Trial 28 finished with value: 0.4444444444444444 and parameters: {'lr': 0.0004836749891509752, 'L2': 0.07973184595491628, 'batch_size': 2, 'nesterov': False}. Best is trial 20 with value: 0.4777777777777778.\n"
     ]
    },
    {
     "name": "stdout",
     "output_type": "stream",
     "text": [
      "Accuracy: Train: 0.451 | Val: 0.444\n",
      "[E= 9] [it= 2070] Train Loss: 1.401, Test Loss: 1.421\n",
      "[E=19] [it= 4140] Train Loss: 1.391, Test Loss: 1.430\n"
     ]
    },
    {
     "name": "stderr",
     "output_type": "stream",
     "text": [
      "[I 2024-05-05 18:03:09,533] Trial 29 finished with value: 0.35555555555555557 and parameters: {'lr': 0.008887452836062947, 'L2': 6.49934131786811e-05, 'batch_size': 1, 'nesterov': True}. Best is trial 20 with value: 0.4777777777777778.\n"
     ]
    },
    {
     "name": "stdout",
     "output_type": "stream",
     "text": [
      "Accuracy: Train: 0.377 | Val: 0.356\n",
      "[E= 9] [it=  510] Train Loss: 1.190, Test Loss: 1.428\n",
      "[E=19] [it= 1020] Train Loss: 0.925, Test Loss: 1.445\n"
     ]
    },
    {
     "name": "stderr",
     "output_type": "stream",
     "text": [
      "[I 2024-05-05 18:04:07,634] Trial 30 finished with value: 0.45555555555555555 and parameters: {'lr': 0.001314397287007079, 'L2': 0.000795717090047066, 'batch_size': 4, 'nesterov': True}. Best is trial 20 with value: 0.4777777777777778.\n"
     ]
    },
    {
     "name": "stdout",
     "output_type": "stream",
     "text": [
      "Accuracy: Train: 0.598 | Val: 0.456\n",
      "[E= 9] [it=  510] Train Loss: 1.051, Test Loss: 1.347\n",
      "[E=19] [it= 1020] Train Loss: 0.654, Test Loss: 1.931\n"
     ]
    },
    {
     "name": "stderr",
     "output_type": "stream",
     "text": [
      "[I 2024-05-05 18:05:04,911] Trial 31 finished with value: 0.37777777777777777 and parameters: {'lr': 0.002842636370409724, 'L2': 0.0007564807709110293, 'batch_size': 4, 'nesterov': True}. Best is trial 20 with value: 0.4777777777777778.\n"
     ]
    },
    {
     "name": "stdout",
     "output_type": "stream",
     "text": [
      "Accuracy: Train: 0.740 | Val: 0.378\n",
      "[E= 9] [it=  510] Train Loss: 1.124, Test Loss: 1.458\n",
      "[E=19] [it= 1020] Train Loss: 0.846, Test Loss: 1.593\n"
     ]
    },
    {
     "name": "stderr",
     "output_type": "stream",
     "text": [
      "[I 2024-05-05 18:06:02,569] Trial 32 finished with value: 0.43333333333333335 and parameters: {'lr': 0.0012546001804950213, 'L2': 0.001459000371011054, 'batch_size': 4, 'nesterov': True}. Best is trial 20 with value: 0.4777777777777778.\n"
     ]
    },
    {
     "name": "stdout",
     "output_type": "stream",
     "text": [
      "Accuracy: Train: 0.676 | Val: 0.433\n",
      "[E= 9] [it=  510] Train Loss: 1.181, Test Loss: 1.351\n",
      "[E=19] [it= 1020] Train Loss: 0.930, Test Loss: 1.473\n"
     ]
    },
    {
     "name": "stderr",
     "output_type": "stream",
     "text": [
      "[I 2024-05-05 18:07:00,232] Trial 33 finished with value: 0.4888888888888889 and parameters: {'lr': 0.0010594596585298975, 'L2': 0.00027906132902396524, 'batch_size': 4, 'nesterov': True}. Best is trial 33 with value: 0.4888888888888889.\n"
     ]
    },
    {
     "name": "stdout",
     "output_type": "stream",
     "text": [
      "Accuracy: Train: 0.544 | Val: 0.489\n",
      "[E= 9] [it=  510] Train Loss: 1.198, Test Loss: 1.313\n",
      "[E=19] [it= 1020] Train Loss: 0.999, Test Loss: 1.321\n"
     ]
    },
    {
     "name": "stderr",
     "output_type": "stream",
     "text": [
      "[I 2024-05-05 18:07:57,827] Trial 34 finished with value: 0.43333333333333335 and parameters: {'lr': 0.0004498047991381692, 'L2': 0.00027749998512996643, 'batch_size': 4, 'nesterov': True}. Best is trial 33 with value: 0.4888888888888889.\n"
     ]
    },
    {
     "name": "stdout",
     "output_type": "stream",
     "text": [
      "Accuracy: Train: 0.608 | Val: 0.433\n",
      "[E= 9] [it=  250] Train Loss: 1.281, Test Loss: 1.337\n",
      "[E=19] [it=  500] Train Loss: 1.119, Test Loss: 1.304\n"
     ]
    },
    {
     "name": "stderr",
     "output_type": "stream",
     "text": [
      "[I 2024-05-05 18:08:50,726] Trial 35 finished with value: 0.4222222222222222 and parameters: {'lr': 0.0010892176006742707, 'L2': 0.0005083354066303829, 'batch_size': 8, 'nesterov': True}. Best is trial 33 with value: 0.4888888888888889.\n"
     ]
    },
    {
     "name": "stdout",
     "output_type": "stream",
     "text": [
      "Accuracy: Train: 0.500 | Val: 0.422\n",
      "[E= 9] [it=  510] Train Loss: 1.147, Test Loss: 1.327\n",
      "[E=19] [it= 1020] Train Loss: 0.706, Test Loss: 1.531\n"
     ]
    },
    {
     "name": "stderr",
     "output_type": "stream",
     "text": [
      "[I 2024-05-05 18:09:47,655] Trial 36 finished with value: 0.34444444444444444 and parameters: {'lr': 0.004791963317812742, 'L2': 0.0010711541446421175, 'batch_size': 4, 'nesterov': True}. Best is trial 33 with value: 0.4888888888888889.\n"
     ]
    },
    {
     "name": "stdout",
     "output_type": "stream",
     "text": [
      "Accuracy: Train: 0.760 | Val: 0.344\n",
      "[E= 9] [it=  510] Train Loss: 1.079, Test Loss: 1.528\n",
      "[E=19] [it= 1020] Train Loss: 0.901, Test Loss: 1.566\n"
     ]
    },
    {
     "name": "stderr",
     "output_type": "stream",
     "text": [
      "[I 2024-05-05 18:10:43,956] Trial 37 finished with value: 0.34444444444444444 and parameters: {'lr': 0.011637196084047294, 'L2': 0.002563544519615686, 'batch_size': 4, 'nesterov': True}. Best is trial 33 with value: 0.4888888888888889.\n"
     ]
    },
    {
     "name": "stdout",
     "output_type": "stream",
     "text": [
      "Accuracy: Train: 0.627 | Val: 0.344\n",
      "[E= 9] [it= 2070] Train Loss: 1.175, Test Loss: 1.384\n",
      "[E=19] [it= 4140] Train Loss: 1.026, Test Loss: 1.448\n"
     ]
    },
    {
     "name": "stderr",
     "output_type": "stream",
     "text": [
      "[I 2024-05-05 18:11:53,225] Trial 38 finished with value: 0.4444444444444444 and parameters: {'lr': 0.00017463116875406122, 'L2': 0.008096272263725635, 'batch_size': 1, 'nesterov': True}. Best is trial 33 with value: 0.4888888888888889.\n"
     ]
    },
    {
     "name": "stdout",
     "output_type": "stream",
     "text": [
      "Accuracy: Train: 0.527 | Val: 0.444\n",
      "[E= 9] [it=  510] Train Loss: 1.393, Test Loss: 1.431\n",
      "[E=19] [it= 1020] Train Loss: 1.395, Test Loss: 1.463\n"
     ]
    },
    {
     "name": "stderr",
     "output_type": "stream",
     "text": [
      "[I 2024-05-05 18:12:49,384] Trial 39 finished with value: 0.35555555555555557 and parameters: {'lr': 0.02935322310634825, 'L2': 0.0003939931693143584, 'batch_size': 4, 'nesterov': True}. Best is trial 33 with value: 0.4888888888888889.\n"
     ]
    },
    {
     "name": "stdout",
     "output_type": "stream",
     "text": [
      "Accuracy: Train: 0.382 | Val: 0.356\n",
      "[E= 9] [it=  250] Train Loss: 1.222, Test Loss: 1.332\n",
      "[E=19] [it=  500] Train Loss: 1.008, Test Loss: 1.358\n"
     ]
    },
    {
     "name": "stderr",
     "output_type": "stream",
     "text": [
      "[I 2024-05-05 18:13:41,898] Trial 40 finished with value: 0.4222222222222222 and parameters: {'lr': 0.0009004024258679635, 'L2': 0.00019362222334931345, 'batch_size': 8, 'nesterov': True}. Best is trial 33 with value: 0.4888888888888889.\n"
     ]
    },
    {
     "name": "stdout",
     "output_type": "stream",
     "text": [
      "Accuracy: Train: 0.535 | Val: 0.422\n",
      "[E= 9] [it=  510] Train Loss: 1.041, Test Loss: 1.558\n",
      "[E=19] [it= 1020] Train Loss: 0.713, Test Loss: 1.471\n"
     ]
    },
    {
     "name": "stderr",
     "output_type": "stream",
     "text": [
      "[I 2024-05-05 18:14:38,088] Trial 41 finished with value: 0.5 and parameters: {'lr': 0.0019185987031918226, 'L2': 9.901068135370631e-05, 'batch_size': 4, 'nesterov': False}. Best is trial 41 with value: 0.5.\n"
     ]
    },
    {
     "name": "stdout",
     "output_type": "stream",
     "text": [
      "Accuracy: Train: 0.735 | Val: 0.500\n",
      "[E= 9] [it=  510] Train Loss: 1.089, Test Loss: 1.408\n",
      "[E=19] [it= 1020] Train Loss: 0.659, Test Loss: 1.683\n"
     ]
    },
    {
     "name": "stderr",
     "output_type": "stream",
     "text": [
      "[I 2024-05-05 18:15:33,431] Trial 42 finished with value: 0.4666666666666667 and parameters: {'lr': 0.0017458751889483544, 'L2': 9.300710665261129e-05, 'batch_size': 4, 'nesterov': False}. Best is trial 41 with value: 0.5.\n"
     ]
    },
    {
     "name": "stdout",
     "output_type": "stream",
     "text": [
      "Accuracy: Train: 0.662 | Val: 0.467\n",
      "[E= 9] [it=  510] Train Loss: 1.049, Test Loss: 1.676\n",
      "[E=19] [it= 1020] Train Loss: 0.576, Test Loss: 2.090\n"
     ]
    },
    {
     "name": "stderr",
     "output_type": "stream",
     "text": [
      "[I 2024-05-05 18:16:30,537] Trial 43 finished with value: 0.4777777777777778 and parameters: {'lr': 0.004614562607134944, 'L2': 9.028993995118851e-05, 'batch_size': 4, 'nesterov': False}. Best is trial 41 with value: 0.5.\n"
     ]
    },
    {
     "name": "stdout",
     "output_type": "stream",
     "text": [
      "Accuracy: Train: 0.789 | Val: 0.478\n",
      "[E= 9] [it=  510] Train Loss: 1.279, Test Loss: 1.373\n",
      "[E=19] [it= 1020] Train Loss: 0.831, Test Loss: 1.365\n"
     ]
    },
    {
     "name": "stderr",
     "output_type": "stream",
     "text": [
      "[I 2024-05-05 18:17:27,616] Trial 44 finished with value: 0.4 and parameters: {'lr': 0.004382109223365877, 'L2': 4.849681620915446e-05, 'batch_size': 4, 'nesterov': False}. Best is trial 41 with value: 0.5.\n"
     ]
    },
    {
     "name": "stdout",
     "output_type": "stream",
     "text": [
      "Accuracy: Train: 0.637 | Val: 0.400\n",
      "[E= 9] [it= 1030] Train Loss: 1.352, Test Loss: 1.504\n",
      "[E=19] [it= 2060] Train Loss: 1.379, Test Loss: 1.414\n"
     ]
    },
    {
     "name": "stderr",
     "output_type": "stream",
     "text": [
      "[I 2024-05-05 18:18:31,502] Trial 45 finished with value: 0.35555555555555557 and parameters: {'lr': 0.014103185396791142, 'L2': 0.00010011548255165235, 'batch_size': 2, 'nesterov': False}. Best is trial 41 with value: 0.5.\n"
     ]
    },
    {
     "name": "stdout",
     "output_type": "stream",
     "text": [
      "Accuracy: Train: 0.379 | Val: 0.356\n",
      "[E= 9] [it=  510] Train Loss: 1.102, Test Loss: 1.362\n",
      "[E=19] [it= 1020] Train Loss: 0.595, Test Loss: 1.739\n"
     ]
    },
    {
     "name": "stderr",
     "output_type": "stream",
     "text": [
      "[I 2024-05-05 18:19:29,688] Trial 46 finished with value: 0.43333333333333335 and parameters: {'lr': 0.0025588016162348274, 'L2': 0.0002107726382413078, 'batch_size': 4, 'nesterov': False}. Best is trial 41 with value: 0.5.\n"
     ]
    },
    {
     "name": "stdout",
     "output_type": "stream",
     "text": [
      "Accuracy: Train: 0.784 | Val: 0.433\n",
      "[E= 9] [it=  510] Train Loss: 1.207, Test Loss: 1.356\n",
      "[E=19] [it= 1020] Train Loss: 1.027, Test Loss: 1.372\n"
     ]
    },
    {
     "name": "stderr",
     "output_type": "stream",
     "text": [
      "[I 2024-05-05 18:20:27,061] Trial 47 finished with value: 0.4111111111111111 and parameters: {'lr': 0.0003900697863826583, 'L2': 0.00011228163116136231, 'batch_size': 4, 'nesterov': False}. Best is trial 41 with value: 0.5.\n"
     ]
    },
    {
     "name": "stdout",
     "output_type": "stream",
     "text": [
      "Accuracy: Train: 0.500 | Val: 0.411\n",
      "[E= 9] [it=  510] Train Loss: 1.265, Test Loss: 1.459\n",
      "[E=19] [it= 1020] Train Loss: 1.073, Test Loss: 1.501\n"
     ]
    },
    {
     "name": "stderr",
     "output_type": "stream",
     "text": [
      "[I 2024-05-05 18:21:24,721] Trial 48 finished with value: 0.43333333333333335 and parameters: {'lr': 0.02120644002781443, 'L2': 5.5792276806867565e-05, 'batch_size': 4, 'nesterov': False}. Best is trial 41 with value: 0.5.\n"
     ]
    },
    {
     "name": "stdout",
     "output_type": "stream",
     "text": [
      "Accuracy: Train: 0.632 | Val: 0.433\n",
      "[E= 9] [it=  510] Train Loss: 1.041, Test Loss: 1.482\n",
      "[E=19] [it= 1020] Train Loss: 0.548, Test Loss: 1.667\n"
     ]
    },
    {
     "name": "stderr",
     "output_type": "stream",
     "text": [
      "[I 2024-05-05 18:22:22,711] Trial 49 finished with value: 0.45555555555555555 and parameters: {'lr': 0.004131502455786573, 'L2': 1.9858868557713828e-05, 'batch_size': 4, 'nesterov': False}. Best is trial 41 with value: 0.5.\n"
     ]
    },
    {
     "name": "stdout",
     "output_type": "stream",
     "text": [
      "Accuracy: Train: 0.873 | Val: 0.456\n",
      "[E= 9] [it= 1030] Train Loss: 1.174, Test Loss: 1.338\n",
      "[E=19] [it= 2060] Train Loss: 0.893, Test Loss: 1.605\n"
     ]
    },
    {
     "name": "stderr",
     "output_type": "stream",
     "text": [
      "[I 2024-05-05 18:23:26,900] Trial 50 finished with value: 0.45555555555555555 and parameters: {'lr': 0.0007440988799460238, 'L2': 0.00019298801160217707, 'batch_size': 2, 'nesterov': False}. Best is trial 41 with value: 0.5.\n"
     ]
    },
    {
     "name": "stdout",
     "output_type": "stream",
     "text": [
      "Accuracy: Train: 0.607 | Val: 0.456\n",
      "[E= 9] [it=  510] Train Loss: 1.253, Test Loss: 1.393\n",
      "[E=19] [it= 1020] Train Loss: 0.934, Test Loss: 1.664\n"
     ]
    },
    {
     "name": "stderr",
     "output_type": "stream",
     "text": [
      "[I 2024-05-05 18:24:24,326] Trial 51 finished with value: 0.3333333333333333 and parameters: {'lr': 0.001907674286857019, 'L2': 8.794360815111499e-05, 'batch_size': 4, 'nesterov': False}. Best is trial 41 with value: 0.5.\n"
     ]
    },
    {
     "name": "stdout",
     "output_type": "stream",
     "text": [
      "Accuracy: Train: 0.480 | Val: 0.333\n",
      "[E= 9] [it=  510] Train Loss: 1.092, Test Loss: 1.357\n",
      "[E=19] [it= 1020] Train Loss: 0.961, Test Loss: 1.444\n"
     ]
    },
    {
     "name": "stderr",
     "output_type": "stream",
     "text": [
      "[I 2024-05-05 18:25:21,470] Trial 52 finished with value: 0.35555555555555557 and parameters: {'lr': 0.0015787072452223979, 'L2': 0.00013117878903943142, 'batch_size': 4, 'nesterov': False}. Best is trial 41 with value: 0.5.\n"
     ]
    },
    {
     "name": "stdout",
     "output_type": "stream",
     "text": [
      "Accuracy: Train: 0.662 | Val: 0.356\n",
      "[E= 9] [it=  510] Train Loss: 1.159, Test Loss: 1.327\n",
      "[E=19] [it= 1020] Train Loss: 0.861, Test Loss: 1.513\n"
     ]
    },
    {
     "name": "stderr",
     "output_type": "stream",
     "text": [
      "[I 2024-05-05 18:26:18,832] Trial 53 finished with value: 0.34444444444444444 and parameters: {'lr': 0.006706260523675069, 'L2': 0.00032536851597211386, 'batch_size': 4, 'nesterov': False}. Best is trial 41 with value: 0.5.\n"
     ]
    },
    {
     "name": "stdout",
     "output_type": "stream",
     "text": [
      "Accuracy: Train: 0.647 | Val: 0.344\n",
      "[E= 9] [it=  510] Train Loss: 1.144, Test Loss: 1.500\n",
      "[E=19] [it= 1020] Train Loss: 0.911, Test Loss: 1.620\n"
     ]
    },
    {
     "name": "stderr",
     "output_type": "stream",
     "text": [
      "[I 2024-05-05 18:27:16,313] Trial 54 finished with value: 0.4444444444444444 and parameters: {'lr': 0.002117888413394298, 'L2': 8.587101121492475e-05, 'batch_size': 4, 'nesterov': False}. Best is trial 41 with value: 0.5.\n"
     ]
    },
    {
     "name": "stdout",
     "output_type": "stream",
     "text": [
      "Accuracy: Train: 0.701 | Val: 0.444\n",
      "[E= 9] [it=  510] Train Loss: 1.055, Test Loss: 1.324\n",
      "[E=19] [it= 1020] Train Loss: 0.631, Test Loss: 1.839\n"
     ]
    },
    {
     "name": "stderr",
     "output_type": "stream",
     "text": [
      "[I 2024-05-05 18:28:13,946] Trial 55 finished with value: 0.36666666666666664 and parameters: {'lr': 0.0036641757716687623, 'L2': 0.0005668427970965998, 'batch_size': 4, 'nesterov': False}. Best is trial 41 with value: 0.5.\n"
     ]
    },
    {
     "name": "stdout",
     "output_type": "stream",
     "text": [
      "Accuracy: Train: 0.824 | Val: 0.367\n",
      "[E= 9] [it=  510] Train Loss: 1.258, Test Loss: 1.387\n",
      "[E=19] [it= 1020] Train Loss: 1.154, Test Loss: 1.422\n"
     ]
    },
    {
     "name": "stderr",
     "output_type": "stream",
     "text": [
      "[I 2024-05-05 18:29:11,353] Trial 56 finished with value: 0.35555555555555557 and parameters: {'lr': 0.0002687378263041062, 'L2': 0.00022657763589014606, 'batch_size': 4, 'nesterov': False}. Best is trial 41 with value: 0.5.\n"
     ]
    },
    {
     "name": "stdout",
     "output_type": "stream",
     "text": [
      "Accuracy: Train: 0.559 | Val: 0.356\n",
      "[E= 9] [it=  510] Train Loss: 1.230, Test Loss: 1.364\n",
      "[E=19] [it= 1020] Train Loss: 1.076, Test Loss: 1.469\n"
     ]
    },
    {
     "name": "stderr",
     "output_type": "stream",
     "text": [
      "[I 2024-05-05 18:30:08,629] Trial 57 finished with value: 0.3888888888888889 and parameters: {'lr': 0.0006054691641397612, 'L2': 0.00013399553210462025, 'batch_size': 4, 'nesterov': False}. Best is trial 41 with value: 0.5.\n"
     ]
    },
    {
     "name": "stdout",
     "output_type": "stream",
     "text": [
      "Accuracy: Train: 0.554 | Val: 0.389\n",
      "[E= 9] [it=  250] Train Loss: 1.221, Test Loss: 1.370\n",
      "[E=19] [it=  500] Train Loss: 1.068, Test Loss: 1.296\n"
     ]
    },
    {
     "name": "stderr",
     "output_type": "stream",
     "text": [
      "[I 2024-05-05 18:31:01,708] Trial 58 finished with value: 0.4888888888888889 and parameters: {'lr': 0.0010185215716841888, 'L2': 3.703730566591527e-05, 'batch_size': 8, 'nesterov': True}. Best is trial 41 with value: 0.5.\n"
     ]
    },
    {
     "name": "stdout",
     "output_type": "stream",
     "text": [
      "Accuracy: Train: 0.515 | Val: 0.489\n",
      "[E= 9] [it=  250] Train Loss: 1.385, Test Loss: 1.449\n",
      "[E=19] [it=  500] Train Loss: 1.396, Test Loss: 1.416\n"
     ]
    },
    {
     "name": "stderr",
     "output_type": "stream",
     "text": [
      "[I 2024-05-05 18:31:54,524] Trial 59 finished with value: 0.35555555555555557 and parameters: {'lr': 0.06644745406821555, 'L2': 4.114780886736092e-05, 'batch_size': 8, 'nesterov': True}. Best is trial 41 with value: 0.5.\n"
     ]
    },
    {
     "name": "stdout",
     "output_type": "stream",
     "text": [
      "Accuracy: Train: 0.370 | Val: 0.356\n",
      "[E= 9] [it=  250] Train Loss: 1.210, Test Loss: 1.372\n",
      "[E=19] [it=  500] Train Loss: 1.062, Test Loss: 1.379\n"
     ]
    },
    {
     "name": "stderr",
     "output_type": "stream",
     "text": [
      "[I 2024-05-05 18:32:46,882] Trial 60 finished with value: 0.3888888888888889 and parameters: {'lr': 0.0008332797116784172, 'L2': 2.511678445802412e-05, 'batch_size': 8, 'nesterov': True}. Best is trial 41 with value: 0.5.\n"
     ]
    },
    {
     "name": "stdout",
     "output_type": "stream",
     "text": [
      "Accuracy: Train: 0.480 | Val: 0.389\n",
      "[E= 9] [it=  250] Train Loss: 1.213, Test Loss: 1.359\n",
      "[E=19] [it=  500] Train Loss: 1.010, Test Loss: 1.333\n"
     ]
    },
    {
     "name": "stderr",
     "output_type": "stream",
     "text": [
      "[I 2024-05-05 18:33:39,645] Trial 61 finished with value: 0.43333333333333335 and parameters: {'lr': 0.0013410163120339976, 'L2': 6.90551346832462e-05, 'batch_size': 8, 'nesterov': True}. Best is trial 41 with value: 0.5.\n"
     ]
    },
    {
     "name": "stdout",
     "output_type": "stream",
     "text": [
      "Accuracy: Train: 0.550 | Val: 0.433\n",
      "[E= 9] [it=  250] Train Loss: 1.135, Test Loss: 1.358\n",
      "[E=19] [it=  500] Train Loss: 0.850, Test Loss: 1.654\n"
     ]
    },
    {
     "name": "stderr",
     "output_type": "stream",
     "text": [
      "[I 2024-05-05 18:34:32,079] Trial 62 finished with value: 0.36666666666666664 and parameters: {'lr': 0.0023574406545146588, 'L2': 3.9911768412181776e-05, 'batch_size': 8, 'nesterov': True}. Best is trial 41 with value: 0.5.\n"
     ]
    },
    {
     "name": "stdout",
     "output_type": "stream",
     "text": [
      "Accuracy: Train: 0.750 | Val: 0.367\n",
      "[E= 9] [it= 2070] Train Loss: 1.225, Test Loss: 1.371\n",
      "[E=19] [it= 4140] Train Loss: 1.388, Test Loss: 1.464\n"
     ]
    },
    {
     "name": "stderr",
     "output_type": "stream",
     "text": [
      "[I 2024-05-05 18:35:42,894] Trial 63 finished with value: 0.35555555555555557 and parameters: {'lr': 0.008857196027630751, 'L2': 1.8123053319272943e-05, 'batch_size': 1, 'nesterov': True}. Best is trial 41 with value: 0.5.\n"
     ]
    },
    {
     "name": "stdout",
     "output_type": "stream",
     "text": [
      "Accuracy: Train: 0.377 | Val: 0.356\n",
      "[E= 9] [it=  510] Train Loss: 1.076, Test Loss: 1.475\n",
      "[E=19] [it= 1020] Train Loss: 0.830, Test Loss: 1.500\n"
     ]
    },
    {
     "name": "stderr",
     "output_type": "stream",
     "text": [
      "[I 2024-05-05 18:36:40,013] Trial 64 finished with value: 0.4666666666666667 and parameters: {'lr': 0.0009878457409788338, 'L2': 0.00015466720868329866, 'batch_size': 4, 'nesterov': True}. Best is trial 41 with value: 0.5.\n"
     ]
    },
    {
     "name": "stdout",
     "output_type": "stream",
     "text": [
      "Accuracy: Train: 0.672 | Val: 0.467\n",
      "[E= 9] [it=  510] Train Loss: 1.213, Test Loss: 1.336\n",
      "[E=19] [it= 1020] Train Loss: 0.816, Test Loss: 1.385\n"
     ]
    },
    {
     "name": "stderr",
     "output_type": "stream",
     "text": [
      "[I 2024-05-05 18:37:37,472] Trial 65 finished with value: 0.45555555555555555 and parameters: {'lr': 0.005696987534645963, 'L2': 0.0006943191913386215, 'batch_size': 4, 'nesterov': False}. Best is trial 41 with value: 0.5.\n"
     ]
    },
    {
     "name": "stdout",
     "output_type": "stream",
     "text": [
      "Accuracy: Train: 0.716 | Val: 0.456\n",
      "[E= 9] [it=  250] Train Loss: 1.109, Test Loss: 1.335\n",
      "[E=19] [it=  500] Train Loss: 0.767, Test Loss: 1.518\n"
     ]
    },
    {
     "name": "stderr",
     "output_type": "stream",
     "text": [
      "[I 2024-05-05 18:38:30,954] Trial 66 finished with value: 0.4222222222222222 and parameters: {'lr': 0.001658714379248058, 'L2': 3.318963982205901e-05, 'batch_size': 8, 'nesterov': True}. Best is trial 41 with value: 0.5.\n"
     ]
    },
    {
     "name": "stdout",
     "output_type": "stream",
     "text": [
      "Accuracy: Train: 0.710 | Val: 0.422\n",
      "[E= 9] [it=  510] Train Loss: 1.304, Test Loss: 1.435\n",
      "[E=19] [it= 1020] Train Loss: 1.241, Test Loss: 1.385\n"
     ]
    },
    {
     "name": "stderr",
     "output_type": "stream",
     "text": [
      "[I 2024-05-05 18:39:28,192] Trial 67 finished with value: 0.36666666666666664 and parameters: {'lr': 8.260726617941224e-05, 'L2': 0.0014372758943264545, 'batch_size': 4, 'nesterov': True}. Best is trial 41 with value: 0.5.\n"
     ]
    },
    {
     "name": "stdout",
     "output_type": "stream",
     "text": [
      "Accuracy: Train: 0.392 | Val: 0.367\n",
      "[E= 9] [it= 1030] Train Loss: 1.247, Test Loss: 1.384\n",
      "[E=19] [it= 2060] Train Loss: 1.043, Test Loss: 1.422\n"
     ]
    },
    {
     "name": "stderr",
     "output_type": "stream",
     "text": [
      "[I 2024-05-05 18:40:32,087] Trial 68 finished with value: 0.4666666666666667 and parameters: {'lr': 0.00033443699910617997, 'L2': 0.0003803457042920595, 'batch_size': 2, 'nesterov': False}. Best is trial 41 with value: 0.5.\n"
     ]
    },
    {
     "name": "stdout",
     "output_type": "stream",
     "text": [
      "Accuracy: Train: 0.539 | Val: 0.467\n",
      "[E= 9] [it=  510] Train Loss: 1.205, Test Loss: 1.475\n",
      "[E=19] [it= 1020] Train Loss: 0.969, Test Loss: 1.516\n"
     ]
    },
    {
     "name": "stderr",
     "output_type": "stream",
     "text": [
      "[I 2024-05-05 18:41:29,322] Trial 69 finished with value: 0.37777777777777777 and parameters: {'lr': 0.0005678176200576054, 'L2': 1.2252852927599668e-05, 'batch_size': 4, 'nesterov': True}. Best is trial 41 with value: 0.5.\n"
     ]
    },
    {
     "name": "stdout",
     "output_type": "stream",
     "text": [
      "Accuracy: Train: 0.608 | Val: 0.378\n",
      "[E= 9] [it=  510] Train Loss: 0.967, Test Loss: 1.632\n",
      "[E=19] [it= 1020] Train Loss: 0.495, Test Loss: 1.617\n"
     ]
    },
    {
     "name": "stderr",
     "output_type": "stream",
     "text": [
      "[I 2024-05-05 18:42:26,950] Trial 70 finished with value: 0.5 and parameters: {'lr': 0.0031947665133633444, 'L2': 5.359990690990662e-05, 'batch_size': 4, 'nesterov': True}. Best is trial 41 with value: 0.5.\n"
     ]
    },
    {
     "name": "stdout",
     "output_type": "stream",
     "text": [
      "Accuracy: Train: 0.833 | Val: 0.500\n",
      "[E= 9] [it=  510] Train Loss: 1.101, Test Loss: 1.332\n",
      "[E=19] [it= 1020] Train Loss: 0.700, Test Loss: 1.446\n"
     ]
    },
    {
     "name": "stderr",
     "output_type": "stream",
     "text": [
      "[I 2024-05-05 18:43:24,186] Trial 71 finished with value: 0.45555555555555555 and parameters: {'lr': 0.0031682154828382406, 'L2': 7.558145105896436e-05, 'batch_size': 4, 'nesterov': True}. Best is trial 41 with value: 0.5.\n"
     ]
    },
    {
     "name": "stdout",
     "output_type": "stream",
     "text": [
      "Accuracy: Train: 0.809 | Val: 0.456\n",
      "[E= 9] [it=  510] Train Loss: 0.959, Test Loss: 1.549\n",
      "[E=19] [it= 1020] Train Loss: 0.607, Test Loss: 1.756\n"
     ]
    },
    {
     "name": "stderr",
     "output_type": "stream",
     "text": [
      "[I 2024-05-05 18:44:21,016] Trial 72 finished with value: 0.4777777777777778 and parameters: {'lr': 0.002295066878980944, 'L2': 5.9440074371823214e-05, 'batch_size': 4, 'nesterov': True}. Best is trial 41 with value: 0.5.\n"
     ]
    },
    {
     "name": "stdout",
     "output_type": "stream",
     "text": [
      "Accuracy: Train: 0.775 | Val: 0.478\n",
      "[E= 9] [it=  510] Train Loss: 1.049, Test Loss: 1.287\n",
      "[E=19] [it= 1020] Train Loss: 0.545, Test Loss: 2.282\n"
     ]
    },
    {
     "name": "stderr",
     "output_type": "stream",
     "text": [
      "[I 2024-05-05 18:45:18,404] Trial 73 finished with value: 0.4222222222222222 and parameters: {'lr': 0.0034416518270203975, 'L2': 5.628857369482917e-05, 'batch_size': 4, 'nesterov': True}. Best is trial 41 with value: 0.5.\n"
     ]
    },
    {
     "name": "stdout",
     "output_type": "stream",
     "text": [
      "Accuracy: Train: 0.735 | Val: 0.422\n",
      "[E= 9] [it=  510] Train Loss: 1.112, Test Loss: 1.332\n",
      "[E=19] [it= 1020] Train Loss: 0.827, Test Loss: 1.607\n"
     ]
    },
    {
     "name": "stderr",
     "output_type": "stream",
     "text": [
      "[I 2024-05-05 18:46:15,608] Trial 74 finished with value: 0.4444444444444444 and parameters: {'lr': 0.0013321022018992692, 'L2': 2.6389483066023974e-05, 'batch_size': 4, 'nesterov': True}. Best is trial 41 with value: 0.5.\n"
     ]
    },
    {
     "name": "stdout",
     "output_type": "stream",
     "text": [
      "Accuracy: Train: 0.672 | Val: 0.444\n",
      "[E= 9] [it=  510] Train Loss: 1.082, Test Loss: 1.333\n",
      "[E=19] [it= 1020] Train Loss: 0.612, Test Loss: 1.914\n"
     ]
    },
    {
     "name": "stderr",
     "output_type": "stream",
     "text": [
      "[I 2024-05-05 18:47:12,882] Trial 75 finished with value: 0.4111111111111111 and parameters: {'lr': 0.004749817612211552, 'L2': 4.427243551428182e-05, 'batch_size': 4, 'nesterov': True}. Best is trial 41 with value: 0.5.\n"
     ]
    },
    {
     "name": "stdout",
     "output_type": "stream",
     "text": [
      "Accuracy: Train: 0.804 | Val: 0.411\n",
      "[E= 9] [it=  250] Train Loss: 1.122, Test Loss: 1.431\n",
      "[E=19] [it=  500] Train Loss: 0.815, Test Loss: 1.494\n"
     ]
    },
    {
     "name": "stderr",
     "output_type": "stream",
     "text": [
      "[I 2024-05-05 18:48:05,318] Trial 76 finished with value: 0.43333333333333335 and parameters: {'lr': 0.0023909695965611483, 'L2': 0.0002516685235242735, 'batch_size': 8, 'nesterov': True}. Best is trial 41 with value: 0.5.\n"
     ]
    },
    {
     "name": "stdout",
     "output_type": "stream",
     "text": [
      "Accuracy: Train: 0.745 | Val: 0.433\n",
      "[E= 9] [it= 2070] Train Loss: 1.024, Test Loss: 1.374\n",
      "[E=19] [it= 4140] Train Loss: 0.641, Test Loss: 2.344\n"
     ]
    },
    {
     "name": "stderr",
     "output_type": "stream",
     "text": [
      "[I 2024-05-05 18:49:16,123] Trial 77 finished with value: 0.3333333333333333 and parameters: {'lr': 0.0011091729903771781, 'L2': 0.00011075650605776372, 'batch_size': 1, 'nesterov': True}. Best is trial 41 with value: 0.5.\n"
     ]
    },
    {
     "name": "stdout",
     "output_type": "stream",
     "text": [
      "Accuracy: Train: 0.715 | Val: 0.333\n",
      "[E= 9] [it=  510] Train Loss: 1.472, Test Loss: 1.550\n",
      "[E=19] [it= 1020] Train Loss: 1.376, Test Loss: 1.480\n"
     ]
    },
    {
     "name": "stderr",
     "output_type": "stream",
     "text": [
      "[I 2024-05-05 18:50:13,506] Trial 78 finished with value: 0.35555555555555557 and parameters: {'lr': 2.2143277671654253e-05, 'L2': 1.5644848811952377e-05, 'batch_size': 4, 'nesterov': True}. Best is trial 41 with value: 0.5.\n"
     ]
    },
    {
     "name": "stdout",
     "output_type": "stream",
     "text": [
      "Accuracy: Train: 0.382 | Val: 0.356\n",
      "[E= 9] [it=  510] Train Loss: 0.928, Test Loss: 1.323\n",
      "[E=19] [it= 1020] Train Loss: 0.610, Test Loss: 1.886\n"
     ]
    },
    {
     "name": "stderr",
     "output_type": "stream",
     "text": [
      "[I 2024-05-05 18:51:10,801] Trial 79 finished with value: 0.37777777777777777 and parameters: {'lr': 0.009264697276357554, 'L2': 0.00018208669213780522, 'batch_size': 4, 'nesterov': True}. Best is trial 41 with value: 0.5.\n"
     ]
    },
    {
     "name": "stdout",
     "output_type": "stream",
     "text": [
      "Accuracy: Train: 0.686 | Val: 0.378\n",
      "[E= 9] [it=  510] Train Loss: 1.266, Test Loss: 1.375\n",
      "[E=19] [it= 1020] Train Loss: 1.193, Test Loss: 1.353\n"
     ]
    },
    {
     "name": "stderr",
     "output_type": "stream",
     "text": [
      "[I 2024-05-05 18:52:08,162] Trial 80 finished with value: 0.4444444444444444 and parameters: {'lr': 0.00022011761245244873, 'L2': 5.460496222255105e-05, 'batch_size': 4, 'nesterov': True}. Best is trial 41 with value: 0.5.\n"
     ]
    },
    {
     "name": "stdout",
     "output_type": "stream",
     "text": [
      "Accuracy: Train: 0.446 | Val: 0.444\n",
      "[E= 9] [it=  510] Train Loss: 1.088, Test Loss: 1.438\n",
      "[E=19] [it= 1020] Train Loss: 0.805, Test Loss: 1.517\n"
     ]
    },
    {
     "name": "stderr",
     "output_type": "stream",
     "text": [
      "[I 2024-05-05 18:53:05,553] Trial 81 finished with value: 0.4666666666666667 and parameters: {'lr': 0.0015411005341586014, 'L2': 3.180206216991144e-05, 'batch_size': 4, 'nesterov': True}. Best is trial 41 with value: 0.5.\n"
     ]
    },
    {
     "name": "stdout",
     "output_type": "stream",
     "text": [
      "Accuracy: Train: 0.735 | Val: 0.467\n",
      "[E= 9] [it=  510] Train Loss: 1.119, Test Loss: 1.332\n",
      "[E=19] [it= 1020] Train Loss: 0.741, Test Loss: 1.522\n"
     ]
    },
    {
     "name": "stderr",
     "output_type": "stream",
     "text": [
      "[I 2024-05-05 18:54:02,793] Trial 82 finished with value: 0.4444444444444444 and parameters: {'lr': 0.001967504136065539, 'L2': 7.85888992456147e-05, 'batch_size': 4, 'nesterov': True}. Best is trial 41 with value: 0.5.\n"
     ]
    },
    {
     "name": "stdout",
     "output_type": "stream",
     "text": [
      "Accuracy: Train: 0.696 | Val: 0.444\n",
      "[E= 9] [it=  510] Train Loss: 1.079, Test Loss: 1.462\n",
      "[E=19] [it= 1020] Train Loss: 0.738, Test Loss: 1.872\n"
     ]
    },
    {
     "name": "stderr",
     "output_type": "stream",
     "text": [
      "[I 2024-05-05 18:54:59,739] Trial 83 finished with value: 0.4111111111111111 and parameters: {'lr': 0.0027115594344210457, 'L2': 0.00010501081489950546, 'batch_size': 4, 'nesterov': False}. Best is trial 41 with value: 0.5.\n"
     ]
    },
    {
     "name": "stdout",
     "output_type": "stream",
     "text": [
      "Accuracy: Train: 0.745 | Val: 0.411\n",
      "[E= 9] [it=  510] Train Loss: 1.151, Test Loss: 1.327\n",
      "[E=19] [it= 1020] Train Loss: 0.913, Test Loss: 1.483\n"
     ]
    },
    {
     "name": "stderr",
     "output_type": "stream",
     "text": [
      "[I 2024-05-05 18:55:56,725] Trial 84 finished with value: 0.4222222222222222 and parameters: {'lr': 0.0008294572113228069, 'L2': 0.0009780633828151601, 'batch_size': 4, 'nesterov': True}. Best is trial 41 with value: 0.5.\n"
     ]
    },
    {
     "name": "stdout",
     "output_type": "stream",
     "text": [
      "Accuracy: Train: 0.627 | Val: 0.422\n",
      "[E= 9] [it=  510] Train Loss: 1.211, Test Loss: 1.438\n",
      "[E=19] [it= 1020] Train Loss: 1.074, Test Loss: 1.483\n"
     ]
    },
    {
     "name": "stderr",
     "output_type": "stream",
     "text": [
      "[I 2024-05-05 18:56:53,773] Trial 85 finished with value: 0.45555555555555555 and parameters: {'lr': 0.0036772527261874025, 'L2': 0.024110647386331396, 'batch_size': 4, 'nesterov': False}. Best is trial 41 with value: 0.5.\n"
     ]
    },
    {
     "name": "stdout",
     "output_type": "stream",
     "text": [
      "Accuracy: Train: 0.569 | Val: 0.456\n",
      "[E= 9] [it= 1030] Train Loss: 1.121, Test Loss: 1.382\n",
      "[E=19] [it= 2060] Train Loss: 0.878, Test Loss: 1.815\n"
     ]
    },
    {
     "name": "stderr",
     "output_type": "stream",
     "text": [
      "[I 2024-05-05 18:57:57,501] Trial 86 finished with value: 0.35555555555555557 and parameters: {'lr': 0.005166855254405608, 'L2': 0.0003516901731150571, 'batch_size': 2, 'nesterov': True}. Best is trial 41 with value: 0.5.\n"
     ]
    },
    {
     "name": "stdout",
     "output_type": "stream",
     "text": [
      "Accuracy: Train: 0.680 | Val: 0.356\n",
      "[E= 9] [it=  510] Train Loss: 1.197, Test Loss: 1.332\n",
      "[E=19] [it= 1020] Train Loss: 1.050, Test Loss: 1.329\n"
     ]
    },
    {
     "name": "stderr",
     "output_type": "stream",
     "text": [
      "[I 2024-05-05 18:58:54,684] Trial 87 finished with value: 0.4444444444444444 and parameters: {'lr': 0.0004808195647236919, 'L2': 6.044273870916917e-05, 'batch_size': 4, 'nesterov': False}. Best is trial 41 with value: 0.5.\n"
     ]
    },
    {
     "name": "stdout",
     "output_type": "stream",
     "text": [
      "Accuracy: Train: 0.593 | Val: 0.444\n",
      "[E= 9] [it=  510] Train Loss: 1.159, Test Loss: 1.426\n",
      "[E=19] [it= 1020] Train Loss: 0.908, Test Loss: 1.696\n"
     ]
    },
    {
     "name": "stderr",
     "output_type": "stream",
     "text": [
      "[I 2024-05-05 18:59:52,628] Trial 88 finished with value: 0.4222222222222222 and parameters: {'lr': 0.0010890231485381834, 'L2': 0.0006064189037319562, 'batch_size': 4, 'nesterov': True}. Best is trial 41 with value: 0.5.\n"
     ]
    },
    {
     "name": "stdout",
     "output_type": "stream",
     "text": [
      "Accuracy: Train: 0.583 | Val: 0.422\n",
      "[E= 9] [it= 2070] Train Loss: 1.093, Test Loss: 1.538\n",
      "[E=19] [it= 4140] Train Loss: 0.813, Test Loss: 1.754\n"
     ]
    },
    {
     "name": "stderr",
     "output_type": "stream",
     "text": [
      "[I 2024-05-05 19:01:03,019] Trial 89 finished with value: 0.4444444444444444 and parameters: {'lr': 0.0017221785952979418, 'L2': 0.00043491092540115425, 'batch_size': 1, 'nesterov': False}. Best is trial 41 with value: 0.5.\n"
     ]
    },
    {
     "name": "stdout",
     "output_type": "stream",
     "text": [
      "Accuracy: Train: 0.638 | Val: 0.444\n",
      "[E= 9] [it=  510] Train Loss: 1.649, Test Loss: 1.675\n",
      "[E=19] [it= 1020] Train Loss: 1.546, Test Loss: 1.583\n"
     ]
    },
    {
     "name": "stderr",
     "output_type": "stream",
     "text": [
      "[I 2024-05-05 19:02:00,371] Trial 90 finished with value: 0.34444444444444444 and parameters: {'lr': 1.0705457306830294e-05, 'L2': 0.00011938579106786885, 'batch_size': 4, 'nesterov': True}. Best is trial 41 with value: 0.5.\n"
     ]
    },
    {
     "name": "stdout",
     "output_type": "stream",
     "text": [
      "Accuracy: Train: 0.353 | Val: 0.344\n",
      "[E= 9] [it=  510] Train Loss: 1.161, Test Loss: 1.371\n",
      "[E=19] [it= 1020] Train Loss: 0.866, Test Loss: 1.640\n"
     ]
    },
    {
     "name": "stderr",
     "output_type": "stream",
     "text": [
      "[I 2024-05-05 19:02:58,253] Trial 91 finished with value: 0.45555555555555555 and parameters: {'lr': 0.0009957602375481277, 'L2': 0.0001577389038761398, 'batch_size': 4, 'nesterov': True}. Best is trial 41 with value: 0.5.\n"
     ]
    },
    {
     "name": "stdout",
     "output_type": "stream",
     "text": [
      "Accuracy: Train: 0.569 | Val: 0.456\n",
      "[E= 9] [it=  510] Train Loss: 1.133, Test Loss: 1.421\n",
      "[E=19] [it= 1020] Train Loss: 0.815, Test Loss: 1.376\n"
     ]
    },
    {
     "name": "stderr",
     "output_type": "stream",
     "text": [
      "[I 2024-05-05 19:03:55,566] Trial 92 finished with value: 0.45555555555555555 and parameters: {'lr': 0.0028019853081782072, 'L2': 9.21846565224886e-05, 'batch_size': 4, 'nesterov': True}. Best is trial 41 with value: 0.5.\n"
     ]
    },
    {
     "name": "stdout",
     "output_type": "stream",
     "text": [
      "Accuracy: Train: 0.765 | Val: 0.456\n",
      "[E= 9] [it=  510] Train Loss: 1.052, Test Loss: 1.320\n",
      "[E=19] [it= 1020] Train Loss: 0.634, Test Loss: 1.725\n"
     ]
    },
    {
     "name": "stderr",
     "output_type": "stream",
     "text": [
      "[I 2024-05-05 19:04:53,029] Trial 93 finished with value: 0.4666666666666667 and parameters: {'lr': 0.0021860213154098447, 'L2': 0.00015030510840895569, 'batch_size': 4, 'nesterov': True}. Best is trial 41 with value: 0.5.\n"
     ]
    },
    {
     "name": "stdout",
     "output_type": "stream",
     "text": [
      "Accuracy: Train: 0.775 | Val: 0.467\n",
      "[E= 9] [it=  510] Train Loss: 1.295, Test Loss: 1.407\n",
      "[E=19] [it= 1020] Train Loss: 1.240, Test Loss: 1.366\n"
     ]
    },
    {
     "name": "stderr",
     "output_type": "stream",
     "text": [
      "[I 2024-05-05 19:05:50,057] Trial 94 finished with value: 0.3333333333333333 and parameters: {'lr': 8.073108921991265e-05, 'L2': 0.0002533685795917536, 'batch_size': 4, 'nesterov': True}. Best is trial 41 with value: 0.5.\n"
     ]
    },
    {
     "name": "stdout",
     "output_type": "stream",
     "text": [
      "Accuracy: Train: 0.436 | Val: 0.333\n",
      "[E= 9] [it=  250] Train Loss: 1.140, Test Loss: 1.328\n",
      "[E=19] [it=  500] Train Loss: 0.890, Test Loss: 1.593\n"
     ]
    },
    {
     "name": "stderr",
     "output_type": "stream",
     "text": [
      "[I 2024-05-05 19:06:42,942] Trial 95 finished with value: 0.45555555555555555 and parameters: {'lr': 0.0014491543906674455, 'L2': 0.00017848828469156015, 'batch_size': 8, 'nesterov': True}. Best is trial 41 with value: 0.5.\n"
     ]
    },
    {
     "name": "stdout",
     "output_type": "stream",
     "text": [
      "Accuracy: Train: 0.665 | Val: 0.456\n",
      "[E= 9] [it=  510] Train Loss: 1.156, Test Loss: 1.461\n",
      "[E=19] [it= 1020] Train Loss: 0.661, Test Loss: 2.561\n"
     ]
    },
    {
     "name": "stderr",
     "output_type": "stream",
     "text": [
      "[I 2024-05-05 19:07:41,059] Trial 96 finished with value: 0.4 and parameters: {'lr': 0.004197453035665678, 'L2': 3.5567318328984984e-05, 'batch_size': 4, 'nesterov': False}. Best is trial 41 with value: 0.5.\n"
     ]
    },
    {
     "name": "stdout",
     "output_type": "stream",
     "text": [
      "Accuracy: Train: 0.755 | Val: 0.400\n",
      "[E= 9] [it=  510] Train Loss: 1.183, Test Loss: 1.408\n",
      "[E=19] [it= 1020] Train Loss: 0.973, Test Loss: 1.412\n"
     ]
    },
    {
     "name": "stderr",
     "output_type": "stream",
     "text": [
      "[I 2024-05-05 19:08:37,959] Trial 97 finished with value: 0.4222222222222222 and parameters: {'lr': 0.0006167137994485095, 'L2': 5.043654977710725e-05, 'batch_size': 4, 'nesterov': True}. Best is trial 41 with value: 0.5.\n"
     ]
    },
    {
     "name": "stdout",
     "output_type": "stream",
     "text": [
      "Accuracy: Train: 0.657 | Val: 0.422\n",
      "[E= 9] [it=  510] Train Loss: 0.853, Test Loss: 1.677\n",
      "[E=19] [it= 1020] Train Loss: 0.601, Test Loss: 2.130\n"
     ]
    },
    {
     "name": "stderr",
     "output_type": "stream",
     "text": [
      "[I 2024-05-05 19:09:35,738] Trial 98 finished with value: 0.45555555555555555 and parameters: {'lr': 0.006593021069142759, 'L2': 0.000134632394337747, 'batch_size': 4, 'nesterov': True}. Best is trial 41 with value: 0.5.\n"
     ]
    },
    {
     "name": "stdout",
     "output_type": "stream",
     "text": [
      "Accuracy: Train: 0.882 | Val: 0.456\n",
      "[E= 9] [it=  510] Train Loss: 1.494, Test Loss: 1.546\n"
     ]
    },
    {
     "name": "stderr",
     "output_type": "stream",
     "text": [
      "[W 2024-05-05 19:10:26,353] Trial 99 failed with parameters: {'lr': 3.705259616371238e-05, 'L2': 6.900763354709171e-05, 'batch_size': 4, 'nesterov': False} because of the following error: KeyboardInterrupt().\n",
      "Traceback (most recent call last):\n",
      "  File \"/home/exi/programs/lib/python3.11/site-packages/optuna/study/_optimize.py\", line 196, in _run_trial\n",
      "    value_or_values = func(trial)\n",
      "                      ^^^^^^^^^^^\n",
      "  File \"/tmp/ipykernel_3111/1430703154.py\", line 47, in objective_SGD\n",
      "    model_final, trainloss, valloss = train_model(train_loader=train_loader, val_loader=val_loader, model=model,\n",
      "                                      ^^^^^^^^^^^^^^^^^^^^^^^^^^^^^^^^^^^^^^^^^^^^^^^^^^^^^^^^^^^^^^^^^^^^^^^^^^\n",
      "  File \"/tmp/ipykernel_3111/387759429.py\", line 33, in train_model\n",
      "    for i_batch, sample_batched in enumerate(train_loader):\n",
      "  File \"/home/exi/programs/lib/python3.11/site-packages/torch/utils/data/dataloader.py\", line 631, in __next__\n",
      "    data = self._next_data()\n",
      "           ^^^^^^^^^^^^^^^^^\n",
      "  File \"/home/exi/programs/lib/python3.11/site-packages/torch/utils/data/dataloader.py\", line 675, in _next_data\n",
      "    data = self._dataset_fetcher.fetch(index)  # may raise StopIteration\n",
      "           ^^^^^^^^^^^^^^^^^^^^^^^^^^^^^^^^^^\n",
      "  File \"/home/exi/programs/lib/python3.11/site-packages/torch/utils/data/_utils/fetch.py\", line 49, in fetch\n",
      "    data = self.dataset.__getitems__(possibly_batched_index)\n",
      "           ^^^^^^^^^^^^^^^^^^^^^^^^^^^^^^^^^^^^^^^^^^^^^^^^^\n",
      "  File \"/home/exi/programs/lib/python3.11/site-packages/torch/utils/data/dataset.py\", line 399, in __getitems__\n",
      "    return [self.dataset[self.indices[idx]] for idx in indices]\n",
      "           ^^^^^^^^^^^^^^^^^^^^^^^^^^^^^^^^^^^^^^^^^^^^^^^^^^^^\n",
      "  File \"/home/exi/programs/lib/python3.11/site-packages/torch/utils/data/dataset.py\", line 399, in <listcomp>\n",
      "    return [self.dataset[self.indices[idx]] for idx in indices]\n",
      "            ~~~~~~~~~~~~^^^^^^^^^^^^^^^^^^^\n",
      "  File \"/home/exi/programs/lib/python3.11/site-packages/torchvision/datasets/folder.py\", line 231, in __getitem__\n",
      "    sample = self.transform(sample)\n",
      "             ^^^^^^^^^^^^^^^^^^^^^^\n",
      "  File \"/home/exi/programs/lib/python3.11/site-packages/torchvision/transforms/transforms.py\", line 95, in __call__\n",
      "    img = t(img)\n",
      "          ^^^^^^\n",
      "  File \"/home/exi/programs/lib/python3.11/site-packages/torch/nn/modules/module.py\", line 1511, in _wrapped_call_impl\n",
      "    return self._call_impl(*args, **kwargs)\n",
      "           ^^^^^^^^^^^^^^^^^^^^^^^^^^^^^^^^\n",
      "  File \"/home/exi/programs/lib/python3.11/site-packages/torch/nn/modules/module.py\", line 1520, in _call_impl\n",
      "    return forward_call(*args, **kwargs)\n",
      "           ^^^^^^^^^^^^^^^^^^^^^^^^^^^^^\n",
      "  File \"/home/exi/programs/lib/python3.11/site-packages/torchvision/transforms/transforms.py\", line 354, in forward\n",
      "    return F.resize(img, self.size, self.interpolation, self.max_size, self.antialias)\n",
      "           ^^^^^^^^^^^^^^^^^^^^^^^^^^^^^^^^^^^^^^^^^^^^^^^^^^^^^^^^^^^^^^^^^^^^^^^^^^^\n",
      "  File \"/home/exi/programs/lib/python3.11/site-packages/torchvision/transforms/functional.py\", line 467, in resize\n",
      "    return F_pil.resize(img, size=output_size, interpolation=pil_interpolation)\n",
      "           ^^^^^^^^^^^^^^^^^^^^^^^^^^^^^^^^^^^^^^^^^^^^^^^^^^^^^^^^^^^^^^^^^^^^\n",
      "  File \"/home/exi/programs/lib/python3.11/site-packages/torchvision/transforms/_functional_pil.py\", line 250, in resize\n",
      "    return img.resize(tuple(size[::-1]), interpolation)\n",
      "           ^^^^^^^^^^^^^^^^^^^^^^^^^^^^^^^^^^^^^^^^^^^^\n",
      "  File \"/home/exi/programs/lib/python3.11/site-packages/PIL/Image.py\", line 2174, in resize\n",
      "    return self._new(self.im.resize(size, resample, box))\n",
      "                     ^^^^^^^^^^^^^^^^^^^^^^^^^^^^^^^^^^^\n",
      "KeyboardInterrupt\n",
      "[W 2024-05-05 19:10:26,355] Trial 99 failed with value None.\n"
     ]
    },
    {
     "ename": "KeyboardInterrupt",
     "evalue": "",
     "output_type": "error",
     "traceback": [
      "\u001b[0;31m---------------------------------------------------------------------------\u001b[0m",
      "\u001b[0;31mKeyboardInterrupt\u001b[0m                         Traceback (most recent call last)",
      "\u001b[1;32m/home/exi/uni/2024/525/project/multi_emotions.ipynb Cell 36\u001b[0m line \u001b[0;36m6\n\u001b[1;32m     <a href='vscode-notebook-cell:/home/exi/uni/2024/525/project/multi_emotions.ipynb#X46sZmlsZQ%3D%3D?line=59'>60</a>\u001b[0m     \u001b[39mreturn\u001b[39;00m val_acc\n\u001b[1;32m     <a href='vscode-notebook-cell:/home/exi/uni/2024/525/project/multi_emotions.ipynb#X46sZmlsZQ%3D%3D?line=61'>62</a>\u001b[0m study \u001b[39m=\u001b[39m optuna\u001b[39m.\u001b[39mcreate_study(direction\u001b[39m=\u001b[39m\u001b[39m\"\u001b[39m\u001b[39mmaximize\u001b[39m\u001b[39m\"\u001b[39m, study_name\u001b[39m=\u001b[39m\u001b[39m\"\u001b[39m\u001b[39mSGD-Binary-Art\u001b[39m\u001b[39m\"\u001b[39m)\n\u001b[0;32m---> <a href='vscode-notebook-cell:/home/exi/uni/2024/525/project/multi_emotions.ipynb#X46sZmlsZQ%3D%3D?line=62'>63</a>\u001b[0m study\u001b[39m.\u001b[39;49moptimize(objective_SGD, n_trials\u001b[39m=\u001b[39;49m\u001b[39m100\u001b[39;49m)\n\u001b[1;32m     <a href='vscode-notebook-cell:/home/exi/uni/2024/525/project/multi_emotions.ipynb#X46sZmlsZQ%3D%3D?line=64'>65</a>\u001b[0m \u001b[39mprint\u001b[39m(\u001b[39m\"\u001b[39m\u001b[39mBest trial:\u001b[39m\u001b[39m\"\u001b[39m)\n\u001b[1;32m     <a href='vscode-notebook-cell:/home/exi/uni/2024/525/project/multi_emotions.ipynb#X46sZmlsZQ%3D%3D?line=65'>66</a>\u001b[0m trial \u001b[39m=\u001b[39m study\u001b[39m.\u001b[39mbest_trial\n",
      "File \u001b[0;32m~/programs/lib/python3.11/site-packages/optuna/study/study.py:451\u001b[0m, in \u001b[0;36mStudy.optimize\u001b[0;34m(self, func, n_trials, timeout, n_jobs, catch, callbacks, gc_after_trial, show_progress_bar)\u001b[0m\n\u001b[1;32m    348\u001b[0m \u001b[39mdef\u001b[39;00m \u001b[39moptimize\u001b[39m(\n\u001b[1;32m    349\u001b[0m     \u001b[39mself\u001b[39m,\n\u001b[1;32m    350\u001b[0m     func: ObjectiveFuncType,\n\u001b[0;32m   (...)\u001b[0m\n\u001b[1;32m    357\u001b[0m     show_progress_bar: \u001b[39mbool\u001b[39m \u001b[39m=\u001b[39m \u001b[39mFalse\u001b[39;00m,\n\u001b[1;32m    358\u001b[0m ) \u001b[39m-\u001b[39m\u001b[39m>\u001b[39m \u001b[39mNone\u001b[39;00m:\n\u001b[1;32m    359\u001b[0m \u001b[39m    \u001b[39m\u001b[39m\"\"\"Optimize an objective function.\u001b[39;00m\n\u001b[1;32m    360\u001b[0m \n\u001b[1;32m    361\u001b[0m \u001b[39m    Optimization is done by choosing a suitable set of hyperparameter values from a given\u001b[39;00m\n\u001b[0;32m   (...)\u001b[0m\n\u001b[1;32m    449\u001b[0m \u001b[39m            If nested invocation of this method occurs.\u001b[39;00m\n\u001b[1;32m    450\u001b[0m \u001b[39m    \"\"\"\u001b[39;00m\n\u001b[0;32m--> 451\u001b[0m     _optimize(\n\u001b[1;32m    452\u001b[0m         study\u001b[39m=\u001b[39;49m\u001b[39mself\u001b[39;49m,\n\u001b[1;32m    453\u001b[0m         func\u001b[39m=\u001b[39;49mfunc,\n\u001b[1;32m    454\u001b[0m         n_trials\u001b[39m=\u001b[39;49mn_trials,\n\u001b[1;32m    455\u001b[0m         timeout\u001b[39m=\u001b[39;49mtimeout,\n\u001b[1;32m    456\u001b[0m         n_jobs\u001b[39m=\u001b[39;49mn_jobs,\n\u001b[1;32m    457\u001b[0m         catch\u001b[39m=\u001b[39;49m\u001b[39mtuple\u001b[39;49m(catch) \u001b[39mif\u001b[39;49;00m \u001b[39misinstance\u001b[39;49m(catch, Iterable) \u001b[39melse\u001b[39;49;00m (catch,),\n\u001b[1;32m    458\u001b[0m         callbacks\u001b[39m=\u001b[39;49mcallbacks,\n\u001b[1;32m    459\u001b[0m         gc_after_trial\u001b[39m=\u001b[39;49mgc_after_trial,\n\u001b[1;32m    460\u001b[0m         show_progress_bar\u001b[39m=\u001b[39;49mshow_progress_bar,\n\u001b[1;32m    461\u001b[0m     )\n",
      "File \u001b[0;32m~/programs/lib/python3.11/site-packages/optuna/study/_optimize.py:62\u001b[0m, in \u001b[0;36m_optimize\u001b[0;34m(study, func, n_trials, timeout, n_jobs, catch, callbacks, gc_after_trial, show_progress_bar)\u001b[0m\n\u001b[1;32m     60\u001b[0m \u001b[39mtry\u001b[39;00m:\n\u001b[1;32m     61\u001b[0m     \u001b[39mif\u001b[39;00m n_jobs \u001b[39m==\u001b[39m \u001b[39m1\u001b[39m:\n\u001b[0;32m---> 62\u001b[0m         _optimize_sequential(\n\u001b[1;32m     63\u001b[0m             study,\n\u001b[1;32m     64\u001b[0m             func,\n\u001b[1;32m     65\u001b[0m             n_trials,\n\u001b[1;32m     66\u001b[0m             timeout,\n\u001b[1;32m     67\u001b[0m             catch,\n\u001b[1;32m     68\u001b[0m             callbacks,\n\u001b[1;32m     69\u001b[0m             gc_after_trial,\n\u001b[1;32m     70\u001b[0m             reseed_sampler_rng\u001b[39m=\u001b[39;49m\u001b[39mFalse\u001b[39;49;00m,\n\u001b[1;32m     71\u001b[0m             time_start\u001b[39m=\u001b[39;49m\u001b[39mNone\u001b[39;49;00m,\n\u001b[1;32m     72\u001b[0m             progress_bar\u001b[39m=\u001b[39;49mprogress_bar,\n\u001b[1;32m     73\u001b[0m         )\n\u001b[1;32m     74\u001b[0m     \u001b[39melse\u001b[39;00m:\n\u001b[1;32m     75\u001b[0m         \u001b[39mif\u001b[39;00m n_jobs \u001b[39m==\u001b[39m \u001b[39m-\u001b[39m\u001b[39m1\u001b[39m:\n",
      "File \u001b[0;32m~/programs/lib/python3.11/site-packages/optuna/study/_optimize.py:159\u001b[0m, in \u001b[0;36m_optimize_sequential\u001b[0;34m(study, func, n_trials, timeout, catch, callbacks, gc_after_trial, reseed_sampler_rng, time_start, progress_bar)\u001b[0m\n\u001b[1;32m    156\u001b[0m         \u001b[39mbreak\u001b[39;00m\n\u001b[1;32m    158\u001b[0m \u001b[39mtry\u001b[39;00m:\n\u001b[0;32m--> 159\u001b[0m     frozen_trial \u001b[39m=\u001b[39m _run_trial(study, func, catch)\n\u001b[1;32m    160\u001b[0m \u001b[39mfinally\u001b[39;00m:\n\u001b[1;32m    161\u001b[0m     \u001b[39m# The following line mitigates memory problems that can be occurred in some\u001b[39;00m\n\u001b[1;32m    162\u001b[0m     \u001b[39m# environments (e.g., services that use computing containers such as GitHub Actions).\u001b[39;00m\n\u001b[1;32m    163\u001b[0m     \u001b[39m# Please refer to the following PR for further details:\u001b[39;00m\n\u001b[1;32m    164\u001b[0m     \u001b[39m# https://github.com/optuna/optuna/pull/325.\u001b[39;00m\n\u001b[1;32m    165\u001b[0m     \u001b[39mif\u001b[39;00m gc_after_trial:\n",
      "File \u001b[0;32m~/programs/lib/python3.11/site-packages/optuna/study/_optimize.py:247\u001b[0m, in \u001b[0;36m_run_trial\u001b[0;34m(study, func, catch)\u001b[0m\n\u001b[1;32m    240\u001b[0m         \u001b[39massert\u001b[39;00m \u001b[39mFalse\u001b[39;00m, \u001b[39m\"\u001b[39m\u001b[39mShould not reach.\u001b[39m\u001b[39m\"\u001b[39m\n\u001b[1;32m    242\u001b[0m \u001b[39mif\u001b[39;00m (\n\u001b[1;32m    243\u001b[0m     frozen_trial\u001b[39m.\u001b[39mstate \u001b[39m==\u001b[39m TrialState\u001b[39m.\u001b[39mFAIL\n\u001b[1;32m    244\u001b[0m     \u001b[39mand\u001b[39;00m func_err \u001b[39mis\u001b[39;00m \u001b[39mnot\u001b[39;00m \u001b[39mNone\u001b[39;00m\n\u001b[1;32m    245\u001b[0m     \u001b[39mand\u001b[39;00m \u001b[39mnot\u001b[39;00m \u001b[39misinstance\u001b[39m(func_err, catch)\n\u001b[1;32m    246\u001b[0m ):\n\u001b[0;32m--> 247\u001b[0m     \u001b[39mraise\u001b[39;00m func_err\n\u001b[1;32m    248\u001b[0m \u001b[39mreturn\u001b[39;00m frozen_trial\n",
      "File \u001b[0;32m~/programs/lib/python3.11/site-packages/optuna/study/_optimize.py:196\u001b[0m, in \u001b[0;36m_run_trial\u001b[0;34m(study, func, catch)\u001b[0m\n\u001b[1;32m    194\u001b[0m \u001b[39mwith\u001b[39;00m get_heartbeat_thread(trial\u001b[39m.\u001b[39m_trial_id, study\u001b[39m.\u001b[39m_storage):\n\u001b[1;32m    195\u001b[0m     \u001b[39mtry\u001b[39;00m:\n\u001b[0;32m--> 196\u001b[0m         value_or_values \u001b[39m=\u001b[39m func(trial)\n\u001b[1;32m    197\u001b[0m     \u001b[39mexcept\u001b[39;00m exceptions\u001b[39m.\u001b[39mTrialPruned \u001b[39mas\u001b[39;00m e:\n\u001b[1;32m    198\u001b[0m         \u001b[39m# TODO(mamu): Handle multi-objective cases.\u001b[39;00m\n\u001b[1;32m    199\u001b[0m         state \u001b[39m=\u001b[39m TrialState\u001b[39m.\u001b[39mPRUNED\n",
      "\u001b[1;32m/home/exi/uni/2024/525/project/multi_emotions.ipynb Cell 36\u001b[0m line \u001b[0;36m4\n\u001b[1;32m     <a href='vscode-notebook-cell:/home/exi/uni/2024/525/project/multi_emotions.ipynb#X46sZmlsZQ%3D%3D?line=40'>41</a>\u001b[0m optimizer \u001b[39m=\u001b[39m optim\u001b[39m.\u001b[39mSGD(model\u001b[39m.\u001b[39mparameters(), lr\u001b[39m=\u001b[39mlr, weight_decay\u001b[39m=\u001b[39mweight_decay, momentum\u001b[39m=\u001b[39mmomentum, nesterov\u001b[39m=\u001b[39mnesterov)\n\u001b[1;32m     <a href='vscode-notebook-cell:/home/exi/uni/2024/525/project/multi_emotions.ipynb#X46sZmlsZQ%3D%3D?line=41'>42</a>\u001b[0m \u001b[39m# optimizer = optim.Adam(model.parameters(), lr=learning_rate, weight_decay=weight_decay, betas=adam_betas)\u001b[39;00m\n\u001b[1;32m     <a href='vscode-notebook-cell:/home/exi/uni/2024/525/project/multi_emotions.ipynb#X46sZmlsZQ%3D%3D?line=42'>43</a>\u001b[0m \n\u001b[1;32m     <a href='vscode-notebook-cell:/home/exi/uni/2024/525/project/multi_emotions.ipynb#X46sZmlsZQ%3D%3D?line=43'>44</a>\u001b[0m \n\u001b[1;32m     <a href='vscode-notebook-cell:/home/exi/uni/2024/525/project/multi_emotions.ipynb#X46sZmlsZQ%3D%3D?line=44'>45</a>\u001b[0m \u001b[39m#################################################\u001b[39;00m\n\u001b[1;32m     <a href='vscode-notebook-cell:/home/exi/uni/2024/525/project/multi_emotions.ipynb#X46sZmlsZQ%3D%3D?line=45'>46</a>\u001b[0m \u001b[39m# Train model\u001b[39;00m\n\u001b[0;32m---> <a href='vscode-notebook-cell:/home/exi/uni/2024/525/project/multi_emotions.ipynb#X46sZmlsZQ%3D%3D?line=46'>47</a>\u001b[0m model_final, trainloss, valloss \u001b[39m=\u001b[39m train_model(train_loader\u001b[39m=\u001b[39;49mtrain_loader, val_loader\u001b[39m=\u001b[39;49mval_loader, model\u001b[39m=\u001b[39;49mmodel,\n\u001b[1;32m     <a href='vscode-notebook-cell:/home/exi/uni/2024/525/project/multi_emotions.ipynb#X46sZmlsZQ%3D%3D?line=47'>48</a>\u001b[0m                                         criterion\u001b[39m=\u001b[39;49mcriterion, optimizer\u001b[39m=\u001b[39;49moptimizer, Num_Epochs\u001b[39m=\u001b[39;49mNum_Epochs, checkpoint_interval\u001b[39m=\u001b[39;49mcheckpoint_interval, run_name\u001b[39m=\u001b[39;49mrun_name)\n\u001b[1;32m     <a href='vscode-notebook-cell:/home/exi/uni/2024/525/project/multi_emotions.ipynb#X46sZmlsZQ%3D%3D?line=49'>50</a>\u001b[0m \u001b[39m# Output model performance\u001b[39;00m\n\u001b[1;32m     <a href='vscode-notebook-cell:/home/exi/uni/2024/525/project/multi_emotions.ipynb#X46sZmlsZQ%3D%3D?line=50'>51</a>\u001b[0m \u001b[39m#tr_acc = get_accuracy(net=model_final, data_loader=train_loader)\u001b[39;00m\n\u001b[1;32m     <a href='vscode-notebook-cell:/home/exi/uni/2024/525/project/multi_emotions.ipynb#X46sZmlsZQ%3D%3D?line=52'>53</a>\u001b[0m tr_acc \u001b[39m=\u001b[39m get_accuracy(net\u001b[39m=\u001b[39mmodel_final, data_loader\u001b[39m=\u001b[39mtrain_loader)\n",
      "\u001b[1;32m/home/exi/uni/2024/525/project/multi_emotions.ipynb Cell 36\u001b[0m line \u001b[0;36m3\n\u001b[1;32m     <a href='vscode-notebook-cell:/home/exi/uni/2024/525/project/multi_emotions.ipynb#X46sZmlsZQ%3D%3D?line=30'>31</a>\u001b[0m i \u001b[39m=\u001b[39m \u001b[39m0\u001b[39m\n\u001b[1;32m     <a href='vscode-notebook-cell:/home/exi/uni/2024/525/project/multi_emotions.ipynb#X46sZmlsZQ%3D%3D?line=31'>32</a>\u001b[0m \u001b[39mfor\u001b[39;00m epoch \u001b[39min\u001b[39;00m \u001b[39mrange\u001b[39m(start_epoch, Num_Epochs):\n\u001b[0;32m---> <a href='vscode-notebook-cell:/home/exi/uni/2024/525/project/multi_emotions.ipynb#X46sZmlsZQ%3D%3D?line=32'>33</a>\u001b[0m   \u001b[39mfor\u001b[39;49;00m i_batch, sample_batched \u001b[39min\u001b[39;49;00m \u001b[39menumerate\u001b[39;49m(train_loader):\n\u001b[1;32m     <a href='vscode-notebook-cell:/home/exi/uni/2024/525/project/multi_emotions.ipynb#X46sZmlsZQ%3D%3D?line=33'>34</a>\u001b[0m \n\u001b[1;32m     <a href='vscode-notebook-cell:/home/exi/uni/2024/525/project/multi_emotions.ipynb#X46sZmlsZQ%3D%3D?line=34'>35</a>\u001b[0m     \u001b[39m# data and labels\u001b[39;49;00m\n\u001b[1;32m     <a href='vscode-notebook-cell:/home/exi/uni/2024/525/project/multi_emotions.ipynb#X46sZmlsZQ%3D%3D?line=35'>36</a>\u001b[0m     inputs, labels \u001b[39m=\u001b[39;49m sample_batched[\u001b[39m0\u001b[39;49m], sample_batched[\u001b[39m1\u001b[39;49m]\n\u001b[1;32m     <a href='vscode-notebook-cell:/home/exi/uni/2024/525/project/multi_emotions.ipynb#X46sZmlsZQ%3D%3D?line=37'>38</a>\u001b[0m     \u001b[39m# resets all gradients for this mini-batch\u001b[39;49;00m\n",
      "File \u001b[0;32m~/programs/lib/python3.11/site-packages/torch/utils/data/dataloader.py:631\u001b[0m, in \u001b[0;36m_BaseDataLoaderIter.__next__\u001b[0;34m(self)\u001b[0m\n\u001b[1;32m    628\u001b[0m \u001b[39mif\u001b[39;00m \u001b[39mself\u001b[39m\u001b[39m.\u001b[39m_sampler_iter \u001b[39mis\u001b[39;00m \u001b[39mNone\u001b[39;00m:\n\u001b[1;32m    629\u001b[0m     \u001b[39m# TODO(https://github.com/pytorch/pytorch/issues/76750)\u001b[39;00m\n\u001b[1;32m    630\u001b[0m     \u001b[39mself\u001b[39m\u001b[39m.\u001b[39m_reset()  \u001b[39m# type: ignore[call-arg]\u001b[39;00m\n\u001b[0;32m--> 631\u001b[0m data \u001b[39m=\u001b[39m \u001b[39mself\u001b[39;49m\u001b[39m.\u001b[39;49m_next_data()\n\u001b[1;32m    632\u001b[0m \u001b[39mself\u001b[39m\u001b[39m.\u001b[39m_num_yielded \u001b[39m+\u001b[39m\u001b[39m=\u001b[39m \u001b[39m1\u001b[39m\n\u001b[1;32m    633\u001b[0m \u001b[39mif\u001b[39;00m \u001b[39mself\u001b[39m\u001b[39m.\u001b[39m_dataset_kind \u001b[39m==\u001b[39m _DatasetKind\u001b[39m.\u001b[39mIterable \u001b[39mand\u001b[39;00m \\\n\u001b[1;32m    634\u001b[0m         \u001b[39mself\u001b[39m\u001b[39m.\u001b[39m_IterableDataset_len_called \u001b[39mis\u001b[39;00m \u001b[39mnot\u001b[39;00m \u001b[39mNone\u001b[39;00m \u001b[39mand\u001b[39;00m \\\n\u001b[1;32m    635\u001b[0m         \u001b[39mself\u001b[39m\u001b[39m.\u001b[39m_num_yielded \u001b[39m>\u001b[39m \u001b[39mself\u001b[39m\u001b[39m.\u001b[39m_IterableDataset_len_called:\n",
      "File \u001b[0;32m~/programs/lib/python3.11/site-packages/torch/utils/data/dataloader.py:675\u001b[0m, in \u001b[0;36m_SingleProcessDataLoaderIter._next_data\u001b[0;34m(self)\u001b[0m\n\u001b[1;32m    673\u001b[0m \u001b[39mdef\u001b[39;00m \u001b[39m_next_data\u001b[39m(\u001b[39mself\u001b[39m):\n\u001b[1;32m    674\u001b[0m     index \u001b[39m=\u001b[39m \u001b[39mself\u001b[39m\u001b[39m.\u001b[39m_next_index()  \u001b[39m# may raise StopIteration\u001b[39;00m\n\u001b[0;32m--> 675\u001b[0m     data \u001b[39m=\u001b[39m \u001b[39mself\u001b[39;49m\u001b[39m.\u001b[39;49m_dataset_fetcher\u001b[39m.\u001b[39;49mfetch(index)  \u001b[39m# may raise StopIteration\u001b[39;00m\n\u001b[1;32m    676\u001b[0m     \u001b[39mif\u001b[39;00m \u001b[39mself\u001b[39m\u001b[39m.\u001b[39m_pin_memory:\n\u001b[1;32m    677\u001b[0m         data \u001b[39m=\u001b[39m _utils\u001b[39m.\u001b[39mpin_memory\u001b[39m.\u001b[39mpin_memory(data, \u001b[39mself\u001b[39m\u001b[39m.\u001b[39m_pin_memory_device)\n",
      "File \u001b[0;32m~/programs/lib/python3.11/site-packages/torch/utils/data/_utils/fetch.py:49\u001b[0m, in \u001b[0;36m_MapDatasetFetcher.fetch\u001b[0;34m(self, possibly_batched_index)\u001b[0m\n\u001b[1;32m     47\u001b[0m \u001b[39mif\u001b[39;00m \u001b[39mself\u001b[39m\u001b[39m.\u001b[39mauto_collation:\n\u001b[1;32m     48\u001b[0m     \u001b[39mif\u001b[39;00m \u001b[39mhasattr\u001b[39m(\u001b[39mself\u001b[39m\u001b[39m.\u001b[39mdataset, \u001b[39m\"\u001b[39m\u001b[39m__getitems__\u001b[39m\u001b[39m\"\u001b[39m) \u001b[39mand\u001b[39;00m \u001b[39mself\u001b[39m\u001b[39m.\u001b[39mdataset\u001b[39m.\u001b[39m__getitems__:\n\u001b[0;32m---> 49\u001b[0m         data \u001b[39m=\u001b[39m \u001b[39mself\u001b[39;49m\u001b[39m.\u001b[39;49mdataset\u001b[39m.\u001b[39;49m__getitems__(possibly_batched_index)\n\u001b[1;32m     50\u001b[0m     \u001b[39melse\u001b[39;00m:\n\u001b[1;32m     51\u001b[0m         data \u001b[39m=\u001b[39m [\u001b[39mself\u001b[39m\u001b[39m.\u001b[39mdataset[idx] \u001b[39mfor\u001b[39;00m idx \u001b[39min\u001b[39;00m possibly_batched_index]\n",
      "File \u001b[0;32m~/programs/lib/python3.11/site-packages/torch/utils/data/dataset.py:399\u001b[0m, in \u001b[0;36mSubset.__getitems__\u001b[0;34m(self, indices)\u001b[0m\n\u001b[1;32m    397\u001b[0m     \u001b[39mreturn\u001b[39;00m \u001b[39mself\u001b[39m\u001b[39m.\u001b[39mdataset\u001b[39m.\u001b[39m__getitems__([\u001b[39mself\u001b[39m\u001b[39m.\u001b[39mindices[idx] \u001b[39mfor\u001b[39;00m idx \u001b[39min\u001b[39;00m indices])  \u001b[39m# type: ignore[attr-defined]\u001b[39;00m\n\u001b[1;32m    398\u001b[0m \u001b[39melse\u001b[39;00m:\n\u001b[0;32m--> 399\u001b[0m     \u001b[39mreturn\u001b[39;00m [\u001b[39mself\u001b[39;49m\u001b[39m.\u001b[39;49mdataset[\u001b[39mself\u001b[39;49m\u001b[39m.\u001b[39;49mindices[idx]] \u001b[39mfor\u001b[39;49;00m idx \u001b[39min\u001b[39;49;00m indices]\n",
      "File \u001b[0;32m~/programs/lib/python3.11/site-packages/torch/utils/data/dataset.py:399\u001b[0m, in \u001b[0;36m<listcomp>\u001b[0;34m(.0)\u001b[0m\n\u001b[1;32m    397\u001b[0m     \u001b[39mreturn\u001b[39;00m \u001b[39mself\u001b[39m\u001b[39m.\u001b[39mdataset\u001b[39m.\u001b[39m__getitems__([\u001b[39mself\u001b[39m\u001b[39m.\u001b[39mindices[idx] \u001b[39mfor\u001b[39;00m idx \u001b[39min\u001b[39;00m indices])  \u001b[39m# type: ignore[attr-defined]\u001b[39;00m\n\u001b[1;32m    398\u001b[0m \u001b[39melse\u001b[39;00m:\n\u001b[0;32m--> 399\u001b[0m     \u001b[39mreturn\u001b[39;00m [\u001b[39mself\u001b[39;49m\u001b[39m.\u001b[39;49mdataset[\u001b[39mself\u001b[39;49m\u001b[39m.\u001b[39;49mindices[idx]] \u001b[39mfor\u001b[39;00m idx \u001b[39min\u001b[39;00m indices]\n",
      "File \u001b[0;32m~/programs/lib/python3.11/site-packages/torchvision/datasets/folder.py:231\u001b[0m, in \u001b[0;36mDatasetFolder.__getitem__\u001b[0;34m(self, index)\u001b[0m\n\u001b[1;32m    229\u001b[0m sample \u001b[39m=\u001b[39m \u001b[39mself\u001b[39m\u001b[39m.\u001b[39mloader(path)\n\u001b[1;32m    230\u001b[0m \u001b[39mif\u001b[39;00m \u001b[39mself\u001b[39m\u001b[39m.\u001b[39mtransform \u001b[39mis\u001b[39;00m \u001b[39mnot\u001b[39;00m \u001b[39mNone\u001b[39;00m:\n\u001b[0;32m--> 231\u001b[0m     sample \u001b[39m=\u001b[39m \u001b[39mself\u001b[39;49m\u001b[39m.\u001b[39;49mtransform(sample)\n\u001b[1;32m    232\u001b[0m \u001b[39mif\u001b[39;00m \u001b[39mself\u001b[39m\u001b[39m.\u001b[39mtarget_transform \u001b[39mis\u001b[39;00m \u001b[39mnot\u001b[39;00m \u001b[39mNone\u001b[39;00m:\n\u001b[1;32m    233\u001b[0m     target \u001b[39m=\u001b[39m \u001b[39mself\u001b[39m\u001b[39m.\u001b[39mtarget_transform(target)\n",
      "File \u001b[0;32m~/programs/lib/python3.11/site-packages/torchvision/transforms/transforms.py:95\u001b[0m, in \u001b[0;36mCompose.__call__\u001b[0;34m(self, img)\u001b[0m\n\u001b[1;32m     93\u001b[0m \u001b[39mdef\u001b[39;00m \u001b[39m__call__\u001b[39m(\u001b[39mself\u001b[39m, img):\n\u001b[1;32m     94\u001b[0m     \u001b[39mfor\u001b[39;00m t \u001b[39min\u001b[39;00m \u001b[39mself\u001b[39m\u001b[39m.\u001b[39mtransforms:\n\u001b[0;32m---> 95\u001b[0m         img \u001b[39m=\u001b[39m t(img)\n\u001b[1;32m     96\u001b[0m     \u001b[39mreturn\u001b[39;00m img\n",
      "File \u001b[0;32m~/programs/lib/python3.11/site-packages/torch/nn/modules/module.py:1511\u001b[0m, in \u001b[0;36mModule._wrapped_call_impl\u001b[0;34m(self, *args, **kwargs)\u001b[0m\n\u001b[1;32m   1509\u001b[0m     \u001b[39mreturn\u001b[39;00m \u001b[39mself\u001b[39m\u001b[39m.\u001b[39m_compiled_call_impl(\u001b[39m*\u001b[39margs, \u001b[39m*\u001b[39m\u001b[39m*\u001b[39mkwargs)  \u001b[39m# type: ignore[misc]\u001b[39;00m\n\u001b[1;32m   1510\u001b[0m \u001b[39melse\u001b[39;00m:\n\u001b[0;32m-> 1511\u001b[0m     \u001b[39mreturn\u001b[39;00m \u001b[39mself\u001b[39;49m\u001b[39m.\u001b[39;49m_call_impl(\u001b[39m*\u001b[39;49margs, \u001b[39m*\u001b[39;49m\u001b[39m*\u001b[39;49mkwargs)\n",
      "File \u001b[0;32m~/programs/lib/python3.11/site-packages/torch/nn/modules/module.py:1520\u001b[0m, in \u001b[0;36mModule._call_impl\u001b[0;34m(self, *args, **kwargs)\u001b[0m\n\u001b[1;32m   1515\u001b[0m \u001b[39m# If we don't have any hooks, we want to skip the rest of the logic in\u001b[39;00m\n\u001b[1;32m   1516\u001b[0m \u001b[39m# this function, and just call forward.\u001b[39;00m\n\u001b[1;32m   1517\u001b[0m \u001b[39mif\u001b[39;00m \u001b[39mnot\u001b[39;00m (\u001b[39mself\u001b[39m\u001b[39m.\u001b[39m_backward_hooks \u001b[39mor\u001b[39;00m \u001b[39mself\u001b[39m\u001b[39m.\u001b[39m_backward_pre_hooks \u001b[39mor\u001b[39;00m \u001b[39mself\u001b[39m\u001b[39m.\u001b[39m_forward_hooks \u001b[39mor\u001b[39;00m \u001b[39mself\u001b[39m\u001b[39m.\u001b[39m_forward_pre_hooks\n\u001b[1;32m   1518\u001b[0m         \u001b[39mor\u001b[39;00m _global_backward_pre_hooks \u001b[39mor\u001b[39;00m _global_backward_hooks\n\u001b[1;32m   1519\u001b[0m         \u001b[39mor\u001b[39;00m _global_forward_hooks \u001b[39mor\u001b[39;00m _global_forward_pre_hooks):\n\u001b[0;32m-> 1520\u001b[0m     \u001b[39mreturn\u001b[39;00m forward_call(\u001b[39m*\u001b[39;49margs, \u001b[39m*\u001b[39;49m\u001b[39m*\u001b[39;49mkwargs)\n\u001b[1;32m   1522\u001b[0m \u001b[39mtry\u001b[39;00m:\n\u001b[1;32m   1523\u001b[0m     result \u001b[39m=\u001b[39m \u001b[39mNone\u001b[39;00m\n",
      "File \u001b[0;32m~/programs/lib/python3.11/site-packages/torchvision/transforms/transforms.py:354\u001b[0m, in \u001b[0;36mResize.forward\u001b[0;34m(self, img)\u001b[0m\n\u001b[1;32m    346\u001b[0m \u001b[39mdef\u001b[39;00m \u001b[39mforward\u001b[39m(\u001b[39mself\u001b[39m, img):\n\u001b[1;32m    347\u001b[0m \u001b[39m    \u001b[39m\u001b[39m\"\"\"\u001b[39;00m\n\u001b[1;32m    348\u001b[0m \u001b[39m    Args:\u001b[39;00m\n\u001b[1;32m    349\u001b[0m \u001b[39m        img (PIL Image or Tensor): Image to be scaled.\u001b[39;00m\n\u001b[0;32m   (...)\u001b[0m\n\u001b[1;32m    352\u001b[0m \u001b[39m        PIL Image or Tensor: Rescaled image.\u001b[39;00m\n\u001b[1;32m    353\u001b[0m \u001b[39m    \"\"\"\u001b[39;00m\n\u001b[0;32m--> 354\u001b[0m     \u001b[39mreturn\u001b[39;00m F\u001b[39m.\u001b[39;49mresize(img, \u001b[39mself\u001b[39;49m\u001b[39m.\u001b[39;49msize, \u001b[39mself\u001b[39;49m\u001b[39m.\u001b[39;49minterpolation, \u001b[39mself\u001b[39;49m\u001b[39m.\u001b[39;49mmax_size, \u001b[39mself\u001b[39;49m\u001b[39m.\u001b[39;49mantialias)\n",
      "File \u001b[0;32m~/programs/lib/python3.11/site-packages/torchvision/transforms/functional.py:467\u001b[0m, in \u001b[0;36mresize\u001b[0;34m(img, size, interpolation, max_size, antialias)\u001b[0m\n\u001b[1;32m    465\u001b[0m         warnings\u001b[39m.\u001b[39mwarn(\u001b[39m\"\u001b[39m\u001b[39mAnti-alias option is always applied for PIL Image input. Argument antialias is ignored.\u001b[39m\u001b[39m\"\u001b[39m)\n\u001b[1;32m    466\u001b[0m     pil_interpolation \u001b[39m=\u001b[39m pil_modes_mapping[interpolation]\n\u001b[0;32m--> 467\u001b[0m     \u001b[39mreturn\u001b[39;00m F_pil\u001b[39m.\u001b[39;49mresize(img, size\u001b[39m=\u001b[39;49moutput_size, interpolation\u001b[39m=\u001b[39;49mpil_interpolation)\n\u001b[1;32m    469\u001b[0m \u001b[39mreturn\u001b[39;00m F_t\u001b[39m.\u001b[39mresize(img, size\u001b[39m=\u001b[39moutput_size, interpolation\u001b[39m=\u001b[39minterpolation\u001b[39m.\u001b[39mvalue, antialias\u001b[39m=\u001b[39mantialias)\n",
      "File \u001b[0;32m~/programs/lib/python3.11/site-packages/torchvision/transforms/_functional_pil.py:250\u001b[0m, in \u001b[0;36mresize\u001b[0;34m(img, size, interpolation)\u001b[0m\n\u001b[1;32m    247\u001b[0m \u001b[39mif\u001b[39;00m \u001b[39mnot\u001b[39;00m (\u001b[39misinstance\u001b[39m(size, \u001b[39mlist\u001b[39m) \u001b[39mand\u001b[39;00m \u001b[39mlen\u001b[39m(size) \u001b[39m==\u001b[39m \u001b[39m2\u001b[39m):\n\u001b[1;32m    248\u001b[0m     \u001b[39mraise\u001b[39;00m \u001b[39mTypeError\u001b[39;00m(\u001b[39mf\u001b[39m\u001b[39m\"\u001b[39m\u001b[39mGot inappropriate size arg: \u001b[39m\u001b[39m{\u001b[39;00msize\u001b[39m}\u001b[39;00m\u001b[39m\"\u001b[39m)\n\u001b[0;32m--> 250\u001b[0m \u001b[39mreturn\u001b[39;00m img\u001b[39m.\u001b[39;49mresize(\u001b[39mtuple\u001b[39;49m(size[::\u001b[39m-\u001b[39;49m\u001b[39m1\u001b[39;49m]), interpolation)\n",
      "File \u001b[0;32m~/programs/lib/python3.11/site-packages/PIL/Image.py:2174\u001b[0m, in \u001b[0;36mImage.resize\u001b[0;34m(self, size, resample, box, reducing_gap)\u001b[0m\n\u001b[1;32m   2166\u001b[0m             \u001b[39mself\u001b[39m \u001b[39m=\u001b[39m Image\u001b[39m.\u001b[39mreduce(\u001b[39mself\u001b[39m, factor, box\u001b[39m=\u001b[39mreduce_box)\n\u001b[1;32m   2167\u001b[0m         box \u001b[39m=\u001b[39m (\n\u001b[1;32m   2168\u001b[0m             (box[\u001b[39m0\u001b[39m] \u001b[39m-\u001b[39m reduce_box[\u001b[39m0\u001b[39m]) \u001b[39m/\u001b[39m factor_x,\n\u001b[1;32m   2169\u001b[0m             (box[\u001b[39m1\u001b[39m] \u001b[39m-\u001b[39m reduce_box[\u001b[39m1\u001b[39m]) \u001b[39m/\u001b[39m factor_y,\n\u001b[1;32m   2170\u001b[0m             (box[\u001b[39m2\u001b[39m] \u001b[39m-\u001b[39m reduce_box[\u001b[39m0\u001b[39m]) \u001b[39m/\u001b[39m factor_x,\n\u001b[1;32m   2171\u001b[0m             (box[\u001b[39m3\u001b[39m] \u001b[39m-\u001b[39m reduce_box[\u001b[39m1\u001b[39m]) \u001b[39m/\u001b[39m factor_y,\n\u001b[1;32m   2172\u001b[0m         )\n\u001b[0;32m-> 2174\u001b[0m \u001b[39mreturn\u001b[39;00m \u001b[39mself\u001b[39m\u001b[39m.\u001b[39m_new(\u001b[39mself\u001b[39;49m\u001b[39m.\u001b[39;49mim\u001b[39m.\u001b[39;49mresize(size, resample, box))\n",
      "\u001b[0;31mKeyboardInterrupt\u001b[0m: "
     ]
    }
   ],
   "source": [
    "def objective_SGD(trial):\n",
    "\n",
    "    # Trial configuration\n",
    "    # Name for run\n",
    "    run_name = \"Optuna-Test\"\n",
    "    # How many epochs before saving progress\n",
    "    checkpoint_interval = 10\n",
    "    #Number of epochs\n",
    "    Num_Epochs = 20\n",
    "    ## Loss\n",
    "    criterion = nn.CrossEntropyLoss()\n",
    "\n",
    "    ##############################################\n",
    "    # Hyperparameters search spaces\n",
    "    # Learning rate\n",
    "    lr = trial.suggest_float(\"lr\", 1e-5, 1e-1, log=True)\n",
    "    # L2 Normalization lambda\n",
    "    weight_decay = trial.suggest_float(\"L2\", 1e-5, 1e-1, log=True)\n",
    "    # Batch size\n",
    "    batch_size = trial.suggest_categorical(\"batch_size\", [1, 2, 4, 8])\n",
    "    momentum = 0.9\n",
    "    nesterov = trial.suggest_categorical(\"nesterov\", [True, False])\n",
    "    \n",
    "\n",
    "    #################################################\n",
    "    # Generate data loader based on new batch size\n",
    "    train_loader = torch.utils.data.DataLoader(dataset=splits[1], shuffle=True, num_workers=0,\n",
    "                                           batch_size=batch_size, drop_last=True)\n",
    "    val_loader = torch.utils.data.DataLoader(dataset=splits[0], shuffle=True, num_workers=0,\n",
    "                                           batch_size=1, drop_last=True)\n",
    "\n",
    "    #################################################\n",
    "    # Create network architecture\n",
    "\n",
    "    model = ConvNetWithoutDropout(len(data.classes))\n",
    "\n",
    "    # Initialize model weights\n",
    "    model.apply(init_weights)\n",
    "\n",
    "    ## Optimizer\n",
    "    optimizer = optim.SGD(model.parameters(), lr=lr, weight_decay=weight_decay, momentum=momentum, nesterov=nesterov)\n",
    "    # optimizer = optim.Adam(model.parameters(), lr=learning_rate, weight_decay=weight_decay, betas=adam_betas)\n",
    "\n",
    "    \n",
    "    #################################################\n",
    "    # Train model\n",
    "    model_final, trainloss, valloss = train_model(train_loader=train_loader, val_loader=val_loader, model=model,\n",
    "                                            criterion=criterion, optimizer=optimizer, Num_Epochs=Num_Epochs, checkpoint_interval=checkpoint_interval, run_name=run_name)\n",
    "\n",
    "    # Output model performance\n",
    "    #tr_acc = get_accuracy(net=model_final, data_loader=train_loader)\n",
    "    \n",
    "    tr_acc = get_accuracy(net=model_final, data_loader=train_loader)\n",
    "    val_acc = get_accuracy(net=model_final, data_loader=val_loader)\n",
    "    print(f\"Accuracy: Train: {tr_acc:.3f} | Val: {val_acc:0.3f}\" )\n",
    "    if(val_acc > 0.7):\n",
    "        torch.save(model, \"networks/SGD/net_\" + str(trial.number))\n",
    "    \n",
    "    # The objective function needs to return the metric to minimize or maximize\n",
    "    return val_acc\n",
    "\n",
    "study = optuna.create_study(direction=\"maximize\", study_name=\"SGD-Binary-Art\")\n",
    "study.optimize(objective_SGD, n_trials=100)\n",
    "\n",
    "print(\"Best trial:\")\n",
    "trial = study.best_trial\n",
    "print(f\" Value: {trial.value}\")\n",
    "print(\" Params: \")\n",
    "for key, value in trial.params.items():\n",
    "    print(f\"    {key}: {value}\")"
   ]
  },
  {
   "cell_type": "markdown",
   "metadata": {},
   "source": [
    "Hyperparameter Tuning"
   ]
  },
  {
   "cell_type": "code",
   "execution_count": 86,
   "metadata": {},
   "outputs": [
    {
     "name": "stderr",
     "output_type": "stream",
     "text": [
      "[I 2024-05-09 11:29:16,898] A new study created in memory with name: Adam-binary-art\n",
      "/tmp/ipykernel_5357/1099974826.py:5: UserWarning: nn.init.xavier_uniform is now deprecated in favor of nn.init.xavier_uniform_.\n",
      "  torch.nn.init.xavier_uniform(m.weight)\n"
     ]
    },
    {
     "name": "stdout",
     "output_type": "stream",
     "text": [
      "[E= 9] [it=  270] Train Loss: 0.956, Test Loss: 1.408\n",
      "[E=19] [it=  540] Train Loss: 0.412, Test Loss: 2.179\n"
     ]
    },
    {
     "name": "stderr",
     "output_type": "stream",
     "text": [
      "[I 2024-05-09 11:30:28,430] Trial 0 finished with value: 0.3361702127659575 and parameters: {'lr': 0.0009359212220607435, 'L2': 0.0027519304635946953, 'batch_size': 8, 'beta1': 0.06507846903260023, 'beta2': 3.0642336213106884e-05}. Best is trial 0 with value: 0.3361702127659575.\n"
     ]
    },
    {
     "name": "stdout",
     "output_type": "stream",
     "text": [
      "Accuracy: Train: 0.852 | Val: 0.336\n",
      "[E= 9] [it= 1090] Train Loss: 0.890, Test Loss: 1.495\n",
      "[E=19] [it= 2180] Train Loss: 0.250, Test Loss: 2.373\n"
     ]
    },
    {
     "name": "stderr",
     "output_type": "stream",
     "text": [
      "[I 2024-05-09 11:31:46,183] Trial 1 finished with value: 0.36808510638297876 and parameters: {'lr': 0.000725839659613092, 'L2': 3.4593841203865394e-05, 'batch_size': 2, 'beta1': 0.06428793604424214, 'beta2': 0.00035706972290597586}. Best is trial 1 with value: 0.36808510638297876.\n"
     ]
    },
    {
     "name": "stdout",
     "output_type": "stream",
     "text": [
      "Accuracy: Train: 0.894 | Val: 0.368\n",
      "[E= 9] [it= 1090] Train Loss: 1.217, Test Loss: 1.408\n",
      "[E=19] [it= 2180] Train Loss: 0.918, Test Loss: 1.438\n"
     ]
    },
    {
     "name": "stderr",
     "output_type": "stream",
     "text": [
      "[I 2024-05-09 11:33:01,589] Trial 2 finished with value: 0.43404255319148943 and parameters: {'lr': 0.0002384923898590681, 'L2': 4.2474075758407604e-05, 'batch_size': 2, 'beta1': 0.05008197026329571, 'beta2': 0.0008465446964876492}. Best is trial 2 with value: 0.43404255319148943.\n"
     ]
    },
    {
     "name": "stdout",
     "output_type": "stream",
     "text": [
      "Accuracy: Train: 0.637 | Val: 0.434\n",
      "[E= 9] [it=  540] Train Loss: 1.522, Test Loss: 1.427\n",
      "[E=19] [it= 1080] Train Loss: 1.519, Test Loss: 1.501\n"
     ]
    },
    {
     "name": "stderr",
     "output_type": "stream",
     "text": [
      "[I 2024-05-09 11:34:13,575] Trial 3 finished with value: 0.11702127659574468 and parameters: {'lr': 0.05430427791198234, 'L2': 0.008464023476989437, 'batch_size': 4, 'beta1': 0.08054928352451786, 'beta2': 0.0009638028206625181}. Best is trial 2 with value: 0.43404255319148943.\n"
     ]
    },
    {
     "name": "stdout",
     "output_type": "stream",
     "text": [
      "Accuracy: Train: 0.201 | Val: 0.117\n",
      "[E= 9] [it=  270] Train Loss: 1.200, Test Loss: 1.366\n",
      "[E=19] [it=  540] Train Loss: 0.936, Test Loss: 1.364\n"
     ]
    },
    {
     "name": "stderr",
     "output_type": "stream",
     "text": [
      "[I 2024-05-09 11:35:20,966] Trial 4 finished with value: 0.3638297872340426 and parameters: {'lr': 0.00014084823617758007, 'L2': 4.373716187948852e-05, 'batch_size': 8, 'beta1': 0.0774685007778508, 'beta2': 1.677621193090685e-05}. Best is trial 2 with value: 0.43404255319148943.\n"
     ]
    },
    {
     "name": "stdout",
     "output_type": "stream",
     "text": [
      "Accuracy: Train: 0.622 | Val: 0.364\n",
      "[E= 9] [it=  270] Train Loss: 1.368, Test Loss: 1.338\n",
      "[E=19] [it=  540] Train Loss: 1.190, Test Loss: 1.445\n"
     ]
    },
    {
     "name": "stderr",
     "output_type": "stream",
     "text": [
      "[I 2024-05-09 11:36:27,555] Trial 5 finished with value: 0.3191489361702128 and parameters: {'lr': 5.902637070783986e-05, 'L2': 4.472496125523109e-05, 'batch_size': 8, 'beta1': 0.14106504435550557, 'beta2': 0.0003106246770840894}. Best is trial 2 with value: 0.43404255319148943.\n"
     ]
    },
    {
     "name": "stdout",
     "output_type": "stream",
     "text": [
      "Accuracy: Train: 0.530 | Val: 0.319\n",
      "[E= 9] [it= 2180] Train Loss: 1.003, Test Loss: 1.278\n",
      "[E=19] [it= 4360] Train Loss: 0.543, Test Loss: 2.193\n"
     ]
    },
    {
     "name": "stderr",
     "output_type": "stream",
     "text": [
      "[I 2024-05-09 11:38:09,271] Trial 6 finished with value: 0.3234042553191489 and parameters: {'lr': 0.00038122797659744916, 'L2': 0.007170200739729629, 'batch_size': 1, 'beta1': 0.0577833019949298, 'beta2': 0.0007113241397514563}. Best is trial 2 with value: 0.43404255319148943.\n"
     ]
    },
    {
     "name": "stdout",
     "output_type": "stream",
     "text": [
      "Accuracy: Train: 0.763 | Val: 0.323\n",
      "[E= 9] [it= 2180] Train Loss: 1.219, Test Loss: 1.313\n",
      "[E=19] [it= 4360] Train Loss: 1.002, Test Loss: 1.318\n"
     ]
    },
    {
     "name": "stderr",
     "output_type": "stream",
     "text": [
      "[I 2024-05-09 11:39:41,929] Trial 7 finished with value: 0.451063829787234 and parameters: {'lr': 5.176424893843953e-05, 'L2': 5.458031295113192e-05, 'batch_size': 1, 'beta1': 0.0682311165371654, 'beta2': 5.711828465723505e-05}. Best is trial 7 with value: 0.451063829787234.\n"
     ]
    },
    {
     "name": "stdout",
     "output_type": "stream",
     "text": [
      "Accuracy: Train: 0.633 | Val: 0.451\n",
      "[E= 9] [it=  540] Train Loss: 1.524, Test Loss: 1.429\n",
      "[E=19] [it= 1080] Train Loss: 1.528, Test Loss: 1.414\n"
     ]
    },
    {
     "name": "stderr",
     "output_type": "stream",
     "text": [
      "[I 2024-05-09 11:40:54,859] Trial 8 finished with value: 0.4148936170212766 and parameters: {'lr': 0.03644698040135515, 'L2': 8.743579979392975e-05, 'batch_size': 4, 'beta1': 0.13889043278187369, 'beta2': 4.158081274960392e-05}. Best is trial 7 with value: 0.451063829787234.\n"
     ]
    },
    {
     "name": "stdout",
     "output_type": "stream",
     "text": [
      "Accuracy: Train: 0.323 | Val: 0.415\n",
      "[E= 9] [it=  540] Train Loss: 1.377, Test Loss: 1.379\n",
      "[E=19] [it= 1080] Train Loss: 1.379, Test Loss: 1.376\n"
     ]
    },
    {
     "name": "stderr",
     "output_type": "stream",
     "text": [
      "[I 2024-05-09 11:42:12,161] Trial 9 finished with value: 0.30425531914893617 and parameters: {'lr': 0.000437431081946108, 'L2': 0.06723512240953802, 'batch_size': 4, 'beta1': 0.11962095696658054, 'beta2': 0.00024794150321208144}. Best is trial 7 with value: 0.451063829787234.\n"
     ]
    },
    {
     "name": "stdout",
     "output_type": "stream",
     "text": [
      "Accuracy: Train: 0.414 | Val: 0.304\n",
      "[E= 9] [it= 2180] Train Loss: 1.371, Test Loss: 1.355\n",
      "[E=19] [it= 4360] Train Loss: 1.235, Test Loss: 1.380\n"
     ]
    },
    {
     "name": "stderr",
     "output_type": "stream",
     "text": [
      "[I 2024-05-09 11:43:40,781] Trial 10 finished with value: 0.3234042553191489 and parameters: {'lr': 1.4812717124902092e-05, 'L2': 0.0004645929812079955, 'batch_size': 1, 'beta1': 0.1112200733186834, 'beta2': 7.411666756521293e-05}. Best is trial 7 with value: 0.451063829787234.\n"
     ]
    },
    {
     "name": "stdout",
     "output_type": "stream",
     "text": [
      "Accuracy: Train: 0.487 | Val: 0.323\n",
      "[E= 9] [it= 1090] Train Loss: 1.404, Test Loss: 1.372\n",
      "[E=19] [it= 2180] Train Loss: 1.338, Test Loss: 1.341\n"
     ]
    },
    {
     "name": "stderr",
     "output_type": "stream",
     "text": [
      "[I 2024-05-09 11:45:00,631] Trial 11 finished with value: 0.34042553191489366 and parameters: {'lr': 1.0319193232059042e-05, 'L2': 1.0762961099174924e-05, 'batch_size': 2, 'beta1': 0.05119081279241623, 'beta2': 0.00012027110301969786}. Best is trial 7 with value: 0.451063829787234.\n"
     ]
    },
    {
     "name": "stdout",
     "output_type": "stream",
     "text": [
      "Accuracy: Train: 0.412 | Val: 0.340\n",
      "[E= 9] [it= 2180] Train Loss: 1.519, Test Loss: 1.416\n",
      "[E=19] [it= 4360] Train Loss: 1.517, Test Loss: 1.416\n"
     ]
    },
    {
     "name": "stderr",
     "output_type": "stream",
     "text": [
      "[I 2024-05-09 11:46:47,115] Trial 12 finished with value: 0.4148936170212766 and parameters: {'lr': 0.004386571294932379, 'L2': 0.0003341586561326199, 'batch_size': 1, 'beta1': 0.05056439405720131, 'beta2': 9.801742302725573e-05}. Best is trial 7 with value: 0.451063829787234.\n"
     ]
    },
    {
     "name": "stdout",
     "output_type": "stream",
     "text": [
      "Accuracy: Train: 0.326 | Val: 0.415\n",
      "[E= 9] [it= 1090] Train Loss: 1.210, Test Loss: 1.344\n",
      "[E=19] [it= 2180] Train Loss: 0.937, Test Loss: 1.325\n"
     ]
    },
    {
     "name": "stderr",
     "output_type": "stream",
     "text": [
      "[I 2024-05-09 11:48:07,346] Trial 13 finished with value: 0.40638297872340423 and parameters: {'lr': 5.56614122189716e-05, 'L2': 1.3560842629608106e-05, 'batch_size': 2, 'beta1': 0.09732367933290441, 'beta2': 1.3563021247552251e-05}. Best is trial 7 with value: 0.451063829787234.\n"
     ]
    },
    {
     "name": "stdout",
     "output_type": "stream",
     "text": [
      "Accuracy: Train: 0.661 | Val: 0.406\n",
      "[E= 9] [it= 1090] Train Loss: 1.532, Test Loss: 1.412\n",
      "[E=19] [it= 2180] Train Loss: 1.522, Test Loss: 1.426\n"
     ]
    },
    {
     "name": "stderr",
     "output_type": "stream",
     "text": [
      "[I 2024-05-09 11:49:28,558] Trial 14 finished with value: 0.11702127659574468 and parameters: {'lr': 0.007000551798798975, 'L2': 0.00021806468029278878, 'batch_size': 2, 'beta1': 0.06770577400654494, 'beta2': 0.0001669811720542138}. Best is trial 7 with value: 0.451063829787234.\n"
     ]
    },
    {
     "name": "stdout",
     "output_type": "stream",
     "text": [
      "Accuracy: Train: 0.202 | Val: 0.117\n",
      "[E= 9] [it= 2180] Train Loss: 1.146, Test Loss: 1.380\n",
      "[E=19] [it= 4360] Train Loss: 0.774, Test Loss: 1.438\n"
     ]
    },
    {
     "name": "stderr",
     "output_type": "stream",
     "text": [
      "[I 2024-05-09 11:51:02,447] Trial 15 finished with value: 0.4234042553191489 and parameters: {'lr': 0.00012024124148554164, 'L2': 0.001175672359888342, 'batch_size': 1, 'beta1': 0.07337491882311528, 'beta2': 5.119205626596826e-05}. Best is trial 7 with value: 0.451063829787234.\n"
     ]
    },
    {
     "name": "stdout",
     "output_type": "stream",
     "text": [
      "Accuracy: Train: 0.733 | Val: 0.423\n",
      "[E= 9] [it= 2180] Train Loss: 1.060, Test Loss: 1.870\n",
      "[E=19] [it= 4360] Train Loss: 0.695, Test Loss: 1.990\n"
     ]
    },
    {
     "name": "stderr",
     "output_type": "stream",
     "text": [
      "[I 2024-05-09 11:53:00,654] Trial 16 finished with value: 0.36808510638297876 and parameters: {'lr': 0.0037581844888138977, 'L2': 0.00014400729039964298, 'batch_size': 1, 'beta1': 0.09142306110206724, 'beta2': 2.5241009148322895e-05}. Best is trial 7 with value: 0.451063829787234.\n"
     ]
    },
    {
     "name": "stdout",
     "output_type": "stream",
     "text": [
      "Accuracy: Train: 0.717 | Val: 0.368\n",
      "[E= 9] [it= 1090] Train Loss: 1.290, Test Loss: 1.352\n",
      "[E=19] [it= 2180] Train Loss: 1.100, Test Loss: 1.325\n"
     ]
    },
    {
     "name": "stderr",
     "output_type": "stream",
     "text": [
      "[I 2024-05-09 11:54:20,284] Trial 17 finished with value: 0.42765957446808506 and parameters: {'lr': 3.6070161839755713e-05, 'L2': 0.0011988215302521565, 'batch_size': 2, 'beta1': 0.057941596010851956, 'beta2': 0.0005141841048669563}. Best is trial 7 with value: 0.451063829787234.\n"
     ]
    },
    {
     "name": "stdout",
     "output_type": "stream",
     "text": [
      "Accuracy: Train: 0.574 | Val: 0.428\n",
      "[E= 9] [it= 1090] Train Loss: 1.190, Test Loss: 1.296\n",
      "[E=19] [it= 2180] Train Loss: 0.842, Test Loss: 1.432\n"
     ]
    },
    {
     "name": "stderr",
     "output_type": "stream",
     "text": [
      "[I 2024-05-09 11:55:40,158] Trial 18 finished with value: 0.3659574468085106 and parameters: {'lr': 0.00017184308237693646, 'L2': 2.311714636751152e-05, 'batch_size': 2, 'beta1': 0.0565074908642755, 'beta2': 7.043738276890338e-05}. Best is trial 7 with value: 0.451063829787234.\n"
     ]
    },
    {
     "name": "stdout",
     "output_type": "stream",
     "text": [
      "Accuracy: Train: 0.659 | Val: 0.366\n",
      "[E= 9] [it= 2180] Train Loss: 0.961, Test Loss: 1.461\n",
      "[E=19] [it= 4360] Train Loss: 0.317, Test Loss: 2.210\n"
     ]
    },
    {
     "name": "stderr",
     "output_type": "stream",
     "text": [
      "[I 2024-05-09 11:57:25,828] Trial 19 finished with value: 0.448936170212766 and parameters: {'lr': 0.0016240498102723278, 'L2': 8.976984767509384e-05, 'batch_size': 1, 'beta1': 0.07004183523013485, 'beta2': 0.00016574123447676319}. Best is trial 7 with value: 0.451063829787234.\n"
     ]
    },
    {
     "name": "stdout",
     "output_type": "stream",
     "text": [
      "Accuracy: Train: 0.894 | Val: 0.449\n",
      "[E= 9] [it= 2180] Train Loss: 1.070, Test Loss: 1.500\n",
      "[E=19] [it= 4360] Train Loss: 0.415, Test Loss: 2.350\n"
     ]
    },
    {
     "name": "stderr",
     "output_type": "stream",
     "text": [
      "[I 2024-05-09 11:59:15,116] Trial 20 finished with value: 0.4382978723404255 and parameters: {'lr': 0.002281596333538861, 'L2': 0.00010697183108680403, 'batch_size': 1, 'beta1': 0.0895525590504371, 'beta2': 0.0001596740655328605}. Best is trial 7 with value: 0.451063829787234.\n"
     ]
    },
    {
     "name": "stdout",
     "output_type": "stream",
     "text": [
      "Accuracy: Train: 0.842 | Val: 0.438\n",
      "[E= 9] [it= 2180] Train Loss: 1.166, Test Loss: 1.736\n",
      "[E=19] [it= 4360] Train Loss: 0.628, Test Loss: 2.369\n"
     ]
    },
    {
     "name": "stderr",
     "output_type": "stream",
     "text": [
      "[I 2024-05-09 12:01:07,775] Trial 21 finished with value: 0.3319148936170213 and parameters: {'lr': 0.0027502888969788363, 'L2': 8.959245532939999e-05, 'batch_size': 1, 'beta1': 0.08348414350557595, 'beta2': 0.00016167778849876012}. Best is trial 7 with value: 0.451063829787234.\n"
     ]
    },
    {
     "name": "stdout",
     "output_type": "stream",
     "text": [
      "Accuracy: Train: 0.745 | Val: 0.332\n",
      "[E= 9] [it= 2180] Train Loss: 1.533, Test Loss: 1.416\n",
      "[E=19] [it= 4360] Train Loss: 1.525, Test Loss: 1.426\n"
     ]
    },
    {
     "name": "stderr",
     "output_type": "stream",
     "text": [
      "[I 2024-05-09 12:03:12,459] Trial 22 finished with value: 0.11702127659574468 and parameters: {'lr': 0.01603658460034295, 'L2': 0.00047165278333984934, 'batch_size': 1, 'beta1': 0.09813441670288806, 'beta2': 0.00020831637676203604}. Best is trial 7 with value: 0.451063829787234.\n"
     ]
    },
    {
     "name": "stdout",
     "output_type": "stream",
     "text": [
      "Accuracy: Train: 0.202 | Val: 0.117\n",
      "[E= 9] [it= 2180] Train Loss: 0.780, Test Loss: 1.702\n",
      "[E=19] [it= 4360] Train Loss: 0.389, Test Loss: 2.721\n"
     ]
    },
    {
     "name": "stderr",
     "output_type": "stream",
     "text": [
      "[I 2024-05-09 12:05:01,669] Trial 23 finished with value: 0.3765957446808511 and parameters: {'lr': 0.002018392328310034, 'L2': 0.00012972345157852497, 'batch_size': 1, 'beta1': 0.07180369151573654, 'beta2': 0.00010694561437680174}. Best is trial 7 with value: 0.451063829787234.\n"
     ]
    },
    {
     "name": "stdout",
     "output_type": "stream",
     "text": [
      "Accuracy: Train: 0.884 | Val: 0.377\n",
      "[E= 9] [it= 2180] Train Loss: 1.520, Test Loss: 1.421\n",
      "[E=19] [it= 4360] Train Loss: 1.518, Test Loss: 1.422\n"
     ]
    },
    {
     "name": "stderr",
     "output_type": "stream",
     "text": [
      "[I 2024-05-09 12:06:58,591] Trial 24 finished with value: 0.11702127659574468 and parameters: {'lr': 0.009283593873253792, 'L2': 7.479443778055991e-05, 'batch_size': 1, 'beta1': 0.08676098119200581, 'beta2': 6.39514432366159e-05}. Best is trial 7 with value: 0.451063829787234.\n"
     ]
    },
    {
     "name": "stdout",
     "output_type": "stream",
     "text": [
      "Accuracy: Train: 0.202 | Val: 0.117\n",
      "[E= 9] [it= 2180] Train Loss: 0.718, Test Loss: 1.382\n",
      "[E=19] [it= 4360] Train Loss: 0.167, Test Loss: 2.307\n"
     ]
    },
    {
     "name": "stderr",
     "output_type": "stream",
     "text": [
      "[I 2024-05-09 12:08:47,668] Trial 25 finished with value: 0.38510638297872346 and parameters: {'lr': 0.0014500456173748792, 'L2': 1.936892692412178e-05, 'batch_size': 1, 'beta1': 0.10646362620082844, 'beta2': 0.00014568059301540244}. Best is trial 7 with value: 0.451063829787234.\n"
     ]
    },
    {
     "name": "stdout",
     "output_type": "stream",
     "text": [
      "Accuracy: Train: 0.952 | Val: 0.385\n",
      "[E= 9] [it= 2180] Train Loss: 1.532, Test Loss: 1.428\n",
      "[E=19] [it= 4360] Train Loss: 1.526, Test Loss: 1.419\n"
     ]
    },
    {
     "name": "stderr",
     "output_type": "stream",
     "text": [
      "[I 2024-05-09 12:10:52,929] Trial 26 finished with value: 0.11702127659574468 and parameters: {'lr': 0.022520827830668208, 'L2': 0.00022870009554608247, 'batch_size': 1, 'beta1': 0.07329498854267524, 'beta2': 0.0004358793002187875}. Best is trial 7 with value: 0.451063829787234.\n"
     ]
    },
    {
     "name": "stdout",
     "output_type": "stream",
     "text": [
      "Accuracy: Train: 0.202 | Val: 0.117\n",
      "[E= 9] [it= 2180] Train Loss: 0.763, Test Loss: 1.431\n",
      "[E=19] [it= 4360] Train Loss: 0.283, Test Loss: 2.491\n"
     ]
    },
    {
     "name": "stderr",
     "output_type": "stream",
     "text": [
      "[I 2024-05-09 12:12:36,191] Trial 27 finished with value: 0.3638297872340426 and parameters: {'lr': 0.0007555595041106358, 'L2': 0.0007218781150504409, 'batch_size': 1, 'beta1': 0.061973389382201316, 'beta2': 0.00021716469658889545}. Best is trial 7 with value: 0.451063829787234.\n"
     ]
    },
    {
     "name": "stdout",
     "output_type": "stream",
     "text": [
      "Accuracy: Train: 0.912 | Val: 0.364\n",
      "[E= 9] [it= 2180] Train Loss: 1.028, Test Loss: 1.347\n",
      "[E=19] [it= 4360] Train Loss: 0.485, Test Loss: 1.946\n"
     ]
    },
    {
     "name": "stderr",
     "output_type": "stream",
     "text": [
      "[I 2024-05-09 12:14:35,668] Trial 28 finished with value: 0.35106382978723405 and parameters: {'lr': 0.0017682475731492582, 'L2': 0.0021061792624512293, 'batch_size': 1, 'beta1': 0.08935107216118326, 'beta2': 3.845063279339687e-05}. Best is trial 7 with value: 0.451063829787234.\n"
     ]
    },
    {
     "name": "stdout",
     "output_type": "stream",
     "text": [
      "Accuracy: Train: 0.750 | Val: 0.351\n",
      "[E= 9] [it=  270] Train Loss: 0.952, Test Loss: 1.458\n",
      "[E=19] [it=  540] Train Loss: 0.443, Test Loss: 1.882\n"
     ]
    },
    {
     "name": "stderr",
     "output_type": "stream",
     "text": [
      "[I 2024-05-09 12:15:42,608] Trial 29 finished with value: 0.34042553191489355 and parameters: {'lr': 0.0009962457720091402, 'L2': 0.00019226916815437108, 'batch_size': 8, 'beta1': 0.0667061495841669, 'beta2': 2.1223829469700543e-05}. Best is trial 7 with value: 0.451063829787234.\n"
     ]
    },
    {
     "name": "stdout",
     "output_type": "stream",
     "text": [
      "Accuracy: Train: 0.876 | Val: 0.340\n",
      "[E= 9] [it= 2180] Train Loss: 1.566, Test Loss: 1.443\n",
      "[E=19] [it= 4360] Train Loss: 1.574, Test Loss: 1.388\n"
     ]
    },
    {
     "name": "stderr",
     "output_type": "stream",
     "text": [
      "[I 2024-05-09 12:17:38,313] Trial 30 finished with value: 0.4148936170212766 and parameters: {'lr': 0.09050660167439663, 'L2': 7.489041551469607e-05, 'batch_size': 1, 'beta1': 0.08011891841109921, 'beta2': 1.025568154573803e-05}. Best is trial 7 with value: 0.451063829787234.\n"
     ]
    },
    {
     "name": "stdout",
     "output_type": "stream",
     "text": [
      "Accuracy: Train: 0.326 | Val: 0.415\n",
      "[E= 9] [it= 1090] Train Loss: 1.022, Test Loss: 1.267\n",
      "[E=19] [it= 2180] Train Loss: 0.502, Test Loss: 1.786\n"
     ]
    },
    {
     "name": "stderr",
     "output_type": "stream",
     "text": [
      "[I 2024-05-09 12:18:58,359] Trial 31 finished with value: 0.3127659574468085 and parameters: {'lr': 0.0003259160023469933, 'L2': 3.096844468652389e-05, 'batch_size': 2, 'beta1': 0.06158441793506904, 'beta2': 0.0007041386458622712}. Best is trial 7 with value: 0.451063829787234.\n"
     ]
    },
    {
     "name": "stdout",
     "output_type": "stream",
     "text": [
      "Accuracy: Train: 0.778 | Val: 0.313\n",
      "[E= 9] [it=  540] Train Loss: 1.162, Test Loss: 1.426\n",
      "[E=19] [it= 1080] Train Loss: 0.807, Test Loss: 1.443\n"
     ]
    },
    {
     "name": "stderr",
     "output_type": "stream",
     "text": [
      "[I 2024-05-09 12:20:09,623] Trial 32 finished with value: 0.41914893617021276 and parameters: {'lr': 0.00025586933212277285, 'L2': 5.0126440575059014e-05, 'batch_size': 4, 'beta1': 0.06978860265003269, 'beta2': 8.528560170971716e-05}. Best is trial 7 with value: 0.451063829787234.\n"
     ]
    },
    {
     "name": "stdout",
     "output_type": "stream",
     "text": [
      "Accuracy: Train: 0.720 | Val: 0.419\n",
      "[E= 9] [it= 1090] Train Loss: 1.334, Test Loss: 1.347\n",
      "[E=19] [it= 2180] Train Loss: 1.209, Test Loss: 1.348\n"
     ]
    },
    {
     "name": "stderr",
     "output_type": "stream",
     "text": [
      "[I 2024-05-09 12:21:29,565] Trial 33 finished with value: 0.34893617021276596 and parameters: {'lr': 3.3441539641293064e-05, 'L2': 1.948708205493354e-05, 'batch_size': 2, 'beta1': 0.07681435643514986, 'beta2': 0.00029749447535695116}. Best is trial 7 with value: 0.451063829787234.\n"
     ]
    },
    {
     "name": "stdout",
     "output_type": "stream",
     "text": [
      "Accuracy: Train: 0.461 | Val: 0.349\n",
      "[E= 9] [it=  270] Train Loss: 1.151, Test Loss: 1.292\n",
      "[E=19] [it=  540] Train Loss: 0.645, Test Loss: 1.406\n"
     ]
    },
    {
     "name": "stderr",
     "output_type": "stream",
     "text": [
      "[I 2024-05-09 12:22:35,948] Trial 34 finished with value: 0.4382978723404255 and parameters: {'lr': 0.0005337976235532821, 'L2': 5.4855259304581e-05, 'batch_size': 8, 'beta1': 0.0527032187894688, 'beta2': 5.341275213281378e-05}. Best is trial 7 with value: 0.451063829787234.\n"
     ]
    },
    {
     "name": "stdout",
     "output_type": "stream",
     "text": [
      "Accuracy: Train: 0.776 | Val: 0.438\n",
      "[E= 9] [it=  270] Train Loss: 1.430, Test Loss: 1.361\n",
      "[E=19] [it=  540] Train Loss: 1.416, Test Loss: 1.419\n"
     ]
    },
    {
     "name": "stderr",
     "output_type": "stream",
     "text": [
      "[I 2024-05-09 12:23:42,389] Trial 35 finished with value: 0.1765957446808511 and parameters: {'lr': 0.0010140832737352027, 'L2': 0.09102722111961932, 'batch_size': 8, 'beta1': 0.054181120333677404, 'beta2': 5.25896463025135e-05}. Best is trial 7 with value: 0.451063829787234.\n"
     ]
    },
    {
     "name": "stdout",
     "output_type": "stream",
     "text": [
      "Accuracy: Train: 0.274 | Val: 0.177\n",
      "[E= 9] [it=  270] Train Loss: 1.116, Test Loss: 1.515\n",
      "[E=19] [it=  540] Train Loss: 0.697, Test Loss: 1.789\n"
     ]
    },
    {
     "name": "stderr",
     "output_type": "stream",
     "text": [
      "[I 2024-05-09 12:24:49,820] Trial 36 finished with value: 0.34893617021276596 and parameters: {'lr': 0.000502115414339034, 'L2': 6.038989465016532e-05, 'batch_size': 8, 'beta1': 0.06343124006701745, 'beta2': 3.353340789406213e-05}. Best is trial 7 with value: 0.451063829787234.\n"
     ]
    },
    {
     "name": "stdout",
     "output_type": "stream",
     "text": [
      "Accuracy: Train: 0.700 | Val: 0.349\n",
      "[E= 9] [it=  270] Train Loss: 1.279, Test Loss: 1.353\n",
      "[E=19] [it=  540] Train Loss: 1.078, Test Loss: 1.324\n"
     ]
    },
    {
     "name": "stderr",
     "output_type": "stream",
     "text": [
      "[I 2024-05-09 12:25:56,154] Trial 37 finished with value: 0.4148936170212766 and parameters: {'lr': 9.174365816151748e-05, 'L2': 2.8647790770551896e-05, 'batch_size': 8, 'beta1': 0.09659654795468878, 'beta2': 0.00013815522927199288}. Best is trial 7 with value: 0.451063829787234.\n"
     ]
    },
    {
     "name": "stdout",
     "output_type": "stream",
     "text": [
      "Accuracy: Train: 0.566 | Val: 0.415\n",
      "[E= 9] [it=  270] Train Loss: 1.225, Test Loss: 1.394\n",
      "[E=19] [it=  540] Train Loss: 0.795, Test Loss: 1.729\n"
     ]
    },
    {
     "name": "stderr",
     "output_type": "stream",
     "text": [
      "[I 2024-05-09 12:27:02,155] Trial 38 finished with value: 0.29787234042553196 and parameters: {'lr': 0.00665772140834697, 'L2': 0.00012347586113211847, 'batch_size': 8, 'beta1': 0.059896185198869197, 'beta2': 5.403501844607914e-05}. Best is trial 7 with value: 0.451063829787234.\n"
     ]
    },
    {
     "name": "stdout",
     "output_type": "stream",
     "text": [
      "Accuracy: Train: 0.709 | Val: 0.298\n",
      "[E= 9] [it=  270] Train Loss: 0.892, Test Loss: 1.891\n",
      "[E=19] [it=  540] Train Loss: 0.295, Test Loss: 2.440\n"
     ]
    },
    {
     "name": "stderr",
     "output_type": "stream",
     "text": [
      "[I 2024-05-09 12:28:08,127] Trial 39 finished with value: 0.41063829787234035 and parameters: {'lr': 0.0028822454695620688, 'L2': 3.976472621576146e-05, 'batch_size': 8, 'beta1': 0.07746636401045864, 'beta2': 2.7042268148392027e-05}. Best is trial 7 with value: 0.451063829787234.\n"
     ]
    },
    {
     "name": "stdout",
     "output_type": "stream",
     "text": [
      "Accuracy: Train: 0.908 | Val: 0.411\n",
      "[E= 9] [it=  540] Train Loss: 1.182, Test Loss: 1.274\n",
      "[E=19] [it= 1080] Train Loss: 0.829, Test Loss: 1.403\n"
     ]
    },
    {
     "name": "stderr",
     "output_type": "stream",
     "text": [
      "[I 2024-05-09 12:29:19,366] Trial 40 finished with value: 0.4404255319148936 and parameters: {'lr': 0.0006401163971452913, 'L2': 0.006772983515245784, 'batch_size': 4, 'beta1': 0.05405120890158902, 'beta2': 8.726451190192491e-05}. Best is trial 7 with value: 0.451063829787234.\n"
     ]
    },
    {
     "name": "stdout",
     "output_type": "stream",
     "text": [
      "Accuracy: Train: 0.722 | Val: 0.440\n",
      "[E= 9] [it=  540] Train Loss: 1.107, Test Loss: 1.238\n",
      "[E=19] [it= 1080] Train Loss: 0.754, Test Loss: 1.588\n"
     ]
    },
    {
     "name": "stderr",
     "output_type": "stream",
     "text": [
      "[I 2024-05-09 12:30:30,553] Trial 41 finished with value: 0.3085106382978724 and parameters: {'lr': 0.0005905261054083234, 'L2': 0.009461794101879513, 'batch_size': 4, 'beta1': 0.05415487687885611, 'beta2': 8.622493474474658e-05}. Best is trial 7 with value: 0.451063829787234.\n"
     ]
    },
    {
     "name": "stdout",
     "output_type": "stream",
     "text": [
      "Accuracy: Train: 0.697 | Val: 0.309\n",
      "[E= 9] [it=  540] Train Loss: 1.365, Test Loss: 1.397\n",
      "[E=19] [it= 1080] Train Loss: 1.223, Test Loss: 1.366\n"
     ]
    },
    {
     "name": "stderr",
     "output_type": "stream",
     "text": [
      "[I 2024-05-09 12:31:41,992] Trial 42 finished with value: 0.35744680851063826 and parameters: {'lr': 0.0012700044172511723, 'L2': 0.02864804181731622, 'batch_size': 4, 'beta1': 0.05466993481410024, 'beta2': 0.00012112112606518372}. Best is trial 7 with value: 0.451063829787234.\n"
     ]
    },
    {
     "name": "stdout",
     "output_type": "stream",
     "text": [
      "Accuracy: Train: 0.481 | Val: 0.357\n",
      "[E= 9] [it=  540] Train Loss: 1.112, Test Loss: 1.271\n",
      "[E=19] [it= 1080] Train Loss: 0.743, Test Loss: 1.550\n"
     ]
    },
    {
     "name": "stderr",
     "output_type": "stream",
     "text": [
      "[I 2024-05-09 12:32:53,348] Trial 43 finished with value: 0.35744680851063826 and parameters: {'lr': 0.00022066015584539127, 'L2': 0.0038581292746227808, 'batch_size': 4, 'beta1': 0.0649959092007332, 'beta2': 4.3085385345222106e-05}. Best is trial 7 with value: 0.451063829787234.\n"
     ]
    },
    {
     "name": "stdout",
     "output_type": "stream",
     "text": [
      "Accuracy: Train: 0.701 | Val: 0.357\n",
      "[E= 9] [it=  540] Train Loss: 1.310, Test Loss: 1.389\n",
      "[E=19] [it= 1080] Train Loss: 1.022, Test Loss: 1.351\n"
     ]
    },
    {
     "name": "stderr",
     "output_type": "stream",
     "text": [
      "[I 2024-05-09 12:34:04,604] Trial 44 finished with value: 0.4 and parameters: {'lr': 0.0006820396252290434, 'L2': 0.01722502227686825, 'batch_size': 4, 'beta1': 0.052501782213870966, 'beta2': 0.00019622425052439417}. Best is trial 7 with value: 0.451063829787234.\n"
     ]
    },
    {
     "name": "stdout",
     "output_type": "stream",
     "text": [
      "Accuracy: Train: 0.616 | Val: 0.400\n",
      "[E= 9] [it= 2180] Train Loss: 1.368, Test Loss: 1.415\n",
      "[E=19] [it= 4360] Train Loss: 1.094, Test Loss: 1.740\n"
     ]
    },
    {
     "name": "stderr",
     "output_type": "stream",
     "text": [
      "[I 2024-05-09 12:35:51,882] Trial 45 finished with value: 0.3638297872340425 and parameters: {'lr': 0.002429439227777087, 'L2': 0.0003472329544594768, 'batch_size': 1, 'beta1': 0.05848237733308897, 'beta2': 8.917195654917227e-05}. Best is trial 7 with value: 0.451063829787234.\n"
     ]
    },
    {
     "name": "stdout",
     "output_type": "stream",
     "text": [
      "Accuracy: Train: 0.596 | Val: 0.364\n",
      "[E= 9] [it=  540] Train Loss: 1.219, Test Loss: 1.305\n",
      "[E=19] [it= 1080] Train Loss: 0.766, Test Loss: 1.790\n"
     ]
    },
    {
     "name": "stderr",
     "output_type": "stream",
     "text": [
      "[I 2024-05-09 12:37:03,319] Trial 46 finished with value: 0.4297872340425532 and parameters: {'lr': 0.00504237350129721, 'L2': 0.0024102187249333616, 'batch_size': 4, 'beta1': 0.08178724304407972, 'beta2': 6.554970923819383e-05}. Best is trial 7 with value: 0.451063829787234.\n"
     ]
    },
    {
     "name": "stdout",
     "output_type": "stream",
     "text": [
      "Accuracy: Train: 0.701 | Val: 0.430\n",
      "[E= 9] [it=  270] Train Loss: 1.148, Test Loss: 1.307\n",
      "[E=19] [it=  540] Train Loss: 0.700, Test Loss: 1.423\n"
     ]
    },
    {
     "name": "stderr",
     "output_type": "stream",
     "text": [
      "[I 2024-05-09 12:38:09,834] Trial 47 finished with value: 0.48085106382978726 and parameters: {'lr': 0.00039176748296159314, 'L2': 0.00458413180342524, 'batch_size': 8, 'beta1': 0.1226786223740145, 'beta2': 0.00025853831681915484}. Best is trial 47 with value: 0.48085106382978726.\n"
     ]
    },
    {
     "name": "stdout",
     "output_type": "stream",
     "text": [
      "Accuracy: Train: 0.681 | Val: 0.481\n",
      "[E= 9] [it= 2180] Train Loss: 1.360, Test Loss: 1.360\n",
      "[E=19] [it= 4360] Train Loss: 1.254, Test Loss: 1.333\n"
     ]
    },
    {
     "name": "stderr",
     "output_type": "stream",
     "text": [
      "[I 2024-05-09 12:39:46,219] Trial 48 finished with value: 0.3787234042553191 and parameters: {'lr': 2.1272657096729495e-05, 'L2': 0.004399431147536848, 'batch_size': 1, 'beta1': 0.10867650706723544, 'beta2': 0.00033253733518818005}. Best is trial 47 with value: 0.48085106382978726.\n"
     ]
    },
    {
     "name": "stdout",
     "output_type": "stream",
     "text": [
      "Accuracy: Train: 0.479 | Val: 0.379\n",
      "[E= 9] [it= 2180] Train Loss: 1.165, Test Loss: 1.331\n",
      "[E=19] [it= 4360] Train Loss: 0.877, Test Loss: 1.357\n"
     ]
    },
    {
     "name": "stderr",
     "output_type": "stream",
     "text": [
      "[I 2024-05-09 12:41:22,265] Trial 49 finished with value: 0.4127659574468085 and parameters: {'lr': 9.06400221499594e-05, 'L2': 0.013877108582012852, 'batch_size': 1, 'beta1': 0.14861750767635246, 'beta2': 0.00027741149849383224}. Best is trial 47 with value: 0.48085106382978726.\n"
     ]
    },
    {
     "name": "stdout",
     "output_type": "stream",
     "text": [
      "Accuracy: Train: 0.673 | Val: 0.413\n",
      "[E= 9] [it=  540] Train Loss: 1.163, Test Loss: 1.367\n",
      "[E=19] [it= 1080] Train Loss: 0.816, Test Loss: 1.514\n"
     ]
    },
    {
     "name": "stderr",
     "output_type": "stream",
     "text": [
      "[I 2024-05-09 12:42:34,114] Trial 50 finished with value: 0.4382978723404255 and parameters: {'lr': 0.0003197301747072446, 'L2': 0.0054596360114701455, 'batch_size': 4, 'beta1': 0.1278045731211132, 'beta2': 0.00046517073019232836}. Best is trial 47 with value: 0.48085106382978726.\n"
     ]
    },
    {
     "name": "stdout",
     "output_type": "stream",
     "text": [
      "Accuracy: Train: 0.700 | Val: 0.438\n",
      "[E= 9] [it=  270] Train Loss: 1.162, Test Loss: 1.297\n",
      "[E=19] [it=  540] Train Loss: 0.790, Test Loss: 1.642\n"
     ]
    },
    {
     "name": "stderr",
     "output_type": "stream",
     "text": [
      "[I 2024-05-09 12:43:40,429] Trial 51 finished with value: 0.31063829787234043 and parameters: {'lr': 0.0004572871451596426, 'L2': 0.0018468944595424295, 'batch_size': 8, 'beta1': 0.12316248404111774, 'beta2': 0.00011865247218359049}. Best is trial 47 with value: 0.48085106382978726.\n"
     ]
    },
    {
     "name": "stdout",
     "output_type": "stream",
     "text": [
      "Accuracy: Train: 0.681 | Val: 0.311\n",
      "[E= 9] [it=  270] Train Loss: 1.345, Test Loss: 1.329\n",
      "[E=19] [it=  540] Train Loss: 1.311, Test Loss: 1.320\n"
     ]
    },
    {
     "name": "stderr",
     "output_type": "stream",
     "text": [
      "[I 2024-05-09 12:44:46,416] Trial 52 finished with value: 0.37446808510638296 and parameters: {'lr': 0.0011203300771909126, 'L2': 0.034413886061911814, 'batch_size': 8, 'beta1': 0.1339419628467765, 'beta2': 0.0001528071582914614}. Best is trial 47 with value: 0.48085106382978726.\n"
     ]
    },
    {
     "name": "stdout",
     "output_type": "stream",
     "text": [
      "Accuracy: Train: 0.449 | Val: 0.374\n",
      "[E= 9] [it=  270] Train Loss: 1.191, Test Loss: 1.341\n",
      "[E=19] [it=  540] Train Loss: 0.964, Test Loss: 1.381\n"
     ]
    },
    {
     "name": "stderr",
     "output_type": "stream",
     "text": [
      "[I 2024-05-09 12:45:52,841] Trial 53 finished with value: 0.4085106382978723 and parameters: {'lr': 0.00020295430606365417, 'L2': 0.008134186190291923, 'batch_size': 8, 'beta1': 0.05166601690854439, 'beta2': 0.00017398772069810218}. Best is trial 47 with value: 0.48085106382978726.\n"
     ]
    },
    {
     "name": "stdout",
     "output_type": "stream",
     "text": [
      "Accuracy: Train: 0.607 | Val: 0.409\n",
      "[E= 9] [it=  270] Train Loss: 0.837, Test Loss: 1.423\n",
      "[E=19] [it=  540] Train Loss: 0.230, Test Loss: 2.641\n"
     ]
    },
    {
     "name": "stderr",
     "output_type": "stream",
     "text": [
      "[I 2024-05-09 12:46:59,153] Trial 54 finished with value: 0.4042553191489362 and parameters: {'lr': 0.0015352062536705417, 'L2': 0.00010330815317597514, 'batch_size': 8, 'beta1': 0.11238393395621275, 'beta2': 0.0001046612659690984}. Best is trial 47 with value: 0.48085106382978726.\n"
     ]
    },
    {
     "name": "stdout",
     "output_type": "stream",
     "text": [
      "Accuracy: Train: 0.895 | Val: 0.404\n",
      "[E= 9] [it= 2180] Train Loss: 1.211, Test Loss: 1.351\n",
      "[E=19] [it= 4360] Train Loss: 0.914, Test Loss: 1.377\n"
     ]
    },
    {
     "name": "stderr",
     "output_type": "stream",
     "text": [
      "[I 2024-05-09 12:48:33,060] Trial 55 finished with value: 0.46170212765957447 and parameters: {'lr': 0.00012882256406818008, 'L2': 1.0481530749604683e-05, 'batch_size': 1, 'beta1': 0.05547143772019954, 'beta2': 0.0002259266956818878}. Best is trial 47 with value: 0.48085106382978726.\n"
     ]
    },
    {
     "name": "stdout",
     "output_type": "stream",
     "text": [
      "Accuracy: Train: 0.630 | Val: 0.462\n",
      "[E= 9] [it= 2180] Train Loss: 1.262, Test Loss: 1.330\n",
      "[E=19] [it= 4360] Train Loss: 1.019, Test Loss: 1.345\n"
     ]
    },
    {
     "name": "stderr",
     "output_type": "stream",
     "text": [
      "[I 2024-05-09 12:50:07,436] Trial 56 finished with value: 0.3595744680851064 and parameters: {'lr': 6.0618856966134734e-05, 'L2': 1.2366890444079883e-05, 'batch_size': 1, 'beta1': 0.06825237514337461, 'beta2': 0.00023806816471281007}. Best is trial 47 with value: 0.48085106382978726.\n"
     ]
    },
    {
     "name": "stdout",
     "output_type": "stream",
     "text": [
      "Accuracy: Train: 0.610 | Val: 0.360\n",
      "[E= 9] [it= 2180] Train Loss: 0.996, Test Loss: 1.359\n",
      "[E=19] [it= 4360] Train Loss: 0.492, Test Loss: 1.800\n"
     ]
    },
    {
     "name": "stderr",
     "output_type": "stream",
     "text": [
      "[I 2024-05-09 12:51:46,666] Trial 57 finished with value: 0.3404255319148936 and parameters: {'lr': 0.00014896651510864164, 'L2': 0.0007177005209729674, 'batch_size': 1, 'beta1': 0.10162296377017595, 'beta2': 0.0004003157325871149}. Best is trial 47 with value: 0.48085106382978726.\n"
     ]
    },
    {
     "name": "stdout",
     "output_type": "stream",
     "text": [
      "Accuracy: Train: 0.836 | Val: 0.340\n",
      "[E= 9] [it= 2180] Train Loss: 1.144, Test Loss: 1.399\n",
      "[E=19] [it= 4360] Train Loss: 0.831, Test Loss: 1.560\n"
     ]
    },
    {
     "name": "stderr",
     "output_type": "stream",
     "text": [
      "[I 2024-05-09 12:53:21,179] Trial 58 finished with value: 0.2872340425531915 and parameters: {'lr': 0.00011187170353162879, 'L2': 0.0014815270711147552, 'batch_size': 1, 'beta1': 0.05608688127812477, 'beta2': 0.00025735419320137916}. Best is trial 47 with value: 0.48085106382978726.\n"
     ]
    },
    {
     "name": "stdout",
     "output_type": "stream",
     "text": [
      "Accuracy: Train: 0.661 | Val: 0.287\n",
      "[E= 9] [it= 2180] Train Loss: 1.263, Test Loss: 1.340\n",
      "[E=19] [it= 4360] Train Loss: 1.077, Test Loss: 1.369\n"
     ]
    },
    {
     "name": "stderr",
     "output_type": "stream",
     "text": [
      "[I 2024-05-09 12:54:52,833] Trial 59 finished with value: 0.3361702127659575 and parameters: {'lr': 4.2121125796342444e-05, 'L2': 0.0030882729173970372, 'batch_size': 1, 'beta1': 0.05026968932592173, 'beta2': 0.0001855453404805558}. Best is trial 47 with value: 0.48085106382978726.\n"
     ]
    },
    {
     "name": "stdout",
     "output_type": "stream",
     "text": [
      "Accuracy: Train: 0.557 | Val: 0.336\n",
      "[E= 9] [it= 2180] Train Loss: 1.352, Test Loss: 1.368\n",
      "[E=19] [it= 4360] Train Loss: 1.209, Test Loss: 1.336\n"
     ]
    },
    {
     "name": "stderr",
     "output_type": "stream",
     "text": [
      "[I 2024-05-09 12:56:24,841] Trial 60 finished with value: 0.3936170212765957 and parameters: {'lr': 2.063456486899038e-05, 'L2': 0.00019559384638293765, 'batch_size': 1, 'beta1': 0.11494546968848776, 'beta2': 0.00035852486965731045}. Best is trial 47 with value: 0.48085106382978726.\n"
     ]
    },
    {
     "name": "stdout",
     "output_type": "stream",
     "text": [
      "Accuracy: Train: 0.543 | Val: 0.394\n",
      "[E= 9] [it= 2180] Train Loss: 0.637, Test Loss: 2.051\n",
      "[E=19] [it= 4360] Train Loss: 0.233, Test Loss: 3.021\n"
     ]
    },
    {
     "name": "stderr",
     "output_type": "stream",
     "text": [
      "[I 2024-05-09 12:58:09,316] Trial 61 finished with value: 0.3787234042553192 and parameters: {'lr': 0.0007473990817579633, 'L2': 5.2954849451437374e-05, 'batch_size': 1, 'beta1': 0.059367699129637345, 'beta2': 0.00012848547231062826}. Best is trial 47 with value: 0.48085106382978726.\n"
     ]
    },
    {
     "name": "stdout",
     "output_type": "stream",
     "text": [
      "Accuracy: Train: 0.930 | Val: 0.379\n",
      "[E= 9] [it=  270] Train Loss: 1.060, Test Loss: 1.420\n",
      "[E=19] [it=  540] Train Loss: 0.664, Test Loss: 1.525\n"
     ]
    },
    {
     "name": "stderr",
     "output_type": "stream",
     "text": [
      "[I 2024-05-09 12:59:16,069] Trial 62 finished with value: 0.3617021276595745 and parameters: {'lr': 0.00036542807892384256, 'L2': 1.5713498952419434e-05, 'batch_size': 8, 'beta1': 0.05264821259270432, 'beta2': 7.521809901591176e-05}. Best is trial 47 with value: 0.48085106382978726.\n"
     ]
    },
    {
     "name": "stdout",
     "output_type": "stream",
     "text": [
      "Accuracy: Train: 0.744 | Val: 0.362\n",
      "[E= 9] [it= 2180] Train Loss: 1.248, Test Loss: 1.356\n",
      "[E=19] [it= 4360] Train Loss: 0.977, Test Loss: 1.263\n"
     ]
    },
    {
     "name": "stderr",
     "output_type": "stream",
     "text": [
      "[I 2024-05-09 13:00:49,669] Trial 63 finished with value: 0.474468085106383 and parameters: {'lr': 6.761077380564964e-05, 'L2': 2.5689710924405903e-05, 'batch_size': 1, 'beta1': 0.05658381300570994, 'beta2': 4.411171463529532e-05}. Best is trial 47 with value: 0.48085106382978726.\n"
     ]
    },
    {
     "name": "stdout",
     "output_type": "stream",
     "text": [
      "Accuracy: Train: 0.639 | Val: 0.474\n",
      "[E= 9] [it= 2180] Train Loss: 1.350, Test Loss: 1.348\n",
      "[E=19] [it= 4360] Train Loss: 1.192, Test Loss: 1.392\n"
     ]
    },
    {
     "name": "stderr",
     "output_type": "stream",
     "text": [
      "[I 2024-05-09 13:02:21,282] Trial 64 finished with value: 0.3595744680851064 and parameters: {'lr': 2.6054690347461245e-05, 'L2': 2.3373109633058187e-05, 'batch_size': 1, 'beta1': 0.0632142981487526, 'beta2': 0.00022713578772320253}. Best is trial 47 with value: 0.48085106382978726.\n"
     ]
    },
    {
     "name": "stdout",
     "output_type": "stream",
     "text": [
      "Accuracy: Train: 0.533 | Val: 0.360\n",
      "[E= 9] [it= 2180] Train Loss: 1.158, Test Loss: 1.366\n",
      "[E=19] [it= 4360] Train Loss: 0.846, Test Loss: 1.356\n"
     ]
    },
    {
     "name": "stderr",
     "output_type": "stream",
     "text": [
      "[I 2024-05-09 13:03:53,829] Trial 65 finished with value: 0.40638297872340423 and parameters: {'lr': 6.300483758563214e-05, 'L2': 1.0194055283639155e-05, 'batch_size': 1, 'beta1': 0.05708809545108215, 'beta2': 4.166065308286164e-05}. Best is trial 47 with value: 0.48085106382978726.\n"
     ]
    },
    {
     "name": "stdout",
     "output_type": "stream",
     "text": [
      "Accuracy: Train: 0.711 | Val: 0.406\n",
      "[E= 9] [it= 2180] Train Loss: 1.220, Test Loss: 1.300\n",
      "[E=19] [it= 4360] Train Loss: 0.951, Test Loss: 1.386\n"
     ]
    },
    {
     "name": "stderr",
     "output_type": "stream",
     "text": [
      "[I 2024-05-09 13:05:24,625] Trial 66 finished with value: 0.40212765957446805 and parameters: {'lr': 4.1098368694674765e-05, 'L2': 1.555948784699099e-05, 'batch_size': 1, 'beta1': 0.07068860234504472, 'beta2': 6.055014418904759e-05}. Best is trial 47 with value: 0.48085106382978726.\n"
     ]
    },
    {
     "name": "stdout",
     "output_type": "stream",
     "text": [
      "Accuracy: Train: 0.631 | Val: 0.402\n",
      "[E= 9] [it= 2180] Train Loss: 1.158, Test Loss: 1.452\n",
      "[E=19] [it= 4360] Train Loss: 0.819, Test Loss: 1.377\n"
     ]
    },
    {
     "name": "stderr",
     "output_type": "stream",
     "text": [
      "[I 2024-05-09 13:06:59,864] Trial 67 finished with value: 0.39148936170212767 and parameters: {'lr': 8.427322322560251e-05, 'L2': 2.846173457638214e-05, 'batch_size': 1, 'beta1': 0.07428254099750158, 'beta2': 0.00016980345232923359}. Best is trial 47 with value: 0.48085106382978726.\n"
     ]
    },
    {
     "name": "stdout",
     "output_type": "stream",
     "text": [
      "Accuracy: Train: 0.704 | Val: 0.391\n",
      "[E= 9] [it= 2180] Train Loss: 0.973, Test Loss: 1.477\n",
      "[E=19] [it= 4360] Train Loss: 0.491, Test Loss: 2.050\n"
     ]
    },
    {
     "name": "stderr",
     "output_type": "stream",
     "text": [
      "[I 2024-05-09 13:08:39,860] Trial 68 finished with value: 0.4297872340425532 and parameters: {'lr': 0.0002550981688490525, 'L2': 4.1511423240338626e-05, 'batch_size': 1, 'beta1': 0.091128447285773, 'beta2': 0.0005407183482731875}. Best is trial 47 with value: 0.48085106382978726.\n"
     ]
    },
    {
     "name": "stdout",
     "output_type": "stream",
     "text": [
      "Accuracy: Train: 0.782 | Val: 0.430\n",
      "[E= 9] [it= 2180] Train Loss: 1.377, Test Loss: 1.375\n",
      "[E=19] [it= 4360] Train Loss: 1.246, Test Loss: 1.330\n"
     ]
    },
    {
     "name": "stderr",
     "output_type": "stream",
     "text": [
      "[I 2024-05-09 13:10:10,137] Trial 69 finished with value: 0.37021276595744684 and parameters: {'lr': 1.131000521348828e-05, 'L2': 0.0001614907476122951, 'batch_size': 1, 'beta1': 0.066477854298368, 'beta2': 3.6214179792196053e-05}. Best is trial 47 with value: 0.48085106382978726.\n"
     ]
    },
    {
     "name": "stdout",
     "output_type": "stream",
     "text": [
      "Accuracy: Train: 0.469 | Val: 0.370\n",
      "[E= 9] [it= 1090] Train Loss: 1.092, Test Loss: 1.373\n",
      "[E=19] [it= 2180] Train Loss: 0.731, Test Loss: 1.565\n"
     ]
    },
    {
     "name": "stderr",
     "output_type": "stream",
     "text": [
      "[I 2024-05-09 13:11:30,644] Trial 70 finished with value: 0.3170212765957447 and parameters: {'lr': 0.00016653797547681672, 'L2': 7.154821045892129e-05, 'batch_size': 2, 'beta1': 0.06161180364253133, 'beta2': 7.767206383010148e-05}. Best is trial 47 with value: 0.48085106382978726.\n"
     ]
    },
    {
     "name": "stdout",
     "output_type": "stream",
     "text": [
      "Accuracy: Train: 0.700 | Val: 0.317\n",
      "[E= 9] [it=  270] Train Loss: 0.917, Test Loss: 1.369\n",
      "[E=19] [it=  540] Train Loss: 0.343, Test Loss: 1.920\n"
     ]
    },
    {
     "name": "stderr",
     "output_type": "stream",
     "text": [
      "[I 2024-05-09 13:12:37,653] Trial 71 finished with value: 0.4 and parameters: {'lr': 0.0008666532726456183, 'L2': 0.00010498885138833538, 'batch_size': 8, 'beta1': 0.05344941025795387, 'beta2': 5.025732732372743e-05}. Best is trial 47 with value: 0.48085106382978726.\n"
     ]
    },
    {
     "name": "stdout",
     "output_type": "stream",
     "text": [
      "Accuracy: Train: 0.899 | Val: 0.400\n",
      "[E= 9] [it=  540] Train Loss: 0.907, Test Loss: 1.811\n",
      "[E=19] [it= 1080] Train Loss: 0.332, Test Loss: 2.460\n"
     ]
    },
    {
     "name": "stderr",
     "output_type": "stream",
     "text": [
      "[I 2024-05-09 13:13:49,007] Trial 72 finished with value: 0.40638297872340423 and parameters: {'lr': 0.002062999854753373, 'L2': 6.161175033057227e-05, 'batch_size': 4, 'beta1': 0.05561144849166881, 'beta2': 3.0356825600018105e-05}. Best is trial 47 with value: 0.48085106382978726.\n"
     ]
    },
    {
     "name": "stdout",
     "output_type": "stream",
     "text": [
      "Accuracy: Train: 0.928 | Val: 0.406\n",
      "[E= 9] [it= 2180] Train Loss: 0.791, Test Loss: 1.638\n",
      "[E=19] [it= 4360] Train Loss: 0.227, Test Loss: 2.886\n"
     ]
    },
    {
     "name": "stderr",
     "output_type": "stream",
     "text": [
      "[I 2024-05-09 13:15:32,151] Trial 73 finished with value: 0.35319148936170214 and parameters: {'lr': 0.0005826198698002337, 'L2': 3.4763043352357924e-05, 'batch_size': 1, 'beta1': 0.058172393655765056, 'beta2': 4.694208368877797e-05}. Best is trial 47 with value: 0.48085106382978726.\n"
     ]
    },
    {
     "name": "stdout",
     "output_type": "stream",
     "text": [
      "Accuracy: Train: 0.925 | Val: 0.353\n",
      "[E= 9] [it=  270] Train Loss: 0.996, Test Loss: 1.792\n",
      "[E=19] [it=  540] Train Loss: 0.304, Test Loss: 2.764\n"
     ]
    },
    {
     "name": "stderr",
     "output_type": "stream",
     "text": [
      "[I 2024-05-09 13:16:39,183] Trial 74 finished with value: 0.38723404255319144 and parameters: {'lr': 0.003988264740417737, 'L2': 2.086390343631651e-05, 'batch_size': 8, 'beta1': 0.060201306021519047, 'beta2': 5.801712226997107e-05}. Best is trial 47 with value: 0.48085106382978726.\n"
     ]
    },
    {
     "name": "stdout",
     "output_type": "stream",
     "text": [
      "Accuracy: Train: 0.902 | Val: 0.387\n",
      "[E= 9] [it= 2180] Train Loss: 1.126, Test Loss: 1.399\n",
      "[E=19] [it= 4360] Train Loss: 0.717, Test Loss: 1.365\n"
     ]
    },
    {
     "name": "stderr",
     "output_type": "stream",
     "text": [
      "[I 2024-05-09 13:18:21,935] Trial 75 finished with value: 0.4702127659574469 and parameters: {'lr': 0.0001322619004329456, 'L2': 0.0002555142891979039, 'batch_size': 1, 'beta1': 0.08485600667526587, 'beta2': 0.00010182176071588773}. Best is trial 47 with value: 0.48085106382978726.\n"
     ]
    },
    {
     "name": "stdout",
     "output_type": "stream",
     "text": [
      "Accuracy: Train: 0.794 | Val: 0.470\n",
      "[E= 9] [it= 2180] Train Loss: 1.242, Test Loss: 1.320\n",
      "[E=19] [it= 4360] Train Loss: 0.943, Test Loss: 1.521\n"
     ]
    },
    {
     "name": "stderr",
     "output_type": "stream",
     "text": [
      "[I 2024-05-09 13:19:58,281] Trial 76 finished with value: 0.2638297872340426 and parameters: {'lr': 7.55936562130904e-05, 'L2': 0.00023685886125425728, 'batch_size': 1, 'beta1': 0.08754112416326382, 'beta2': 0.00011025277733409908}. Best is trial 47 with value: 0.48085106382978726.\n"
     ]
    },
    {
     "name": "stdout",
     "output_type": "stream",
     "text": [
      "Accuracy: Train: 0.516 | Val: 0.264\n",
      "[E= 9] [it= 2180] Train Loss: 1.132, Test Loss: 1.389\n",
      "[E=19] [it= 4360] Train Loss: 0.760, Test Loss: 1.701\n"
     ]
    },
    {
     "name": "stderr",
     "output_type": "stream",
     "text": [
      "[I 2024-05-09 13:21:33,381] Trial 77 finished with value: 0.39148936170212767 and parameters: {'lr': 0.0001218877338794895, 'L2': 0.00029029644727998226, 'batch_size': 1, 'beta1': 0.0763042006949912, 'beta2': 0.0001442175133803942}. Best is trial 47 with value: 0.48085106382978726.\n"
     ]
    },
    {
     "name": "stdout",
     "output_type": "stream",
     "text": [
      "Accuracy: Train: 0.670 | Val: 0.391\n",
      "[E= 9] [it= 2180] Train Loss: 1.205, Test Loss: 1.407\n",
      "[E=19] [it= 4360] Train Loss: 0.879, Test Loss: 1.583\n"
     ]
    },
    {
     "name": "stderr",
     "output_type": "stream",
     "text": [
      "[I 2024-05-09 13:23:05,610] Trial 78 finished with value: 0.33191489361702126 and parameters: {'lr': 4.7914951443818e-05, 'L2': 0.00042167923679335044, 'batch_size': 1, 'beta1': 0.0938701048136276, 'beta2': 0.00020337896877508093}. Best is trial 47 with value: 0.48085106382978726.\n"
     ]
    },
    {
     "name": "stdout",
     "output_type": "stream",
     "text": [
      "Accuracy: Train: 0.568 | Val: 0.332\n",
      "[E= 9] [it= 2180] Train Loss: 1.519, Test Loss: 1.410\n",
      "[E=19] [it= 4360] Train Loss: 1.519, Test Loss: 1.414\n"
     ]
    },
    {
     "name": "stderr",
     "output_type": "stream",
     "text": [
      "[I 2024-05-09 13:25:02,560] Trial 79 finished with value: 0.11702127659574468 and parameters: {'lr': 0.002835872039678188, 'L2': 0.0001502767848458244, 'batch_size': 1, 'beta1': 0.0849289122709095, 'beta2': 9.67638607954875e-05}. Best is trial 47 with value: 0.48085106382978726.\n"
     ]
    },
    {
     "name": "stdout",
     "output_type": "stream",
     "text": [
      "Accuracy: Train: 0.202 | Val: 0.117\n",
      "[E= 9] [it= 2180] Train Loss: 0.903, Test Loss: 1.327\n",
      "[E=19] [it= 4360] Train Loss: 0.433, Test Loss: 1.775\n"
     ]
    },
    {
     "name": "stderr",
     "output_type": "stream",
     "text": [
      "[I 2024-05-09 13:26:44,545] Trial 80 finished with value: 0.4404255319148936 and parameters: {'lr': 0.00030880014604832114, 'L2': 8.250532768343946e-05, 'batch_size': 1, 'beta1': 0.10216446698140652, 'beta2': 0.00013313133586898064}. Best is trial 47 with value: 0.48085106382978726.\n"
     ]
    },
    {
     "name": "stdout",
     "output_type": "stream",
     "text": [
      "Accuracy: Train: 0.884 | Val: 0.440\n",
      "[E= 9] [it= 2180] Train Loss: 1.017, Test Loss: 1.292\n",
      "[E=19] [it= 4360] Train Loss: 0.520, Test Loss: 1.822\n"
     ]
    },
    {
     "name": "stderr",
     "output_type": "stream",
     "text": [
      "[I 2024-05-09 13:28:28,115] Trial 81 finished with value: 0.38723404255319144 and parameters: {'lr': 0.00030284689977755526, 'L2': 8.902033618763512e-05, 'batch_size': 1, 'beta1': 0.10284234198259914, 'beta2': 9.232372655534044e-05}. Best is trial 47 with value: 0.48085106382978726.\n"
     ]
    },
    {
     "name": "stdout",
     "output_type": "stream",
     "text": [
      "Accuracy: Train: 0.855 | Val: 0.387\n",
      "[E= 9] [it= 2180] Train Loss: 1.181, Test Loss: 1.364\n",
      "[E=19] [it= 4360] Train Loss: 0.694, Test Loss: 1.615\n"
     ]
    },
    {
     "name": "stderr",
     "output_type": "stream",
     "text": [
      "[I 2024-05-09 13:30:08,733] Trial 82 finished with value: 0.37446808510638296 and parameters: {'lr': 0.00018242141260418153, 'L2': 0.00011111662377307064, 'batch_size': 1, 'beta1': 0.07975165416318578, 'beta2': 0.00012864212680541317}. Best is trial 47 with value: 0.48085106382978726.\n"
     ]
    },
    {
     "name": "stdout",
     "output_type": "stream",
     "text": [
      "Accuracy: Train: 0.761 | Val: 0.374\n",
      "[E= 9] [it= 2180] Train Loss: 1.127, Test Loss: 1.337\n",
      "[E=19] [it= 4360] Train Loss: 0.769, Test Loss: 1.380\n"
     ]
    },
    {
     "name": "stderr",
     "output_type": "stream",
     "text": [
      "[I 2024-05-09 13:31:47,907] Trial 83 finished with value: 0.3617021276595745 and parameters: {'lr': 0.00012557773335860727, 'L2': 0.011287145598373974, 'batch_size': 1, 'beta1': 0.12028734788318497, 'beta2': 0.00015572169192934482}. Best is trial 47 with value: 0.48085106382978726.\n"
     ]
    },
    {
     "name": "stdout",
     "output_type": "stream",
     "text": [
      "Accuracy: Train: 0.728 | Val: 0.362\n",
      "[E= 9] [it=  540] Train Loss: 1.088, Test Loss: 1.468\n",
      "[E=19] [it= 1080] Train Loss: 0.651, Test Loss: 1.687\n"
     ]
    },
    {
     "name": "stderr",
     "output_type": "stream",
     "text": [
      "[I 2024-05-09 13:32:59,556] Trial 84 finished with value: 0.42765957446808506 and parameters: {'lr': 0.00037714647377769446, 'L2': 0.0058371723404819385, 'batch_size': 4, 'beta1': 0.10030459572753132, 'beta2': 6.885450549073796e-05}. Best is trial 47 with value: 0.48085106382978726.\n"
     ]
    },
    {
     "name": "stdout",
     "output_type": "stream",
     "text": [
      "Accuracy: Train: 0.649 | Val: 0.428\n",
      "[E= 9] [it= 2180] Train Loss: 1.249, Test Loss: 1.361\n",
      "[E=19] [it= 4360] Train Loss: 1.075, Test Loss: 1.270\n"
     ]
    },
    {
     "name": "stderr",
     "output_type": "stream",
     "text": [
      "[I 2024-05-09 13:34:32,971] Trial 85 finished with value: 0.38510638297872346 and parameters: {'lr': 2.9173531378512853e-05, 'L2': 0.0006955912371512192, 'batch_size': 1, 'beta1': 0.0945257462662525, 'beta2': 0.0002785995827377747}. Best is trial 47 with value: 0.48085106382978726.\n"
     ]
    },
    {
     "name": "stdout",
     "output_type": "stream",
     "text": [
      "Accuracy: Train: 0.537 | Val: 0.385\n",
      "[E= 9] [it= 2180] Train Loss: 1.194, Test Loss: 1.290\n",
      "[E=19] [it= 4360] Train Loss: 0.840, Test Loss: 1.442\n"
     ]
    },
    {
     "name": "stderr",
     "output_type": "stream",
     "text": [
      "[I 2024-05-09 13:36:07,568] Trial 86 finished with value: 0.40638297872340423 and parameters: {'lr': 0.00010712349438485498, 'L2': 4.4836089769602365e-05, 'batch_size': 1, 'beta1': 0.10475715129843588, 'beta2': 7.965258919757681e-05}. Best is trial 47 with value: 0.48085106382978726.\n"
     ]
    },
    {
     "name": "stdout",
     "output_type": "stream",
     "text": [
      "Accuracy: Train: 0.672 | Val: 0.406\n",
      "[E= 9] [it= 2180] Train Loss: 0.928, Test Loss: 1.545\n",
      "[E=19] [it= 4360] Train Loss: 0.405, Test Loss: 2.320\n"
     ]
    },
    {
     "name": "stderr",
     "output_type": "stream",
     "text": [
      "[I 2024-05-09 13:37:56,201] Trial 87 finished with value: 0.4382978723404255 and parameters: {'lr': 0.0012875074292075914, 'L2': 2.607910545577287e-05, 'batch_size': 1, 'beta1': 0.08415641252095765, 'beta2': 0.00019421127985132548}. Best is trial 47 with value: 0.48085106382978726.\n"
     ]
    },
    {
     "name": "stdout",
     "output_type": "stream",
     "text": [
      "Accuracy: Train: 0.906 | Val: 0.438\n",
      "[E= 9] [it= 1090] Train Loss: 1.003, Test Loss: 1.384\n",
      "[E=19] [it= 2180] Train Loss: 0.533, Test Loss: 1.909\n"
     ]
    },
    {
     "name": "stderr",
     "output_type": "stream",
     "text": [
      "[I 2024-05-09 13:39:18,137] Trial 88 finished with value: 0.29787234042553196 and parameters: {'lr': 0.000257797412319395, 'L2': 6.654619514476304e-05, 'batch_size': 2, 'beta1': 0.08195626720353842, 'beta2': 0.00011055243305938807}. Best is trial 47 with value: 0.48085106382978726.\n"
     ]
    },
    {
     "name": "stdout",
     "output_type": "stream",
     "text": [
      "Accuracy: Train: 0.742 | Val: 0.298\n",
      "[E= 9] [it=  540] Train Loss: 1.215, Test Loss: 1.380\n",
      "[E=19] [it= 1080] Train Loss: 0.904, Test Loss: 1.375\n"
     ]
    },
    {
     "name": "stderr",
     "output_type": "stream",
     "text": [
      "[I 2024-05-09 13:40:29,681] Trial 89 finished with value: 0.42340425531914894 and parameters: {'lr': 0.00014754129963414898, 'L2': 8.788446322582147e-05, 'batch_size': 4, 'beta1': 0.08907348927920586, 'beta2': 0.00013665699933221388}. Best is trial 47 with value: 0.48085106382978726.\n"
     ]
    },
    {
     "name": "stdout",
     "output_type": "stream",
     "text": [
      "Accuracy: Train: 0.696 | Val: 0.423\n",
      "[E= 9] [it= 2180] Train Loss: 1.196, Test Loss: 1.304\n",
      "[E=19] [it= 4360] Train Loss: 0.839, Test Loss: 1.565\n"
     ]
    },
    {
     "name": "stderr",
     "output_type": "stream",
     "text": [
      "[I 2024-05-09 13:42:19,109] Trial 90 finished with value: 0.39148936170212767 and parameters: {'lr': 0.0004719887019983566, 'L2': 0.019662194409079164, 'batch_size': 1, 'beta1': 0.07471731574258354, 'beta2': 0.00031313783241221024}. Best is trial 47 with value: 0.48085106382978726.\n"
     ]
    },
    {
     "name": "stdout",
     "output_type": "stream",
     "text": [
      "Accuracy: Train: 0.733 | Val: 0.391\n",
      "[E= 9] [it=  270] Train Loss: 1.115, Test Loss: 1.411\n",
      "[E=19] [it=  540] Train Loss: 0.707, Test Loss: 1.460\n"
     ]
    },
    {
     "name": "stderr",
     "output_type": "stream",
     "text": [
      "[I 2024-05-09 13:43:25,941] Trial 91 finished with value: 0.38723404255319144 and parameters: {'lr': 0.0005335782255008147, 'L2': 5.546887734991076e-05, 'batch_size': 8, 'beta1': 0.05520442936953591, 'beta2': 4.5738125694946206e-05}. Best is trial 47 with value: 0.48085106382978726.\n"
     ]
    },
    {
     "name": "stdout",
     "output_type": "stream",
     "text": [
      "Accuracy: Train: 0.771 | Val: 0.387\n",
      "[E= 9] [it=  270] Train Loss: 0.895, Test Loss: 1.441\n",
      "[E=19] [it=  540] Train Loss: 0.279, Test Loss: 2.325\n"
     ]
    },
    {
     "name": "stderr",
     "output_type": "stream",
     "text": [
      "[I 2024-05-09 13:44:32,620] Trial 92 finished with value: 0.35106382978723405 and parameters: {'lr': 0.0008356884675728706, 'L2': 3.288815778355636e-05, 'batch_size': 8, 'beta1': 0.05208075098369254, 'beta2': 0.00017594094095838982}. Best is trial 47 with value: 0.48085106382978726.\n"
     ]
    },
    {
     "name": "stdout",
     "output_type": "stream",
     "text": [
      "Accuracy: Train: 0.927 | Val: 0.351\n",
      "[E= 9] [it= 2180] Train Loss: 0.828, Test Loss: 1.727\n",
      "[E=19] [it= 4360] Train Loss: 0.371, Test Loss: 2.514\n"
     ]
    },
    {
     "name": "stderr",
     "output_type": "stream",
     "text": [
      "[I 2024-05-09 13:46:14,539] Trial 93 finished with value: 0.41063829787234046 and parameters: {'lr': 0.0006610338688210761, 'L2': 0.0001726167987655191, 'batch_size': 1, 'beta1': 0.05076716178431108, 'beta2': 3.8239964286832794e-05}. Best is trial 47 with value: 0.48085106382978726.\n"
     ]
    },
    {
     "name": "stdout",
     "output_type": "stream",
     "text": [
      "Accuracy: Train: 0.910 | Val: 0.411\n",
      "[E= 9] [it= 2180] Train Loss: 1.185, Test Loss: 1.291\n",
      "[E=19] [it= 4360] Train Loss: 0.800, Test Loss: 1.390\n"
     ]
    },
    {
     "name": "stderr",
     "output_type": "stream",
     "text": [
      "[I 2024-05-09 13:47:48,570] Trial 94 finished with value: 0.4127659574468085 and parameters: {'lr': 7.076964345585197e-05, 'L2': 0.0001321723803344606, 'batch_size': 1, 'beta1': 0.1278171017430347, 'beta2': 0.00021858265846355743}. Best is trial 47 with value: 0.48085106382978726.\n"
     ]
    },
    {
     "name": "stdout",
     "output_type": "stream",
     "text": [
      "Accuracy: Train: 0.725 | Val: 0.413\n",
      "[E= 9] [it=  270] Train Loss: 0.818, Test Loss: 1.710\n",
      "[E=19] [it=  540] Train Loss: 0.281, Test Loss: 2.585\n"
     ]
    },
    {
     "name": "stderr",
     "output_type": "stream",
     "text": [
      "[I 2024-05-09 13:48:55,151] Trial 95 finished with value: 0.39361702127659576 and parameters: {'lr': 0.0018869051176946465, 'L2': 1.5430669475760578e-05, 'batch_size': 8, 'beta1': 0.053574466132449566, 'beta2': 5.677567782689903e-05}. Best is trial 47 with value: 0.48085106382978726.\n"
     ]
    },
    {
     "name": "stdout",
     "output_type": "stream",
     "text": [
      "Accuracy: Train: 0.894 | Val: 0.394\n",
      "[E= 9] [it=  540] Train Loss: 1.329, Test Loss: 1.346\n",
      "[E=19] [it= 1080] Train Loss: 1.198, Test Loss: 1.364\n"
     ]
    },
    {
     "name": "stderr",
     "output_type": "stream",
     "text": [
      "[I 2024-05-09 13:50:06,801] Trial 96 finished with value: 0.3361702127659575 and parameters: {'lr': 5.2381898711641516e-05, 'L2': 4.900313523539858e-05, 'batch_size': 4, 'beta1': 0.056981162959338846, 'beta2': 2.2320450012175195e-05}. Best is trial 47 with value: 0.48085106382978726.\n"
     ]
    },
    {
     "name": "stdout",
     "output_type": "stream",
     "text": [
      "Accuracy: Train: 0.484 | Val: 0.336\n",
      "[E= 9] [it= 2180] Train Loss: 0.927, Test Loss: 1.351\n",
      "[E=19] [it= 4360] Train Loss: 0.369, Test Loss: 2.764\n"
     ]
    },
    {
     "name": "stderr",
     "output_type": "stream",
     "text": [
      "[I 2024-05-09 13:51:57,284] Trial 97 finished with value: 0.37446808510638296 and parameters: {'lr': 0.001084069345286657, 'L2': 3.65332947405931e-05, 'batch_size': 1, 'beta1': 0.0686739542586439, 'beta2': 0.00015823814401250654}. Best is trial 47 with value: 0.48085106382978726.\n"
     ]
    },
    {
     "name": "stdout",
     "output_type": "stream",
     "text": [
      "Accuracy: Train: 0.789 | Val: 0.374\n",
      "[E= 9] [it= 2180] Train Loss: 1.001, Test Loss: 1.473\n",
      "[E=19] [it= 4360] Train Loss: 0.362, Test Loss: 2.287\n"
     ]
    },
    {
     "name": "stderr",
     "output_type": "stream",
     "text": [
      "[I 2024-05-09 13:53:43,420] Trial 98 finished with value: 0.34468085106382984 and parameters: {'lr': 0.0004167239217244816, 'L2': 1.841483083656733e-05, 'batch_size': 1, 'beta1': 0.10811687041623486, 'beta2': 6.752050584986814e-05}. Best is trial 47 with value: 0.48085106382978726.\n"
     ]
    },
    {
     "name": "stdout",
     "output_type": "stream",
     "text": [
      "Accuracy: Train: 0.890 | Val: 0.345\n",
      "[E= 9] [it=  270] Train Loss: 1.169, Test Loss: 1.347\n",
      "[E=19] [it=  540] Train Loss: 0.883, Test Loss: 1.357\n"
     ]
    },
    {
     "name": "stderr",
     "output_type": "stream",
     "text": [
      "[I 2024-05-09 13:54:50,651] Trial 99 finished with value: 0.41063829787234035 and parameters: {'lr': 0.00029505078847695044, 'L2': 0.003506832283678058, 'batch_size': 8, 'beta1': 0.07251641911171051, 'beta2': 0.00025363447015234927}. Best is trial 47 with value: 0.48085106382978726.\n"
     ]
    },
    {
     "name": "stdout",
     "output_type": "stream",
     "text": [
      "Accuracy: Train: 0.682 | Val: 0.411\n",
      "Best trial:\n",
      " Value: 0.48085106382978726\n",
      " Params: \n",
      "    lr: 0.00039176748296159314\n",
      "    L2: 0.00458413180342524\n",
      "    batch_size: 8\n",
      "    beta1: 0.1226786223740145\n",
      "    beta2: 0.00025853831681915484\n"
     ]
    }
   ],
   "source": [
    "lrs = []\n",
    "weight_decays = []\n",
    "batch_sizes = []\n",
    "adam_beta_ones = []\n",
    "adam_beta_twos = []\n",
    "train_losses = []\n",
    "train_accs = []\n",
    "vali_losses = []\n",
    "vali_accs = []\n",
    "def objective(trial):\n",
    "\n",
    "    # Trial configuration\n",
    "    # Name for run\n",
    "    run_name = \"Optuna-Test\"\n",
    "    # How many epochs before saving progress\n",
    "    checkpoint_interval = 10\n",
    "    #Number of epochs\n",
    "    Num_Epochs = 20\n",
    "    ## Loss\n",
    "    criterion = nn.CrossEntropyLoss()\n",
    "\n",
    "    ##############################################\n",
    "    # Hyperparameters search spaces\n",
    "    # Learning rate\n",
    "    lr = trial.suggest_float(\"lr\", 1e-5, 1e-1, log=True)\n",
    "    # L2 Normalization lambda\n",
    "    weight_decay = trial.suggest_float(\"L2\", 1e-5, 1e-1, log=True)\n",
    "    # Batch size\n",
    "    batch_size = trial.suggest_categorical(\"batch_size\", [1, 2, 4, 8])\n",
    "    # Adam beta values\n",
    "    adam_betas = (1.0-trial.suggest_float(\"beta1\", 0.05, 0.15, log=True), 1.0-trial.suggest_float(\"beta2\", 1e-5, 1e-3, log=True))\n",
    "\n",
    "    #################################################\n",
    "    # Generate data loader based on new batch size\n",
    "    train_loader = torch.utils.data.DataLoader(dataset=splits[1], shuffle=True, num_workers=0,\n",
    "                                           batch_size=batch_size, drop_last=True)\n",
    "    val_loader = torch.utils.data.DataLoader(dataset=splits[0], shuffle=True, num_workers=0,\n",
    "                                           batch_size=1, drop_last=True)\n",
    "\n",
    "    #################################################\n",
    "    # Create network architecture\n",
    "    model = ConvNetWithoutDropout(len(data.classes))\n",
    "\n",
    "    # Initialize model weights\n",
    "    model.apply(init_weights)\n",
    "\n",
    "    ## Optimizer\n",
    "    optimizer = optim.Adam(model.parameters(), lr=lr, weight_decay=weight_decay, betas=adam_betas)\n",
    "\n",
    "    \n",
    "    #################################################\n",
    "    # Train model\n",
    "    model_final, trainloss, valloss = train_model(train_loader=train_loader, val_loader=val_loader, model=model,\n",
    "                                            criterion=criterion, optimizer=optimizer, Num_Epochs=Num_Epochs, checkpoint_interval=checkpoint_interval, run_name=run_name)\n",
    "\n",
    "    # Output model performance\n",
    "    #tr_acc = get_accuracy(net=model_final, data_loader=train_loader)\n",
    "    tr_accs = 0\n",
    "    val_accs = 0\n",
    "    num_tests = 5\n",
    "    for i in range(num_tests):\n",
    "        tr_accs += get_accuracy(net=model_final, data_loader=train_loader)\n",
    "        val_accs += get_accuracy(net=model_final, data_loader=val_loader)\n",
    "    tr_acc = tr_accs/num_tests\n",
    "    val_acc = val_accs/num_tests\n",
    "    # val_acc2 = get_accuracy(net=model_final, data_loader=val_loader)\n",
    "    print(f\"Accuracy: Train: {tr_acc:.3f} | Val: {val_acc:0.3f}\" )\n",
    "    #print(f\"{run_name}: Accuracy: Train: {tr_acc:.3f} | Val: {val_acc:0.3f}\" )\n",
    "    # if(val_acc > 0.7):\n",
    "    lrs.append(lr)\n",
    "    weight_decays.append(weight_decay)\n",
    "    batch_sizes.append(batch_size)\n",
    "    adam_beta_ones.append(adam_betas[0])\n",
    "    adam_beta_twos.append(adam_betas[1])\n",
    "    train_losses.append(trainloss[-1])\n",
    "    train_accs.append(tr_acc)\n",
    "    vali_losses.append(valloss[-1])\n",
    "    vali_accs.append(val_acc)\n",
    "    if(val_acc > 0.4):\n",
    "        torch.save({\n",
    "          'epoch': 20,\n",
    "          'model_state_dict': model.state_dict(),\n",
    "          'optimizer_state_dict': optimizer.state_dict(),\n",
    "          'training_loss': trainloss,\n",
    "          'validation_loss': valloss,\n",
    "        }, f'networks/ADAM_coarse/net_{str(trial.number)}.pt')\n",
    "    # The objective function needs to return the metric to minimize or maximize\n",
    "    return val_acc\n",
    "\n",
    "study = optuna.create_study(direction=\"maximize\", study_name=\"Adam-binary-art\")\n",
    "study.optimize(objective, n_trials=100)\n",
    "\n",
    "print(\"Best trial:\")\n",
    "trial = study.best_trial\n",
    "print(f\" Value: {trial.value}\")\n",
    "print(\" Params: \")\n",
    "for key, value in trial.params.items():\n",
    "    print(f\"    {key}: {value}\")"
   ]
  },
  {
   "cell_type": "code",
   "execution_count": 87,
   "metadata": {},
   "outputs": [
    {
     "name": "stdout",
     "output_type": "stream",
     "text": [
      "[0.41234371893935734, 0.25022069074068254, 0.9178149949656714, 1.5192834922560938, 0.9362870167802881, 1.1896802496027064, 0.5429445500832709, 1.0022926151393614, 1.5277970146249842, 1.378786067167918, 1.2350452540937913, 1.338160667944392, 1.5173018908281939, 0.9371056471942761, 1.5217902758799562, 0.7742021237713618, 0.6954736521984285, 1.0996669693550933, 0.8422339186755889, 0.3167281785316329, 0.4147121924883254, 0.6281276966667582, 1.5253393179779753, 0.3885849277687633, 1.5178009413797922, 0.16745516662905688, 1.5259947394012312, 0.2833807973748165, 0.4852961311809449, 0.44290605187416077, 1.5735168596473308, 0.5019205153125141, 0.8065911890180023, 1.209388098858912, 0.6453079912397597, 1.4162068234549627, 0.6974990792848446, 1.0779789134308144, 0.7951892338417195, 0.29522419417345963, 0.8289503140581979, 0.754062122768826, 1.2231480622733082, 0.7431813500545643, 1.0224270853731368, 1.0938317633368537, 0.765753448009491, 0.7002582174760325, 1.2543595176224316, 0.8768117287529444, 0.8160612202352948, 0.789803828354235, 1.3109795782301161, 0.9636480631651702, 0.23030700037876764, 0.9144381866405863, 1.0194955229280738, 0.4920160331028522, 0.8309351607747034, 1.0770617191372183, 1.2088354141066928, 0.23334332674785085, 0.6644122214229019, 0.9771974180919041, 1.1923795918669176, 0.8455525336684574, 0.9512049223685107, 0.8194248222088049, 0.49132634673925507, 1.2463793072405212, 0.7311728286360382, 0.34318477550038584, 0.33172089078774053, 0.22711056594849285, 0.30354161422561715, 0.716746838265654, 0.9433450072730353, 0.760130169241766, 0.8793809036211615, 1.5191111548231282, 0.432686373816911, 0.5201860141404797, 0.69428439920452, 0.7691420542776858, 0.6508400851377735, 1.0748269222334985, 0.8398593551641621, 0.4048885028144136, 0.5331976157613099, 0.9042064713107215, 0.8394129175047707, 0.7066427623784101, 0.27943677910500103, 0.3710302668943535, 0.8000602494463871, 0.2813276655420109, 1.1977224272710305, 0.36934835158772833, 0.36233306548960287, 0.8833487751307311]\n",
      "(100,)\n"
     ]
    },
    {
     "data": {
      "image/png": "[encoded data removed]",
      "text/plain": [
       "<Figure size 640x480 with 1 Axes>"
      ]
     },
     "metadata": {},
     "output_type": "display_data"
    },
    {
     "data": {
      "image/png": "[encoded data removed]",
      "text/plain": [
       "<Figure size 640x480 with 1 Axes>"
      ]
     },
     "metadata": {},
     "output_type": "display_data"
    },
    {
     "data": {
      "image/png": "[encoded data removed]",
      "text/plain": [
       "<Figure size 640x480 with 1 Axes>"
      ]
     },
     "metadata": {},
     "output_type": "display_data"
    },
    {
     "data": {
      "image/png": "[encoded data removed]",
      "text/plain": [
       "<Figure size 640x480 with 1 Axes>"
      ]
     },
     "metadata": {},
     "output_type": "display_data"
    },
    {
     "data": {
      "image/png": "[encoded data removed]",
      "text/plain": [
       "<Figure size 640x480 with 1 Axes>"
      ]
     },
     "metadata": {},
     "output_type": "display_data"
    }
   ],
   "source": [
    "# from seaborn import swarmplot, stripplot\n",
    "# for i in range(len(train_losses)):\n",
    "#     stripplot(data=train_losses[i])\n",
    "# plt.show()\n",
    "plt.figure()\n",
    "print(train_losses)\n",
    "print((np.array(train_losses)).shape)\n",
    "# print(len(lrs))\n",
    "# for i in range(len(train_losses)):\n",
    "#     # print(range(len(train_losses[i])))\n",
    "#     print(train_losses[i])\n",
    "#     print((np.array(train_losses[i])).shape)\n",
    "#     plt.plot(train_losses[i],train_losses[i])\n",
    "    # plt.plot(range(len(train_losses[i])),train_losses[i])\n",
    "    # plt.plot(range(len(train_losses[i])),train_losses[i])\n",
    "# plt.scatter(train_losses, range(len(train_losses[0])), '-b')\n",
    "# plt.plot(vali_losses, '-r')\n",
    "plt.scatter(lrs, train_losses, label=\"training loss\")\n",
    "plt.scatter(lrs, vali_losses, label=\"vaidation loss\")\n",
    "plt.ioff()\n",
    "plt.ylabel('Loss')\n",
    "plt.xlabel(\"Learning Rate\")\n",
    "plt.title(\"Validation and Training Loss vs Learning Rate\")\n",
    "plt.legend()\n",
    "plt.show()\n",
    "\n",
    "#####weight decay\n",
    "plt.scatter(weight_decays, train_losses, label=\"training loss\")\n",
    "plt.scatter(weight_decays, vali_losses, label=\"vaidation loss\")\n",
    "plt.ioff()\n",
    "plt.ylabel('Loss')\n",
    "plt.xlabel(\"Weight Decay\")\n",
    "plt.title(\"Validation and Training Loss vs Weight Decay\")\n",
    "plt.legend()\n",
    "plt.show()\n",
    "\n",
    "#####batch_sizes\n",
    "plt.scatter(batch_sizes, train_losses, label=\"training loss\")\n",
    "plt.scatter(batch_sizes, vali_losses, label=\"vaidation loss\")\n",
    "plt.ioff()\n",
    "plt.ylabel('Loss')\n",
    "plt.xlabel(\"Batch Size\")\n",
    "plt.title(\"Validation and Training Loss vs Batch Size\")\n",
    "plt.legend()\n",
    "plt.show()\n",
    "\n",
    "#####adam_beta_ones\n",
    "plt.scatter(adam_beta_ones, train_losses, label=\"training loss\")\n",
    "plt.scatter(adam_beta_ones, vali_losses, label=\"vaidation loss\")\n",
    "plt.ioff()\n",
    "plt.ylabel('Loss')\n",
    "plt.xlabel(\"Adam Beta 1\")\n",
    "plt.title(\"Validation and Training Loss vs Adam Beta 1\")\n",
    "plt.legend()\n",
    "plt.show()\n",
    "\n",
    "#####adam_beta_twos\n",
    "plt.scatter(adam_beta_twos, train_losses, label=\"training loss\")\n",
    "plt.scatter(adam_beta_twos, vali_losses, label=\"vaidation loss\")\n",
    "plt.ioff()\n",
    "plt.ylabel('Loss')\n",
    "plt.xlabel(\"Adam Beta 2\")\n",
    "plt.title(\"Validation and Training Loss vs Adam Beta 2\")\n",
    "plt.legend()\n",
    "plt.show()"
   ]
  },
  {
   "cell_type": "code",
   "execution_count": 15,
   "metadata": {},
   "outputs": [
    {
     "name": "stderr",
     "output_type": "stream",
     "text": [
      "[I 2024-05-09 09:01:24,619] A new study created in memory with name: Adam-binary-art\n",
      "/tmp/ipykernel_5357/1099974826.py:5: UserWarning: nn.init.xavier_uniform is now deprecated in favor of nn.init.xavier_uniform_.\n",
      "  torch.nn.init.xavier_uniform(m.weight)\n"
     ]
    },
    {
     "name": "stdout",
     "output_type": "stream",
     "text": [
      "[E= 9] [it=  270] Train Loss: 1.202, Test Loss: 1.353\n",
      "[E=19] [it=  540] Train Loss: 0.893, Test Loss: 1.578\n"
     ]
    },
    {
     "name": "stderr",
     "output_type": "stream",
     "text": [
      "[I 2024-05-09 09:02:55,319] Trial 0 finished with value: 0.32978723404255317 and parameters: {'lr': 0.0005605403392399337, 'L2': 0.0006291947424569161, 'beta1': 0.11151367299919422, 'beta2': 0.0009069400872899813}. Best is trial 0 with value: 0.32978723404255317.\n"
     ]
    },
    {
     "name": "stdout",
     "output_type": "stream",
     "text": [
      "Accuracy: Train: 0.685 | Val: 0.330\n",
      "[E= 9] [it=  270] Train Loss: 0.893, Test Loss: 1.577\n",
      "[E=19] [it=  540] Train Loss: 0.404, Test Loss: 1.845\n"
     ]
    },
    {
     "name": "stderr",
     "output_type": "stream",
     "text": [
      "[I 2024-05-09 09:04:16,092] Trial 1 finished with value: 0.35106382978723405 and parameters: {'lr': 0.0009901279874278027, 'L2': 0.0005746370451212145, 'beta1': 0.07499081543807744, 'beta2': 0.0006278410711897818}. Best is trial 1 with value: 0.35106382978723405.\n"
     ]
    },
    {
     "name": "stdout",
     "output_type": "stream",
     "text": [
      "Accuracy: Train: 0.856 | Val: 0.351\n",
      "[E= 9] [it=  270] Train Loss: 0.956, Test Loss: 1.359\n",
      "[E=19] [it=  540] Train Loss: 0.433, Test Loss: 1.872\n"
     ]
    },
    {
     "name": "stderr",
     "output_type": "stream",
     "text": [
      "[I 2024-05-09 09:05:42,579] Trial 2 finished with value: 0.3617021276595745 and parameters: {'lr': 0.0008604423757068276, 'L2': 0.0009268539842524222, 'beta1': 0.11337049470111284, 'beta2': 0.0005417452999355749}. Best is trial 2 with value: 0.3617021276595745.\n"
     ]
    },
    {
     "name": "stdout",
     "output_type": "stream",
     "text": [
      "Accuracy: Train: 0.861 | Val: 0.362\n",
      "[E= 9] [it=  270] Train Loss: 1.001, Test Loss: 1.274\n",
      "[E=19] [it=  540] Train Loss: 0.466, Test Loss: 1.852\n"
     ]
    },
    {
     "name": "stderr",
     "output_type": "stream",
     "text": [
      "[I 2024-05-09 09:07:05,946] Trial 3 finished with value: 0.4148936170212766 and parameters: {'lr': 0.0006592432490214505, 'L2': 0.000868881678415294, 'beta1': 0.12313747237742428, 'beta2': 0.0006586687489294562}. Best is trial 3 with value: 0.4148936170212766.\n"
     ]
    },
    {
     "name": "stdout",
     "output_type": "stream",
     "text": [
      "Accuracy: Train: 0.833 | Val: 0.415\n",
      "[E= 9] [it=  270] Train Loss: 0.977, Test Loss: 1.402\n",
      "[E=19] [it=  540] Train Loss: 0.491, Test Loss: 1.695\n"
     ]
    },
    {
     "name": "stderr",
     "output_type": "stream",
     "text": [
      "[I 2024-05-09 09:08:29,002] Trial 4 finished with value: 0.48936170212765956 and parameters: {'lr': 0.0007966125640936406, 'L2': 0.0006818156919899579, 'beta1': 0.13118051964205513, 'beta2': 0.0009506932743064052}. Best is trial 4 with value: 0.48936170212765956.\n"
     ]
    },
    {
     "name": "stdout",
     "output_type": "stream",
     "text": [
      "Accuracy: Train: 0.829 | Val: 0.489\n",
      "[E= 9] [it=  270] Train Loss: 0.849, Test Loss: 1.588\n",
      "[E=19] [it=  540] Train Loss: 0.356, Test Loss: 2.219\n"
     ]
    },
    {
     "name": "stderr",
     "output_type": "stream",
     "text": [
      "[I 2024-05-09 09:09:48,406] Trial 5 finished with value: 0.30851063829787234 and parameters: {'lr': 0.0008719730205378198, 'L2': 0.0006970377616785671, 'beta1': 0.07347342849123674, 'beta2': 0.0005534145433411648}. Best is trial 4 with value: 0.48936170212765956.\n"
     ]
    },
    {
     "name": "stdout",
     "output_type": "stream",
     "text": [
      "Accuracy: Train: 0.889 | Val: 0.309\n",
      "[E= 9] [it=  270] Train Loss: 1.092, Test Loss: 1.390\n",
      "[E=19] [it=  540] Train Loss: 0.441, Test Loss: 1.887\n"
     ]
    },
    {
     "name": "stderr",
     "output_type": "stream",
     "text": [
      "[I 2024-05-09 09:11:13,079] Trial 6 finished with value: 0.40425531914893614 and parameters: {'lr': 0.0008482168112872689, 'L2': 0.0009817756586722522, 'beta1': 0.0667017777550018, 'beta2': 0.0008925064372994686}. Best is trial 4 with value: 0.48936170212765956.\n"
     ]
    },
    {
     "name": "stdout",
     "output_type": "stream",
     "text": [
      "Accuracy: Train: 0.824 | Val: 0.404\n",
      "[E= 9] [it=  270] Train Loss: 1.065, Test Loss: 1.373\n",
      "[E=19] [it=  540] Train Loss: 0.685, Test Loss: 1.453\n"
     ]
    },
    {
     "name": "stderr",
     "output_type": "stream",
     "text": [
      "[I 2024-05-09 09:12:37,703] Trial 7 finished with value: 0.3617021276595745 and parameters: {'lr': 0.0006335029233469246, 'L2': 0.0007550773532490098, 'beta1': 0.07221532881073058, 'beta2': 0.0008064079806787906}. Best is trial 4 with value: 0.48936170212765956.\n"
     ]
    },
    {
     "name": "stdout",
     "output_type": "stream",
     "text": [
      "Accuracy: Train: 0.745 | Val: 0.362\n",
      "[E= 9] [it=  270] Train Loss: 1.070, Test Loss: 1.507\n",
      "[E=19] [it=  540] Train Loss: 0.596, Test Loss: 1.571\n"
     ]
    },
    {
     "name": "stderr",
     "output_type": "stream",
     "text": [
      "[I 2024-05-09 09:14:03,923] Trial 8 finished with value: 0.3723404255319149 and parameters: {'lr': 0.0006419470907454155, 'L2': 0.00023172740812745218, 'beta1': 0.11052375136084258, 'beta2': 0.000819656645515935}. Best is trial 4 with value: 0.48936170212765956.\n"
     ]
    },
    {
     "name": "stdout",
     "output_type": "stream",
     "text": [
      "Accuracy: Train: 0.856 | Val: 0.372\n",
      "[E= 9] [it=  270] Train Loss: 1.093, Test Loss: 1.434\n",
      "[E=19] [it=  540] Train Loss: 0.556, Test Loss: 1.648\n"
     ]
    },
    {
     "name": "stderr",
     "output_type": "stream",
     "text": [
      "[I 2024-05-09 09:15:29,771] Trial 9 finished with value: 0.3829787234042553 and parameters: {'lr': 0.0005547691975613126, 'L2': 0.0009707504746175121, 'beta1': 0.07646988233421145, 'beta2': 0.0007913535070423963}. Best is trial 4 with value: 0.48936170212765956.\n"
     ]
    },
    {
     "name": "stdout",
     "output_type": "stream",
     "text": [
      "Accuracy: Train: 0.806 | Val: 0.383\n",
      "[E= 9] [it=  270] Train Loss: 1.097, Test Loss: 1.335\n",
      "[E=19] [it=  540] Train Loss: 0.564, Test Loss: 1.715\n"
     ]
    },
    {
     "name": "stderr",
     "output_type": "stream",
     "text": [
      "[I 2024-05-09 09:16:56,134] Trial 10 finished with value: 0.3723404255319149 and parameters: {'lr': 0.0007297067628673926, 'L2': 0.0003314942471313827, 'beta1': 0.14998907861083988, 'beta2': 0.0009977275379356664}. Best is trial 4 with value: 0.48936170212765956.\n"
     ]
    },
    {
     "name": "stdout",
     "output_type": "stream",
     "text": [
      "Accuracy: Train: 0.769 | Val: 0.372\n",
      "[E= 9] [it=  270] Train Loss: 0.900, Test Loss: 1.349\n",
      "[E=19] [it=  540] Train Loss: 0.389, Test Loss: 2.018\n"
     ]
    },
    {
     "name": "stderr",
     "output_type": "stream",
     "text": [
      "[I 2024-05-09 09:18:22,094] Trial 11 finished with value: 0.40425531914893614 and parameters: {'lr': 0.0007364477767065023, 'L2': 0.00041625862270165795, 'beta1': 0.13808263399226126, 'beta2': 0.0006867262095453923}. Best is trial 4 with value: 0.48936170212765956.\n"
     ]
    },
    {
     "name": "stdout",
     "output_type": "stream",
     "text": [
      "Accuracy: Train: 0.889 | Val: 0.404\n",
      "[E= 9] [it=  270] Train Loss: 1.058, Test Loss: 1.368\n",
      "[E=19] [it=  540] Train Loss: 0.730, Test Loss: 1.968\n"
     ]
    },
    {
     "name": "stderr",
     "output_type": "stream",
     "text": [
      "[I 2024-05-09 09:19:48,612] Trial 12 finished with value: 0.30851063829787234 and parameters: {'lr': 0.0006736018713696561, 'L2': 0.0007960743471142999, 'beta1': 0.12974061892259994, 'beta2': 0.0006522189192214008}. Best is trial 4 with value: 0.48936170212765956.\n"
     ]
    },
    {
     "name": "stdout",
     "output_type": "stream",
     "text": [
      "Accuracy: Train: 0.745 | Val: 0.309\n",
      "[E= 9] [it=  270] Train Loss: 0.854, Test Loss: 1.437\n",
      "[E=19] [it=  540] Train Loss: 0.359, Test Loss: 2.004\n"
     ]
    },
    {
     "name": "stderr",
     "output_type": "stream",
     "text": [
      "[I 2024-05-09 09:21:17,038] Trial 13 finished with value: 0.39361702127659576 and parameters: {'lr': 0.000816499356667408, 'L2': 0.0008365443401974202, 'beta1': 0.09480528120932127, 'beta2': 0.0005927188730506987}. Best is trial 4 with value: 0.48936170212765956.\n"
     ]
    },
    {
     "name": "stdout",
     "output_type": "stream",
     "text": [
      "Accuracy: Train: 0.889 | Val: 0.394\n",
      "[E= 9] [it=  270] Train Loss: 0.930, Test Loss: 1.597\n",
      "[E=19] [it=  540] Train Loss: 0.427, Test Loss: 1.911\n"
     ]
    },
    {
     "name": "stderr",
     "output_type": "stream",
     "text": [
      "[I 2024-05-09 09:23:03,031] Trial 14 finished with value: 0.3404255319148936 and parameters: {'lr': 0.000793062828923026, 'L2': 0.0005175177370768605, 'beta1': 0.13001684329909446, 'beta2': 0.000732531045267584}. Best is trial 4 with value: 0.48936170212765956.\n"
     ]
    },
    {
     "name": "stdout",
     "output_type": "stream",
     "text": [
      "Accuracy: Train: 0.833 | Val: 0.340\n",
      "[E= 9] [it=  270] Train Loss: 0.997, Test Loss: 1.421\n",
      "[E=19] [it=  540] Train Loss: 0.414, Test Loss: 2.097\n"
     ]
    },
    {
     "name": "stderr",
     "output_type": "stream",
     "text": [
      "[I 2024-05-09 09:24:48,530] Trial 15 finished with value: 0.40425531914893614 and parameters: {'lr': 0.000942585875571433, 'L2': 0.00011925607190413492, 'beta1': 0.09677733565823954, 'beta2': 0.0007373387775621891}. Best is trial 4 with value: 0.48936170212765956.\n"
     ]
    },
    {
     "name": "stdout",
     "output_type": "stream",
     "text": [
      "Accuracy: Train: 0.870 | Val: 0.404\n",
      "[E= 9] [it=  270] Train Loss: 1.096, Test Loss: 1.448\n",
      "[E=19] [it=  540] Train Loss: 0.607, Test Loss: 1.568\n"
     ]
    },
    {
     "name": "stderr",
     "output_type": "stream",
     "text": [
      "[I 2024-05-09 09:26:29,232] Trial 16 finished with value: 0.40425531914893614 and parameters: {'lr': 0.0006922813776622677, 'L2': 0.0008513695140963287, 'beta1': 0.12342119118146301, 'beta2': 0.000508216732546409}. Best is trial 4 with value: 0.48936170212765956.\n"
     ]
    },
    {
     "name": "stdout",
     "output_type": "stream",
     "text": [
      "Accuracy: Train: 0.745 | Val: 0.404\n",
      "[E= 9] [it=  270] Train Loss: 1.086, Test Loss: 1.354\n",
      "[E=19] [it=  540] Train Loss: 0.553, Test Loss: 1.646\n"
     ]
    },
    {
     "name": "stderr",
     "output_type": "stream",
     "text": [
      "[I 2024-05-09 09:28:14,233] Trial 17 finished with value: 0.3617021276595745 and parameters: {'lr': 0.0005093035515174843, 'L2': 0.0006344344825067265, 'beta1': 0.14957018584085785, 'beta2': 0.0009457593707538779}. Best is trial 4 with value: 0.48936170212765956.\n"
     ]
    },
    {
     "name": "stdout",
     "output_type": "stream",
     "text": [
      "Accuracy: Train: 0.764 | Val: 0.362\n",
      "[E= 9] [it=  270] Train Loss: 0.973, Test Loss: 1.388\n",
      "[E=19] [it=  540] Train Loss: 0.477, Test Loss: 1.820\n"
     ]
    },
    {
     "name": "stderr",
     "output_type": "stream",
     "text": [
      "[I 2024-05-09 09:29:59,907] Trial 18 finished with value: 0.425531914893617 and parameters: {'lr': 0.0007690968541128295, 'L2': 0.0004664093303254124, 'beta1': 0.05060643835851631, 'beta2': 0.0006795244732914841}. Best is trial 4 with value: 0.48936170212765956.\n"
     ]
    },
    {
     "name": "stdout",
     "output_type": "stream",
     "text": [
      "Accuracy: Train: 0.852 | Val: 0.426\n",
      "[E= 9] [it=  270] Train Loss: 0.995, Test Loss: 1.419\n",
      "[E=19] [it=  540] Train Loss: 0.523, Test Loss: 1.643\n"
     ]
    },
    {
     "name": "stderr",
     "output_type": "stream",
     "text": [
      "[I 2024-05-09 09:31:47,456] Trial 19 finished with value: 0.43617021276595747 and parameters: {'lr': 0.0007845563471503027, 'L2': 0.0004646978959559852, 'beta1': 0.05610534356220604, 'beta2': 0.000847705467039562}. Best is trial 4 with value: 0.48936170212765956.\n"
     ]
    },
    {
     "name": "stdout",
     "output_type": "stream",
     "text": [
      "Accuracy: Train: 0.880 | Val: 0.436\n",
      "[E= 9] [it=  270] Train Loss: 1.036, Test Loss: 1.299\n",
      "[E=19] [it=  540] Train Loss: 0.523, Test Loss: 1.753\n"
     ]
    },
    {
     "name": "stderr",
     "output_type": "stream",
     "text": [
      "[I 2024-05-09 09:33:29,180] Trial 20 finished with value: 0.3404255319148936 and parameters: {'lr': 0.0009107004170693261, 'L2': 0.00034756735424835094, 'beta1': 0.054212552948501504, 'beta2': 0.0008615987240737142}. Best is trial 4 with value: 0.48936170212765956.\n"
     ]
    },
    {
     "name": "stdout",
     "output_type": "stream",
     "text": [
      "Accuracy: Train: 0.870 | Val: 0.340\n",
      "[E= 9] [it=  270] Train Loss: 0.955, Test Loss: 1.318\n",
      "[E=19] [it=  540] Train Loss: 0.427, Test Loss: 1.874\n"
     ]
    },
    {
     "name": "stderr",
     "output_type": "stream",
     "text": [
      "[I 2024-05-09 09:35:14,868] Trial 21 finished with value: 0.3829787234042553 and parameters: {'lr': 0.0007753946257584794, 'L2': 0.00046955607236845887, 'beta1': 0.05113700681085648, 'beta2': 0.0009920669980155266}. Best is trial 4 with value: 0.48936170212765956.\n"
     ]
    },
    {
     "name": "stdout",
     "output_type": "stream",
     "text": [
      "Accuracy: Train: 0.875 | Val: 0.383\n",
      "[E= 9] [it=  270] Train Loss: 1.162, Test Loss: 1.356\n",
      "[E=19] [it=  540] Train Loss: 0.640, Test Loss: 1.652\n"
     ]
    },
    {
     "name": "stderr",
     "output_type": "stream",
     "text": [
      "[I 2024-05-09 09:37:03,455] Trial 22 finished with value: 0.32978723404255317 and parameters: {'lr': 0.0007548923913556678, 'L2': 0.0004338439400905201, 'beta1': 0.061383836527972475, 'beta2': 0.0007580194011453619}. Best is trial 4 with value: 0.48936170212765956.\n"
     ]
    },
    {
     "name": "stdout",
     "output_type": "stream",
     "text": [
      "Accuracy: Train: 0.750 | Val: 0.330\n",
      "[E= 9] [it=  270] Train Loss: 0.956, Test Loss: 1.326\n",
      "[E=19] [it=  540] Train Loss: 0.562, Test Loss: 1.707\n"
     ]
    },
    {
     "name": "stderr",
     "output_type": "stream",
     "text": [
      "[I 2024-05-09 09:38:42,218] Trial 23 finished with value: 0.43617021276595747 and parameters: {'lr': 0.0007069957110339049, 'L2': 0.0005534295738017212, 'beta1': 0.08576183769600332, 'beta2': 0.0008580807111636509}. Best is trial 4 with value: 0.48936170212765956.\n"
     ]
    },
    {
     "name": "stdout",
     "output_type": "stream",
     "text": [
      "Accuracy: Train: 0.806 | Val: 0.436\n",
      "[E= 9] [it=  270] Train Loss: 0.881, Test Loss: 1.454\n",
      "[E=19] [it=  540] Train Loss: 0.377, Test Loss: 1.694\n"
     ]
    },
    {
     "name": "stderr",
     "output_type": "stream",
     "text": [
      "[I 2024-05-09 09:40:24,775] Trial 24 finished with value: 0.4148936170212766 and parameters: {'lr': 0.0008172298329116262, 'L2': 0.0005739850186506876, 'beta1': 0.08751479486455313, 'beta2': 0.0008344831445548842}. Best is trial 4 with value: 0.48936170212765956.\n"
     ]
    },
    {
     "name": "stdout",
     "output_type": "stream",
     "text": [
      "Accuracy: Train: 0.898 | Val: 0.415\n",
      "[E= 9] [it=  270] Train Loss: 1.039, Test Loss: 1.345\n",
      "[E=19] [it=  540] Train Loss: 0.607, Test Loss: 1.532\n"
     ]
    },
    {
     "name": "stderr",
     "output_type": "stream",
     "text": [
      "[I 2024-05-09 09:42:02,430] Trial 25 finished with value: 0.4148936170212766 and parameters: {'lr': 0.0006958620644110697, 'L2': 0.000721004627666951, 'beta1': 0.08541047854416922, 'beta2': 0.0009366712366867915}. Best is trial 4 with value: 0.48936170212765956.\n"
     ]
    },
    {
     "name": "stdout",
     "output_type": "stream",
     "text": [
      "Accuracy: Train: 0.787 | Val: 0.415\n",
      "[E= 9] [it=  270] Train Loss: 0.972, Test Loss: 1.366\n",
      "[E=19] [it=  540] Train Loss: 0.540, Test Loss: 1.719\n"
     ]
    },
    {
     "name": "stderr",
     "output_type": "stream",
     "text": [
      "[I 2024-05-09 09:43:14,536] Trial 26 finished with value: 0.44680851063829785 and parameters: {'lr': 0.0005959869802055551, 'L2': 0.0006630105778106367, 'beta1': 0.08619538832287696, 'beta2': 0.0008533474902962232}. Best is trial 4 with value: 0.48936170212765956.\n"
     ]
    },
    {
     "name": "stdout",
     "output_type": "stream",
     "text": [
      "Accuracy: Train: 0.824 | Val: 0.447\n",
      "[E= 9] [it=  270] Train Loss: 0.952, Test Loss: 1.282\n",
      "[E=19] [it=  540] Train Loss: 0.454, Test Loss: 1.563\n"
     ]
    },
    {
     "name": "stderr",
     "output_type": "stream",
     "text": [
      "[I 2024-05-09 09:44:09,107] Trial 27 finished with value: 0.39361702127659576 and parameters: {'lr': 0.0005888933242965564, 'L2': 0.0006449254007140061, 'beta1': 0.10223349853763986, 'beta2': 0.0009390545990022333}. Best is trial 4 with value: 0.48936170212765956.\n"
     ]
    },
    {
     "name": "stdout",
     "output_type": "stream",
     "text": [
      "Accuracy: Train: 0.894 | Val: 0.394\n",
      "[E= 9] [it=  270] Train Loss: 1.008, Test Loss: 1.424\n",
      "[E=19] [it=  540] Train Loss: 0.580, Test Loss: 1.702\n"
     ]
    },
    {
     "name": "stderr",
     "output_type": "stream",
     "text": [
      "[I 2024-05-09 09:45:03,638] Trial 28 finished with value: 0.3617021276595745 and parameters: {'lr': 0.0006029704852499953, 'L2': 0.0006927389712396778, 'beta1': 0.1039787574603616, 'beta2': 0.0007637862673543118}. Best is trial 4 with value: 0.48936170212765956.\n"
     ]
    },
    {
     "name": "stdout",
     "output_type": "stream",
     "text": [
      "Accuracy: Train: 0.806 | Val: 0.362\n",
      "[E= 9] [it=  270] Train Loss: 1.055, Test Loss: 1.313\n",
      "[E=19] [it=  540] Train Loss: 0.651, Test Loss: 1.581\n"
     ]
    },
    {
     "name": "stderr",
     "output_type": "stream",
     "text": [
      "[I 2024-05-09 09:45:57,670] Trial 29 finished with value: 0.43617021276595747 and parameters: {'lr': 0.000524629927053087, 'L2': 0.00036171179542745163, 'beta1': 0.06181085996183361, 'beta2': 0.0008983641594992918}. Best is trial 4 with value: 0.48936170212765956.\n"
     ]
    },
    {
     "name": "stdout",
     "output_type": "stream",
     "text": [
      "Accuracy: Train: 0.801 | Val: 0.436\n",
      "[E= 9] [it=  270] Train Loss: 0.833, Test Loss: 1.478\n",
      "[E=19] [it=  540] Train Loss: 0.281, Test Loss: 2.292\n"
     ]
    },
    {
     "name": "stderr",
     "output_type": "stream",
     "text": [
      "[I 2024-05-09 09:46:51,732] Trial 30 finished with value: 0.2765957446808511 and parameters: {'lr': 0.0008995891500402487, 'L2': 0.00024864712046001046, 'beta1': 0.11104362577023219, 'beta2': 0.0008656819094866516}. Best is trial 4 with value: 0.48936170212765956.\n"
     ]
    },
    {
     "name": "stdout",
     "output_type": "stream",
     "text": [
      "Accuracy: Train: 0.903 | Val: 0.277\n",
      "[E= 9] [it=  270] Train Loss: 0.979, Test Loss: 1.478\n",
      "[E=19] [it=  540] Train Loss: 0.562, Test Loss: 1.674\n"
     ]
    },
    {
     "name": "stderr",
     "output_type": "stream",
     "text": [
      "[I 2024-05-09 09:47:45,532] Trial 31 finished with value: 0.44680851063829785 and parameters: {'lr': 0.0007169748467203504, 'L2': 0.0005265778179362303, 'beta1': 0.08829760924031144, 'beta2': 0.0008555182165671993}. Best is trial 4 with value: 0.48936170212765956.\n"
     ]
    },
    {
     "name": "stdout",
     "output_type": "stream",
     "text": [
      "Accuracy: Train: 0.824 | Val: 0.447\n",
      "[E= 9] [it=  270] Train Loss: 1.078, Test Loss: 1.378\n",
      "[E=19] [it=  540] Train Loss: 0.748, Test Loss: 1.565\n"
     ]
    },
    {
     "name": "stderr",
     "output_type": "stream",
     "text": [
      "[I 2024-05-09 09:48:39,771] Trial 32 finished with value: 0.3404255319148936 and parameters: {'lr': 0.0007208905414997032, 'L2': 0.0006129884415841319, 'beta1': 0.09060910372427222, 'beta2': 0.000954268693990747}. Best is trial 4 with value: 0.48936170212765956.\n"
     ]
    },
    {
     "name": "stdout",
     "output_type": "stream",
     "text": [
      "Accuracy: Train: 0.806 | Val: 0.340\n",
      "[E= 9] [it=  270] Train Loss: 1.085, Test Loss: 1.372\n",
      "[E=19] [it=  540] Train Loss: 0.500, Test Loss: 1.834\n"
     ]
    },
    {
     "name": "stderr",
     "output_type": "stream",
     "text": [
      "[I 2024-05-09 09:49:34,380] Trial 33 finished with value: 0.3829787234042553 and parameters: {'lr': 0.0007997634225973979, 'L2': 0.0004988718239402635, 'beta1': 0.08315581312162604, 'beta2': 0.0008980084438951371}. Best is trial 4 with value: 0.48936170212765956.\n"
     ]
    },
    {
     "name": "stdout",
     "output_type": "stream",
     "text": [
      "Accuracy: Train: 0.796 | Val: 0.383\n",
      "[E= 9] [it=  270] Train Loss: 1.118, Test Loss: 1.467\n",
      "[E=19] [it=  540] Train Loss: 0.643, Test Loss: 1.531\n"
     ]
    },
    {
     "name": "stderr",
     "output_type": "stream",
     "text": [
      "[I 2024-05-09 09:50:28,352] Trial 34 finished with value: 0.3723404255319149 and parameters: {'lr': 0.0008352939942526744, 'L2': 0.0005837114118031918, 'beta1': 0.07882932300071979, 'beta2': 0.0007850354691164774}. Best is trial 4 with value: 0.48936170212765956.\n"
     ]
    },
    {
     "name": "stdout",
     "output_type": "stream",
     "text": [
      "Accuracy: Train: 0.829 | Val: 0.372\n",
      "[E= 9] [it=  270] Train Loss: 0.873, Test Loss: 1.454\n",
      "[E=19] [it=  540] Train Loss: 0.425, Test Loss: 2.248\n"
     ]
    },
    {
     "name": "stderr",
     "output_type": "stream",
     "text": [
      "[I 2024-05-09 09:51:22,248] Trial 35 finished with value: 0.425531914893617 and parameters: {'lr': 0.0009848797951842623, 'L2': 0.0006699832785195786, 'beta1': 0.11748996872984395, 'beta2': 0.0008467522215314632}. Best is trial 4 with value: 0.48936170212765956.\n"
     ]
    },
    {
     "name": "stdout",
     "output_type": "stream",
     "text": [
      "Accuracy: Train: 0.824 | Val: 0.426\n",
      "[E= 9] [it=  270] Train Loss: 1.085, Test Loss: 1.292\n",
      "[E=19] [it=  540] Train Loss: 0.582, Test Loss: 1.610\n"
     ]
    },
    {
     "name": "stderr",
     "output_type": "stream",
     "text": [
      "[I 2024-05-09 09:52:16,383] Trial 36 finished with value: 0.35106382978723405 and parameters: {'lr': 0.0008771965712358456, 'L2': 0.0005154146531516512, 'beta1': 0.06765326666982138, 'beta2': 0.0009211505834048247}. Best is trial 4 with value: 0.48936170212765956.\n"
     ]
    },
    {
     "name": "stdout",
     "output_type": "stream",
     "text": [
      "Accuracy: Train: 0.792 | Val: 0.351\n",
      "[E= 9] [it=  270] Train Loss: 1.151, Test Loss: 1.424\n",
      "[E=19] [it=  540] Train Loss: 0.777, Test Loss: 1.772\n"
     ]
    },
    {
     "name": "stderr",
     "output_type": "stream",
     "text": [
      "[I 2024-05-09 09:53:10,793] Trial 37 finished with value: 0.3617021276595745 and parameters: {'lr': 0.0006192408776973541, 'L2': 0.0007387730568465418, 'beta1': 0.10419457555197366, 'beta2': 0.0008808546001458932}. Best is trial 4 with value: 0.48936170212765956.\n"
     ]
    },
    {
     "name": "stdout",
     "output_type": "stream",
     "text": [
      "Accuracy: Train: 0.583 | Val: 0.362\n",
      "[E= 9] [it=  270] Train Loss: 1.081, Test Loss: 1.276\n",
      "[E=19] [it=  540] Train Loss: 0.561, Test Loss: 1.885\n"
     ]
    },
    {
     "name": "stderr",
     "output_type": "stream",
     "text": [
      "[I 2024-05-09 09:54:04,721] Trial 38 finished with value: 0.30851063829787234 and parameters: {'lr': 0.0006617751389138834, 'L2': 0.0003962969780540525, 'beta1': 0.0931376187967559, 'beta2': 0.0008139143380121503}. Best is trial 4 with value: 0.48936170212765956.\n"
     ]
    },
    {
     "name": "stdout",
     "output_type": "stream",
     "text": [
      "Accuracy: Train: 0.759 | Val: 0.309\n",
      "[E= 9] [it=  270] Train Loss: 1.109, Test Loss: 1.512\n",
      "[E=19] [it=  540] Train Loss: 0.615, Test Loss: 1.766\n"
     ]
    },
    {
     "name": "stderr",
     "output_type": "stream",
     "text": [
      "[I 2024-05-09 09:54:58,726] Trial 39 finished with value: 0.39361702127659576 and parameters: {'lr': 0.0005861225147517447, 'L2': 0.0007686060577778309, 'beta1': 0.08032448834401656, 'beta2': 0.0009704087756128312}. Best is trial 4 with value: 0.48936170212765956.\n"
     ]
    },
    {
     "name": "stdout",
     "output_type": "stream",
     "text": [
      "Accuracy: Train: 0.769 | Val: 0.394\n",
      "[E= 9] [it=  270] Train Loss: 1.086, Test Loss: 1.450\n",
      "[E=19] [it=  540] Train Loss: 0.660, Test Loss: 1.873\n"
     ]
    },
    {
     "name": "stderr",
     "output_type": "stream",
     "text": [
      "[I 2024-05-09 09:55:53,216] Trial 40 finished with value: 0.3191489361702128 and parameters: {'lr': 0.0007506197866413189, 'L2': 0.0009054404631333894, 'beta1': 0.14016439176636594, 'beta2': 0.0008269557393987343}. Best is trial 4 with value: 0.48936170212765956.\n"
     ]
    },
    {
     "name": "stdout",
     "output_type": "stream",
     "text": [
      "Accuracy: Train: 0.764 | Val: 0.319\n",
      "[E= 9] [it=  270] Train Loss: 1.046, Test Loss: 1.347\n",
      "[E=19] [it=  540] Train Loss: 0.582, Test Loss: 1.753\n"
     ]
    },
    {
     "name": "stderr",
     "output_type": "stream",
     "text": [
      "[I 2024-05-09 09:56:47,450] Trial 41 finished with value: 0.35106382978723405 and parameters: {'lr': 0.0006862391062505551, 'L2': 0.0005395599035632748, 'beta1': 0.07171918792310934, 'beta2': 0.0009085919785534541}. Best is trial 4 with value: 0.48936170212765956.\n"
     ]
    },
    {
     "name": "stdout",
     "output_type": "stream",
     "text": [
      "Accuracy: Train: 0.792 | Val: 0.351\n",
      "[E= 9] [it=  270] Train Loss: 0.974, Test Loss: 1.352\n",
      "[E=19] [it=  540] Train Loss: 0.543, Test Loss: 1.737\n"
     ]
    },
    {
     "name": "stderr",
     "output_type": "stream",
     "text": [
      "[I 2024-05-09 09:57:44,512] Trial 42 finished with value: 0.425531914893617 and parameters: {'lr': 0.0007128530414141852, 'L2': 0.0005957521930050759, 'beta1': 0.09924262184196508, 'beta2': 0.0008535744678963929}. Best is trial 4 with value: 0.48936170212765956.\n"
     ]
    },
    {
     "name": "stdout",
     "output_type": "stream",
     "text": [
      "Accuracy: Train: 0.806 | Val: 0.426\n",
      "[E= 9] [it=  270] Train Loss: 1.073, Test Loss: 1.401\n",
      "[E=19] [it=  540] Train Loss: 0.539, Test Loss: 1.831\n"
     ]
    },
    {
     "name": "stderr",
     "output_type": "stream",
     "text": [
      "[I 2024-05-09 09:58:43,434] Trial 43 finished with value: 0.3617021276595745 and parameters: {'lr': 0.0006403113226379163, 'L2': 0.0006678461221897708, 'beta1': 0.08816923307461211, 'beta2': 0.0007822020908047666}. Best is trial 4 with value: 0.48936170212765956.\n"
     ]
    },
    {
     "name": "stdout",
     "output_type": "stream",
     "text": [
      "Accuracy: Train: 0.861 | Val: 0.362\n",
      "[E= 9] [it=  270] Train Loss: 1.015, Test Loss: 1.456\n",
      "[E=19] [it=  540] Train Loss: 0.436, Test Loss: 1.774\n"
     ]
    },
    {
     "name": "stderr",
     "output_type": "stream",
     "text": [
      "[I 2024-05-09 09:59:41,920] Trial 44 finished with value: 0.3723404255319149 and parameters: {'lr': 0.0007843393203742616, 'L2': 0.0005732282649158927, 'beta1': 0.0584581097808953, 'beta2': 0.0008744553357057233}. Best is trial 4 with value: 0.48936170212765956.\n"
     ]
    },
    {
     "name": "stdout",
     "output_type": "stream",
     "text": [
      "Accuracy: Train: 0.875 | Val: 0.372\n",
      "[E= 9] [it=  270] Train Loss: 1.091, Test Loss: 1.343\n",
      "[E=19] [it=  540] Train Loss: 0.716, Test Loss: 1.569\n"
     ]
    },
    {
     "name": "stderr",
     "output_type": "stream",
     "text": [
      "[I 2024-05-09 10:00:40,682] Trial 45 finished with value: 0.39361702127659576 and parameters: {'lr': 0.000551606941553161, 'L2': 0.0005365710130854017, 'beta1': 0.06967615108531662, 'beta2': 0.0007192119110924598}. Best is trial 4 with value: 0.48936170212765956.\n"
     ]
    },
    {
     "name": "stdout",
     "output_type": "stream",
     "text": [
      "Accuracy: Train: 0.796 | Val: 0.394\n",
      "[E= 9] [it=  270] Train Loss: 0.922, Test Loss: 1.337\n"
     ]
    },
    {
     "name": "stderr",
     "output_type": "stream",
     "text": [
      "[W 2024-05-09 10:01:22,998] Trial 46 failed with parameters: {'lr': 0.0008530534588155683, 'L2': 0.00046675362479358144, 'beta1': 0.0756460684390503, 'beta2': 0.0007969996880806304} because of the following error: KeyboardInterrupt().\n",
      "Traceback (most recent call last):\n",
      "  File \"/home/exi/programs/lib/python3.11/site-packages/optuna/study/_optimize.py\", line 196, in _run_trial\n",
      "    value_or_values = func(trial)\n",
      "                      ^^^^^^^^^^^\n",
      "  File \"/tmp/ipykernel_5357/2364008544.py\", line 44, in objective\n",
      "    model_final, trainloss, valloss = train_model(train_loader=train_loader, val_loader=val_loader, model=model,\n",
      "                                      ^^^^^^^^^^^^^^^^^^^^^^^^^^^^^^^^^^^^^^^^^^^^^^^^^^^^^^^^^^^^^^^^^^^^^^^^^^\n",
      "  File \"/tmp/ipykernel_5357/387759429.py\", line 65, in train_model\n",
      "    avg_val_loss = get_val_loss(model, criterion, val_loader)\n",
      "                   ^^^^^^^^^^^^^^^^^^^^^^^^^^^^^^^^^^^^^^^^^^\n",
      "  File \"/tmp/ipykernel_5357/325629476.py\", line 27, in get_val_loss\n",
      "    for i_batch, sample_batched in enumerate(data_loader):\n",
      "  File \"/home/exi/programs/lib/python3.11/site-packages/torch/utils/data/dataloader.py\", line 631, in __next__\n",
      "    data = self._next_data()\n",
      "           ^^^^^^^^^^^^^^^^^\n",
      "  File \"/home/exi/programs/lib/python3.11/site-packages/torch/utils/data/dataloader.py\", line 675, in _next_data\n",
      "    data = self._dataset_fetcher.fetch(index)  # may raise StopIteration\n",
      "           ^^^^^^^^^^^^^^^^^^^^^^^^^^^^^^^^^^\n",
      "  File \"/home/exi/programs/lib/python3.11/site-packages/torch/utils/data/_utils/fetch.py\", line 49, in fetch\n",
      "    data = self.dataset.__getitems__(possibly_batched_index)\n",
      "           ^^^^^^^^^^^^^^^^^^^^^^^^^^^^^^^^^^^^^^^^^^^^^^^^^\n",
      "  File \"/home/exi/programs/lib/python3.11/site-packages/torch/utils/data/dataset.py\", line 399, in __getitems__\n",
      "    return [self.dataset[self.indices[idx]] for idx in indices]\n",
      "           ^^^^^^^^^^^^^^^^^^^^^^^^^^^^^^^^^^^^^^^^^^^^^^^^^^^^\n",
      "  File \"/home/exi/programs/lib/python3.11/site-packages/torch/utils/data/dataset.py\", line 399, in <listcomp>\n",
      "    return [self.dataset[self.indices[idx]] for idx in indices]\n",
      "            ~~~~~~~~~~~~^^^^^^^^^^^^^^^^^^^\n",
      "  File \"/home/exi/programs/lib/python3.11/site-packages/torchvision/datasets/folder.py\", line 229, in __getitem__\n",
      "    sample = self.loader(path)\n",
      "             ^^^^^^^^^^^^^^^^^\n",
      "  File \"/home/exi/programs/lib/python3.11/site-packages/torchvision/datasets/folder.py\", line 268, in default_loader\n",
      "    return pil_loader(path)\n",
      "           ^^^^^^^^^^^^^^^^\n",
      "  File \"/home/exi/programs/lib/python3.11/site-packages/torchvision/datasets/folder.py\", line 248, in pil_loader\n",
      "    return img.convert(\"RGB\")\n",
      "           ^^^^^^^^^^^^^^^^^^\n",
      "  File \"/home/exi/programs/lib/python3.11/site-packages/PIL/Image.py\", line 911, in convert\n",
      "    self.load()\n",
      "  File \"/home/exi/programs/lib/python3.11/site-packages/PIL/ImageFile.py\", line 269, in load\n",
      "    n, err_code = decoder.decode(b)\n",
      "                  ^^^^^^^^^^^^^^^^^\n",
      "KeyboardInterrupt\n",
      "[W 2024-05-09 10:01:23,004] Trial 46 failed with value None.\n"
     ]
    },
    {
     "ename": "KeyboardInterrupt",
     "evalue": "",
     "output_type": "error",
     "traceback": [
      "\u001b[0;31m---------------------------------------------------------------------------\u001b[0m",
      "\u001b[0;31mKeyboardInterrupt\u001b[0m                         Traceback (most recent call last)",
      "\u001b[1;32m/home/exi/uni/2024/525/project/multi_emotions.ipynb Cell 39\u001b[0m line \u001b[0;36m6\n\u001b[1;32m     <a href='vscode-notebook-cell:/home/exi/uni/2024/525/project/multi_emotions.ipynb#X53sZmlsZQ%3D%3D?line=62'>63</a>\u001b[0m     \u001b[39mreturn\u001b[39;00m val_acc\n\u001b[1;32m     <a href='vscode-notebook-cell:/home/exi/uni/2024/525/project/multi_emotions.ipynb#X53sZmlsZQ%3D%3D?line=64'>65</a>\u001b[0m study \u001b[39m=\u001b[39m optuna\u001b[39m.\u001b[39mcreate_study(direction\u001b[39m=\u001b[39m\u001b[39m\"\u001b[39m\u001b[39mmaximize\u001b[39m\u001b[39m\"\u001b[39m, study_name\u001b[39m=\u001b[39m\u001b[39m\"\u001b[39m\u001b[39mAdam-binary-art\u001b[39m\u001b[39m\"\u001b[39m)\n\u001b[0;32m---> <a href='vscode-notebook-cell:/home/exi/uni/2024/525/project/multi_emotions.ipynb#X53sZmlsZQ%3D%3D?line=65'>66</a>\u001b[0m study\u001b[39m.\u001b[39;49moptimize(objective, n_trials\u001b[39m=\u001b[39;49m\u001b[39m100\u001b[39;49m)\n\u001b[1;32m     <a href='vscode-notebook-cell:/home/exi/uni/2024/525/project/multi_emotions.ipynb#X53sZmlsZQ%3D%3D?line=67'>68</a>\u001b[0m \u001b[39mprint\u001b[39m(\u001b[39m\"\u001b[39m\u001b[39mBest trial:\u001b[39m\u001b[39m\"\u001b[39m)\n\u001b[1;32m     <a href='vscode-notebook-cell:/home/exi/uni/2024/525/project/multi_emotions.ipynb#X53sZmlsZQ%3D%3D?line=68'>69</a>\u001b[0m trial \u001b[39m=\u001b[39m study\u001b[39m.\u001b[39mbest_trial\n",
      "File \u001b[0;32m~/programs/lib/python3.11/site-packages/optuna/study/study.py:451\u001b[0m, in \u001b[0;36mStudy.optimize\u001b[0;34m(self, func, n_trials, timeout, n_jobs, catch, callbacks, gc_after_trial, show_progress_bar)\u001b[0m\n\u001b[1;32m    348\u001b[0m \u001b[39mdef\u001b[39;00m \u001b[39moptimize\u001b[39m(\n\u001b[1;32m    349\u001b[0m     \u001b[39mself\u001b[39m,\n\u001b[1;32m    350\u001b[0m     func: ObjectiveFuncType,\n\u001b[0;32m   (...)\u001b[0m\n\u001b[1;32m    357\u001b[0m     show_progress_bar: \u001b[39mbool\u001b[39m \u001b[39m=\u001b[39m \u001b[39mFalse\u001b[39;00m,\n\u001b[1;32m    358\u001b[0m ) \u001b[39m-\u001b[39m\u001b[39m>\u001b[39m \u001b[39mNone\u001b[39;00m:\n\u001b[1;32m    359\u001b[0m \u001b[39m    \u001b[39m\u001b[39m\"\"\"Optimize an objective function.\u001b[39;00m\n\u001b[1;32m    360\u001b[0m \n\u001b[1;32m    361\u001b[0m \u001b[39m    Optimization is done by choosing a suitable set of hyperparameter values from a given\u001b[39;00m\n\u001b[0;32m   (...)\u001b[0m\n\u001b[1;32m    449\u001b[0m \u001b[39m            If nested invocation of this method occurs.\u001b[39;00m\n\u001b[1;32m    450\u001b[0m \u001b[39m    \"\"\"\u001b[39;00m\n\u001b[0;32m--> 451\u001b[0m     _optimize(\n\u001b[1;32m    452\u001b[0m         study\u001b[39m=\u001b[39;49m\u001b[39mself\u001b[39;49m,\n\u001b[1;32m    453\u001b[0m         func\u001b[39m=\u001b[39;49mfunc,\n\u001b[1;32m    454\u001b[0m         n_trials\u001b[39m=\u001b[39;49mn_trials,\n\u001b[1;32m    455\u001b[0m         timeout\u001b[39m=\u001b[39;49mtimeout,\n\u001b[1;32m    456\u001b[0m         n_jobs\u001b[39m=\u001b[39;49mn_jobs,\n\u001b[1;32m    457\u001b[0m         catch\u001b[39m=\u001b[39;49m\u001b[39mtuple\u001b[39;49m(catch) \u001b[39mif\u001b[39;49;00m \u001b[39misinstance\u001b[39;49m(catch, Iterable) \u001b[39melse\u001b[39;49;00m (catch,),\n\u001b[1;32m    458\u001b[0m         callbacks\u001b[39m=\u001b[39;49mcallbacks,\n\u001b[1;32m    459\u001b[0m         gc_after_trial\u001b[39m=\u001b[39;49mgc_after_trial,\n\u001b[1;32m    460\u001b[0m         show_progress_bar\u001b[39m=\u001b[39;49mshow_progress_bar,\n\u001b[1;32m    461\u001b[0m     )\n",
      "File \u001b[0;32m~/programs/lib/python3.11/site-packages/optuna/study/_optimize.py:62\u001b[0m, in \u001b[0;36m_optimize\u001b[0;34m(study, func, n_trials, timeout, n_jobs, catch, callbacks, gc_after_trial, show_progress_bar)\u001b[0m\n\u001b[1;32m     60\u001b[0m \u001b[39mtry\u001b[39;00m:\n\u001b[1;32m     61\u001b[0m     \u001b[39mif\u001b[39;00m n_jobs \u001b[39m==\u001b[39m \u001b[39m1\u001b[39m:\n\u001b[0;32m---> 62\u001b[0m         _optimize_sequential(\n\u001b[1;32m     63\u001b[0m             study,\n\u001b[1;32m     64\u001b[0m             func,\n\u001b[1;32m     65\u001b[0m             n_trials,\n\u001b[1;32m     66\u001b[0m             timeout,\n\u001b[1;32m     67\u001b[0m             catch,\n\u001b[1;32m     68\u001b[0m             callbacks,\n\u001b[1;32m     69\u001b[0m             gc_after_trial,\n\u001b[1;32m     70\u001b[0m             reseed_sampler_rng\u001b[39m=\u001b[39;49m\u001b[39mFalse\u001b[39;49;00m,\n\u001b[1;32m     71\u001b[0m             time_start\u001b[39m=\u001b[39;49m\u001b[39mNone\u001b[39;49;00m,\n\u001b[1;32m     72\u001b[0m             progress_bar\u001b[39m=\u001b[39;49mprogress_bar,\n\u001b[1;32m     73\u001b[0m         )\n\u001b[1;32m     74\u001b[0m     \u001b[39melse\u001b[39;00m:\n\u001b[1;32m     75\u001b[0m         \u001b[39mif\u001b[39;00m n_jobs \u001b[39m==\u001b[39m \u001b[39m-\u001b[39m\u001b[39m1\u001b[39m:\n",
      "File \u001b[0;32m~/programs/lib/python3.11/site-packages/optuna/study/_optimize.py:159\u001b[0m, in \u001b[0;36m_optimize_sequential\u001b[0;34m(study, func, n_trials, timeout, catch, callbacks, gc_after_trial, reseed_sampler_rng, time_start, progress_bar)\u001b[0m\n\u001b[1;32m    156\u001b[0m         \u001b[39mbreak\u001b[39;00m\n\u001b[1;32m    158\u001b[0m \u001b[39mtry\u001b[39;00m:\n\u001b[0;32m--> 159\u001b[0m     frozen_trial \u001b[39m=\u001b[39m _run_trial(study, func, catch)\n\u001b[1;32m    160\u001b[0m \u001b[39mfinally\u001b[39;00m:\n\u001b[1;32m    161\u001b[0m     \u001b[39m# The following line mitigates memory problems that can be occurred in some\u001b[39;00m\n\u001b[1;32m    162\u001b[0m     \u001b[39m# environments (e.g., services that use computing containers such as GitHub Actions).\u001b[39;00m\n\u001b[1;32m    163\u001b[0m     \u001b[39m# Please refer to the following PR for further details:\u001b[39;00m\n\u001b[1;32m    164\u001b[0m     \u001b[39m# https://github.com/optuna/optuna/pull/325.\u001b[39;00m\n\u001b[1;32m    165\u001b[0m     \u001b[39mif\u001b[39;00m gc_after_trial:\n",
      "File \u001b[0;32m~/programs/lib/python3.11/site-packages/optuna/study/_optimize.py:247\u001b[0m, in \u001b[0;36m_run_trial\u001b[0;34m(study, func, catch)\u001b[0m\n\u001b[1;32m    240\u001b[0m         \u001b[39massert\u001b[39;00m \u001b[39mFalse\u001b[39;00m, \u001b[39m\"\u001b[39m\u001b[39mShould not reach.\u001b[39m\u001b[39m\"\u001b[39m\n\u001b[1;32m    242\u001b[0m \u001b[39mif\u001b[39;00m (\n\u001b[1;32m    243\u001b[0m     frozen_trial\u001b[39m.\u001b[39mstate \u001b[39m==\u001b[39m TrialState\u001b[39m.\u001b[39mFAIL\n\u001b[1;32m    244\u001b[0m     \u001b[39mand\u001b[39;00m func_err \u001b[39mis\u001b[39;00m \u001b[39mnot\u001b[39;00m \u001b[39mNone\u001b[39;00m\n\u001b[1;32m    245\u001b[0m     \u001b[39mand\u001b[39;00m \u001b[39mnot\u001b[39;00m \u001b[39misinstance\u001b[39m(func_err, catch)\n\u001b[1;32m    246\u001b[0m ):\n\u001b[0;32m--> 247\u001b[0m     \u001b[39mraise\u001b[39;00m func_err\n\u001b[1;32m    248\u001b[0m \u001b[39mreturn\u001b[39;00m frozen_trial\n",
      "File \u001b[0;32m~/programs/lib/python3.11/site-packages/optuna/study/_optimize.py:196\u001b[0m, in \u001b[0;36m_run_trial\u001b[0;34m(study, func, catch)\u001b[0m\n\u001b[1;32m    194\u001b[0m \u001b[39mwith\u001b[39;00m get_heartbeat_thread(trial\u001b[39m.\u001b[39m_trial_id, study\u001b[39m.\u001b[39m_storage):\n\u001b[1;32m    195\u001b[0m     \u001b[39mtry\u001b[39;00m:\n\u001b[0;32m--> 196\u001b[0m         value_or_values \u001b[39m=\u001b[39m func(trial)\n\u001b[1;32m    197\u001b[0m     \u001b[39mexcept\u001b[39;00m exceptions\u001b[39m.\u001b[39mTrialPruned \u001b[39mas\u001b[39;00m e:\n\u001b[1;32m    198\u001b[0m         \u001b[39m# TODO(mamu): Handle multi-objective cases.\u001b[39;00m\n\u001b[1;32m    199\u001b[0m         state \u001b[39m=\u001b[39m TrialState\u001b[39m.\u001b[39mPRUNED\n",
      "\u001b[1;32m/home/exi/uni/2024/525/project/multi_emotions.ipynb Cell 39\u001b[0m line \u001b[0;36m4\n\u001b[1;32m     <a href='vscode-notebook-cell:/home/exi/uni/2024/525/project/multi_emotions.ipynb#X53sZmlsZQ%3D%3D?line=38'>39</a>\u001b[0m optimizer \u001b[39m=\u001b[39m optim\u001b[39m.\u001b[39mAdam(model\u001b[39m.\u001b[39mparameters(), lr\u001b[39m=\u001b[39mlr, weight_decay\u001b[39m=\u001b[39mweight_decay, betas\u001b[39m=\u001b[39madam_betas)\n\u001b[1;32m     <a href='vscode-notebook-cell:/home/exi/uni/2024/525/project/multi_emotions.ipynb#X53sZmlsZQ%3D%3D?line=41'>42</a>\u001b[0m \u001b[39m#################################################\u001b[39;00m\n\u001b[1;32m     <a href='vscode-notebook-cell:/home/exi/uni/2024/525/project/multi_emotions.ipynb#X53sZmlsZQ%3D%3D?line=42'>43</a>\u001b[0m \u001b[39m# Train model\u001b[39;00m\n\u001b[0;32m---> <a href='vscode-notebook-cell:/home/exi/uni/2024/525/project/multi_emotions.ipynb#X53sZmlsZQ%3D%3D?line=43'>44</a>\u001b[0m model_final, trainloss, valloss \u001b[39m=\u001b[39m train_model(train_loader\u001b[39m=\u001b[39;49mtrain_loader, val_loader\u001b[39m=\u001b[39;49mval_loader, model\u001b[39m=\u001b[39;49mmodel,\n\u001b[1;32m     <a href='vscode-notebook-cell:/home/exi/uni/2024/525/project/multi_emotions.ipynb#X53sZmlsZQ%3D%3D?line=44'>45</a>\u001b[0m                                         criterion\u001b[39m=\u001b[39;49mcriterion, optimizer\u001b[39m=\u001b[39;49moptimizer, Num_Epochs\u001b[39m=\u001b[39;49mNum_Epochs, checkpoint_interval\u001b[39m=\u001b[39;49mcheckpoint_interval, run_name\u001b[39m=\u001b[39;49mrun_name)\n\u001b[1;32m     <a href='vscode-notebook-cell:/home/exi/uni/2024/525/project/multi_emotions.ipynb#X53sZmlsZQ%3D%3D?line=46'>47</a>\u001b[0m \u001b[39m# Output model performance\u001b[39;00m\n\u001b[1;32m     <a href='vscode-notebook-cell:/home/exi/uni/2024/525/project/multi_emotions.ipynb#X53sZmlsZQ%3D%3D?line=47'>48</a>\u001b[0m \u001b[39m#tr_acc = get_accuracy(net=model_final, data_loader=train_loader)\u001b[39;00m\n\u001b[1;32m     <a href='vscode-notebook-cell:/home/exi/uni/2024/525/project/multi_emotions.ipynb#X53sZmlsZQ%3D%3D?line=49'>50</a>\u001b[0m tr_acc \u001b[39m=\u001b[39m get_accuracy(net\u001b[39m=\u001b[39mmodel_final, data_loader\u001b[39m=\u001b[39mtrain_loader)\n",
      "\u001b[1;32m/home/exi/uni/2024/525/project/multi_emotions.ipynb Cell 39\u001b[0m line \u001b[0;36m6\n\u001b[1;32m     <a href='vscode-notebook-cell:/home/exi/uni/2024/525/project/multi_emotions.ipynb#X53sZmlsZQ%3D%3D?line=62'>63</a>\u001b[0m \u001b[39m#track progress\u001b[39;00m\n\u001b[1;32m     <a href='vscode-notebook-cell:/home/exi/uni/2024/525/project/multi_emotions.ipynb#X53sZmlsZQ%3D%3D?line=63'>64</a>\u001b[0m avg_train_loss \u001b[39m=\u001b[39m \u001b[39msum\u001b[39m(running_loss) \u001b[39m/\u001b[39m \u001b[39mlen\u001b[39m(running_loss)\n\u001b[0;32m---> <a href='vscode-notebook-cell:/home/exi/uni/2024/525/project/multi_emotions.ipynb#X53sZmlsZQ%3D%3D?line=64'>65</a>\u001b[0m avg_val_loss \u001b[39m=\u001b[39m get_val_loss(model, criterion, val_loader)\n\u001b[1;32m     <a href='vscode-notebook-cell:/home/exi/uni/2024/525/project/multi_emotions.ipynb#X53sZmlsZQ%3D%3D?line=66'>67</a>\u001b[0m \u001b[39m# clear the list\u001b[39;00m\n\u001b[1;32m     <a href='vscode-notebook-cell:/home/exi/uni/2024/525/project/multi_emotions.ipynb#X53sZmlsZQ%3D%3D?line=67'>68</a>\u001b[0m running_loss\u001b[39m.\u001b[39mclear()\n",
      "\u001b[1;32m/home/exi/uni/2024/525/project/multi_emotions.ipynb Cell 39\u001b[0m line \u001b[0;36m2\n\u001b[1;32m     <a href='vscode-notebook-cell:/home/exi/uni/2024/525/project/multi_emotions.ipynb#X53sZmlsZQ%3D%3D?line=24'>25</a>\u001b[0m testing_loss \u001b[39m=\u001b[39m []\n\u001b[1;32m     <a href='vscode-notebook-cell:/home/exi/uni/2024/525/project/multi_emotions.ipynb#X53sZmlsZQ%3D%3D?line=25'>26</a>\u001b[0m \u001b[39mwith\u001b[39;00m torch\u001b[39m.\u001b[39mno_grad():\n\u001b[0;32m---> <a href='vscode-notebook-cell:/home/exi/uni/2024/525/project/multi_emotions.ipynb#X53sZmlsZQ%3D%3D?line=26'>27</a>\u001b[0m   \u001b[39mfor\u001b[39;49;00m i_batch, sample_batched \u001b[39min\u001b[39;49;00m \u001b[39menumerate\u001b[39;49m(data_loader):\n\u001b[1;32m     <a href='vscode-notebook-cell:/home/exi/uni/2024/525/project/multi_emotions.ipynb#X53sZmlsZQ%3D%3D?line=27'>28</a>\u001b[0m     \u001b[39m# data and labels\u001b[39;49;00m\n\u001b[1;32m     <a href='vscode-notebook-cell:/home/exi/uni/2024/525/project/multi_emotions.ipynb#X53sZmlsZQ%3D%3D?line=28'>29</a>\u001b[0m     inputs, labels \u001b[39m=\u001b[39;49m sample_batched[\u001b[39m0\u001b[39;49m], sample_batched[\u001b[39m1\u001b[39;49m]\n\u001b[1;32m     <a href='vscode-notebook-cell:/home/exi/uni/2024/525/project/multi_emotions.ipynb#X53sZmlsZQ%3D%3D?line=30'>31</a>\u001b[0m    \u001b[39m# inputs, labels = inputs.to(device), labels.to(device)\u001b[39;49;00m\n",
      "File \u001b[0;32m~/programs/lib/python3.11/site-packages/torch/utils/data/dataloader.py:631\u001b[0m, in \u001b[0;36m_BaseDataLoaderIter.__next__\u001b[0;34m(self)\u001b[0m\n\u001b[1;32m    628\u001b[0m \u001b[39mif\u001b[39;00m \u001b[39mself\u001b[39m\u001b[39m.\u001b[39m_sampler_iter \u001b[39mis\u001b[39;00m \u001b[39mNone\u001b[39;00m:\n\u001b[1;32m    629\u001b[0m     \u001b[39m# TODO(https://github.com/pytorch/pytorch/issues/76750)\u001b[39;00m\n\u001b[1;32m    630\u001b[0m     \u001b[39mself\u001b[39m\u001b[39m.\u001b[39m_reset()  \u001b[39m# type: ignore[call-arg]\u001b[39;00m\n\u001b[0;32m--> 631\u001b[0m data \u001b[39m=\u001b[39m \u001b[39mself\u001b[39;49m\u001b[39m.\u001b[39;49m_next_data()\n\u001b[1;32m    632\u001b[0m \u001b[39mself\u001b[39m\u001b[39m.\u001b[39m_num_yielded \u001b[39m+\u001b[39m\u001b[39m=\u001b[39m \u001b[39m1\u001b[39m\n\u001b[1;32m    633\u001b[0m \u001b[39mif\u001b[39;00m \u001b[39mself\u001b[39m\u001b[39m.\u001b[39m_dataset_kind \u001b[39m==\u001b[39m _DatasetKind\u001b[39m.\u001b[39mIterable \u001b[39mand\u001b[39;00m \\\n\u001b[1;32m    634\u001b[0m         \u001b[39mself\u001b[39m\u001b[39m.\u001b[39m_IterableDataset_len_called \u001b[39mis\u001b[39;00m \u001b[39mnot\u001b[39;00m \u001b[39mNone\u001b[39;00m \u001b[39mand\u001b[39;00m \\\n\u001b[1;32m    635\u001b[0m         \u001b[39mself\u001b[39m\u001b[39m.\u001b[39m_num_yielded \u001b[39m>\u001b[39m \u001b[39mself\u001b[39m\u001b[39m.\u001b[39m_IterableDataset_len_called:\n",
      "File \u001b[0;32m~/programs/lib/python3.11/site-packages/torch/utils/data/dataloader.py:675\u001b[0m, in \u001b[0;36m_SingleProcessDataLoaderIter._next_data\u001b[0;34m(self)\u001b[0m\n\u001b[1;32m    673\u001b[0m \u001b[39mdef\u001b[39;00m \u001b[39m_next_data\u001b[39m(\u001b[39mself\u001b[39m):\n\u001b[1;32m    674\u001b[0m     index \u001b[39m=\u001b[39m \u001b[39mself\u001b[39m\u001b[39m.\u001b[39m_next_index()  \u001b[39m# may raise StopIteration\u001b[39;00m\n\u001b[0;32m--> 675\u001b[0m     data \u001b[39m=\u001b[39m \u001b[39mself\u001b[39;49m\u001b[39m.\u001b[39;49m_dataset_fetcher\u001b[39m.\u001b[39;49mfetch(index)  \u001b[39m# may raise StopIteration\u001b[39;00m\n\u001b[1;32m    676\u001b[0m     \u001b[39mif\u001b[39;00m \u001b[39mself\u001b[39m\u001b[39m.\u001b[39m_pin_memory:\n\u001b[1;32m    677\u001b[0m         data \u001b[39m=\u001b[39m _utils\u001b[39m.\u001b[39mpin_memory\u001b[39m.\u001b[39mpin_memory(data, \u001b[39mself\u001b[39m\u001b[39m.\u001b[39m_pin_memory_device)\n",
      "File \u001b[0;32m~/programs/lib/python3.11/site-packages/torch/utils/data/_utils/fetch.py:49\u001b[0m, in \u001b[0;36m_MapDatasetFetcher.fetch\u001b[0;34m(self, possibly_batched_index)\u001b[0m\n\u001b[1;32m     47\u001b[0m \u001b[39mif\u001b[39;00m \u001b[39mself\u001b[39m\u001b[39m.\u001b[39mauto_collation:\n\u001b[1;32m     48\u001b[0m     \u001b[39mif\u001b[39;00m \u001b[39mhasattr\u001b[39m(\u001b[39mself\u001b[39m\u001b[39m.\u001b[39mdataset, \u001b[39m\"\u001b[39m\u001b[39m__getitems__\u001b[39m\u001b[39m\"\u001b[39m) \u001b[39mand\u001b[39;00m \u001b[39mself\u001b[39m\u001b[39m.\u001b[39mdataset\u001b[39m.\u001b[39m__getitems__:\n\u001b[0;32m---> 49\u001b[0m         data \u001b[39m=\u001b[39m \u001b[39mself\u001b[39;49m\u001b[39m.\u001b[39;49mdataset\u001b[39m.\u001b[39;49m__getitems__(possibly_batched_index)\n\u001b[1;32m     50\u001b[0m     \u001b[39melse\u001b[39;00m:\n\u001b[1;32m     51\u001b[0m         data \u001b[39m=\u001b[39m [\u001b[39mself\u001b[39m\u001b[39m.\u001b[39mdataset[idx] \u001b[39mfor\u001b[39;00m idx \u001b[39min\u001b[39;00m possibly_batched_index]\n",
      "File \u001b[0;32m~/programs/lib/python3.11/site-packages/torch/utils/data/dataset.py:399\u001b[0m, in \u001b[0;36mSubset.__getitems__\u001b[0;34m(self, indices)\u001b[0m\n\u001b[1;32m    397\u001b[0m     \u001b[39mreturn\u001b[39;00m \u001b[39mself\u001b[39m\u001b[39m.\u001b[39mdataset\u001b[39m.\u001b[39m__getitems__([\u001b[39mself\u001b[39m\u001b[39m.\u001b[39mindices[idx] \u001b[39mfor\u001b[39;00m idx \u001b[39min\u001b[39;00m indices])  \u001b[39m# type: ignore[attr-defined]\u001b[39;00m\n\u001b[1;32m    398\u001b[0m \u001b[39melse\u001b[39;00m:\n\u001b[0;32m--> 399\u001b[0m     \u001b[39mreturn\u001b[39;00m [\u001b[39mself\u001b[39;49m\u001b[39m.\u001b[39;49mdataset[\u001b[39mself\u001b[39;49m\u001b[39m.\u001b[39;49mindices[idx]] \u001b[39mfor\u001b[39;49;00m idx \u001b[39min\u001b[39;49;00m indices]\n",
      "File \u001b[0;32m~/programs/lib/python3.11/site-packages/torch/utils/data/dataset.py:399\u001b[0m, in \u001b[0;36m<listcomp>\u001b[0;34m(.0)\u001b[0m\n\u001b[1;32m    397\u001b[0m     \u001b[39mreturn\u001b[39;00m \u001b[39mself\u001b[39m\u001b[39m.\u001b[39mdataset\u001b[39m.\u001b[39m__getitems__([\u001b[39mself\u001b[39m\u001b[39m.\u001b[39mindices[idx] \u001b[39mfor\u001b[39;00m idx \u001b[39min\u001b[39;00m indices])  \u001b[39m# type: ignore[attr-defined]\u001b[39;00m\n\u001b[1;32m    398\u001b[0m \u001b[39melse\u001b[39;00m:\n\u001b[0;32m--> 399\u001b[0m     \u001b[39mreturn\u001b[39;00m [\u001b[39mself\u001b[39;49m\u001b[39m.\u001b[39;49mdataset[\u001b[39mself\u001b[39;49m\u001b[39m.\u001b[39;49mindices[idx]] \u001b[39mfor\u001b[39;00m idx \u001b[39min\u001b[39;00m indices]\n",
      "File \u001b[0;32m~/programs/lib/python3.11/site-packages/torchvision/datasets/folder.py:229\u001b[0m, in \u001b[0;36mDatasetFolder.__getitem__\u001b[0;34m(self, index)\u001b[0m\n\u001b[1;32m    221\u001b[0m \u001b[39m\u001b[39m\u001b[39m\"\"\"\u001b[39;00m\n\u001b[1;32m    222\u001b[0m \u001b[39mArgs:\u001b[39;00m\n\u001b[1;32m    223\u001b[0m \u001b[39m    index (int): Index\u001b[39;00m\n\u001b[0;32m   (...)\u001b[0m\n\u001b[1;32m    226\u001b[0m \u001b[39m    tuple: (sample, target) where target is class_index of the target class.\u001b[39;00m\n\u001b[1;32m    227\u001b[0m \u001b[39m\"\"\"\u001b[39;00m\n\u001b[1;32m    228\u001b[0m path, target \u001b[39m=\u001b[39m \u001b[39mself\u001b[39m\u001b[39m.\u001b[39msamples[index]\n\u001b[0;32m--> 229\u001b[0m sample \u001b[39m=\u001b[39m \u001b[39mself\u001b[39;49m\u001b[39m.\u001b[39;49mloader(path)\n\u001b[1;32m    230\u001b[0m \u001b[39mif\u001b[39;00m \u001b[39mself\u001b[39m\u001b[39m.\u001b[39mtransform \u001b[39mis\u001b[39;00m \u001b[39mnot\u001b[39;00m \u001b[39mNone\u001b[39;00m:\n\u001b[1;32m    231\u001b[0m     sample \u001b[39m=\u001b[39m \u001b[39mself\u001b[39m\u001b[39m.\u001b[39mtransform(sample)\n",
      "File \u001b[0;32m~/programs/lib/python3.11/site-packages/torchvision/datasets/folder.py:268\u001b[0m, in \u001b[0;36mdefault_loader\u001b[0;34m(path)\u001b[0m\n\u001b[1;32m    266\u001b[0m     \u001b[39mreturn\u001b[39;00m accimage_loader(path)\n\u001b[1;32m    267\u001b[0m \u001b[39melse\u001b[39;00m:\n\u001b[0;32m--> 268\u001b[0m     \u001b[39mreturn\u001b[39;00m pil_loader(path)\n",
      "File \u001b[0;32m~/programs/lib/python3.11/site-packages/torchvision/datasets/folder.py:248\u001b[0m, in \u001b[0;36mpil_loader\u001b[0;34m(path)\u001b[0m\n\u001b[1;32m    246\u001b[0m \u001b[39mwith\u001b[39;00m \u001b[39mopen\u001b[39m(path, \u001b[39m\"\u001b[39m\u001b[39mrb\u001b[39m\u001b[39m\"\u001b[39m) \u001b[39mas\u001b[39;00m f:\n\u001b[1;32m    247\u001b[0m     img \u001b[39m=\u001b[39m Image\u001b[39m.\u001b[39mopen(f)\n\u001b[0;32m--> 248\u001b[0m     \u001b[39mreturn\u001b[39;00m img\u001b[39m.\u001b[39;49mconvert(\u001b[39m\"\u001b[39;49m\u001b[39mRGB\u001b[39;49m\u001b[39m\"\u001b[39;49m)\n",
      "File \u001b[0;32m~/programs/lib/python3.11/site-packages/PIL/Image.py:911\u001b[0m, in \u001b[0;36mImage.convert\u001b[0;34m(self, mode, matrix, dither, palette, colors)\u001b[0m\n\u001b[1;32m    863\u001b[0m \u001b[39mdef\u001b[39;00m \u001b[39mconvert\u001b[39m(\n\u001b[1;32m    864\u001b[0m     \u001b[39mself\u001b[39m, mode\u001b[39m=\u001b[39m\u001b[39mNone\u001b[39;00m, matrix\u001b[39m=\u001b[39m\u001b[39mNone\u001b[39;00m, dither\u001b[39m=\u001b[39m\u001b[39mNone\u001b[39;00m, palette\u001b[39m=\u001b[39mPalette\u001b[39m.\u001b[39mWEB, colors\u001b[39m=\u001b[39m\u001b[39m256\u001b[39m\n\u001b[1;32m    865\u001b[0m ):\n\u001b[1;32m    866\u001b[0m \u001b[39m    \u001b[39m\u001b[39m\"\"\"\u001b[39;00m\n\u001b[1;32m    867\u001b[0m \u001b[39m    Returns a converted copy of this image. For the \"P\" mode, this\u001b[39;00m\n\u001b[1;32m    868\u001b[0m \u001b[39m    method translates pixels through the palette.  If mode is\u001b[39;00m\n\u001b[0;32m   (...)\u001b[0m\n\u001b[1;32m    908\u001b[0m \u001b[39m    :returns: An :py:class:`~PIL.Image.Image` object.\u001b[39;00m\n\u001b[1;32m    909\u001b[0m \u001b[39m    \"\"\"\u001b[39;00m\n\u001b[0;32m--> 911\u001b[0m     \u001b[39mself\u001b[39;49m\u001b[39m.\u001b[39;49mload()\n\u001b[1;32m    913\u001b[0m     has_transparency \u001b[39m=\u001b[39m \u001b[39mself\u001b[39m\u001b[39m.\u001b[39minfo\u001b[39m.\u001b[39mget(\u001b[39m\"\u001b[39m\u001b[39mtransparency\u001b[39m\u001b[39m\"\u001b[39m) \u001b[39mis\u001b[39;00m \u001b[39mnot\u001b[39;00m \u001b[39mNone\u001b[39;00m\n\u001b[1;32m    914\u001b[0m     \u001b[39mif\u001b[39;00m \u001b[39mnot\u001b[39;00m mode \u001b[39mand\u001b[39;00m \u001b[39mself\u001b[39m\u001b[39m.\u001b[39mmode \u001b[39m==\u001b[39m \u001b[39m\"\u001b[39m\u001b[39mP\u001b[39m\u001b[39m\"\u001b[39m:\n\u001b[1;32m    915\u001b[0m         \u001b[39m# determine default mode\u001b[39;00m\n",
      "File \u001b[0;32m~/programs/lib/python3.11/site-packages/PIL/ImageFile.py:269\u001b[0m, in \u001b[0;36mImageFile.load\u001b[0;34m(self)\u001b[0m\n\u001b[1;32m    266\u001b[0m         \u001b[39mraise\u001b[39;00m \u001b[39mOSError\u001b[39;00m(msg)\n\u001b[1;32m    268\u001b[0m b \u001b[39m=\u001b[39m b \u001b[39m+\u001b[39m s\n\u001b[0;32m--> 269\u001b[0m n, err_code \u001b[39m=\u001b[39m decoder\u001b[39m.\u001b[39;49mdecode(b)\n\u001b[1;32m    270\u001b[0m \u001b[39mif\u001b[39;00m n \u001b[39m<\u001b[39m \u001b[39m0\u001b[39m:\n\u001b[1;32m    271\u001b[0m     \u001b[39mbreak\u001b[39;00m\n",
      "\u001b[0;31mKeyboardInterrupt\u001b[0m: "
     ]
    }
   ],
   "source": [
    "# Value: 0.48085106382978726\n",
    "#  Params: \n",
    "#     lr: 0.00039176748296159314\n",
    "#     L2: 0.00458413180342524\n",
    "#     batch_size: 8\n",
    "#     beta1: 0.1226786223740145\n",
    "#     beta2: 0.00025853831681915484\n",
    "lrs2 = []\n",
    "weight_decays2 = []\n",
    "# batch_sizes2 = []\n",
    "adam_beta_ones2 = []\n",
    "adam_beta_twos2 = []\n",
    "train_losses2 = []\n",
    "train_accs2 = []\n",
    "vali_losses2 = []\n",
    "vali_accs2 = []\n",
    "num_epochs2 = []\n",
    "def objective(trial):\n",
    "\n",
    "    # Trial configuration\n",
    "    # Name for run\n",
    "    run_name = \"Optuna-Test\"\n",
    "    # How many epochs before saving progress\n",
    "    checkpoint_interval = 10\n",
    "    #Number of epochs\n",
    "    Num_Epochs = trial.suggest_categorical(\"num_epochs\", [20, 30])\n",
    "    ## Loss\n",
    "    criterion = nn.CrossEntropyLoss()\n",
    "\n",
    "    ##############################################\n",
    "    # Hyperparameters search spaces\n",
    "    # Learning rate\n",
    "    lr = trial.suggest_float(\"lr\", 0.0003, 0.0005)\n",
    "    # L2 Normalization lambda\n",
    "    weight_decay = trial.suggest_float(\"L2\", 0.0004, 0.0005)\n",
    "    # Batch size\n",
    "    batch_size = 8\n",
    "    # Adam beta values\n",
    "    adam_betas = (1.0-trial.suggest_float(\"beta1\", 0.1, 0.15), 1.0-trial.suggest_float(\"beta2\", 0.0001, 0.0005, log=True))\n",
    "\n",
    "    #################################################\n",
    "    # Generate data loader based on new batch size\n",
    "    train_loader = torch.utils.data.DataLoader(dataset=splits[1], shuffle=True, num_workers=0,\n",
    "                                           batch_size=batch_size, drop_last=True)\n",
    "    val_loader = torch.utils.data.DataLoader(dataset=splits[0], shuffle=True, num_workers=0,\n",
    "                                           batch_size=1, drop_last=True)\n",
    "\n",
    "    #################################################\n",
    "    # Create network architecture\n",
    "    model = ConvNetWithoutDropout(len(data.classes))\n",
    "\n",
    "    # Initialize model weights\n",
    "    model.apply(init_weights)\n",
    "\n",
    "    ## Optimizer\n",
    "    optimizer = optim.Adam(model.parameters(), lr=lr, weight_decay=weight_decay, betas=adam_betas)\n",
    "\n",
    "    \n",
    "    #################################################\n",
    "    # Train model\n",
    "    model_final, trainloss, valloss = train_model(train_loader=train_loader, val_loader=val_loader, model=model,\n",
    "                                            criterion=criterion, optimizer=optimizer, Num_Epochs=Num_Epochs, checkpoint_interval=checkpoint_interval, run_name=run_name)\n",
    "\n",
    "    # Output model performance\n",
    "    #tr_acc = get_accuracy(net=model_final, data_loader=train_loader)\n",
    "    \n",
    "    tr_accs = 0\n",
    "    val_accs = 0\n",
    "    num_tests = 5\n",
    "    for i in range(num_tests):\n",
    "        tr_accs += get_accuracy(net=model_final, data_loader=train_loader)\n",
    "        val_accs += get_accuracy(net=model_final, data_loader=val_loader)\n",
    "    tr_acc = tr_accs/num_tests\n",
    "    val_acc = val_accs/num_tests\n",
    "    \n",
    "    print(f\"Accuracy: Train: {tr_acc:.3f} | Val: {val_acc:0.3f}\" )\n",
    "\n",
    "    lrs2.append(lr)\n",
    "    weight_decays2.append(weight_decay)\n",
    "    # batch_sizes2.append(batch_size)\n",
    "    adam_beta_ones2.append(adam_betas[0])\n",
    "    adam_beta_twos2.append(adam_betas[1])\n",
    "    train_losses2.append(trainloss[-1])\n",
    "    train_accs2.append(tr_acc)\n",
    "    vali_losses2.append(valloss[-1])\n",
    "    vali_accs2.append(val_acc)\n",
    "    num_epochs2.append(Num_Epochs)\n",
    "    #print(f\"{run_name}: Accuracy: Train: {tr_acc:.3f} | Val: {val_acc:0.3f}\" )\n",
    "    if(val_acc > 0.45):\n",
    "        torch.save({\n",
    "          'epoch': 20,\n",
    "          'model_state_dict': model.state_dict(),\n",
    "          'optimizer_state_dict': optimizer.state_dict(),\n",
    "          'training_loss': trainloss,\n",
    "          'validation_loss': valloss,\n",
    "        }, f'networks/ADAM_fine/net_{str(trial.number)}.pt')\n",
    "    # The objective function needs to return the metric to minimize or maximize\n",
    "    return val_acc\n",
    "\n",
    "study = optuna.create_study(direction=\"maximize\", study_name=\"Adam-binary-art\")\n",
    "study.optimize(objective, n_trials=100)\n",
    "\n",
    "print(\"Best trial:\")\n",
    "trial = study.best_trial\n",
    "print(f\" Value: {trial.value}\")\n",
    "print(\" Params: \")\n",
    "for key, value in trial.params.items():\n",
    "    print(f\"    {key}: {value}\")"
   ]
  },
  {
   "cell_type": "code",
   "execution_count": 105,
   "metadata": {},
   "outputs": [],
   "source": [
    "def get_accuracy_print(net, data_loader):\n",
    "  \"\"\"It iterates over `data_loader` to calculate accuracy\"\"\"\n",
    "  total_correct = 0.0\n",
    "  total_samples = 0.0\n",
    "  arts = [\"anger\", \"fear\", \"happiness\", \"sadness\", \"surprise\"]\n",
    "  final_predictions = []\n",
    "  # final_labels = []\n",
    "  with torch.no_grad():\n",
    "    for i_batch, sample_batched in enumerate(data_loader):\n",
    "      # data and labels\n",
    "      inputs, labels = sample_batched[0], sample_batched[1]\n",
    "      \n",
    "      labels = np.array(labels)\n",
    "      outputs = net(inputs.float())\n",
    "      predictions = np.array(torch.argmax(outputs.round(), dim=1))\n",
    "      for i in range(len(predictions)):\n",
    "        final_predictions.append((arts[predictions[i]], arts[labels[i]]))\n",
    "      # final_labels.append(labels)\n",
    "      # print(\"Labels vs predictions\")\n",
    "      # print(labels)\n",
    "      # print(predictions)\n",
    "      # print(labels.shape)\n",
    "      # print(predictions.shape)\n",
    "      # calculate the accuracy for this batch\n",
    "      total_correct += (predictions == labels).astype(float).sum().item()\n",
    "      total_samples += predictions.shape[0]\n",
    "  # calculate the accuracy\n",
    "  print(\"Labels vs predictions\")\n",
    "  print(final_predictions)\n",
    "  return total_correct / total_samples"
   ]
  },
  {
   "cell_type": "code",
   "execution_count": 12,
   "metadata": {},
   "outputs": [
    {
     "ename": "TypeError",
     "evalue": "Expected state_dict to be dict-like, got <class '__main__.ConvNetWithoutDropout'>.",
     "output_type": "error",
     "traceback": [
      "\u001b[0;31m---------------------------------------------------------------------------\u001b[0m",
      "\u001b[0;31mTypeError\u001b[0m                                 Traceback (most recent call last)",
      "\u001b[1;32m/home/exi/uni/2024/525/project/multi_emotions.ipynb Cell 41\u001b[0m line \u001b[0;36m2\n\u001b[1;32m      <a href='vscode-notebook-cell:/home/exi/uni/2024/525/project/multi_emotions.ipynb#X55sZmlsZQ%3D%3D?line=0'>1</a>\u001b[0m model_test \u001b[39m=\u001b[39m ConvNetWithoutDropout(\u001b[39mlen\u001b[39m(data\u001b[39m.\u001b[39mclasses))\n\u001b[0;32m----> <a href='vscode-notebook-cell:/home/exi/uni/2024/525/project/multi_emotions.ipynb#X55sZmlsZQ%3D%3D?line=1'>2</a>\u001b[0m model_test\u001b[39m.\u001b[39;49mload_state_dict(torch\u001b[39m.\u001b[39;49mload(\u001b[39m\"\u001b[39;49m\u001b[39mnetworks/ADAM_picked/net_74\u001b[39;49m\u001b[39m\"\u001b[39;49m))\n\u001b[1;32m      <a href='vscode-notebook-cell:/home/exi/uni/2024/525/project/multi_emotions.ipynb#X55sZmlsZQ%3D%3D?line=2'>3</a>\u001b[0m \u001b[39m# model_test.load_state_dict(torch.load(\"networks/ADAM/net_8\"))\u001b[39;00m\n\u001b[1;32m      <a href='vscode-notebook-cell:/home/exi/uni/2024/525/project/multi_emotions.ipynb#X55sZmlsZQ%3D%3D?line=3'>4</a>\u001b[0m model_test\u001b[39m.\u001b[39meval()\n",
      "File \u001b[0;32m~/programs/lib/python3.11/site-packages/torch/nn/modules/module.py:2104\u001b[0m, in \u001b[0;36mModule.load_state_dict\u001b[0;34m(self, state_dict, strict, assign)\u001b[0m\n\u001b[1;32m   2069\u001b[0m \u001b[39m\u001b[39m\u001b[39mr\u001b[39m\u001b[39m\"\"\"Copy parameters and buffers from :attr:`state_dict` into this module and its descendants.\u001b[39;00m\n\u001b[1;32m   2070\u001b[0m \n\u001b[1;32m   2071\u001b[0m \u001b[39mIf :attr:`strict` is ``True``, then\u001b[39;00m\n\u001b[0;32m   (...)\u001b[0m\n\u001b[1;32m   2101\u001b[0m \u001b[39m    ``RuntimeError``.\u001b[39;00m\n\u001b[1;32m   2102\u001b[0m \u001b[39m\"\"\"\u001b[39;00m\n\u001b[1;32m   2103\u001b[0m \u001b[39mif\u001b[39;00m \u001b[39mnot\u001b[39;00m \u001b[39misinstance\u001b[39m(state_dict, Mapping):\n\u001b[0;32m-> 2104\u001b[0m     \u001b[39mraise\u001b[39;00m \u001b[39mTypeError\u001b[39;00m(\u001b[39mf\u001b[39m\u001b[39m\"\u001b[39m\u001b[39mExpected state_dict to be dict-like, got \u001b[39m\u001b[39m{\u001b[39;00m\u001b[39mtype\u001b[39m(state_dict)\u001b[39m}\u001b[39;00m\u001b[39m.\u001b[39m\u001b[39m\"\u001b[39m)\n\u001b[1;32m   2106\u001b[0m missing_keys: List[\u001b[39mstr\u001b[39m] \u001b[39m=\u001b[39m []\n\u001b[1;32m   2107\u001b[0m unexpected_keys: List[\u001b[39mstr\u001b[39m] \u001b[39m=\u001b[39m []\n",
      "\u001b[0;31mTypeError\u001b[0m: Expected state_dict to be dict-like, got <class '__main__.ConvNetWithoutDropout'>."
     ]
    }
   ],
   "source": [
    "model_test = ConvNetWithoutDropout(len(data.classes))\n",
    "model_test.load_state_dict(torch.load(\"networks/ADAM_picked/net_74\"))\n",
    "# model_test.load_state_dict(torch.load(\"networks/ADAM/net_8\"))\n",
    "model_test.eval()\n",
    "trans_test = transforms.Compose([\n",
    "  transforms.Resize([64,64]),  \n",
    "  transforms.Grayscale(),\n",
    "  transforms.ToTensor(),\n",
    "  transforms.Normalize((0.5,), (0.5,))])\n",
    "data_test = tv.datasets.ImageFolder(root=\"./testing\", transform=trans_test)\n",
    "splits_test = random_split(data, [1.0, 0.0])\n",
    "\n",
    "# train_loader = torch.utils.data.DataLoader(dataset=splits[1], shuffle=True, num_workers=0,\n",
    "#                                            batch_size=batch_size, drop_last=True)\n",
    "val_loader = torch.utils.data.DataLoader(dataset=splits_test[0], shuffle=True, num_workers=0,\n",
    "                                        batch_size=1, drop_last=False)\n",
    "\n",
    "# tr_acc = get_accuracy_print(net=model_test, data_loader=train_loader)\n",
    "val_acc = get_accuracy_print(net=model_test, data_loader=val_loader)\n",
    "print(f\"Accuracy: Val: {val_acc:0.3f}\" )\n",
    "# print(f\"Accuracy: Train: {tr_acc:.3f} | Val: {val_acc:0.3f}\" )\n",
    "\n"
   ]
  },
  {
   "cell_type": "code",
   "execution_count": null,
   "metadata": {},
   "outputs": [],
   "source": [
    "torch.save({\n",
    "          'epoch': epoch,\n",
    "          'model_state_dict': model.state_dict(),\n",
    "          'optimizer_state_dict': optimizer.state_dict(),\n",
    "          'training_loss': training_loss,\n",
    "          'validation_loss': val_loss,\n",
    "        }, f'{run_name}_checkpoint_{epoch+1}.pt')"
   ]
  },
  {
   "cell_type": "code",
   "execution_count": null,
   "metadata": {},
   "outputs": [],
   "source": [
    "# Run name\n",
    "run_name = \"adam\"\n",
    "\n",
    "run_name = \"placeholder.pt\"\n",
    "\n",
    "# Hyperparameters\n",
    "learning_rate = 0.0001\n",
    "weight_decay = 0.01\n",
    "Num_Epochs = 80\n",
    "betas = (0.92, 1.5e-5)\n",
    "\n",
    "# Specify Model and Optimizer\n",
    "model = ConvNetWithoutDropout(len(data.classes))\n",
    "# model = ConvNetWithoutDropout(layer_size=layer_size)\n",
    "optimizer = optim.Adam(model.parameters(), lr=learning_rate, weight_decay=weight_decay, betas=betas)\n",
    "\n",
    "# Load model previous state\n",
    "training_loss = []\n",
    "val_loss = []\n",
    "checkpt = None\n",
    "try:\n",
    "  checkpt = torch.load(run_name)\n",
    "except FileNotFoundError:\n",
    "  print(\"No previous state to load.\")\n",
    "\n",
    "if(checkpt):\n",
    "  model.load_state_dict(checkpt['model_state_dict'])\n",
    "  epoch = checkpt['epoch']\n",
    "  optimizer.load_state_dict(checkpt['optimizer_state_dict'])\n",
    "  training_loss = checkpt['training_loss']\n",
    "  val_loss = checkpt['validation_loss']\n",
    "  print(\"Previous run: \")\n",
    "  print(f\"\\tEpochs: {epoch}\")\n",
    "  print(f\"\\tTraining Loss: {training_loss[-1]}\")\n",
    "  print(f\"\\tValidation Loss: {val_loss[-1]}\")\n",
    "else:\n",
    "  model.apply(init_weights)\n",
    "\n",
    "\n",
    "\n",
    "#################################################\n",
    "# Train model\n",
    "model_final, trainloss, valloss = train_model(train_loader=train_loader, val_loader=val_loader, model=model, start_epoch=epoch, start_tr_loss=training_loss, start_val_loss=val_loss,\n",
    "                                           criterion=criterion, optimizer=optimizer, Num_Epochs=Num_Epochs, checkpoint_interval=checkpoint_interval, run_name=run_name)\n",
    "\n",
    "# Output model performance\n",
    "tr_acc = get_accuracy(net=model_final, data_loader=train_loader)\n",
    "val_acc = get_accuracy(net=model_final, data_loader=val_loader)\n",
    "print(f\"Accuracy: Train: {tr_acc:.3f} | Val: {val_acc:0.3f}\" )\n",
    "\n",
    "# Plot training and validation loss\n",
    "plt.figure()\n",
    "plt.plot(trainloss, '-b')\n",
    "plt.plot(valloss, '-r')\n",
    "plt.ioff()\n",
    "plt.ylabel('Loss')\n",
    "plt.xlabel(\"Epoch\")\n",
    "plt.legend([\"Training\", \"Validation\"] )\n",
    "plt.show()\n",
    "\n",
    "# Save final model\n",
    "torch.save({\n",
    "        'model_state_dict': model_final.state_dict(),\n",
    "        'training_accuracy': tr_acc,\n",
    "        'validation_accuracy': val_acc,\n",
    "      }, f'{run_name}_final.pt')"
   ]
  }
 ],
 "metadata": {
  "coursera": {
   "course_slug": "neural-networks-deep-learning",
   "graded_item_id": "TSPse",
   "launcher_item_id": "24mxX"
  },
  "kernelspec": {
   "display_name": "Python 3 (ipykernel)",
   "language": "python",
   "name": "python3"
  },
  "language_info": {
   "codemirror_mode": {
    "name": "ipython",
    "version": 3
   },
   "file_extension": ".py",
   "mimetype": "text/x-python",
   "name": "python",
   "nbconvert_exporter": "python",
   "pygments_lexer": "ipython3",
   "version": "3.11.4"
  }
 },
 "nbformat": 4,
 "nbformat_minor": 2
}
