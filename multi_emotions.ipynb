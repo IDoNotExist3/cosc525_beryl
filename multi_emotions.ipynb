{
 "cells": [
  {
   "cell_type": "markdown",
   "metadata": {},
   "source": [
    "Packages, setup, and helper functions"
   ]
  },
  {
   "cell_type": "code",
   "execution_count": 179,
   "metadata": {},
   "outputs": [],
   "source": [
    "import os \n",
    "import time\n",
    "import copy\n",
    "import h5py\n",
    "import glob\n",
    "import scipy\n",
    "import random\n",
    "import itertools\n",
    "import numpy as np\n",
    "import pandas as pd\n",
    "from tqdm import tqdm\n",
    "from numpy.random import Generator, PCG64DXSM\n",
    "import matplotlib.pyplot as plt\n",
    "from PIL import Image, ImageOps\n",
    "from scipy import ndimage\n",
    "import math\n",
    "import itertools\n",
    "import torch\n",
    "import torchvision as tv\n",
    "import torchvision.transforms as transforms\n",
    "from torch.utils.data import Dataset, DataLoader, random_split, Subset\n",
    "#import tensorflow as tf\n",
    "import torch.nn as nn\n",
    "import torch.nn.functional as F\n",
    "import torch.optim as optim\n",
    "from skimage import io, transform\n",
    "import pylab as pl\n",
    "from IPython import display\n",
    "from copy import deepcopy\n",
    "import optuna\n",
    "\n",
    "# Using PCG64 as random generator\n",
    "# Place seed [optional] for troubleshooting\n",
    "rng = Generator(PCG64DXSM(seed=21))\n",
    "\n",
    "# matplotlib general set up\n",
    "%matplotlib inline\n",
    "plt.rcParams['image.interpolation'] = 'nearest'\n",
    "plt.rcParams['image.cmap'] = 'gray'\n"
   ]
  },
  {
   "cell_type": "markdown",
   "metadata": {},
   "source": [
    "Dataset Preprocessing"
   ]
  },
  {
   "cell_type": "code",
   "execution_count": 180,
   "metadata": {},
   "outputs": [],
   "source": [
    "class FaceDataset(Dataset):\n",
    "    \"\"\"Emotions with Two Classes dataset.\"\"\"\n",
    "\n",
    "    def __init__(self, data, targets, classes, transform=None):\n",
    "        \"\"\"\n",
    "        Arguments:\n",
    "            data (numpy array): CIFAR10 Dataset in numpy array\n",
    "            targets (numpy array): Labels for samples in data\n",
    "            keep_classes (numpy array): Index of classes to keep. This array is of length 2.\n",
    "            classes: Two strings with the names of classes in keep_classes.\n",
    "            transform (callable, optional): Optional transforms to be applied\n",
    "                on a samples. This is applied during sampling (i.e., __getitem__())\n",
    "        \"\"\"\n",
    "        self.filter_dataset(data, targets, [0, 1])\n",
    "        # self.data = data\n",
    "        # self.targets = targets\n",
    "        self.transform = transform\n",
    "        self.classes = classes\n",
    "\n",
    "\n",
    "    def __len__(self):\n",
    "        \"\"\"\n",
    "        Get the number of samples in dataset\n",
    "        \"\"\"\n",
    "        return self.targets.shape[1]\n",
    "\n",
    "\n",
    "    def __getitem__(self, idx):\n",
    "        \"\"\"\n",
    "        Get a sample from the dataset\n",
    "        \"\"\"\n",
    "        if torch.is_tensor(idx):\n",
    "            idx = idx.tolist()\n",
    "\n",
    "        image = self.data[idx,...]\n",
    "        target = self.targets[:, idx]\n",
    "        sample = {'image': image, 'target': target}\n",
    "        print(type(sample['image']))\n",
    "        print(type(sample['target']))\n",
    "        if self.transform:\n",
    "            sample = self.transform(sample)\n",
    "        return sample\n",
    "    \n",
    "    \n",
    "    def get_classes(self):\n",
    "        \"\"\"\n",
    "        Returns string names for classes stored in this class.\n",
    "        \"\"\"\n",
    "        return self.classes\n",
    "    \n",
    "    \n",
    "    def class_to_idx(self, class_str):\n",
    "        \"\"\"\n",
    "        Returns the index of the input class name.\n",
    "        \"\"\"\n",
    "        try:\n",
    "            index = self.classes.index(class_str)\n",
    "        except ValueError:\n",
    "            print(f\"'{class_str}' is not in the list.\")\n",
    "            print(f\"Your options are: <<{self.classes}>>.\")\n",
    "        return index\n",
    "    \n",
    "\n",
    "    def show_image(self, sample_idx, cmap):\n",
    "        \"\"\"\n",
    "        Displays image at position sample_idx and its label.\n",
    "        \"\"\"\n",
    "        \n",
    "        image = self.data[sample_idx,...]\n",
    "        label = self.targets[:, sample_idx]\n",
    "        pl.cla()\n",
    "        pl.imshow(image, cmap=cmap)\n",
    "        pl.text(image.shape[1]*0.7, image.shape[0]*0.8, str(np.squeeze(label)), c='r')\n",
    "        display.clear_output(wait=True)\n",
    "        display.display(pl.gcf())\n",
    "\n",
    "\n",
    "    def filter_dataset(self, data, targets, keepLabels):\n",
    "        \"\"\"\n",
    "            Generate a new list of images and binary targets from original dataset.\n",
    "        \"\"\"\n",
    "    \n",
    "        # Throw error if keepLabels is not length 2\n",
    "        assert len(keepLabels) == 2\n",
    "\n",
    "        #ensure keepLabels and targets are numpy arrays\n",
    "        keepLabels = np.array(keepLabels)\n",
    "        targets = np.array(targets)\n",
    "\n",
    "        # Get indexes of desired classes samples\n",
    "        mask_idx = np.where(np.isin(targets, keepLabels))[0]\n",
    "        print(mask_idx)\n",
    "        \n",
    "        # how many samples for keep classes do we have\n",
    "        m = mask_idx.size\n",
    "        print(f\"M is {m}\")\n",
    "    \n",
    "        #empty list of tensors\n",
    "        self.data = np.ndarray(np.concatenate(([m], data.shape[1:])))\n",
    "        self.targets = np.ndarray([1, m])\n",
    "        print(mask_idx.shape)\n",
    "        print(type(mask_idx))\n",
    "        print(f\"Shapes of data and targets: {self.data.shape}/{self.targets.shape}\")\n",
    "        for i in range(mask_idx.size):\n",
    "\n",
    "            # save new image\n",
    "            self.data[i,...] = np.copy(data[mask_idx[i],...])\n",
    "\n",
    "            #create correct target\n",
    "            if (targets[:,mask_idx[i]] == keepLabels[0]):\n",
    "                self.targets[:,i] = 0\n",
    "            else:\n",
    "                self.targets[:,i] = 1"
   ]
  },
  {
   "cell_type": "code",
   "execution_count": 181,
   "metadata": {},
   "outputs": [],
   "source": [
    "data_path = \"./data_real_binary\"\n",
    "\n",
    "trans = transforms.Compose([\n",
    "  transforms.Resize([64,64]),  \n",
    "  transforms.Grayscale(),\n",
    "  transforms.RandomHorizontalFlip(),\n",
    "  transforms.RandomRotation(10),\n",
    "  transforms.ToTensor(),\n",
    "  transforms.Normalize((0.5,), (0.5,))])\n",
    "batch_size = 16"
   ]
  },
  {
   "cell_type": "code",
   "execution_count": 182,
   "metadata": {},
   "outputs": [
    {
     "name": "stdout",
     "output_type": "stream",
     "text": [
      "<class 'torchvision.datasets.folder.ImageFolder'>\n",
      "57 133\n",
      "['happiness', 'sadness']\n",
      "2\n"
     ]
    }
   ],
   "source": [
    "data = tv.datasets.ImageFolder(root=data_path, transform=trans)\n",
    "print(type(data))\n",
    "\n",
    "\n",
    "\n",
    "splits = random_split(data, [0.3, 0.7])\n",
    "\n",
    "print(len(splits[0]), len(splits[1]))\n",
    "print(data.classes)\n",
    "print(len(data.classes))\n"
   ]
  },
  {
   "cell_type": "code",
   "execution_count": 183,
   "metadata": {},
   "outputs": [
    {
     "name": "stdout",
     "output_type": "stream",
     "text": [
      "133\n",
      "<torch.utils.data.dataset.Subset object at 0x7f01afbc66d0>\n",
      "(tensor([[[-1.0000, -1.0000, -1.0000,  ..., -1.0000, -1.0000, -1.0000],\n",
      "         [-1.0000, -1.0000, -1.0000,  ..., -1.0000, -1.0000, -1.0000],\n",
      "         [-1.0000, -1.0000, -0.1608,  ...,  0.8431, -1.0000, -1.0000],\n",
      "         ...,\n",
      "         [-1.0000, -1.0000,  0.7725,  ...,  0.8980, -1.0000, -1.0000],\n",
      "         [-1.0000, -1.0000, -1.0000,  ..., -1.0000, -1.0000, -1.0000],\n",
      "         [-1.0000, -1.0000, -1.0000,  ..., -1.0000, -1.0000, -1.0000]]]), 0)\n"
     ]
    }
   ],
   "source": [
    "# Define a batch size\n",
    "batch_size = 1\n",
    "\n",
    "# Create iterators for dataset\n",
    "train_loader = torch.utils.data.DataLoader(dataset=splits[1], shuffle=True, num_workers=0,\n",
    "                                           batch_size=batch_size, drop_last=True)\n",
    "val_loader = torch.utils.data.DataLoader(dataset=splits[0], shuffle=True, num_workers=0,\n",
    "                                           batch_size=1, drop_last=True)\n",
    "print(len(train_loader))\n",
    "print(train_loader.dataset)\n",
    "print(train_loader.dataset[2])\n",
    "# print(train_loader.clas)\n"
   ]
  },
  {
   "cell_type": "markdown",
   "metadata": {},
   "source": [
    "Convolutional Network Without Dropout"
   ]
  },
  {
   "cell_type": "code",
   "execution_count": 184,
   "metadata": {},
   "outputs": [
    {
     "name": "stdout",
     "output_type": "stream",
     "text": [
      "ConvNetWithoutDropout(\n",
      "  (conv1): Conv2d(1, 6, kernel_size=(3, 3), stride=(1, 1), padding=(1, 1))\n",
      "  (conv2): Conv2d(6, 16, kernel_size=(3, 3), stride=(1, 1), padding=(1, 1))\n",
      "  (fc1): Linear(in_features=4096, out_features=128, bias=True)\n",
      "  (fc2): Linear(in_features=128, out_features=64, bias=True)\n",
      "  (fc3): Linear(in_features=64, out_features=2, bias=True)\n",
      ")\n"
     ]
    }
   ],
   "source": [
    "class ConvNetWithoutDropout(nn.Module):\n",
    "\n",
    "  # define network layers\n",
    "  def __init__(self, class_len):\n",
    "    super().__init__()\n",
    "    # 1 input image channel, 6 output channels, 5x5 square convolution\n",
    "    # kernel\n",
    "    self.conv1 = nn.Conv2d(1, 6, 3, padding=1)\n",
    "    self.conv2 = nn.Conv2d(6, 16, 3, padding=1)\n",
    "    # an affine operation: y = Wx + b\n",
    "    self.fc1 = nn.Linear(4096, 128)  # 5*5 from image dimension\n",
    "    self.fc2 = nn.Linear(128, 64)\n",
    "    self.fc3 = nn.Linear(64, class_len)\n",
    "\n",
    "\n",
    "  # define forward pass\n",
    "  def forward(self, x):\n",
    "    # Max pooling over a (2, 2) window\n",
    "    x = F.max_pool2d(F.relu(self.conv1(x)), (2, 2))\n",
    "    # If the size is a square, you can specify with a single number\n",
    "    x = F.max_pool2d(F.relu(self.conv2(x)), 2)\n",
    "    x = torch.flatten(x, 1) # flatten all dimensions except the batch dimension\n",
    "    x = F.relu(self.fc1(x))\n",
    "    x = F.relu(self.fc2(x))\n",
    "    x = self.fc3(x)\n",
    "    return x\n",
    "\n",
    "#################################################\n",
    "## Create network\n",
    "model = ConvNetWithoutDropout(len(data.classes))\n",
    "#Print model architecture\n",
    "print(model)"
   ]
  },
  {
   "cell_type": "code",
   "execution_count": 185,
   "metadata": {},
   "outputs": [
    {
     "name": "stderr",
     "output_type": "stream",
     "text": [
      "/tmp/ipykernel_12822/1099974826.py:5: UserWarning: nn.init.xavier_uniform is now deprecated in favor of nn.init.xavier_uniform_.\n",
      "  torch.nn.init.xavier_uniform(m.weight)\n"
     ]
    },
    {
     "data": {
      "text/plain": [
       "ConvNetWithoutDropout(\n",
       "  (conv1): Conv2d(1, 6, kernel_size=(3, 3), stride=(1, 1), padding=(1, 1))\n",
       "  (conv2): Conv2d(6, 16, kernel_size=(3, 3), stride=(1, 1), padding=(1, 1))\n",
       "  (fc1): Linear(in_features=4096, out_features=128, bias=True)\n",
       "  (fc2): Linear(in_features=128, out_features=64, bias=True)\n",
       "  (fc3): Linear(in_features=64, out_features=2, bias=True)\n",
       ")"
      ]
     },
     "execution_count": 185,
     "metadata": {},
     "output_type": "execute_result"
    }
   ],
   "source": [
    "#################################################\n",
    "# Weight initialization\n",
    "def init_weights(m):\n",
    "    if isinstance(m, nn.Linear):\n",
    "        torch.nn.init.xavier_uniform(m.weight)\n",
    "        m.bias.data.fill_(0.00)\n",
    "\n",
    "\n",
    "# Initialize model weights and biases\n",
    "model.apply(init_weights)"
   ]
  },
  {
   "cell_type": "code",
   "execution_count": 228,
   "metadata": {},
   "outputs": [],
   "source": [
    "# Functions to train and troubleshoot the model\n",
    "\n",
    "def get_accuracy(net, data_loader):\n",
    "  \"\"\"It iterates over `data_loader` to calculate accuracy\"\"\"\n",
    "  total_correct = 0.0\n",
    "  total_samples = 0.0\n",
    "  with torch.no_grad():\n",
    "    for i_batch, sample_batched in enumerate(data_loader):\n",
    "      # data and labels\n",
    "      inputs, labels = sample_batched[0], sample_batched[1]\n",
    "      \n",
    "      labels = np.array(labels)\n",
    "      outputs = net(inputs.float())\n",
    "      predictions = np.array(torch.argmax(outputs.round(), dim=1))\n",
    "      # print(labels.shape)\n",
    "      # print(predictions.shape)\n",
    "      # calculate the accuracy for this batch\n",
    "      total_correct += (predictions == labels).astype(float).sum().item()\n",
    "      total_samples += predictions.shape[0]\n",
    "  # calculate the accuracy\n",
    "  return total_correct / total_samples\n",
    "\n",
    "def get_val_loss(net, criterion, data_loader):\n",
    "  \"\"\"It iterates over `data_loader` to calculate the overall loss\"\"\"\n",
    "  testing_loss = []\n",
    "  with torch.no_grad():\n",
    "    for i_batch, sample_batched in enumerate(data_loader):\n",
    "      # data and labels\n",
    "      inputs, labels = sample_batched[0], sample_batched[1]\n",
    "\n",
    "     # inputs, labels = inputs.to(device), labels.to(device)\n",
    "      outputs = net(inputs.float())\n",
    "      # calculate the loss for this batch\n",
    "      loss = criterion(outputs, labels)\n",
    "      # add the loss of this batch to the list\n",
    "      testing_loss.append(loss.item())\n",
    "  # calculate the average loss\n",
    "  return sum(testing_loss) / len(testing_loss)"
   ]
  },
  {
   "cell_type": "code",
   "execution_count": 220,
   "metadata": {},
   "outputs": [],
   "source": [
    "def train_model(train_loader, val_loader, model, criterion, optimizer, start_epoch=0, start_tr_loss=None, start_val_loss=None, \n",
    "                Num_Epochs=100, checkpoint_interval=50, run_name=\"default\", save=False):\n",
    "  \"\"\"\n",
    "  This routine receives a model architecture, a dataset with corresponding labels and other configurations for supervised training of model.\n",
    "\n",
    "  Parameters:\n",
    "    train_loader -- iterable object with data samples created using torch.utils.data.DataLoader.\n",
    "    val_loader -- iterable object with validation samples created using torch.utils.data.DataLoader.\n",
    "    model -- Valid Pytorch nn.Module network\n",
    "    criterion -- Loss function from PyTorch nn library\n",
    "    optimizer -- Optimization technique from PyTorch optim library\n",
    "    Num_epochs -- Number of times to go through the train_loader samples\n",
    "    start_epoch -- when resuming a previous run, this is the last epoch number performed.\n",
    "    start_tr_loss -- when resuming previous run, it add the loss history to current train run\n",
    "    start_val_loss -- same as with start_tr_loss but for validation set\n",
    "    checkpoint_interval -- After how many epochs to save and printout network progress.\n",
    "    run_name -- Prefix string used for checkpoint filename\n",
    "    save -- when True it will save checkpoints \n",
    "  \n",
    "  Returns:\n",
    "    model -- final model with its parameters\n",
    "    training_loss -- List with training loss for each epoch \n",
    "    val_loss -- List with validation loss for each epoch\n",
    "  \"\"\"\n",
    "\n",
    "  if(start_tr_loss):\n",
    "    training_loss, val_loss = start_tr_loss, start_val_loss\n",
    "  else:\n",
    "    training_loss, val_loss = [], []\n",
    "  running_loss = []\n",
    "  i = 0\n",
    "  for epoch in range(start_epoch, Num_Epochs):\n",
    "    for i_batch, sample_batched in enumerate(train_loader):\n",
    "\n",
    "      # data and labels\n",
    "      inputs, labels = sample_batched[0], sample_batched[1]\n",
    "\n",
    "      # resets all gradients for this mini-batch\n",
    "      optimizer.zero_grad()\n",
    "      # forward pass\n",
    "      # outputs = torch.softmax(model(inputs.float()), dim=1)\n",
    "      outputs = model(inputs.float())\n",
    "      # print(outputs)\n",
    "      # outputs = torch.softmax(outputs, dim=1)\n",
    "      # print(outputs)\n",
    "      # print(f\"Outputs shape are {outputs.shape}\")\n",
    "      # print(f\"Second shape is {torch.reshape(labels.float(), outputs.shape).shape}\")\n",
    "      # print(f\"Third shape is {labels.shape}\")\n",
    "      # print(labels)\n",
    "      # print(outputs)\n",
    "      loss = criterion(outputs, labels) # loss = criterion(outputs, torch.reshape(labels.float(), outputs.shape))\n",
    "\n",
    "      # backward pass\n",
    "      loss.backward()\n",
    "\n",
    "      # update parameters\n",
    "      optimizer.step()\n",
    "\n",
    "      # Save current loss for plots\n",
    "      running_loss.append(loss.item())\n",
    "      i += 1\n",
    "\n",
    "    #track progress\n",
    "    avg_train_loss = sum(running_loss) / len(running_loss)\n",
    "    avg_val_loss = get_val_loss(model, criterion, val_loader)\n",
    "\n",
    "    # clear the list\n",
    "    running_loss.clear()\n",
    "\n",
    "    #store loss\n",
    "    training_loss.append(avg_train_loss)\n",
    "    val_loss.append(avg_val_loss)\n",
    "\n",
    "    #print loss per epoch\n",
    "    if((epoch+1)%checkpoint_interval==0):\n",
    "      if(save):\n",
    "        torch.save({\n",
    "          'epoch': epoch,\n",
    "          'model_state_dict': model.state_dict(),\n",
    "          'optimizer_state_dict': optimizer.state_dict(),\n",
    "          'training_loss': training_loss,\n",
    "          'validation_loss': val_loss,\n",
    "        }, f'{run_name}_checkpoint_{epoch+1}.pt')\n",
    "      print(f\"[E={epoch:2d}] [it={i:5d}] Train Loss: {avg_train_loss:.3f}, Test Loss: {avg_val_loss:.3f}\")\n",
    "\n",
    "  #return model and losses from training\n",
    "  return model, training_loss, val_loss\n"
   ]
  },
  {
   "cell_type": "code",
   "execution_count": 188,
   "metadata": {},
   "outputs": [
    {
     "name": "stderr",
     "output_type": "stream",
     "text": [
      "/tmp/ipykernel_12822/1099974826.py:5: UserWarning: nn.init.xavier_uniform is now deprecated in favor of nn.init.xavier_uniform_.\n",
      "  torch.nn.init.xavier_uniform(m.weight)\n"
     ]
    },
    {
     "name": "stdout",
     "output_type": "stream",
     "text": [
      "[E= 9] [it= 1330] Train Loss: 0.591, Test Loss: 0.741\n",
      "[E=19] [it= 2660] Train Loss: 0.579, Test Loss: 1.626\n",
      "[E=29] [it= 3990] Train Loss: 0.503, Test Loss: 2.210\n",
      "[E=39] [it= 5320] Train Loss: 0.474, Test Loss: 2.735\n",
      "Accuracy: Train: 0.617 | Val: 0.561\n"
     ]
    },
    {
     "data": {
      "image/png": "[encoded data removed]",
      "text/plain": [
       "<Figure size 640x480 with 1 Axes>"
      ]
     },
     "metadata": {},
     "output_type": "display_data"
    }
   ],
   "source": [
    "run_name = \"sgd\"\n",
    "# How many epochs before saving progress\n",
    "checkpoint_interval = 10\n",
    "# Learning rate\n",
    "learning_rate = 0.005\n",
    "# L2 Normalization lambda\n",
    "weight_decay = 0.01\n",
    "# Momentum\n",
    "momentum = 0.9\n",
    "# Nesterov?\n",
    "nesterov = False\n",
    "\n",
    "# With a batch size of 64, need 198 epochs to get to 2,000 iterations\n",
    "Num_Epochs = 40\n",
    "# Num_Epochs = 40\n",
    "\n",
    "\n",
    "#################################################\n",
    "# Create network architecture\n",
    "model = ConvNetWithoutDropout(len(data.classes))\n",
    "\n",
    "# Initialize model weights\n",
    "model.apply(init_weights)\n",
    "\n",
    "## Loss, and optimizer\n",
    "criterion = nn.CrossEntropyLoss()\n",
    "# criterion = nn.CrossEntropyLoss()\n",
    "optimizer = optim.SGD(model.parameters(), lr=learning_rate, weight_decay=weight_decay, momentum=momentum, nesterov=nesterov)\n",
    "\n",
    "\n",
    "#################################################\n",
    "# Train model\n",
    "\n",
    "model_final, trainloss, valloss = train_model(train_loader=train_loader, val_loader=val_loader, model=model, save=False,\n",
    "                                           criterion=criterion, optimizer=optimizer, Num_Epochs=Num_Epochs, checkpoint_interval=checkpoint_interval, run_name=run_name)\n",
    "\n",
    "tr_acc = get_accuracy(net=model_final, data_loader=train_loader)\n",
    "val_acc = get_accuracy(net=model_final, data_loader=val_loader)\n",
    "print(f\"Accuracy: Train: {tr_acc:.3f} | Val: {val_acc:0.3f}\" )\n",
    "\n",
    "plt.figure()\n",
    "plt.plot(trainloss, '-b')\n",
    "plt.plot(valloss, '-r')\n",
    "plt.ioff()\n",
    "plt.ylabel('Loss')\n",
    "plt.xlabel(\"Epoch\")\n",
    "plt.legend([\"Training\", \"Validation\"])\n",
    "plt.title(f\"4 Layer Model\")\n",
    "plt.show()"
   ]
  },
  {
   "cell_type": "markdown",
   "metadata": {},
   "source": [
    "Regularization Testing"
   ]
  },
  {
   "cell_type": "code",
   "execution_count": 189,
   "metadata": {},
   "outputs": [
    {
     "name": "stderr",
     "output_type": "stream",
     "text": [
      "/tmp/ipykernel_12822/1099974826.py:5: UserWarning: nn.init.xavier_uniform is now deprecated in favor of nn.init.xavier_uniform_.\n",
      "  torch.nn.init.xavier_uniform(m.weight)\n"
     ]
    },
    {
     "name": "stdout",
     "output_type": "stream",
     "text": [
      "[E= 9] [it= 1330] Train Loss: 0.540, Test Loss: 1.128\n",
      "[E=19] [it= 2660] Train Loss: 0.473, Test Loss: 1.217\n",
      "[E=29] [it= 3990] Train Loss: 0.434, Test Loss: 2.247\n",
      "[E=39] [it= 5320] Train Loss: 0.419, Test Loss: 2.022\n",
      "Accuracy: Train: 0.947 | Val: 0.667\n",
      "[E= 9] [it= 1330] Train Loss: 0.568, Test Loss: 0.812\n",
      "[E=19] [it= 2660] Train Loss: 0.463, Test Loss: 1.127\n",
      "[E=29] [it= 3990] Train Loss: 0.420, Test Loss: 1.114\n",
      "[E=39] [it= 5320] Train Loss: 0.379, Test Loss: 2.123\n",
      "Accuracy: Train: 0.902 | Val: 0.684\n",
      "[E= 9] [it= 1330] Train Loss: 0.572, Test Loss: 1.287\n",
      "[E=19] [it= 2660] Train Loss: 0.502, Test Loss: 1.174\n",
      "[E=29] [it= 3990] Train Loss: 0.467, Test Loss: 1.468\n",
      "[E=39] [it= 5320] Train Loss: 0.433, Test Loss: 1.149\n",
      "Accuracy: Train: 0.925 | Val: 0.667\n",
      "[E= 9] [it= 1330] Train Loss: 0.636, Test Loss: 0.731\n",
      "[E=19] [it= 2660] Train Loss: 0.630, Test Loss: 0.711\n",
      "[E=29] [it= 3990] Train Loss: 0.629, Test Loss: 0.724\n",
      "[E=39] [it= 5320] Train Loss: 0.626, Test Loss: 0.746\n",
      "Accuracy: Train: 0.594 | Val: 0.544\n"
     ]
    }
   ],
   "source": [
    "# Run name\n",
    "run_name = \"sgd_w_mom\"\n",
    "\n",
    "##############################################\n",
    "# Hyperparameters and training configuration\n",
    "\n",
    "# How many epochs before saving progress\n",
    "checkpoint_interval = 10\n",
    "# Learning rate\n",
    "learning_rate = 0.0005\n",
    "# L2 Normalization lambda\n",
    "weight_decays = [0, 0.001, 0.01, 0.1]\n",
    "# Momentum\n",
    "momentum = 0.9\n",
    "# Nesterov?\n",
    "nesterov = False\n",
    "#Number of epochs\n",
    "Num_Epochs = 40\n",
    "\n",
    "\n",
    "# Define layer sizes\n",
    "#layer_size = [input_size, 2*input_size, input_size, input_size//2, 1]\n",
    "trainlosses = []\n",
    "vallosses = []\n",
    "for weight_decay in weight_decays:\n",
    "    #################################################\n",
    "    # Create network architecture\n",
    "    model = ConvNetWithoutDropout(len(data.classes))\n",
    "\n",
    "    # Initialize model weights\n",
    "    model.apply(init_weights)\n",
    "\n",
    "    ## Loss, and optimizer\n",
    "    criterion = nn.CrossEntropyLoss()\n",
    "    optimizer = optim.SGD(model.parameters(), lr=learning_rate, weight_decay=weight_decay, momentum=momentum, nesterov=nesterov)\n",
    "\n",
    "\n",
    "    #################################################\n",
    "    # Train model\n",
    "    model_final, trainloss, valloss = train_model(train_loader=train_loader, val_loader=val_loader, model=model, save=False,\n",
    "                                            criterion=criterion, optimizer=optimizer, Num_Epochs=Num_Epochs, checkpoint_interval=checkpoint_interval, run_name=run_name)\n",
    "\n",
    "    # Output model performance\n",
    "    tr_acc = get_accuracy(net=model_final, data_loader=train_loader)\n",
    "    val_acc = get_accuracy(net=model_final, data_loader=val_loader)\n",
    "    print(f\"Accuracy: Train: {tr_acc:.3f} | Val: {val_acc:0.3f}\" )\n",
    "    trainlosses.append(trainloss)\n",
    "    vallosses.append(valloss)\n",
    "    "
   ]
  },
  {
   "cell_type": "code",
   "execution_count": 190,
   "metadata": {},
   "outputs": [
    {
     "name": "stderr",
     "output_type": "stream",
     "text": [
      "/tmp/ipykernel_12822/1423120969.py:9: UserWarning: Legend does not support handles for str instances.\n",
      "A proxy artist may be used instead.\n",
      "See: https://matplotlib.org/stable/users/explain/axes/legend_guide.html#controlling-the-legend-entries\n",
      "  plt.legend(\"Training\", \"Validation\")\n"
     ]
    },
    {
     "data": {
      "image/png": "[encoded data removed]",
      "text/plain": [
       "<Figure size 640x480 with 1 Axes>"
      ]
     },
     "metadata": {},
     "output_type": "display_data"
    },
    {
     "data": {
      "image/png": "[encoded data removed]",
      "text/plain": [
       "<Figure size 640x480 with 1 Axes>"
      ]
     },
     "metadata": {},
     "output_type": "display_data"
    },
    {
     "data": {
      "image/png": "[encoded data removed]",
      "text/plain": [
       "<Figure size 640x480 with 1 Axes>"
      ]
     },
     "metadata": {},
     "output_type": "display_data"
    },
    {
     "data": {
      "image/png": "[encoded data removed]",
      "text/plain": [
       "<Figure size 640x480 with 1 Axes>"
      ]
     },
     "metadata": {},
     "output_type": "display_data"
    }
   ],
   "source": [
    "for trainloss, valloss, decay in zip(trainlosses, vallosses, weight_decays):\n",
    "# Plot training and validation loss\n",
    "    plt.figure()\n",
    "    plt.plot(trainloss, '-b')\n",
    "    plt.plot(valloss, '-r')\n",
    "    plt.ioff()\n",
    "    plt.ylabel('Loss')\n",
    "    plt.xlabel(\"Epoch\")\n",
    "    plt.legend(\"Training\", \"Validation\")\n",
    "    plt.title(f\"Weight decay of {decay}\")\n",
    "    plt.show()"
   ]
  },
  {
   "cell_type": "markdown",
   "metadata": {},
   "source": [
    "Optimization"
   ]
  },
  {
   "cell_type": "markdown",
   "metadata": {},
   "source": [
    "SGD with momentum"
   ]
  },
  {
   "cell_type": "code",
   "execution_count": 191,
   "metadata": {},
   "outputs": [
    {
     "name": "stderr",
     "output_type": "stream",
     "text": [
      "/tmp/ipykernel_12822/1099974826.py:5: UserWarning: nn.init.xavier_uniform is now deprecated in favor of nn.init.xavier_uniform_.\n",
      "  torch.nn.init.xavier_uniform(m.weight)\n"
     ]
    },
    {
     "name": "stdout",
     "output_type": "stream",
     "text": [
      "[E= 9] [it= 1330] Train Loss: 0.718, Test Loss: 2.176\n",
      "[E=19] [it= 2660] Train Loss: 0.534, Test Loss: 0.908\n",
      "[E=29] [it= 3990] Train Loss: 0.522, Test Loss: 0.752\n",
      "[E=39] [it= 5320] Train Loss: 0.511, Test Loss: 2.331\n",
      "Accuracy: Train: 0.722 | Val: 0.561\n"
     ]
    }
   ],
   "source": [
    "# How many epochs before saving progress\n",
    "checkpoint_interval = 10\n",
    "# Learning rate\n",
    "learning_rate = 0.005\n",
    "# L2 Normalization lambda\n",
    "weight_decay = 0.01\n",
    "# Momentum\n",
    "momentum = 0.9\n",
    "# Nesterov?\n",
    "nesterov = False\n",
    "\n",
    "# With a batch size of 64, need 198 epochs to get to 2,000 iterations\n",
    "Num_Epochs = 40\n",
    "\n",
    "\n",
    "#################################################\n",
    "# Create network architecture\n",
    "model = ConvNetWithoutDropout(len(data.classes))\n",
    "\n",
    "# Initialize model weights\n",
    "model.apply(init_weights)\n",
    "\n",
    "## Loss, and optimizer\n",
    "criterion = nn.CrossEntropyLoss()\n",
    "optimizer = optim.SGD(model.parameters(), lr=learning_rate, weight_decay=weight_decay, momentum=momentum, nesterov=nesterov)\n",
    "\n",
    "\n",
    "#################################################\n",
    "# Train model\n",
    "\n",
    "model_final, trainloss, valloss = train_model(train_loader=train_loader, val_loader=val_loader, model=model, save=False,\n",
    "                                           criterion=criterion, optimizer=optimizer, Num_Epochs=Num_Epochs, checkpoint_interval=checkpoint_interval, run_name=run_name)\n",
    "\n",
    "tr_acc = get_accuracy(net=model_final, data_loader=train_loader)\n",
    "val_acc = get_accuracy(net=model_final, data_loader=val_loader)\n",
    "print(f\"Accuracy: Train: {tr_acc:.3f} | Val: {val_acc:0.3f}\" )"
   ]
  },
  {
   "cell_type": "code",
   "execution_count": 192,
   "metadata": {},
   "outputs": [
    {
     "data": {
      "image/png": "[encoded data removed]",
      "text/plain": [
       "<Figure size 640x480 with 1 Axes>"
      ]
     },
     "metadata": {},
     "output_type": "display_data"
    }
   ],
   "source": [
    "plt.figure()\n",
    "plt.plot(trainloss, '-b')\n",
    "plt.plot(valloss, '-r')\n",
    "plt.ioff()\n",
    "plt.ylabel('Loss')\n",
    "plt.xlabel(\"Epoch\")\n",
    "plt.legend([\"Training\", \"Validation\"])\n",
    "plt.title(f\"SGD w/ Momentum\")\n",
    "plt.show()"
   ]
  },
  {
   "cell_type": "markdown",
   "metadata": {},
   "source": [
    "Nesterov"
   ]
  },
  {
   "cell_type": "code",
   "execution_count": 193,
   "metadata": {},
   "outputs": [],
   "source": [
    "nesterov = True"
   ]
  },
  {
   "cell_type": "code",
   "execution_count": 195,
   "metadata": {},
   "outputs": [
    {
     "name": "stderr",
     "output_type": "stream",
     "text": [
      "/tmp/ipykernel_12822/1099974826.py:5: UserWarning: nn.init.xavier_uniform is now deprecated in favor of nn.init.xavier_uniform_.\n",
      "  torch.nn.init.xavier_uniform(m.weight)\n"
     ]
    },
    {
     "name": "stdout",
     "output_type": "stream",
     "text": [
      "[E= 9] [it= 1330] Train Loss: 0.572, Test Loss: 1.665\n",
      "[E=19] [it= 2660] Train Loss: 0.551, Test Loss: 1.060\n",
      "[E=29] [it= 3990] Train Loss: 0.590, Test Loss: 1.569\n",
      "[E=39] [it= 5320] Train Loss: 0.570, Test Loss: 1.304\n",
      "Accuracy: Train: 0.639 | Val: 0.561\n"
     ]
    }
   ],
   "source": [
    "\n",
    "#################################################\n",
    "# Create network architecture\n",
    "model = ConvNetWithoutDropout(len(data.classes))\n",
    "\n",
    "# Initialize model weights\n",
    "model.apply(init_weights)\n",
    "\n",
    "## Loss, and optimizer\n",
    "criterion = nn.CrossEntropyLoss()\n",
    "optimizer = optim.SGD(model.parameters(), lr=learning_rate, weight_decay=weight_decay, momentum=momentum, nesterov=nesterov)\n",
    "\n",
    "\n",
    "#################################################\n",
    "# Train model\n",
    "\n",
    "model_final, trainloss, valloss = train_model(train_loader=train_loader, val_loader=val_loader, model=model, save=False,\n",
    "                                           criterion=criterion, optimizer=optimizer, Num_Epochs=Num_Epochs, checkpoint_interval=checkpoint_interval, run_name=run_name)\n",
    "tr_acc = get_accuracy(net=model_final, data_loader=train_loader)\n",
    "val_acc = get_accuracy(net=model_final, data_loader=val_loader)\n",
    "print(f\"Accuracy: Train: {tr_acc:.3f} | Val: {val_acc:0.3f}\" )"
   ]
  },
  {
   "cell_type": "code",
   "execution_count": 196,
   "metadata": {},
   "outputs": [
    {
     "data": {
      "image/png": "[encoded data removed]",
      "text/plain": [
       "<Figure size 640x480 with 1 Axes>"
      ]
     },
     "metadata": {},
     "output_type": "display_data"
    }
   ],
   "source": [
    "plt.figure()\n",
    "plt.plot(trainloss, '-b')\n",
    "plt.plot(valloss, '-r')\n",
    "plt.ioff()\n",
    "plt.ylabel('Loss')\n",
    "plt.xlabel(\"Epoch\")\n",
    "plt.legend([\"Training\", \"Validation\"])\n",
    "plt.title(f\"Nesterov\")\n",
    "plt.show()"
   ]
  },
  {
   "cell_type": "markdown",
   "metadata": {},
   "source": [
    "ADAM"
   ]
  },
  {
   "cell_type": "code",
   "execution_count": 197,
   "metadata": {},
   "outputs": [],
   "source": [
    "betas = (0.0583756, 0.0003968)\n",
    "# How many epochs before saving progress\n",
    "checkpoint_interval = 10\n",
    "# Learning rate\n",
    "learning_rate = 0.04325696\n",
    "# L2 Normalization lambda\n",
    "weight_decay = 0.03090098\n",
    "# Momentum\n",
    "momentum = 0.9\n",
    "# Nesterov?\n",
    "nesterov = False\n",
    "\n",
    "train_loader = torch.utils.data.DataLoader(dataset=splits[1], shuffle=True, num_workers=0,\n",
    "                                           batch_size=2, drop_last=True)\n",
    "val_loader = torch.utils.data.DataLoader(dataset=splits[0], shuffle=True, num_workers=0,\n",
    "                                           batch_size=1, drop_last=True)"
   ]
  },
  {
   "cell_type": "code",
   "execution_count": 198,
   "metadata": {},
   "outputs": [
    {
     "name": "stderr",
     "output_type": "stream",
     "text": [
      "/tmp/ipykernel_12822/1099974826.py:5: UserWarning: nn.init.xavier_uniform is now deprecated in favor of nn.init.xavier_uniform_.\n",
      "  torch.nn.init.xavier_uniform(m.weight)\n"
     ]
    },
    {
     "name": "stdout",
     "output_type": "stream",
     "text": [
      "[E= 9] [it=  660] Train Loss: 0.736, Test Loss: 0.745\n",
      "[E=19] [it= 1320] Train Loss: 0.724, Test Loss: 0.820\n",
      "[E=29] [it= 1980] Train Loss: 0.757, Test Loss: 56.392\n",
      "[E=39] [it= 2640] Train Loss: 0.715, Test Loss: 0.860\n",
      "Accuracy: Train: 0.598 | Val: 0.544\n"
     ]
    }
   ],
   "source": [
    "\n",
    "#################################################\n",
    "# Create network architecture\n",
    "model = ConvNetWithoutDropout(len(data.classes))\n",
    "\n",
    "# Initialize model weights\n",
    "model.apply(init_weights)\n",
    "\n",
    "## Loss, and optimizer\n",
    "criterion = nn.CrossEntropyLoss()\n",
    "optimizer = optim.Adam(model.parameters(), lr=learning_rate, weight_decay=weight_decay, betas=betas)\n",
    "\n",
    "\n",
    "#################################################\n",
    "# Train model\n",
    "\n",
    "model_final, trainloss, valloss = train_model(train_loader=train_loader, val_loader=val_loader, model=model, save=False,\n",
    "                                           criterion=criterion, optimizer=optimizer, Num_Epochs=Num_Epochs, checkpoint_interval=checkpoint_interval, run_name=run_name)\n",
    "tr_acc = get_accuracy(net=model_final, data_loader=train_loader)\n",
    "val_acc = get_accuracy(net=model_final, data_loader=val_loader)\n",
    "print(f\"Accuracy: Train: {tr_acc:.3f} | Val: {val_acc:0.3f}\" )"
   ]
  },
  {
   "cell_type": "code",
   "execution_count": 199,
   "metadata": {},
   "outputs": [
    {
     "data": {
      "image/png": "[encoded data removed]",
      "text/plain": [
       "<Figure size 640x480 with 1 Axes>"
      ]
     },
     "metadata": {},
     "output_type": "display_data"
    }
   ],
   "source": [
    "plt.figure()\n",
    "plt.plot(trainloss, '-b')\n",
    "plt.plot(valloss, '-r')\n",
    "plt.ioff()\n",
    "plt.ylabel('Loss')\n",
    "plt.xlabel(\"Epoch\")\n",
    "plt.legend([\"Training\", \"Validation\"])\n",
    "plt.title(f\"ADAM\")\n",
    "plt.show()"
   ]
  },
  {
   "cell_type": "markdown",
   "metadata": {},
   "source": [
    "NADAM"
   ]
  },
  {
   "cell_type": "code",
   "execution_count": 200,
   "metadata": {},
   "outputs": [
    {
     "name": "stderr",
     "output_type": "stream",
     "text": [
      "/tmp/ipykernel_12822/1099974826.py:5: UserWarning: nn.init.xavier_uniform is now deprecated in favor of nn.init.xavier_uniform_.\n",
      "  torch.nn.init.xavier_uniform(m.weight)\n"
     ]
    },
    {
     "name": "stdout",
     "output_type": "stream",
     "text": [
      "[E= 9] [it=  660] Train Loss: 0.713, Test Loss: 4.480\n",
      "[E=19] [it= 1320] Train Loss: 0.692, Test Loss: 25.609\n",
      "[E=29] [it= 1980] Train Loss: 0.683, Test Loss: 1.510\n",
      "[E=39] [it= 2640] Train Loss: 0.705, Test Loss: 0.692\n",
      "Accuracy: Train: 0.598 | Val: 0.544\n"
     ]
    }
   ],
   "source": [
    "\n",
    "#################################################\n",
    "# Create network architecture\n",
    "model = ConvNetWithoutDropout(len(data.classes))\n",
    "\n",
    "# Initialize model weights\n",
    "model.apply(init_weights)\n",
    "\n",
    "## Loss, and optimizer\n",
    "criterion = nn.CrossEntropyLoss()\n",
    "optimizer = optim.NAdam(model.parameters(), lr=learning_rate, weight_decay=weight_decay, betas=betas)\n",
    "\n",
    "\n",
    "#################################################\n",
    "# Train model\n",
    "\n",
    "model_final, trainloss, valloss = train_model(train_loader=train_loader, val_loader=val_loader, model=model, save=False,\n",
    "                                           criterion=criterion, optimizer=optimizer, Num_Epochs=Num_Epochs, checkpoint_interval=checkpoint_interval, run_name=run_name)\n",
    "tr_acc = get_accuracy(net=model_final, data_loader=train_loader)\n",
    "val_acc = get_accuracy(net=model_final, data_loader=val_loader)\n",
    "print(f\"Accuracy: Train: {tr_acc:.3f} | Val: {val_acc:0.3f}\" )"
   ]
  },
  {
   "cell_type": "code",
   "execution_count": 201,
   "metadata": {},
   "outputs": [
    {
     "data": {
      "image/png": "[encoded data removed]",
      "text/plain": [
       "<Figure size 640x480 with 1 Axes>"
      ]
     },
     "metadata": {},
     "output_type": "display_data"
    }
   ],
   "source": [
    "plt.figure()\n",
    "plt.plot(trainloss, '-b')\n",
    "plt.plot(valloss, '-r')\n",
    "plt.ioff()\n",
    "plt.ylabel('Loss')\n",
    "plt.xlabel(\"Epoch\")\n",
    "plt.legend([\"Training\", \"Validation\"])\n",
    "plt.title(f\"NADAM\")\n",
    "plt.show()"
   ]
  },
  {
   "cell_type": "markdown",
   "metadata": {},
   "source": [
    "Convolutional Nettwork with Dropout Masks"
   ]
  },
  {
   "cell_type": "code",
   "execution_count": 218,
   "metadata": {},
   "outputs": [
    {
     "name": "stdout",
     "output_type": "stream",
     "text": [
      "ConvNetWithoutDropout(\n",
      "  (conv1): Conv2d(1, 6, kernel_size=(3, 3), stride=(1, 1), padding=(1, 1))\n",
      "  (conv2): Conv2d(6, 16, kernel_size=(3, 3), stride=(1, 1), padding=(1, 1))\n",
      "  (fc1): Linear(in_features=4096, out_features=128, bias=True)\n",
      "  (fc2): Linear(in_features=128, out_features=64, bias=True)\n",
      "  (fc3): Linear(in_features=64, out_features=2, bias=True)\n",
      ")\n"
     ]
    }
   ],
   "source": [
    "class ConvNetWithDropout(nn.Module):\n",
    "\n",
    "  # define network layers\n",
    "  def __init__(self, data_len):\n",
    "    super().__init__()\n",
    "    # 1 input image channel, 6 output channels, 5x5 square convolution\n",
    "    # kernel\n",
    "    self.conv1 = nn.Conv2d(1, 6, 3, padding=1)\n",
    "    self.conv2 = nn.Conv2d(6, 16, 3, padding=1)\n",
    "    # an affine operation: y = Wx + b\n",
    "    self.fc1 = nn.Linear(4096, 128)  # 5*5 from image dimension\n",
    "    self.fc2 = nn.Linear(128, 64)\n",
    "    self.fc3 = nn.Linear(64, data_len)\n",
    "\n",
    "    self.dc2 = nn.Dropout(0.5)\n",
    "    self.dc3 = nn.Dropout(0.5)\n",
    "\n",
    "\n",
    "  # define forward pass\n",
    "  def forward(self, x):\n",
    "    # Max pooling over a (2, 2) window\n",
    "    x = F.max_pool2d(F.relu(self.conv1(x)), (2, 2))\n",
    "    # If the size is a square, you can specify with a single number\n",
    "    x = F.max_pool2d(F.relu(self.conv2(x)), 2)\n",
    "    x = torch.flatten(x, 1) # flatten all dimensions except the batch dimension\n",
    "    x = self.dc2(F.relu(self.fc1(x)))\n",
    "    x = self.dc3(F.relu(self.fc2(x)))\n",
    "    x = self.fc3(x)\n",
    "    return x\n",
    "\n",
    "#################################################\n",
    "## Create network\n",
    "model = ConvNetWithoutDropout(len(data.classes))\n",
    "#Print model architecture\n",
    "print(model)"
   ]
  },
  {
   "cell_type": "code",
   "execution_count": 221,
   "metadata": {},
   "outputs": [
    {
     "name": "stderr",
     "output_type": "stream",
     "text": [
      "/tmp/ipykernel_12822/1099974826.py:5: UserWarning: nn.init.xavier_uniform is now deprecated in favor of nn.init.xavier_uniform_.\n",
      "  torch.nn.init.xavier_uniform(m.weight)\n"
     ]
    },
    {
     "name": "stdout",
     "output_type": "stream",
     "text": [
      "[E= 9] [it=  660] Train Loss: 0.643, Test Loss: 0.694\n",
      "[E=19] [it= 1320] Train Loss: 0.640, Test Loss: 0.695\n",
      "[E=29] [it= 1980] Train Loss: 0.532, Test Loss: 0.955\n",
      "[E=39] [it= 2640] Train Loss: 0.503, Test Loss: 0.706\n",
      "Accuracy: Train: 0.652 | Val: 0.561\n"
     ]
    },
    {
     "data": {
      "image/png": "[encoded data removed]",
      "text/plain": [
       "<Figure size 640x480 with 1 Axes>"
      ]
     },
     "metadata": {},
     "output_type": "display_data"
    }
   ],
   "source": [
    "run_name = \"sgd\"\n",
    "# How many epochs before saving progress\n",
    "checkpoint_interval = 10\n",
    "# Learning rate\n",
    "learning_rate = 0.005\n",
    "# L2 Normalization lambda\n",
    "weight_decay = 0.01\n",
    "# Momentum\n",
    "momentum = 0.9\n",
    "# Nesterov?\n",
    "nesterov = False\n",
    "\n",
    "# With a batch size of 64, need 198 epochs to get to 2,000 iterations\n",
    "Num_Epochs = 40\n",
    "\n",
    "\n",
    "#################################################\n",
    "# Create network architecture\n",
    "model = ConvNetWithDropout(len(data.classes))\n",
    "\n",
    "# Initialize model weights\n",
    "model.apply(init_weights)\n",
    "\n",
    "## Loss, and optimizer\n",
    "criterion = nn.CrossEntropyLoss()\n",
    "optimizer = optim.SGD(model.parameters(), lr=learning_rate, weight_decay=weight_decay, momentum=momentum, nesterov=nesterov)\n",
    "\n",
    "\n",
    "#################################################\n",
    "# Train model\n",
    "\n",
    "model_final, trainloss, valloss = train_model(train_loader=train_loader, val_loader=val_loader, model=model, save=False,\n",
    "                                           criterion=criterion, optimizer=optimizer, Num_Epochs=Num_Epochs, checkpoint_interval=checkpoint_interval, run_name=run_name)\n",
    "\n",
    "tr_acc = get_accuracy(net=model_final, data_loader=train_loader)\n",
    "val_acc = get_accuracy(net=model_final, data_loader=val_loader)\n",
    "print(f\"Accuracy: Train: {tr_acc:.3f} | Val: {val_acc:0.3f}\" )\n",
    "\n",
    "plt.figure()\n",
    "plt.plot(trainloss, '-b')\n",
    "plt.plot(valloss, '-r')\n",
    "plt.ioff()\n",
    "plt.ylabel('Loss')\n",
    "plt.xlabel(\"Epoch\")\n",
    "plt.legend([\"Training\", \"Validation\"])\n",
    "plt.title(f\"Convolutional Model w/ Dropout\")\n",
    "plt.show()"
   ]
  },
  {
   "cell_type": "code",
   "execution_count": 231,
   "metadata": {},
   "outputs": [
    {
     "name": "stderr",
     "output_type": "stream",
     "text": [
      "[I 2024-04-17 13:03:27,969] A new study created in memory with name: SGD-Binary-Art\n",
      "/tmp/ipykernel_12822/1099974826.py:5: UserWarning: nn.init.xavier_uniform is now deprecated in favor of nn.init.xavier_uniform_.\n",
      "  torch.nn.init.xavier_uniform(m.weight)\n"
     ]
    },
    {
     "name": "stdout",
     "output_type": "stream",
     "text": [
      "[E= 9] [it= 1330] Train Loss: 0.688, Test Loss: 0.702\n",
      "[E=19] [it= 2660] Train Loss: 0.682, Test Loss: 0.699\n"
     ]
    },
    {
     "name": "stderr",
     "output_type": "stream",
     "text": [
      "[I 2024-04-17 13:04:32,747] Trial 0 finished with value: 0.543859649122807 and parameters: {'lr': 0.005609339611772364, 'L2': 0.06713805591459367, 'batch_size': 1, 'nesterov': False}. Best is trial 0 with value: 0.543859649122807.\n"
     ]
    },
    {
     "name": "stdout",
     "output_type": "stream",
     "text": [
      "Accuracy: Train: 0.594 | Val: 0.544\n",
      "[E= 9] [it= 1330] Train Loss: 0.457, Test Loss: 0.646\n",
      "[E=19] [it= 2660] Train Loss: 0.249, Test Loss: 1.059\n"
     ]
    },
    {
     "name": "stderr",
     "output_type": "stream",
     "text": [
      "[I 2024-04-17 13:05:29,880] Trial 1 finished with value: 0.7017543859649122 and parameters: {'lr': 0.0011279699959447066, 'L2': 0.0007006274978255863, 'batch_size': 1, 'nesterov': True}. Best is trial 1 with value: 0.7017543859649122.\n"
     ]
    },
    {
     "name": "stdout",
     "output_type": "stream",
     "text": [
      "Accuracy: Train: 0.932 | Val: 0.702\n",
      "[E= 9] [it=  160] Train Loss: 0.664, Test Loss: 0.683\n",
      "[E=19] [it=  320] Train Loss: 0.660, Test Loss: 0.685\n"
     ]
    },
    {
     "name": "stderr",
     "output_type": "stream",
     "text": [
      "[I 2024-04-17 13:06:12,962] Trial 2 finished with value: 0.543859649122807 and parameters: {'lr': 2.7479743969773637e-05, 'L2': 0.030317830386186243, 'batch_size': 8, 'nesterov': True}. Best is trial 1 with value: 0.7017543859649122.\n"
     ]
    },
    {
     "name": "stdout",
     "output_type": "stream",
     "text": [
      "Accuracy: Train: 0.602 | Val: 0.544\n",
      "[E= 9] [it=  660] Train Loss: 0.455, Test Loss: 1.095\n",
      "[E=19] [it= 1320] Train Loss: 0.279, Test Loss: 0.856\n"
     ]
    },
    {
     "name": "stderr",
     "output_type": "stream",
     "text": [
      "[I 2024-04-17 13:07:08,294] Trial 3 finished with value: 0.6140350877192983 and parameters: {'lr': 0.0037282776170892095, 'L2': 0.015818253189807407, 'batch_size': 2, 'nesterov': True}. Best is trial 1 with value: 0.7017543859649122.\n"
     ]
    },
    {
     "name": "stdout",
     "output_type": "stream",
     "text": [
      "Accuracy: Train: 0.803 | Val: 0.614\n",
      "[E= 9] [it=  330] Train Loss: 0.462, Test Loss: 0.675\n",
      "[E=19] [it=  660] Train Loss: 0.278, Test Loss: 0.674\n"
     ]
    },
    {
     "name": "stderr",
     "output_type": "stream",
     "text": [
      "[I 2024-04-17 13:07:54,560] Trial 4 finished with value: 0.7192982456140351 and parameters: {'lr': 0.0009007096073281324, 'L2': 2.238720955406528e-05, 'batch_size': 4, 'nesterov': True}. Best is trial 4 with value: 0.7192982456140351.\n"
     ]
    },
    {
     "name": "stdout",
     "output_type": "stream",
     "text": [
      "Accuracy: Train: 0.902 | Val: 0.719\n",
      "[E= 9] [it=  330] Train Loss: 0.604, Test Loss: 0.695\n",
      "[E=19] [it=  660] Train Loss: 0.493, Test Loss: 0.678\n"
     ]
    },
    {
     "name": "stderr",
     "output_type": "stream",
     "text": [
      "[I 2024-04-17 13:08:42,915] Trial 5 finished with value: 0.6491228070175439 and parameters: {'lr': 0.0003812150772622518, 'L2': 0.00046733433999314786, 'batch_size': 4, 'nesterov': True}. Best is trial 4 with value: 0.7192982456140351.\n"
     ]
    },
    {
     "name": "stdout",
     "output_type": "stream",
     "text": [
      "Accuracy: Train: 0.758 | Val: 0.649\n",
      "[E= 9] [it=  330] Train Loss: 0.534, Test Loss: 0.703\n",
      "[E=19] [it=  660] Train Loss: 0.411, Test Loss: 0.687\n"
     ]
    },
    {
     "name": "stderr",
     "output_type": "stream",
     "text": [
      "[I 2024-04-17 13:09:29,254] Trial 6 finished with value: 0.5789473684210527 and parameters: {'lr': 0.012455234232762432, 'L2': 0.0022635722317334594, 'batch_size': 4, 'nesterov': True}. Best is trial 4 with value: 0.7192982456140351.\n"
     ]
    },
    {
     "name": "stdout",
     "output_type": "stream",
     "text": [
      "Accuracy: Train: 0.780 | Val: 0.579\n",
      "[E= 9] [it= 1330] Train Loss: 0.636, Test Loss: 0.662\n",
      "[E=19] [it= 2660] Train Loss: 0.474, Test Loss: 0.735\n"
     ]
    },
    {
     "name": "stderr",
     "output_type": "stream",
     "text": [
      "[I 2024-04-17 13:10:22,847] Trial 7 finished with value: 0.6666666666666666 and parameters: {'lr': 0.004713790933200667, 'L2': 0.011063839540452144, 'batch_size': 1, 'nesterov': False}. Best is trial 4 with value: 0.7192982456140351.\n"
     ]
    },
    {
     "name": "stdout",
     "output_type": "stream",
     "text": [
      "Accuracy: Train: 0.872 | Val: 0.667\n",
      "[E= 9] [it= 1330] Train Loss: 0.777, Test Loss: 0.759\n",
      "[E=19] [it= 2660] Train Loss: 0.758, Test Loss: 0.689\n"
     ]
    },
    {
     "name": "stderr",
     "output_type": "stream",
     "text": [
      "[I 2024-04-17 13:11:20,315] Trial 8 finished with value: 0.543859649122807 and parameters: {'lr': 0.08901299986875018, 'L2': 0.0057425797980288126, 'batch_size': 1, 'nesterov': True}. Best is trial 4 with value: 0.7192982456140351.\n"
     ]
    },
    {
     "name": "stdout",
     "output_type": "stream",
     "text": [
      "Accuracy: Train: 0.594 | Val: 0.544\n",
      "[E= 9] [it=  160] Train Loss: 0.639, Test Loss: 0.671\n",
      "[E=19] [it=  320] Train Loss: 0.601, Test Loss: 0.666\n"
     ]
    },
    {
     "name": "stderr",
     "output_type": "stream",
     "text": [
      "[I 2024-04-17 13:12:03,672] Trial 9 finished with value: 0.543859649122807 and parameters: {'lr': 0.00012067092597424416, 'L2': 0.07736376657054783, 'batch_size': 8, 'nesterov': True}. Best is trial 4 with value: 0.7192982456140351.\n"
     ]
    },
    {
     "name": "stdout",
     "output_type": "stream",
     "text": [
      "Accuracy: Train: 0.602 | Val: 0.544\n",
      "[E= 9] [it=  330] Train Loss: 0.665, Test Loss: 0.680\n",
      "[E=19] [it=  660] Train Loss: 0.654, Test Loss: 0.690\n"
     ]
    },
    {
     "name": "stderr",
     "output_type": "stream",
     "text": [
      "[I 2024-04-17 13:12:50,863] Trial 10 finished with value: 0.543859649122807 and parameters: {'lr': 1.9176046079624577e-05, 'L2': 1.0242950401255458e-05, 'batch_size': 4, 'nesterov': False}. Best is trial 4 with value: 0.7192982456140351.\n"
     ]
    },
    {
     "name": "stdout",
     "output_type": "stream",
     "text": [
      "Accuracy: Train: 0.598 | Val: 0.544\n",
      "[E= 9] [it=  660] Train Loss: 0.538, Test Loss: 0.662\n",
      "[E=19] [it= 1320] Train Loss: 0.342, Test Loss: 0.726\n"
     ]
    },
    {
     "name": "stderr",
     "output_type": "stream",
     "text": [
      "[I 2024-04-17 13:13:41,762] Trial 11 finished with value: 0.6666666666666666 and parameters: {'lr': 0.0005565956725285763, 'L2': 0.00012596762025443315, 'batch_size': 2, 'nesterov': True}. Best is trial 4 with value: 0.7192982456140351.\n"
     ]
    },
    {
     "name": "stdout",
     "output_type": "stream",
     "text": [
      "Accuracy: Train: 0.886 | Val: 0.667\n",
      "[E= 9] [it=  330] Train Loss: 0.476, Test Loss: 0.801\n",
      "[E=19] [it=  660] Train Loss: 0.259, Test Loss: 0.893\n"
     ]
    },
    {
     "name": "stderr",
     "output_type": "stream",
     "text": [
      "[I 2024-04-17 13:14:31,922] Trial 12 finished with value: 0.6666666666666666 and parameters: {'lr': 0.0014026461631711932, 'L2': 2.326500918665454e-05, 'batch_size': 4, 'nesterov': True}. Best is trial 4 with value: 0.7192982456140351.\n"
     ]
    },
    {
     "name": "stdout",
     "output_type": "stream",
     "text": [
      "Accuracy: Train: 0.886 | Val: 0.667\n",
      "[E= 9] [it= 1330] Train Loss: 0.440, Test Loss: 0.683\n",
      "[E=19] [it= 2660] Train Loss: 0.349, Test Loss: 0.729\n"
     ]
    },
    {
     "name": "stderr",
     "output_type": "stream",
     "text": [
      "[I 2024-04-17 13:15:29,548] Trial 13 finished with value: 0.631578947368421 and parameters: {'lr': 0.0002652188067019261, 'L2': 0.00011541670861850604, 'batch_size': 1, 'nesterov': True}. Best is trial 4 with value: 0.7192982456140351.\n"
     ]
    },
    {
     "name": "stdout",
     "output_type": "stream",
     "text": [
      "Accuracy: Train: 0.842 | Val: 0.632\n",
      "[E= 9] [it=  330] Train Loss: 0.624, Test Loss: 0.666\n",
      "[E=19] [it=  660] Train Loss: 0.579, Test Loss: 0.666\n"
     ]
    },
    {
     "name": "stderr",
     "output_type": "stream",
     "text": [
      "[I 2024-04-17 13:16:16,427] Trial 14 finished with value: 0.543859649122807 and parameters: {'lr': 9.745653508163073e-05, 'L2': 0.0005610017236854524, 'batch_size': 4, 'nesterov': False}. Best is trial 4 with value: 0.7192982456140351.\n"
     ]
    },
    {
     "name": "stdout",
     "output_type": "stream",
     "text": [
      "Accuracy: Train: 0.667 | Val: 0.544\n",
      "[E= 9] [it= 1330] Train Loss: 0.366, Test Loss: 0.739\n",
      "[E=19] [it= 2660] Train Loss: 0.170, Test Loss: 1.610\n"
     ]
    },
    {
     "name": "stderr",
     "output_type": "stream",
     "text": [
      "[I 2024-04-17 13:17:10,445] Trial 15 finished with value: 0.5964912280701754 and parameters: {'lr': 0.0014271635505369962, 'L2': 6.753833436520056e-05, 'batch_size': 1, 'nesterov': True}. Best is trial 4 with value: 0.7192982456140351.\n"
     ]
    },
    {
     "name": "stdout",
     "output_type": "stream",
     "text": [
      "Accuracy: Train: 0.895 | Val: 0.596\n",
      "[E= 9] [it=  660] Train Loss: 0.695, Test Loss: 0.748\n",
      "[E=19] [it= 1320] Train Loss: 0.689, Test Loss: 0.708\n"
     ]
    },
    {
     "name": "stderr",
     "output_type": "stream",
     "text": [
      "[I 2024-04-17 13:18:00,719] Trial 16 finished with value: 0.543859649122807 and parameters: {'lr': 0.029500359193640236, 'L2': 0.001343995036086891, 'batch_size': 2, 'nesterov': True}. Best is trial 4 with value: 0.7192982456140351.\n"
     ]
    },
    {
     "name": "stdout",
     "output_type": "stream",
     "text": [
      "Accuracy: Train: 0.598 | Val: 0.544\n",
      "[E= 9] [it=  160] Train Loss: 0.474, Test Loss: 0.653\n",
      "[E=19] [it=  320] Train Loss: 0.272, Test Loss: 0.808\n"
     ]
    },
    {
     "name": "stderr",
     "output_type": "stream",
     "text": [
      "[I 2024-04-17 13:18:42,580] Trial 17 finished with value: 0.7368421052631579 and parameters: {'lr': 0.001244623170126414, 'L2': 0.0002903261103419116, 'batch_size': 8, 'nesterov': True}. Best is trial 17 with value: 0.7368421052631579.\n"
     ]
    },
    {
     "name": "stdout",
     "output_type": "stream",
     "text": [
      "Accuracy: Train: 0.914 | Val: 0.737\n",
      "[E= 9] [it=  160] Train Loss: 0.665, Test Loss: 0.684\n",
      "[E=19] [it=  320] Train Loss: 0.655, Test Loss: 0.684\n"
     ]
    },
    {
     "name": "stderr",
     "output_type": "stream",
     "text": [
      "[I 2024-04-17 13:19:23,889] Trial 18 finished with value: 0.543859649122807 and parameters: {'lr': 0.0001538711690210944, 'L2': 3.842585025992226e-05, 'batch_size': 8, 'nesterov': False}. Best is trial 17 with value: 0.7368421052631579.\n"
     ]
    },
    {
     "name": "stdout",
     "output_type": "stream",
     "text": [
      "Accuracy: Train: 0.594 | Val: 0.544\n",
      "[E= 9] [it=  160] Train Loss: 0.673, Test Loss: 0.682\n",
      "[E=19] [it=  320] Train Loss: 0.656, Test Loss: 0.684\n"
     ]
    },
    {
     "name": "stderr",
     "output_type": "stream",
     "text": [
      "[I 2024-04-17 13:20:05,927] Trial 19 finished with value: 0.543859649122807 and parameters: {'lr': 5.7882759309179645e-05, 'L2': 0.00023411661346489263, 'batch_size': 8, 'nesterov': True}. Best is trial 17 with value: 0.7368421052631579.\n"
     ]
    },
    {
     "name": "stdout",
     "output_type": "stream",
     "text": [
      "Accuracy: Train: 0.602 | Val: 0.544\n",
      "[E= 9] [it=  160] Train Loss: 0.481, Test Loss: 0.632\n",
      "[E=19] [it=  320] Train Loss: 0.241, Test Loss: 0.907\n"
     ]
    },
    {
     "name": "stderr",
     "output_type": "stream",
     "text": [
      "[I 2024-04-17 13:20:51,701] Trial 20 finished with value: 0.631578947368421 and parameters: {'lr': 0.0033889424412792794, 'L2': 1.59534695373577e-05, 'batch_size': 8, 'nesterov': True}. Best is trial 17 with value: 0.7368421052631579.\n"
     ]
    },
    {
     "name": "stdout",
     "output_type": "stream",
     "text": [
      "Accuracy: Train: 0.898 | Val: 0.632\n",
      "[E= 9] [it=  330] Train Loss: 0.478, Test Loss: 0.748\n",
      "[E=19] [it=  660] Train Loss: 0.318, Test Loss: 0.886\n"
     ]
    },
    {
     "name": "stderr",
     "output_type": "stream",
     "text": [
      "[I 2024-04-17 13:21:35,412] Trial 21 finished with value: 0.6666666666666666 and parameters: {'lr': 0.0009819093562030059, 'L2': 0.002814338783124056, 'batch_size': 4, 'nesterov': True}. Best is trial 17 with value: 0.7368421052631579.\n"
     ]
    },
    {
     "name": "stdout",
     "output_type": "stream",
     "text": [
      "Accuracy: Train: 0.871 | Val: 0.667\n",
      "[E= 9] [it= 1330] Train Loss: 0.417, Test Loss: 0.734\n",
      "[E=19] [it= 2660] Train Loss: 0.193, Test Loss: 1.220\n"
     ]
    },
    {
     "name": "stderr",
     "output_type": "stream",
     "text": [
      "[I 2024-04-17 13:22:31,614] Trial 22 finished with value: 0.631578947368421 and parameters: {'lr': 0.0007017575702874971, 'L2': 0.00031159348325532333, 'batch_size': 1, 'nesterov': True}. Best is trial 17 with value: 0.7368421052631579.\n"
     ]
    },
    {
     "name": "stdout",
     "output_type": "stream",
     "text": [
      "Accuracy: Train: 0.925 | Val: 0.632\n",
      "[E= 9] [it=  160] Train Loss: 0.460, Test Loss: 0.609\n",
      "[E=19] [it=  320] Train Loss: 0.278, Test Loss: 0.849\n"
     ]
    },
    {
     "name": "stderr",
     "output_type": "stream",
     "text": [
      "[I 2024-04-17 13:23:13,227] Trial 23 finished with value: 0.7017543859649122 and parameters: {'lr': 0.0019482537129768068, 'L2': 6.860131240893581e-05, 'batch_size': 8, 'nesterov': True}. Best is trial 17 with value: 0.7368421052631579.\n"
     ]
    },
    {
     "name": "stdout",
     "output_type": "stream",
     "text": [
      "Accuracy: Train: 0.906 | Val: 0.702\n",
      "[E= 9] [it=  330] Train Loss: 0.468, Test Loss: 0.723\n",
      "[E=19] [it=  660] Train Loss: 0.349, Test Loss: 1.073\n"
     ]
    },
    {
     "name": "stderr",
     "output_type": "stream",
     "text": [
      "[I 2024-04-17 13:24:02,241] Trial 24 finished with value: 0.6140350877192983 and parameters: {'lr': 0.010836454993780576, 'L2': 0.0007681646314200861, 'batch_size': 4, 'nesterov': True}. Best is trial 17 with value: 0.7368421052631579.\n"
     ]
    },
    {
     "name": "stdout",
     "output_type": "stream",
     "text": [
      "Accuracy: Train: 0.856 | Val: 0.614\n",
      "[E= 9] [it= 1330] Train Loss: 0.525, Test Loss: 0.667\n",
      "[E=19] [it= 2660] Train Loss: 0.416, Test Loss: 0.634\n"
     ]
    },
    {
     "name": "stderr",
     "output_type": "stream",
     "text": [
      "[I 2024-04-17 13:25:00,488] Trial 25 finished with value: 0.7192982456140351 and parameters: {'lr': 0.00024131038961190508, 'L2': 0.00018515451075762807, 'batch_size': 1, 'nesterov': True}. Best is trial 17 with value: 0.7368421052631579.\n"
     ]
    },
    {
     "name": "stdout",
     "output_type": "stream",
     "text": [
      "Accuracy: Train: 0.887 | Val: 0.719\n",
      "[E= 9] [it=  160] Train Loss: 0.617, Test Loss: 0.669\n",
      "[E=19] [it=  320] Train Loss: 0.576, Test Loss: 0.677\n"
     ]
    },
    {
     "name": "stderr",
     "output_type": "stream",
     "text": [
      "[I 2024-04-17 13:25:48,245] Trial 26 finished with value: 0.5789473684210527 and parameters: {'lr': 0.00035769587229504706, 'L2': 0.00017238897280421835, 'batch_size': 8, 'nesterov': False}. Best is trial 17 with value: 0.7368421052631579.\n"
     ]
    },
    {
     "name": "stdout",
     "output_type": "stream",
     "text": [
      "Accuracy: Train: 0.617 | Val: 0.579\n",
      "[E= 9] [it=  660] Train Loss: 0.575, Test Loss: 0.661\n",
      "[E=19] [it= 1320] Train Loss: 0.455, Test Loss: 0.721\n"
     ]
    },
    {
     "name": "stderr",
     "output_type": "stream",
     "text": [
      "[I 2024-04-17 13:26:43,160] Trial 27 finished with value: 0.6140350877192983 and parameters: {'lr': 0.00022794013038890574, 'L2': 5.039616279999403e-05, 'batch_size': 2, 'nesterov': True}. Best is trial 17 with value: 0.7368421052631579.\n"
     ]
    },
    {
     "name": "stdout",
     "output_type": "stream",
     "text": [
      "Accuracy: Train: 0.727 | Val: 0.614\n",
      "[E= 9] [it=  160] Train Loss: 0.668, Test Loss: 0.681\n",
      "[E=19] [it=  320] Train Loss: 0.670, Test Loss: 0.686\n"
     ]
    },
    {
     "name": "stderr",
     "output_type": "stream",
     "text": [
      "[I 2024-04-17 13:27:28,890] Trial 28 finished with value: 0.543859649122807 and parameters: {'lr': 4.740194433512184e-05, 'L2': 3.070860041812187e-05, 'batch_size': 8, 'nesterov': True}. Best is trial 17 with value: 0.7368421052631579.\n"
     ]
    },
    {
     "name": "stdout",
     "output_type": "stream",
     "text": [
      "Accuracy: Train: 0.594 | Val: 0.544\n",
      "[E= 9] [it= 1330] Train Loss: 0.680, Test Loss: 0.684\n",
      "[E=19] [it= 2660] Train Loss: 0.664, Test Loss: 0.682\n"
     ]
    },
    {
     "name": "stderr",
     "output_type": "stream",
     "text": [
      "[I 2024-04-17 13:28:26,903] Trial 29 finished with value: 0.543859649122807 and parameters: {'lr': 1.0058813019159502e-05, 'L2': 0.00010085601847547886, 'batch_size': 1, 'nesterov': False}. Best is trial 17 with value: 0.7368421052631579.\n"
     ]
    },
    {
     "name": "stdout",
     "output_type": "stream",
     "text": [
      "Accuracy: Train: 0.594 | Val: 0.544\n",
      "[E= 9] [it=  330] Train Loss: 0.451, Test Loss: 0.880\n",
      "[E=19] [it=  660] Train Loss: 0.243, Test Loss: 1.348\n"
     ]
    },
    {
     "name": "stderr",
     "output_type": "stream",
     "text": [
      "[I 2024-04-17 13:29:17,067] Trial 30 finished with value: 0.6140350877192983 and parameters: {'lr': 0.002650751581724723, 'L2': 0.0003158949598908834, 'batch_size': 4, 'nesterov': True}. Best is trial 17 with value: 0.7368421052631579.\n"
     ]
    },
    {
     "name": "stdout",
     "output_type": "stream",
     "text": [
      "Accuracy: Train: 0.841 | Val: 0.614\n",
      "[E= 9] [it= 1330] Train Loss: 0.448, Test Loss: 0.698\n",
      "[E=19] [it= 2660] Train Loss: 0.270, Test Loss: 1.062\n"
     ]
    },
    {
     "name": "stderr",
     "output_type": "stream",
     "text": [
      "[I 2024-04-17 13:30:18,845] Trial 31 finished with value: 0.7017543859649122 and parameters: {'lr': 0.0007602989785690816, 'L2': 0.0008472198555045946, 'batch_size': 1, 'nesterov': True}. Best is trial 17 with value: 0.7368421052631579.\n"
     ]
    },
    {
     "name": "stdout",
     "output_type": "stream",
     "text": [
      "Accuracy: Train: 0.940 | Val: 0.702\n",
      "[E= 9] [it= 1330] Train Loss: 0.433, Test Loss: 0.617\n",
      "[E=19] [it= 2660] Train Loss: 0.251, Test Loss: 0.861\n"
     ]
    },
    {
     "name": "stderr",
     "output_type": "stream",
     "text": [
      "[I 2024-04-17 13:31:18,756] Trial 32 finished with value: 0.7719298245614035 and parameters: {'lr': 0.0004373421964001183, 'L2': 0.0021473396343419083, 'batch_size': 1, 'nesterov': True}. Best is trial 32 with value: 0.7719298245614035.\n"
     ]
    },
    {
     "name": "stdout",
     "output_type": "stream",
     "text": [
      "Accuracy: Train: 0.910 | Val: 0.772\n",
      "[E= 9] [it= 1330] Train Loss: 0.450, Test Loss: 0.584\n",
      "[E=19] [it= 2660] Train Loss: 0.290, Test Loss: 0.787\n"
     ]
    },
    {
     "name": "stderr",
     "output_type": "stream",
     "text": [
      "[I 2024-04-17 13:32:21,293] Trial 33 finished with value: 0.7368421052631579 and parameters: {'lr': 0.000488504855485451, 'L2': 0.0015104691335383427, 'batch_size': 1, 'nesterov': True}. Best is trial 32 with value: 0.7719298245614035.\n"
     ]
    },
    {
     "name": "stdout",
     "output_type": "stream",
     "text": [
      "Accuracy: Train: 0.910 | Val: 0.737\n",
      "[E= 9] [it= 1330] Train Loss: 0.418, Test Loss: 0.711\n",
      "[E=19] [it= 2660] Train Loss: 0.220, Test Loss: 1.005\n"
     ]
    },
    {
     "name": "stderr",
     "output_type": "stream",
     "text": [
      "[I 2024-04-17 13:33:25,088] Trial 34 finished with value: 0.7017543859649122 and parameters: {'lr': 0.0005369619051070241, 'L2': 0.002123512579358195, 'batch_size': 1, 'nesterov': True}. Best is trial 32 with value: 0.7719298245614035.\n"
     ]
    },
    {
     "name": "stdout",
     "output_type": "stream",
     "text": [
      "Accuracy: Train: 0.955 | Val: 0.702\n",
      "[E= 9] [it= 1330] Train Loss: 0.687, Test Loss: 0.688\n",
      "[E=19] [it= 2660] Train Loss: 0.690, Test Loss: 0.690\n"
     ]
    },
    {
     "name": "stderr",
     "output_type": "stream",
     "text": [
      "[I 2024-04-17 13:34:24,205] Trial 35 finished with value: 0.543859649122807 and parameters: {'lr': 0.009142875629929013, 'L2': 0.004980270721397985, 'batch_size': 1, 'nesterov': True}. Best is trial 32 with value: 0.7719298245614035.\n"
     ]
    },
    {
     "name": "stdout",
     "output_type": "stream",
     "text": [
      "Accuracy: Train: 0.594 | Val: 0.544\n",
      "[E= 9] [it= 1330] Train Loss: 0.472, Test Loss: 0.676\n",
      "[E=19] [it= 2660] Train Loss: 0.428, Test Loss: 0.566\n"
     ]
    },
    {
     "name": "stderr",
     "output_type": "stream",
     "text": [
      "[I 2024-04-17 13:35:17,647] Trial 36 finished with value: 0.5789473684210527 and parameters: {'lr': 0.0019932118247008987, 'L2': 0.02448842334526055, 'batch_size': 1, 'nesterov': True}. Best is trial 32 with value: 0.7719298245614035.\n"
     ]
    },
    {
     "name": "stdout",
     "output_type": "stream",
     "text": [
      "Accuracy: Train: 0.767 | Val: 0.579\n",
      "[E= 9] [it=  660] Train Loss: 0.561, Test Loss: 0.646\n",
      "[E=19] [it= 1320] Train Loss: 0.196, Test Loss: 0.728\n"
     ]
    },
    {
     "name": "stderr",
     "output_type": "stream",
     "text": [
      "[I 2024-04-17 13:36:08,110] Trial 37 finished with value: 0.5964912280701754 and parameters: {'lr': 0.006322463245394117, 'L2': 0.0015512392719936852, 'batch_size': 2, 'nesterov': True}. Best is trial 32 with value: 0.7719298245614035.\n"
     ]
    },
    {
     "name": "stdout",
     "output_type": "stream",
     "text": [
      "Accuracy: Train: 0.962 | Val: 0.596\n",
      "[E= 9] [it= 1330] Train Loss: 0.457, Test Loss: 0.719\n",
      "[E=19] [it= 2660] Train Loss: 0.289, Test Loss: 0.791\n"
     ]
    },
    {
     "name": "stderr",
     "output_type": "stream",
     "text": [
      "[I 2024-04-17 13:37:05,625] Trial 38 finished with value: 0.6842105263157895 and parameters: {'lr': 0.001029883653647571, 'L2': 0.004194463608970624, 'batch_size': 1, 'nesterov': True}. Best is trial 32 with value: 0.7719298245614035.\n"
     ]
    },
    {
     "name": "stdout",
     "output_type": "stream",
     "text": [
      "Accuracy: Train: 0.902 | Val: 0.684\n",
      "[E= 9] [it=  330] Train Loss: 0.588, Test Loss: 0.620\n",
      "[E=19] [it=  660] Train Loss: 0.440, Test Loss: 0.695\n"
     ]
    },
    {
     "name": "stderr",
     "output_type": "stream",
     "text": [
      "[I 2024-04-17 13:37:56,994] Trial 39 finished with value: 0.5964912280701754 and parameters: {'lr': 0.000502053567240367, 'L2': 0.008933997439622832, 'batch_size': 4, 'nesterov': True}. Best is trial 32 with value: 0.7719298245614035.\n"
     ]
    },
    {
     "name": "stdout",
     "output_type": "stream",
     "text": [
      "Accuracy: Train: 0.720 | Val: 0.596\n",
      "[E= 9] [it=  160] Train Loss: 0.584, Test Loss: 0.658\n",
      "[E=19] [it=  320] Train Loss: 0.536, Test Loss: 0.640\n"
     ]
    },
    {
     "name": "stderr",
     "output_type": "stream",
     "text": [
      "[I 2024-04-17 13:38:44,989] Trial 40 finished with value: 0.6140350877192983 and parameters: {'lr': 0.0003566410012929285, 'L2': 0.00041078728797819475, 'batch_size': 8, 'nesterov': False}. Best is trial 32 with value: 0.7719298245614035.\n"
     ]
    },
    {
     "name": "stdout",
     "output_type": "stream",
     "text": [
      "Accuracy: Train: 0.719 | Val: 0.614\n",
      "[E= 9] [it= 1330] Train Loss: 0.429, Test Loss: 0.892\n",
      "[E=19] [it= 2660] Train Loss: 0.208, Test Loss: 0.802\n"
     ]
    },
    {
     "name": "stderr",
     "output_type": "stream",
     "text": [
      "[I 2024-04-17 13:39:46,788] Trial 41 finished with value: 0.6842105263157895 and parameters: {'lr': 0.0001700144724056235, 'L2': 0.0011717521996176632, 'batch_size': 1, 'nesterov': True}. Best is trial 32 with value: 0.7719298245614035.\n"
     ]
    },
    {
     "name": "stdout",
     "output_type": "stream",
     "text": [
      "Accuracy: Train: 0.880 | Val: 0.684\n",
      "[E= 9] [it= 1330] Train Loss: 0.602, Test Loss: 0.677\n",
      "[E=19] [it= 2660] Train Loss: 0.509, Test Loss: 0.674\n"
     ]
    },
    {
     "name": "stderr",
     "output_type": "stream",
     "text": [
      "[I 2024-04-17 13:40:48,530] Trial 42 finished with value: 0.5614035087719298 and parameters: {'lr': 7.092738676078988e-05, 'L2': 0.003263460972261003, 'batch_size': 1, 'nesterov': True}. Best is trial 32 with value: 0.7719298245614035.\n"
     ]
    },
    {
     "name": "stdout",
     "output_type": "stream",
     "text": [
      "Accuracy: Train: 0.662 | Val: 0.561\n",
      "[E= 9] [it= 1330] Train Loss: 0.428, Test Loss: 0.711\n",
      "[E=19] [it= 2660] Train Loss: 0.222, Test Loss: 0.827\n"
     ]
    },
    {
     "name": "stderr",
     "output_type": "stream",
     "text": [
      "[I 2024-04-17 13:41:50,363] Trial 43 finished with value: 0.7192982456140351 and parameters: {'lr': 0.0002812155990626383, 'L2': 0.0001844344485234816, 'batch_size': 1, 'nesterov': True}. Best is trial 32 with value: 0.7719298245614035.\n"
     ]
    },
    {
     "name": "stdout",
     "output_type": "stream",
     "text": [
      "Accuracy: Train: 0.955 | Val: 0.719\n",
      "[E= 9] [it= 1330] Train Loss: 0.535, Test Loss: 0.647\n",
      "[E=19] [it= 2660] Train Loss: 0.340, Test Loss: 0.806\n"
     ]
    },
    {
     "name": "stderr",
     "output_type": "stream",
     "text": [
      "[I 2024-04-17 13:42:53,048] Trial 44 finished with value: 0.7192982456140351 and parameters: {'lr': 0.0001726242142091763, 'L2': 0.0005489976361667981, 'batch_size': 1, 'nesterov': True}. Best is trial 32 with value: 0.7719298245614035.\n"
     ]
    },
    {
     "name": "stdout",
     "output_type": "stream",
     "text": [
      "Accuracy: Train: 0.842 | Val: 0.719\n",
      "[E= 9] [it= 1330] Train Loss: 0.410, Test Loss: 0.933\n",
      "[E=19] [it= 2660] Train Loss: 0.178, Test Loss: 1.442\n"
     ]
    },
    {
     "name": "stderr",
     "output_type": "stream",
     "text": [
      "[I 2024-04-17 13:43:55,469] Trial 45 finished with value: 0.5964912280701754 and parameters: {'lr': 0.0006998241382751486, 'L2': 0.0017744421194459269, 'batch_size': 1, 'nesterov': True}. Best is trial 32 with value: 0.7719298245614035.\n"
     ]
    },
    {
     "name": "stdout",
     "output_type": "stream",
     "text": [
      "Accuracy: Train: 0.910 | Val: 0.596\n",
      "[E= 9] [it=  330] Train Loss: 0.517, Test Loss: 0.655\n",
      "[E=19] [it=  660] Train Loss: 0.440, Test Loss: 0.827\n"
     ]
    },
    {
     "name": "stderr",
     "output_type": "stream",
     "text": [
      "[I 2024-04-17 13:44:40,726] Trial 46 finished with value: 0.631578947368421 and parameters: {'lr': 0.001535059608884826, 'L2': 0.0008574681105209976, 'batch_size': 4, 'nesterov': True}. Best is trial 32 with value: 0.7719298245614035.\n"
     ]
    },
    {
     "name": "stdout",
     "output_type": "stream",
     "text": [
      "Accuracy: Train: 0.826 | Val: 0.632\n",
      "[E= 9] [it= 1330] Train Loss: 0.531, Test Loss: 0.645\n",
      "[E=19] [it= 2660] Train Loss: 0.367, Test Loss: 0.891\n"
     ]
    },
    {
     "name": "stderr",
     "output_type": "stream",
     "text": [
      "[I 2024-04-17 13:45:44,303] Trial 47 finished with value: 0.631578947368421 and parameters: {'lr': 0.00042768898382525603, 'L2': 0.006938944554581885, 'batch_size': 1, 'nesterov': True}. Best is trial 32 with value: 0.7719298245614035.\n"
     ]
    },
    {
     "name": "stdout",
     "output_type": "stream",
     "text": [
      "Accuracy: Train: 0.857 | Val: 0.632\n",
      "[E= 9] [it=  660] Train Loss: 0.496, Test Loss: 0.726\n",
      "[E=19] [it= 1320] Train Loss: 0.191, Test Loss: 1.276\n"
     ]
    },
    {
     "name": "stderr",
     "output_type": "stream",
     "text": [
      "[I 2024-04-17 13:46:42,037] Trial 48 finished with value: 0.631578947368421 and parameters: {'lr': 0.0009684370068454681, 'L2': 1.0329642037369583e-05, 'batch_size': 2, 'nesterov': True}. Best is trial 32 with value: 0.7719298245614035.\n"
     ]
    },
    {
     "name": "stdout",
     "output_type": "stream",
     "text": [
      "Accuracy: Train: 0.871 | Val: 0.632\n",
      "[E= 9] [it=  330] Train Loss: 0.595, Test Loss: 0.668\n",
      "[E=19] [it=  660] Train Loss: 0.547, Test Loss: 0.650\n"
     ]
    },
    {
     "name": "stderr",
     "output_type": "stream",
     "text": [
      "[I 2024-04-17 13:47:29,880] Trial 49 finished with value: 0.6140350877192983 and parameters: {'lr': 0.00010456135338895538, 'L2': 0.015241724293033011, 'batch_size': 4, 'nesterov': False}. Best is trial 32 with value: 0.7719298245614035.\n"
     ]
    },
    {
     "name": "stdout",
     "output_type": "stream",
     "text": [
      "Accuracy: Train: 0.697 | Val: 0.614\n",
      "[E= 9] [it=  160] Train Loss: 0.412, Test Loss: 0.676\n",
      "[E=19] [it=  320] Train Loss: 0.253, Test Loss: 1.024\n"
     ]
    },
    {
     "name": "stderr",
     "output_type": "stream",
     "text": [
      "[I 2024-04-17 13:48:17,251] Trial 50 finished with value: 0.6842105263157895 and parameters: {'lr': 0.0044365620997000995, 'L2': 2.242354611155463e-05, 'batch_size': 8, 'nesterov': True}. Best is trial 32 with value: 0.7719298245614035.\n"
     ]
    },
    {
     "name": "stdout",
     "output_type": "stream",
     "text": [
      "Accuracy: Train: 0.961 | Val: 0.684\n",
      "[E= 9] [it= 1330] Train Loss: 0.505, Test Loss: 0.669\n",
      "[E=19] [it= 2660] Train Loss: 0.361, Test Loss: 0.667\n"
     ]
    },
    {
     "name": "stderr",
     "output_type": "stream",
     "text": [
      "[I 2024-04-17 13:49:20,120] Trial 51 finished with value: 0.6842105263157895 and parameters: {'lr': 0.0002690835054409468, 'L2': 0.0001635357034337309, 'batch_size': 1, 'nesterov': True}. Best is trial 32 with value: 0.7719298245614035.\n"
     ]
    },
    {
     "name": "stdout",
     "output_type": "stream",
     "text": [
      "Accuracy: Train: 0.902 | Val: 0.684\n",
      "[E= 9] [it= 1330] Train Loss: 0.541, Test Loss: 0.638\n",
      "[E=19] [it= 2660] Train Loss: 0.349, Test Loss: 0.679\n"
     ]
    },
    {
     "name": "stderr",
     "output_type": "stream",
     "text": [
      "[I 2024-04-17 13:50:24,048] Trial 52 finished with value: 0.7017543859649122 and parameters: {'lr': 0.0002454017409786869, 'L2': 9.407635520182146e-05, 'batch_size': 1, 'nesterov': True}. Best is trial 32 with value: 0.7719298245614035.\n"
     ]
    },
    {
     "name": "stdout",
     "output_type": "stream",
     "text": [
      "Accuracy: Train: 0.865 | Val: 0.702\n",
      "[E= 9] [it= 1330] Train Loss: 0.622, Test Loss: 0.662\n",
      "[E=19] [it= 2660] Train Loss: 0.558, Test Loss: 0.654\n"
     ]
    },
    {
     "name": "stderr",
     "output_type": "stream",
     "text": [
      "[I 2024-04-17 13:51:25,964] Trial 53 finished with value: 0.5614035087719298 and parameters: {'lr': 3.5629359582287984e-05, 'L2': 0.0002725236091286591, 'batch_size': 1, 'nesterov': True}. Best is trial 32 with value: 0.7719298245614035.\n"
     ]
    },
    {
     "name": "stdout",
     "output_type": "stream",
     "text": [
      "Accuracy: Train: 0.662 | Val: 0.561\n",
      "[E= 9] [it= 1330] Train Loss: 0.467, Test Loss: 0.805\n",
      "[E=19] [it= 2660] Train Loss: 0.332, Test Loss: 0.827\n"
     ]
    },
    {
     "name": "stderr",
     "output_type": "stream",
     "text": [
      "[I 2024-04-17 13:52:32,089] Trial 54 finished with value: 0.6666666666666666 and parameters: {'lr': 0.00033029798284687015, 'L2': 0.00019665886856474186, 'batch_size': 1, 'nesterov': True}. Best is trial 32 with value: 0.7719298245614035.\n"
     ]
    },
    {
     "name": "stdout",
     "output_type": "stream",
     "text": [
      "Accuracy: Train: 0.895 | Val: 0.667\n",
      "[E= 9] [it= 1330] Train Loss: 0.490, Test Loss: 0.675\n",
      "[E=19] [it= 2660] Train Loss: 0.373, Test Loss: 0.745\n"
     ]
    },
    {
     "name": "stderr",
     "output_type": "stream",
     "text": [
      "[I 2024-04-17 13:53:35,145] Trial 55 finished with value: 0.6491228070175439 and parameters: {'lr': 0.00014903480942438303, 'L2': 0.0003816130410522649, 'batch_size': 1, 'nesterov': True}. Best is trial 32 with value: 0.7719298245614035.\n"
     ]
    },
    {
     "name": "stdout",
     "output_type": "stream",
     "text": [
      "Accuracy: Train: 0.880 | Val: 0.649\n",
      "[E= 9] [it= 1330] Train Loss: 0.406, Test Loss: 0.644\n",
      "[E=19] [it= 2660] Train Loss: 0.196, Test Loss: 0.613\n"
     ]
    },
    {
     "name": "stderr",
     "output_type": "stream",
     "text": [
      "[I 2024-04-17 13:54:32,564] Trial 56 finished with value: 0.7017543859649122 and parameters: {'lr': 0.0007402041883473212, 'L2': 0.0006341772871809469, 'batch_size': 1, 'nesterov': True}. Best is trial 32 with value: 0.7719298245614035.\n"
     ]
    },
    {
     "name": "stdout",
     "output_type": "stream",
     "text": [
      "Accuracy: Train: 0.940 | Val: 0.702\n",
      "[E= 9] [it=  160] Train Loss: 0.619, Test Loss: 0.676\n",
      "[E=19] [it=  320] Train Loss: 0.602, Test Loss: 0.670\n"
     ]
    },
    {
     "name": "stderr",
     "output_type": "stream",
     "text": [
      "[I 2024-04-17 13:55:17,577] Trial 57 finished with value: 0.543859649122807 and parameters: {'lr': 7.841898680431325e-05, 'L2': 5.7803999683392235e-05, 'batch_size': 8, 'nesterov': True}. Best is trial 32 with value: 0.7719298245614035.\n"
     ]
    },
    {
     "name": "stdout",
     "output_type": "stream",
     "text": [
      "Accuracy: Train: 0.594 | Val: 0.544\n",
      "[E= 9] [it=  330] Train Loss: 0.440, Test Loss: 0.724\n",
      "[E=19] [it=  660] Train Loss: 0.325, Test Loss: 0.653\n"
     ]
    },
    {
     "name": "stderr",
     "output_type": "stream",
     "text": [
      "[I 2024-04-17 13:56:06,778] Trial 58 finished with value: 0.6842105263157895 and parameters: {'lr': 0.0023088321733741013, 'L2': 0.0001423443258213382, 'batch_size': 4, 'nesterov': True}. Best is trial 32 with value: 0.7719298245614035.\n"
     ]
    },
    {
     "name": "stdout",
     "output_type": "stream",
     "text": [
      "Accuracy: Train: 0.970 | Val: 0.684\n",
      "[E= 9] [it= 1330] Train Loss: 0.702, Test Loss: 0.710\n",
      "[E=19] [it= 2660] Train Loss: 0.732, Test Loss: 0.690\n"
     ]
    },
    {
     "name": "stderr",
     "output_type": "stream",
     "text": [
      "[I 2024-04-17 13:57:05,788] Trial 59 finished with value: 0.543859649122807 and parameters: {'lr': 0.03706856243447149, 'L2': 0.04633444625641579, 'batch_size': 1, 'nesterov': False}. Best is trial 32 with value: 0.7719298245614035.\n"
     ]
    },
    {
     "name": "stdout",
     "output_type": "stream",
     "text": [
      "Accuracy: Train: 0.594 | Val: 0.544\n",
      "[E= 9] [it=  160] Train Loss: 0.594, Test Loss: 0.717\n",
      "[E=19] [it=  320] Train Loss: 0.484, Test Loss: 0.729\n"
     ]
    },
    {
     "name": "stderr",
     "output_type": "stream",
     "text": [
      "[I 2024-04-17 13:57:50,564] Trial 60 finished with value: 0.6140350877192983 and parameters: {'lr': 0.001419723774648054, 'L2': 0.0028194607159737002, 'batch_size': 8, 'nesterov': True}. Best is trial 32 with value: 0.7719298245614035.\n"
     ]
    },
    {
     "name": "stdout",
     "output_type": "stream",
     "text": [
      "Accuracy: Train: 0.750 | Val: 0.614\n",
      "[E= 9] [it= 1330] Train Loss: 0.563, Test Loss: 0.643\n",
      "[E=19] [it= 2660] Train Loss: 0.419, Test Loss: 0.650\n"
     ]
    },
    {
     "name": "stderr",
     "output_type": "stream",
     "text": [
      "[I 2024-04-17 13:58:44,094] Trial 61 finished with value: 0.6842105263157895 and parameters: {'lr': 0.0001880924789186792, 'L2': 0.0005262645462085664, 'batch_size': 1, 'nesterov': True}. Best is trial 32 with value: 0.7719298245614035.\n"
     ]
    },
    {
     "name": "stdout",
     "output_type": "stream",
     "text": [
      "Accuracy: Train: 0.827 | Val: 0.684\n",
      "[E= 9] [it= 1330] Train Loss: 0.464, Test Loss: 0.697\n",
      "[E=19] [it= 2660] Train Loss: 0.370, Test Loss: 0.706\n"
     ]
    },
    {
     "name": "stderr",
     "output_type": "stream",
     "text": [
      "[I 2024-04-17 13:59:32,159] Trial 62 finished with value: 0.6666666666666666 and parameters: {'lr': 0.00012789465555429122, 'L2': 0.00045310826368477613, 'batch_size': 1, 'nesterov': True}. Best is trial 32 with value: 0.7719298245614035.\n"
     ]
    },
    {
     "name": "stdout",
     "output_type": "stream",
     "text": [
      "Accuracy: Train: 0.880 | Val: 0.667\n",
      "[E= 9] [it= 1330] Train Loss: 0.530, Test Loss: 0.791\n",
      "[E=19] [it= 2660] Train Loss: 0.433, Test Loss: 0.633\n"
     ]
    },
    {
     "name": "stderr",
     "output_type": "stream",
     "text": [
      "[I 2024-04-17 14:00:25,195] Trial 63 finished with value: 0.6666666666666666 and parameters: {'lr': 0.00020807455997291376, 'L2': 0.0012295295391865494, 'batch_size': 1, 'nesterov': True}. Best is trial 32 with value: 0.7719298245614035.\n"
     ]
    },
    {
     "name": "stdout",
     "output_type": "stream",
     "text": [
      "Accuracy: Train: 0.880 | Val: 0.667\n",
      "[E= 9] [it= 1330] Train Loss: 0.444, Test Loss: 0.714\n",
      "[E=19] [it= 2660] Train Loss: 0.282, Test Loss: 1.140\n"
     ]
    },
    {
     "name": "stderr",
     "output_type": "stream",
     "text": [
      "[I 2024-04-17 14:01:18,131] Trial 64 finished with value: 0.631578947368421 and parameters: {'lr': 0.0005074184728067184, 'L2': 0.00025642661223441873, 'batch_size': 1, 'nesterov': True}. Best is trial 32 with value: 0.7719298245614035.\n"
     ]
    },
    {
     "name": "stdout",
     "output_type": "stream",
     "text": [
      "Accuracy: Train: 0.820 | Val: 0.632\n",
      "[E= 9] [it=  660] Train Loss: 0.550, Test Loss: 0.663\n",
      "[E=19] [it= 1320] Train Loss: 0.395, Test Loss: 0.693\n"
     ]
    },
    {
     "name": "stderr",
     "output_type": "stream",
     "text": [
      "[I 2024-04-17 14:02:06,320] Trial 65 finished with value: 0.7017543859649122 and parameters: {'lr': 0.0003333755250910671, 'L2': 8.02674947002429e-05, 'batch_size': 2, 'nesterov': True}. Best is trial 32 with value: 0.7719298245614035.\n"
     ]
    },
    {
     "name": "stdout",
     "output_type": "stream",
     "text": [
      "Accuracy: Train: 0.864 | Val: 0.702\n",
      "[E= 9] [it= 1330] Train Loss: 0.566, Test Loss: 0.792\n",
      "[E=19] [it= 2660] Train Loss: 0.247, Test Loss: 1.006\n"
     ]
    },
    {
     "name": "stderr",
     "output_type": "stream",
     "text": [
      "[I 2024-04-17 14:03:05,496] Trial 66 finished with value: 0.6666666666666666 and parameters: {'lr': 0.0031071292838686713, 'L2': 4.238265573141683e-05, 'batch_size': 1, 'nesterov': True}. Best is trial 32 with value: 0.7719298245614035.\n"
     ]
    },
    {
     "name": "stdout",
     "output_type": "stream",
     "text": [
      "Accuracy: Train: 0.955 | Val: 0.667\n",
      "[E= 9] [it=  330] Train Loss: 0.500, Test Loss: 0.605\n",
      "[E=19] [it=  660] Train Loss: 0.267, Test Loss: 1.114\n"
     ]
    },
    {
     "name": "stderr",
     "output_type": "stream",
     "text": [
      "[I 2024-04-17 14:03:46,764] Trial 67 finished with value: 0.6666666666666666 and parameters: {'lr': 0.0011504950080599514, 'L2': 0.0006419562139244511, 'batch_size': 4, 'nesterov': True}. Best is trial 32 with value: 0.7719298245614035.\n"
     ]
    },
    {
     "name": "stdout",
     "output_type": "stream",
     "text": [
      "Accuracy: Train: 0.871 | Val: 0.667\n",
      "[E= 9] [it= 1330] Train Loss: 0.525, Test Loss: 0.633\n",
      "[E=19] [it= 2660] Train Loss: 0.355, Test Loss: 0.740\n"
     ]
    },
    {
     "name": "stderr",
     "output_type": "stream",
     "text": [
      "[I 2024-04-17 14:04:36,749] Trial 68 finished with value: 0.631578947368421 and parameters: {'lr': 0.0002661688117381419, 'L2': 0.0009853157797143864, 'batch_size': 1, 'nesterov': True}. Best is trial 32 with value: 0.7719298245614035.\n"
     ]
    },
    {
     "name": "stdout",
     "output_type": "stream",
     "text": [
      "Accuracy: Train: 0.820 | Val: 0.632\n",
      "[E= 9] [it=  160] Train Loss: 0.593, Test Loss: 0.666\n",
      "[E=19] [it=  320] Train Loss: 0.486, Test Loss: 0.628\n"
     ]
    },
    {
     "name": "stderr",
     "output_type": "stream",
     "text": [
      "[I 2024-04-17 14:05:14,581] Trial 69 finished with value: 0.6491228070175439 and parameters: {'lr': 0.0006248423060598074, 'L2': 0.0021406296807114306, 'batch_size': 8, 'nesterov': False}. Best is trial 32 with value: 0.7719298245614035.\n"
     ]
    },
    {
     "name": "stdout",
     "output_type": "stream",
     "text": [
      "Accuracy: Train: 0.750 | Val: 0.649\n",
      "[E= 9] [it= 1330] Train Loss: 0.487, Test Loss: 0.641\n",
      "[E=19] [it= 2660] Train Loss: 0.289, Test Loss: 0.867\n"
     ]
    },
    {
     "name": "stderr",
     "output_type": "stream",
     "text": [
      "[I 2024-04-17 14:06:04,131] Trial 70 finished with value: 0.6666666666666666 and parameters: {'lr': 0.00042402411144617445, 'L2': 0.00020791439511175534, 'batch_size': 1, 'nesterov': True}. Best is trial 32 with value: 0.7719298245614035.\n"
     ]
    },
    {
     "name": "stdout",
     "output_type": "stream",
     "text": [
      "Accuracy: Train: 0.910 | Val: 0.667\n",
      "[E= 9] [it= 1330] Train Loss: 0.440, Test Loss: 0.638\n",
      "[E=19] [it= 2660] Train Loss: 0.216, Test Loss: 0.747\n"
     ]
    },
    {
     "name": "stderr",
     "output_type": "stream",
     "text": [
      "[I 2024-04-17 14:06:53,826] Trial 71 finished with value: 0.6491228070175439 and parameters: {'lr': 0.0009317799939199099, 'L2': 0.0015395910374400006, 'batch_size': 1, 'nesterov': True}. Best is trial 32 with value: 0.7719298245614035.\n"
     ]
    },
    {
     "name": "stdout",
     "output_type": "stream",
     "text": [
      "Accuracy: Train: 0.962 | Val: 0.649\n",
      "[E= 9] [it= 1330] Train Loss: 0.364, Test Loss: 0.908\n",
      "[E=19] [it= 2660] Train Loss: 0.153, Test Loss: 1.675\n"
     ]
    },
    {
     "name": "stderr",
     "output_type": "stream",
     "text": [
      "[I 2024-04-17 14:07:43,848] Trial 72 finished with value: 0.5789473684210527 and parameters: {'lr': 0.0015712048532675524, 'L2': 0.0003569566753260948, 'batch_size': 1, 'nesterov': True}. Best is trial 32 with value: 0.7719298245614035.\n"
     ]
    },
    {
     "name": "stdout",
     "output_type": "stream",
     "text": [
      "Accuracy: Train: 0.910 | Val: 0.579\n",
      "[E= 9] [it= 1330] Train Loss: 0.418, Test Loss: 0.589\n",
      "[E=19] [it= 2660] Train Loss: 0.247, Test Loss: 1.146\n"
     ]
    },
    {
     "name": "stderr",
     "output_type": "stream",
     "text": [
      "[I 2024-04-17 14:08:33,532] Trial 73 finished with value: 0.6140350877192983 and parameters: {'lr': 0.0008049762085333132, 'L2': 0.0001326354240093821, 'batch_size': 1, 'nesterov': True}. Best is trial 32 with value: 0.7719298245614035.\n"
     ]
    },
    {
     "name": "stdout",
     "output_type": "stream",
     "text": [
      "Accuracy: Train: 0.910 | Val: 0.614\n",
      "[E= 9] [it=  330] Train Loss: 0.446, Test Loss: 0.780\n",
      "[E=19] [it=  660] Train Loss: 0.252, Test Loss: 1.386\n"
     ]
    },
    {
     "name": "stderr",
     "output_type": "stream",
     "text": [
      "[I 2024-04-17 14:09:18,091] Trial 74 finished with value: 0.5964912280701754 and parameters: {'lr': 0.0011858333294102912, 'L2': 0.0007207694414034791, 'batch_size': 4, 'nesterov': True}. Best is trial 32 with value: 0.7719298245614035.\n"
     ]
    },
    {
     "name": "stdout",
     "output_type": "stream",
     "text": [
      "Accuracy: Train: 0.750 | Val: 0.596\n",
      "[E= 9] [it= 1330] Train Loss: 0.490, Test Loss: 0.644\n",
      "[E=19] [it= 2660] Train Loss: 0.374, Test Loss: 0.697\n"
     ]
    },
    {
     "name": "stderr",
     "output_type": "stream",
     "text": [
      "[I 2024-04-17 14:10:09,354] Trial 75 finished with value: 0.7192982456140351 and parameters: {'lr': 0.0005173868454651394, 'L2': 0.003724623238453288, 'batch_size': 1, 'nesterov': True}. Best is trial 32 with value: 0.7719298245614035.\n"
     ]
    },
    {
     "name": "stdout",
     "output_type": "stream",
     "text": [
      "Accuracy: Train: 0.887 | Val: 0.719\n",
      "[E= 9] [it= 1330] Train Loss: 0.441, Test Loss: 0.737\n",
      "[E=19] [it= 2660] Train Loss: 0.272, Test Loss: 0.549\n"
     ]
    },
    {
     "name": "stderr",
     "output_type": "stream",
     "text": [
      "[I 2024-04-17 14:10:59,825] Trial 76 finished with value: 0.7543859649122807 and parameters: {'lr': 0.0005698118260376809, 'L2': 0.003113009845714514, 'batch_size': 1, 'nesterov': True}. Best is trial 32 with value: 0.7719298245614035.\n"
     ]
    },
    {
     "name": "stdout",
     "output_type": "stream",
     "text": [
      "Accuracy: Train: 0.917 | Val: 0.754\n",
      "[E= 9] [it= 1330] Train Loss: 0.577, Test Loss: 0.654\n",
      "[E=19] [it= 2660] Train Loss: 0.473, Test Loss: 0.746\n"
     ]
    },
    {
     "name": "stderr",
     "output_type": "stream",
     "text": [
      "[I 2024-04-17 14:11:50,210] Trial 77 finished with value: 0.5789473684210527 and parameters: {'lr': 0.00014080168561402583, 'L2': 0.005354752555617886, 'batch_size': 1, 'nesterov': True}. Best is trial 32 with value: 0.7719298245614035.\n"
     ]
    },
    {
     "name": "stdout",
     "output_type": "stream",
     "text": [
      "Accuracy: Train: 0.714 | Val: 0.579\n",
      "[E= 9] [it=  660] Train Loss: 0.500, Test Loss: 0.694\n",
      "[E=19] [it= 1320] Train Loss: 0.354, Test Loss: 0.775\n"
     ]
    },
    {
     "name": "stderr",
     "output_type": "stream",
     "text": [
      "[I 2024-04-17 14:12:37,156] Trial 78 finished with value: 0.5964912280701754 and parameters: {'lr': 0.0003033344570118638, 'L2': 0.0077396438277498114, 'batch_size': 2, 'nesterov': True}. Best is trial 32 with value: 0.7719298245614035.\n"
     ]
    },
    {
     "name": "stdout",
     "output_type": "stream",
     "text": [
      "Accuracy: Train: 0.795 | Val: 0.596\n",
      "[E= 9] [it=  160] Train Loss: 0.648, Test Loss: 0.690\n",
      "[E=19] [it=  320] Train Loss: 0.620, Test Loss: 0.694\n"
     ]
    },
    {
     "name": "stderr",
     "output_type": "stream",
     "text": [
      "[I 2024-04-17 14:13:15,977] Trial 79 finished with value: 0.543859649122807 and parameters: {'lr': 9.639701174824691e-05, 'L2': 0.0009918982587927842, 'batch_size': 8, 'nesterov': True}. Best is trial 32 with value: 0.7719298245614035.\n"
     ]
    },
    {
     "name": "stdout",
     "output_type": "stream",
     "text": [
      "Accuracy: Train: 0.594 | Val: 0.544\n",
      "[E= 9] [it= 1330] Train Loss: 0.441, Test Loss: 0.758\n",
      "[E=19] [it= 2660] Train Loss: 0.265, Test Loss: 1.026\n"
     ]
    },
    {
     "name": "stderr",
     "output_type": "stream",
     "text": [
      "[I 2024-04-17 14:14:04,652] Trial 80 finished with value: 0.6140350877192983 and parameters: {'lr': 0.000406475368763867, 'L2': 2.6495016053355347e-05, 'batch_size': 1, 'nesterov': False}. Best is trial 32 with value: 0.7719298245614035.\n"
     ]
    },
    {
     "name": "stdout",
     "output_type": "stream",
     "text": [
      "Accuracy: Train: 0.865 | Val: 0.614\n",
      "[E= 9] [it= 1330] Train Loss: 0.430, Test Loss: 0.745\n",
      "[E=19] [it= 2660] Train Loss: 0.260, Test Loss: 1.346\n"
     ]
    },
    {
     "name": "stderr",
     "output_type": "stream",
     "text": [
      "[I 2024-04-17 14:14:51,407] Trial 81 finished with value: 0.6666666666666666 and parameters: {'lr': 0.0005516127075813118, 'L2': 0.0031919561987529023, 'batch_size': 1, 'nesterov': True}. Best is trial 32 with value: 0.7719298245614035.\n"
     ]
    },
    {
     "name": "stdout",
     "output_type": "stream",
     "text": [
      "Accuracy: Train: 0.797 | Val: 0.667\n",
      "[E= 9] [it= 1330] Train Loss: 0.476, Test Loss: 0.643\n",
      "[E=19] [it= 2660] Train Loss: 0.340, Test Loss: 0.671\n"
     ]
    },
    {
     "name": "stderr",
     "output_type": "stream",
     "text": [
      "[I 2024-04-17 14:15:37,795] Trial 82 finished with value: 0.7368421052631579 and parameters: {'lr': 0.00021805088890996198, 'L2': 0.002526104370645721, 'batch_size': 1, 'nesterov': True}. Best is trial 32 with value: 0.7719298245614035.\n"
     ]
    },
    {
     "name": "stdout",
     "output_type": "stream",
     "text": [
      "Accuracy: Train: 0.917 | Val: 0.737\n",
      "[E= 9] [it= 1330] Train Loss: 0.481, Test Loss: 0.613\n",
      "[E=19] [it= 2660] Train Loss: 0.305, Test Loss: 0.657\n"
     ]
    },
    {
     "name": "stderr",
     "output_type": "stream",
     "text": [
      "[I 2024-04-17 14:16:24,730] Trial 83 finished with value: 0.7192982456140351 and parameters: {'lr': 0.0002123014188738629, 'L2': 0.0022549321083695545, 'batch_size': 1, 'nesterov': True}. Best is trial 32 with value: 0.7719298245614035.\n"
     ]
    },
    {
     "name": "stdout",
     "output_type": "stream",
     "text": [
      "Accuracy: Train: 0.940 | Val: 0.719\n",
      "[E= 9] [it= 1330] Train Loss: 0.429, Test Loss: 0.633\n",
      "[E=19] [it= 2660] Train Loss: 0.264, Test Loss: 0.732\n"
     ]
    },
    {
     "name": "stderr",
     "output_type": "stream",
     "text": [
      "[I 2024-04-17 14:17:11,491] Trial 84 finished with value: 0.6842105263157895 and parameters: {'lr': 0.0006455473471819668, 'L2': 0.0016436035007597629, 'batch_size': 1, 'nesterov': True}. Best is trial 32 with value: 0.7719298245614035.\n"
     ]
    },
    {
     "name": "stdout",
     "output_type": "stream",
     "text": [
      "Accuracy: Train: 0.955 | Val: 0.684\n",
      "[E= 9] [it=  330] Train Loss: 0.619, Test Loss: 0.662\n",
      "[E=19] [it=  660] Train Loss: 0.583, Test Loss: 0.655\n"
     ]
    },
    {
     "name": "stderr",
     "output_type": "stream",
     "text": [
      "[I 2024-04-17 14:17:53,193] Trial 85 finished with value: 0.5614035087719298 and parameters: {'lr': 0.00018255273526591447, 'L2': 0.004757063440027971, 'batch_size': 4, 'nesterov': True}. Best is trial 32 with value: 0.7719298245614035.\n"
     ]
    },
    {
     "name": "stdout",
     "output_type": "stream",
     "text": [
      "Accuracy: Train: 0.667 | Val: 0.561\n",
      "[E= 9] [it= 1330] Train Loss: 0.523, Test Loss: 0.673\n",
      "[E=19] [it= 2660] Train Loss: 0.292, Test Loss: 1.045\n"
     ]
    },
    {
     "name": "stderr",
     "output_type": "stream",
     "text": [
      "[I 2024-04-17 14:18:45,801] Trial 86 finished with value: 0.6842105263157895 and parameters: {'lr': 0.0004196086732832799, 'L2': 0.0018356440834702825, 'batch_size': 1, 'nesterov': True}. Best is trial 32 with value: 0.7719298245614035.\n"
     ]
    },
    {
     "name": "stdout",
     "output_type": "stream",
     "text": [
      "Accuracy: Train: 0.872 | Val: 0.684\n",
      "[E= 9] [it= 1330] Train Loss: 0.567, Test Loss: 0.690\n",
      "[E=19] [it= 2660] Train Loss: 0.397, Test Loss: 0.648\n"
     ]
    },
    {
     "name": "stderr",
     "output_type": "stream",
     "text": [
      "[I 2024-04-17 14:19:35,039] Trial 87 finished with value: 0.7017543859649122 and parameters: {'lr': 0.00011610954969705592, 'L2': 1.7914987597417808e-05, 'batch_size': 1, 'nesterov': True}. Best is trial 32 with value: 0.7719298245614035.\n"
     ]
    },
    {
     "name": "stdout",
     "output_type": "stream",
     "text": [
      "Accuracy: Train: 0.880 | Val: 0.702\n",
      "[E= 9] [it=  160] Train Loss: 0.634, Test Loss: 0.682\n",
      "[E=19] [it=  320] Train Loss: 0.622, Test Loss: 0.666\n"
     ]
    },
    {
     "name": "stderr",
     "output_type": "stream",
     "text": [
      "[I 2024-04-17 14:20:11,820] Trial 88 finished with value: 0.543859649122807 and parameters: {'lr': 7.859225328147864e-05, 'L2': 0.00271542010113445, 'batch_size': 8, 'nesterov': True}. Best is trial 32 with value: 0.7719298245614035.\n"
     ]
    },
    {
     "name": "stdout",
     "output_type": "stream",
     "text": [
      "Accuracy: Train: 0.586 | Val: 0.544\n",
      "[E= 9] [it= 1330] Train Loss: 0.482, Test Loss: 0.627\n",
      "[E=19] [it= 2660] Train Loss: 0.318, Test Loss: 0.835\n"
     ]
    },
    {
     "name": "stderr",
     "output_type": "stream",
     "text": [
      "[I 2024-04-17 14:21:00,625] Trial 89 finished with value: 0.7017543859649122 and parameters: {'lr': 0.0002890806711388458, 'L2': 0.00010662251828966383, 'batch_size': 1, 'nesterov': True}. Best is trial 32 with value: 0.7719298245614035.\n"
     ]
    },
    {
     "name": "stdout",
     "output_type": "stream",
     "text": [
      "Accuracy: Train: 0.902 | Val: 0.702\n",
      "[E= 9] [it=  330] Train Loss: 0.427, Test Loss: 1.021\n",
      "[E=19] [it=  660] Train Loss: 0.225, Test Loss: 1.167\n"
     ]
    },
    {
     "name": "stderr",
     "output_type": "stream",
     "text": [
      "[I 2024-04-17 14:21:44,537] Trial 90 finished with value: 0.631578947368421 and parameters: {'lr': 0.0017704633987295527, 'L2': 0.0005134108068918919, 'batch_size': 4, 'nesterov': True}. Best is trial 32 with value: 0.7719298245614035.\n"
     ]
    },
    {
     "name": "stdout",
     "output_type": "stream",
     "text": [
      "Accuracy: Train: 0.902 | Val: 0.632\n",
      "[E= 9] [it= 1330] Train Loss: 0.424, Test Loss: 0.991\n",
      "[E=19] [it= 2660] Train Loss: 0.242, Test Loss: 0.871\n"
     ]
    },
    {
     "name": "stderr",
     "output_type": "stream",
     "text": [
      "[I 2024-04-17 14:22:41,285] Trial 91 finished with value: 0.6842105263157895 and parameters: {'lr': 0.00047994795594834646, 'L2': 0.0032993195145841407, 'batch_size': 1, 'nesterov': True}. Best is trial 32 with value: 0.7719298245614035.\n"
     ]
    },
    {
     "name": "stdout",
     "output_type": "stream",
     "text": [
      "Accuracy: Train: 0.940 | Val: 0.684\n",
      "[E= 9] [it= 1330] Train Loss: 0.450, Test Loss: 0.660\n",
      "[E=19] [it= 2660] Train Loss: 0.217, Test Loss: 0.805\n"
     ]
    },
    {
     "name": "stderr",
     "output_type": "stream",
     "text": [
      "[I 2024-04-17 14:23:31,257] Trial 92 finished with value: 0.6491228070175439 and parameters: {'lr': 0.0008390336927330354, 'L2': 0.010845057306044367, 'batch_size': 1, 'nesterov': True}. Best is trial 32 with value: 0.7719298245614035.\n"
     ]
    },
    {
     "name": "stdout",
     "output_type": "stream",
     "text": [
      "Accuracy: Train: 0.925 | Val: 0.649\n",
      "[E= 9] [it= 1330] Train Loss: 0.541, Test Loss: 0.627\n",
      "[E=19] [it= 2660] Train Loss: 0.351, Test Loss: 0.882\n"
     ]
    },
    {
     "name": "stderr",
     "output_type": "stream",
     "text": [
      "[I 2024-04-17 14:24:21,102] Trial 93 finished with value: 0.5789473684210527 and parameters: {'lr': 0.00023815786356542958, 'L2': 0.006242475187120171, 'batch_size': 1, 'nesterov': True}. Best is trial 32 with value: 0.7719298245614035.\n"
     ]
    },
    {
     "name": "stdout",
     "output_type": "stream",
     "text": [
      "Accuracy: Train: 0.789 | Val: 0.579\n",
      "[E= 9] [it= 1330] Train Loss: 0.485, Test Loss: 0.688\n",
      "[E=19] [it= 2660] Train Loss: 0.313, Test Loss: 0.822\n"
     ]
    },
    {
     "name": "stderr",
     "output_type": "stream",
     "text": [
      "[I 2024-04-17 14:25:11,246] Trial 94 finished with value: 0.7017543859649122 and parameters: {'lr': 0.0003557777373987801, 'L2': 0.004574218549225994, 'batch_size': 1, 'nesterov': True}. Best is trial 32 with value: 0.7719298245614035.\n"
     ]
    },
    {
     "name": "stdout",
     "output_type": "stream",
     "text": [
      "Accuracy: Train: 0.902 | Val: 0.702\n",
      "[E= 9] [it= 1330] Train Loss: 0.425, Test Loss: 0.698\n",
      "[E=19] [it= 2660] Train Loss: 0.298, Test Loss: 1.015\n"
     ]
    },
    {
     "name": "stderr",
     "output_type": "stream",
     "text": [
      "[I 2024-04-17 14:26:02,749] Trial 95 finished with value: 0.5789473684210527 and parameters: {'lr': 0.0006333980536239081, 'L2': 0.003929620865238609, 'batch_size': 1, 'nesterov': True}. Best is trial 32 with value: 0.7719298245614035.\n"
     ]
    },
    {
     "name": "stdout",
     "output_type": "stream",
     "text": [
      "Accuracy: Train: 0.835 | Val: 0.579\n",
      "[E= 9] [it= 1330] Train Loss: 0.553, Test Loss: 0.639\n",
      "[E=19] [it= 2660] Train Loss: 0.410, Test Loss: 0.654\n"
     ]
    },
    {
     "name": "stderr",
     "output_type": "stream",
     "text": [
      "[I 2024-04-17 14:26:56,891] Trial 96 finished with value: 0.6842105263157895 and parameters: {'lr': 0.0001660750876231245, 'L2': 0.0012528715543268741, 'batch_size': 1, 'nesterov': True}. Best is trial 32 with value: 0.7719298245614035.\n"
     ]
    },
    {
     "name": "stdout",
     "output_type": "stream",
     "text": [
      "Accuracy: Train: 0.842 | Val: 0.684\n",
      "[E= 9] [it= 1330] Train Loss: 0.355, Test Loss: 0.735\n",
      "[E=19] [it= 2660] Train Loss: 0.178, Test Loss: 1.238\n"
     ]
    },
    {
     "name": "stderr",
     "output_type": "stream",
     "text": [
      "[I 2024-04-17 14:27:44,875] Trial 97 finished with value: 0.5789473684210527 and parameters: {'lr': 0.0010804332023943986, 'L2': 0.000292122814757487, 'batch_size': 1, 'nesterov': True}. Best is trial 32 with value: 0.7719298245614035.\n"
     ]
    },
    {
     "name": "stdout",
     "output_type": "stream",
     "text": [
      "Accuracy: Train: 0.955 | Val: 0.579\n",
      "[E= 9] [it=  660] Train Loss: 0.478, Test Loss: 0.834\n",
      "[E=19] [it= 1320] Train Loss: 0.291, Test Loss: 0.774\n"
     ]
    },
    {
     "name": "stderr",
     "output_type": "stream",
     "text": [
      "[I 2024-04-17 14:28:27,690] Trial 98 finished with value: 0.7192982456140351 and parameters: {'lr': 0.00050737745855469, 'L2': 0.001390631369593185, 'batch_size': 2, 'nesterov': True}. Best is trial 32 with value: 0.7719298245614035.\n"
     ]
    },
    {
     "name": "stdout",
     "output_type": "stream",
     "text": [
      "Accuracy: Train: 0.932 | Val: 0.719\n",
      "[E= 9] [it=  160] Train Loss: 0.500, Test Loss: 0.642\n",
      "[E=19] [it=  320] Train Loss: 0.320, Test Loss: 0.755\n"
     ]
    },
    {
     "name": "stderr",
     "output_type": "stream",
     "text": [
      "[I 2024-04-17 14:29:05,577] Trial 99 finished with value: 0.6491228070175439 and parameters: {'lr': 0.0012330908220457406, 'L2': 0.0026248800273418285, 'batch_size': 8, 'nesterov': False}. Best is trial 32 with value: 0.7719298245614035.\n"
     ]
    },
    {
     "name": "stdout",
     "output_type": "stream",
     "text": [
      "Accuracy: Train: 0.766 | Val: 0.649\n",
      "Best trial:\n",
      " Value: 0.7719298245614035\n",
      " Params: \n",
      "    lr: 0.0004373421964001183\n",
      "    L2: 0.0021473396343419083\n",
      "    batch_size: 1\n",
      "    nesterov: True\n"
     ]
    }
   ],
   "source": [
    "def objective_SGD(trial):\n",
    "\n",
    "    # Trial configuration\n",
    "    # Name for run\n",
    "    run_name = \"Optuna-Test\"\n",
    "    # How many epochs before saving progress\n",
    "    checkpoint_interval = 10\n",
    "    #Number of epochs\n",
    "    Num_Epochs = 20\n",
    "    ## Loss\n",
    "    criterion = nn.CrossEntropyLoss()\n",
    "\n",
    "    ##############################################\n",
    "    # Hyperparameters search spaces\n",
    "    # Learning rate\n",
    "    lr = trial.suggest_float(\"lr\", 1e-5, 1e-1, log=True)\n",
    "    # L2 Normalization lambda\n",
    "    weight_decay = trial.suggest_float(\"L2\", 1e-5, 1e-1, log=True)\n",
    "    # Batch size\n",
    "    batch_size = trial.suggest_categorical(\"batch_size\", [1, 2, 4, 8])\n",
    "    momentum = 0.9\n",
    "    nesterov = trial.suggest_categorical(\"nesterov\", [True, False])\n",
    "    \n",
    "\n",
    "    #################################################\n",
    "    # Generate data loader based on new batch size\n",
    "    train_loader = torch.utils.data.DataLoader(dataset=splits[1], shuffle=True, num_workers=0,\n",
    "                                           batch_size=batch_size, drop_last=True)\n",
    "    val_loader = torch.utils.data.DataLoader(dataset=splits[0], shuffle=True, num_workers=0,\n",
    "                                           batch_size=1, drop_last=True)\n",
    "\n",
    "    #################################################\n",
    "    # Create network architecture\n",
    "\n",
    "    model = ConvNetWithoutDropout(len(data.classes))\n",
    "\n",
    "    # Initialize model weights\n",
    "    model.apply(init_weights)\n",
    "\n",
    "    ## Optimizer\n",
    "    optimizer = optim.SGD(model.parameters(), lr=lr, weight_decay=weight_decay, momentum=momentum, nesterov=nesterov)\n",
    "    # optimizer = optim.Adam(model.parameters(), lr=learning_rate, weight_decay=weight_decay, betas=adam_betas)\n",
    "\n",
    "    \n",
    "    #################################################\n",
    "    # Train model\n",
    "    model_final, trainloss, valloss = train_model(train_loader=train_loader, val_loader=val_loader, model=model,\n",
    "                                            criterion=criterion, optimizer=optimizer, Num_Epochs=Num_Epochs, checkpoint_interval=checkpoint_interval, run_name=run_name)\n",
    "\n",
    "    # Output model performance\n",
    "    #tr_acc = get_accuracy(net=model_final, data_loader=train_loader)\n",
    "    \n",
    "    tr_acc = get_accuracy(net=model_final, data_loader=train_loader)\n",
    "    val_acc = get_accuracy(net=model_final, data_loader=val_loader)\n",
    "    print(f\"Accuracy: Train: {tr_acc:.3f} | Val: {val_acc:0.3f}\" )\n",
    "    \n",
    "    # The objective function needs to return the metric to minimize or maximize\n",
    "    return val_acc\n",
    "\n",
    "study = optuna.create_study(direction=\"maximize\", study_name=\"SGD-Binary-Art\")\n",
    "study.optimize(objective_SGD, n_trials=100)\n",
    "\n",
    "print(\"Best trial:\")\n",
    "trial = study.best_trial\n",
    "print(f\" Value: {trial.value}\")\n",
    "print(\" Params: \")\n",
    "for key, value in trial.params.items():\n",
    "    print(f\"    {key}: {value}\")"
   ]
  },
  {
   "cell_type": "markdown",
   "metadata": {},
   "source": [
    "Hyperparameter Tuning"
   ]
  },
  {
   "cell_type": "code",
   "execution_count": 229,
   "metadata": {},
   "outputs": [
    {
     "name": "stderr",
     "output_type": "stream",
     "text": [
      "[I 2024-04-17 10:34:27,516] A new study created in memory with name: Adam-binary-art\n",
      "/tmp/ipykernel_12822/1099974826.py:5: UserWarning: nn.init.xavier_uniform is now deprecated in favor of nn.init.xavier_uniform_.\n",
      "  torch.nn.init.xavier_uniform(m.weight)\n"
     ]
    },
    {
     "name": "stdout",
     "output_type": "stream",
     "text": [
      "[E= 9] [it= 1330] Train Loss: 0.678, Test Loss: 0.689\n",
      "[E=19] [it= 2660] Train Loss: 0.677, Test Loss: 0.693\n"
     ]
    },
    {
     "name": "stderr",
     "output_type": "stream",
     "text": [
      "[I 2024-04-17 10:35:36,279] Trial 0 finished with value: 0.543859649122807 and parameters: {'lr': 0.002501672097154095, 'L2': 0.023004299431547307, 'batch_size': 1, 'beta1': 0.11559601299977049, 'beta2': 0.0009126084133303645}. Best is trial 0 with value: 0.543859649122807.\n"
     ]
    },
    {
     "name": "stdout",
     "output_type": "stream",
     "text": [
      "Accuracy: Train: 0.594 | Val: 0.544\n",
      "[E= 9] [it=  660] Train Loss: 0.681, Test Loss: 0.692\n",
      "[E=19] [it= 1320] Train Loss: 0.682, Test Loss: 0.691\n"
     ]
    },
    {
     "name": "stderr",
     "output_type": "stream",
     "text": [
      "[I 2024-04-17 10:36:22,532] Trial 1 finished with value: 0.543859649122807 and parameters: {'lr': 0.007043736643353604, 'L2': 1.8265906327419763e-05, 'batch_size': 2, 'beta1': 0.09613360468456882, 'beta2': 2.604637329887211e-05}. Best is trial 0 with value: 0.543859649122807.\n"
     ]
    },
    {
     "name": "stdout",
     "output_type": "stream",
     "text": [
      "Accuracy: Train: 0.598 | Val: 0.544\n",
      "[E= 9] [it=  330] Train Loss: 0.511, Test Loss: 0.659\n",
      "[E=19] [it=  660] Train Loss: 0.420, Test Loss: 0.615\n"
     ]
    },
    {
     "name": "stderr",
     "output_type": "stream",
     "text": [
      "[I 2024-04-17 10:37:03,988] Trial 2 finished with value: 0.6491228070175439 and parameters: {'lr': 2.7028541463214895e-05, 'L2': 0.00010104317013545729, 'batch_size': 4, 'beta1': 0.13884853245512563, 'beta2': 0.0002710194225770937}. Best is trial 2 with value: 0.6491228070175439.\n"
     ]
    },
    {
     "name": "stdout",
     "output_type": "stream",
     "text": [
      "Accuracy: Train: 0.811 | Val: 0.649\n",
      "[E= 9] [it=  330] Train Loss: 0.615, Test Loss: 0.652\n",
      "[E=19] [it=  660] Train Loss: 0.542, Test Loss: 0.641\n"
     ]
    },
    {
     "name": "stderr",
     "output_type": "stream",
     "text": [
      "[I 2024-04-17 10:37:45,166] Trial 3 finished with value: 0.5964912280701754 and parameters: {'lr': 1.8668683088786566e-05, 'L2': 0.0001765933463478734, 'batch_size': 4, 'beta1': 0.13477923973636627, 'beta2': 0.00013459018790539616}. Best is trial 2 with value: 0.6491228070175439.\n"
     ]
    },
    {
     "name": "stdout",
     "output_type": "stream",
     "text": [
      "Accuracy: Train: 0.720 | Val: 0.596\n",
      "[E= 9] [it=  330] Train Loss: 0.677, Test Loss: 0.694\n",
      "[E=19] [it=  660] Train Loss: 0.678, Test Loss: 0.696\n"
     ]
    },
    {
     "name": "stderr",
     "output_type": "stream",
     "text": [
      "[I 2024-04-17 10:38:26,442] Trial 4 finished with value: 0.543859649122807 and parameters: {'lr': 0.015717381819417363, 'L2': 0.023512893244703775, 'batch_size': 4, 'beta1': 0.059341959790106924, 'beta2': 0.0003651413900648221}. Best is trial 2 with value: 0.6491228070175439.\n"
     ]
    },
    {
     "name": "stdout",
     "output_type": "stream",
     "text": [
      "Accuracy: Train: 0.598 | Val: 0.544\n",
      "[E= 9] [it= 1330] Train Loss: 0.554, Test Loss: 0.654\n",
      "[E=19] [it= 2660] Train Loss: 0.468, Test Loss: 0.645\n"
     ]
    },
    {
     "name": "stderr",
     "output_type": "stream",
     "text": [
      "[I 2024-04-17 10:39:18,296] Trial 5 finished with value: 0.5789473684210527 and parameters: {'lr': 1.1931914454443517e-05, 'L2': 3.198168783214852e-05, 'batch_size': 1, 'beta1': 0.09754660379097031, 'beta2': 0.00010300009854050628}. Best is trial 2 with value: 0.6491228070175439.\n"
     ]
    },
    {
     "name": "stdout",
     "output_type": "stream",
     "text": [
      "Accuracy: Train: 0.752 | Val: 0.579\n",
      "[E= 9] [it=  160] Train Loss: 0.520, Test Loss: 0.738\n",
      "[E=19] [it=  320] Train Loss: 0.316, Test Loss: 0.754\n"
     ]
    },
    {
     "name": "stderr",
     "output_type": "stream",
     "text": [
      "[I 2024-04-17 10:39:55,799] Trial 6 finished with value: 0.7017543859649122 and parameters: {'lr': 0.0016001666439648195, 'L2': 0.02719309619205578, 'batch_size': 8, 'beta1': 0.12554472219801713, 'beta2': 8.329615845320907e-05}. Best is trial 6 with value: 0.7017543859649122.\n"
     ]
    },
    {
     "name": "stdout",
     "output_type": "stream",
     "text": [
      "Accuracy: Train: 0.875 | Val: 0.702\n",
      "[E= 9] [it=  660] Train Loss: 0.591, Test Loss: 0.688\n",
      "[E=19] [it= 1320] Train Loss: 0.553, Test Loss: 0.663\n"
     ]
    },
    {
     "name": "stderr",
     "output_type": "stream",
     "text": [
      "[I 2024-04-17 10:40:42,896] Trial 7 finished with value: 0.5789473684210527 and parameters: {'lr': 0.0002685641078041876, 'L2': 0.07762370264596855, 'batch_size': 2, 'beta1': 0.1402278861209577, 'beta2': 1.439692833008594e-05}. Best is trial 6 with value: 0.7017543859649122.\n"
     ]
    },
    {
     "name": "stdout",
     "output_type": "stream",
     "text": [
      "Accuracy: Train: 0.644 | Val: 0.579\n",
      "[E= 9] [it=  160] Train Loss: 0.513, Test Loss: 0.662\n",
      "[E=19] [it=  320] Train Loss: 0.400, Test Loss: 0.625\n"
     ]
    },
    {
     "name": "stderr",
     "output_type": "stream",
     "text": [
      "[I 2024-04-17 10:41:20,227] Trial 8 finished with value: 0.7368421052631579 and parameters: {'lr': 8.558141294855665e-05, 'L2': 0.00891106500942248, 'batch_size': 8, 'beta1': 0.05764827754629237, 'beta2': 0.0007307550645653247}. Best is trial 8 with value: 0.7368421052631579.\n"
     ]
    },
    {
     "name": "stdout",
     "output_type": "stream",
     "text": [
      "Accuracy: Train: 0.820 | Val: 0.737\n",
      "[E= 9] [it=  660] Train Loss: 0.678, Test Loss: 0.695\n",
      "[E=19] [it= 1320] Train Loss: 0.678, Test Loss: 0.698\n"
     ]
    },
    {
     "name": "stderr",
     "output_type": "stream",
     "text": [
      "[I 2024-04-17 10:42:05,878] Trial 9 finished with value: 0.543859649122807 and parameters: {'lr': 0.007611240399600903, 'L2': 0.00011545441027045072, 'batch_size': 2, 'beta1': 0.07077145031522744, 'beta2': 1.0810783476873718e-05}. Best is trial 8 with value: 0.7368421052631579.\n"
     ]
    },
    {
     "name": "stdout",
     "output_type": "stream",
     "text": [
      "Accuracy: Train: 0.598 | Val: 0.544\n",
      "[E= 9] [it=  160] Train Loss: 0.446, Test Loss: 0.622\n",
      "[E=19] [it=  320] Train Loss: 0.296, Test Loss: 0.644\n"
     ]
    },
    {
     "name": "stderr",
     "output_type": "stream",
     "text": [
      "[I 2024-04-17 10:42:43,374] Trial 10 finished with value: 0.7017543859649122 and parameters: {'lr': 0.00017038377496571294, 'L2': 0.002341981503610879, 'batch_size': 8, 'beta1': 0.05037919734028395, 'beta2': 0.00098997819854943}. Best is trial 8 with value: 0.7368421052631579.\n"
     ]
    },
    {
     "name": "stdout",
     "output_type": "stream",
     "text": [
      "Accuracy: Train: 0.898 | Val: 0.702\n",
      "[E= 9] [it=  160] Train Loss: 0.753, Test Loss: 0.708\n",
      "[E=19] [it=  320] Train Loss: 0.731, Test Loss: 0.706\n"
     ]
    },
    {
     "name": "stderr",
     "output_type": "stream",
     "text": [
      "[I 2024-04-17 10:43:20,925] Trial 11 finished with value: 0.543859649122807 and parameters: {'lr': 0.08881011500495511, 'L2': 0.0027104357199066193, 'batch_size': 8, 'beta1': 0.07591975285988242, 'beta2': 4.41348854423034e-05}. Best is trial 8 with value: 0.7368421052631579.\n"
     ]
    },
    {
     "name": "stdout",
     "output_type": "stream",
     "text": [
      "Accuracy: Train: 0.594 | Val: 0.544\n",
      "[E= 9] [it=  160] Train Loss: 0.524, Test Loss: 0.740\n",
      "[E=19] [it=  320] Train Loss: 0.397, Test Loss: 0.675\n"
     ]
    },
    {
     "name": "stderr",
     "output_type": "stream",
     "text": [
      "[I 2024-04-17 10:43:58,767] Trial 12 finished with value: 0.5789473684210527 and parameters: {'lr': 0.00028359295874537946, 'L2': 0.009229926811388168, 'batch_size': 8, 'beta1': 0.08179887884452462, 'beta2': 5.284611131773562e-05}. Best is trial 8 with value: 0.7368421052631579.\n"
     ]
    },
    {
     "name": "stdout",
     "output_type": "stream",
     "text": [
      "Accuracy: Train: 0.852 | Val: 0.579\n",
      "[E= 9] [it=  160] Train Loss: 0.363, Test Loss: 0.759\n",
      "[E=19] [it=  320] Train Loss: 0.159, Test Loss: 1.157\n"
     ]
    },
    {
     "name": "stderr",
     "output_type": "stream",
     "text": [
      "[I 2024-04-17 10:44:36,334] Trial 13 finished with value: 0.6491228070175439 and parameters: {'lr': 0.001023913488876968, 'L2': 0.006485354379294846, 'batch_size': 8, 'beta1': 0.06270341050518946, 'beta2': 0.00024949278322454927}. Best is trial 8 with value: 0.7368421052631579.\n"
     ]
    },
    {
     "name": "stdout",
     "output_type": "stream",
     "text": [
      "Accuracy: Train: 0.953 | Val: 0.649\n",
      "[E= 9] [it=  160] Train Loss: 0.490, Test Loss: 0.680\n",
      "[E=19] [it=  320] Train Loss: 0.367, Test Loss: 0.660\n"
     ]
    },
    {
     "name": "stderr",
     "output_type": "stream",
     "text": [
      "[I 2024-04-17 10:45:13,760] Trial 14 finished with value: 0.631578947368421 and parameters: {'lr': 5.695030727144971e-05, 'L2': 0.0007014979824373762, 'batch_size': 8, 'beta1': 0.11357281901603071, 'beta2': 0.000484879235649673}. Best is trial 8 with value: 0.7368421052631579.\n"
     ]
    },
    {
     "name": "stdout",
     "output_type": "stream",
     "text": [
      "Accuracy: Train: 0.883 | Val: 0.632\n",
      "[E= 9] [it=  160] Train Loss: 0.597, Test Loss: 0.640\n",
      "[E=19] [it=  320] Train Loss: 0.588, Test Loss: 0.711\n"
     ]
    },
    {
     "name": "stderr",
     "output_type": "stream",
     "text": [
      "[I 2024-04-17 10:45:51,370] Trial 15 finished with value: 0.543859649122807 and parameters: {'lr': 0.0008421858152554797, 'L2': 0.0570052679072461, 'batch_size': 8, 'beta1': 0.05269561990735025, 'beta2': 6.139412391903773e-05}. Best is trial 8 with value: 0.7368421052631579.\n"
     ]
    },
    {
     "name": "stdout",
     "output_type": "stream",
     "text": [
      "Accuracy: Train: 0.617 | Val: 0.544\n",
      "[E= 9] [it=  160] Train Loss: 0.458, Test Loss: 0.643\n",
      "[E=19] [it=  320] Train Loss: 0.320, Test Loss: 0.663\n"
     ]
    },
    {
     "name": "stderr",
     "output_type": "stream",
     "text": [
      "[I 2024-04-17 10:46:28,982] Trial 16 finished with value: 0.7192982456140351 and parameters: {'lr': 0.00011555154906125285, 'L2': 0.012933604483863947, 'batch_size': 8, 'beta1': 0.09353591330450926, 'beta2': 0.00021203352725609488}. Best is trial 8 with value: 0.7368421052631579.\n"
     ]
    },
    {
     "name": "stdout",
     "output_type": "stream",
     "text": [
      "Accuracy: Train: 0.914 | Val: 0.719\n",
      "[E= 9] [it=  160] Train Loss: 0.505, Test Loss: 0.660\n",
      "[E=19] [it=  320] Train Loss: 0.401, Test Loss: 0.728\n"
     ]
    },
    {
     "name": "stderr",
     "output_type": "stream",
     "text": [
      "[I 2024-04-17 10:47:06,350] Trial 17 finished with value: 0.6491228070175439 and parameters: {'lr': 8.020431323254628e-05, 'L2': 0.0008996483807500907, 'batch_size': 8, 'beta1': 0.0951634076681604, 'beta2': 0.0005835157306865722}. Best is trial 8 with value: 0.7368421052631579.\n"
     ]
    },
    {
     "name": "stdout",
     "output_type": "stream",
     "text": [
      "Accuracy: Train: 0.820 | Val: 0.649\n",
      "[E= 9] [it= 1330] Train Loss: 0.380, Test Loss: 0.762\n",
      "[E=19] [it= 2660] Train Loss: 0.227, Test Loss: 0.718\n"
     ]
    },
    {
     "name": "stderr",
     "output_type": "stream",
     "text": [
      "[I 2024-04-17 10:47:58,509] Trial 18 finished with value: 0.7192982456140351 and parameters: {'lr': 7.314207977903903e-05, 'L2': 0.007261442523745195, 'batch_size': 1, 'beta1': 0.06560541176136943, 'beta2': 0.00013924204529554228}. Best is trial 8 with value: 0.7368421052631579.\n"
     ]
    },
    {
     "name": "stdout",
     "output_type": "stream",
     "text": [
      "Accuracy: Train: 0.895 | Val: 0.719\n",
      "[E= 9] [it=  160] Train Loss: 0.303, Test Loss: 0.718\n",
      "[E=19] [it=  320] Train Loss: 0.211, Test Loss: 0.898\n"
     ]
    },
    {
     "name": "stderr",
     "output_type": "stream",
     "text": [
      "[I 2024-04-17 10:48:37,287] Trial 19 finished with value: 0.7017543859649122 and parameters: {'lr': 0.0004498713619791294, 'L2': 0.0025335056686634156, 'batch_size': 8, 'beta1': 0.08625496734425178, 'beta2': 0.00021391614939160196}. Best is trial 8 with value: 0.7368421052631579.\n"
     ]
    },
    {
     "name": "stdout",
     "output_type": "stream",
     "text": [
      "Accuracy: Train: 0.922 | Val: 0.702\n",
      "[E= 9] [it=  160] Train Loss: 0.569, Test Loss: 0.641\n",
      "[E=19] [it=  320] Train Loss: 0.473, Test Loss: 0.658\n"
     ]
    },
    {
     "name": "stderr",
     "output_type": "stream",
     "text": [
      "[I 2024-04-17 10:49:15,499] Trial 20 finished with value: 0.5789473684210527 and parameters: {'lr': 4.250567515557647e-05, 'L2': 0.0005609455691018777, 'batch_size': 8, 'beta1': 0.10508279338395034, 'beta2': 0.0005532490810877753}. Best is trial 8 with value: 0.7368421052631579.\n"
     ]
    },
    {
     "name": "stdout",
     "output_type": "stream",
     "text": [
      "Accuracy: Train: 0.742 | Val: 0.579\n",
      "[E= 9] [it= 1330] Train Loss: 0.418, Test Loss: 0.652\n",
      "[E=19] [it= 2660] Train Loss: 0.208, Test Loss: 1.102\n"
     ]
    },
    {
     "name": "stderr",
     "output_type": "stream",
     "text": [
      "[I 2024-04-17 10:50:07,280] Trial 21 finished with value: 0.6140350877192983 and parameters: {'lr': 9.379503091637064e-05, 'L2': 0.009954648429580522, 'batch_size': 1, 'beta1': 0.06355581923079255, 'beta2': 0.00015933302398109988}. Best is trial 8 with value: 0.7368421052631579.\n"
     ]
    },
    {
     "name": "stdout",
     "output_type": "stream",
     "text": [
      "Accuracy: Train: 0.902 | Val: 0.614\n",
      "[E= 9] [it= 1330] Train Loss: 0.420, Test Loss: 0.627\n",
      "[E=19] [it= 2660] Train Loss: 0.282, Test Loss: 0.876\n"
     ]
    },
    {
     "name": "stderr",
     "output_type": "stream",
     "text": [
      "[I 2024-04-17 10:51:00,815] Trial 22 finished with value: 0.5964912280701754 and parameters: {'lr': 0.00012753544155642656, 'L2': 0.005996897172291182, 'batch_size': 1, 'beta1': 0.06915378133594402, 'beta2': 0.00016731721841482068}. Best is trial 8 with value: 0.7368421052631579.\n"
     ]
    },
    {
     "name": "stdout",
     "output_type": "stream",
     "text": [
      "Accuracy: Train: 0.789 | Val: 0.596\n",
      "[E= 9] [it= 1330] Train Loss: 0.499, Test Loss: 0.642\n",
      "[E=19] [it= 2660] Train Loss: 0.350, Test Loss: 0.666\n"
     ]
    },
    {
     "name": "stderr",
     "output_type": "stream",
     "text": [
      "[I 2024-04-17 10:51:53,714] Trial 23 finished with value: 0.6842105263157895 and parameters: {'lr': 3.2923739705096434e-05, 'L2': 0.01334661581187454, 'batch_size': 1, 'beta1': 0.056525252679086424, 'beta2': 0.0003677412369502294}. Best is trial 8 with value: 0.7368421052631579.\n"
     ]
    },
    {
     "name": "stdout",
     "output_type": "stream",
     "text": [
      "Accuracy: Train: 0.805 | Val: 0.684\n",
      "[E= 9] [it= 1330] Train Loss: 0.546, Test Loss: 0.665\n",
      "[E=19] [it= 2660] Train Loss: 0.424, Test Loss: 0.675\n"
     ]
    },
    {
     "name": "stderr",
     "output_type": "stream",
     "text": [
      "[I 2024-04-17 10:52:49,753] Trial 24 finished with value: 0.6491228070175439 and parameters: {'lr': 1.307290298582515e-05, 'L2': 0.003898188544065934, 'batch_size': 1, 'beta1': 0.07774472074083989, 'beta2': 8.742474056887603e-05}. Best is trial 8 with value: 0.7368421052631579.\n"
     ]
    },
    {
     "name": "stdout",
     "output_type": "stream",
     "text": [
      "Accuracy: Train: 0.857 | Val: 0.649\n",
      "[E= 9] [it= 1330] Train Loss: 0.490, Test Loss: 0.662\n",
      "[E=19] [it= 2660] Train Loss: 0.372, Test Loss: 0.867\n"
     ]
    },
    {
     "name": "stderr",
     "output_type": "stream",
     "text": [
      "[I 2024-04-17 10:53:47,514] Trial 25 finished with value: 0.5614035087719298 and parameters: {'lr': 0.0003240306456514297, 'L2': 0.044508554702046565, 'batch_size': 1, 'beta1': 0.06814744146896495, 'beta2': 3.4462638403242315e-05}. Best is trial 8 with value: 0.7368421052631579.\n"
     ]
    },
    {
     "name": "stdout",
     "output_type": "stream",
     "text": [
      "Accuracy: Train: 0.677 | Val: 0.561\n",
      "[E= 9] [it=  330] Train Loss: 0.501, Test Loss: 0.629\n",
      "[E=19] [it=  660] Train Loss: 0.252, Test Loss: 0.718\n"
     ]
    },
    {
     "name": "stderr",
     "output_type": "stream",
     "text": [
      "[I 2024-04-17 10:54:29,882] Trial 26 finished with value: 0.7368421052631579 and parameters: {'lr': 0.00014817956523120116, 'L2': 0.001807488780724264, 'batch_size': 4, 'beta1': 0.05648324606976524, 'beta2': 0.0007167876788282601}. Best is trial 8 with value: 0.7368421052631579.\n"
     ]
    },
    {
     "name": "stdout",
     "output_type": "stream",
     "text": [
      "Accuracy: Train: 0.939 | Val: 0.737\n",
      "[E= 9] [it=  330] Train Loss: 0.211, Test Loss: 1.020\n",
      "[E=19] [it=  660] Train Loss: 0.061, Test Loss: 0.950\n"
     ]
    },
    {
     "name": "stderr",
     "output_type": "stream",
     "text": [
      "[I 2024-04-17 10:55:15,890] Trial 27 finished with value: 0.6842105263157895 and parameters: {'lr': 0.0006293461407403554, 'L2': 0.0014918436961537493, 'batch_size': 4, 'beta1': 0.05633183133770577, 'beta2': 0.0007275596036354681}. Best is trial 8 with value: 0.7368421052631579.\n"
     ]
    },
    {
     "name": "stdout",
     "output_type": "stream",
     "text": [
      "Accuracy: Train: 0.992 | Val: 0.684\n",
      "[E= 9] [it=  330] Train Loss: 0.479, Test Loss: 0.612\n",
      "[E=19] [it=  660] Train Loss: 0.263, Test Loss: 0.803\n"
     ]
    },
    {
     "name": "stderr",
     "output_type": "stream",
     "text": [
      "[I 2024-04-17 10:55:58,037] Trial 28 finished with value: 0.6666666666666666 and parameters: {'lr': 0.00013934219981475581, 'L2': 0.0003458379669154925, 'batch_size': 4, 'beta1': 0.08563109123916826, 'beta2': 0.0003820803243117066}. Best is trial 8 with value: 0.7368421052631579.\n"
     ]
    },
    {
     "name": "stdout",
     "output_type": "stream",
     "text": [
      "Accuracy: Train: 0.924 | Val: 0.667\n",
      "[E= 9] [it=  330] Train Loss: 0.432, Test Loss: 0.641\n",
      "[E=19] [it=  660] Train Loss: 0.245, Test Loss: 0.983\n"
     ]
    },
    {
     "name": "stderr",
     "output_type": "stream",
     "text": [
      "[I 2024-04-17 10:56:39,526] Trial 29 finished with value: 0.6842105263157895 and parameters: {'lr': 0.0001865689324721689, 'L2': 0.0014131497997300136, 'batch_size': 4, 'beta1': 0.07365551325040494, 'beta2': 0.0006863726377577059}. Best is trial 8 with value: 0.7368421052631579.\n"
     ]
    },
    {
     "name": "stdout",
     "output_type": "stream",
     "text": [
      "Accuracy: Train: 0.917 | Val: 0.684\n",
      "[E= 9] [it=  330] Train Loss: 0.441, Test Loss: 0.602\n",
      "[E=19] [it=  660] Train Loss: 0.233, Test Loss: 0.729\n"
     ]
    },
    {
     "name": "stderr",
     "output_type": "stream",
     "text": [
      "[I 2024-04-17 10:57:20,959] Trial 30 finished with value: 0.7543859649122807 and parameters: {'lr': 0.002395867690485015, 'L2': 0.013938137101946963, 'batch_size': 4, 'beta1': 0.05384384902251809, 'beta2': 0.0008269386084016779}. Best is trial 30 with value: 0.7543859649122807.\n"
     ]
    },
    {
     "name": "stdout",
     "output_type": "stream",
     "text": [
      "Accuracy: Train: 0.955 | Val: 0.754\n",
      "[E= 9] [it=  330] Train Loss: 0.522, Test Loss: 0.656\n",
      "[E=19] [it=  660] Train Loss: 0.328, Test Loss: 0.807\n"
     ]
    },
    {
     "name": "stderr",
     "output_type": "stream",
     "text": [
      "[I 2024-04-17 10:58:02,143] Trial 31 finished with value: 0.6842105263157895 and parameters: {'lr': 0.002059684918063847, 'L2': 0.018512129051142048, 'batch_size': 4, 'beta1': 0.05426570715088451, 'beta2': 0.0008515935812814689}. Best is trial 30 with value: 0.7543859649122807.\n"
     ]
    },
    {
     "name": "stdout",
     "output_type": "stream",
     "text": [
      "Accuracy: Train: 0.864 | Val: 0.684\n",
      "[E= 9] [it=  330] Train Loss: 0.656, Test Loss: 0.673\n",
      "[E=19] [it=  660] Train Loss: 0.649, Test Loss: 0.850\n"
     ]
    },
    {
     "name": "stderr",
     "output_type": "stream",
     "text": [
      "[I 2024-04-17 10:58:41,528] Trial 32 finished with value: 0.543859649122807 and parameters: {'lr': 0.004724204218597138, 'L2': 0.04148988630383682, 'batch_size': 4, 'beta1': 0.05994868145033597, 'beta2': 0.0009758078788073033}. Best is trial 30 with value: 0.7543859649122807.\n"
     ]
    },
    {
     "name": "stdout",
     "output_type": "stream",
     "text": [
      "Accuracy: Train: 0.598 | Val: 0.544\n",
      "[E= 9] [it=  330] Train Loss: 0.679, Test Loss: 0.695\n",
      "[E=19] [it=  660] Train Loss: 0.675, Test Loss: 0.694\n"
     ]
    },
    {
     "name": "stderr",
     "output_type": "stream",
     "text": [
      "[I 2024-04-17 10:59:22,878] Trial 33 finished with value: 0.543859649122807 and parameters: {'lr': 0.023088468914785366, 'L2': 0.004373992818619677, 'batch_size': 4, 'beta1': 0.05834226130564501, 'beta2': 0.0004222658624111507}. Best is trial 30 with value: 0.7543859649122807.\n"
     ]
    },
    {
     "name": "stdout",
     "output_type": "stream",
     "text": [
      "Accuracy: Train: 0.598 | Val: 0.544\n",
      "[E= 9] [it=  660] Train Loss: 0.574, Test Loss: 0.639\n",
      "[E=19] [it= 1320] Train Loss: 0.453, Test Loss: 0.636\n"
     ]
    },
    {
     "name": "stderr",
     "output_type": "stream",
     "text": [
      "[I 2024-04-17 11:00:10,118] Trial 34 finished with value: 0.6140350877192983 and parameters: {'lr': 2.2073237525129333e-05, 'L2': 0.013571590756674034, 'batch_size': 2, 'beta1': 0.05215524552574249, 'beta2': 0.00028533545804776454}. Best is trial 30 with value: 0.7543859649122807.\n"
     ]
    },
    {
     "name": "stdout",
     "output_type": "stream",
     "text": [
      "Accuracy: Train: 0.720 | Val: 0.614\n",
      "[E= 9] [it=  330] Train Loss: 0.586, Test Loss: 0.639\n",
      "[E=19] [it=  660] Train Loss: 0.562, Test Loss: 0.826\n"
     ]
    },
    {
     "name": "stderr",
     "output_type": "stream",
     "text": [
      "[I 2024-04-17 11:00:52,413] Trial 35 finished with value: 0.5789473684210527 and parameters: {'lr': 0.003886068066677291, 'L2': 0.030440794412746924, 'batch_size': 4, 'beta1': 0.05000967046115139, 'beta2': 0.0006856816437827792}. Best is trial 30 with value: 0.7543859649122807.\n"
     ]
    },
    {
     "name": "stdout",
     "output_type": "stream",
     "text": [
      "Accuracy: Train: 0.614 | Val: 0.579\n",
      "[E= 9] [it=  330] Train Loss: 0.570, Test Loss: 0.694\n",
      "[E=19] [it=  660] Train Loss: 0.332, Test Loss: 0.751\n"
     ]
    },
    {
     "name": "stderr",
     "output_type": "stream",
     "text": [
      "[I 2024-04-17 11:01:37,227] Trial 36 finished with value: 0.631578947368421 and parameters: {'lr': 0.0011950682284610095, 'L2': 0.01946770269260592, 'batch_size': 4, 'beta1': 0.09363276677533532, 'beta2': 0.00031020872143482987}. Best is trial 30 with value: 0.7543859649122807.\n"
     ]
    },
    {
     "name": "stdout",
     "output_type": "stream",
     "text": [
      "Accuracy: Train: 0.871 | Val: 0.632\n",
      "[E= 9] [it=  330] Train Loss: 0.278, Test Loss: 1.125\n",
      "[E=19] [it=  660] Train Loss: 0.087, Test Loss: 1.460\n"
     ]
    },
    {
     "name": "stderr",
     "output_type": "stream",
     "text": [
      "[I 2024-04-17 11:02:18,355] Trial 37 finished with value: 0.6491228070175439 and parameters: {'lr': 0.0006272541415958439, 'L2': 1.0006639133500067e-05, 'batch_size': 4, 'beta1': 0.1012656579284511, 'beta2': 0.0005006512324550693}. Best is trial 30 with value: 0.7543859649122807.\n"
     ]
    },
    {
     "name": "stdout",
     "output_type": "stream",
     "text": [
      "Accuracy: Train: 0.962 | Val: 0.649\n",
      "[E= 9] [it=  660] Train Loss: 0.470, Test Loss: 0.690\n",
      "[E=19] [it= 1320] Train Loss: 0.376, Test Loss: 0.720\n"
     ]
    },
    {
     "name": "stderr",
     "output_type": "stream",
     "text": [
      "[I 2024-04-17 11:03:05,133] Trial 38 finished with value: 0.631578947368421 and parameters: {'lr': 5.14815115614118e-05, 'L2': 0.000363621349673765, 'batch_size': 2, 'beta1': 0.060834318685145314, 'beta2': 0.0007116314976478162}. Best is trial 30 with value: 0.7543859649122807.\n"
     ]
    },
    {
     "name": "stdout",
     "output_type": "stream",
     "text": [
      "Accuracy: Train: 0.811 | Val: 0.632\n",
      "[E= 9] [it=  160] Train Loss: 0.674, Test Loss: 0.692\n",
      "[E=19] [it=  320] Train Loss: 0.676, Test Loss: 0.692\n"
     ]
    },
    {
     "name": "stderr",
     "output_type": "stream",
     "text": [
      "[I 2024-04-17 11:03:43,023] Trial 39 finished with value: 0.543859649122807 and parameters: {'lr': 0.01241321706724854, 'L2': 0.09378780170569445, 'batch_size': 8, 'beta1': 0.055613184813892574, 'beta2': 0.00019036968156820855}. Best is trial 30 with value: 0.7543859649122807.\n"
     ]
    },
    {
     "name": "stdout",
     "output_type": "stream",
     "text": [
      "Accuracy: Train: 0.586 | Val: 0.544\n",
      "[E= 9] [it=  330] Train Loss: 0.421, Test Loss: 0.865\n",
      "[E=19] [it=  660] Train Loss: 0.132, Test Loss: 0.810\n"
     ]
    },
    {
     "name": "stderr",
     "output_type": "stream",
     "text": [
      "[I 2024-04-17 11:04:24,457] Trial 40 finished with value: 0.7017543859649122 and parameters: {'lr': 0.00047321394773008413, 'L2': 0.0044132835794947756, 'batch_size': 4, 'beta1': 0.11615646244764212, 'beta2': 0.0008281595223964552}. Best is trial 30 with value: 0.7543859649122807.\n"
     ]
    },
    {
     "name": "stdout",
     "output_type": "stream",
     "text": [
      "Accuracy: Train: 0.924 | Val: 0.702\n",
      "[E= 9] [it= 1330] Train Loss: 0.424, Test Loss: 0.661\n",
      "[E=19] [it= 2660] Train Loss: 0.210, Test Loss: 1.105\n"
     ]
    },
    {
     "name": "stderr",
     "output_type": "stream",
     "text": [
      "[I 2024-04-17 11:05:16,765] Trial 41 finished with value: 0.6842105263157895 and parameters: {'lr': 7.802827297861449e-05, 'L2': 0.007359637365114188, 'batch_size': 1, 'beta1': 0.062401277452886546, 'beta2': 9.585676485004476e-05}. Best is trial 30 with value: 0.7543859649122807.\n"
     ]
    },
    {
     "name": "stdout",
     "output_type": "stream",
     "text": [
      "Accuracy: Train: 0.910 | Val: 0.684\n",
      "[E= 9] [it= 1330] Train Loss: 0.468, Test Loss: 0.710\n",
      "[E=19] [it= 2660] Train Loss: 0.300, Test Loss: 0.646\n"
     ]
    },
    {
     "name": "stderr",
     "output_type": "stream",
     "text": [
      "[I 2024-04-17 11:06:06,208] Trial 42 finished with value: 0.7719298245614035 and parameters: {'lr': 2.9425794640730306e-05, 'L2': 0.013919692264890626, 'batch_size': 1, 'beta1': 0.06692564086391961, 'beta2': 0.0001228126871908042}. Best is trial 42 with value: 0.7719298245614035.\n"
     ]
    },
    {
     "name": "stdout",
     "output_type": "stream",
     "text": [
      "Accuracy: Train: 0.895 | Val: 0.772\n",
      "[E= 9] [it=  160] Train Loss: 0.605, Test Loss: 0.676\n",
      "[E=19] [it=  320] Train Loss: 0.548, Test Loss: 0.633\n"
     ]
    },
    {
     "name": "stderr",
     "output_type": "stream",
     "text": [
      "[I 2024-04-17 11:06:46,511] Trial 43 finished with value: 0.5614035087719298 and parameters: {'lr': 2.596116789561724e-05, 'L2': 0.01407438789690312, 'batch_size': 8, 'beta1': 0.06628815661723607, 'beta2': 0.00011945146882088026}. Best is trial 42 with value: 0.7719298245614035.\n"
     ]
    },
    {
     "name": "stdout",
     "output_type": "stream",
     "text": [
      "Accuracy: Train: 0.719 | Val: 0.561\n",
      "[E= 9] [it=  660] Train Loss: 0.583, Test Loss: 0.657\n",
      "[E=19] [it= 1320] Train Loss: 0.510, Test Loss: 0.647\n"
     ]
    },
    {
     "name": "stderr",
     "output_type": "stream",
     "text": [
      "[I 2024-04-17 11:07:36,153] Trial 44 finished with value: 0.5614035087719298 and parameters: {'lr': 1.5077355515605885e-05, 'L2': 0.028876396512108046, 'batch_size': 2, 'beta1': 0.05797922232572741, 'beta2': 2.3515494253656456e-05}. Best is trial 42 with value: 0.7719298245614035.\n"
     ]
    },
    {
     "name": "stdout",
     "output_type": "stream",
     "text": [
      "Accuracy: Train: 0.689 | Val: 0.561\n",
      "[E= 9] [it=  160] Train Loss: 0.620, Test Loss: 0.675\n",
      "[E=19] [it=  320] Train Loss: 0.597, Test Loss: 0.661\n"
     ]
    },
    {
     "name": "stderr",
     "output_type": "stream",
     "text": [
      "[I 2024-04-17 11:08:16,225] Trial 45 finished with value: 0.5614035087719298 and parameters: {'lr': 1.0126266163265233e-05, 'L2': 0.0017211489649906324, 'batch_size': 8, 'beta1': 0.08987503497338055, 'beta2': 0.0002363107444782695}. Best is trial 42 with value: 0.7719298245614035.\n"
     ]
    },
    {
     "name": "stdout",
     "output_type": "stream",
     "text": [
      "Accuracy: Train: 0.633 | Val: 0.561\n",
      "[E= 9] [it=  330] Train Loss: 0.586, Test Loss: 0.660\n",
      "[E=19] [it=  660] Train Loss: 0.485, Test Loss: 0.676\n"
     ]
    },
    {
     "name": "stderr",
     "output_type": "stream",
     "text": [
      "[I 2024-04-17 11:08:56,904] Trial 46 finished with value: 0.5614035087719298 and parameters: {'lr': 3.571881794860636e-05, 'L2': 0.0037216587488966917, 'batch_size': 4, 'beta1': 0.053778793633711616, 'beta2': 6.29328734239136e-05}. Best is trial 42 with value: 0.7719298245614035.\n"
     ]
    },
    {
     "name": "stdout",
     "output_type": "stream",
     "text": [
      "Accuracy: Train: 0.742 | Val: 0.561\n",
      "[E= 9] [it=  160] Train Loss: 0.274, Test Loss: 1.327\n",
      "[E=19] [it=  320] Train Loss: 0.138, Test Loss: 1.011\n"
     ]
    },
    {
     "name": "stderr",
     "output_type": "stream",
     "text": [
      "[I 2024-04-17 11:09:32,950] Trial 47 finished with value: 0.6666666666666666 and parameters: {'lr': 0.0029226231560768256, 'L2': 5.577213105733826e-05, 'batch_size': 8, 'beta1': 0.08074906623302197, 'beta2': 0.00045936232566513353}. Best is trial 42 with value: 0.7719298245614035.\n"
     ]
    },
    {
     "name": "stdout",
     "output_type": "stream",
     "text": [
      "Accuracy: Train: 0.945 | Val: 0.667\n",
      "[E= 9] [it= 1330] Train Loss: 0.343, Test Loss: 0.717\n",
      "[E=19] [it= 2660] Train Loss: 0.240, Test Loss: 1.032\n"
     ]
    },
    {
     "name": "stderr",
     "output_type": "stream",
     "text": [
      "[I 2024-04-17 11:10:24,030] Trial 48 finished with value: 0.631578947368421 and parameters: {'lr': 0.00021118760088380316, 'L2': 0.010046133180577604, 'batch_size': 1, 'beta1': 0.0731090974091551, 'beta2': 0.00031569853252731}. Best is trial 42 with value: 0.7719298245614035.\n"
     ]
    },
    {
     "name": "stdout",
     "output_type": "stream",
     "text": [
      "Accuracy: Train: 0.880 | Val: 0.632\n",
      "[E= 9] [it=  160] Train Loss: 0.511, Test Loss: 0.661\n",
      "[E=19] [it=  320] Train Loss: 0.396, Test Loss: 0.696\n"
     ]
    },
    {
     "name": "stderr",
     "output_type": "stream",
     "text": [
      "[I 2024-04-17 11:11:01,056] Trial 49 finished with value: 0.5964912280701754 and parameters: {'lr': 0.00010829080193852678, 'L2': 0.019533470751943817, 'batch_size': 8, 'beta1': 0.05127969295449601, 'beta2': 0.0005764266115043953}. Best is trial 42 with value: 0.7719298245614035.\n"
     ]
    },
    {
     "name": "stdout",
     "output_type": "stream",
     "text": [
      "Accuracy: Train: 0.812 | Val: 0.596\n",
      "[E= 9] [it=  330] Train Loss: 0.565, Test Loss: 0.650\n",
      "[E=19] [it=  660] Train Loss: 0.473, Test Loss: 0.620\n"
     ]
    },
    {
     "name": "stderr",
     "output_type": "stream",
     "text": [
      "[I 2024-04-17 11:11:43,595] Trial 50 finished with value: 0.6491228070175439 and parameters: {'lr': 5.9788959966778396e-05, 'L2': 0.056172738157799204, 'batch_size': 4, 'beta1': 0.06404181606913532, 'beta2': 7.233953590657538e-05}. Best is trial 42 with value: 0.7719298245614035.\n"
     ]
    },
    {
     "name": "stdout",
     "output_type": "stream",
     "text": [
      "Accuracy: Train: 0.803 | Val: 0.649\n",
      "[E= 9] [it= 1330] Train Loss: 0.432, Test Loss: 0.772\n",
      "[E=19] [it= 2660] Train Loss: 0.251, Test Loss: 0.801\n"
     ]
    },
    {
     "name": "stderr",
     "output_type": "stream",
     "text": [
      "[I 2024-04-17 11:12:40,057] Trial 51 finished with value: 0.631578947368421 and parameters: {'lr': 7.067239942888583e-05, 'L2': 0.006139001057854675, 'batch_size': 1, 'beta1': 0.06510050560665742, 'beta2': 0.0001256636160554314}. Best is trial 42 with value: 0.7719298245614035.\n"
     ]
    },
    {
     "name": "stdout",
     "output_type": "stream",
     "text": [
      "Accuracy: Train: 0.842 | Val: 0.632\n",
      "[E= 9] [it= 1330] Train Loss: 0.530, Test Loss: 0.644\n",
      "[E=19] [it= 2660] Train Loss: 0.427, Test Loss: 0.659\n"
     ]
    },
    {
     "name": "stderr",
     "output_type": "stream",
     "text": [
      "[I 2024-04-17 11:13:36,226] Trial 52 finished with value: 0.5964912280701754 and parameters: {'lr': 2.093847701818461e-05, 'L2': 0.00828334723997494, 'batch_size': 1, 'beta1': 0.06008087575851467, 'beta2': 0.00014296136464174214}. Best is trial 42 with value: 0.7719298245614035.\n"
     ]
    },
    {
     "name": "stdout",
     "output_type": "stream",
     "text": [
      "Accuracy: Train: 0.805 | Val: 0.596\n",
      "[E= 9] [it= 1330] Train Loss: 0.416, Test Loss: 0.620\n",
      "[E=19] [it= 2660] Train Loss: 0.254, Test Loss: 0.759\n"
     ]
    },
    {
     "name": "stderr",
     "output_type": "stream",
     "text": [
      "[I 2024-04-17 11:14:29,688] Trial 53 finished with value: 0.6666666666666666 and parameters: {'lr': 4.7327024941417505e-05, 'L2': 0.002828812186636065, 'batch_size': 1, 'beta1': 0.0679635928972575, 'beta2': 0.00011783839186193337}. Best is trial 42 with value: 0.7719298245614035.\n"
     ]
    },
    {
     "name": "stdout",
     "output_type": "stream",
     "text": [
      "Accuracy: Train: 0.902 | Val: 0.667\n",
      "[E= 9] [it= 1330] Train Loss: 0.466, Test Loss: 0.852\n",
      "[E=19] [it= 2660] Train Loss: 0.325, Test Loss: 0.722\n"
     ]
    },
    {
     "name": "stderr",
     "output_type": "stream",
     "text": [
      "[I 2024-04-17 11:15:24,850] Trial 54 finished with value: 0.7017543859649122 and parameters: {'lr': 0.0001291253956271978, 'L2': 0.014180739099318848, 'batch_size': 1, 'beta1': 0.07192063874671288, 'beta2': 0.00018278793551194535}. Best is trial 42 with value: 0.7719298245614035.\n"
     ]
    },
    {
     "name": "stdout",
     "output_type": "stream",
     "text": [
      "Accuracy: Train: 0.887 | Val: 0.702\n",
      "[E= 9] [it=  160] Train Loss: 0.510, Test Loss: 0.669\n",
      "[E=19] [it=  320] Train Loss: 0.328, Test Loss: 0.755\n"
     ]
    },
    {
     "name": "stderr",
     "output_type": "stream",
     "text": [
      "[I 2024-04-17 11:16:02,621] Trial 55 finished with value: 0.6842105263157895 and parameters: {'lr': 0.0002919593832695042, 'L2': 0.0054500682832182975, 'batch_size': 8, 'beta1': 0.05482852658633704, 'beta2': 0.00021243434325220127}. Best is trial 42 with value: 0.7719298245614035.\n"
     ]
    },
    {
     "name": "stdout",
     "output_type": "stream",
     "text": [
      "Accuracy: Train: 0.844 | Val: 0.684\n",
      "[E= 9] [it= 1330] Train Loss: 0.530, Test Loss: 0.634\n",
      "[E=19] [it= 2660] Train Loss: 0.449, Test Loss: 0.649\n"
     ]
    },
    {
     "name": "stderr",
     "output_type": "stream",
     "text": [
      "[I 2024-04-17 11:16:54,915] Trial 56 finished with value: 0.6491228070175439 and parameters: {'lr': 3.115793142875589e-05, 'L2': 0.02794351488729146, 'batch_size': 1, 'beta1': 0.058183064335761335, 'beta2': 0.00015121021197388022}. Best is trial 42 with value: 0.7719298245614035.\n"
     ]
    },
    {
     "name": "stdout",
     "output_type": "stream",
     "text": [
      "Accuracy: Train: 0.820 | Val: 0.649\n",
      "[E= 9] [it=  160] Train Loss: 0.397, Test Loss: 0.859\n",
      "[E=19] [it=  320] Train Loss: 0.267, Test Loss: 1.082\n"
     ]
    },
    {
     "name": "stderr",
     "output_type": "stream",
     "text": [
      "[I 2024-04-17 11:17:31,513] Trial 57 finished with value: 0.5614035087719298 and parameters: {'lr': 0.0002089231033597949, 'L2': 0.0019487461369472729, 'batch_size': 8, 'beta1': 0.10709317630614623, 'beta2': 0.00010333761966220296}. Best is trial 42 with value: 0.7719298245614035.\n"
     ]
    },
    {
     "name": "stdout",
     "output_type": "stream",
     "text": [
      "Accuracy: Train: 0.828 | Val: 0.561\n",
      "[E= 9] [it= 1330] Train Loss: 0.232, Test Loss: 1.168\n",
      "[E=19] [it= 2660] Train Loss: 0.133, Test Loss: 1.215\n"
     ]
    },
    {
     "name": "stderr",
     "output_type": "stream",
     "text": [
      "[I 2024-04-17 11:18:25,126] Trial 58 finished with value: 0.6842105263157895 and parameters: {'lr': 0.0004320235376292337, 'L2': 0.0035223781352422584, 'batch_size': 1, 'beta1': 0.0791621035227259, 'beta2': 7.649841648991504e-05}. Best is trial 42 with value: 0.7719298245614035.\n"
     ]
    },
    {
     "name": "stdout",
     "output_type": "stream",
     "text": [
      "Accuracy: Train: 0.992 | Val: 0.684\n",
      "[E= 9] [it=  660] Train Loss: 0.416, Test Loss: 0.898\n",
      "[E=19] [it= 1320] Train Loss: 0.222, Test Loss: 1.186\n"
     ]
    },
    {
     "name": "stderr",
     "output_type": "stream",
     "text": [
      "[I 2024-04-17 11:19:08,826] Trial 59 finished with value: 0.631578947368421 and parameters: {'lr': 0.0016716003240799721, 'L2': 0.011027942962236529, 'batch_size': 2, 'beta1': 0.0835996375600141, 'beta2': 4.5962644955481814e-05}. Best is trial 42 with value: 0.7719298245614035.\n"
     ]
    },
    {
     "name": "stdout",
     "output_type": "stream",
     "text": [
      "Accuracy: Train: 0.917 | Val: 0.632\n",
      "[E= 9] [it=  160] Train Loss: 0.546, Test Loss: 0.641\n",
      "[E=19] [it=  320] Train Loss: 0.416, Test Loss: 0.707\n"
     ]
    },
    {
     "name": "stderr",
     "output_type": "stream",
     "text": [
      "[I 2024-04-17 11:19:48,135] Trial 60 finished with value: 0.631578947368421 and parameters: {'lr': 8.923771726341182e-05, 'L2': 0.0011262296391271116, 'batch_size': 8, 'beta1': 0.12901833313566566, 'beta2': 0.0006249816683789467}. Best is trial 42 with value: 0.7719298245614035.\n"
     ]
    },
    {
     "name": "stdout",
     "output_type": "stream",
     "text": [
      "Accuracy: Train: 0.828 | Val: 0.632\n",
      "[E= 9] [it=  160] Train Loss: 0.479, Test Loss: 0.638\n",
      "[E=19] [it=  320] Train Loss: 0.417, Test Loss: 0.685\n"
     ]
    },
    {
     "name": "stderr",
     "output_type": "stream",
     "text": [
      "[I 2024-04-17 11:20:31,118] Trial 61 finished with value: 0.6491228070175439 and parameters: {'lr': 0.0013304995133853533, 'L2': 0.0359868309047367, 'batch_size': 8, 'beta1': 0.14717939182172018, 'beta2': 8.646923970480825e-05}. Best is trial 42 with value: 0.7719298245614035.\n"
     ]
    },
    {
     "name": "stdout",
     "output_type": "stream",
     "text": [
      "Accuracy: Train: 0.844 | Val: 0.649\n",
      "[E= 9] [it=  160] Train Loss: 0.670, Test Loss: 0.685\n",
      "[E=19] [it=  320] Train Loss: 0.671, Test Loss: 0.679\n"
     ]
    },
    {
     "name": "stderr",
     "output_type": "stream",
     "text": [
      "[I 2024-04-17 11:21:10,372] Trial 62 finished with value: 0.543859649122807 and parameters: {'lr': 0.00769085236510974, 'L2': 0.06598164647083533, 'batch_size': 8, 'beta1': 0.07604518721157272, 'beta2': 0.0008071419232712605}. Best is trial 42 with value: 0.7719298245614035.\n"
     ]
    },
    {
     "name": "stdout",
     "output_type": "stream",
     "text": [
      "Accuracy: Train: 0.586 | Val: 0.544\n",
      "[E= 9] [it=  160] Train Loss: 0.364, Test Loss: 0.940\n",
      "[E=19] [it=  320] Train Loss: 0.208, Test Loss: 0.813\n"
     ]
    },
    {
     "name": "stderr",
     "output_type": "stream",
     "text": [
      "[I 2024-04-17 11:21:52,307] Trial 63 finished with value: 0.7017543859649122 and parameters: {'lr': 0.0020578148846482703, 'L2': 0.019891230602224485, 'batch_size': 8, 'beta1': 0.12778092732303942, 'beta2': 0.00010439460277130939}. Best is trial 42 with value: 0.7719298245614035.\n"
     ]
    },
    {
     "name": "stdout",
     "output_type": "stream",
     "text": [
      "Accuracy: Train: 0.945 | Val: 0.702\n",
      "[E= 9] [it=  160] Train Loss: 0.320, Test Loss: 0.834\n",
      "[E=19] [it=  320] Train Loss: 0.181, Test Loss: 0.817\n"
     ]
    },
    {
     "name": "stderr",
     "output_type": "stream",
     "text": [
      "[I 2024-04-17 11:22:34,257] Trial 64 finished with value: 0.7192982456140351 and parameters: {'lr': 0.0008173355658834961, 'L2': 0.008277234125380104, 'batch_size': 8, 'beta1': 0.11647554634121485, 'beta2': 3.3885081876784024e-05}. Best is trial 42 with value: 0.7719298245614035.\n"
     ]
    },
    {
     "name": "stdout",
     "output_type": "stream",
     "text": [
      "Accuracy: Train: 0.938 | Val: 0.719\n",
      "[E= 9] [it=  330] Train Loss: 0.549, Test Loss: 0.664\n",
      "[E=19] [it=  660] Train Loss: 0.439, Test Loss: 0.662\n"
     ]
    },
    {
     "name": "stderr",
     "output_type": "stream",
     "text": [
      "[I 2024-04-17 11:23:15,754] Trial 65 finished with value: 0.631578947368421 and parameters: {'lr': 3.9850245473205794e-05, 'L2': 0.008753912403858729, 'batch_size': 4, 'beta1': 0.1195988422554871, 'beta2': 1.886896113814018e-05}. Best is trial 42 with value: 0.7719298245614035.\n"
     ]
    },
    {
     "name": "stdout",
     "output_type": "stream",
     "text": [
      "Accuracy: Train: 0.742 | Val: 0.632\n",
      "[E= 9] [it=  160] Train Loss: 0.344, Test Loss: 0.736\n",
      "[E=19] [it=  320] Train Loss: 0.188, Test Loss: 1.106\n"
     ]
    },
    {
     "name": "stderr",
     "output_type": "stream",
     "text": [
      "[I 2024-04-17 11:23:55,173] Trial 66 finished with value: 0.6491228070175439 and parameters: {'lr': 0.0008744060682576957, 'L2': 0.005095067055135435, 'batch_size': 8, 'beta1': 0.06192959779859683, 'beta2': 1.029248245094721e-05}. Best is trial 42 with value: 0.7719298245614035.\n"
     ]
    },
    {
     "name": "stdout",
     "output_type": "stream",
     "text": [
      "Accuracy: Train: 0.953 | Val: 0.649\n",
      "[E= 9] [it= 1330] Train Loss: 0.448, Test Loss: 0.723\n",
      "[E=19] [it= 2660] Train Loss: 0.258, Test Loss: 0.642\n"
     ]
    },
    {
     "name": "stderr",
     "output_type": "stream",
     "text": [
      "[I 2024-04-17 11:24:51,665] Trial 67 finished with value: 0.7192982456140351 and parameters: {'lr': 0.0001554510876265474, 'L2': 0.015657751408935026, 'batch_size': 1, 'beta1': 0.11070566303246887, 'beta2': 0.0009514796073411269}. Best is trial 42 with value: 0.7719298245614035.\n"
     ]
    },
    {
     "name": "stdout",
     "output_type": "stream",
     "text": [
      "Accuracy: Train: 0.925 | Val: 0.719\n",
      "[E= 9] [it=  330] Train Loss: 0.436, Test Loss: 0.684\n",
      "[E=19] [it=  660] Train Loss: 0.333, Test Loss: 0.660\n"
     ]
    },
    {
     "name": "stderr",
     "output_type": "stream",
     "text": [
      "[I 2024-04-17 11:25:36,051] Trial 68 finished with value: 0.7017543859649122 and parameters: {'lr': 0.00010291764487544381, 'L2': 0.006677357793936393, 'batch_size': 4, 'beta1': 0.08983405336271205, 'beta2': 2.722223881708225e-05}. Best is trial 42 with value: 0.7719298245614035.\n"
     ]
    },
    {
     "name": "stdout",
     "output_type": "stream",
     "text": [
      "Accuracy: Train: 0.841 | Val: 0.702\n",
      "[E= 9] [it=  160] Train Loss: 0.626, Test Loss: 0.664\n",
      "[E=19] [it=  320] Train Loss: 0.589, Test Loss: 0.664\n"
     ]
    },
    {
     "name": "stderr",
     "output_type": "stream",
     "text": [
      "[I 2024-04-17 11:26:17,999] Trial 69 finished with value: 0.5263157894736842 and parameters: {'lr': 1.664477619543855e-05, 'L2': 0.002703210700705901, 'batch_size': 8, 'beta1': 0.05305222734281844, 'beta2': 3.335149984943321e-05}. Best is trial 42 with value: 0.7719298245614035.\n"
     ]
    },
    {
     "name": "stdout",
     "output_type": "stream",
     "text": [
      "Accuracy: Train: 0.594 | Val: 0.526\n",
      "[E= 9] [it= 1330] Train Loss: 0.643, Test Loss: 0.668\n",
      "[E=19] [it= 2660] Train Loss: 0.441, Test Loss: 0.724\n"
     ]
    },
    {
     "name": "stderr",
     "output_type": "stream",
     "text": [
      "[I 2024-04-17 11:27:30,372] Trial 70 finished with value: 0.5263157894736842 and parameters: {'lr': 0.003248637120049295, 'L2': 0.010676082308791373, 'batch_size': 1, 'beta1': 0.09766553974011659, 'beta2': 0.0005267642328726516}. Best is trial 42 with value: 0.7719298245614035.\n"
     ]
    },
    {
     "name": "stdout",
     "output_type": "stream",
     "text": [
      "Accuracy: Train: 0.782 | Val: 0.526\n",
      "[E= 9] [it= 1330] Train Loss: 0.442, Test Loss: 0.829\n",
      "[E=19] [it= 2660] Train Loss: 0.310, Test Loss: 0.754\n"
     ]
    },
    {
     "name": "stderr",
     "output_type": "stream",
     "text": [
      "[I 2024-04-17 11:28:32,730] Trial 71 finished with value: 0.5964912280701754 and parameters: {'lr': 0.00016874096680784026, 'L2': 0.023659705831665843, 'batch_size': 1, 'beta1': 0.10898921513189186, 'beta2': 0.000977448414428387}. Best is trial 42 with value: 0.7719298245614035.\n"
     ]
    },
    {
     "name": "stdout",
     "output_type": "stream",
     "text": [
      "Accuracy: Train: 0.789 | Val: 0.596\n",
      "[E= 9] [it= 1330] Train Loss: 0.408, Test Loss: 1.012\n",
      "[E=19] [it= 2660] Train Loss: 0.302, Test Loss: 0.798\n"
     ]
    },
    {
     "name": "stderr",
     "output_type": "stream",
     "text": [
      "[I 2024-04-17 11:29:27,806] Trial 72 finished with value: 0.631578947368421 and parameters: {'lr': 7.017962315299248e-05, 'L2': 0.015797272793332998, 'batch_size': 1, 'beta1': 0.12142294503216076, 'beta2': 0.000841858249632398}. Best is trial 42 with value: 0.7719298245614035.\n"
     ]
    },
    {
     "name": "stdout",
     "output_type": "stream",
     "text": [
      "Accuracy: Train: 0.797 | Val: 0.632\n",
      "[E= 9] [it= 1330] Train Loss: 0.421, Test Loss: 0.934\n",
      "[E=19] [it= 2660] Train Loss: 0.287, Test Loss: 0.658\n"
     ]
    },
    {
     "name": "stderr",
     "output_type": "stream",
     "text": [
      "[I 2024-04-17 11:30:23,329] Trial 73 finished with value: 0.7017543859649122 and parameters: {'lr': 0.00015124503975937127, 'L2': 0.012056480184249757, 'batch_size': 1, 'beta1': 0.10307753613412594, 'beta2': 0.00042126455536562363}. Best is trial 42 with value: 0.7719298245614035.\n"
     ]
    },
    {
     "name": "stdout",
     "output_type": "stream",
     "text": [
      "Accuracy: Train: 0.917 | Val: 0.702\n",
      "[E= 9] [it= 1330] Train Loss: 0.389, Test Loss: 0.684\n",
      "[E=19] [it= 2660] Train Loss: 0.237, Test Loss: 0.757\n"
     ]
    },
    {
     "name": "stderr",
     "output_type": "stream",
     "text": [
      "[I 2024-04-17 11:31:13,723] Trial 74 finished with value: 0.7017543859649122 and parameters: {'lr': 0.00024076143222418367, 'L2': 0.008250417062889249, 'batch_size': 1, 'beta1': 0.05666259365350538, 'beta2': 0.0006500065403745158}. Best is trial 42 with value: 0.7719298245614035.\n"
     ]
    },
    {
     "name": "stdout",
     "output_type": "stream",
     "text": [
      "Accuracy: Train: 0.962 | Val: 0.702\n",
      "[E= 9] [it=  330] Train Loss: 0.478, Test Loss: 0.738\n",
      "[E=19] [it=  660] Train Loss: 0.382, Test Loss: 0.734\n"
     ]
    },
    {
     "name": "stderr",
     "output_type": "stream",
     "text": [
      "[I 2024-04-17 11:31:56,431] Trial 75 finished with value: 0.5964912280701754 and parameters: {'lr': 5.885556808234414e-05, 'L2': 0.017384157122072807, 'batch_size': 4, 'beta1': 0.13798058558699416, 'beta2': 0.0007411459854991237}. Best is trial 42 with value: 0.7719298245614035.\n"
     ]
    },
    {
     "name": "stdout",
     "output_type": "stream",
     "text": [
      "Accuracy: Train: 0.826 | Val: 0.596\n",
      "[E= 9] [it=  660] Train Loss: 0.486, Test Loss: 0.860\n",
      "[E=19] [it= 1320] Train Loss: 0.374, Test Loss: 0.679\n"
     ]
    },
    {
     "name": "stderr",
     "output_type": "stream",
     "text": [
      "[I 2024-04-17 11:32:41,941] Trial 76 finished with value: 0.6842105263157895 and parameters: {'lr': 0.00036470232703474884, 'L2': 0.041823369949906174, 'batch_size': 2, 'beta1': 0.11146761425631098, 'beta2': 0.000920219154221241}. Best is trial 42 with value: 0.7719298245614035.\n"
     ]
    },
    {
     "name": "stdout",
     "output_type": "stream",
     "text": [
      "Accuracy: Train: 0.871 | Val: 0.684\n",
      "[E= 9] [it= 1330] Train Loss: 0.390, Test Loss: 0.793\n",
      "[E=19] [it= 2660] Train Loss: 0.254, Test Loss: 0.823\n"
     ]
    },
    {
     "name": "stderr",
     "output_type": "stream",
     "text": [
      "[I 2024-04-17 11:33:44,328] Trial 77 finished with value: 0.6842105263157895 and parameters: {'lr': 0.0005931888051869935, 'L2': 0.021835245381283248, 'batch_size': 1, 'beta1': 0.09863621053931215, 'beta2': 0.00017930950812816623}. Best is trial 42 with value: 0.7719298245614035.\n"
     ]
    },
    {
     "name": "stdout",
     "output_type": "stream",
     "text": [
      "Accuracy: Train: 0.955 | Val: 0.684\n",
      "[E= 9] [it=  160] Train Loss: 0.487, Test Loss: 0.642\n",
      "[E=19] [it=  320] Train Loss: 0.370, Test Loss: 0.614\n"
     ]
    },
    {
     "name": "stderr",
     "output_type": "stream",
     "text": [
      "[I 2024-04-17 11:34:29,043] Trial 78 finished with value: 0.631578947368421 and parameters: {'lr': 0.00011325543615186002, 'L2': 0.00018836016794277226, 'batch_size': 8, 'beta1': 0.09245216874230563, 'beta2': 0.0003282214417465894}. Best is trial 42 with value: 0.7719298245614035.\n"
     ]
    },
    {
     "name": "stdout",
     "output_type": "stream",
     "text": [
      "Accuracy: Train: 0.859 | Val: 0.632\n",
      "[E= 9] [it=  330] Train Loss: 0.679, Test Loss: 0.693\n",
      "[E=19] [it=  660] Train Loss: 0.675, Test Loss: 0.692\n"
     ]
    },
    {
     "name": "stderr",
     "output_type": "stream",
     "text": [
      "[I 2024-04-17 11:35:11,742] Trial 79 finished with value: 0.543859649122807 and parameters: {'lr': 0.029116094304823273, 'L2': 0.0007499907300380933, 'batch_size': 4, 'beta1': 0.0700082493310879, 'beta2': 1.3398569735599936e-05}. Best is trial 42 with value: 0.7719298245614035.\n"
     ]
    },
    {
     "name": "stdout",
     "output_type": "stream",
     "text": [
      "Accuracy: Train: 0.591 | Val: 0.544\n",
      "[E= 9] [it=  160] Train Loss: 0.597, Test Loss: 0.654\n",
      "[E=19] [it=  320] Train Loss: 0.515, Test Loss: 0.650\n"
     ]
    },
    {
     "name": "stderr",
     "output_type": "stream",
     "text": [
      "[I 2024-04-17 11:35:48,512] Trial 80 finished with value: 0.5789473684210527 and parameters: {'lr': 2.5540162383228587e-05, 'L2': 0.003312161329937293, 'batch_size': 8, 'beta1': 0.05687233784573799, 'beta2': 0.0005901705298314377}. Best is trial 42 with value: 0.7719298245614035.\n"
     ]
    },
    {
     "name": "stdout",
     "output_type": "stream",
     "text": [
      "Accuracy: Train: 0.672 | Val: 0.579\n",
      "[E= 9] [it=  160] Train Loss: 0.417, Test Loss: 0.779\n",
      "[E=19] [it=  320] Train Loss: 0.382, Test Loss: 0.685\n"
     ]
    },
    {
     "name": "stderr",
     "output_type": "stream",
     "text": [
      "[I 2024-04-17 11:36:29,157] Trial 81 finished with value: 0.6666666666666666 and parameters: {'lr': 0.0013932408420717609, 'L2': 0.027085031366281542, 'batch_size': 8, 'beta1': 0.13070924012383806, 'beta2': 5.408442512044193e-05}. Best is trial 42 with value: 0.7719298245614035.\n"
     ]
    },
    {
     "name": "stdout",
     "output_type": "stream",
     "text": [
      "Accuracy: Train: 0.875 | Val: 0.667\n",
      "[E= 9] [it=  160] Train Loss: 0.611, Test Loss: 0.670\n",
      "[E=19] [it=  320] Train Loss: 0.514, Test Loss: 0.775\n"
     ]
    },
    {
     "name": "stderr",
     "output_type": "stream",
     "text": [
      "[I 2024-04-17 11:37:09,716] Trial 82 finished with value: 0.543859649122807 and parameters: {'lr': 0.00543642120898674, 'L2': 0.016100650728061376, 'batch_size': 8, 'beta1': 0.1218851649198303, 'beta2': 0.0007650859029574058}. Best is trial 42 with value: 0.7719298245614035.\n"
     ]
    },
    {
     "name": "stdout",
     "output_type": "stream",
     "text": [
      "Accuracy: Train: 0.602 | Val: 0.544\n",
      "[E= 9] [it=  160] Train Loss: 0.535, Test Loss: 0.589\n",
      "[E=19] [it=  320] Train Loss: 0.406, Test Loss: 0.644\n"
     ]
    },
    {
     "name": "stderr",
     "output_type": "stream",
     "text": [
      "[I 2024-04-17 11:37:46,838] Trial 83 finished with value: 0.6842105263157895 and parameters: {'lr': 0.002219451578167296, 'L2': 0.034159558950594006, 'batch_size': 8, 'beta1': 0.1179365704000727, 'beta2': 0.00013224774168187368}. Best is trial 42 with value: 0.7719298245614035.\n"
     ]
    },
    {
     "name": "stdout",
     "output_type": "stream",
     "text": [
      "Accuracy: Train: 0.922 | Val: 0.684\n",
      "[E= 9] [it=  330] Train Loss: 0.609, Test Loss: 0.653\n",
      "[E=19] [it=  660] Train Loss: 0.540, Test Loss: 0.655\n"
     ]
    },
    {
     "name": "stderr",
     "output_type": "stream",
     "text": [
      "[I 2024-04-17 11:38:29,551] Trial 84 finished with value: 0.5614035087719298 and parameters: {'lr': 0.0007944733945617438, 'L2': 0.050710850758223174, 'batch_size': 4, 'beta1': 0.11268896861702617, 'beta2': 0.0002527761227248593}. Best is trial 42 with value: 0.7719298245614035.\n"
     ]
    },
    {
     "name": "stdout",
     "output_type": "stream",
     "text": [
      "Accuracy: Train: 0.674 | Val: 0.561\n",
      "[E= 9] [it=  160] Train Loss: 0.514, Test Loss: 0.680\n",
      "[E=19] [it=  320] Train Loss: 0.362, Test Loss: 0.702\n"
     ]
    },
    {
     "name": "stderr",
     "output_type": "stream",
     "text": [
      "[I 2024-04-17 11:39:07,944] Trial 85 finished with value: 0.6491228070175439 and parameters: {'lr': 8.121844146884434e-05, 'L2': 0.006998486036633326, 'batch_size': 8, 'beta1': 0.12621114782310183, 'beta2': 3.685737768616227e-05}. Best is trial 42 with value: 0.7719298245614035.\n"
     ]
    },
    {
     "name": "stdout",
     "output_type": "stream",
     "text": [
      "Accuracy: Train: 0.836 | Val: 0.649\n",
      "[E= 9] [it= 1330] Train Loss: 0.496, Test Loss: 0.738\n",
      "[E=19] [it= 2660] Train Loss: 0.349, Test Loss: 0.672\n"
     ]
    },
    {
     "name": "stderr",
     "output_type": "stream",
     "text": [
      "[I 2024-04-17 11:40:00,764] Trial 86 finished with value: 0.7017543859649122 and parameters: {'lr': 4.600224086083504e-05, 'L2': 0.01210102362876733, 'batch_size': 1, 'beta1': 0.12404323443993688, 'beta2': 0.00021177295874696324}. Best is trial 42 with value: 0.7719298245614035.\n"
     ]
    },
    {
     "name": "stdout",
     "output_type": "stream",
     "text": [
      "Accuracy: Train: 0.887 | Val: 0.702\n",
      "[E= 9] [it=  160] Train Loss: 0.501, Test Loss: 0.657\n",
      "[E=19] [it=  320] Train Loss: 0.382, Test Loss: 0.847\n"
     ]
    },
    {
     "name": "stderr",
     "output_type": "stream",
     "text": [
      "[I 2024-04-17 11:40:39,183] Trial 87 finished with value: 0.6140350877192983 and parameters: {'lr': 0.00015155749106411328, 'L2': 0.008822029345261814, 'batch_size': 8, 'beta1': 0.13378661047434778, 'beta2': 6.835687301304874e-05}. Best is trial 42 with value: 0.7719298245614035.\n"
     ]
    },
    {
     "name": "stdout",
     "output_type": "stream",
     "text": [
      "Accuracy: Train: 0.797 | Val: 0.614\n",
      "[E= 9] [it= 1330] Train Loss: 0.428, Test Loss: 0.705\n",
      "[E=19] [it= 2660] Train Loss: 0.267, Test Loss: 0.708\n"
     ]
    },
    {
     "name": "stderr",
     "output_type": "stream",
     "text": [
      "[I 2024-04-17 11:41:37,404] Trial 88 finished with value: 0.7017543859649122 and parameters: {'lr': 0.0002516028941334865, 'L2': 0.02545538614487379, 'batch_size': 1, 'beta1': 0.051581310195252895, 'beta2': 8.098056569870277e-05}. Best is trial 42 with value: 0.7719298245614035.\n"
     ]
    },
    {
     "name": "stdout",
     "output_type": "stream",
     "text": [
      "Accuracy: Train: 0.902 | Val: 0.702\n",
      "[E= 9] [it=  330] Train Loss: 0.531, Test Loss: 0.634\n",
      "[E=19] [it=  660] Train Loss: 0.373, Test Loss: 0.691\n"
     ]
    },
    {
     "name": "stderr",
     "output_type": "stream",
     "text": [
      "[I 2024-04-17 11:42:24,111] Trial 89 finished with value: 0.631578947368421 and parameters: {'lr': 6.114152879308682e-05, 'L2': 0.004447451897204203, 'batch_size': 4, 'beta1': 0.11515279789969815, 'beta2': 0.0004592638559251911}. Best is trial 42 with value: 0.7719298245614035.\n"
     ]
    },
    {
     "name": "stdout",
     "output_type": "stream",
     "text": [
      "Accuracy: Train: 0.826 | Val: 0.632\n",
      "[E= 9] [it=  660] Train Loss: 0.393, Test Loss: 0.837\n",
      "[E=19] [it= 1320] Train Loss: 0.327, Test Loss: 0.785\n"
     ]
    },
    {
     "name": "stderr",
     "output_type": "stream",
     "text": [
      "[I 2024-04-17 11:43:07,906] Trial 90 finished with value: 0.6491228070175439 and parameters: {'lr': 0.0010135360280616118, 'L2': 0.013717332506363332, 'batch_size': 2, 'beta1': 0.06678548234896692, 'beta2': 0.00016403042006534502}. Best is trial 42 with value: 0.7719298245614035.\n"
     ]
    },
    {
     "name": "stdout",
     "output_type": "stream",
     "text": [
      "Accuracy: Train: 0.886 | Val: 0.649\n",
      "[E= 9] [it=  160] Train Loss: 0.518, Test Loss: 0.660\n",
      "[E=19] [it=  320] Train Loss: 0.374, Test Loss: 0.656\n"
     ]
    },
    {
     "name": "stderr",
     "output_type": "stream",
     "text": [
      "[I 2024-04-17 11:43:44,207] Trial 91 finished with value: 0.6491228070175439 and parameters: {'lr': 0.00010867432032477027, 'L2': 0.0021771296077316093, 'batch_size': 8, 'beta1': 0.05390739971879086, 'beta2': 0.0008965346685277483}. Best is trial 42 with value: 0.7719298245614035.\n"
     ]
    },
    {
     "name": "stdout",
     "output_type": "stream",
     "text": [
      "Accuracy: Train: 0.852 | Val: 0.649\n",
      "[E= 9] [it=  160] Train Loss: 0.283, Test Loss: 1.300\n",
      "[E=19] [it=  320] Train Loss: 0.103, Test Loss: 1.206\n"
     ]
    },
    {
     "name": "stderr",
     "output_type": "stream",
     "text": [
      "[I 2024-04-17 11:44:20,192] Trial 92 finished with value: 0.7543859649122807 and parameters: {'lr': 0.001716877788517506, 'L2': 0.0011837521707079488, 'batch_size': 8, 'beta1': 0.05542369895746168, 'beta2': 0.0007119006992181904}. Best is trial 42 with value: 0.7719298245614035.\n"
     ]
    },
    {
     "name": "stdout",
     "output_type": "stream",
     "text": [
      "Accuracy: Train: 0.969 | Val: 0.754\n",
      "[E= 9] [it=  160] Train Loss: 0.327, Test Loss: 0.755\n",
      "[E=19] [it=  320] Train Loss: 0.113, Test Loss: 1.244\n"
     ]
    },
    {
     "name": "stderr",
     "output_type": "stream",
     "text": [
      "[I 2024-04-17 11:44:56,143] Trial 93 finished with value: 0.7017543859649122 and parameters: {'lr': 0.0016669290256081663, 'L2': 0.0006432602243914204, 'batch_size': 8, 'beta1': 0.0589526932881913, 'beta2': 0.0006516030931577102}. Best is trial 42 with value: 0.7719298245614035.\n"
     ]
    },
    {
     "name": "stdout",
     "output_type": "stream",
     "text": [
      "Accuracy: Train: 0.945 | Val: 0.702\n",
      "[E= 9] [it=  160] Train Loss: 0.388, Test Loss: 0.841\n",
      "[E=19] [it=  320] Train Loss: 0.164, Test Loss: 1.042\n"
     ]
    },
    {
     "name": "stderr",
     "output_type": "stream",
     "text": [
      "[I 2024-04-17 11:45:32,507] Trial 94 finished with value: 0.7017543859649122 and parameters: {'lr': 0.002632588434375562, 'L2': 0.001088170400217113, 'batch_size': 8, 'beta1': 0.05245299217569354, 'beta2': 0.0007218662593669311}. Best is trial 42 with value: 0.7719298245614035.\n"
     ]
    },
    {
     "name": "stdout",
     "output_type": "stream",
     "text": [
      "Accuracy: Train: 0.969 | Val: 0.702\n",
      "[E= 9] [it=  160] Train Loss: 0.366, Test Loss: 1.311\n",
      "[E=19] [it=  320] Train Loss: 0.266, Test Loss: 1.064\n"
     ]
    },
    {
     "name": "stderr",
     "output_type": "stream",
     "text": [
      "[I 2024-04-17 11:46:08,499] Trial 95 finished with value: 0.5964912280701754 and parameters: {'lr': 0.004192273370309125, 'L2': 0.0014040988475357116, 'batch_size': 8, 'beta1': 0.055314229853643114, 'beta2': 0.0005287085338539827}. Best is trial 42 with value: 0.7719298245614035.\n"
     ]
    },
    {
     "name": "stdout",
     "output_type": "stream",
     "text": [
      "Accuracy: Train: 0.914 | Val: 0.596\n",
      "[E= 9] [it=  160] Train Loss: 0.312, Test Loss: 0.663\n",
      "[E=19] [it=  320] Train Loss: 0.105, Test Loss: 1.409\n"
     ]
    },
    {
     "name": "stderr",
     "output_type": "stream",
     "text": [
      "[I 2024-04-17 11:46:46,604] Trial 96 finished with value: 0.6842105263157895 and parameters: {'lr': 0.0016577688096465128, 'L2': 0.0004014433606846432, 'batch_size': 8, 'beta1': 0.0615699168861418, 'beta2': 0.00011689804074994387}. Best is trial 42 with value: 0.7719298245614035.\n"
     ]
    },
    {
     "name": "stdout",
     "output_type": "stream",
     "text": [
      "Accuracy: Train: 0.984 | Val: 0.684\n",
      "[E= 9] [it= 1330] Train Loss: 0.254, Test Loss: 1.124\n",
      "[E=19] [it= 2660] Train Loss: 0.197, Test Loss: 0.934\n"
     ]
    },
    {
     "name": "stderr",
     "output_type": "stream",
     "text": [
      "[I 2024-04-17 11:47:34,909] Trial 97 finished with value: 0.6140350877192983 and parameters: {'lr': 0.0005315147805577047, 'L2': 0.0052206252512798325, 'batch_size': 1, 'beta1': 0.05059989395224382, 'beta2': 9.488615693197192e-05}. Best is trial 42 with value: 0.7719298245614035.\n"
     ]
    },
    {
     "name": "stdout",
     "output_type": "stream",
     "text": [
      "Accuracy: Train: 0.955 | Val: 0.614\n",
      "[E= 9] [it=  330] Train Loss: 0.553, Test Loss: 0.620\n",
      "[E=19] [it=  660] Train Loss: 0.428, Test Loss: 0.737\n"
     ]
    },
    {
     "name": "stderr",
     "output_type": "stream",
     "text": [
      "[I 2024-04-17 11:48:14,398] Trial 98 finished with value: 0.6140350877192983 and parameters: {'lr': 0.003578638301928382, 'L2': 0.0104350096531564, 'batch_size': 4, 'beta1': 0.05741341829005352, 'beta2': 0.00014017648294669687}. Best is trial 42 with value: 0.7719298245614035.\n"
     ]
    },
    {
     "name": "stdout",
     "output_type": "stream",
     "text": [
      "Accuracy: Train: 0.773 | Val: 0.614\n",
      "[E= 9] [it=  160] Train Loss: 0.484, Test Loss: 0.735\n",
      "[E=19] [it=  320] Train Loss: 0.245, Test Loss: 0.761\n"
     ]
    },
    {
     "name": "stderr",
     "output_type": "stream",
     "text": [
      "[I 2024-04-17 11:48:50,696] Trial 99 finished with value: 0.6491228070175439 and parameters: {'lr': 0.0007794172328589038, 'L2': 0.01716027594700571, 'batch_size': 8, 'beta1': 0.059938072621210245, 'beta2': 0.0009784545486247868}. Best is trial 42 with value: 0.7719298245614035.\n"
     ]
    },
    {
     "name": "stdout",
     "output_type": "stream",
     "text": [
      "Accuracy: Train: 0.914 | Val: 0.649\n",
      "Best trial:\n",
      " Value: 0.7719298245614035\n",
      " Params: \n",
      "    lr: 2.9425794640730306e-05\n",
      "    L2: 0.013919692264890626\n",
      "    batch_size: 1\n",
      "    beta1: 0.06692564086391961\n",
      "    beta2: 0.0001228126871908042\n"
     ]
    }
   ],
   "source": [
    "def objective(trial):\n",
    "\n",
    "    # Trial configuration\n",
    "    # Name for run\n",
    "    run_name = \"Optuna-Test\"\n",
    "    # How many epochs before saving progress\n",
    "    checkpoint_interval = 10\n",
    "    #Number of epochs\n",
    "    Num_Epochs = 20\n",
    "    ## Loss\n",
    "    criterion = nn.CrossEntropyLoss()\n",
    "\n",
    "    ##############################################\n",
    "    # Hyperparameters search spaces\n",
    "    # Learning rate\n",
    "    lr = trial.suggest_float(\"lr\", 1e-5, 1e-1, log=True)\n",
    "    # L2 Normalization lambda\n",
    "    weight_decay = trial.suggest_float(\"L2\", 1e-5, 1e-1, log=True)\n",
    "    # Batch size\n",
    "    batch_size = trial.suggest_categorical(\"batch_size\", [1, 2, 4, 8])\n",
    "    # Adam beta values\n",
    "    adam_betas = (1.0-trial.suggest_float(\"beta1\", 0.05, 0.15, log=True), 1.0-trial.suggest_float(\"beta2\", 1e-5, 1e-3, log=True))\n",
    "\n",
    "    #################################################\n",
    "    # Generate data loader based on new batch size\n",
    "    train_loader = torch.utils.data.DataLoader(dataset=splits[1], shuffle=True, num_workers=0,\n",
    "                                           batch_size=batch_size, drop_last=True)\n",
    "    val_loader = torch.utils.data.DataLoader(dataset=splits[0], shuffle=True, num_workers=0,\n",
    "                                           batch_size=1, drop_last=True)\n",
    "\n",
    "    #################################################\n",
    "    # Create network architecture\n",
    "    model = ConvNetWithoutDropout(len(data.classes))\n",
    "\n",
    "    # Initialize model weights\n",
    "    model.apply(init_weights)\n",
    "\n",
    "    ## Optimizer\n",
    "    optimizer = optim.Adam(model.parameters(), lr=lr, weight_decay=weight_decay, betas=adam_betas)\n",
    "\n",
    "    \n",
    "    #################################################\n",
    "    # Train model\n",
    "    model_final, trainloss, valloss = train_model(train_loader=train_loader, val_loader=val_loader, model=model,\n",
    "                                            criterion=criterion, optimizer=optimizer, Num_Epochs=Num_Epochs, checkpoint_interval=checkpoint_interval, run_name=run_name)\n",
    "\n",
    "    # Output model performance\n",
    "    #tr_acc = get_accuracy(net=model_final, data_loader=train_loader)\n",
    "    \n",
    "    tr_acc = get_accuracy(net=model_final, data_loader=train_loader)\n",
    "    val_acc = get_accuracy(net=model_final, data_loader=val_loader)\n",
    "    print(f\"Accuracy: Train: {tr_acc:.3f} | Val: {val_acc:0.3f}\" )\n",
    "    #print(f\"{run_name}: Accuracy: Train: {tr_acc:.3f} | Val: {val_acc:0.3f}\" )\n",
    "    \n",
    "    # The objective function needs to return the metric to minimize or maximize\n",
    "    return val_acc\n",
    "\n",
    "study = optuna.create_study(direction=\"maximize\", study_name=\"Adam-binary-art\")\n",
    "study.optimize(objective, n_trials=100)\n",
    "\n",
    "print(\"Best trial:\")\n",
    "trial = study.best_trial\n",
    "print(f\" Value: {trial.value}\")\n",
    "print(\" Params: \")\n",
    "for key, value in trial.params.items():\n",
    "    print(f\"    {key}: {value}\")"
   ]
  },
  {
   "cell_type": "code",
   "execution_count": null,
   "metadata": {},
   "outputs": [],
   "source": []
  }
 ],
 "metadata": {
  "coursera": {
   "course_slug": "neural-networks-deep-learning",
   "graded_item_id": "TSPse",
   "launcher_item_id": "24mxX"
  },
  "kernelspec": {
   "display_name": "Python 3 (ipykernel)",
   "language": "python",
   "name": "python3"
  },
  "language_info": {
   "codemirror_mode": {
    "name": "ipython",
    "version": 3
   },
   "file_extension": ".py",
   "mimetype": "text/x-python",
   "name": "python",
   "nbconvert_exporter": "python",
   "pygments_lexer": "ipython3",
   "version": "3.11.4"
  }
 },
 "nbformat": 4,
 "nbformat_minor": 2
}
